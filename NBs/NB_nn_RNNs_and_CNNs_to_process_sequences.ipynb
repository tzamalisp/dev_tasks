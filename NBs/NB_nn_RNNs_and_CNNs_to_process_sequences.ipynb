{
 "cells": [
  {
   "cell_type": "markdown",
   "metadata": {},
   "source": [
    "Set Notebook as being at the main project directory"
   ]
  },
  {
   "cell_type": "code",
   "execution_count": 4,
   "metadata": {
    "ExecuteTime": {
     "end_time": "2021-05-28T07:39:05.679413Z",
     "start_time": "2021-05-28T07:39:05.676185Z"
    }
   },
   "outputs": [],
   "source": [
    "import os\n",
    "os.chdir(os.path.join(os.getcwd(), os.pardir))"
   ]
  },
  {
   "cell_type": "markdown",
   "metadata": {},
   "source": [
    "### Load necessary functions"
   ]
  },
  {
   "cell_type": "code",
   "execution_count": 5,
   "metadata": {
    "ExecuteTime": {
     "end_time": "2021-05-28T07:39:09.018574Z",
     "start_time": "2021-05-28T07:39:08.969218Z"
    }
   },
   "outputs": [],
   "source": [
    "from utils.system_checkers import check_system_compatibility"
   ]
  },
  {
   "cell_type": "code",
   "execution_count": 6,
   "metadata": {
    "ExecuteTime": {
     "end_time": "2021-05-28T07:39:45.890047Z",
     "start_time": "2021-05-28T07:39:10.433504Z"
    }
   },
   "outputs": [
    {
     "name": "stdout",
     "output_type": "stream",
     "text": [
      ">> Python is compatible.\n",
      ">> scikit-learn is compatible.\n",
      ">> No GPU is detected. LSTMs and CNNs can be very slow without a GPU. A GPU usage is recommended.\n",
      ">> TensorFlow is compatible.\n"
     ]
    }
   ],
   "source": [
    "check_system_compatibility()"
   ]
  },
  {
   "cell_type": "markdown",
   "metadata": {},
   "source": [
    "### Load configuration"
   ]
  },
  {
   "cell_type": "code",
   "execution_count": 7,
   "metadata": {
    "ExecuteTime": {
     "end_time": "2021-05-28T07:40:20.257503Z",
     "start_time": "2021-05-28T07:40:20.231633Z"
    }
   },
   "outputs": [],
   "source": [
    "from project_configuration.configuration import load_yaml, save_paths"
   ]
  },
  {
   "cell_type": "code",
   "execution_count": 8,
   "metadata": {
    "ExecuteTime": {
     "end_time": "2021-05-28T07:40:22.347199Z",
     "start_time": "2021-05-28T07:40:22.335934Z"
    }
   },
   "outputs": [],
   "source": [
    "# config data (dictionary)\n",
    "config = load_yaml()"
   ]
  },
  {
   "cell_type": "code",
   "execution_count": 9,
   "metadata": {
    "ExecuteTime": {
     "end_time": "2021-05-28T07:40:40.930347Z",
     "start_time": "2021-05-28T07:40:40.927135Z"
    }
   },
   "outputs": [],
   "source": [
    "# saving paths\n",
    "saving_paths = save_paths(config, \"Notebooks/nn_rnns_cnns_to_process_sequences\")"
   ]
  },
  {
   "cell_type": "code",
   "execution_count": null,
   "metadata": {},
   "outputs": [],
   "source": []
  },
  {
   "cell_type": "code",
   "execution_count": null,
   "metadata": {},
   "outputs": [],
   "source": []
  },
  {
   "cell_type": "code",
   "execution_count": null,
   "metadata": {},
   "outputs": [],
   "source": []
  }
 ],
 "metadata": {
  "kernelspec": {
   "display_name": "Python 3",
   "language": "python",
   "name": "python3"
  },
  "language_info": {
   "codemirror_mode": {
    "name": "ipython",
    "version": 3
   },
   "file_extension": ".py",
   "mimetype": "text/x-python",
   "name": "python",
   "nbconvert_exporter": "python",
   "pygments_lexer": "ipython3",
   "version": "3.7.6"
  },
  "toc": {
   "base_numbering": 1,
   "nav_menu": {},
   "number_sections": true,
   "sideBar": true,
   "skip_h1_title": false,
   "title_cell": "Table of Contents",
   "title_sidebar": "Contents",
   "toc_cell": false,
   "toc_position": {},
   "toc_section_display": true,
   "toc_window_display": false
  }
 },
 "nbformat": 4,
 "nbformat_minor": 4
}
