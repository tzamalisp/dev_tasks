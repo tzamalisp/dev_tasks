{
 "cells": [
  {
   "cell_type": "markdown",
   "id": "0ae19893",
   "metadata": {},
   "source": [
    "**Dataset Context:**\n",
    "\n",
    "This dataset is originally from the National Institute of Diabetes and Digestive and Kidney Diseases. The objective of the dataset is to diagnostically predict whether or not a patient has diabetes, based on certain diagnostic measurements included in the dataset. Several constraints were placed on the selection of these instances from a larger database. In particular, all patients here are females at least 21 years old of Pima Indian heritage.\n",
    "Content\n",
    "\n",
    "The dataset consists of several medical predictor variables and one target variable, Outcome. Predictor variables includes the number of pregnancies the patient has had, their BMI, insulin level, age, and so on.\n",
    "\n",
    "Features:\n",
    "- Pregnancies: Number of times pregnant\n",
    "- Glucose: Plasma glucose concentration a 2 hours in an oral glucose tolerance test\n",
    "- BloodPressure: Diastolic blood pressure (mm Hg)\n",
    "- SkinThickness: Triceps skin fold thickness (mm)\n",
    "- Insulin: 2-Hour serum insulin (mu U/ml)\n",
    "- BMI: Body mass index (weight in kg/(height in m)^2)\n",
    "- DiabetesPedigreeFunction: Diabetes pedigree function\n",
    "- Age: Age (years)\n",
    "\n",
    "Label:\n",
    "\n",
    "- Outcome: Class variable (0 or 1) 268 of 768 are 1, the others are 0\n",
    "\n",
    "**References:**\n",
    "\n",
    "- https://www.kaggle.com/uciml/pima-indians-diabetes-database"
   ]
  },
  {
   "cell_type": "code",
   "execution_count": 1,
   "id": "8f4361a9",
   "metadata": {},
   "outputs": [],
   "source": [
    "import os\n",
    "os.chdir(os.path.join(os.getcwd(), os.pardir))"
   ]
  },
  {
   "cell_type": "code",
   "execution_count": 77,
   "id": "29676365",
   "metadata": {},
   "outputs": [],
   "source": [
    "import numpy as np\n",
    "import pandas as pd\n",
    "\n",
    "# To plot pretty figures\n",
    "%matplotlib inline\n",
    "import matplotlib as mpl\n",
    "import matplotlib.pyplot as plt\n",
    "mpl.rc('axes', labelsize=14)\n",
    "mpl.rc('xtick', labelsize=12)\n",
    "mpl.rc('ytick', labelsize=12)\n",
    "\n",
    "# tensorflow and related layers\n",
    "import tensorflow as tf\n",
    "from tensorflow import keras\n",
    "\n",
    "from tensorflow.keras.models import Sequential\n",
    "from tensorflow.keras.layers import Dense\n",
    "from tensorflow.keras.layers import Dropout\n",
    "\n",
    "from tensorflow.keras.wrappers.scikit_learn import KerasClassifier\n",
    "from tensorflow.keras.constraints import MaxNorm\n",
    "\n",
    "from sklearn.model_selection import GridSearchCV\n",
    "\n",
    "# progress status\n",
    "from tqdm.notebook import tqdm\n",
    "\n",
    "# to make this notebook's output stable across runs\n",
    "np.random.seed(42)\n",
    "tf.random.set_seed(42)"
   ]
  },
  {
   "cell_type": "code",
   "execution_count": 3,
   "id": "12906d97",
   "metadata": {},
   "outputs": [],
   "source": [
    "url = \"https://raw.githubusercontent.com/tzamalisp/dev_tasks/master/datasets/pima-indians-diabetes.csv\"\n",
    "data = pd.read_csv(url)"
   ]
  },
  {
   "cell_type": "code",
   "execution_count": 4,
   "id": "9153def2",
   "metadata": {},
   "outputs": [
    {
     "data": {
      "text/html": [
       "<div>\n",
       "<style scoped>\n",
       "    .dataframe tbody tr th:only-of-type {\n",
       "        vertical-align: middle;\n",
       "    }\n",
       "\n",
       "    .dataframe tbody tr th {\n",
       "        vertical-align: top;\n",
       "    }\n",
       "\n",
       "    .dataframe thead th {\n",
       "        text-align: right;\n",
       "    }\n",
       "</style>\n",
       "<table border=\"1\" class=\"dataframe\">\n",
       "  <thead>\n",
       "    <tr style=\"text-align: right;\">\n",
       "      <th></th>\n",
       "      <th>Pregnancies</th>\n",
       "      <th>Glucose</th>\n",
       "      <th>BloodPressure</th>\n",
       "      <th>SkinThickness</th>\n",
       "      <th>Insulin</th>\n",
       "      <th>BMI</th>\n",
       "      <th>DiabetesPedigreeFunction</th>\n",
       "      <th>Age</th>\n",
       "      <th>Outcome</th>\n",
       "    </tr>\n",
       "  </thead>\n",
       "  <tbody>\n",
       "    <tr>\n",
       "      <th>0</th>\n",
       "      <td>6</td>\n",
       "      <td>148</td>\n",
       "      <td>72</td>\n",
       "      <td>35</td>\n",
       "      <td>0</td>\n",
       "      <td>33.6</td>\n",
       "      <td>0.627</td>\n",
       "      <td>50</td>\n",
       "      <td>1</td>\n",
       "    </tr>\n",
       "    <tr>\n",
       "      <th>1</th>\n",
       "      <td>1</td>\n",
       "      <td>85</td>\n",
       "      <td>66</td>\n",
       "      <td>29</td>\n",
       "      <td>0</td>\n",
       "      <td>26.6</td>\n",
       "      <td>0.351</td>\n",
       "      <td>31</td>\n",
       "      <td>0</td>\n",
       "    </tr>\n",
       "    <tr>\n",
       "      <th>2</th>\n",
       "      <td>8</td>\n",
       "      <td>183</td>\n",
       "      <td>64</td>\n",
       "      <td>0</td>\n",
       "      <td>0</td>\n",
       "      <td>23.3</td>\n",
       "      <td>0.672</td>\n",
       "      <td>32</td>\n",
       "      <td>1</td>\n",
       "    </tr>\n",
       "    <tr>\n",
       "      <th>3</th>\n",
       "      <td>1</td>\n",
       "      <td>89</td>\n",
       "      <td>66</td>\n",
       "      <td>23</td>\n",
       "      <td>94</td>\n",
       "      <td>28.1</td>\n",
       "      <td>0.167</td>\n",
       "      <td>21</td>\n",
       "      <td>0</td>\n",
       "    </tr>\n",
       "    <tr>\n",
       "      <th>4</th>\n",
       "      <td>0</td>\n",
       "      <td>137</td>\n",
       "      <td>40</td>\n",
       "      <td>35</td>\n",
       "      <td>168</td>\n",
       "      <td>43.1</td>\n",
       "      <td>2.288</td>\n",
       "      <td>33</td>\n",
       "      <td>1</td>\n",
       "    </tr>\n",
       "  </tbody>\n",
       "</table>\n",
       "</div>"
      ],
      "text/plain": [
       "   Pregnancies  Glucose  BloodPressure  SkinThickness  Insulin   BMI  \\\n",
       "0            6      148             72             35        0  33.6   \n",
       "1            1       85             66             29        0  26.6   \n",
       "2            8      183             64              0        0  23.3   \n",
       "3            1       89             66             23       94  28.1   \n",
       "4            0      137             40             35      168  43.1   \n",
       "\n",
       "   DiabetesPedigreeFunction  Age  Outcome  \n",
       "0                     0.627   50        1  \n",
       "1                     0.351   31        0  \n",
       "2                     0.672   32        1  \n",
       "3                     0.167   21        0  \n",
       "4                     2.288   33        1  "
      ]
     },
     "execution_count": 4,
     "metadata": {},
     "output_type": "execute_result"
    }
   ],
   "source": [
    "data.head()"
   ]
  },
  {
   "cell_type": "markdown",
   "id": "4b27f4fc",
   "metadata": {},
   "source": [
    "## Function to create the model, required for KerasClassifier"
   ]
  },
  {
   "cell_type": "code",
   "execution_count": 5,
   "id": "912c4635",
   "metadata": {},
   "outputs": [],
   "source": [
    "def create_model():\n",
    "    # create model\n",
    "    model = Sequential()\n",
    "    model.add(Dense(12, input_dim=8, activation='relu'))\n",
    "    model.add(Dense(1, activation='sigmoid'))\n",
    "    # Compile model\n",
    "    model.compile(loss='binary_crossentropy', optimizer='adam', metrics=['accuracy'])\n",
    "    return model"
   ]
  },
  {
   "cell_type": "markdown",
   "id": "438cc67e",
   "metadata": {},
   "source": [
    "## Split into features (X) and labels (y) variables"
   ]
  },
  {
   "cell_type": "code",
   "execution_count": 6,
   "id": "fcc08d86",
   "metadata": {},
   "outputs": [
    {
     "data": {
      "text/plain": [
       "Index(['Pregnancies', 'Glucose', 'BloodPressure', 'SkinThickness', 'Insulin',\n",
       "       'BMI', 'DiabetesPedigreeFunction', 'Age', 'Outcome'],\n",
       "      dtype='object')"
      ]
     },
     "execution_count": 6,
     "metadata": {},
     "output_type": "execute_result"
    }
   ],
   "source": [
    "data.columns"
   ]
  },
  {
   "cell_type": "code",
   "execution_count": 7,
   "id": "e5f4cb7e",
   "metadata": {},
   "outputs": [],
   "source": [
    "X = data[[\"Pregnancies\", \"Glucose\", \"BloodPressure\", \"SkinThickness\", \"Insulin\", \n",
    "          \"BMI\", \"DiabetesPedigreeFunction\", \"Age\"]]\n",
    "y = data[\"Outcome\"]"
   ]
  },
  {
   "cell_type": "markdown",
   "id": "b31690b4",
   "metadata": {},
   "source": [
    "## Tune Batch Size and Number of Epochs"
   ]
  },
  {
   "cell_type": "markdown",
   "id": "fe255d8e",
   "metadata": {},
   "source": [
    "### Create the model with the KerasClassifier"
   ]
  },
  {
   "cell_type": "code",
   "execution_count": 8,
   "id": "d35a60e2",
   "metadata": {},
   "outputs": [],
   "source": [
    "clf_params = {\n",
    "    \"validation_split\": 0.2,\n",
    "    \"shuffle\": True,\n",
    "    \"use_multiprocessing\": True,\n",
    "    \"verbose\": 0\n",
    "}"
   ]
  },
  {
   "cell_type": "code",
   "execution_count": 9,
   "id": "e1d207a6",
   "metadata": {},
   "outputs": [],
   "source": [
    "model = KerasClassifier(build_fn=create_model)"
   ]
  },
  {
   "cell_type": "code",
   "execution_count": 10,
   "id": "0648a90a",
   "metadata": {},
   "outputs": [
    {
     "data": {
      "text/plain": [
       "<tensorflow.python.keras.wrappers.scikit_learn.KerasClassifier at 0x7f8ec31f7550>"
      ]
     },
     "execution_count": 10,
     "metadata": {},
     "output_type": "execute_result"
    }
   ],
   "source": [
    "model.set_params(**clf_params)"
   ]
  },
  {
   "cell_type": "code",
   "execution_count": 11,
   "id": "b5608b3c",
   "metadata": {},
   "outputs": [
    {
     "data": {
      "text/plain": [
       "{'validation_split': 0.2,\n",
       " 'shuffle': True,\n",
       " 'use_multiprocessing': True,\n",
       " 'verbose': 0,\n",
       " 'build_fn': <function __main__.create_model()>}"
      ]
     },
     "execution_count": 11,
     "metadata": {},
     "output_type": "execute_result"
    }
   ],
   "source": [
    "model.get_params()"
   ]
  },
  {
   "cell_type": "markdown",
   "id": "c4b0c6a6",
   "metadata": {},
   "source": [
    "### Define the Grid Search parameters"
   ]
  },
  {
   "cell_type": "code",
   "execution_count": 12,
   "id": "7fe6d007",
   "metadata": {},
   "outputs": [],
   "source": [
    "param_grid = {\n",
    "    \"batch_size\": [10, 20, 40, 60, 80, 100],\n",
    "    \"epochs\": [10, 50, 100]\n",
    "}"
   ]
  },
  {
   "cell_type": "markdown",
   "id": "fb19d371",
   "metadata": {},
   "source": [
    "### Initiate and train the Grid Search classifier"
   ]
  },
  {
   "cell_type": "code",
   "execution_count": 13,
   "id": "0288359c",
   "metadata": {},
   "outputs": [],
   "source": [
    "grid = GridSearchCV(estimator=model, param_grid=param_grid, n_jobs=-1, cv=3)"
   ]
  },
  {
   "cell_type": "code",
   "execution_count": 14,
   "id": "fa3b6114",
   "metadata": {},
   "outputs": [],
   "source": [
    "classifier = grid.fit(X, y)"
   ]
  },
  {
   "cell_type": "markdown",
   "id": "7e62c6ec",
   "metadata": {},
   "source": [
    "### Summarize the results"
   ]
  },
  {
   "cell_type": "code",
   "execution_count": 15,
   "id": "394ac841",
   "metadata": {},
   "outputs": [
    {
     "name": "stdout",
     "output_type": "stream",
     "text": [
      "Best accuracy: 0.70\n",
      "Best parameters for training: {'batch_size': 10, 'epochs': 100}\n"
     ]
    }
   ],
   "source": [
    "print(\"Best accuracy: %.2f\" % classifier.best_score_)\n",
    "print(\"Best parameters for training: %s\" % classifier.best_params_)"
   ]
  },
  {
   "cell_type": "code",
   "execution_count": 16,
   "id": "f9f7a2e8",
   "metadata": {},
   "outputs": [],
   "source": [
    "means = classifier.cv_results_['mean_test_score']\n",
    "stds = classifier.cv_results_['std_test_score']\n",
    "params = classifier.cv_results_['params']"
   ]
  },
  {
   "cell_type": "code",
   "execution_count": 17,
   "id": "6aadebd6",
   "metadata": {},
   "outputs": [
    {
     "name": "stdout",
     "output_type": "stream",
     "text": [
      "0.557292 (0.028940) with: {'batch_size': 10, 'epochs': 10}\n",
      "0.644531 (0.019918) with: {'batch_size': 10, 'epochs': 50}\n",
      "0.695312 (0.014616) with: {'batch_size': 10, 'epochs': 100}\n",
      "0.569010 (0.012890) with: {'batch_size': 20, 'epochs': 10}\n",
      "0.673177 (0.051560) with: {'batch_size': 20, 'epochs': 50}\n",
      "0.683594 (0.019401) with: {'batch_size': 20, 'epochs': 100}\n",
      "0.558594 (0.044993) with: {'batch_size': 40, 'epochs': 10}\n",
      "0.645833 (0.017566) with: {'batch_size': 40, 'epochs': 50}\n",
      "0.651042 (0.042473) with: {'batch_size': 40, 'epochs': 100}\n",
      "0.540365 (0.089778) with: {'batch_size': 60, 'epochs': 10}\n",
      "0.657552 (0.023510) with: {'batch_size': 60, 'epochs': 50}\n",
      "0.679688 (0.037603) with: {'batch_size': 60, 'epochs': 100}\n",
      "0.519531 (0.103399) with: {'batch_size': 80, 'epochs': 10}\n",
      "0.595052 (0.033502) with: {'batch_size': 80, 'epochs': 50}\n",
      "0.652344 (0.036782) with: {'batch_size': 80, 'epochs': 100}\n",
      "0.548177 (0.051263) with: {'batch_size': 100, 'epochs': 10}\n",
      "0.621094 (0.014616) with: {'batch_size': 100, 'epochs': 50}\n",
      "0.648438 (0.027621) with: {'batch_size': 100, 'epochs': 100}\n"
     ]
    }
   ],
   "source": [
    "for mean, stdev, param in zip(means, stds, params):\n",
    "    print(\"%f (%f) with: %r\" % (mean, stdev, param))"
   ]
  },
  {
   "cell_type": "markdown",
   "id": "1d99a43c",
   "metadata": {},
   "source": []
  },
  {
   "cell_type": "markdown",
   "id": "5ca73d5e",
   "metadata": {},
   "source": [
    "## Tune the Training Optimization Algorithm\n",
    "\n",
    "Tune the optimization algorithm used to train the network, each with default parameters. Usually, one approach a priori will be chosen and focus will take place on tuning its parameters on the relevant problem, as shown in the next section."
   ]
  },
  {
   "cell_type": "markdown",
   "id": "529f9a5f",
   "metadata": {},
   "source": [
    "Add the `optimizer` argument in order to set the relevant grid parameters on Grid Search:"
   ]
  },
  {
   "cell_type": "code",
   "execution_count": 18,
   "id": "25bed7ce",
   "metadata": {},
   "outputs": [],
   "source": [
    "def create_model(optimizer=\"adam\"):\n",
    "    # create model\n",
    "    model = Sequential()\n",
    "    model.add(Dense(12, input_dim=8, activation='relu'))\n",
    "    model.add(Dense(1, activation='sigmoid'))\n",
    "    # Compile model\n",
    "    model.compile(loss='binary_crossentropy', optimizer=optimizer, metrics=['accuracy'])\n",
    "    return model"
   ]
  },
  {
   "cell_type": "markdown",
   "id": "664776ee",
   "metadata": {},
   "source": [
    "Add the best parameters from the above `fit()` method's hyperparamter tuning:"
   ]
  },
  {
   "cell_type": "code",
   "execution_count": 19,
   "id": "2379f685",
   "metadata": {},
   "outputs": [],
   "source": [
    "clf_params = {\n",
    "    \"epochs\": 100,\n",
    "    \"batch_size\": 10,\n",
    "    \"validation_split\": 0.2,\n",
    "    \"shuffle\": True,\n",
    "    \"use_multiprocessing\": True,\n",
    "    \"verbose\": 0\n",
    "}"
   ]
  },
  {
   "cell_type": "code",
   "execution_count": 20,
   "id": "4f841259",
   "metadata": {},
   "outputs": [],
   "source": [
    "model = KerasClassifier(build_fn=create_model)"
   ]
  },
  {
   "cell_type": "code",
   "execution_count": 21,
   "id": "00918b6d",
   "metadata": {},
   "outputs": [
    {
     "data": {
      "text/plain": [
       "<tensorflow.python.keras.wrappers.scikit_learn.KerasClassifier at 0x7f8f58314e90>"
      ]
     },
     "execution_count": 21,
     "metadata": {},
     "output_type": "execute_result"
    }
   ],
   "source": [
    "model.set_params(**clf_params)"
   ]
  },
  {
   "cell_type": "code",
   "execution_count": 22,
   "id": "25201927",
   "metadata": {},
   "outputs": [
    {
     "data": {
      "text/plain": [
       "{'epochs': 100,\n",
       " 'batch_size': 10,\n",
       " 'validation_split': 0.2,\n",
       " 'shuffle': True,\n",
       " 'use_multiprocessing': True,\n",
       " 'verbose': 0,\n",
       " 'build_fn': <function __main__.create_model(optimizer='adam')>}"
      ]
     },
     "execution_count": 22,
     "metadata": {},
     "output_type": "execute_result"
    }
   ],
   "source": [
    "model.get_params()"
   ]
  },
  {
   "cell_type": "code",
   "execution_count": 24,
   "id": "360b84f3",
   "metadata": {},
   "outputs": [],
   "source": [
    "param_grid = {\n",
    "    \"optimizer\": [\"SGD\", \"RMSprop\", \"Adagrad\", \"Adadelta\", \"Adam\", \"Adamax\", \"Nadam\"]\n",
    "}"
   ]
  },
  {
   "cell_type": "code",
   "execution_count": 25,
   "id": "a8de9241",
   "metadata": {},
   "outputs": [],
   "source": [
    "grid = GridSearchCV(estimator=model, param_grid=param_grid, n_jobs=-1, cv=3)"
   ]
  },
  {
   "cell_type": "code",
   "execution_count": 26,
   "id": "82f40f38",
   "metadata": {},
   "outputs": [],
   "source": [
    "classifier = grid.fit(X, y)"
   ]
  },
  {
   "cell_type": "code",
   "execution_count": 27,
   "id": "91670f21",
   "metadata": {
    "scrolled": true
   },
   "outputs": [
    {
     "name": "stdout",
     "output_type": "stream",
     "text": [
      "Best accuracy: 0.70\n",
      "Best parameters for training: {'optimizer': 'Adam'}\n",
      "\n",
      "Means, STDs, and Parameters for each grid combination:\n",
      "0.665365 (0.038976) with: {'optimizer': 'SGD'}\n",
      "0.695312 (0.014616) with: {'optimizer': 'RMSprop'}\n",
      "0.550781 (0.082741) with: {'optimizer': 'Adagrad'}\n",
      "0.626302 (0.021710) with: {'optimizer': 'Adadelta'}\n",
      "0.703125 (0.038670) with: {'optimizer': 'Adam'}\n",
      "0.682292 (0.027498) with: {'optimizer': 'Adamax'}\n",
      "0.667969 (0.030425) with: {'optimizer': 'Nadam'}\n"
     ]
    }
   ],
   "source": [
    "print(\"Best accuracy: %.2f\" % classifier.best_score_)\n",
    "print(\"Best parameters for training: %s\" % classifier.best_params_)\n",
    "\n",
    "\n",
    "means = classifier.cv_results_['mean_test_score']\n",
    "stds = classifier.cv_results_['std_test_score']\n",
    "params = classifier.cv_results_['params']\n",
    "\n",
    "print()\n",
    "print(\"Means, STDs, and Parameters for each grid combination:\")\n",
    "for mean, stdev, param in zip(means, stds, params):\n",
    "    print(\"%f (%f) with: %r\" % (mean, stdev, param))"
   ]
  },
  {
   "cell_type": "code",
   "execution_count": null,
   "id": "ff08a6e6",
   "metadata": {},
   "outputs": [],
   "source": []
  },
  {
   "cell_type": "markdown",
   "id": "343c854c",
   "metadata": {},
   "source": [
    "## Tune the Learning Rate and Momentum"
   ]
  },
  {
   "cell_type": "markdown",
   "id": "8cbcb01b",
   "metadata": {},
   "source": [
    "**Optimizing the SGD learning rate and momentum parameters.**\n",
    "\n",
    "Learning rate controls how much to update the weight at the end of each batch and the momentum controls how much to let the previous update influence the current weight update.\n",
    "\n",
    "It is a good idea to include the number of epochs in an optimization like this as there is a dependency between the amount of learning per batch (learning rate), the number of updates per epoch (batch size) and the number of epochs."
   ]
  },
  {
   "cell_type": "markdown",
   "id": "3a40b1e4",
   "metadata": {},
   "source": [
    "Add the `learning_rate` and the `momentum` arguments which correspond to the `optimizer`, in order to set the relevant grid parameters on Grid Search:"
   ]
  },
  {
   "cell_type": "code",
   "execution_count": 28,
   "id": "efc8b975",
   "metadata": {},
   "outputs": [],
   "source": [
    "def create_model(learning_rate=0.01, momentum=0):\n",
    "    # create model\n",
    "    model = Sequential()\n",
    "    model.add(Dense(12, input_dim=8, activation='relu'))\n",
    "    model.add(Dense(1, activation='sigmoid'))\n",
    "    # Set the SGD optimizer and Compile the model\n",
    "    optimizer = tf.keras.optimizers.SGD(learning_rate=learning_rate, momentum=momentum)\n",
    "    model.compile(loss='binary_crossentropy', optimizer=optimizer, metrics=['accuracy'])\n",
    "    return model"
   ]
  },
  {
   "cell_type": "markdown",
   "id": "2a3c5747",
   "metadata": {},
   "source": [
    "Add the best parameters from the first `fit()` method's hyperparamter tuning:"
   ]
  },
  {
   "cell_type": "code",
   "execution_count": 29,
   "id": "67eb3d83",
   "metadata": {},
   "outputs": [],
   "source": [
    "clf_params = {\n",
    "    \"epochs\": 100,\n",
    "    \"batch_size\": 10,\n",
    "    \"validation_split\": 0.2,\n",
    "    \"shuffle\": True,\n",
    "    \"use_multiprocessing\": True,\n",
    "    \"verbose\": 0\n",
    "}"
   ]
  },
  {
   "cell_type": "code",
   "execution_count": 30,
   "id": "7b678bbc",
   "metadata": {},
   "outputs": [],
   "source": [
    "model = KerasClassifier(build_fn=create_model)"
   ]
  },
  {
   "cell_type": "code",
   "execution_count": 31,
   "id": "2dec0d0c",
   "metadata": {},
   "outputs": [
    {
     "data": {
      "text/plain": [
       "<tensorflow.python.keras.wrappers.scikit_learn.KerasClassifier at 0x7f8ec3217c90>"
      ]
     },
     "execution_count": 31,
     "metadata": {},
     "output_type": "execute_result"
    }
   ],
   "source": [
    "model.set_params(**clf_params)"
   ]
  },
  {
   "cell_type": "code",
   "execution_count": 32,
   "id": "a4ff3931",
   "metadata": {},
   "outputs": [
    {
     "data": {
      "text/plain": [
       "{'epochs': 100,\n",
       " 'batch_size': 10,\n",
       " 'validation_split': 0.2,\n",
       " 'shuffle': True,\n",
       " 'use_multiprocessing': True,\n",
       " 'verbose': 0,\n",
       " 'build_fn': <function __main__.create_model(learning_rate=0.01, momentum=0)>}"
      ]
     },
     "execution_count": 32,
     "metadata": {},
     "output_type": "execute_result"
    }
   ],
   "source": [
    "model.get_params()"
   ]
  },
  {
   "cell_type": "markdown",
   "id": "1cf244c4",
   "metadata": {},
   "source": [
    "Try a suite of small standard learning rates and a momentum values from 0.2 to 0.8 in steps of 0.2, as well as 0.9 (because it can be a popular value in practice)."
   ]
  },
  {
   "cell_type": "code",
   "execution_count": 34,
   "id": "d2147260",
   "metadata": {},
   "outputs": [],
   "source": [
    "param_grid = {\n",
    "    \"learning_rate\": [0.001, 0.01, 0.1, 0.2, 0.3],\n",
    "    \"momentum\": [0.0, 0.2, 0.4, 0.6, 0.8, 0.9]\n",
    "}"
   ]
  },
  {
   "cell_type": "code",
   "execution_count": 35,
   "id": "7276d511",
   "metadata": {},
   "outputs": [],
   "source": [
    "grid = GridSearchCV(estimator=model, param_grid=param_grid, n_jobs=-1, cv=3)"
   ]
  },
  {
   "cell_type": "code",
   "execution_count": 36,
   "id": "f3530cee",
   "metadata": {},
   "outputs": [],
   "source": [
    "classifier = grid.fit(X, y)"
   ]
  },
  {
   "cell_type": "code",
   "execution_count": 37,
   "id": "b68dc382",
   "metadata": {
    "scrolled": true
   },
   "outputs": [
    {
     "name": "stdout",
     "output_type": "stream",
     "text": [
      "Best accuracy: 0.69\n",
      "Best parameters for training: {'learning_rate': 0.001, 'momentum': 0.0}\n",
      "\n",
      "Means, STDs, and Parameters for each grid combination:\n",
      "0.692708 (0.045814) with: {'learning_rate': 0.001, 'momentum': 0.0}\n",
      "0.683594 (0.029232) with: {'learning_rate': 0.001, 'momentum': 0.2}\n",
      "0.690104 (0.012890) with: {'learning_rate': 0.001, 'momentum': 0.4}\n",
      "0.675781 (0.003189) with: {'learning_rate': 0.001, 'momentum': 0.6}\n",
      "0.684896 (0.022628) with: {'learning_rate': 0.001, 'momentum': 0.8}\n",
      "0.657552 (0.031466) with: {'learning_rate': 0.001, 'momentum': 0.9}\n",
      "0.653646 (0.009207) with: {'learning_rate': 0.01, 'momentum': 0.0}\n",
      "0.653646 (0.028940) with: {'learning_rate': 0.01, 'momentum': 0.2}\n",
      "0.662760 (0.009744) with: {'learning_rate': 0.01, 'momentum': 0.4}\n",
      "0.649740 (0.026557) with: {'learning_rate': 0.01, 'momentum': 0.6}\n",
      "0.651042 (0.024774) with: {'learning_rate': 0.01, 'momentum': 0.8}\n",
      "0.651042 (0.024774) with: {'learning_rate': 0.01, 'momentum': 0.9}\n",
      "0.651042 (0.024774) with: {'learning_rate': 0.1, 'momentum': 0.0}\n",
      "0.651042 (0.024774) with: {'learning_rate': 0.1, 'momentum': 0.2}\n",
      "0.651042 (0.024774) with: {'learning_rate': 0.1, 'momentum': 0.4}\n",
      "0.651042 (0.024774) with: {'learning_rate': 0.1, 'momentum': 0.6}\n",
      "0.651042 (0.024774) with: {'learning_rate': 0.1, 'momentum': 0.8}\n",
      "0.651042 (0.024774) with: {'learning_rate': 0.1, 'momentum': 0.9}\n",
      "0.651042 (0.024774) with: {'learning_rate': 0.2, 'momentum': 0.0}\n",
      "0.651042 (0.024774) with: {'learning_rate': 0.2, 'momentum': 0.2}\n",
      "0.651042 (0.024774) with: {'learning_rate': 0.2, 'momentum': 0.4}\n",
      "0.651042 (0.024774) with: {'learning_rate': 0.2, 'momentum': 0.6}\n",
      "0.651042 (0.024774) with: {'learning_rate': 0.2, 'momentum': 0.8}\n",
      "0.651042 (0.024774) with: {'learning_rate': 0.2, 'momentum': 0.9}\n",
      "0.651042 (0.024774) with: {'learning_rate': 0.3, 'momentum': 0.0}\n",
      "0.651042 (0.024774) with: {'learning_rate': 0.3, 'momentum': 0.2}\n",
      "0.651042 (0.024774) with: {'learning_rate': 0.3, 'momentum': 0.4}\n",
      "0.651042 (0.024774) with: {'learning_rate': 0.3, 'momentum': 0.6}\n",
      "0.651042 (0.024774) with: {'learning_rate': 0.3, 'momentum': 0.8}\n",
      "0.651042 (0.024774) with: {'learning_rate': 0.3, 'momentum': 0.9}\n"
     ]
    }
   ],
   "source": [
    "print(\"Best accuracy: %.2f\" % classifier.best_score_)\n",
    "print(\"Best parameters for training: %s\" % classifier.best_params_)\n",
    "\n",
    "\n",
    "means = classifier.cv_results_['mean_test_score']\n",
    "stds = classifier.cv_results_['std_test_score']\n",
    "params = classifier.cv_results_['params']\n",
    "\n",
    "print()\n",
    "print(\"Means, STDs, and Parameters for each grid combination:\")\n",
    "for mean, stdev, param in zip(means, stds, params):\n",
    "    print(\"%f (%f) with: %r\" % (mean, stdev, param))"
   ]
  },
  {
   "cell_type": "markdown",
   "id": "91e5218d",
   "metadata": {},
   "source": [
    "## Tune the Network Weight Initialization"
   ]
  },
  {
   "cell_type": "markdown",
   "id": "1af916b8",
   "metadata": {},
   "source": [
    "**Use small random values.**\n",
    "\n",
    "Here, the same weight initialization method on each layer is used. Rectifier for the hidden layer is used, and the sigmoid for the output layer because the predictions are binary.\n",
    "\n",
    "Ideally, it may be better to use different weight initialization schemes according to the activation function used on each layer.\n",
    "\n",
    "Check the initializers from the **Keras API**:\n",
    "\n",
    "- https://keras.io/api/layers/initializers/"
   ]
  },
  {
   "cell_type": "markdown",
   "id": "05ed4a05",
   "metadata": {},
   "source": [
    "Add the `initilization_mode` argument in the layers' `kernel_initializer` in order to set the relevant grid parameters on Grid Search:"
   ]
  },
  {
   "cell_type": "code",
   "execution_count": 38,
   "id": "baca8bd3",
   "metadata": {},
   "outputs": [],
   "source": [
    "def create_model(initilization_mode='uniform'):\n",
    "    # create model\n",
    "    model = Sequential()\n",
    "    model.add(Dense(12, input_dim=8, kernel_initializer=initilization_mode, activation='relu'))\n",
    "    model.add(Dense(1, kernel_initializer=initilization_mode, activation='sigmoid'))\n",
    "    # Set the SGD optimizer and Compile the model\n",
    "    model.compile(loss='binary_crossentropy', optimizer='adam', metrics=['accuracy'])\n",
    "    return model"
   ]
  },
  {
   "cell_type": "markdown",
   "id": "e5e5de0e",
   "metadata": {},
   "source": [
    "Add the best parameters from the first `fit()` method's hyperparamter tuning:"
   ]
  },
  {
   "cell_type": "code",
   "execution_count": 39,
   "id": "27b6babf",
   "metadata": {},
   "outputs": [],
   "source": [
    "clf_params = {\n",
    "    \"epochs\": 100,\n",
    "    \"batch_size\": 10,\n",
    "    \"validation_split\": 0.2,\n",
    "    \"shuffle\": True,\n",
    "    \"use_multiprocessing\": True,\n",
    "    \"verbose\": 0\n",
    "}"
   ]
  },
  {
   "cell_type": "code",
   "execution_count": 40,
   "id": "811bd2b1",
   "metadata": {},
   "outputs": [],
   "source": [
    "model = KerasClassifier(build_fn=create_model)"
   ]
  },
  {
   "cell_type": "code",
   "execution_count": 41,
   "id": "5b60745b",
   "metadata": {},
   "outputs": [
    {
     "data": {
      "text/plain": [
       "<tensorflow.python.keras.wrappers.scikit_learn.KerasClassifier at 0x7f90595b49d0>"
      ]
     },
     "execution_count": 41,
     "metadata": {},
     "output_type": "execute_result"
    }
   ],
   "source": [
    "model.set_params(**clf_params)"
   ]
  },
  {
   "cell_type": "code",
   "execution_count": 42,
   "id": "ac8d3828",
   "metadata": {},
   "outputs": [
    {
     "data": {
      "text/plain": [
       "{'epochs': 100,\n",
       " 'batch_size': 10,\n",
       " 'validation_split': 0.2,\n",
       " 'shuffle': True,\n",
       " 'use_multiprocessing': True,\n",
       " 'verbose': 0,\n",
       " 'build_fn': <function __main__.create_model(initilization_mode='uniform')>}"
      ]
     },
     "execution_count": 42,
     "metadata": {},
     "output_type": "execute_result"
    }
   ],
   "source": [
    "model.get_params()"
   ]
  },
  {
   "cell_type": "markdown",
   "id": "b68fa6b5",
   "metadata": {},
   "source": [
    "Set up the various initializers:"
   ]
  },
  {
   "cell_type": "code",
   "execution_count": 43,
   "id": "695aaf4e",
   "metadata": {},
   "outputs": [],
   "source": [
    "param_grid = {\n",
    "    \"initilization_mode\": ['uniform', 'lecun_uniform', 'normal', 'zero', 'glorot_normal', \n",
    "                           'glorot_uniform', 'he_normal', 'he_uniform']\n",
    "}"
   ]
  },
  {
   "cell_type": "code",
   "execution_count": 44,
   "id": "2953cbba",
   "metadata": {},
   "outputs": [],
   "source": [
    "grid = GridSearchCV(estimator=model, param_grid=param_grid, n_jobs=-1, cv=3)"
   ]
  },
  {
   "cell_type": "code",
   "execution_count": 45,
   "id": "067fbf6f",
   "metadata": {},
   "outputs": [],
   "source": [
    "classifier = grid.fit(X, y)"
   ]
  },
  {
   "cell_type": "code",
   "execution_count": 46,
   "id": "789a1e7a",
   "metadata": {
    "scrolled": true
   },
   "outputs": [
    {
     "name": "stdout",
     "output_type": "stream",
     "text": [
      "Best accuracy: 0.72\n",
      "Best parameters for training: {'initilization_mode': 'uniform'}\n",
      "\n",
      "Means, STDs, and Parameters for each grid combination:\n",
      "0.716146 (0.017566) with: {'initilization_mode': 'uniform'}\n",
      "0.678385 (0.046256) with: {'initilization_mode': 'lecun_uniform'}\n",
      "0.710938 (0.006379) with: {'initilization_mode': 'normal'}\n",
      "0.651042 (0.024774) with: {'initilization_mode': 'zero'}\n",
      "0.687500 (0.031894) with: {'initilization_mode': 'glorot_normal'}\n",
      "0.675781 (0.006379) with: {'initilization_mode': 'glorot_uniform'}\n",
      "0.697917 (0.015733) with: {'initilization_mode': 'he_normal'}\n",
      "0.639323 (0.062933) with: {'initilization_mode': 'he_uniform'}\n"
     ]
    }
   ],
   "source": [
    "print(\"Best accuracy: %.2f\" % classifier.best_score_)\n",
    "print(\"Best parameters for training: %s\" % classifier.best_params_)\n",
    "\n",
    "\n",
    "means = classifier.cv_results_['mean_test_score']\n",
    "stds = classifier.cv_results_['std_test_score']\n",
    "params = classifier.cv_results_['params']\n",
    "\n",
    "print()\n",
    "print(\"Means, STDs, and Parameters for each grid combination:\")\n",
    "for mean, stdev, param in zip(means, stds, params):\n",
    "    print(\"%f (%f) with: %r\" % (mean, stdev, param))"
   ]
  },
  {
   "cell_type": "markdown",
   "id": "120c5324",
   "metadata": {},
   "source": [
    "## Tune the Neuron Activation Function\n",
    "\n",
    "Generally, the rectifier activation function is the most popular (which is initialized here), but in the past it used to be the sigmoid and the tanh functions and these functions may still be more suitable for different problems.\n",
    "\n",
    "Evaluate the suite of different activation functions available in Keras. These functions will be only used in the hidden layer, as a sigmoid activation function is required in the output for the binary classification problem.\n",
    "\n",
    "Generally, it is a good idea to prepare data to the range of the different transfer functions, which we will not do in this case.\n",
    "\n",
    "Activation functions in Keras:\n",
    "\n",
    "- https://keras.io/api/layers/activations/"
   ]
  },
  {
   "cell_type": "markdown",
   "id": "b3c5ae6d",
   "metadata": {},
   "source": [
    "Add the `activation` argument in order to set the relevant grid parameters on Grid Search:"
   ]
  },
  {
   "cell_type": "code",
   "execution_count": 47,
   "id": "f35819c5",
   "metadata": {},
   "outputs": [],
   "source": [
    "def create_model(activation='relu'):\n",
    "    # create model\n",
    "    model = Sequential()\n",
    "    model.add(Dense(12, input_dim=8, kernel_initializer='uniform', activation=activation))\n",
    "    model.add(Dense(1, kernel_initializer='uniform', activation='sigmoid'))\n",
    "    # Compile model\n",
    "    model.compile(loss='binary_crossentropy', optimizer='adam', metrics=['accuracy'])\n",
    "    return model"
   ]
  },
  {
   "cell_type": "markdown",
   "id": "49ff66e7",
   "metadata": {},
   "source": [
    "Add the best parameters from the first `fit()` method's hyperparamter tuning:"
   ]
  },
  {
   "cell_type": "code",
   "execution_count": 48,
   "id": "3f31ae85",
   "metadata": {},
   "outputs": [],
   "source": [
    "clf_params = {\n",
    "    \"epochs\": 100,\n",
    "    \"batch_size\": 10,\n",
    "    \"validation_split\": 0.2,\n",
    "    \"shuffle\": True,\n",
    "    \"use_multiprocessing\": True,\n",
    "    \"verbose\": 0\n",
    "}"
   ]
  },
  {
   "cell_type": "code",
   "execution_count": 49,
   "id": "05b23cd7",
   "metadata": {},
   "outputs": [],
   "source": [
    "model = KerasClassifier(build_fn=create_model)"
   ]
  },
  {
   "cell_type": "code",
   "execution_count": 50,
   "id": "cbabbeec",
   "metadata": {},
   "outputs": [
    {
     "data": {
      "text/plain": [
       "<tensorflow.python.keras.wrappers.scikit_learn.KerasClassifier at 0x7f90595ba510>"
      ]
     },
     "execution_count": 50,
     "metadata": {},
     "output_type": "execute_result"
    }
   ],
   "source": [
    "model.set_params(**clf_params)"
   ]
  },
  {
   "cell_type": "code",
   "execution_count": 51,
   "id": "2ee6b1fd",
   "metadata": {},
   "outputs": [
    {
     "data": {
      "text/plain": [
       "{'epochs': 100,\n",
       " 'batch_size': 10,\n",
       " 'validation_split': 0.2,\n",
       " 'shuffle': True,\n",
       " 'use_multiprocessing': True,\n",
       " 'verbose': 0,\n",
       " 'build_fn': <function __main__.create_model(activation='relu')>}"
      ]
     },
     "execution_count": 51,
     "metadata": {},
     "output_type": "execute_result"
    }
   ],
   "source": [
    "model.get_params()"
   ]
  },
  {
   "cell_type": "markdown",
   "id": "75e9577b",
   "metadata": {},
   "source": [
    "Set up the various initializers:"
   ]
  },
  {
   "cell_type": "code",
   "execution_count": 52,
   "id": "5b850a1e",
   "metadata": {},
   "outputs": [],
   "source": [
    "param_grid = {\n",
    "    \"activation\": ['softmax', 'softplus', 'softsign', 'relu', 'tanh', 'sigmoid', 'hard_sigmoid', 'linear']\n",
    "}"
   ]
  },
  {
   "cell_type": "code",
   "execution_count": 53,
   "id": "4d2beaee",
   "metadata": {},
   "outputs": [],
   "source": [
    "grid = GridSearchCV(estimator=model, param_grid=param_grid, n_jobs=-1, cv=3)"
   ]
  },
  {
   "cell_type": "code",
   "execution_count": 54,
   "id": "0a86fb62",
   "metadata": {},
   "outputs": [],
   "source": [
    "classifier = grid.fit(X, y)"
   ]
  },
  {
   "cell_type": "code",
   "execution_count": 55,
   "id": "46640c22",
   "metadata": {
    "scrolled": true
   },
   "outputs": [
    {
     "name": "stdout",
     "output_type": "stream",
     "text": [
      "Best accuracy: 0.74\n",
      "Best parameters for training: {'activation': 'softplus'}\n",
      "\n",
      "Means, STDs, and Parameters for each grid combination:\n",
      "0.680990 (0.021236) with: {'activation': 'softmax'}\n",
      "0.736979 (0.027126) with: {'activation': 'softplus'}\n",
      "0.694010 (0.010253) with: {'activation': 'softsign'}\n",
      "0.713542 (0.009744) with: {'activation': 'relu'}\n",
      "0.694010 (0.019225) with: {'activation': 'tanh'}\n",
      "0.707031 (0.013902) with: {'activation': 'sigmoid'}\n",
      "0.677083 (0.031304) with: {'activation': 'hard_sigmoid'}\n",
      "0.714844 (0.033146) with: {'activation': 'linear'}\n"
     ]
    }
   ],
   "source": [
    "print(\"Best accuracy: %.2f\" % classifier.best_score_)\n",
    "print(\"Best parameters for training: %s\" % classifier.best_params_)\n",
    "\n",
    "\n",
    "means = classifier.cv_results_['mean_test_score']\n",
    "stds = classifier.cv_results_['std_test_score']\n",
    "params = classifier.cv_results_['params']\n",
    "\n",
    "print()\n",
    "print(\"Means, STDs, and Parameters for each grid combination:\")\n",
    "for mean, stdev, param in zip(means, stds, params):\n",
    "    print(\"%f (%f) with: %r\" % (mean, stdev, param))"
   ]
  },
  {
   "cell_type": "markdown",
   "id": "bc6175dd",
   "metadata": {},
   "source": []
  },
  {
   "cell_type": "markdown",
   "id": "25f65690",
   "metadata": {},
   "source": [
    "## Tune the Dropout Regularization\n",
    "\n",
    "Tune dropout in an effort to limit overfitting and improve the model’s ability to generalize. *To get good results, dropout is best combined with a weight constraint such as the max norm constraint.* This involves fitting both the dropout percentage and the weight constraint. \n",
    "\n",
    "Try dropout percentages between 0.0 and 0.9 (1.0 does not make sense) and maxnorm weight constraint values between 0 and 5."
   ]
  },
  {
   "cell_type": "markdown",
   "id": "a5a5ffe5",
   "metadata": {},
   "source": [
    "Add the `dropout_rate` and `weight_constraint` arguments in order to set the relevant grid parameters on Grid Search:"
   ]
  },
  {
   "cell_type": "code",
   "execution_count": 78,
   "id": "e66ce7fd",
   "metadata": {},
   "outputs": [],
   "source": [
    "def create_model(dropout_rate=0.0, weight_constraint=0):\n",
    "    # create model\n",
    "    model = Sequential()\n",
    "    model.add(Dense(12, input_dim=8, kernel_initializer='uniform', activation='linear', \n",
    "                    kernel_constraint=MaxNorm(weight_constraint)))\n",
    "    model.add(Dropout(dropout_rate))\n",
    "    model.add(Dense(1, kernel_initializer='uniform', activation='sigmoid'))\n",
    "    # Compile model\n",
    "    model.compile(loss='binary_crossentropy', optimizer='adam', metrics=['accuracy'])\n",
    "    return model"
   ]
  },
  {
   "cell_type": "markdown",
   "id": "4020753a",
   "metadata": {},
   "source": [
    "Add the best parameters from the first `fit()` method's hyperparamter tuning:"
   ]
  },
  {
   "cell_type": "code",
   "execution_count": 79,
   "id": "b7e3feba",
   "metadata": {},
   "outputs": [],
   "source": [
    "clf_params = {\n",
    "    \"epochs\": 100,\n",
    "    \"batch_size\": 10,\n",
    "    \"validation_split\": 0.2,\n",
    "    \"shuffle\": True,\n",
    "    \"use_multiprocessing\": True,\n",
    "    \"verbose\": 0\n",
    "}"
   ]
  },
  {
   "cell_type": "code",
   "execution_count": 80,
   "id": "03174209",
   "metadata": {},
   "outputs": [],
   "source": [
    "model = KerasClassifier(build_fn=create_model)"
   ]
  },
  {
   "cell_type": "code",
   "execution_count": 81,
   "id": "f4f3421b",
   "metadata": {},
   "outputs": [
    {
     "data": {
      "text/plain": [
       "<tensorflow.python.keras.wrappers.scikit_learn.KerasClassifier at 0x7f8f497aa950>"
      ]
     },
     "execution_count": 81,
     "metadata": {},
     "output_type": "execute_result"
    }
   ],
   "source": [
    "model.set_params(**clf_params)"
   ]
  },
  {
   "cell_type": "code",
   "execution_count": 82,
   "id": "01ce58a3",
   "metadata": {},
   "outputs": [
    {
     "data": {
      "text/plain": [
       "{'epochs': 100,\n",
       " 'batch_size': 10,\n",
       " 'validation_split': 0.2,\n",
       " 'shuffle': True,\n",
       " 'use_multiprocessing': True,\n",
       " 'verbose': 0,\n",
       " 'build_fn': <function __main__.create_model(dropout_rate=0.0, weight_constraint=0)>}"
      ]
     },
     "execution_count": 82,
     "metadata": {},
     "output_type": "execute_result"
    }
   ],
   "source": [
    "model.get_params()"
   ]
  },
  {
   "cell_type": "markdown",
   "id": "d165ac92",
   "metadata": {},
   "source": [
    "Set up the various initializers:"
   ]
  },
  {
   "cell_type": "code",
   "execution_count": 83,
   "id": "c68b2e5c",
   "metadata": {},
   "outputs": [],
   "source": [
    "param_grid = {\n",
    "    \"weight_constraint\": [1, 2, 3, 4, 5],\n",
    "    \"dropout_rate\": [0.0, 0.1, 0.2, 0.3, 0.4, 0.5, 0.6, 0.7, 0.8, 0.9]\n",
    "}"
   ]
  },
  {
   "cell_type": "code",
   "execution_count": 84,
   "id": "6300078f",
   "metadata": {},
   "outputs": [],
   "source": [
    "grid = GridSearchCV(estimator=model, param_grid=param_grid, n_jobs=-1, cv=3)"
   ]
  },
  {
   "cell_type": "code",
   "execution_count": 85,
   "id": "cdf50081",
   "metadata": {},
   "outputs": [],
   "source": [
    "classifier = grid.fit(X, y)"
   ]
  },
  {
   "cell_type": "code",
   "execution_count": 86,
   "id": "8cec7ff0",
   "metadata": {
    "scrolled": true
   },
   "outputs": [
    {
     "name": "stdout",
     "output_type": "stream",
     "text": [
      "Best accuracy: 0.73\n",
      "Best parameters for training: {'dropout_rate': 0.0, 'weight_constraint': 1}\n",
      "\n",
      "Means, STDs, and Parameters for each grid combination:\n",
      "0.731771 (0.013279) with: {'dropout_rate': 0.0, 'weight_constraint': 1}\n",
      "0.727865 (0.018688) with: {'dropout_rate': 0.0, 'weight_constraint': 2}\n",
      "0.695312 (0.027251) with: {'dropout_rate': 0.0, 'weight_constraint': 3}\n",
      "0.717448 (0.008027) with: {'dropout_rate': 0.0, 'weight_constraint': 4}\n",
      "0.716146 (0.032578) with: {'dropout_rate': 0.0, 'weight_constraint': 5}\n",
      "0.699219 (0.008438) with: {'dropout_rate': 0.1, 'weight_constraint': 1}\n",
      "0.712240 (0.013279) with: {'dropout_rate': 0.1, 'weight_constraint': 2}\n",
      "0.720052 (0.017566) with: {'dropout_rate': 0.1, 'weight_constraint': 3}\n",
      "0.710938 (0.008438) with: {'dropout_rate': 0.1, 'weight_constraint': 4}\n",
      "0.699219 (0.017758) with: {'dropout_rate': 0.1, 'weight_constraint': 5}\n",
      "0.696615 (0.012075) with: {'dropout_rate': 0.2, 'weight_constraint': 1}\n",
      "0.713542 (0.010253) with: {'dropout_rate': 0.2, 'weight_constraint': 2}\n",
      "0.716146 (0.009207) with: {'dropout_rate': 0.2, 'weight_constraint': 3}\n",
      "0.705729 (0.032264) with: {'dropout_rate': 0.2, 'weight_constraint': 4}\n",
      "0.710938 (0.015947) with: {'dropout_rate': 0.2, 'weight_constraint': 5}\n",
      "0.731771 (0.014382) with: {'dropout_rate': 0.3, 'weight_constraint': 1}\n",
      "0.707031 (0.014616) with: {'dropout_rate': 0.3, 'weight_constraint': 2}\n",
      "0.710938 (0.005524) with: {'dropout_rate': 0.3, 'weight_constraint': 3}\n",
      "0.720052 (0.032106) with: {'dropout_rate': 0.3, 'weight_constraint': 4}\n",
      "0.717448 (0.025582) with: {'dropout_rate': 0.3, 'weight_constraint': 5}\n",
      "0.713542 (0.012075) with: {'dropout_rate': 0.4, 'weight_constraint': 1}\n",
      "0.710938 (0.009568) with: {'dropout_rate': 0.4, 'weight_constraint': 2}\n",
      "0.731771 (0.019488) with: {'dropout_rate': 0.4, 'weight_constraint': 3}\n",
      "0.677083 (0.027498) with: {'dropout_rate': 0.4, 'weight_constraint': 4}\n",
      "0.718750 (0.009568) with: {'dropout_rate': 0.4, 'weight_constraint': 5}\n",
      "0.700521 (0.025976) with: {'dropout_rate': 0.5, 'weight_constraint': 1}\n",
      "0.717448 (0.012075) with: {'dropout_rate': 0.5, 'weight_constraint': 2}\n",
      "0.699219 (0.012758) with: {'dropout_rate': 0.5, 'weight_constraint': 3}\n",
      "0.700521 (0.022402) with: {'dropout_rate': 0.5, 'weight_constraint': 4}\n",
      "0.686198 (0.019225) with: {'dropout_rate': 0.5, 'weight_constraint': 5}\n",
      "0.705729 (0.012890) with: {'dropout_rate': 0.6, 'weight_constraint': 1}\n",
      "0.710938 (0.013902) with: {'dropout_rate': 0.6, 'weight_constraint': 2}\n",
      "0.721354 (0.014382) with: {'dropout_rate': 0.6, 'weight_constraint': 3}\n",
      "0.718750 (0.020915) with: {'dropout_rate': 0.6, 'weight_constraint': 4}\n",
      "0.714844 (0.016573) with: {'dropout_rate': 0.6, 'weight_constraint': 5}\n",
      "0.699219 (0.022326) with: {'dropout_rate': 0.7, 'weight_constraint': 1}\n",
      "0.704427 (0.023073) with: {'dropout_rate': 0.7, 'weight_constraint': 2}\n",
      "0.695312 (0.022097) with: {'dropout_rate': 0.7, 'weight_constraint': 3}\n",
      "0.707031 (0.011500) with: {'dropout_rate': 0.7, 'weight_constraint': 4}\n",
      "0.709635 (0.012890) with: {'dropout_rate': 0.7, 'weight_constraint': 5}\n",
      "0.704427 (0.028940) with: {'dropout_rate': 0.8, 'weight_constraint': 1}\n",
      "0.695312 (0.019401) with: {'dropout_rate': 0.8, 'weight_constraint': 2}\n",
      "0.691406 (0.022326) with: {'dropout_rate': 0.8, 'weight_constraint': 3}\n",
      "0.691406 (0.019918) with: {'dropout_rate': 0.8, 'weight_constraint': 4}\n",
      "0.682292 (0.016053) with: {'dropout_rate': 0.8, 'weight_constraint': 5}\n",
      "0.677083 (0.022402) with: {'dropout_rate': 0.9, 'weight_constraint': 1}\n",
      "0.678385 (0.018688) with: {'dropout_rate': 0.9, 'weight_constraint': 2}\n",
      "0.679688 (0.027621) with: {'dropout_rate': 0.9, 'weight_constraint': 3}\n",
      "0.679688 (0.020915) with: {'dropout_rate': 0.9, 'weight_constraint': 4}\n",
      "0.657552 (0.031466) with: {'dropout_rate': 0.9, 'weight_constraint': 5}\n"
     ]
    }
   ],
   "source": [
    "print(\"Best accuracy: %.2f\" % classifier.best_score_)\n",
    "print(\"Best parameters for training: %s\" % classifier.best_params_)\n",
    "\n",
    "\n",
    "means = classifier.cv_results_['mean_test_score']\n",
    "stds = classifier.cv_results_['std_test_score']\n",
    "params = classifier.cv_results_['params']\n",
    "\n",
    "print()\n",
    "print(\"Means, STDs, and Parameters for each grid combination:\")\n",
    "for mean, stdev, param in zip(means, stds, params):\n",
    "    print(\"%f (%f) with: %r\" % (mean, stdev, param))"
   ]
  },
  {
   "cell_type": "markdown",
   "id": "3ce7658f",
   "metadata": {},
   "source": [
    "## Tune the Number of Neurons in the Hidden Layer\n",
    "\n",
    "**Tuning the number of neurons in a single hidden layer.**\n",
    "\n",
    "The number of neurons in a layer is an important parameter to tune. Generally, the number of neurons in a layer controls the representational capacity of the network, at least at that point in the topology. Also, a large enough single layer network could approximate any other neural network.\n",
    "\n",
    "A larger network requires more training and at least the batch size and number of epochs should ideally be optimized with the number of neurons."
   ]
  },
  {
   "cell_type": "markdown",
   "id": "30d2f229",
   "metadata": {},
   "source": [
    "Add the `neurons` argument in order to set the relevant grid parameters on Grid Search:"
   ]
  },
  {
   "cell_type": "code",
   "execution_count": 87,
   "id": "d14652a3",
   "metadata": {},
   "outputs": [],
   "source": [
    "def create_model(neurons=1):\n",
    "    # create model\n",
    "    model = Sequential()\n",
    "    model.add(Dense(neurons, input_dim=8, kernel_initializer='uniform', activation='linear', \n",
    "                    kernel_constraint=MaxNorm(4)))\n",
    "    model.add(Dropout(0.2))\n",
    "    model.add(Dense(1, kernel_initializer='uniform', activation='sigmoid'))\n",
    "    # Compile model\n",
    "    model.compile(loss='binary_crossentropy', optimizer='adam', metrics=['accuracy'])\n",
    "    return model"
   ]
  },
  {
   "cell_type": "markdown",
   "id": "f2f22590",
   "metadata": {},
   "source": [
    "Add the best parameters from the first `fit()` method's hyperparamter tuning:"
   ]
  },
  {
   "cell_type": "code",
   "execution_count": 88,
   "id": "0a57c3e5",
   "metadata": {},
   "outputs": [],
   "source": [
    "clf_params = {\n",
    "    \"epochs\": 100,\n",
    "    \"batch_size\": 10,\n",
    "    \"validation_split\": 0.2,\n",
    "    \"shuffle\": True,\n",
    "    \"use_multiprocessing\": True,\n",
    "    \"verbose\": 0\n",
    "}"
   ]
  },
  {
   "cell_type": "code",
   "execution_count": 89,
   "id": "440e0286",
   "metadata": {},
   "outputs": [],
   "source": [
    "model = KerasClassifier(build_fn=create_model)"
   ]
  },
  {
   "cell_type": "code",
   "execution_count": 90,
   "id": "45bc871b",
   "metadata": {},
   "outputs": [
    {
     "data": {
      "text/plain": [
       "<tensorflow.python.keras.wrappers.scikit_learn.KerasClassifier at 0x7f8f583096d0>"
      ]
     },
     "execution_count": 90,
     "metadata": {},
     "output_type": "execute_result"
    }
   ],
   "source": [
    "model.set_params(**clf_params)"
   ]
  },
  {
   "cell_type": "code",
   "execution_count": 91,
   "id": "e54544ac",
   "metadata": {},
   "outputs": [
    {
     "data": {
      "text/plain": [
       "{'epochs': 100,\n",
       " 'batch_size': 10,\n",
       " 'validation_split': 0.2,\n",
       " 'shuffle': True,\n",
       " 'use_multiprocessing': True,\n",
       " 'verbose': 0,\n",
       " 'build_fn': <function __main__.create_model(neurons=1)>}"
      ]
     },
     "execution_count": 91,
     "metadata": {},
     "output_type": "execute_result"
    }
   ],
   "source": [
    "model.get_params()"
   ]
  },
  {
   "cell_type": "markdown",
   "id": "e57c607f",
   "metadata": {},
   "source": [
    "Set up the values from 1 to 30 in steps of 5:"
   ]
  },
  {
   "cell_type": "code",
   "execution_count": 92,
   "id": "b0c3a2c6",
   "metadata": {},
   "outputs": [],
   "source": [
    "param_grid = {\n",
    "    \"neurons\": [1, 5, 10, 15, 20, 25, 30]\n",
    "}"
   ]
  },
  {
   "cell_type": "code",
   "execution_count": 93,
   "id": "d1a4f36e",
   "metadata": {},
   "outputs": [],
   "source": [
    "grid = GridSearchCV(estimator=model, param_grid=param_grid, n_jobs=-1, cv=3)"
   ]
  },
  {
   "cell_type": "code",
   "execution_count": 94,
   "id": "b75c535f",
   "metadata": {},
   "outputs": [],
   "source": [
    "classifier = grid.fit(X, y)"
   ]
  },
  {
   "cell_type": "code",
   "execution_count": 95,
   "id": "559b2110",
   "metadata": {
    "scrolled": true
   },
   "outputs": [
    {
     "name": "stdout",
     "output_type": "stream",
     "text": [
      "Best accuracy: 0.72\n",
      "Best parameters for training: {'neurons': 15}\n",
      "\n",
      "Means, STDs, and Parameters for each grid combination:\n",
      "0.695312 (0.019401) with: {'neurons': 1}\n",
      "0.720052 (0.033197) with: {'neurons': 5}\n",
      "0.699219 (0.011049) with: {'neurons': 10}\n",
      "0.722656 (0.027805) with: {'neurons': 15}\n",
      "0.690104 (0.014382) with: {'neurons': 20}\n",
      "0.714844 (0.006379) with: {'neurons': 25}\n",
      "0.713542 (0.004872) with: {'neurons': 30}\n"
     ]
    }
   ],
   "source": [
    "print(\"Best accuracy: %.2f\" % classifier.best_score_)\n",
    "print(\"Best parameters for training: %s\" % classifier.best_params_)\n",
    "\n",
    "\n",
    "means = classifier.cv_results_['mean_test_score']\n",
    "stds = classifier.cv_results_['std_test_score']\n",
    "params = classifier.cv_results_['params']\n",
    "\n",
    "print()\n",
    "print(\"Means, STDs, and Parameters for each grid combination:\")\n",
    "for mean, stdev, param in zip(means, stds, params):\n",
    "    print(\"%f (%f) with: %r\" % (mean, stdev, param))"
   ]
  },
  {
   "cell_type": "code",
   "execution_count": null,
   "id": "c66a0f1a",
   "metadata": {},
   "outputs": [],
   "source": []
  }
 ],
 "metadata": {
  "kernelspec": {
   "display_name": "ml",
   "language": "python",
   "name": "ml"
  },
  "language_info": {
   "codemirror_mode": {
    "name": "ipython",
    "version": 3
   },
   "file_extension": ".py",
   "mimetype": "text/x-python",
   "name": "python",
   "nbconvert_exporter": "python",
   "pygments_lexer": "ipython3",
   "version": "3.7.10"
  }
 },
 "nbformat": 4,
 "nbformat_minor": 5
}
