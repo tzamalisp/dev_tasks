{
 "cells": [
  {
   "cell_type": "markdown",
   "metadata": {},
   "source": [
    "Set Notebook as being at the main project directory because Notebook cannot load functions when being in subdirectories."
   ]
  },
  {
   "cell_type": "code",
   "execution_count": 1,
   "metadata": {
    "ExecuteTime": {
     "end_time": "2021-05-31T11:00:22.553618Z",
     "start_time": "2021-05-31T11:00:22.548156Z"
    }
   },
   "outputs": [
    {
     "name": "stdout",
     "output_type": "stream",
     "text": [
      "/Users/pantelistzamalis/Desktop/python/LAB/dev_tasks/NBs/..\n"
     ]
    }
   ],
   "source": [
    "import os\n",
    "print(os.path.join(os.getcwd(), os.pardir))\n",
    "os.chdir(os.path.join(os.getcwd(), os.pardir))"
   ]
  },
  {
   "cell_type": "markdown",
   "metadata": {},
   "source": [
    "# Load necessary functions"
   ]
  },
  {
   "cell_type": "code",
   "execution_count": 2,
   "metadata": {
    "ExecuteTime": {
     "end_time": "2021-05-31T11:00:22.583052Z",
     "start_time": "2021-05-31T11:00:22.556984Z"
    }
   },
   "outputs": [],
   "source": [
    "%load_ext autoreload\n",
    "%autoreload 2"
   ]
  },
  {
   "cell_type": "code",
   "execution_count": 3,
   "metadata": {
    "ExecuteTime": {
     "end_time": "2021-05-31T11:00:22.606310Z",
     "start_time": "2021-05-31T11:00:22.585896Z"
    }
   },
   "outputs": [],
   "source": [
    "from tasks.utils.system_checkers import check_system_compatibility"
   ]
  },
  {
   "cell_type": "code",
   "execution_count": 4,
   "metadata": {
    "ExecuteTime": {
     "end_time": "2021-05-31T11:00:27.218209Z",
     "start_time": "2021-05-31T11:00:22.608413Z"
    }
   },
   "outputs": [
    {
     "name": "stdout",
     "output_type": "stream",
     "text": [
      ">> Python is compatible.\n",
      ">> scikit-learn is compatible.\n",
      ">> No GPU is detected. LSTMs and CNNs can be very slow without a GPU. A GPU usage is recommended.\n",
      ">> TensorFlow is compatible.\n"
     ]
    }
   ],
   "source": [
    "check_system_compatibility()"
   ]
  },
  {
   "cell_type": "code",
   "execution_count": 5,
   "metadata": {
    "ExecuteTime": {
     "end_time": "2021-05-31T11:00:27.490477Z",
     "start_time": "2021-05-31T11:00:27.220812Z"
    }
   },
   "outputs": [],
   "source": [
    "import matplotlib.pyplot as plt\n",
    "import matplotlib as mpl\n",
    "import numpy as np\n",
    "import pandas as pd\n",
    "import tensorflow as tf\n",
    "from tensorflow import keras\n",
    "\n",
    "# plot figures in a pretty way\n",
    "%matplotlib inline"
   ]
  },
  {
   "cell_type": "code",
   "execution_count": 6,
   "metadata": {
    "ExecuteTime": {
     "end_time": "2021-05-31T11:00:27.552888Z",
     "start_time": "2021-05-31T11:00:27.492729Z"
    }
   },
   "outputs": [],
   "source": [
    "from tasks.utils.files_saving import save_fig"
   ]
  },
  {
   "cell_type": "markdown",
   "metadata": {},
   "source": [
    "## Load configuration"
   ]
  },
  {
   "cell_type": "code",
   "execution_count": 7,
   "metadata": {
    "ExecuteTime": {
     "end_time": "2021-05-31T11:00:27.618036Z",
     "start_time": "2021-05-31T11:00:27.557716Z"
    }
   },
   "outputs": [],
   "source": [
    "from tasks.project_configuration.configuration import config_data, save_paths"
   ]
  },
  {
   "cell_type": "code",
   "execution_count": 8,
   "metadata": {
    "ExecuteTime": {
     "end_time": "2021-05-31T11:00:27.683986Z",
     "start_time": "2021-05-31T11:00:27.621708Z"
    }
   },
   "outputs": [
    {
     "name": "stdout",
     "output_type": "stream",
     "text": [
      "/Users/pantelistzamalis/Desktop/python/LAB/dev_tasks/tasks/project_configuration\n"
     ]
    }
   ],
   "source": [
    "# config data (dictionary)\n",
    "config = config_data()"
   ]
  },
  {
   "cell_type": "code",
   "execution_count": 9,
   "metadata": {
    "ExecuteTime": {
     "end_time": "2021-05-31T11:00:27.748648Z",
     "start_time": "2021-05-31T11:00:27.686231Z"
    }
   },
   "outputs": [
    {
     "data": {
      "text/plain": [
       "{'path_app_saving': None,\n",
       " 'images': 'images',\n",
       " 'verbose': 0,\n",
       " 'epochs': 10,\n",
       " 'batch_size': 32,\n",
       " 'repeats': 10}"
      ]
     },
     "execution_count": 9,
     "metadata": {},
     "output_type": "execute_result"
    }
   ],
   "source": [
    "config"
   ]
  },
  {
   "cell_type": "code",
   "execution_count": 10,
   "metadata": {
    "ExecuteTime": {
     "end_time": "2021-05-31T11:00:27.811920Z",
     "start_time": "2021-05-31T11:00:27.751316Z"
    }
   },
   "outputs": [],
   "source": [
    "# saving paths\n",
    "saving_paths = save_paths(config, \"Notebooks/nn_rnns_cnns_to_process_sequences\")"
   ]
  },
  {
   "cell_type": "markdown",
   "metadata": {},
   "source": [
    "# RNNs"
   ]
  },
  {
   "cell_type": "markdown",
   "metadata": {},
   "source": [
    "To have the same results at any run of the project"
   ]
  },
  {
   "cell_type": "code",
   "execution_count": 12,
   "metadata": {
    "ExecuteTime": {
     "end_time": "2021-05-31T11:00:27.937789Z",
     "start_time": "2021-05-31T11:00:27.877933Z"
    }
   },
   "outputs": [],
   "source": [
    "np.random.seed(42)\n",
    "tf.random.set_seed(42)"
   ]
  },
  {
   "cell_type": "markdown",
   "metadata": {},
   "source": [
    "## Generate the data"
   ]
  },
  {
   "cell_type": "code",
   "execution_count": 13,
   "metadata": {
    "ExecuteTime": {
     "end_time": "2021-05-31T11:00:28.001120Z",
     "start_time": "2021-05-31T11:00:27.939982Z"
    }
   },
   "outputs": [],
   "source": [
    "batch_size = 5\n",
    "freq1, freq2, offsets1, offsets2 = np.random.rand(4, batch_size, 1)"
   ]
  },
  {
   "cell_type": "code",
   "execution_count": 14,
   "metadata": {
    "ExecuteTime": {
     "end_time": "2021-05-31T11:00:28.065771Z",
     "start_time": "2021-05-31T11:00:28.003533Z"
    }
   },
   "outputs": [
    {
     "name": "stdout",
     "output_type": "stream",
     "text": [
      "[[0.37454012]\n",
      " [0.95071431]\n",
      " [0.73199394]\n",
      " [0.59865848]\n",
      " [0.15601864]]\n",
      "[[0.15599452]\n",
      " [0.05808361]\n",
      " [0.86617615]\n",
      " [0.60111501]\n",
      " [0.70807258]]\n",
      "[[0.02058449]\n",
      " [0.96990985]\n",
      " [0.83244264]\n",
      " [0.21233911]\n",
      " [0.18182497]]\n",
      "[[0.18340451]\n",
      " [0.30424224]\n",
      " [0.52475643]\n",
      " [0.43194502]\n",
      " [0.29122914]]\n"
     ]
    }
   ],
   "source": [
    "print(freq1)\n",
    "print(freq2)\n",
    "print(offsets1)\n",
    "print(offsets2)"
   ]
  },
  {
   "cell_type": "code",
   "execution_count": 15,
   "metadata": {
    "ExecuteTime": {
     "end_time": "2021-05-31T11:00:28.129889Z",
     "start_time": "2021-05-31T11:00:28.068545Z"
    }
   },
   "outputs": [
    {
     "name": "stdout",
     "output_type": "stream",
     "text": [
      "[0.         0.33333333 0.66666667 1.        ]\n"
     ]
    }
   ],
   "source": [
    "n_steps = 4\n",
    "time = np.linspace(0, 1, n_steps)\n",
    "print(time)"
   ]
  },
  {
   "cell_type": "code",
   "execution_count": 16,
   "metadata": {
    "ExecuteTime": {
     "end_time": "2021-05-31T11:00:28.194583Z",
     "start_time": "2021-05-31T11:00:28.132269Z"
    }
   },
   "outputs": [],
   "source": [
    "def generate_time_series(batch_size, n_steps):\n",
    "    freq1, freq2, offsets1, offsets2 = np.random.rand(4, batch_size, 1)\n",
    "    time = np.linspace(0, 1, n_steps)\n",
    "    series = 0.5 * np.sin((time - offsets1) * (freq1 * 10 + 10))  #   wave 1\n",
    "    series += 0.2 * np.sin((time - offsets2) * (freq2 * 20 + 20)) # + wave 2\n",
    "    series += 0.1 * (np.random.rand(batch_size, n_steps) - 0.5)   # + noise\n",
    "    return series[..., np.newaxis].astype(np.float32)"
   ]
  },
  {
   "cell_type": "markdown",
   "metadata": {},
   "source": [
    "### Create the data"
   ]
  },
  {
   "cell_type": "code",
   "execution_count": 17,
   "metadata": {
    "ExecuteTime": {
     "end_time": "2021-05-31T11:00:28.286501Z",
     "start_time": "2021-05-31T11:00:28.196699Z"
    }
   },
   "outputs": [],
   "source": [
    "n_steps = 50\n",
    "series = generate_time_series(10000, n_steps + 1)"
   ]
  },
  {
   "cell_type": "markdown",
   "metadata": {},
   "source": [
    "### Train / Test split"
   ]
  },
  {
   "cell_type": "code",
   "execution_count": 18,
   "metadata": {
    "ExecuteTime": {
     "end_time": "2021-05-31T11:00:28.349339Z",
     "start_time": "2021-05-31T11:00:28.288687Z"
    }
   },
   "outputs": [],
   "source": [
    "X_train, y_train = series[:7000, :n_steps], series[:7000, -1]\n",
    "X_valid, y_valid = series[7000:9000, :n_steps], series[7000:9000, -1]\n",
    "X_test, y_test = series[9000:, :n_steps], series[9000:, -1]"
   ]
  },
  {
   "cell_type": "code",
   "execution_count": 19,
   "metadata": {
    "ExecuteTime": {
     "end_time": "2021-05-31T11:00:28.412877Z",
     "start_time": "2021-05-31T11:00:28.351651Z"
    }
   },
   "outputs": [
    {
     "data": {
      "text/plain": [
       "((7000, 50, 1), (7000, 1))"
      ]
     },
     "execution_count": 19,
     "metadata": {},
     "output_type": "execute_result"
    }
   ],
   "source": [
    "X_train.shape, y_train.shape"
   ]
  },
  {
   "cell_type": "code",
   "execution_count": null,
   "metadata": {},
   "outputs": [],
   "source": [
    "X_valid.shape, y_valid.shape"
   ]
  },
  {
   "cell_type": "code",
   "execution_count": 20,
   "metadata": {
    "ExecuteTime": {
     "end_time": "2021-05-31T11:00:28.476948Z",
     "start_time": "2021-05-31T11:00:28.415294Z"
    }
   },
   "outputs": [
    {
     "data": {
      "text/plain": [
       "((1000, 50, 1), (1000, 1))"
      ]
     },
     "execution_count": 20,
     "metadata": {},
     "output_type": "execute_result"
    }
   ],
   "source": [
    "X_test.shape, y_test.shape"
   ]
  },
  {
   "cell_type": "markdown",
   "metadata": {},
   "source": [
    "## Plot the data"
   ]
  },
  {
   "cell_type": "code",
   "execution_count": 21,
   "metadata": {
    "ExecuteTime": {
     "end_time": "2021-05-31T11:00:28.539846Z",
     "start_time": "2021-05-31T11:00:28.479727Z"
    }
   },
   "outputs": [],
   "source": [
    "from tasks.time_series.visualization import plot_series"
   ]
  },
  {
   "cell_type": "code",
   "execution_count": 22,
   "metadata": {
    "ExecuteTime": {
     "end_time": "2021-05-31T11:00:29.683828Z",
     "start_time": "2021-05-31T11:00:28.548610Z"
    }
   },
   "outputs": [
    {
     "name": "stdout",
     "output_type": "stream",
     "text": [
      "Saving figure time_series_plot\n"
     ]
    },
    {
     "data": {
      "image/png": "[encoded data removed]",
      "text/plain": [
       "<Figure size 864x288 with 3 Axes>"
      ]
     },
     "metadata": {
      "needs_background": "light"
     },
     "output_type": "display_data"
    }
   ],
   "source": [
    "fig, axes = plt.subplots(nrows=1, ncols=3, sharey=True, figsize=(12, 4))\n",
    "\n",
    "for col in range(3):\n",
    "    plt.sca(axes[col])\n",
    "    plot_series(n_steps, X_valid[col, :, 0], y_valid[col, 0], y_label=(\"$x(t)$\" if col==0 else None))\n",
    "\n",
    "save_fig(saving_paths[\"path_images\"], \"time_series_plot\")\n",
    "plt.show()"
   ]
  },
  {
   "cell_type": "markdown",
   "metadata": {},
   "source": [
    "## Computing Predictions using some baseline metrics"
   ]
  },
  {
   "cell_type": "code",
   "execution_count": 23,
   "metadata": {
    "ExecuteTime": {
     "end_time": "2021-05-31T11:00:29.752945Z",
     "start_time": "2021-05-31T11:00:29.689856Z"
    }
   },
   "outputs": [],
   "source": [
    "from tasks.nn.visualization import plot_learning_curves"
   ]
  },
  {
   "cell_type": "markdown",
   "metadata": {},
   "source": [
    "### Naive Forecasting: Predictions based on `mean`"
   ]
  },
  {
   "cell_type": "code",
   "execution_count": 24,
   "metadata": {
    "ExecuteTime": {
     "end_time": "2021-05-31T11:00:29.834673Z",
     "start_time": "2021-05-31T11:00:29.755171Z"
    }
   },
   "outputs": [
    {
     "data": {
      "text/plain": [
       "0.02083657"
      ]
     },
     "execution_count": 24,
     "metadata": {},
     "output_type": "execute_result"
    }
   ],
   "source": [
    "y_pred = X_valid[:, -1]\n",
    "np.mean(keras.losses.mean_squared_error(y_valid, y_pred))"
   ]
  },
  {
   "cell_type": "code",
   "execution_count": 25,
   "metadata": {
    "ExecuteTime": {
     "end_time": "2021-05-31T11:00:30.064347Z",
     "start_time": "2021-05-31T11:00:29.836793Z"
    }
   },
   "outputs": [
    {
     "data": {
      "image/png": "[encoded data removed]",
      "text/plain": [
       "<Figure size 432x288 with 1 Axes>"
      ]
     },
     "metadata": {
      "needs_background": "light"
     },
     "output_type": "display_data"
    }
   ],
   "source": [
    "plot_series(n_steps, X_valid[0, :, 0], y_valid[0, 0], y_pred[0, 0])\n",
    "plt.show()"
   ]
  },
  {
   "cell_type": "markdown",
   "metadata": {},
   "source": [
    "### Linear Regression Model: predictions with a Simple NN (Perceptron)"
   ]
  },
  {
   "cell_type": "code",
   "execution_count": 26,
   "metadata": {
    "ExecuteTime": {
     "end_time": "2021-05-31T11:00:34.177713Z",
     "start_time": "2021-05-31T11:00:30.066944Z"
    }
   },
   "outputs": [
    {
     "name": "stdout",
     "output_type": "stream",
     "text": [
      "Epoch 1/20\n",
      "219/219 [==============================] - 0s 1ms/step - loss: 0.1005 - val_loss: 0.0554\n",
      "Epoch 2/20\n",
      "219/219 [==============================] - 0s 789us/step - loss: 0.0387 - val_loss: 0.0272\n",
      "Epoch 3/20\n",
      "219/219 [==============================] - 0s 820us/step - loss: 0.0206 - val_loss: 0.0160\n",
      "Epoch 4/20\n",
      "219/219 [==============================] - 0s 793us/step - loss: 0.0134 - val_loss: 0.0119\n",
      "Epoch 5/20\n",
      "219/219 [==============================] - 0s 822us/step - loss: 0.0105 - val_loss: 0.0100\n",
      "Epoch 6/20\n",
      "219/219 [==============================] - 0s 792us/step - loss: 0.0090 - val_loss: 0.0089\n",
      "Epoch 7/20\n",
      "219/219 [==============================] - 0s 783us/step - loss: 0.0080 - val_loss: 0.0081\n",
      "Epoch 8/20\n",
      "219/219 [==============================] - 0s 776us/step - loss: 0.0073 - val_loss: 0.0073\n",
      "Epoch 9/20\n",
      "219/219 [==============================] - 0s 790us/step - loss: 0.0067 - val_loss: 0.0067\n",
      "Epoch 10/20\n",
      "219/219 [==============================] - 0s 780us/step - loss: 0.0061 - val_loss: 0.0063\n",
      "Epoch 11/20\n",
      "219/219 [==============================] - 0s 780us/step - loss: 0.0057 - val_loss: 0.0059\n",
      "Epoch 12/20\n",
      "219/219 [==============================] - 0s 777us/step - loss: 0.0054 - val_loss: 0.0055\n",
      "Epoch 13/20\n",
      "219/219 [==============================] - 0s 779us/step - loss: 0.0051 - val_loss: 0.0052\n",
      "Epoch 14/20\n",
      "219/219 [==============================] - 0s 783us/step - loss: 0.0049 - val_loss: 0.0050\n",
      "Epoch 15/20\n",
      "219/219 [==============================] - 0s 777us/step - loss: 0.0047 - val_loss: 0.0050\n",
      "Epoch 16/20\n",
      "219/219 [==============================] - 0s 794us/step - loss: 0.0046 - val_loss: 0.0047\n",
      "Epoch 17/20\n",
      "219/219 [==============================] - 0s 786us/step - loss: 0.0045 - val_loss: 0.0046\n",
      "Epoch 18/20\n",
      "219/219 [==============================] - 0s 785us/step - loss: 0.0043 - val_loss: 0.0045\n",
      "Epoch 19/20\n",
      "219/219 [==============================] - 0s 781us/step - loss: 0.0042 - val_loss: 0.0043\n",
      "Epoch 20/20\n",
      "219/219 [==============================] - 0s 784us/step - loss: 0.0041 - val_loss: 0.0042\n"
     ]
    }
   ],
   "source": [
    "model = keras.models.Sequential([\n",
    "    keras.layers.Flatten(input_shape=[50, 1]),\n",
    "    keras.layers.Dense(1)\n",
    "])\n",
    "\n",
    "model.compile(loss=\"mse\", optimizer=\"adam\")\n",
    "history = model.fit(X_train, y_train, epochs=20, validation_data=(X_valid, y_valid))"
   ]
  },
  {
   "cell_type": "code",
   "execution_count": 27,
   "metadata": {
    "ExecuteTime": {
     "end_time": "2021-05-31T11:00:34.316056Z",
     "start_time": "2021-05-31T11:00:34.179852Z"
    }
   },
   "outputs": [
    {
     "name": "stdout",
     "output_type": "stream",
     "text": [
      "63/63 [==============================] - 0s 539us/step - loss: 0.0042\n"
     ]
    },
    {
     "data": {
      "text/plain": [
       "0.0042119454592466354"
      ]
     },
     "execution_count": 27,
     "metadata": {},
     "output_type": "execute_result"
    }
   ],
   "source": [
    "model.evaluate(X_valid, y_valid)"
   ]
  },
  {
   "cell_type": "code",
   "execution_count": 28,
   "metadata": {
    "ExecuteTime": {
     "end_time": "2021-05-31T11:00:34.540391Z",
     "start_time": "2021-05-31T11:00:34.318165Z"
    }
   },
   "outputs": [
    {
     "data": {
      "image/png": "[encoded data removed]",
      "text/plain": [
       "<Figure size 432x288 with 1 Axes>"
      ]
     },
     "metadata": {
      "needs_background": "light"
     },
     "output_type": "display_data"
    }
   ],
   "source": [
    "plot_learning_curves(history.history[\"loss\"], history.history[\"val_loss\"])\n",
    "plt.show()"
   ]
  },
  {
   "cell_type": "code",
   "execution_count": 29,
   "metadata": {
    "ExecuteTime": {
     "end_time": "2021-05-31T11:00:34.872501Z",
     "start_time": "2021-05-31T11:00:34.542416Z"
    }
   },
   "outputs": [
    {
     "data": {
      "image/png": "[encoded data removed]",
      "text/plain": [
       "<Figure size 432x288 with 1 Axes>"
      ]
     },
     "metadata": {
      "needs_background": "light"
     },
     "output_type": "display_data"
    }
   ],
   "source": [
    "y_pred = model.predict(X_valid)\n",
    "plot_series(n_steps, X_valid[0, :, 0], y_valid[0, 0], y_pred[0, 0])\n",
    "plt.show()"
   ]
  },
  {
   "cell_type": "markdown",
   "metadata": {},
   "source": [
    "### Predictions with a simple RNN"
   ]
  },
  {
   "cell_type": "code",
   "execution_count": 30,
   "metadata": {
    "ExecuteTime": {
     "end_time": "2021-05-31T11:01:07.226393Z",
     "start_time": "2021-05-31T11:00:34.874816Z"
    }
   },
   "outputs": [
    {
     "name": "stdout",
     "output_type": "stream",
     "text": [
      "Epoch 1/20\n",
      "219/219 [==============================] - 2s 8ms/step - loss: 0.0300 - val_loss: 0.0130\n",
      "Epoch 2/20\n",
      "219/219 [==============================] - 2s 7ms/step - loss: 0.0121 - val_loss: 0.0119\n",
      "Epoch 3/20\n",
      "219/219 [==============================] - 2s 7ms/step - loss: 0.0117 - val_loss: 0.0116\n",
      "Epoch 4/20\n",
      "219/219 [==============================] - 2s 7ms/step - loss: 0.0115 - val_loss: 0.0116\n",
      "Epoch 5/20\n",
      "219/219 [==============================] - 2s 8ms/step - loss: 0.0115 - val_loss: 0.0115\n",
      "Epoch 6/20\n",
      "219/219 [==============================] - 2s 8ms/step - loss: 0.0115 - val_loss: 0.0115\n",
      "Epoch 7/20\n",
      "219/219 [==============================] - 2s 8ms/step - loss: 0.0115 - val_loss: 0.0115\n",
      "Epoch 8/20\n",
      "219/219 [==============================] - 2s 7ms/step - loss: 0.0115 - val_loss: 0.0116\n",
      "Epoch 9/20\n",
      "219/219 [==============================] - 2s 8ms/step - loss: 0.0114 - val_loss: 0.0115\n",
      "Epoch 10/20\n",
      "219/219 [==============================] - 2s 7ms/step - loss: 0.0115 - val_loss: 0.0116\n",
      "Epoch 11/20\n",
      "219/219 [==============================] - 2s 7ms/step - loss: 0.0115 - val_loss: 0.0115\n",
      "Epoch 12/20\n",
      "219/219 [==============================] - 2s 7ms/step - loss: 0.0115 - val_loss: 0.0115\n",
      "Epoch 13/20\n",
      "219/219 [==============================] - 2s 7ms/step - loss: 0.0115 - val_loss: 0.0115\n",
      "Epoch 14/20\n",
      "219/219 [==============================] - 2s 7ms/step - loss: 0.0115 - val_loss: 0.0115\n",
      "Epoch 15/20\n",
      "219/219 [==============================] - 2s 7ms/step - loss: 0.0115 - val_loss: 0.0116\n",
      "Epoch 16/20\n",
      "219/219 [==============================] - 1s 6ms/step - loss: 0.0115 - val_loss: 0.0115\n",
      "Epoch 17/20\n",
      "219/219 [==============================] - 1s 6ms/step - loss: 0.0115 - val_loss: 0.0115\n",
      "Epoch 18/20\n",
      "219/219 [==============================] - 1s 6ms/step - loss: 0.0115 - val_loss: 0.0116\n",
      "Epoch 19/20\n",
      "219/219 [==============================] - 1s 6ms/step - loss: 0.0115 - val_loss: 0.0115\n",
      "Epoch 20/20\n",
      "219/219 [==============================] - 2s 8ms/step - loss: 0.0115 - val_loss: 0.0115\n"
     ]
    }
   ],
   "source": [
    "model = keras.models.Sequential([\n",
    "    keras.layers.SimpleRNN(1, input_shape=[None, 1])\n",
    "])\n",
    "\n",
    "optimizer = keras.optimizers.Adam(learning_rate=0.005)\n",
    "model.compile(loss=\"mse\", optimizer=optimizer)\n",
    "history = model.fit(X_train, y_train, epochs=20,\n",
    "                    validation_data=(X_valid, y_valid))"
   ]
  },
  {
   "cell_type": "code",
   "execution_count": 31,
   "metadata": {
    "ExecuteTime": {
     "end_time": "2021-05-31T11:01:07.463765Z",
     "start_time": "2021-05-31T11:01:07.228773Z"
    }
   },
   "outputs": [
    {
     "name": "stdout",
     "output_type": "stream",
     "text": [
      "63/63 [==============================] - 0s 2ms/step - loss: 0.0115\n"
     ]
    },
    {
     "data": {
      "text/plain": [
       "0.011475719511508942"
      ]
     },
     "execution_count": 31,
     "metadata": {},
     "output_type": "execute_result"
    }
   ],
   "source": [
    "model.evaluate(X_valid, y_valid)"
   ]
  },
  {
   "cell_type": "code",
   "execution_count": 32,
   "metadata": {
    "ExecuteTime": {
     "end_time": "2021-05-31T11:01:07.694242Z",
     "start_time": "2021-05-31T11:01:07.465841Z"
    }
   },
   "outputs": [
    {
     "data": {
      "image/png": "[encoded data removed]",
      "text/plain": [
       "<Figure size 432x288 with 1 Axes>"
      ]
     },
     "metadata": {
      "needs_background": "light"
     },
     "output_type": "display_data"
    }
   ],
   "source": [
    "plot_learning_curves(history.history[\"loss\"], history.history[\"val_loss\"])\n",
    "plt.show()"
   ]
  },
  {
   "cell_type": "code",
   "execution_count": 33,
   "metadata": {
    "ExecuteTime": {
     "end_time": "2021-05-31T11:01:08.244505Z",
     "start_time": "2021-05-31T11:01:07.696714Z"
    }
   },
   "outputs": [
    {
     "data": {
      "image/png": "[encoded data removed]",
      "text/plain": [
       "<Figure size 432x288 with 1 Axes>"
      ]
     },
     "metadata": {
      "needs_background": "light"
     },
     "output_type": "display_data"
    }
   ],
   "source": [
    "y_pred = model.predict(X_valid)\n",
    "plot_series(n_steps, X_valid[0, :, 0], y_valid[0, 0], y_pred[0, 0])\n",
    "plt.show()"
   ]
  },
  {
   "cell_type": "markdown",
   "metadata": {},
   "source": [
    "## Predictions with Deep RNNs"
   ]
  },
  {
   "cell_type": "code",
   "execution_count": 34,
   "metadata": {
    "ExecuteTime": {
     "end_time": "2021-05-31T11:03:07.400450Z",
     "start_time": "2021-05-31T11:01:08.247650Z"
    }
   },
   "outputs": [
    {
     "name": "stdout",
     "output_type": "stream",
     "text": [
      "Epoch 1/20\n",
      "219/219 [==============================] - 8s 36ms/step - loss: 0.0179 - val_loss: 0.0054\n",
      "Epoch 2/20\n",
      "219/219 [==============================] - 8s 36ms/step - loss: 0.0042 - val_loss: 0.0038\n",
      "Epoch 3/20\n",
      "219/219 [==============================] - 8s 37ms/step - loss: 0.0034 - val_loss: 0.0033\n",
      "Epoch 4/20\n",
      "219/219 [==============================] - 7s 31ms/step - loss: 0.0032 - val_loss: 0.0032\n",
      "Epoch 5/20\n",
      "219/219 [==============================] - 6s 28ms/step - loss: 0.0031 - val_loss: 0.0031\n",
      "Epoch 6/20\n",
      "219/219 [==============================] - 6s 28ms/step - loss: 0.0031 - val_loss: 0.0032\n",
      "Epoch 7/20\n",
      "219/219 [==============================] - 6s 27ms/step - loss: 0.0029 - val_loss: 0.0031\n",
      "Epoch 8/20\n",
      "219/219 [==============================] - 6s 26ms/step - loss: 0.0029 - val_loss: 0.0036\n",
      "Epoch 9/20\n",
      "219/219 [==============================] - 5s 25ms/step - loss: 0.0029 - val_loss: 0.0028\n",
      "Epoch 10/20\n",
      "219/219 [==============================] - 6s 26ms/step - loss: 0.0029 - val_loss: 0.0030\n",
      "Epoch 11/20\n",
      "219/219 [==============================] - 5s 25ms/step - loss: 0.0029 - val_loss: 0.0030\n",
      "Epoch 12/20\n",
      "219/219 [==============================] - 5s 23ms/step - loss: 0.0029 - val_loss: 0.0029\n",
      "Epoch 13/20\n",
      "219/219 [==============================] - 5s 24ms/step - loss: 0.0028 - val_loss: 0.0031\n",
      "Epoch 14/20\n",
      "219/219 [==============================] - 5s 23ms/step - loss: 0.0028 - val_loss: 0.0027\n",
      "Epoch 15/20\n",
      "219/219 [==============================] - 5s 23ms/step - loss: 0.0029 - val_loss: 0.0030\n",
      "Epoch 16/20\n",
      "219/219 [==============================] - 5s 23ms/step - loss: 0.0028 - val_loss: 0.0031\n",
      "Epoch 17/20\n",
      "219/219 [==============================] - 5s 23ms/step - loss: 0.0028 - val_loss: 0.0028\n",
      "Epoch 18/20\n",
      "219/219 [==============================] - 5s 23ms/step - loss: 0.0028 - val_loss: 0.0029\n",
      "Epoch 19/20\n",
      "219/219 [==============================] - 5s 23ms/step - loss: 0.0028 - val_loss: 0.0027\n",
      "Epoch 20/20\n",
      "219/219 [==============================] - 5s 23ms/step - loss: 0.0028 - val_loss: 0.0027\n"
     ]
    }
   ],
   "source": [
    "model = keras.models.Sequential([\n",
    "    keras.layers.SimpleRNN(20, return_sequences=True, input_shape=[None, 1]),\n",
    "    keras.layers.SimpleRNN(20, return_sequences=True),\n",
    "    keras.layers.SimpleRNN(1)\n",
    "])\n",
    "\n",
    "model.compile(loss=\"mse\", optimizer=\"adam\")\n",
    "history = model.fit(X_train, y_train, epochs=20,\n",
    "                    validation_data=(X_valid, y_valid))"
   ]
  },
  {
   "cell_type": "code",
   "execution_count": 35,
   "metadata": {
    "ExecuteTime": {
     "end_time": "2021-05-31T11:03:07.888598Z",
     "start_time": "2021-05-31T11:03:07.402454Z"
    }
   },
   "outputs": [
    {
     "name": "stdout",
     "output_type": "stream",
     "text": [
      "63/63 [==============================] - 0s 6ms/step - loss: 0.0027\n"
     ]
    },
    {
     "data": {
      "text/plain": [
       "0.0027276030741631985"
      ]
     },
     "execution_count": 35,
     "metadata": {},
     "output_type": "execute_result"
    }
   ],
   "source": [
    "model.evaluate(X_valid, y_valid)"
   ]
  },
  {
   "cell_type": "code",
   "execution_count": 36,
   "metadata": {
    "ExecuteTime": {
     "end_time": "2021-05-31T11:03:08.105725Z",
     "start_time": "2021-05-31T11:03:07.890816Z"
    }
   },
   "outputs": [
    {
     "data": {
      "image/png": "[encoded data removed]",
      "text/plain": [
       "<Figure size 432x288 with 1 Axes>"
      ]
     },
     "metadata": {
      "needs_background": "light"
     },
     "output_type": "display_data"
    }
   ],
   "source": [
    "plot_learning_curves(history.history[\"loss\"], history.history[\"val_loss\"])\n",
    "plt.show()"
   ]
  },
  {
   "cell_type": "code",
   "execution_count": 37,
   "metadata": {
    "ExecuteTime": {
     "end_time": "2021-05-31T11:03:09.001421Z",
     "start_time": "2021-05-31T11:03:08.107846Z"
    }
   },
   "outputs": [
    {
     "data": {
      "image/png": "[encoded data removed]",
      "text/plain": [
       "<Figure size 432x288 with 1 Axes>"
      ]
     },
     "metadata": {
      "needs_background": "light"
     },
     "output_type": "display_data"
    }
   ],
   "source": [
    "y_pred = model.predict(X_valid)\n",
    "plot_series(n_steps, X_valid[0, :, 0], y_valid[0, 0], y_pred[0, 0])\n",
    "plt.show()"
   ]
  },
  {
   "cell_type": "markdown",
   "metadata": {},
   "source": [
    "**Make the second SimpleRNN layer return only the last output:**"
   ]
  },
  {
   "cell_type": "code",
   "execution_count": 38,
   "metadata": {
    "ExecuteTime": {
     "end_time": "2021-05-31T11:04:22.430299Z",
     "start_time": "2021-05-31T11:03:09.003762Z"
    }
   },
   "outputs": [
    {
     "name": "stdout",
     "output_type": "stream",
     "text": [
      "Epoch 1/20\n",
      "219/219 [==============================] - 4s 18ms/step - loss: 0.0874 - val_loss: 0.0087\n",
      "Epoch 2/20\n",
      "219/219 [==============================] - 4s 17ms/step - loss: 0.0061 - val_loss: 0.0045\n",
      "Epoch 3/20\n",
      "219/219 [==============================] - 4s 17ms/step - loss: 0.0041 - val_loss: 0.0037\n",
      "Epoch 4/20\n",
      "219/219 [==============================] - 4s 17ms/step - loss: 0.0034 - val_loss: 0.0035\n",
      "Epoch 5/20\n",
      "219/219 [==============================] - 4s 17ms/step - loss: 0.0031 - val_loss: 0.0031\n",
      "Epoch 6/20\n",
      "219/219 [==============================] - 4s 17ms/step - loss: 0.0030 - val_loss: 0.0030\n",
      "Epoch 7/20\n",
      "219/219 [==============================] - 4s 18ms/step - loss: 0.0029 - val_loss: 0.0031\n",
      "Epoch 8/20\n",
      "219/219 [==============================] - 4s 16ms/step - loss: 0.0029 - val_loss: 0.0029\n",
      "Epoch 9/20\n",
      "219/219 [==============================] - 3s 16ms/step - loss: 0.0029 - val_loss: 0.0029\n",
      "Epoch 10/20\n",
      "219/219 [==============================] - 3s 16ms/step - loss: 0.0028 - val_loss: 0.0029\n",
      "Epoch 11/20\n",
      "219/219 [==============================] - 3s 16ms/step - loss: 0.0028 - val_loss: 0.0030\n",
      "Epoch 12/20\n",
      "219/219 [==============================] - 3s 16ms/step - loss: 0.0028 - val_loss: 0.0027\n",
      "Epoch 13/20\n",
      "219/219 [==============================] - 3s 16ms/step - loss: 0.0028 - val_loss: 0.0028\n",
      "Epoch 14/20\n",
      "219/219 [==============================] - 4s 16ms/step - loss: 0.0028 - val_loss: 0.0027\n",
      "Epoch 15/20\n",
      "219/219 [==============================] - 4s 16ms/step - loss: 0.0029 - val_loss: 0.0028\n",
      "Epoch 16/20\n",
      "219/219 [==============================] - 3s 16ms/step - loss: 0.0027 - val_loss: 0.0031\n",
      "Epoch 17/20\n",
      "219/219 [==============================] - 3s 16ms/step - loss: 0.0028 - val_loss: 0.0027\n",
      "Epoch 18/20\n",
      "219/219 [==============================] - 4s 16ms/step - loss: 0.0027 - val_loss: 0.0028\n",
      "Epoch 19/20\n",
      "219/219 [==============================] - 3s 16ms/step - loss: 0.0028 - val_loss: 0.0026\n",
      "Epoch 20/20\n",
      "219/219 [==============================] - 4s 17ms/step - loss: 0.0027 - val_loss: 0.0026\n"
     ]
    }
   ],
   "source": [
    "model = keras.models.Sequential([\n",
    "    keras.layers.SimpleRNN(20, return_sequences=True, input_shape=[None, 1]),\n",
    "    keras.layers.SimpleRNN(20),\n",
    "    keras.layers.Dense(1)\n",
    "])\n",
    "\n",
    "model.compile(loss=\"mse\", optimizer=\"adam\")\n",
    "history = model.fit(X_train, y_train, epochs=20, validation_data=(X_valid, y_valid))"
   ]
  },
  {
   "cell_type": "code",
   "execution_count": 39,
   "metadata": {
    "ExecuteTime": {
     "end_time": "2021-05-31T11:04:22.808159Z",
     "start_time": "2021-05-31T11:04:22.432202Z"
    }
   },
   "outputs": [
    {
     "name": "stdout",
     "output_type": "stream",
     "text": [
      "63/63 [==============================] - 0s 4ms/step - loss: 0.0026\n"
     ]
    },
    {
     "data": {
      "text/plain": [
       "0.0026478508953005075"
      ]
     },
     "execution_count": 39,
     "metadata": {},
     "output_type": "execute_result"
    }
   ],
   "source": [
    "model.evaluate(X_valid, y_valid)"
   ]
  },
  {
   "cell_type": "code",
   "execution_count": 40,
   "metadata": {
    "ExecuteTime": {
     "end_time": "2021-05-31T11:04:23.027544Z",
     "start_time": "2021-05-31T11:04:22.810379Z"
    }
   },
   "outputs": [
    {
     "data": {
      "image/png": "[encoded data removed]",
      "text/plain": [
       "<Figure size 432x288 with 1 Axes>"
      ]
     },
     "metadata": {
      "needs_background": "light"
     },
     "output_type": "display_data"
    }
   ],
   "source": [
    "plot_learning_curves(history.history[\"loss\"], history.history[\"val_loss\"])\n",
    "plt.show()"
   ]
  },
  {
   "cell_type": "code",
   "execution_count": 41,
   "metadata": {
    "ExecuteTime": {
     "end_time": "2021-05-31T11:04:23.816391Z",
     "start_time": "2021-05-31T11:04:23.029839Z"
    }
   },
   "outputs": [
    {
     "data": {
      "image/png": "[encoded data removed]",
      "text/plain": [
       "<Figure size 432x288 with 1 Axes>"
      ]
     },
     "metadata": {
      "needs_background": "light"
     },
     "output_type": "display_data"
    }
   ],
   "source": [
    "y_pred = model.predict(X_valid)\n",
    "plot_series(n_steps, X_valid[0, :, 0], y_valid[0, 0], y_pred[0, 0])\n",
    "plt.show()"
   ]
  },
  {
   "cell_type": "markdown",
   "metadata": {},
   "source": [
    "## Forecasting Several Steps Ahead"
   ]
  },
  {
   "cell_type": "markdown",
   "metadata": {},
   "source": [
    "Change the `seed` to *3* because 42 would give the first series produced above in the train set"
   ]
  },
  {
   "cell_type": "code",
   "execution_count": 42,
   "metadata": {
    "ExecuteTime": {
     "end_time": "2021-05-31T11:04:23.885362Z",
     "start_time": "2021-05-31T11:04:23.818609Z"
    }
   },
   "outputs": [],
   "source": [
    "np.random.seed(43)"
   ]
  },
  {
   "cell_type": "code",
   "execution_count": 43,
   "metadata": {
    "ExecuteTime": {
     "end_time": "2021-05-31T11:04:24.343541Z",
     "start_time": "2021-05-31T11:04:23.887541Z"
    }
   },
   "outputs": [],
   "source": [
    "series = generate_time_series(1, n_steps + 10)\n",
    "X_new, Y_new = series[:, :n_steps], series[:, n_steps:]\n",
    "X = X_new\n",
    "for step_ahead in range(10):\n",
    "    y_pred_one = model.predict(X[:, step_ahead:])[:, np.newaxis, :]\n",
    "    X = np.concatenate([X, y_pred_one], axis=1)\n",
    "\n",
    "Y_pred = X[:, n_steps:]"
   ]
  },
  {
   "cell_type": "code",
   "execution_count": 44,
   "metadata": {
    "ExecuteTime": {
     "end_time": "2021-05-31T11:04:24.406327Z",
     "start_time": "2021-05-31T11:04:24.345808Z"
    }
   },
   "outputs": [
    {
     "data": {
      "text/plain": [
       "(1, 10, 1)"
      ]
     },
     "execution_count": 44,
     "metadata": {},
     "output_type": "execute_result"
    }
   ],
   "source": [
    "Y_pred.shape"
   ]
  },
  {
   "cell_type": "code",
   "execution_count": 45,
   "metadata": {
    "ExecuteTime": {
     "end_time": "2021-05-31T11:04:24.476443Z",
     "start_time": "2021-05-31T11:04:24.408867Z"
    }
   },
   "outputs": [],
   "source": [
    "def plot_multiple_forecasts(X, Y, Y_pred):\n",
    "    n_steps = X.shape[1]\n",
    "    ahead = Y.shape[1]\n",
    "    plot_series(n_steps, X[0, :, 0])\n",
    "    plt.plot(np.arange(n_steps, n_steps + ahead), Y[0, :, 0], \"ro-\", label=\"Actual\")\n",
    "    plt.plot(np.arange(n_steps, n_steps + ahead), Y_pred[0, :, 0], \"bx-\", label=\"Forecast\", markersize=10)\n",
    "    plt.axis([0, n_steps + ahead, -1, 1])\n",
    "    plt.legend(fontsize=14)"
   ]
  },
  {
   "cell_type": "code",
   "execution_count": 46,
   "metadata": {
    "ExecuteTime": {
     "end_time": "2021-05-31T11:04:25.005922Z",
     "start_time": "2021-05-31T11:04:24.479023Z"
    }
   },
   "outputs": [
    {
     "name": "stdout",
     "output_type": "stream",
     "text": [
      "Saving figure forecast_ahead_plot\n"
     ]
    },
    {
     "data": {
      "image/png": "[encoded data removed]",
      "text/plain": [
       "<Figure size 432x288 with 1 Axes>"
      ]
     },
     "metadata": {
      "needs_background": "light"
     },
     "output_type": "display_data"
    }
   ],
   "source": [
    "plot_multiple_forecasts(X_new, Y_new, Y_pred)\n",
    "save_fig(saving_paths[\"path_images\"], \"forecast_ahead_plot\")\n",
    "plt.show()"
   ]
  },
  {
   "cell_type": "markdown",
   "metadata": {},
   "source": [
    "### Use this model to predict the next 10 values, but first I regenerate the sequences with 9 more time steps"
   ]
  },
  {
   "cell_type": "code",
   "execution_count": 47,
   "metadata": {
    "ExecuteTime": {
     "end_time": "2021-05-31T11:04:25.072826Z",
     "start_time": "2021-05-31T11:04:25.008298Z"
    }
   },
   "outputs": [],
   "source": [
    "np.random.seed(42)  # back to the previous time series\n",
    "n_steps = 50"
   ]
  },
  {
   "cell_type": "code",
   "execution_count": 48,
   "metadata": {
    "ExecuteTime": {
     "end_time": "2021-05-31T11:04:25.172075Z",
     "start_time": "2021-05-31T11:04:25.075110Z"
    }
   },
   "outputs": [],
   "source": [
    "series = generate_time_series(10000, n_steps + 10)\n",
    "X_train, Y_train = series[:7000, :n_steps], series[:7000, -10:, 0]\n",
    "X_valid, Y_valid = series[7000:9000, :n_steps], series[7000:9000, -10:, 0]\n",
    "X_test, Y_test = series[9000:, :n_steps], series[9000:, -10:, 0]"
   ]
  },
  {
   "cell_type": "markdown",
   "metadata": {},
   "source": [
    "### Predict the next 10 values one by one"
   ]
  },
  {
   "cell_type": "code",
   "execution_count": 49,
   "metadata": {
    "ExecuteTime": {
     "end_time": "2021-05-31T11:04:29.280768Z",
     "start_time": "2021-05-31T11:04:25.174186Z"
    }
   },
   "outputs": [],
   "source": [
    "X = X_valid\n",
    "for step_ahead in range(10):\n",
    "    y_pred_one = model.predict(X)[:, np.newaxis, :]\n",
    "    X = np.concatenate([X, y_pred_one], axis=1)\n",
    "\n",
    "Y_pred = X[:, n_steps:, 0]"
   ]
  },
  {
   "cell_type": "code",
   "execution_count": 50,
   "metadata": {
    "ExecuteTime": {
     "end_time": "2021-05-31T11:04:29.349424Z",
     "start_time": "2021-05-31T11:04:29.283103Z"
    }
   },
   "outputs": [
    {
     "data": {
      "text/plain": [
       "(2000, 10)"
      ]
     },
     "execution_count": 50,
     "metadata": {},
     "output_type": "execute_result"
    }
   ],
   "source": [
    "Y_pred.shape"
   ]
  },
  {
   "cell_type": "code",
   "execution_count": 51,
   "metadata": {
    "ExecuteTime": {
     "end_time": "2021-05-31T11:04:29.420859Z",
     "start_time": "2021-05-31T11:04:29.352739Z"
    }
   },
   "outputs": [
    {
     "data": {
      "text/plain": [
       "0.022961315"
      ]
     },
     "execution_count": 51,
     "metadata": {},
     "output_type": "execute_result"
    }
   ],
   "source": [
    "np.mean(keras.metrics.mean_squared_error(Y_valid, Y_pred))"
   ]
  },
  {
   "cell_type": "markdown",
   "metadata": {},
   "source": [
    "### Compare this performance with some baselines: naive predictions and a simple linear model"
   ]
  },
  {
   "cell_type": "code",
   "execution_count": 52,
   "metadata": {
    "ExecuteTime": {
     "end_time": "2021-05-31T11:04:29.491377Z",
     "start_time": "2021-05-31T11:04:29.422907Z"
    }
   },
   "outputs": [
    {
     "data": {
      "text/plain": [
       "0.25697407"
      ]
     },
     "execution_count": 52,
     "metadata": {},
     "output_type": "execute_result"
    }
   ],
   "source": [
    "Y_naive_pred = np.tile(X_valid[:, -1], 10) # take the last time step value, and repeat it 10 times\n",
    "np.mean(keras.metrics.mean_squared_error(Y_valid, Y_naive_pred))"
   ]
  },
  {
   "cell_type": "code",
   "execution_count": 53,
   "metadata": {
    "ExecuteTime": {
     "end_time": "2021-05-31T11:04:33.953485Z",
     "start_time": "2021-05-31T11:04:29.494210Z"
    }
   },
   "outputs": [
    {
     "name": "stdout",
     "output_type": "stream",
     "text": [
      "Epoch 1/20\n",
      "219/219 [==============================] - 0s 1ms/step - loss: 0.1272 - val_loss: 0.0648\n",
      "Epoch 2/20\n",
      "219/219 [==============================] - 0s 916us/step - loss: 0.0529 - val_loss: 0.0462\n",
      "Epoch 3/20\n",
      "219/219 [==============================] - 0s 921us/step - loss: 0.0410 - val_loss: 0.0380\n",
      "Epoch 4/20\n",
      "219/219 [==============================] - 0s 914us/step - loss: 0.0352 - val_loss: 0.0333\n",
      "Epoch 5/20\n",
      "219/219 [==============================] - 0s 888us/step - loss: 0.0315 - val_loss: 0.0301\n",
      "Epoch 6/20\n",
      "219/219 [==============================] - 0s 904us/step - loss: 0.0288 - val_loss: 0.0279\n",
      "Epoch 7/20\n",
      "219/219 [==============================] - 0s 873us/step - loss: 0.0270 - val_loss: 0.0261\n",
      "Epoch 8/20\n",
      "219/219 [==============================] - 0s 940us/step - loss: 0.0255 - val_loss: 0.0247\n",
      "Epoch 9/20\n",
      "219/219 [==============================] - 0s 819us/step - loss: 0.0244 - val_loss: 0.0238\n",
      "Epoch 10/20\n",
      "219/219 [==============================] - 0s 841us/step - loss: 0.0234 - val_loss: 0.0229\n",
      "Epoch 11/20\n",
      "219/219 [==============================] - 0s 882us/step - loss: 0.0227 - val_loss: 0.0222\n",
      "Epoch 12/20\n",
      "219/219 [==============================] - 0s 918us/step - loss: 0.0221 - val_loss: 0.0217\n",
      "Epoch 13/20\n",
      "219/219 [==============================] - 0s 990us/step - loss: 0.0216 - val_loss: 0.0212\n",
      "Epoch 14/20\n",
      "219/219 [==============================] - 0s 917us/step - loss: 0.0211 - val_loss: 0.0211\n",
      "Epoch 15/20\n",
      "219/219 [==============================] - 0s 875us/step - loss: 0.0207 - val_loss: 0.0205\n",
      "Epoch 16/20\n",
      "219/219 [==============================] - 0s 882us/step - loss: 0.0204 - val_loss: 0.0202\n",
      "Epoch 17/20\n",
      "219/219 [==============================] - 0s 883us/step - loss: 0.0200 - val_loss: 0.0198\n",
      "Epoch 18/20\n",
      "219/219 [==============================] - 0s 903us/step - loss: 0.0196 - val_loss: 0.0195\n",
      "Epoch 19/20\n",
      "219/219 [==============================] - 0s 927us/step - loss: 0.0194 - val_loss: 0.0192\n",
      "Epoch 20/20\n",
      "219/219 [==============================] - 0s 913us/step - loss: 0.0191 - val_loss: 0.0189\n"
     ]
    }
   ],
   "source": [
    "model = keras.models.Sequential([\n",
    "    keras.layers.Flatten(input_shape=[50, 1]),\n",
    "    keras.layers.Dense(10)\n",
    "])\n",
    "\n",
    "model.compile(loss=\"mse\", optimizer=\"adam\")\n",
    "history = model.fit(X_train, Y_train, epochs=20, validation_data=(X_valid, Y_valid))"
   ]
  },
  {
   "cell_type": "markdown",
   "metadata": {},
   "source": [
    "### Create an RNN that predicts all 10 next values at once:"
   ]
  },
  {
   "cell_type": "code",
   "execution_count": 54,
   "metadata": {
    "ExecuteTime": {
     "end_time": "2021-05-31T11:05:52.141736Z",
     "start_time": "2021-05-31T11:04:33.955504Z"
    }
   },
   "outputs": [
    {
     "name": "stdout",
     "output_type": "stream",
     "text": [
      "Epoch 1/20\n",
      "219/219 [==============================] - 4s 19ms/step - loss: 0.0605 - val_loss: 0.0322\n",
      "Epoch 2/20\n",
      "219/219 [==============================] - 4s 17ms/step - loss: 0.0281 - val_loss: 0.0212\n",
      "Epoch 3/20\n",
      "219/219 [==============================] - 4s 17ms/step - loss: 0.0190 - val_loss: 0.0173\n",
      "Epoch 4/20\n",
      "219/219 [==============================] - 4s 20ms/step - loss: 0.0147 - val_loss: 0.0131\n",
      "Epoch 5/20\n",
      "219/219 [==============================] - 5s 24ms/step - loss: 0.0140 - val_loss: 0.0115\n",
      "Epoch 6/20\n",
      "219/219 [==============================] - 4s 19ms/step - loss: 0.0129 - val_loss: 0.0109\n",
      "Epoch 7/20\n",
      "219/219 [==============================] - 4s 17ms/step - loss: 0.0115 - val_loss: 0.0121\n",
      "Epoch 8/20\n",
      "219/219 [==============================] - 4s 16ms/step - loss: 0.0110 - val_loss: 0.0104\n",
      "Epoch 9/20\n",
      "219/219 [==============================] - 4s 16ms/step - loss: 0.0108 - val_loss: 0.0118\n",
      "Epoch 10/20\n",
      "219/219 [==============================] - 4s 16ms/step - loss: 0.0103 - val_loss: 0.0094\n",
      "Epoch 11/20\n",
      "219/219 [==============================] - 4s 16ms/step - loss: 0.0104 - val_loss: 0.0097\n",
      "Epoch 12/20\n",
      "219/219 [==============================] - 4s 16ms/step - loss: 0.0101 - val_loss: 0.0090\n",
      "Epoch 13/20\n",
      "219/219 [==============================] - 4s 16ms/step - loss: 0.0095 - val_loss: 0.0095\n",
      "Epoch 14/20\n",
      "219/219 [==============================] - 4s 17ms/step - loss: 0.0097 - val_loss: 0.0109\n",
      "Epoch 15/20\n",
      "219/219 [==============================] - 4s 16ms/step - loss: 0.0095 - val_loss: 0.0110\n",
      "Epoch 16/20\n",
      "219/219 [==============================] - 4s 16ms/step - loss: 0.0092 - val_loss: 0.0114\n",
      "Epoch 17/20\n",
      "219/219 [==============================] - 4s 16ms/step - loss: 0.0095 - val_loss: 0.0087\n",
      "Epoch 18/20\n",
      "219/219 [==============================] - 4s 16ms/step - loss: 0.0093 - val_loss: 0.0093\n",
      "Epoch 19/20\n",
      "219/219 [==============================] - 4s 16ms/step - loss: 0.0092 - val_loss: 0.0085\n",
      "Epoch 20/20\n",
      "219/219 [==============================] - 4s 18ms/step - loss: 0.0093 - val_loss: 0.0086\n"
     ]
    }
   ],
   "source": [
    "model = keras.models.Sequential([\n",
    "    keras.layers.SimpleRNN(20, return_sequences=True, input_shape=[None, 1]),\n",
    "    keras.layers.SimpleRNN(20),\n",
    "    keras.layers.Dense(10)\n",
    "])\n",
    "\n",
    "model.compile(loss=\"mse\", optimizer=\"adam\")\n",
    "history = model.fit(X_train, Y_train, epochs=20, validation_data=(X_valid, Y_valid))"
   ]
  },
  {
   "cell_type": "markdown",
   "metadata": {},
   "source": [
    "See the compareness"
   ]
  },
  {
   "cell_type": "code",
   "execution_count": 55,
   "metadata": {
    "ExecuteTime": {
     "end_time": "2021-05-31T11:05:52.441687Z",
     "start_time": "2021-05-31T11:05:52.144055Z"
    }
   },
   "outputs": [],
   "source": [
    "np.random.seed(43)\n",
    "\n",
    "series = generate_time_series(1, 50 + 10)\n",
    "X_new, Y_new = series[:, :50, :], series[:, -10:, :]\n",
    "Y_pred = model.predict(X_new)[..., np.newaxis]"
   ]
  },
  {
   "cell_type": "code",
   "execution_count": 56,
   "metadata": {
    "ExecuteTime": {
     "end_time": "2021-05-31T11:05:52.700392Z",
     "start_time": "2021-05-31T11:05:52.443678Z"
    }
   },
   "outputs": [
    {
     "data": {
      "image/png": "[encoded data removed]",
      "text/plain": [
       "<Figure size 432x288 with 1 Axes>"
      ]
     },
     "metadata": {
      "needs_background": "light"
     },
     "output_type": "display_data"
    }
   ],
   "source": [
    "plot_multiple_forecasts(X_new, Y_new, Y_pred)\n",
    "plt.show()"
   ]
  },
  {
   "cell_type": "markdown",
   "metadata": {},
   "source": [
    "Now let's create an RNN that predicts the next 10 steps at each time step. That is, instead of just forecasting time steps 50 to 59 based on time steps 0 to 49, it will forecast time steps 1 to 10 at time step 0, then time steps 2 to 11 at time step 1, and so on, and finally it will forecast time steps 50 to 59 at the last time step. Notice that the model is causal: when it makes predictions at any time step, it can only see past time steps."
   ]
  },
  {
   "cell_type": "code",
   "execution_count": 57,
   "metadata": {
    "ExecuteTime": {
     "end_time": "2021-05-31T11:05:52.848706Z",
     "start_time": "2021-05-31T11:05:52.703125Z"
    }
   },
   "outputs": [],
   "source": [
    "np.random.seed(42)\n",
    "\n",
    "n_steps = 50\n",
    "series = generate_time_series(10000, n_steps + 10)\n",
    "X_train = series[:7000, :n_steps]\n",
    "X_valid = series[7000:9000, :n_steps]\n",
    "X_test = series[9000:, :n_steps]\n",
    "Y = np.empty((10000, n_steps, 10))\n",
    "for step_ahead in range(1, 10 + 1):\n",
    "    Y[..., step_ahead - 1] = series[..., step_ahead:step_ahead + n_steps, 0]\n",
    "Y_train = Y[:7000]\n",
    "Y_valid = Y[7000:9000]\n",
    "Y_test = Y[9000:]"
   ]
  },
  {
   "cell_type": "code",
   "execution_count": 58,
   "metadata": {
    "ExecuteTime": {
     "end_time": "2021-05-31T11:05:52.912561Z",
     "start_time": "2021-05-31T11:05:52.850832Z"
    }
   },
   "outputs": [
    {
     "data": {
      "text/plain": [
       "((7000, 50, 1), (7000, 50, 10))"
      ]
     },
     "execution_count": 58,
     "metadata": {},
     "output_type": "execute_result"
    }
   ],
   "source": [
    "X_train.shape, Y_train.shape"
   ]
  },
  {
   "cell_type": "code",
   "execution_count": 59,
   "metadata": {
    "ExecuteTime": {
     "end_time": "2021-05-31T11:07:14.148871Z",
     "start_time": "2021-05-31T11:05:52.915368Z"
    }
   },
   "outputs": [
    {
     "name": "stdout",
     "output_type": "stream",
     "text": [
      "Epoch 1/20\n",
      "219/219 [==============================] - 4s 19ms/step - loss: 0.0528 - last_time_step_mse: 0.0428 - val_loss: 0.0406 - val_last_time_step_mse: 0.0290\n",
      "Epoch 2/20\n",
      "219/219 [==============================] - 4s 19ms/step - loss: 0.0375 - last_time_step_mse: 0.0244 - val_loss: 0.0371 - val_last_time_step_mse: 0.0263\n",
      "Epoch 3/20\n",
      "219/219 [==============================] - 4s 20ms/step - loss: 0.0324 - last_time_step_mse: 0.0197 - val_loss: 0.0306 - val_last_time_step_mse: 0.0175\n",
      "Epoch 4/20\n",
      "219/219 [==============================] - 4s 18ms/step - loss: 0.0303 - last_time_step_mse: 0.0179 - val_loss: 0.0270 - val_last_time_step_mse: 0.0140\n",
      "Epoch 5/20\n",
      "219/219 [==============================] - 4s 18ms/step - loss: 0.0280 - last_time_step_mse: 0.0155 - val_loss: 0.0276 - val_last_time_step_mse: 0.0178\n",
      "Epoch 6/20\n",
      "219/219 [==============================] - 4s 17ms/step - loss: 0.0263 - last_time_step_mse: 0.0141 - val_loss: 0.0246 - val_last_time_step_mse: 0.0114\n",
      "Epoch 7/20\n",
      "219/219 [==============================] - 4s 20ms/step - loss: 0.0242 - last_time_step_mse: 0.0120 - val_loss: 0.0232 - val_last_time_step_mse: 0.0108\n",
      "Epoch 8/20\n",
      "219/219 [==============================] - 5s 22ms/step - loss: 0.0222 - last_time_step_mse: 0.0099 - val_loss: 0.0228 - val_last_time_step_mse: 0.0111\n",
      "Epoch 9/20\n",
      "219/219 [==============================] - 4s 20ms/step - loss: 0.0214 - last_time_step_mse: 0.0093 - val_loss: 0.0212 - val_last_time_step_mse: 0.0091\n",
      "Epoch 10/20\n",
      "219/219 [==============================] - 5s 21ms/step - loss: 0.0207 - last_time_step_mse: 0.0086 - val_loss: 0.0209 - val_last_time_step_mse: 0.0096\n",
      "Epoch 11/20\n",
      "219/219 [==============================] - 4s 19ms/step - loss: 0.0200 - last_time_step_mse: 0.0079 - val_loss: 0.0206 - val_last_time_step_mse: 0.0088\n",
      "Epoch 12/20\n",
      "219/219 [==============================] - 4s 18ms/step - loss: 0.0205 - last_time_step_mse: 0.0085 - val_loss: 0.0185 - val_last_time_step_mse: 0.0068\n",
      "Epoch 13/20\n",
      "219/219 [==============================] - 4s 16ms/step - loss: 0.0198 - last_time_step_mse: 0.0078 - val_loss: 0.0205 - val_last_time_step_mse: 0.0085\n",
      "Epoch 14/20\n",
      "219/219 [==============================] - 4s 16ms/step - loss: 0.0194 - last_time_step_mse: 0.0075 - val_loss: 0.0187 - val_last_time_step_mse: 0.0070\n",
      "Epoch 15/20\n",
      "219/219 [==============================] - 3s 16ms/step - loss: 0.0193 - last_time_step_mse: 0.0074 - val_loss: 0.0199 - val_last_time_step_mse: 0.0092\n",
      "Epoch 16/20\n",
      "219/219 [==============================] - 3s 16ms/step - loss: 0.0193 - last_time_step_mse: 0.0076 - val_loss: 0.0200 - val_last_time_step_mse: 0.0096\n",
      "Epoch 17/20\n",
      "219/219 [==============================] - 3s 16ms/step - loss: 0.0188 - last_time_step_mse: 0.0073 - val_loss: 0.0190 - val_last_time_step_mse: 0.0075\n",
      "Epoch 18/20\n",
      "219/219 [==============================] - 3s 16ms/step - loss: 0.0186 - last_time_step_mse: 0.0071 - val_loss: 0.0183 - val_last_time_step_mse: 0.0068\n",
      "Epoch 19/20\n",
      "219/219 [==============================] - 4s 19ms/step - loss: 0.0185 - last_time_step_mse: 0.0070 - val_loss: 0.0182 - val_last_time_step_mse: 0.0064\n",
      "Epoch 20/20\n",
      "219/219 [==============================] - 4s 16ms/step - loss: 0.0187 - last_time_step_mse: 0.0074 - val_loss: 0.0187 - val_last_time_step_mse: 0.0076\n"
     ]
    }
   ],
   "source": [
    "model = keras.models.Sequential([\n",
    "    keras.layers.SimpleRNN(20, return_sequences=True, input_shape=[None, 1]),\n",
    "    keras.layers.SimpleRNN(20, return_sequences=True),\n",
    "    keras.layers.TimeDistributed(keras.layers.Dense(10))\n",
    "])\n",
    "\n",
    "def last_time_step_mse(Y_true, Y_pred):\n",
    "    return keras.metrics.mean_squared_error(Y_true[:, -1], Y_pred[:, -1])\n",
    "\n",
    "model.compile(loss=\"mse\", optimizer=keras.optimizers.Adam(learning_rate=0.01), metrics=[last_time_step_mse])\n",
    "history = model.fit(X_train, Y_train, epochs=20, validation_data=(X_valid, Y_valid))"
   ]
  },
  {
   "cell_type": "code",
   "execution_count": 60,
   "metadata": {
    "ExecuteTime": {
     "end_time": "2021-05-31T11:07:14.451501Z",
     "start_time": "2021-05-31T11:07:14.150859Z"
    }
   },
   "outputs": [],
   "source": [
    "np.random.seed(43)\n",
    "\n",
    "series = generate_time_series(1, 50 + 10)\n",
    "X_new, Y_new = series[:, :50, :], series[:, 50:, :]\n",
    "Y_pred = model.predict(X_new)[:, -1][..., np.newaxis]"
   ]
  },
  {
   "cell_type": "code",
   "execution_count": 61,
   "metadata": {
    "ExecuteTime": {
     "end_time": "2021-05-31T11:07:14.697067Z",
     "start_time": "2021-05-31T11:07:14.453410Z"
    }
   },
   "outputs": [
    {
     "data": {
      "image/png": "[encoded data removed]",
      "text/plain": [
       "<Figure size 432x288 with 1 Axes>"
      ]
     },
     "metadata": {
      "needs_background": "light"
     },
     "output_type": "display_data"
    }
   ],
   "source": [
    "plot_multiple_forecasts(X_new, Y_new, Y_pred)\n",
    "plt.show()"
   ]
  },
  {
   "cell_type": "code",
   "execution_count": null,
   "metadata": {},
   "outputs": [],
   "source": []
  }
 ],
 "metadata": {
  "kernelspec": {
   "display_name": "Python 3",
   "language": "python",
   "name": "python3"
  },
  "language_info": {
   "codemirror_mode": {
    "name": "ipython",
    "version": 3
   },
   "file_extension": ".py",
   "mimetype": "text/x-python",
   "name": "python",
   "nbconvert_exporter": "python",
   "pygments_lexer": "ipython3",
   "version": "3.8.5"
  },
  "toc": {
   "base_numbering": 1,
   "nav_menu": {},
   "number_sections": true,
   "sideBar": true,
   "skip_h1_title": false,
   "title_cell": "Table of Contents",
   "title_sidebar": "Contents",
   "toc_cell": false,
   "toc_position": {},
   "toc_section_display": true,
   "toc_window_display": false
  }
 },
 "nbformat": 4,
 "nbformat_minor": 4
}
