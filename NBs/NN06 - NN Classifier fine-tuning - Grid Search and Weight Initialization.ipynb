{
 "cells": [
  {
   "cell_type": "markdown",
   "id": "c5cc5d82",
   "metadata": {},
   "source": [
    "# Fine-tuning using Grid Search and sklearn"
   ]
  },
  {
   "cell_type": "markdown",
   "id": "0ae19893",
   "metadata": {},
   "source": [
    "**Dataset Context:**\n",
    "\n",
    "This dataset is originally from the National Institute of Diabetes and Digestive and Kidney Diseases. The objective of the dataset is to diagnostically predict whether or not a patient has diabetes, based on certain diagnostic measurements included in the dataset. Several constraints were placed on the selection of these instances from a larger database. In particular, all patients here are females at least 21 years old of Pima Indian heritage.\n",
    "Content\n",
    "\n",
    "The dataset consists of several medical predictor variables and one target variable, Outcome. Predictor variables includes the number of pregnancies the patient has had, their BMI, insulin level, age, and so on.\n",
    "\n",
    "Features:\n",
    "- Pregnancies: Number of times pregnant\n",
    "- Glucose: Plasma glucose concentration a 2 hours in an oral glucose tolerance test\n",
    "- BloodPressure: Diastolic blood pressure (mm Hg)\n",
    "- SkinThickness: Triceps skin fold thickness (mm)\n",
    "- Insulin: 2-Hour serum insulin (mu U/ml)\n",
    "- BMI: Body mass index (weight in kg/(height in m)^2)\n",
    "- DiabetesPedigreeFunction: Diabetes pedigree function\n",
    "- Age: Age (years)\n",
    "\n",
    "Label:\n",
    "- Outcome: Class variable (0 or 1) 268 of 768 are 1, the others are 0\n",
    "\n",
    "**References:**\n",
    "- https://www.kaggle.com/uciml/pima-indians-diabetes-database\n",
    "- https://machinelearningmastery.com/grid-search-hyperparameters-deep-learning-models-python-keras/"
   ]
  },
  {
   "cell_type": "code",
   "execution_count": 1,
   "id": "822b4ea4",
   "metadata": {},
   "outputs": [],
   "source": [
    "import os\n",
    "os.chdir(os.path.join(os.getcwd(), os.pardir))"
   ]
  },
  {
   "cell_type": "code",
   "execution_count": 2,
   "id": "29676365",
   "metadata": {},
   "outputs": [],
   "source": [
    "import numpy as np\n",
    "import pandas as pd\n",
    "\n",
    "# To plot pretty figures\n",
    "%matplotlib inline\n",
    "import matplotlib as mpl\n",
    "import matplotlib.pyplot as plt\n",
    "mpl.rc('axes', labelsize=14)\n",
    "mpl.rc('xtick', labelsize=12)\n",
    "mpl.rc('ytick', labelsize=12)\n",
    "\n",
    "# tensorflow and related layers\n",
    "import tensorflow as tf\n",
    "from tensorflow import keras\n",
    "\n",
    "from tensorflow.keras.models import Sequential\n",
    "from tensorflow.keras.layers import Dense\n",
    "from tensorflow.keras.layers import Dropout\n",
    "\n",
    "from tensorflow.keras.wrappers.scikit_learn import KerasClassifier\n",
    "from tensorflow.keras.constraints import MaxNorm\n",
    "\n",
    "from sklearn.model_selection import GridSearchCV\n",
    "\n",
    "# progress status\n",
    "from tqdm.notebook import tqdm\n",
    "\n",
    "# to make this notebook's output stable across runs\n",
    "np.random.seed(42)\n",
    "tf.random.set_seed(42)"
   ]
  },
  {
   "cell_type": "code",
   "execution_count": 3,
   "id": "0f5a0fb4",
   "metadata": {},
   "outputs": [],
   "source": [
    "url = \"https://raw.githubusercontent.com/tzamalisp/dev_tasks/master/datasets/pima-indians-diabetes.csv\"\n",
    "data = pd.read_csv(url)"
   ]
  },
  {
   "cell_type": "code",
   "execution_count": 4,
   "id": "6c65a13a",
   "metadata": {},
   "outputs": [
    {
     "data": {
      "text/html": [
       "<div>\n",
       "<style scoped>\n",
       "    .dataframe tbody tr th:only-of-type {\n",
       "        vertical-align: middle;\n",
       "    }\n",
       "\n",
       "    .dataframe tbody tr th {\n",
       "        vertical-align: top;\n",
       "    }\n",
       "\n",
       "    .dataframe thead th {\n",
       "        text-align: right;\n",
       "    }\n",
       "</style>\n",
       "<table border=\"1\" class=\"dataframe\">\n",
       "  <thead>\n",
       "    <tr style=\"text-align: right;\">\n",
       "      <th></th>\n",
       "      <th>Pregnancies</th>\n",
       "      <th>Glucose</th>\n",
       "      <th>BloodPressure</th>\n",
       "      <th>SkinThickness</th>\n",
       "      <th>Insulin</th>\n",
       "      <th>BMI</th>\n",
       "      <th>DiabetesPedigreeFunction</th>\n",
       "      <th>Age</th>\n",
       "      <th>Outcome</th>\n",
       "    </tr>\n",
       "  </thead>\n",
       "  <tbody>\n",
       "    <tr>\n",
       "      <th>0</th>\n",
       "      <td>6</td>\n",
       "      <td>148</td>\n",
       "      <td>72</td>\n",
       "      <td>35</td>\n",
       "      <td>0</td>\n",
       "      <td>33.6</td>\n",
       "      <td>0.627</td>\n",
       "      <td>50</td>\n",
       "      <td>1</td>\n",
       "    </tr>\n",
       "    <tr>\n",
       "      <th>1</th>\n",
       "      <td>1</td>\n",
       "      <td>85</td>\n",
       "      <td>66</td>\n",
       "      <td>29</td>\n",
       "      <td>0</td>\n",
       "      <td>26.6</td>\n",
       "      <td>0.351</td>\n",
       "      <td>31</td>\n",
       "      <td>0</td>\n",
       "    </tr>\n",
       "    <tr>\n",
       "      <th>2</th>\n",
       "      <td>8</td>\n",
       "      <td>183</td>\n",
       "      <td>64</td>\n",
       "      <td>0</td>\n",
       "      <td>0</td>\n",
       "      <td>23.3</td>\n",
       "      <td>0.672</td>\n",
       "      <td>32</td>\n",
       "      <td>1</td>\n",
       "    </tr>\n",
       "    <tr>\n",
       "      <th>3</th>\n",
       "      <td>1</td>\n",
       "      <td>89</td>\n",
       "      <td>66</td>\n",
       "      <td>23</td>\n",
       "      <td>94</td>\n",
       "      <td>28.1</td>\n",
       "      <td>0.167</td>\n",
       "      <td>21</td>\n",
       "      <td>0</td>\n",
       "    </tr>\n",
       "    <tr>\n",
       "      <th>4</th>\n",
       "      <td>0</td>\n",
       "      <td>137</td>\n",
       "      <td>40</td>\n",
       "      <td>35</td>\n",
       "      <td>168</td>\n",
       "      <td>43.1</td>\n",
       "      <td>2.288</td>\n",
       "      <td>33</td>\n",
       "      <td>1</td>\n",
       "    </tr>\n",
       "  </tbody>\n",
       "</table>\n",
       "</div>"
      ],
      "text/plain": [
       "   Pregnancies  Glucose  BloodPressure  SkinThickness  Insulin   BMI  \\\n",
       "0            6      148             72             35        0  33.6   \n",
       "1            1       85             66             29        0  26.6   \n",
       "2            8      183             64              0        0  23.3   \n",
       "3            1       89             66             23       94  28.1   \n",
       "4            0      137             40             35      168  43.1   \n",
       "\n",
       "   DiabetesPedigreeFunction  Age  Outcome  \n",
       "0                     0.627   50        1  \n",
       "1                     0.351   31        0  \n",
       "2                     0.672   32        1  \n",
       "3                     0.167   21        0  \n",
       "4                     2.288   33        1  "
      ]
     },
     "execution_count": 4,
     "metadata": {},
     "output_type": "execute_result"
    }
   ],
   "source": [
    "data.head()"
   ]
  },
  {
   "cell_type": "markdown",
   "id": "68aa5bff",
   "metadata": {},
   "source": [
    "## Function to create the model, required for KerasClassifier"
   ]
  },
  {
   "cell_type": "code",
   "execution_count": 5,
   "id": "d44fec82",
   "metadata": {},
   "outputs": [],
   "source": [
    "def create_model():\n",
    "    # create model\n",
    "    model = Sequential()\n",
    "    model.add(Dense(12, input_dim=8, activation='relu'))\n",
    "    model.add(Dense(1, activation='sigmoid'))\n",
    "    # Compile model\n",
    "    model.compile(loss='binary_crossentropy', optimizer='adam', metrics=['accuracy'])\n",
    "    return model"
   ]
  },
  {
   "cell_type": "markdown",
   "id": "a4283530",
   "metadata": {},
   "source": [
    "## Split into features (X) and labels (y) variables"
   ]
  },
  {
   "cell_type": "code",
   "execution_count": 6,
   "id": "f56fcd32",
   "metadata": {},
   "outputs": [
    {
     "data": {
      "text/plain": [
       "Index(['Pregnancies', 'Glucose', 'BloodPressure', 'SkinThickness', 'Insulin',\n",
       "       'BMI', 'DiabetesPedigreeFunction', 'Age', 'Outcome'],\n",
       "      dtype='object')"
      ]
     },
     "execution_count": 6,
     "metadata": {},
     "output_type": "execute_result"
    }
   ],
   "source": [
    "data.columns"
   ]
  },
  {
   "cell_type": "code",
   "execution_count": 7,
   "id": "89002ebf",
   "metadata": {},
   "outputs": [],
   "source": [
    "X = data[[\"Pregnancies\", \"Glucose\", \"BloodPressure\", \"SkinThickness\", \"Insulin\", \n",
    "          \"BMI\", \"DiabetesPedigreeFunction\", \"Age\"]]\n",
    "y = data[\"Outcome\"]"
   ]
  },
  {
   "cell_type": "markdown",
   "id": "04d9b4fa",
   "metadata": {},
   "source": [
    "## Tune Batch Size and Number of Epochs"
   ]
  },
  {
   "cell_type": "markdown",
   "id": "16f09974",
   "metadata": {},
   "source": [
    "### Create the model with the KerasClassifier"
   ]
  },
  {
   "cell_type": "code",
   "execution_count": 8,
   "id": "621875f3",
   "metadata": {},
   "outputs": [],
   "source": [
    "clf_params = {\n",
    "    \"validation_split\": 0.2,\n",
    "    \"shuffle\": True,\n",
    "    \"use_multiprocessing\": True,\n",
    "    \"verbose\": 0\n",
    "}"
   ]
  },
  {
   "cell_type": "code",
   "execution_count": 9,
   "id": "0495c191",
   "metadata": {},
   "outputs": [],
   "source": [
    "model = KerasClassifier(build_fn=create_model)"
   ]
  },
  {
   "cell_type": "code",
   "execution_count": 10,
   "id": "026ef061",
   "metadata": {},
   "outputs": [
    {
     "data": {
      "text/plain": [
       "<tensorflow.python.keras.wrappers.scikit_learn.KerasClassifier at 0x7f10a054c650>"
      ]
     },
     "execution_count": 10,
     "metadata": {},
     "output_type": "execute_result"
    }
   ],
   "source": [
    "model.set_params(**clf_params)"
   ]
  },
  {
   "cell_type": "code",
   "execution_count": 11,
   "id": "a637a8a8",
   "metadata": {},
   "outputs": [
    {
     "data": {
      "text/plain": [
       "{'validation_split': 0.2,\n",
       " 'shuffle': True,\n",
       " 'use_multiprocessing': True,\n",
       " 'verbose': 0,\n",
       " 'build_fn': <function __main__.create_model()>}"
      ]
     },
     "execution_count": 11,
     "metadata": {},
     "output_type": "execute_result"
    }
   ],
   "source": [
    "model.get_params()"
   ]
  },
  {
   "cell_type": "markdown",
   "id": "c7af6667",
   "metadata": {},
   "source": [
    "### Define the Grid Search parameters"
   ]
  },
  {
   "cell_type": "code",
   "execution_count": 12,
   "id": "02fabe3a",
   "metadata": {},
   "outputs": [],
   "source": [
    "param_grid = {\n",
    "    \"batch_size\": [10, 20, 40, 60, 80, 100],\n",
    "    \"epochs\": [10, 50, 100]\n",
    "}"
   ]
  },
  {
   "cell_type": "markdown",
   "id": "301777b3",
   "metadata": {},
   "source": [
    "### Initiate and train the Grid Search classifier"
   ]
  },
  {
   "cell_type": "code",
   "execution_count": 13,
   "id": "b9367de4",
   "metadata": {},
   "outputs": [],
   "source": [
    "grid = GridSearchCV(estimator=model, param_grid=param_grid, n_jobs=-1, cv=3)"
   ]
  },
  {
   "cell_type": "code",
   "execution_count": 14,
   "id": "74ec347d",
   "metadata": {},
   "outputs": [],
   "source": [
    "classifier = grid.fit(X, y)"
   ]
  },
  {
   "cell_type": "markdown",
   "id": "643174c2",
   "metadata": {},
   "source": [
    "### Summarize the results"
   ]
  },
  {
   "cell_type": "code",
   "execution_count": 15,
   "id": "c17a3d62",
   "metadata": {},
   "outputs": [
    {
     "name": "stdout",
     "output_type": "stream",
     "text": [
      "Best accuracy: 0.69\n",
      "Best parameters for training: {'batch_size': 10, 'epochs': 100}\n"
     ]
    }
   ],
   "source": [
    "print(\"Best accuracy: %.2f\" % classifier.best_score_)\n",
    "print(\"Best parameters for training: %s\" % classifier.best_params_)"
   ]
  },
  {
   "cell_type": "code",
   "execution_count": 16,
   "id": "eadd7a34",
   "metadata": {},
   "outputs": [],
   "source": [
    "means = classifier.cv_results_['mean_test_score']\n",
    "stds = classifier.cv_results_['std_test_score']\n",
    "params = classifier.cv_results_['params']"
   ]
  },
  {
   "cell_type": "code",
   "execution_count": 17,
   "id": "f06dd20b",
   "metadata": {},
   "outputs": [
    {
     "name": "stdout",
     "output_type": "stream",
     "text": [
      "0.631510 (0.023939) with: {'batch_size': 10, 'epochs': 10}\n",
      "0.670573 (0.015073) with: {'batch_size': 10, 'epochs': 50}\n",
      "0.692708 (0.021236) with: {'batch_size': 10, 'epochs': 100}\n",
      "0.572917 (0.022628) with: {'batch_size': 20, 'epochs': 10}\n",
      "0.647135 (0.031304) with: {'batch_size': 20, 'epochs': 50}\n",
      "0.684896 (0.010253) with: {'batch_size': 20, 'epochs': 100}\n",
      "0.588542 (0.062364) with: {'batch_size': 40, 'epochs': 10}\n",
      "0.647135 (0.034104) with: {'batch_size': 40, 'epochs': 50}\n",
      "0.658854 (0.030145) with: {'batch_size': 40, 'epochs': 100}\n",
      "0.552083 (0.011201) with: {'batch_size': 60, 'epochs': 10}\n",
      "0.565104 (0.027126) with: {'batch_size': 60, 'epochs': 50}\n",
      "0.651042 (0.061045) with: {'batch_size': 60, 'epochs': 100}\n",
      "0.523438 (0.089475) with: {'batch_size': 80, 'epochs': 10}\n",
      "0.628906 (0.069072) with: {'batch_size': 80, 'epochs': 50}\n",
      "0.623698 (0.026557) with: {'batch_size': 80, 'epochs': 100}\n",
      "0.595052 (0.048824) with: {'batch_size': 100, 'epochs': 10}\n",
      "0.611979 (0.009744) with: {'batch_size': 100, 'epochs': 50}\n",
      "0.664062 (0.038670) with: {'batch_size': 100, 'epochs': 100}\n"
     ]
    }
   ],
   "source": [
    "for mean, stdev, param in zip(means, stds, params):\n",
    "    print(\"%f (%f) with: %r\" % (mean, stdev, param))"
   ]
  },
  {
   "cell_type": "markdown",
   "id": "713eb4e3",
   "metadata": {},
   "source": []
  },
  {
   "cell_type": "markdown",
   "id": "3e8f9158",
   "metadata": {},
   "source": [
    "## Tune the Training Optimization Algorithm\n",
    "\n",
    "Tune the optimization algorithm used to train the network, each with default parameters. Usually, one approach a priori will be chosen and focus will take place on tuning its parameters on the relevant problem, as shown in the next section."
   ]
  },
  {
   "cell_type": "markdown",
   "id": "b84f2cce",
   "metadata": {},
   "source": [
    "Add the `optimizer` argument in order to set the relevant grid parameters on Grid Search:"
   ]
  },
  {
   "cell_type": "code",
   "execution_count": 18,
   "id": "721e80d0",
   "metadata": {},
   "outputs": [],
   "source": [
    "def create_model(optimizer=\"adam\"):\n",
    "    # create model\n",
    "    model = Sequential()\n",
    "    model.add(Dense(12, input_dim=8, activation='relu'))\n",
    "    model.add(Dense(1, activation='sigmoid'))\n",
    "    # Compile model\n",
    "    model.compile(loss='binary_crossentropy', optimizer=optimizer, metrics=['accuracy'])\n",
    "    return model"
   ]
  },
  {
   "cell_type": "markdown",
   "id": "830f57eb",
   "metadata": {},
   "source": [
    "Add the best parameters from the above `fit()` method's hyperparamter tuning:"
   ]
  },
  {
   "cell_type": "code",
   "execution_count": 19,
   "id": "5a119e20",
   "metadata": {},
   "outputs": [],
   "source": [
    "clf_params = {\n",
    "    \"epochs\": 100,\n",
    "    \"batch_size\": 10,\n",
    "    \"validation_split\": 0.2,\n",
    "    \"shuffle\": True,\n",
    "    \"use_multiprocessing\": True,\n",
    "    \"verbose\": 0\n",
    "}"
   ]
  },
  {
   "cell_type": "code",
   "execution_count": 20,
   "id": "3d2843c2",
   "metadata": {},
   "outputs": [],
   "source": [
    "model = KerasClassifier(build_fn=create_model)"
   ]
  },
  {
   "cell_type": "code",
   "execution_count": 21,
   "id": "f11382d6",
   "metadata": {},
   "outputs": [
    {
     "data": {
      "text/plain": [
       "<tensorflow.python.keras.wrappers.scikit_learn.KerasClassifier at 0x7f1128623710>"
      ]
     },
     "execution_count": 21,
     "metadata": {},
     "output_type": "execute_result"
    }
   ],
   "source": [
    "model.set_params(**clf_params)"
   ]
  },
  {
   "cell_type": "code",
   "execution_count": 22,
   "id": "2fbe1b8a",
   "metadata": {},
   "outputs": [
    {
     "data": {
      "text/plain": [
       "{'epochs': 100,\n",
       " 'batch_size': 10,\n",
       " 'validation_split': 0.2,\n",
       " 'shuffle': True,\n",
       " 'use_multiprocessing': True,\n",
       " 'verbose': 0,\n",
       " 'build_fn': <function __main__.create_model(optimizer='adam')>}"
      ]
     },
     "execution_count": 22,
     "metadata": {},
     "output_type": "execute_result"
    }
   ],
   "source": [
    "model.get_params()"
   ]
  },
  {
   "cell_type": "code",
   "execution_count": 23,
   "id": "ceb792cf",
   "metadata": {},
   "outputs": [],
   "source": [
    "param_grid = {\n",
    "    \"optimizer\": [\"SGD\", \"RMSprop\", \"Adagrad\", \"Adadelta\", \"Adam\", \"Adamax\", \"Nadam\"]\n",
    "}"
   ]
  },
  {
   "cell_type": "code",
   "execution_count": 24,
   "id": "9ce87861",
   "metadata": {},
   "outputs": [],
   "source": [
    "grid = GridSearchCV(estimator=model, param_grid=param_grid, n_jobs=-1, cv=3)"
   ]
  },
  {
   "cell_type": "code",
   "execution_count": 25,
   "id": "1766d48d",
   "metadata": {},
   "outputs": [],
   "source": [
    "classifier = grid.fit(X, y)"
   ]
  },
  {
   "cell_type": "code",
   "execution_count": 26,
   "id": "4ce28e30",
   "metadata": {
    "scrolled": true
   },
   "outputs": [
    {
     "name": "stdout",
     "output_type": "stream",
     "text": [
      "Best accuracy: 0.71\n",
      "Best parameters for training: {'optimizer': 'Adam'}\n",
      "\n",
      "Means, STDs, and Parameters for each grid combination:\n",
      "0.664062 (0.027805) with: {'optimizer': 'SGD'}\n",
      "0.699219 (0.027621) with: {'optimizer': 'RMSprop'}\n",
      "0.619792 (0.031466) with: {'optimizer': 'Adagrad'}\n",
      "0.434896 (0.145612) with: {'optimizer': 'Adadelta'}\n",
      "0.713542 (0.020752) with: {'optimizer': 'Adam'}\n",
      "0.677083 (0.014382) with: {'optimizer': 'Adamax'}\n",
      "0.705729 (0.001841) with: {'optimizer': 'Nadam'}\n"
     ]
    }
   ],
   "source": [
    "print(\"Best accuracy: %.2f\" % classifier.best_score_)\n",
    "print(\"Best parameters for training: %s\" % classifier.best_params_)\n",
    "\n",
    "\n",
    "means = classifier.cv_results_['mean_test_score']\n",
    "stds = classifier.cv_results_['std_test_score']\n",
    "params = classifier.cv_results_['params']\n",
    "\n",
    "print()\n",
    "print(\"Means, STDs, and Parameters for each grid combination:\")\n",
    "for mean, stdev, param in zip(means, stds, params):\n",
    "    print(\"%f (%f) with: %r\" % (mean, stdev, param))"
   ]
  },
  {
   "cell_type": "code",
   "execution_count": null,
   "id": "3cbcfb38",
   "metadata": {},
   "outputs": [],
   "source": []
  },
  {
   "cell_type": "markdown",
   "id": "d94ef227",
   "metadata": {},
   "source": [
    "## Tune the Learning Rate and Momentum"
   ]
  },
  {
   "cell_type": "markdown",
   "id": "d4aacb9e",
   "metadata": {},
   "source": [
    "**Optimizing the SGD learning rate and momentum parameters.**\n",
    "\n",
    "Learning rate controls how much to update the weight at the end of each batch and the momentum controls how much to let the previous update influence the current weight update.\n",
    "\n",
    "It is a good idea to include the number of epochs in an optimization like this as there is a dependency between the amount of learning per batch (learning rate), the number of updates per epoch (batch size) and the number of epochs."
   ]
  },
  {
   "cell_type": "markdown",
   "id": "8355492a",
   "metadata": {},
   "source": [
    "Add the `learning_rate` and the `momentum` arguments which correspond to the `optimizer`, in order to set the relevant grid parameters on Grid Search:"
   ]
  },
  {
   "cell_type": "code",
   "execution_count": 27,
   "id": "fec8f314",
   "metadata": {},
   "outputs": [],
   "source": [
    "def create_model(learning_rate=0.01, momentum=0):\n",
    "    # create model\n",
    "    model = Sequential()\n",
    "    model.add(Dense(12, input_dim=8, activation='relu'))\n",
    "    model.add(Dense(1, activation='sigmoid'))\n",
    "    # Set the SGD optimizer and Compile the model\n",
    "    optimizer = tf.keras.optimizers.SGD(learning_rate=learning_rate, momentum=momentum)\n",
    "    model.compile(loss='binary_crossentropy', optimizer=optimizer, metrics=['accuracy'])\n",
    "    return model"
   ]
  },
  {
   "cell_type": "markdown",
   "id": "3cc580e5",
   "metadata": {},
   "source": [
    "Add the best parameters from the first `fit()` method's hyperparamter tuning:"
   ]
  },
  {
   "cell_type": "code",
   "execution_count": 28,
   "id": "06a181b5",
   "metadata": {},
   "outputs": [],
   "source": [
    "clf_params = {\n",
    "    \"epochs\": 100,\n",
    "    \"batch_size\": 10,\n",
    "    \"validation_split\": 0.2,\n",
    "    \"shuffle\": True,\n",
    "    \"use_multiprocessing\": True,\n",
    "    \"verbose\": 0\n",
    "}"
   ]
  },
  {
   "cell_type": "code",
   "execution_count": 29,
   "id": "7b323be9",
   "metadata": {},
   "outputs": [],
   "source": [
    "model = KerasClassifier(build_fn=create_model)"
   ]
  },
  {
   "cell_type": "code",
   "execution_count": 30,
   "id": "90912480",
   "metadata": {},
   "outputs": [
    {
     "data": {
      "text/plain": [
       "<tensorflow.python.keras.wrappers.scikit_learn.KerasClassifier at 0x7f10a0571e90>"
      ]
     },
     "execution_count": 30,
     "metadata": {},
     "output_type": "execute_result"
    }
   ],
   "source": [
    "model.set_params(**clf_params)"
   ]
  },
  {
   "cell_type": "code",
   "execution_count": 31,
   "id": "e3a046ae",
   "metadata": {},
   "outputs": [
    {
     "data": {
      "text/plain": [
       "{'epochs': 100,\n",
       " 'batch_size': 10,\n",
       " 'validation_split': 0.2,\n",
       " 'shuffle': True,\n",
       " 'use_multiprocessing': True,\n",
       " 'verbose': 0,\n",
       " 'build_fn': <function __main__.create_model(learning_rate=0.01, momentum=0)>}"
      ]
     },
     "execution_count": 31,
     "metadata": {},
     "output_type": "execute_result"
    }
   ],
   "source": [
    "model.get_params()"
   ]
  },
  {
   "cell_type": "markdown",
   "id": "cbfecef5",
   "metadata": {},
   "source": [
    "Try a suite of small standard learning rates and a momentum values from 0.2 to 0.8 in steps of 0.2, as well as 0.9 (because it can be a popular value in practice)."
   ]
  },
  {
   "cell_type": "code",
   "execution_count": 32,
   "id": "535c3da8",
   "metadata": {},
   "outputs": [],
   "source": [
    "param_grid = {\n",
    "    \"learning_rate\": [0.001, 0.01, 0.1, 0.2, 0.3],\n",
    "    \"momentum\": [0.0, 0.2, 0.4, 0.6, 0.8, 0.9]\n",
    "}"
   ]
  },
  {
   "cell_type": "code",
   "execution_count": 33,
   "id": "fc38e148",
   "metadata": {},
   "outputs": [],
   "source": [
    "grid = GridSearchCV(estimator=model, param_grid=param_grid, n_jobs=-1, cv=3)"
   ]
  },
  {
   "cell_type": "code",
   "execution_count": 34,
   "id": "95d3f8c0",
   "metadata": {},
   "outputs": [],
   "source": [
    "classifier = grid.fit(X, y)"
   ]
  },
  {
   "cell_type": "code",
   "execution_count": 35,
   "id": "f5c4dccd",
   "metadata": {
    "scrolled": true
   },
   "outputs": [
    {
     "name": "stdout",
     "output_type": "stream",
     "text": [
      "Best accuracy: 0.68\n",
      "Best parameters for training: {'learning_rate': 0.01, 'momentum': 0.0}\n",
      "\n",
      "Means, STDs, and Parameters for each grid combination:\n",
      "0.654948 (0.043537) with: {'learning_rate': 0.001, 'momentum': 0.0}\n",
      "0.673177 (0.006639) with: {'learning_rate': 0.001, 'momentum': 0.2}\n",
      "0.679688 (0.014616) with: {'learning_rate': 0.001, 'momentum': 0.4}\n",
      "0.673177 (0.029635) with: {'learning_rate': 0.001, 'momentum': 0.6}\n",
      "0.674479 (0.023510) with: {'learning_rate': 0.001, 'momentum': 0.8}\n",
      "0.657552 (0.029635) with: {'learning_rate': 0.001, 'momentum': 0.9}\n",
      "0.683594 (0.011500) with: {'learning_rate': 0.01, 'momentum': 0.0}\n",
      "0.652344 (0.026107) with: {'learning_rate': 0.01, 'momentum': 0.2}\n",
      "0.660156 (0.030758) with: {'learning_rate': 0.01, 'momentum': 0.4}\n",
      "0.649740 (0.026557) with: {'learning_rate': 0.01, 'momentum': 0.6}\n",
      "0.648438 (0.028348) with: {'learning_rate': 0.01, 'momentum': 0.8}\n",
      "0.651042 (0.024774) with: {'learning_rate': 0.01, 'momentum': 0.9}\n",
      "0.649740 (0.026557) with: {'learning_rate': 0.1, 'momentum': 0.0}\n",
      "0.651042 (0.024774) with: {'learning_rate': 0.1, 'momentum': 0.2}\n",
      "0.651042 (0.024774) with: {'learning_rate': 0.1, 'momentum': 0.4}\n",
      "0.651042 (0.024774) with: {'learning_rate': 0.1, 'momentum': 0.6}\n",
      "0.649740 (0.024360) with: {'learning_rate': 0.1, 'momentum': 0.8}\n",
      "0.651042 (0.024774) with: {'learning_rate': 0.1, 'momentum': 0.9}\n",
      "0.651042 (0.024774) with: {'learning_rate': 0.2, 'momentum': 0.0}\n",
      "0.651042 (0.024774) with: {'learning_rate': 0.2, 'momentum': 0.2}\n",
      "0.651042 (0.024774) with: {'learning_rate': 0.2, 'momentum': 0.4}\n",
      "0.651042 (0.024774) with: {'learning_rate': 0.2, 'momentum': 0.6}\n",
      "0.651042 (0.024774) with: {'learning_rate': 0.2, 'momentum': 0.8}\n",
      "0.651042 (0.024774) with: {'learning_rate': 0.2, 'momentum': 0.9}\n",
      "0.651042 (0.024774) with: {'learning_rate': 0.3, 'momentum': 0.0}\n",
      "0.651042 (0.024774) with: {'learning_rate': 0.3, 'momentum': 0.2}\n",
      "0.651042 (0.024774) with: {'learning_rate': 0.3, 'momentum': 0.4}\n",
      "0.651042 (0.024774) with: {'learning_rate': 0.3, 'momentum': 0.6}\n",
      "0.651042 (0.024774) with: {'learning_rate': 0.3, 'momentum': 0.8}\n",
      "0.651042 (0.024774) with: {'learning_rate': 0.3, 'momentum': 0.9}\n"
     ]
    }
   ],
   "source": [
    "print(\"Best accuracy: %.2f\" % classifier.best_score_)\n",
    "print(\"Best parameters for training: %s\" % classifier.best_params_)\n",
    "\n",
    "\n",
    "means = classifier.cv_results_['mean_test_score']\n",
    "stds = classifier.cv_results_['std_test_score']\n",
    "params = classifier.cv_results_['params']\n",
    "\n",
    "print()\n",
    "print(\"Means, STDs, and Parameters for each grid combination:\")\n",
    "for mean, stdev, param in zip(means, stds, params):\n",
    "    print(\"%f (%f) with: %r\" % (mean, stdev, param))"
   ]
  },
  {
   "cell_type": "markdown",
   "id": "2cbf5c68",
   "metadata": {},
   "source": [
    "## Tune the Network Weight Initialization"
   ]
  },
  {
   "cell_type": "markdown",
   "id": "ea7b43f4",
   "metadata": {},
   "source": [
    "**Use small random values.**\n",
    "\n",
    "Here, the same weight initialization method on each layer is used. Rectifier for the hidden layer is used, and the sigmoid for the output layer because the predictions are binary.\n",
    "\n",
    "Ideally, it may be better to use different weight initialization schemes according to the activation function used on each layer.\n",
    "\n",
    "Check the initializers from the **Keras API**:\n",
    "\n",
    "- https://keras.io/api/layers/initializers/"
   ]
  },
  {
   "cell_type": "markdown",
   "id": "1677cf47",
   "metadata": {},
   "source": [
    "Add the `initilization_mode` argument in the layers' `kernel_initializer` in order to set the relevant grid parameters on Grid Search:"
   ]
  },
  {
   "cell_type": "code",
   "execution_count": 36,
   "id": "bafb79be",
   "metadata": {},
   "outputs": [],
   "source": [
    "def create_model(initilization_mode='uniform'):\n",
    "    # create model\n",
    "    model = Sequential()\n",
    "    model.add(Dense(12, input_dim=8, kernel_initializer=initilization_mode, activation='relu'))\n",
    "    model.add(Dense(1, kernel_initializer=initilization_mode, activation='sigmoid'))\n",
    "    # Set the SGD optimizer and Compile the model\n",
    "    model.compile(loss='binary_crossentropy', optimizer='adam', metrics=['accuracy'])\n",
    "    return model"
   ]
  },
  {
   "cell_type": "markdown",
   "id": "03267c04",
   "metadata": {},
   "source": [
    "Add the best parameters from the first `fit()` method's hyperparamter tuning:"
   ]
  },
  {
   "cell_type": "code",
   "execution_count": 37,
   "id": "9d1cb273",
   "metadata": {},
   "outputs": [],
   "source": [
    "clf_params = {\n",
    "    \"epochs\": 100,\n",
    "    \"batch_size\": 10,\n",
    "    \"validation_split\": 0.2,\n",
    "    \"shuffle\": True,\n",
    "    \"use_multiprocessing\": True,\n",
    "    \"verbose\": 0\n",
    "}"
   ]
  },
  {
   "cell_type": "code",
   "execution_count": 38,
   "id": "f7e29a1f",
   "metadata": {},
   "outputs": [],
   "source": [
    "model = KerasClassifier(build_fn=create_model)"
   ]
  },
  {
   "cell_type": "code",
   "execution_count": 39,
   "id": "1936f52c",
   "metadata": {},
   "outputs": [
    {
     "data": {
      "text/plain": [
       "<tensorflow.python.keras.wrappers.scikit_learn.KerasClassifier at 0x7f11283fee10>"
      ]
     },
     "execution_count": 39,
     "metadata": {},
     "output_type": "execute_result"
    }
   ],
   "source": [
    "model.set_params(**clf_params)"
   ]
  },
  {
   "cell_type": "code",
   "execution_count": 40,
   "id": "ee507d49",
   "metadata": {},
   "outputs": [
    {
     "data": {
      "text/plain": [
       "{'epochs': 100,\n",
       " 'batch_size': 10,\n",
       " 'validation_split': 0.2,\n",
       " 'shuffle': True,\n",
       " 'use_multiprocessing': True,\n",
       " 'verbose': 0,\n",
       " 'build_fn': <function __main__.create_model(initilization_mode='uniform')>}"
      ]
     },
     "execution_count": 40,
     "metadata": {},
     "output_type": "execute_result"
    }
   ],
   "source": [
    "model.get_params()"
   ]
  },
  {
   "cell_type": "markdown",
   "id": "af093213",
   "metadata": {},
   "source": [
    "Set up the various initializers:"
   ]
  },
  {
   "cell_type": "code",
   "execution_count": 41,
   "id": "5ef313b1",
   "metadata": {},
   "outputs": [],
   "source": [
    "param_grid = {\n",
    "    \"initilization_mode\": ['uniform', 'lecun_uniform', 'normal', 'zero', 'glorot_normal', \n",
    "                           'glorot_uniform', 'he_normal', 'he_uniform']\n",
    "}"
   ]
  },
  {
   "cell_type": "code",
   "execution_count": 42,
   "id": "fd2497c6",
   "metadata": {},
   "outputs": [],
   "source": [
    "grid = GridSearchCV(estimator=model, param_grid=param_grid, n_jobs=-1, cv=3)"
   ]
  },
  {
   "cell_type": "code",
   "execution_count": 43,
   "id": "163122e0",
   "metadata": {},
   "outputs": [],
   "source": [
    "classifier = grid.fit(X, y)"
   ]
  },
  {
   "cell_type": "code",
   "execution_count": 44,
   "id": "5d7bd85e",
   "metadata": {
    "scrolled": true
   },
   "outputs": [
    {
     "name": "stdout",
     "output_type": "stream",
     "text": [
      "Best accuracy: 0.72\n",
      "Best parameters for training: {'initilization_mode': 'normal'}\n",
      "\n",
      "Means, STDs, and Parameters for each grid combination:\n",
      "0.712240 (0.009744) with: {'initilization_mode': 'uniform'}\n",
      "0.696615 (0.014731) with: {'initilization_mode': 'lecun_uniform'}\n",
      "0.721354 (0.008027) with: {'initilization_mode': 'normal'}\n",
      "0.651042 (0.024774) with: {'initilization_mode': 'zero'}\n",
      "0.695312 (0.009568) with: {'initilization_mode': 'glorot_normal'}\n",
      "0.697917 (0.018688) with: {'initilization_mode': 'glorot_uniform'}\n",
      "0.694010 (0.019488) with: {'initilization_mode': 'he_normal'}\n",
      "0.682292 (0.030978) with: {'initilization_mode': 'he_uniform'}\n"
     ]
    }
   ],
   "source": [
    "print(\"Best accuracy: %.2f\" % classifier.best_score_)\n",
    "print(\"Best parameters for training: %s\" % classifier.best_params_)\n",
    "\n",
    "\n",
    "means = classifier.cv_results_['mean_test_score']\n",
    "stds = classifier.cv_results_['std_test_score']\n",
    "params = classifier.cv_results_['params']\n",
    "\n",
    "print()\n",
    "print(\"Means, STDs, and Parameters for each grid combination:\")\n",
    "for mean, stdev, param in zip(means, stds, params):\n",
    "    print(\"%f (%f) with: %r\" % (mean, stdev, param))"
   ]
  },
  {
   "cell_type": "markdown",
   "id": "5e27c438",
   "metadata": {},
   "source": [
    "## Tune the Neuron Activation Function\n",
    "\n",
    "Generally, the rectifier activation function is the most popular (which is initialized here), but in the past it used to be the sigmoid and the tanh functions and these functions may still be more suitable for different problems.\n",
    "\n",
    "Evaluate the suite of different activation functions available in Keras. These functions will be only used in the hidden layer, as a sigmoid activation function is required in the output for the binary classification problem.\n",
    "\n",
    "Generally, it is a good idea to prepare data to the range of the different transfer functions, which we will not do in this case.\n",
    "\n",
    "Activation functions in Keras:\n",
    "\n",
    "- https://keras.io/api/layers/activations/"
   ]
  },
  {
   "cell_type": "markdown",
   "id": "0855c4aa",
   "metadata": {},
   "source": [
    "Add the `activation` argument in order to set the relevant grid parameters on Grid Search:"
   ]
  },
  {
   "cell_type": "code",
   "execution_count": 45,
   "id": "6805e8ff",
   "metadata": {},
   "outputs": [],
   "source": [
    "def create_model(activation='relu'):\n",
    "    # create model\n",
    "    model = Sequential()\n",
    "    model.add(Dense(12, input_dim=8, kernel_initializer='uniform', activation=activation))\n",
    "    model.add(Dense(1, kernel_initializer='uniform', activation='sigmoid'))\n",
    "    # Compile model\n",
    "    model.compile(loss='binary_crossentropy', optimizer='adam', metrics=['accuracy'])\n",
    "    return model"
   ]
  },
  {
   "cell_type": "markdown",
   "id": "0a181c9b",
   "metadata": {},
   "source": [
    "Add the best parameters from the first `fit()` method's hyperparamter tuning:"
   ]
  },
  {
   "cell_type": "code",
   "execution_count": 46,
   "id": "aeeda7ac",
   "metadata": {},
   "outputs": [],
   "source": [
    "clf_params = {\n",
    "    \"epochs\": 100,\n",
    "    \"batch_size\": 10,\n",
    "    \"validation_split\": 0.2,\n",
    "    \"shuffle\": True,\n",
    "    \"use_multiprocessing\": True,\n",
    "    \"verbose\": 0\n",
    "}"
   ]
  },
  {
   "cell_type": "code",
   "execution_count": 47,
   "id": "9b1d5c7a",
   "metadata": {},
   "outputs": [],
   "source": [
    "model = KerasClassifier(build_fn=create_model)"
   ]
  },
  {
   "cell_type": "code",
   "execution_count": 48,
   "id": "9c65c810",
   "metadata": {},
   "outputs": [
    {
     "data": {
      "text/plain": [
       "<tensorflow.python.keras.wrappers.scikit_learn.KerasClassifier at 0x7f11282ec290>"
      ]
     },
     "execution_count": 48,
     "metadata": {},
     "output_type": "execute_result"
    }
   ],
   "source": [
    "model.set_params(**clf_params)"
   ]
  },
  {
   "cell_type": "code",
   "execution_count": 49,
   "id": "237d4be6",
   "metadata": {},
   "outputs": [
    {
     "data": {
      "text/plain": [
       "{'epochs': 100,\n",
       " 'batch_size': 10,\n",
       " 'validation_split': 0.2,\n",
       " 'shuffle': True,\n",
       " 'use_multiprocessing': True,\n",
       " 'verbose': 0,\n",
       " 'build_fn': <function __main__.create_model(activation='relu')>}"
      ]
     },
     "execution_count": 49,
     "metadata": {},
     "output_type": "execute_result"
    }
   ],
   "source": [
    "model.get_params()"
   ]
  },
  {
   "cell_type": "markdown",
   "id": "4d253862",
   "metadata": {},
   "source": [
    "Set up the various initializers:"
   ]
  },
  {
   "cell_type": "code",
   "execution_count": 50,
   "id": "d6e24730",
   "metadata": {},
   "outputs": [],
   "source": [
    "param_grid = {\n",
    "    \"activation\": ['softmax', 'softplus', 'softsign', 'relu', 'tanh', 'sigmoid', 'hard_sigmoid', 'linear']\n",
    "}"
   ]
  },
  {
   "cell_type": "code",
   "execution_count": 51,
   "id": "75fd2429",
   "metadata": {},
   "outputs": [],
   "source": [
    "grid = GridSearchCV(estimator=model, param_grid=param_grid, n_jobs=-1, cv=3)"
   ]
  },
  {
   "cell_type": "code",
   "execution_count": 52,
   "id": "843b12bb",
   "metadata": {},
   "outputs": [],
   "source": [
    "classifier = grid.fit(X, y)"
   ]
  },
  {
   "cell_type": "code",
   "execution_count": 53,
   "id": "7db06ec2",
   "metadata": {
    "scrolled": true
   },
   "outputs": [
    {
     "name": "stdout",
     "output_type": "stream",
     "text": [
      "Best accuracy: 0.74\n",
      "Best parameters for training: {'activation': 'softplus'}\n",
      "\n",
      "Means, STDs, and Parameters for each grid combination:\n",
      "0.649740 (0.023510) with: {'activation': 'softmax'}\n",
      "0.738281 (0.024080) with: {'activation': 'softplus'}\n",
      "0.679688 (0.033754) with: {'activation': 'softsign'}\n",
      "0.730469 (0.011049) with: {'activation': 'relu'}\n",
      "0.713542 (0.010253) with: {'activation': 'tanh'}\n",
      "0.699219 (0.013902) with: {'activation': 'sigmoid'}\n",
      "0.660156 (0.036782) with: {'activation': 'hard_sigmoid'}\n",
      "0.709635 (0.010253) with: {'activation': 'linear'}\n"
     ]
    }
   ],
   "source": [
    "print(\"Best accuracy: %.2f\" % classifier.best_score_)\n",
    "print(\"Best parameters for training: %s\" % classifier.best_params_)\n",
    "\n",
    "\n",
    "means = classifier.cv_results_['mean_test_score']\n",
    "stds = classifier.cv_results_['std_test_score']\n",
    "params = classifier.cv_results_['params']\n",
    "\n",
    "print()\n",
    "print(\"Means, STDs, and Parameters for each grid combination:\")\n",
    "for mean, stdev, param in zip(means, stds, params):\n",
    "    print(\"%f (%f) with: %r\" % (mean, stdev, param))"
   ]
  },
  {
   "cell_type": "markdown",
   "id": "a5442e71",
   "metadata": {},
   "source": []
  },
  {
   "cell_type": "markdown",
   "id": "04cdef33",
   "metadata": {},
   "source": [
    "## Tune the Dropout Regularization\n",
    "\n",
    "Tune dropout in an effort to limit overfitting and improve the model’s ability to generalize. *To get good results, dropout is best combined with a weight constraint such as the max norm constraint.* This involves fitting both the dropout percentage and the weight constraint. \n",
    "\n",
    "Try dropout percentages between 0.0 and 0.9 (1.0 does not make sense) and maxnorm weight constraint values between 0 and 5."
   ]
  },
  {
   "cell_type": "markdown",
   "id": "14b5715e",
   "metadata": {},
   "source": [
    "Add the `dropout_rate` and `weight_constraint` arguments in order to set the relevant grid parameters on Grid Search:"
   ]
  },
  {
   "cell_type": "code",
   "execution_count": 54,
   "id": "804264ab",
   "metadata": {},
   "outputs": [],
   "source": [
    "def create_model(dropout_rate=0.0, weight_constraint=0):\n",
    "    # create model\n",
    "    model = Sequential()\n",
    "    model.add(Dense(12, input_dim=8, kernel_initializer='uniform', activation='linear', \n",
    "                    kernel_constraint=MaxNorm(weight_constraint)))\n",
    "    model.add(Dropout(dropout_rate))\n",
    "    model.add(Dense(1, kernel_initializer='uniform', activation='sigmoid'))\n",
    "    # Compile model\n",
    "    model.compile(loss='binary_crossentropy', optimizer='adam', metrics=['accuracy'])\n",
    "    return model"
   ]
  },
  {
   "cell_type": "markdown",
   "id": "bc71b97c",
   "metadata": {},
   "source": [
    "Add the best parameters from the first `fit()` method's hyperparamter tuning:"
   ]
  },
  {
   "cell_type": "code",
   "execution_count": 55,
   "id": "6d32f1da",
   "metadata": {},
   "outputs": [],
   "source": [
    "clf_params = {\n",
    "    \"epochs\": 100,\n",
    "    \"batch_size\": 10,\n",
    "    \"validation_split\": 0.2,\n",
    "    \"shuffle\": True,\n",
    "    \"use_multiprocessing\": True,\n",
    "    \"verbose\": 0\n",
    "}"
   ]
  },
  {
   "cell_type": "code",
   "execution_count": 56,
   "id": "15d5fac3",
   "metadata": {},
   "outputs": [],
   "source": [
    "model = KerasClassifier(build_fn=create_model)"
   ]
  },
  {
   "cell_type": "code",
   "execution_count": 57,
   "id": "1f1bcffa",
   "metadata": {},
   "outputs": [
    {
     "data": {
      "text/plain": [
       "<tensorflow.python.keras.wrappers.scikit_learn.KerasClassifier at 0x7f1128406850>"
      ]
     },
     "execution_count": 57,
     "metadata": {},
     "output_type": "execute_result"
    }
   ],
   "source": [
    "model.set_params(**clf_params)"
   ]
  },
  {
   "cell_type": "code",
   "execution_count": 58,
   "id": "1048002f",
   "metadata": {},
   "outputs": [
    {
     "data": {
      "text/plain": [
       "{'epochs': 100,\n",
       " 'batch_size': 10,\n",
       " 'validation_split': 0.2,\n",
       " 'shuffle': True,\n",
       " 'use_multiprocessing': True,\n",
       " 'verbose': 0,\n",
       " 'build_fn': <function __main__.create_model(dropout_rate=0.0, weight_constraint=0)>}"
      ]
     },
     "execution_count": 58,
     "metadata": {},
     "output_type": "execute_result"
    }
   ],
   "source": [
    "model.get_params()"
   ]
  },
  {
   "cell_type": "markdown",
   "id": "3e6a06b1",
   "metadata": {},
   "source": [
    "Set up the various initializers:"
   ]
  },
  {
   "cell_type": "code",
   "execution_count": 59,
   "id": "0e05d276",
   "metadata": {},
   "outputs": [],
   "source": [
    "param_grid = {\n",
    "    \"weight_constraint\": [1, 2, 3, 4, 5],\n",
    "    \"dropout_rate\": [0.0, 0.1, 0.2, 0.3, 0.4, 0.5, 0.6, 0.7, 0.8, 0.9]\n",
    "}"
   ]
  },
  {
   "cell_type": "code",
   "execution_count": 60,
   "id": "50964c20",
   "metadata": {},
   "outputs": [],
   "source": [
    "grid = GridSearchCV(estimator=model, param_grid=param_grid, n_jobs=-1, cv=3)"
   ]
  },
  {
   "cell_type": "code",
   "execution_count": 61,
   "id": "80f8d8c5",
   "metadata": {},
   "outputs": [],
   "source": [
    "classifier = grid.fit(X, y)"
   ]
  },
  {
   "cell_type": "code",
   "execution_count": 62,
   "id": "48324129",
   "metadata": {
    "scrolled": true
   },
   "outputs": [
    {
     "name": "stdout",
     "output_type": "stream",
     "text": [
      "Best accuracy: 0.73\n",
      "Best parameters for training: {'dropout_rate': 0.1, 'weight_constraint': 2}\n",
      "\n",
      "Means, STDs, and Parameters for each grid combination:\n",
      "0.730469 (0.024080) with: {'dropout_rate': 0.0, 'weight_constraint': 1}\n",
      "0.717448 (0.012075) with: {'dropout_rate': 0.0, 'weight_constraint': 2}\n",
      "0.718750 (0.005524) with: {'dropout_rate': 0.0, 'weight_constraint': 3}\n",
      "0.726562 (0.030758) with: {'dropout_rate': 0.0, 'weight_constraint': 4}\n",
      "0.720052 (0.011201) with: {'dropout_rate': 0.0, 'weight_constraint': 5}\n",
      "0.708333 (0.012075) with: {'dropout_rate': 0.1, 'weight_constraint': 1}\n",
      "0.733073 (0.019225) with: {'dropout_rate': 0.1, 'weight_constraint': 2}\n",
      "0.714844 (0.016877) with: {'dropout_rate': 0.1, 'weight_constraint': 3}\n",
      "0.713542 (0.007366) with: {'dropout_rate': 0.1, 'weight_constraint': 4}\n",
      "0.703125 (0.022326) with: {'dropout_rate': 0.1, 'weight_constraint': 5}\n",
      "0.729167 (0.024360) with: {'dropout_rate': 0.2, 'weight_constraint': 1}\n",
      "0.718750 (0.020915) with: {'dropout_rate': 0.2, 'weight_constraint': 2}\n",
      "0.729167 (0.022402) with: {'dropout_rate': 0.2, 'weight_constraint': 3}\n",
      "0.708333 (0.011201) with: {'dropout_rate': 0.2, 'weight_constraint': 4}\n",
      "0.725260 (0.018136) with: {'dropout_rate': 0.2, 'weight_constraint': 5}\n",
      "0.705729 (0.012890) with: {'dropout_rate': 0.3, 'weight_constraint': 1}\n",
      "0.720052 (0.004872) with: {'dropout_rate': 0.3, 'weight_constraint': 2}\n",
      "0.709635 (0.031948) with: {'dropout_rate': 0.3, 'weight_constraint': 3}\n",
      "0.699219 (0.006379) with: {'dropout_rate': 0.3, 'weight_constraint': 4}\n",
      "0.709635 (0.029635) with: {'dropout_rate': 0.3, 'weight_constraint': 5}\n",
      "0.716146 (0.012890) with: {'dropout_rate': 0.4, 'weight_constraint': 1}\n",
      "0.710938 (0.008438) with: {'dropout_rate': 0.4, 'weight_constraint': 2}\n",
      "0.705729 (0.013279) with: {'dropout_rate': 0.4, 'weight_constraint': 3}\n",
      "0.710938 (0.008438) with: {'dropout_rate': 0.4, 'weight_constraint': 4}\n",
      "0.718750 (0.019401) with: {'dropout_rate': 0.4, 'weight_constraint': 5}\n",
      "0.705729 (0.016053) with: {'dropout_rate': 0.5, 'weight_constraint': 1}\n",
      "0.717448 (0.017566) with: {'dropout_rate': 0.5, 'weight_constraint': 2}\n",
      "0.709635 (0.006639) with: {'dropout_rate': 0.5, 'weight_constraint': 3}\n",
      "0.710938 (0.008438) with: {'dropout_rate': 0.5, 'weight_constraint': 4}\n",
      "0.705729 (0.011201) with: {'dropout_rate': 0.5, 'weight_constraint': 5}\n",
      "0.699219 (0.003189) with: {'dropout_rate': 0.6, 'weight_constraint': 1}\n",
      "0.697917 (0.016367) with: {'dropout_rate': 0.6, 'weight_constraint': 2}\n",
      "0.709635 (0.012075) with: {'dropout_rate': 0.6, 'weight_constraint': 3}\n",
      "0.697917 (0.026748) with: {'dropout_rate': 0.6, 'weight_constraint': 4}\n",
      "0.699219 (0.030425) with: {'dropout_rate': 0.6, 'weight_constraint': 5}\n",
      "0.699219 (0.019401) with: {'dropout_rate': 0.7, 'weight_constraint': 1}\n",
      "0.699219 (0.019401) with: {'dropout_rate': 0.7, 'weight_constraint': 2}\n",
      "0.694010 (0.021710) with: {'dropout_rate': 0.7, 'weight_constraint': 3}\n",
      "0.705729 (0.014382) with: {'dropout_rate': 0.7, 'weight_constraint': 4}\n",
      "0.695312 (0.024910) with: {'dropout_rate': 0.7, 'weight_constraint': 5}\n",
      "0.695312 (0.022097) with: {'dropout_rate': 0.8, 'weight_constraint': 1}\n",
      "0.684896 (0.017566) with: {'dropout_rate': 0.8, 'weight_constraint': 2}\n",
      "0.707031 (0.032369) with: {'dropout_rate': 0.8, 'weight_constraint': 3}\n",
      "0.696615 (0.016053) with: {'dropout_rate': 0.8, 'weight_constraint': 4}\n",
      "0.697917 (0.016367) with: {'dropout_rate': 0.8, 'weight_constraint': 5}\n",
      "0.666667 (0.027866) with: {'dropout_rate': 0.9, 'weight_constraint': 1}\n",
      "0.671875 (0.041707) with: {'dropout_rate': 0.9, 'weight_constraint': 2}\n",
      "0.658854 (0.032578) with: {'dropout_rate': 0.9, 'weight_constraint': 3}\n",
      "0.678385 (0.023939) with: {'dropout_rate': 0.9, 'weight_constraint': 4}\n",
      "0.657552 (0.028940) with: {'dropout_rate': 0.9, 'weight_constraint': 5}\n"
     ]
    }
   ],
   "source": [
    "print(\"Best accuracy: %.2f\" % classifier.best_score_)\n",
    "print(\"Best parameters for training: %s\" % classifier.best_params_)\n",
    "\n",
    "\n",
    "means = classifier.cv_results_['mean_test_score']\n",
    "stds = classifier.cv_results_['std_test_score']\n",
    "params = classifier.cv_results_['params']\n",
    "\n",
    "print()\n",
    "print(\"Means, STDs, and Parameters for each grid combination:\")\n",
    "for mean, stdev, param in zip(means, stds, params):\n",
    "    print(\"%f (%f) with: %r\" % (mean, stdev, param))"
   ]
  },
  {
   "cell_type": "markdown",
   "id": "b5adf94a",
   "metadata": {},
   "source": [
    "## Tune the Number of Neurons in the Hidden Layer\n",
    "\n",
    "**Tuning the number of neurons in a single hidden layer.**\n",
    "\n",
    "The number of neurons in a layer is an important parameter to tune. Generally, the number of neurons in a layer controls the representational capacity of the network, at least at that point in the topology. Also, a large enough single layer network could approximate any other neural network.\n",
    "\n",
    "A larger network requires more training and at least the batch size and number of epochs should ideally be optimized with the number of neurons."
   ]
  },
  {
   "cell_type": "markdown",
   "id": "8b63b03a",
   "metadata": {},
   "source": [
    "Add the `neurons` argument in order to set the relevant grid parameters on Grid Search:"
   ]
  },
  {
   "cell_type": "code",
   "execution_count": 63,
   "id": "19604560",
   "metadata": {},
   "outputs": [],
   "source": [
    "def create_model(neurons=1):\n",
    "    # create model\n",
    "    model = Sequential()\n",
    "    model.add(Dense(neurons, input_dim=8, kernel_initializer='uniform', activation='linear', \n",
    "                    kernel_constraint=MaxNorm(4)))\n",
    "    model.add(Dropout(0.2))\n",
    "    model.add(Dense(1, kernel_initializer='uniform', activation='sigmoid'))\n",
    "    # Compile model\n",
    "    model.compile(loss='binary_crossentropy', optimizer='adam', metrics=['accuracy'])\n",
    "    return model"
   ]
  },
  {
   "cell_type": "markdown",
   "id": "ad728389",
   "metadata": {},
   "source": [
    "Add the best parameters from the first `fit()` method's hyperparamter tuning:"
   ]
  },
  {
   "cell_type": "code",
   "execution_count": 64,
   "id": "f347a0a2",
   "metadata": {},
   "outputs": [],
   "source": [
    "clf_params = {\n",
    "    \"epochs\": 100,\n",
    "    \"batch_size\": 10,\n",
    "    \"validation_split\": 0.2,\n",
    "    \"shuffle\": True,\n",
    "    \"use_multiprocessing\": True,\n",
    "    \"verbose\": 0\n",
    "}"
   ]
  },
  {
   "cell_type": "code",
   "execution_count": 65,
   "id": "828d0981",
   "metadata": {},
   "outputs": [],
   "source": [
    "model = KerasClassifier(build_fn=create_model)"
   ]
  },
  {
   "cell_type": "code",
   "execution_count": 66,
   "id": "357695fe",
   "metadata": {},
   "outputs": [
    {
     "data": {
      "text/plain": [
       "<tensorflow.python.keras.wrappers.scikit_learn.KerasClassifier at 0x7f11285e7950>"
      ]
     },
     "execution_count": 66,
     "metadata": {},
     "output_type": "execute_result"
    }
   ],
   "source": [
    "model.set_params(**clf_params)"
   ]
  },
  {
   "cell_type": "code",
   "execution_count": 67,
   "id": "fa625e0c",
   "metadata": {},
   "outputs": [
    {
     "data": {
      "text/plain": [
       "{'epochs': 100,\n",
       " 'batch_size': 10,\n",
       " 'validation_split': 0.2,\n",
       " 'shuffle': True,\n",
       " 'use_multiprocessing': True,\n",
       " 'verbose': 0,\n",
       " 'build_fn': <function __main__.create_model(neurons=1)>}"
      ]
     },
     "execution_count": 67,
     "metadata": {},
     "output_type": "execute_result"
    }
   ],
   "source": [
    "model.get_params()"
   ]
  },
  {
   "cell_type": "markdown",
   "id": "5cc61b38",
   "metadata": {},
   "source": [
    "Set up the values from 1 to 30 in steps of 5:"
   ]
  },
  {
   "cell_type": "code",
   "execution_count": 68,
   "id": "afa5d6f4",
   "metadata": {},
   "outputs": [],
   "source": [
    "param_grid = {\n",
    "    \"neurons\": [1, 5, 10, 15, 20, 25, 30]\n",
    "}"
   ]
  },
  {
   "cell_type": "code",
   "execution_count": 69,
   "id": "30e1cdf3",
   "metadata": {},
   "outputs": [],
   "source": [
    "grid = GridSearchCV(estimator=model, param_grid=param_grid, n_jobs=-1, cv=3)"
   ]
  },
  {
   "cell_type": "code",
   "execution_count": 70,
   "id": "bbd579ae",
   "metadata": {},
   "outputs": [],
   "source": [
    "classifier = grid.fit(X, y)"
   ]
  },
  {
   "cell_type": "code",
   "execution_count": 71,
   "id": "9fa77a85",
   "metadata": {
    "scrolled": true
   },
   "outputs": [
    {
     "name": "stdout",
     "output_type": "stream",
     "text": [
      "Best accuracy: 0.73\n",
      "Best parameters for training: {'neurons': 10}\n",
      "\n",
      "Means, STDs, and Parameters for each grid combination:\n",
      "0.699219 (0.027805) with: {'neurons': 1}\n",
      "0.699219 (0.019401) with: {'neurons': 5}\n",
      "0.727865 (0.032264) with: {'neurons': 10}\n",
      "0.688802 (0.001841) with: {'neurons': 15}\n",
      "0.718750 (0.014616) with: {'neurons': 20}\n",
      "0.714844 (0.022999) with: {'neurons': 25}\n",
      "0.718750 (0.028348) with: {'neurons': 30}\n"
     ]
    }
   ],
   "source": [
    "print(\"Best accuracy: %.2f\" % classifier.best_score_)\n",
    "print(\"Best parameters for training: %s\" % classifier.best_params_)\n",
    "\n",
    "\n",
    "means = classifier.cv_results_['mean_test_score']\n",
    "stds = classifier.cv_results_['std_test_score']\n",
    "params = classifier.cv_results_['params']\n",
    "\n",
    "print()\n",
    "print(\"Means, STDs, and Parameters for each grid combination:\")\n",
    "for mean, stdev, param in zip(means, stds, params):\n",
    "    print(\"%f (%f) with: %r\" % (mean, stdev, param))"
   ]
  },
  {
   "cell_type": "code",
   "execution_count": null,
   "id": "0ff8e490",
   "metadata": {},
   "outputs": [],
   "source": []
  },
  {
   "cell_type": "code",
   "execution_count": null,
   "id": "d9967563",
   "metadata": {},
   "outputs": [],
   "source": []
  },
  {
   "cell_type": "markdown",
   "id": "3405d760",
   "metadata": {},
   "source": [
    "# Weight Initialization\n",
    "\n",
    "Weight initialization is an important design choice when developing deep learning neural network models. Tailored heuristics can result in more effective training of neural network models using the stochastic gradient descent optimization algorithm. These techniques have become the defacto standard given they may result in a slightly more effective optimization (model training) process.\n",
    "\n",
    "Each time, a neural network is initialized with a different set of weights, resulting in a different starting point for the optimization process, and potentially resulting in a different final set of weights with different performance characteristics.\n",
    "\n",
    "We cannot initialize all weights to the value 0.0 as the optimization algorithm results in some asymmetry in the error gradient to begin searching effectively.\n",
    "\n",
    "These modern weight initialization techniques are divided based on the type of activation function used in the nodes that are being initialized, such as “Sigmoid and Tanh” and “ReLU.”\n",
    "\n",
    "Historically, weight initialization follows simple heuristics, such as:\n",
    "\n",
    "- Small random values in the range [-0.3, 0.3]\n",
    "- Small random values in the range [0, 1]\n",
    "- Small random values in the range [-1, 1]\n",
    "\n",
    "\n",
    "**References:**\n",
    "- https://machinelearningmastery.com/weight-initialization-for-deep-learning-neural-networks/"
   ]
  },
  {
   "cell_type": "code",
   "execution_count": 72,
   "id": "9512fc2a",
   "metadata": {},
   "outputs": [],
   "source": [
    "from math import sqrt\n",
    "from numpy import mean\n",
    "from numpy.random import rand, randn"
   ]
  },
  {
   "cell_type": "markdown",
   "id": "9ad960b4",
   "metadata": {},
   "source": [
    "## Xavier initialization for Sigmoid and Tanh\n",
    "\n",
    "- 10 inputs to a node\n",
    "- calculate the lower and upper bounds of the range\n",
    "- calculate 1,000 initial weight values that could be used for the nodes in a layer or a network that uses the sigmoid or tanh activation function.\n",
    "\n",
    "*The Xavier initialization method is calculated as a random number with a uniform probability distribution (U) between the range -(1/sqrt(n)) and 1/sqrt(n), where n is the number of inputs to the node.*\n",
    "\n",
    "    weight = U [-(1/sqrt(n)), 1/sqrt(n)]\n",
    "\n",
    "\n",
    "Calculate the weights, the lower and upper bounds are printed as are the min, max, mean, and standard deviation of the generated weights."
   ]
  },
  {
   "cell_type": "code",
   "execution_count": 73,
   "id": "23d8aef9",
   "metadata": {},
   "outputs": [
    {
     "name": "stdout",
     "output_type": "stream",
     "text": [
      "Weights calculation:\n",
      "Lower bound: -0.31622776601683794 - Upper bound: 0.31622776601683794 \n",
      "Min: -0.3132982174430696 - Max: 0.31604920692481037\n",
      "Mean: -0.006162296753756642 - STD: 0.1846714856250318\n"
     ]
    }
   ],
   "source": [
    "# number of nodes in the previous layer\n",
    "n = 10\n",
    "# calculate the range for the weights\n",
    "lower, upper = -(1.0 / sqrt(n)), (1.0 / sqrt(n))\n",
    "# generate random numbers\n",
    "numbers = rand(1000)\n",
    "# scale to the desired range\n",
    "scaled = lower + numbers * (upper - lower)\n",
    "# summarize\n",
    "print(\"Weights calculation:\")\n",
    "print(\"Lower bound: {} - Upper bound: {} \".format(lower, upper))\n",
    "print(\"Min: {} - Max: {}\".format(scaled.min(), scaled.max()))\n",
    "print(\"Mean: {} - STD: {}\".format(scaled.mean(), scaled.std()))"
   ]
  },
  {
   "cell_type": "markdown",
   "id": "544d3137",
   "metadata": {},
   "source": [
    "#### How the spread of the weights changes with the number of inputs\n",
    "\n",
    "Calculate the bounds on the weight initialization with different numbers of inputs from 1 to 100 and plot the result.\n",
    "\n",
    "Range of weights with different numbers of input values:"
   ]
  },
  {
   "cell_type": "code",
   "execution_count": 74,
   "id": "fc1c470d",
   "metadata": {},
   "outputs": [
    {
     "data": {
      "image/png": "[encoded data removed]",
      "text/plain": [
       "<Figure size 432x288 with 1 Axes>"
      ]
     },
     "metadata": {
      "needs_background": "light"
     },
     "output_type": "display_data"
    }
   ],
   "source": [
    "# define the number of inputs from 1 to 100\n",
    "values = [i for i in range(1, 101)]\n",
    "# calculate the range for each number of inputs\n",
    "results = [1.0 / sqrt(n) for n in values]\n",
    "# create an error bar plot centered on 0 for each number of inputs\n",
    "plt.errorbar(values, [0.0 for _ in values], yerr=results)\n",
    "plt.show()"
   ]
  },
  {
   "cell_type": "markdown",
   "id": "181b773e",
   "metadata": {},
   "source": [
    "With very few inputs, the range is large, such as between -1 and 1 or -0.7 to -7. The range rapidly drops to about 20 weights to near -0.1 and 0.1, where it remains reasonably constant."
   ]
  },
  {
   "cell_type": "markdown",
   "id": "46005484",
   "metadata": {},
   "source": [
    "## Normalized Xavier initialization for Sigmoid and Tanh\n",
    "\n",
    "- 10 inputs to a node\n",
    "- 20 nodes in the current layer\n",
    "- calculate the lower and upper bounds of the range\n",
    "- calculate 1,000 initial weight values that could be used for the nodes in a layer or a network that uses the sigmoid or tanh activation function.\n",
    "\n",
    "*The Normalized Xavier initialization method is calculated as a random number with a uniform probability distribution (U) between the range -(sqrt(6)/sqrt(n + m)) and sqrt(6)/sqrt(n + m), where n us the number of inputs to the node (e.g. number of nodes in the previous layer) and m is the number of outputs from the layer (e.g. number of nodes in the current layer).*\n",
    "\n",
    "    weight = U [-(sqrt(6)/sqrt(n + m)), sqrt(6)/sqrt(n + m)]\n",
    "\n",
    "\n",
    "Same inputs as before, and summarize the statistical summary of 1,000 generated weights:"
   ]
  },
  {
   "cell_type": "code",
   "execution_count": 75,
   "id": "994d6369",
   "metadata": {},
   "outputs": [
    {
     "name": "stdout",
     "output_type": "stream",
     "text": [
      "Weights calculation:\n",
      "Lower bound: -0.44721359549995787 - Upper bound: 0.44721359549995787 \n",
      "Min: -0.44433509302448565 - Max: 0.4466892158878595\n",
      "Mean: 0.00627646855982425 - STD: 0.2612118816181846\n"
     ]
    }
   ],
   "source": [
    "# number of nodes in the previous layer\n",
    "n = 10\n",
    "# number of nodes in the next layer\n",
    "m = 20\n",
    "# calculate the range for the weights\n",
    "lower, upper = -(sqrt(6.0) / sqrt(n + m)), (sqrt(6.0) / sqrt(n + m))\n",
    "# generate random numbers\n",
    "numbers = rand(1000)\n",
    "# scale to the desired range\n",
    "scaled = lower + numbers * (upper - lower)\n",
    "# summarize\n",
    "print(\"Weights calculation:\")\n",
    "print(\"Lower bound: {} - Upper bound: {} \".format(lower, upper))\n",
    "print(\"Min: {} - Max: {}\".format(scaled.min(), scaled.max()))\n",
    "print(\"Mean: {} - STD: {}\".format(scaled.mean(), scaled.std()))"
   ]
  },
  {
   "cell_type": "markdown",
   "id": "38729f47",
   "metadata": {},
   "source": [
    "The bounds of the weight values are about -0.447 and 0.447. These bounds would become wider with fewer inputs and more narrow with more inputs."
   ]
  },
  {
   "cell_type": "markdown",
   "id": "df6f3e68",
   "metadata": {},
   "source": [
    "#### How the spread of the weights changes with the number of inputs\n",
    "\n",
    "Calculate the bounds on the weight initialization with different numbers of inputs from 1 to 100 and a fixed number of 10 outputs and plot the result."
   ]
  },
  {
   "cell_type": "code",
   "execution_count": 76,
   "id": "efbacd35",
   "metadata": {},
   "outputs": [
    {
     "data": {
      "image/png": "[encoded data removed]",
      "text/plain": [
       "<Figure size 432x288 with 1 Axes>"
      ]
     },
     "metadata": {
      "needs_background": "light"
     },
     "output_type": "display_data"
    }
   ],
   "source": [
    "# define the number of inputs from 1 to 100\n",
    "values = [i for i in range(1, 101)]\n",
    "# define the number of outputs\n",
    "m = 10\n",
    "# calculate the range for each number of inputs\n",
    "results = [1.0 / sqrt(n + m) for n in values]\n",
    "# create an error bar plot centered on 0 for each number of inputs\n",
    "plt.errorbar(values, [0.0 for _ in values], yerr=results)\n",
    "plt.show()"
   ]
  },
  {
   "cell_type": "markdown",
   "id": "61660467",
   "metadata": {},
   "source": [
    "The range starts wide at about -0.3 to 0.3 with few inputs and reduces to about -0.1 to 0.1 as the number of inputs increases. Compared to the non-normalized version in the previous section, the range is initially smaller, although transitions to the compact range at a similar rate."
   ]
  },
  {
   "cell_type": "markdown",
   "id": "0f62bb2b",
   "metadata": {},
   "source": [
    "## He initialization for ReLU\n",
    "\n",
    "The “xavier” weight initialization was found to have problems when used to initialize networks that use the **rectified linear (ReLU)** activation function. Thus, the **“he” initialization** was developed specifically for nodes and layers that use ReLU activation, popular in the hidden layers of the most **multilayer Perceptron** and the **convolutional neural network** models.\n",
    "\n",
    "- 10 inputs to a node\n",
    "- calculate the standard deviation of the Gaussian distribution \n",
    "- calculate 1,000 initial weight values that could be used for the nodes in a layer or a network that uses the ReLU activation function.\n",
    "\n",
    "*The He initialization method is calculated as a random number with a Gaussian probability distribution (G) with a mean of 0.0 and a standard deviation of sqrt(2/n), where n is the number of inputs to the node.*\n",
    "\n",
    "    weight = G (0.0, sqrt(2/n))\n",
    "\n",
    "Calculate the min, max, mean, and standard deviation of the generated weights."
   ]
  },
  {
   "cell_type": "markdown",
   "id": "c74716a2",
   "metadata": {},
   "source": []
  },
  {
   "cell_type": "code",
   "execution_count": 77,
   "id": "07e89530",
   "metadata": {},
   "outputs": [
    {
     "name": "stdout",
     "output_type": "stream",
     "text": [
      "Weights calculation:\n",
      "Gaussian Probability Distribution: 0.4472135954999579 \n",
      "Min: -1.3503668878604604 - Max: 1.428001116234026\n",
      "Mean: 0.005781498950566694 - STD: 0.43722277036973006\n"
     ]
    }
   ],
   "source": [
    "# number of nodes in the previous layer\n",
    "n = 10\n",
    "# calculate the range for the weights\n",
    "std = sqrt(2.0 / n)\n",
    "# generate random numbers\n",
    "numbers = randn(1000)\n",
    "# scale to the desired range\n",
    "scaled = numbers * std\n",
    "# summarize\n",
    "print(\"Weights calculation:\")\n",
    "print(\"Gaussian Probability Distribution: {} \".format(std))\n",
    "print(\"Min: {} - Max: {}\".format(scaled.min(), scaled.max()))\n",
    "print(\"Mean: {} - STD: {}\".format(scaled.mean(), scaled.std()))"
   ]
  },
  {
   "cell_type": "markdown",
   "id": "f0af0906",
   "metadata": {},
   "source": [
    "The bound of the calculated standard deviation of the weights is about 0.447. This standard deviation would become larger with fewer inputs and smaller with more inputs. \n",
    "\n",
    "The range of the weights is close to the theoretical range of about -1.788 and 1.788, which is four times the standard deviation, capturing 99.7% of observations in the Gaussian distribution. \n",
    "\n",
    "The mean and standard deviation of the generated weights are close to the prescribed 0.0 and 0.447 respectively."
   ]
  },
  {
   "cell_type": "markdown",
   "id": "85e60b71",
   "metadata": {},
   "source": [
    "#### How the spread of the weights changes with the number of inputs.\n",
    "\n",
    "Calculate the bounds on the weight initialization with different numbers of inputs from 1 to 100 and plot the result."
   ]
  },
  {
   "cell_type": "code",
   "execution_count": 78,
   "id": "eb8ae195",
   "metadata": {},
   "outputs": [
    {
     "data": {
      "image/png": "[encoded data removed]",
      "text/plain": [
       "<Figure size 432x288 with 1 Axes>"
      ]
     },
     "metadata": {
      "needs_background": "light"
     },
     "output_type": "display_data"
    }
   ],
   "source": [
    "# define the number of inputs from 1 to 100\n",
    "values = [i for i in range(1, 101)]\n",
    "# calculate the range for each number of inputs\n",
    "results = [sqrt(2.0 / n) for n in values]\n",
    "# create an error bar plot centered on 0 for each number of inputs\n",
    "plt.errorbar(values, [0.0 for _ in values], yerr=results)\n",
    "plt.show()"
   ]
  },
  {
   "cell_type": "markdown",
   "id": "b0d12149",
   "metadata": {},
   "source": [
    "With very few inputs, the range is large, near -1.5 and 1.5 or -1.0 to -1.0.\n",
    "\n",
    "The range rapidly drops to about 20 weights to near -0.1 and 0.1, where it remains reasonably constant."
   ]
  },
  {
   "cell_type": "code",
   "execution_count": null,
   "id": "6d4f0df4",
   "metadata": {},
   "outputs": [],
   "source": []
  }
 ],
 "metadata": {
  "kernelspec": {
   "display_name": "ml",
   "language": "python",
   "name": "ml"
  },
  "language_info": {
   "codemirror_mode": {
    "name": "ipython",
    "version": 3
   },
   "file_extension": ".py",
   "mimetype": "text/x-python",
   "name": "python",
   "nbconvert_exporter": "python",
   "pygments_lexer": "ipython3",
   "version": "3.7.10"
  }
 },
 "nbformat": 4,
 "nbformat_minor": 5
}
