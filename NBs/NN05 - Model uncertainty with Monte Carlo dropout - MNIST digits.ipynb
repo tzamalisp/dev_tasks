{
 "cells": [
  {
   "cell_type": "markdown",
   "id": "6a15c5bb",
   "metadata": {},
   "source": [
    "# Model uncertainty with Monte Carlo dropout in TensorFlow\n",
    "\n",
    "Deep learning models have shown amazing performance in a lot of fields such as autonomous driving, manufacturing, and medicine, to name a few. However, these are fields in which representing model uncertainty is of crucial importance. The standard deep learning tools for regression and classification do not capture model uncertainty. In classification, predictive probabilities obtained at the end of the pipeline (the softmax output) are often erroneously interpreted as model confidence. Gal et. al argue, that a model can be uncertain in its predictions even with a high softmax output. Passing a point estimate of a function through a softmax results in extrapolations with unjustified high confidence for points far from the training data.\n",
    "\n",
    "Model uncertainty is indispensable for the deep learning practitioner as well. With model confidence at hand we can treat uncertain inputs and special cases explicitly. I recommend Vincents talk from pydata london for a general view on the topic. For example, in the case of classification, a model might return a result with high uncertainty. In this case we might decide to pass the input to a human for classification.\n",
    "\n",
    "Gal et. al show that the use of dropout in neural networks can be interpreted as a Bayesian approximation of a Gaussian process, a well known probabilistic model. Dropout is used in many models in deep learning as a way to avoid over-fitting, and they show that dropout approximately integrates over the models’ weights. In this article we will see how to represent model uncertainty of existing dropout neural networks. This approach, called Monte Carlo dropout, will mitigates the problem of representing model uncertainty in deep learning without sacrificing either computational complexity or test accuracy and can be used for all kind of models trained with dropout.\n",
    "\n",
    "**References:**\n",
    "\n",
    "* https://www.depends-on-the-definition.com/model-uncertainty-in-deep-learning-with-monte-carlo-dropout/\n",
    "* https://towardsdatascience.com/monte-carlo-dropout-7fd52f8b6571"
   ]
  },
  {
   "cell_type": "markdown",
   "id": "c7f51a98",
   "metadata": {},
   "source": [
    "![Compute Uncertainty Theory](images_notebooks/nn_compute_uncertainty.png)"
   ]
  },
  {
   "cell_type": "markdown",
   "id": "be105212",
   "metadata": {},
   "source": [
    "![Dropout Enabled neurons](images_notebooks/nn_dropout_enable.png)"
   ]
  },
  {
   "cell_type": "markdown",
   "id": "6a7862e3",
   "metadata": {},
   "source": [
    "## Import libraries"
   ]
  },
  {
   "cell_type": "code",
   "execution_count": 1,
   "id": "02ca3c6a",
   "metadata": {},
   "outputs": [],
   "source": [
    "from __future__ import print_function\n",
    "import tensorflow as tf\n",
    "from tensorflow import keras\n",
    "from tensorflow.keras.datasets import mnist\n",
    "from tensorflow.keras.models import Sequential\n",
    "from tensorflow.keras.layers import Dense, Dropout, Flatten, SpatialDropout2D, SpatialDropout1D, AlphaDropout\n",
    "from tensorflow.keras.layers import Conv2D, MaxPooling2D\n",
    "from tensorflow.keras import backend as K\n",
    "from tensorflow.keras import Input, Model\n",
    "from tensorflow.keras.utils import to_categorical\n",
    "\n",
    "import numpy as np\n",
    "import pandas as pd\n",
    "from sklearn.metrics import accuracy_score\n",
    "\n",
    "import matplotlib.pyplot as plt\n",
    "plt.style.use(\"ggplot\")\n",
    "%matplotlib inline\n",
    "\n",
    "import tqdm"
   ]
  },
  {
   "cell_type": "markdown",
   "id": "e0915857",
   "metadata": {},
   "source": [
    "## Predefine some basic variables"
   ]
  },
  {
   "cell_type": "code",
   "execution_count": 2,
   "id": "dd01685d",
   "metadata": {},
   "outputs": [],
   "source": [
    "n_epochs = 50\n",
    "batch_size = 128\n",
    "num_classes = 10\n",
    "epochs = 12\n",
    "\n",
    "# input image dimensions\n",
    "img_rows, img_cols = 28, 28"
   ]
  },
  {
   "cell_type": "markdown",
   "id": "6780400c",
   "metadata": {},
   "source": [
    "## Load data"
   ]
  },
  {
   "cell_type": "code",
   "execution_count": 3,
   "id": "3fe4a9b2",
   "metadata": {},
   "outputs": [],
   "source": [
    "# the data, split between train and test sets\n",
    "(x_train, y_train), (x_test, y_test) = mnist.load_data()"
   ]
  },
  {
   "cell_type": "code",
   "execution_count": 4,
   "id": "020a050c",
   "metadata": {},
   "outputs": [],
   "source": [
    "if K.image_data_format() == 'channels_first':\n",
    "    x_train = x_train.reshape(x_train.shape[0], 1, img_rows, img_cols)\n",
    "    x_test = x_test.reshape(x_test.shape[0], 1, img_rows, img_cols)\n",
    "    input_shape = (1, img_rows, img_cols)\n",
    "else:\n",
    "    x_train = x_train.reshape(x_train.shape[0], img_rows, img_cols, 1)\n",
    "    x_test = x_test.reshape(x_test.shape[0], img_rows, img_cols, 1)\n",
    "    input_shape = (img_rows, img_cols, 1)"
   ]
  },
  {
   "cell_type": "code",
   "execution_count": 5,
   "id": "2a7750a8",
   "metadata": {},
   "outputs": [
    {
     "name": "stdout",
     "output_type": "stream",
     "text": [
      "x_train shape: (60000, 28, 28, 1)\n",
      "60000 train samples\n",
      "10000 test samples\n"
     ]
    }
   ],
   "source": [
    "x_train = x_train.astype('float32')\n",
    "x_test = x_test.astype('float32')\n",
    "x_train /= 255\n",
    "x_test /= 255\n",
    "print('x_train shape:', x_train.shape)\n",
    "print(x_train.shape[0], 'train samples')\n",
    "print(x_test.shape[0], 'test samples')"
   ]
  },
  {
   "cell_type": "code",
   "execution_count": 6,
   "id": "d7bf8d32",
   "metadata": {},
   "outputs": [],
   "source": [
    "def format_bytes(size):\n",
    "    # 2**10 = 1024\n",
    "    power = 2**10\n",
    "    n = 0\n",
    "    power_labels = {0 : '', 1: 'kilo', 2: 'mega', 3: 'giga', 4: 'tera'}\n",
    "    while size > power:\n",
    "        size /= power\n",
    "        n += 1\n",
    "    return size, power_labels[n]+'bytes'"
   ]
  },
  {
   "cell_type": "code",
   "execution_count": 7,
   "id": "678b2c83",
   "metadata": {
    "scrolled": true
   },
   "outputs": [
    {
     "name": "stdout",
     "output_type": "stream",
     "text": [
      "size of X train: (179.443359375, 'megabytes')\n",
      "size of X test: (29.9072265625, 'megabytes')\n"
     ]
    }
   ],
   "source": [
    "print(\"size of X train:\", format_bytes(x_train.nbytes))\n",
    "print(\"size of X test:\", format_bytes(x_test.nbytes))"
   ]
  },
  {
   "cell_type": "code",
   "execution_count": 8,
   "id": "7cc9a39c",
   "metadata": {},
   "outputs": [],
   "source": [
    "# convert class vectors to binary class matrices\n",
    "y_train = to_categorical(y_train, num_classes)\n",
    "y_test = to_categorical(y_test, num_classes)"
   ]
  },
  {
   "cell_type": "markdown",
   "id": "82e52941",
   "metadata": {},
   "source": [
    "## Build CNN\n",
    "\n",
    "Build a simple convolutional network with and without Monte Carlo dropout and compare their properties"
   ]
  },
  {
   "cell_type": "code",
   "execution_count": 9,
   "id": "43ff4476",
   "metadata": {},
   "outputs": [],
   "source": [
    "def get_dropout(input_tensor, p=0.5, mc=False):\n",
    "    if mc:\n",
    "        return Dropout(p)(input_tensor, training=True)\n",
    "    else:\n",
    "        return Dropout(p)(input_tensor)"
   ]
  },
  {
   "cell_type": "code",
   "execution_count": 10,
   "id": "b61df5df",
   "metadata": {},
   "outputs": [],
   "source": [
    "def get_model(mc=False, act=\"relu\"):\n",
    "    inp = Input(input_shape)\n",
    "    x = Conv2D(32, kernel_size=(3, 3), activation=act)(inp)\n",
    "    x = Conv2D(64, kernel_size=(3, 3), activation=act)(x)\n",
    "    x = MaxPooling2D(pool_size=(2, 2))(x)\n",
    "    x = get_dropout(x, p=0.25, mc=mc)\n",
    "    x = Flatten()(x)\n",
    "    x = Dense(128, activation=act)(x)\n",
    "    x = get_dropout(x, p=0.5, mc=mc)\n",
    "    out = Dense(num_classes, activation='softmax')(x)\n",
    "\n",
    "    model = Model(inputs=inp, outputs=out)\n",
    "\n",
    "    model.compile(loss=keras.losses.categorical_crossentropy,\n",
    "                  optimizer=keras.optimizers.Adadelta(),\n",
    "                  metrics=['accuracy'])\n",
    "    return model"
   ]
  },
  {
   "cell_type": "markdown",
   "id": "1d8aeb43",
   "metadata": {},
   "source": [
    "### Simple model initiation"
   ]
  },
  {
   "cell_type": "code",
   "execution_count": 11,
   "id": "5f5e1cd6",
   "metadata": {},
   "outputs": [],
   "source": [
    "model = get_model(mc=False, act=\"relu\")"
   ]
  },
  {
   "cell_type": "code",
   "execution_count": 12,
   "id": "1acc2af3",
   "metadata": {},
   "outputs": [
    {
     "name": "stdout",
     "output_type": "stream",
     "text": [
      "Model: \"model\"\n",
      "_________________________________________________________________\n",
      "Layer (type)                 Output Shape              Param #   \n",
      "=================================================================\n",
      "input_1 (InputLayer)         [(None, 28, 28, 1)]       0         \n",
      "_________________________________________________________________\n",
      "conv2d (Conv2D)              (None, 26, 26, 32)        320       \n",
      "_________________________________________________________________\n",
      "conv2d_1 (Conv2D)            (None, 24, 24, 64)        18496     \n",
      "_________________________________________________________________\n",
      "max_pooling2d (MaxPooling2D) (None, 12, 12, 64)        0         \n",
      "_________________________________________________________________\n",
      "dropout (Dropout)            (None, 12, 12, 64)        0         \n",
      "_________________________________________________________________\n",
      "flatten (Flatten)            (None, 9216)              0         \n",
      "_________________________________________________________________\n",
      "dense (Dense)                (None, 128)               1179776   \n",
      "_________________________________________________________________\n",
      "dropout_1 (Dropout)          (None, 128)               0         \n",
      "_________________________________________________________________\n",
      "dense_1 (Dense)              (None, 10)                1290      \n",
      "=================================================================\n",
      "Total params: 1,199,882\n",
      "Trainable params: 1,199,882\n",
      "Non-trainable params: 0\n",
      "_________________________________________________________________\n"
     ]
    }
   ],
   "source": [
    "model.summary()"
   ]
  },
  {
   "cell_type": "markdown",
   "id": "cd243002",
   "metadata": {},
   "source": [
    "### Monte Carlo model initation"
   ]
  },
  {
   "cell_type": "code",
   "execution_count": 13,
   "id": "76c73ea9",
   "metadata": {},
   "outputs": [],
   "source": [
    "mc_model = get_model(mc=True, act=\"relu\")"
   ]
  },
  {
   "cell_type": "code",
   "execution_count": 14,
   "id": "70ba1d48",
   "metadata": {},
   "outputs": [
    {
     "name": "stdout",
     "output_type": "stream",
     "text": [
      "Model: \"model_1\"\n",
      "_________________________________________________________________\n",
      "Layer (type)                 Output Shape              Param #   \n",
      "=================================================================\n",
      "input_2 (InputLayer)         [(None, 28, 28, 1)]       0         \n",
      "_________________________________________________________________\n",
      "conv2d_2 (Conv2D)            (None, 26, 26, 32)        320       \n",
      "_________________________________________________________________\n",
      "conv2d_3 (Conv2D)            (None, 24, 24, 64)        18496     \n",
      "_________________________________________________________________\n",
      "max_pooling2d_1 (MaxPooling2 (None, 12, 12, 64)        0         \n",
      "_________________________________________________________________\n",
      "dropout_2 (Dropout)          (None, 12, 12, 64)        0         \n",
      "_________________________________________________________________\n",
      "flatten_1 (Flatten)          (None, 9216)              0         \n",
      "_________________________________________________________________\n",
      "dense_2 (Dense)              (None, 128)               1179776   \n",
      "_________________________________________________________________\n",
      "dropout_3 (Dropout)          (None, 128)               0         \n",
      "_________________________________________________________________\n",
      "dense_3 (Dense)              (None, 10)                1290      \n",
      "=================================================================\n",
      "Total params: 1,199,882\n",
      "Trainable params: 1,199,882\n",
      "Non-trainable params: 0\n",
      "_________________________________________________________________\n"
     ]
    }
   ],
   "source": [
    "mc_model.summary()"
   ]
  },
  {
   "cell_type": "markdown",
   "id": "34a0e38f",
   "metadata": {},
   "source": [
    "## Train the simple CNN model"
   ]
  },
  {
   "cell_type": "code",
   "execution_count": 15,
   "id": "fb127476",
   "metadata": {},
   "outputs": [
    {
     "name": "stdout",
     "output_type": "stream",
     "text": [
      "Epoch 1/50\n",
      "469/469 [==============================] - 11s 22ms/step - loss: 2.2967 - accuracy: 0.1156 - val_loss: 2.2241 - val_accuracy: 0.2157\n",
      "Epoch 2/50\n",
      "469/469 [==============================] - 10s 21ms/step - loss: 2.2183 - accuracy: 0.2281 - val_loss: 2.1254 - val_accuracy: 0.5553\n",
      "Epoch 3/50\n",
      "469/469 [==============================] - 10s 21ms/step - loss: 2.1239 - accuracy: 0.3673 - val_loss: 2.0021 - val_accuracy: 0.6611\n",
      "Epoch 4/50\n",
      "469/469 [==============================] - 10s 21ms/step - loss: 2.0046 - accuracy: 0.4703 - val_loss: 1.8426 - val_accuracy: 0.7128\n",
      "Epoch 5/50\n",
      "469/469 [==============================] - 10s 21ms/step - loss: 1.8575 - accuracy: 0.5344 - val_loss: 1.6517 - val_accuracy: 0.7450\n",
      "Epoch 6/50\n",
      "469/469 [==============================] - 10s 21ms/step - loss: 1.6931 - accuracy: 0.5757 - val_loss: 1.4474 - val_accuracy: 0.7755\n",
      "Epoch 7/50\n",
      "469/469 [==============================] - 10s 21ms/step - loss: 1.5220 - accuracy: 0.6129 - val_loss: 1.2506 - val_accuracy: 0.7990\n",
      "Epoch 8/50\n",
      "469/469 [==============================] - 10s 21ms/step - loss: 1.3580 - accuracy: 0.6437 - val_loss: 1.0793 - val_accuracy: 0.8133\n",
      "Epoch 9/50\n",
      "469/469 [==============================] - 10s 21ms/step - loss: 1.2172 - accuracy: 0.6744 - val_loss: 0.9402 - val_accuracy: 0.8247\n",
      "Epoch 10/50\n",
      "469/469 [==============================] - 10s 21ms/step - loss: 1.1101 - accuracy: 0.6900 - val_loss: 0.8323 - val_accuracy: 0.8331\n",
      "Epoch 11/50\n",
      "469/469 [==============================] - 10s 21ms/step - loss: 1.0265 - accuracy: 0.7057 - val_loss: 0.7498 - val_accuracy: 0.8436\n",
      "Epoch 12/50\n",
      "469/469 [==============================] - 10s 22ms/step - loss: 0.9520 - accuracy: 0.7239 - val_loss: 0.6851 - val_accuracy: 0.8512\n",
      "Epoch 13/50\n",
      "469/469 [==============================] - 10s 21ms/step - loss: 0.8933 - accuracy: 0.7339 - val_loss: 0.6341 - val_accuracy: 0.8578\n",
      "Epoch 14/50\n",
      "469/469 [==============================] - 10s 21ms/step - loss: 0.8425 - accuracy: 0.7517 - val_loss: 0.5920 - val_accuracy: 0.8628\n",
      "Epoch 15/50\n",
      "469/469 [==============================] - 10s 22ms/step - loss: 0.8011 - accuracy: 0.7622 - val_loss: 0.5581 - val_accuracy: 0.8676\n",
      "Epoch 16/50\n",
      "469/469 [==============================] - 10s 22ms/step - loss: 0.7671 - accuracy: 0.7690 - val_loss: 0.5306 - val_accuracy: 0.8734\n",
      "Epoch 17/50\n",
      "469/469 [==============================] - 10s 22ms/step - loss: 0.7426 - accuracy: 0.7767 - val_loss: 0.5065 - val_accuracy: 0.8764\n",
      "Epoch 18/50\n",
      "469/469 [==============================] - 10s 21ms/step - loss: 0.7150 - accuracy: 0.7814 - val_loss: 0.4862 - val_accuracy: 0.8807\n",
      "Epoch 19/50\n",
      "469/469 [==============================] - 10s 22ms/step - loss: 0.7031 - accuracy: 0.7864 - val_loss: 0.4689 - val_accuracy: 0.8835\n",
      "Epoch 20/50\n",
      "469/469 [==============================] - 10s 22ms/step - loss: 0.6684 - accuracy: 0.7989 - val_loss: 0.4534 - val_accuracy: 0.8862\n",
      "Epoch 21/50\n",
      "469/469 [==============================] - 10s 22ms/step - loss: 0.6554 - accuracy: 0.8012 - val_loss: 0.4395 - val_accuracy: 0.8889\n",
      "Epoch 22/50\n",
      "469/469 [==============================] - 10s 22ms/step - loss: 0.6403 - accuracy: 0.8075 - val_loss: 0.4280 - val_accuracy: 0.8902\n",
      "Epoch 23/50\n",
      "469/469 [==============================] - 10s 22ms/step - loss: 0.6275 - accuracy: 0.8098 - val_loss: 0.4170 - val_accuracy: 0.8923\n",
      "Epoch 24/50\n",
      "469/469 [==============================] - 10s 22ms/step - loss: 0.6089 - accuracy: 0.8177 - val_loss: 0.4073 - val_accuracy: 0.8935\n",
      "Epoch 25/50\n",
      "469/469 [==============================] - 10s 21ms/step - loss: 0.5981 - accuracy: 0.8184 - val_loss: 0.3986 - val_accuracy: 0.8947\n",
      "Epoch 26/50\n",
      "469/469 [==============================] - 10s 22ms/step - loss: 0.5888 - accuracy: 0.8216 - val_loss: 0.3906 - val_accuracy: 0.8959\n",
      "Epoch 27/50\n",
      "469/469 [==============================] - 10s 22ms/step - loss: 0.5779 - accuracy: 0.8244 - val_loss: 0.3832 - val_accuracy: 0.8970\n",
      "Epoch 28/50\n",
      "469/469 [==============================] - 10s 21ms/step - loss: 0.5708 - accuracy: 0.8282 - val_loss: 0.3763 - val_accuracy: 0.8984\n",
      "Epoch 29/50\n",
      "469/469 [==============================] - 10s 21ms/step - loss: 0.5581 - accuracy: 0.8313 - val_loss: 0.3702 - val_accuracy: 0.8998\n",
      "Epoch 30/50\n",
      "469/469 [==============================] - 10s 21ms/step - loss: 0.5465 - accuracy: 0.8353 - val_loss: 0.3639 - val_accuracy: 0.9017\n",
      "Epoch 31/50\n",
      "469/469 [==============================] - 10s 21ms/step - loss: 0.5435 - accuracy: 0.8342 - val_loss: 0.3589 - val_accuracy: 0.9020\n",
      "Epoch 32/50\n",
      "469/469 [==============================] - 10s 21ms/step - loss: 0.5327 - accuracy: 0.8406 - val_loss: 0.3529 - val_accuracy: 0.9039\n",
      "Epoch 33/50\n",
      "469/469 [==============================] - 10s 21ms/step - loss: 0.5272 - accuracy: 0.8423 - val_loss: 0.3483 - val_accuracy: 0.9054\n",
      "Epoch 34/50\n",
      "469/469 [==============================] - 10s 21ms/step - loss: 0.5237 - accuracy: 0.8424 - val_loss: 0.3436 - val_accuracy: 0.9059\n",
      "Epoch 35/50\n",
      "469/469 [==============================] - 10s 21ms/step - loss: 0.5238 - accuracy: 0.8425 - val_loss: 0.3393 - val_accuracy: 0.9065\n",
      "Epoch 36/50\n",
      "469/469 [==============================] - 10s 21ms/step - loss: 0.5138 - accuracy: 0.8460 - val_loss: 0.3348 - val_accuracy: 0.9075\n",
      "Epoch 37/50\n",
      "469/469 [==============================] - 10s 21ms/step - loss: 0.5063 - accuracy: 0.8464 - val_loss: 0.3309 - val_accuracy: 0.9085\n",
      "Epoch 38/50\n",
      "469/469 [==============================] - 10s 22ms/step - loss: 0.4980 - accuracy: 0.8486 - val_loss: 0.3273 - val_accuracy: 0.9095\n",
      "Epoch 39/50\n",
      "469/469 [==============================] - 10s 22ms/step - loss: 0.4965 - accuracy: 0.8516 - val_loss: 0.3235 - val_accuracy: 0.9105\n",
      "Epoch 40/50\n",
      "469/469 [==============================] - 10s 22ms/step - loss: 0.4807 - accuracy: 0.8559 - val_loss: 0.3201 - val_accuracy: 0.9107\n",
      "Epoch 41/50\n",
      "469/469 [==============================] - 10s 21ms/step - loss: 0.4889 - accuracy: 0.8516 - val_loss: 0.3165 - val_accuracy: 0.9111\n",
      "Epoch 42/50\n",
      "469/469 [==============================] - 10s 21ms/step - loss: 0.4773 - accuracy: 0.8564 - val_loss: 0.3130 - val_accuracy: 0.9126\n",
      "Epoch 43/50\n",
      "469/469 [==============================] - 10s 22ms/step - loss: 0.4716 - accuracy: 0.8568 - val_loss: 0.3100 - val_accuracy: 0.9127\n",
      "Epoch 44/50\n",
      "469/469 [==============================] - 10s 22ms/step - loss: 0.4673 - accuracy: 0.8596 - val_loss: 0.3073 - val_accuracy: 0.9141\n",
      "Epoch 45/50\n",
      "469/469 [==============================] - 10s 22ms/step - loss: 0.4653 - accuracy: 0.8595 - val_loss: 0.3043 - val_accuracy: 0.9144\n",
      "Epoch 46/50\n",
      "469/469 [==============================] - 10s 21ms/step - loss: 0.4595 - accuracy: 0.8631 - val_loss: 0.3013 - val_accuracy: 0.9147\n",
      "Epoch 47/50\n",
      "469/469 [==============================] - 10s 22ms/step - loss: 0.4568 - accuracy: 0.8623 - val_loss: 0.2986 - val_accuracy: 0.9156\n",
      "Epoch 48/50\n",
      "469/469 [==============================] - 10s 21ms/step - loss: 0.4502 - accuracy: 0.8648 - val_loss: 0.2960 - val_accuracy: 0.9157\n",
      "Epoch 49/50\n",
      "469/469 [==============================] - 10s 22ms/step - loss: 0.4502 - accuracy: 0.8647 - val_loss: 0.2933 - val_accuracy: 0.9171\n",
      "Epoch 50/50\n",
      "469/469 [==============================] - 10s 22ms/step - loss: 0.4388 - accuracy: 0.8676 - val_loss: 0.2906 - val_accuracy: 0.9173\n"
     ]
    }
   ],
   "source": [
    "h = model.fit(x_train, y_train,\n",
    "              batch_size=batch_size,\n",
    "              epochs=n_epochs,\n",
    "              verbose=1,\n",
    "              validation_data=(x_test, y_test))"
   ]
  },
  {
   "cell_type": "markdown",
   "id": "bd3cb34c",
   "metadata": {},
   "source": [
    "## Evaluate the simple CNN model"
   ]
  },
  {
   "cell_type": "code",
   "execution_count": 16,
   "id": "0385fb94",
   "metadata": {},
   "outputs": [
    {
     "name": "stdout",
     "output_type": "stream",
     "text": [
      "Test loss: 0.2905712127685547\n",
      "Test accuracy: 0.9172999858856201\n"
     ]
    }
   ],
   "source": [
    "# score of the normal model\n",
    "score = model.evaluate(x_test, y_test, verbose=0)\n",
    "\n",
    "print('Test loss:', score[0])\n",
    "print('Test accuracy:', score[1])"
   ]
  },
  {
   "cell_type": "markdown",
   "id": "e73cd833",
   "metadata": {},
   "source": [
    "## Train the MC CNN model"
   ]
  },
  {
   "cell_type": "code",
   "execution_count": 17,
   "id": "c1784057",
   "metadata": {},
   "outputs": [
    {
     "name": "stdout",
     "output_type": "stream",
     "text": [
      "Epoch 1/50\n",
      "469/469 [==============================] - 10s 22ms/step - loss: 2.2915 - accuracy: 0.1341 - val_loss: 2.2618 - val_accuracy: 0.2275\n",
      "Epoch 2/50\n",
      "469/469 [==============================] - 10s 22ms/step - loss: 2.2513 - accuracy: 0.2578 - val_loss: 2.2129 - val_accuracy: 0.3437\n",
      "Epoch 3/50\n",
      "469/469 [==============================] - 10s 22ms/step - loss: 2.1993 - accuracy: 0.3651 - val_loss: 2.1468 - val_accuracy: 0.4375\n",
      "Epoch 4/50\n",
      "469/469 [==============================] - 10s 22ms/step - loss: 2.1275 - accuracy: 0.4473 - val_loss: 2.0538 - val_accuracy: 0.4986\n",
      "Epoch 5/50\n",
      "469/469 [==============================] - 10s 22ms/step - loss: 2.0308 - accuracy: 0.5043 - val_loss: 1.9299 - val_accuracy: 0.5501\n",
      "Epoch 6/50\n",
      "469/469 [==============================] - 10s 22ms/step - loss: 1.8982 - accuracy: 0.5537 - val_loss: 1.7693 - val_accuracy: 0.5835\n",
      "Epoch 7/50\n",
      "469/469 [==============================] - 10s 21ms/step - loss: 1.7358 - accuracy: 0.5853 - val_loss: 1.5885 - val_accuracy: 0.6143\n",
      "Epoch 8/50\n",
      "469/469 [==============================] - 10s 21ms/step - loss: 1.5623 - accuracy: 0.6101 - val_loss: 1.4158 - val_accuracy: 0.6414\n",
      "Epoch 9/50\n",
      "469/469 [==============================] - 10s 22ms/step - loss: 1.3846 - accuracy: 0.6362 - val_loss: 1.2611 - val_accuracy: 0.6549\n",
      "Epoch 10/50\n",
      "469/469 [==============================] - 10s 22ms/step - loss: 1.2369 - accuracy: 0.6622 - val_loss: 1.1271 - val_accuracy: 0.6877\n",
      "Epoch 11/50\n",
      "469/469 [==============================] - 10s 21ms/step - loss: 1.1251 - accuracy: 0.6839 - val_loss: 1.0240 - val_accuracy: 0.7094\n",
      "Epoch 12/50\n",
      "469/469 [==============================] - 10s 22ms/step - loss: 1.0335 - accuracy: 0.7004 - val_loss: 0.9597 - val_accuracy: 0.7228\n",
      "Epoch 13/50\n",
      "469/469 [==============================] - 10s 22ms/step - loss: 0.9572 - accuracy: 0.7188 - val_loss: 0.8953 - val_accuracy: 0.7345\n",
      "Epoch 14/50\n",
      "469/469 [==============================] - 10s 22ms/step - loss: 0.9015 - accuracy: 0.7317 - val_loss: 0.8451 - val_accuracy: 0.7497\n",
      "Epoch 15/50\n",
      "469/469 [==============================] - 10s 21ms/step - loss: 0.8593 - accuracy: 0.7411 - val_loss: 0.7990 - val_accuracy: 0.7598\n",
      "Epoch 16/50\n",
      "469/469 [==============================] - 10s 22ms/step - loss: 0.8083 - accuracy: 0.7552 - val_loss: 0.7603 - val_accuracy: 0.7695\n",
      "Epoch 17/50\n",
      "469/469 [==============================] - 10s 22ms/step - loss: 0.7755 - accuracy: 0.7635 - val_loss: 0.7263 - val_accuracy: 0.7791\n",
      "Epoch 18/50\n",
      "469/469 [==============================] - 10s 21ms/step - loss: 0.7437 - accuracy: 0.7721 - val_loss: 0.7067 - val_accuracy: 0.7862\n",
      "Epoch 19/50\n",
      "469/469 [==============================] - 10s 22ms/step - loss: 0.7234 - accuracy: 0.7803 - val_loss: 0.6814 - val_accuracy: 0.7933\n",
      "Epoch 20/50\n",
      "469/469 [==============================] - 10s 22ms/step - loss: 0.6946 - accuracy: 0.7851 - val_loss: 0.6586 - val_accuracy: 0.8015\n",
      "Epoch 21/50\n",
      "469/469 [==============================] - 10s 22ms/step - loss: 0.6733 - accuracy: 0.7917 - val_loss: 0.6400 - val_accuracy: 0.8015\n",
      "Epoch 22/50\n",
      "469/469 [==============================] - 10s 22ms/step - loss: 0.6649 - accuracy: 0.7969 - val_loss: 0.6208 - val_accuracy: 0.8122\n",
      "Epoch 23/50\n",
      "469/469 [==============================] - 10s 22ms/step - loss: 0.6375 - accuracy: 0.8081 - val_loss: 0.6025 - val_accuracy: 0.8182\n",
      "Epoch 24/50\n",
      "469/469 [==============================] - 10s 22ms/step - loss: 0.6232 - accuracy: 0.8094 - val_loss: 0.6028 - val_accuracy: 0.8190\n",
      "Epoch 25/50\n",
      "469/469 [==============================] - 10s 22ms/step - loss: 0.6125 - accuracy: 0.8138 - val_loss: 0.5746 - val_accuracy: 0.8278\n",
      "Epoch 26/50\n",
      "469/469 [==============================] - 10s 22ms/step - loss: 0.5930 - accuracy: 0.8197 - val_loss: 0.5809 - val_accuracy: 0.8265\n",
      "Epoch 27/50\n",
      "469/469 [==============================] - 10s 22ms/step - loss: 0.5891 - accuracy: 0.8198 - val_loss: 0.5639 - val_accuracy: 0.8306\n",
      "Epoch 28/50\n",
      "469/469 [==============================] - 10s 22ms/step - loss: 0.5762 - accuracy: 0.8264 - val_loss: 0.5526 - val_accuracy: 0.8338\n",
      "Epoch 29/50\n",
      "469/469 [==============================] - 10s 22ms/step - loss: 0.5790 - accuracy: 0.8231 - val_loss: 0.5381 - val_accuracy: 0.8369\n",
      "Epoch 30/50\n",
      "469/469 [==============================] - 10s 22ms/step - loss: 0.5647 - accuracy: 0.8263 - val_loss: 0.5294 - val_accuracy: 0.8398\n",
      "Epoch 31/50\n",
      "469/469 [==============================] - 10s 22ms/step - loss: 0.5526 - accuracy: 0.8302 - val_loss: 0.5189 - val_accuracy: 0.8442\n",
      "Epoch 32/50\n",
      "469/469 [==============================] - 10s 22ms/step - loss: 0.5365 - accuracy: 0.8367 - val_loss: 0.5149 - val_accuracy: 0.8473\n",
      "Epoch 33/50\n",
      "469/469 [==============================] - 10s 21ms/step - loss: 0.5318 - accuracy: 0.8412 - val_loss: 0.5034 - val_accuracy: 0.8497\n",
      "Epoch 34/50\n",
      "469/469 [==============================] - 10s 21ms/step - loss: 0.5204 - accuracy: 0.8412 - val_loss: 0.5084 - val_accuracy: 0.8452\n",
      "Epoch 35/50\n",
      "469/469 [==============================] - 10s 21ms/step - loss: 0.5200 - accuracy: 0.8414 - val_loss: 0.5008 - val_accuracy: 0.8509\n",
      "Epoch 36/50\n",
      "469/469 [==============================] - 10s 22ms/step - loss: 0.5094 - accuracy: 0.8445 - val_loss: 0.4888 - val_accuracy: 0.8528\n",
      "Epoch 37/50\n",
      "469/469 [==============================] - 10s 22ms/step - loss: 0.5022 - accuracy: 0.8491 - val_loss: 0.4785 - val_accuracy: 0.8577\n",
      "Epoch 38/50\n",
      "469/469 [==============================] - 10s 22ms/step - loss: 0.4959 - accuracy: 0.8493 - val_loss: 0.4756 - val_accuracy: 0.8560\n",
      "Epoch 39/50\n",
      "469/469 [==============================] - 10s 22ms/step - loss: 0.4916 - accuracy: 0.8515 - val_loss: 0.4778 - val_accuracy: 0.8543\n",
      "Epoch 40/50\n",
      "469/469 [==============================] - 10s 22ms/step - loss: 0.4864 - accuracy: 0.8536 - val_loss: 0.4626 - val_accuracy: 0.8592\n",
      "Epoch 41/50\n",
      "469/469 [==============================] - 10s 22ms/step - loss: 0.4829 - accuracy: 0.8551 - val_loss: 0.4674 - val_accuracy: 0.8583\n",
      "Epoch 42/50\n",
      "469/469 [==============================] - 10s 22ms/step - loss: 0.4836 - accuracy: 0.8538 - val_loss: 0.4549 - val_accuracy: 0.8611\n",
      "Epoch 43/50\n",
      "469/469 [==============================] - 10s 22ms/step - loss: 0.4733 - accuracy: 0.8584 - val_loss: 0.4488 - val_accuracy: 0.8605\n",
      "Epoch 44/50\n",
      "469/469 [==============================] - 10s 22ms/step - loss: 0.4651 - accuracy: 0.8617 - val_loss: 0.4421 - val_accuracy: 0.8660\n",
      "Epoch 45/50\n",
      "469/469 [==============================] - 10s 22ms/step - loss: 0.4736 - accuracy: 0.8569 - val_loss: 0.4392 - val_accuracy: 0.8660\n",
      "Epoch 46/50\n",
      "469/469 [==============================] - 10s 22ms/step - loss: 0.4597 - accuracy: 0.8593 - val_loss: 0.4334 - val_accuracy: 0.8666\n",
      "Epoch 47/50\n",
      "469/469 [==============================] - 10s 22ms/step - loss: 0.4605 - accuracy: 0.8625 - val_loss: 0.4446 - val_accuracy: 0.8648\n",
      "Epoch 48/50\n",
      "469/469 [==============================] - 10s 21ms/step - loss: 0.4611 - accuracy: 0.8630 - val_loss: 0.4290 - val_accuracy: 0.8714\n",
      "Epoch 49/50\n",
      "469/469 [==============================] - 10s 22ms/step - loss: 0.4457 - accuracy: 0.8661 - val_loss: 0.4374 - val_accuracy: 0.8673\n",
      "Epoch 50/50\n",
      "469/469 [==============================] - 10s 22ms/step - loss: 0.4488 - accuracy: 0.8642 - val_loss: 0.4256 - val_accuracy: 0.8732\n"
     ]
    }
   ],
   "source": [
    "h_mc = mc_model.fit(x_train, y_train,\n",
    "                    batch_size=batch_size,\n",
    "                    epochs=n_epochs,\n",
    "                    verbose=1,\n",
    "                    validation_data=(x_test, y_test))"
   ]
  },
  {
   "cell_type": "markdown",
   "id": "fb596635",
   "metadata": {},
   "source": [
    "## Make predictions with the MC CNN model (500 per instance)"
   ]
  },
  {
   "cell_type": "code",
   "execution_count": 18,
   "id": "01051ea3",
   "metadata": {},
   "outputs": [
    {
     "name": "stderr",
     "output_type": "stream",
     "text": [
      "100%|██████████| 500/500 [03:41<00:00,  2.26it/s]\n"
     ]
    }
   ],
   "source": [
    "mc_predictions = []\n",
    "for i in tqdm.tqdm(range(500)):\n",
    "    y_p = mc_model.predict(x_test, batch_size=1000)\n",
    "    mc_predictions.append(y_p)"
   ]
  },
  {
   "cell_type": "code",
   "execution_count": 19,
   "id": "e60b490d",
   "metadata": {},
   "outputs": [
    {
     "data": {
      "text/plain": [
       "500"
      ]
     },
     "execution_count": 19,
     "metadata": {},
     "output_type": "execute_result"
    }
   ],
   "source": [
    "len(mc_predictions)"
   ]
  },
  {
   "cell_type": "code",
   "execution_count": 20,
   "id": "d9e48e8b",
   "metadata": {},
   "outputs": [
    {
     "data": {
      "text/plain": [
       "(10000, 10)"
      ]
     },
     "execution_count": 20,
     "metadata": {},
     "output_type": "execute_result"
    }
   ],
   "source": [
    "mc_predictions[0].shape"
   ]
  },
  {
   "cell_type": "markdown",
   "id": "e16dbeab",
   "metadata": {},
   "source": [
    "## Evaluate the MC CNN model"
   ]
  },
  {
   "cell_type": "code",
   "execution_count": 21,
   "id": "fecb63fc",
   "metadata": {},
   "outputs": [
    {
     "name": "stdout",
     "output_type": "stream",
     "text": [
      "MC accuracy: 87.3%\n"
     ]
    }
   ],
   "source": [
    "# score of the mc model\n",
    "accs = []\n",
    "for y_p in mc_predictions:\n",
    "    acc = accuracy_score(y_test.argmax(axis=1), y_p.argmax(axis=1))\n",
    "    accs.append(acc)\n",
    "print(\"MC accuracy: {:.1%}\".format(sum(accs)/len(accs)))"
   ]
  },
  {
   "cell_type": "code",
   "execution_count": 22,
   "id": "206b1b7b",
   "metadata": {},
   "outputs": [],
   "source": [
    "mc_ensemble_pred = np.array(mc_predictions).mean(axis=0).argmax(axis=1)"
   ]
  },
  {
   "cell_type": "code",
   "execution_count": 23,
   "id": "ed3da728",
   "metadata": {},
   "outputs": [
    {
     "data": {
      "text/plain": [
       "(10000,)"
      ]
     },
     "execution_count": 23,
     "metadata": {},
     "output_type": "execute_result"
    }
   ],
   "source": [
    "mc_ensemble_pred.shape"
   ]
  },
  {
   "cell_type": "code",
   "execution_count": 24,
   "id": "9f294b50",
   "metadata": {},
   "outputs": [
    {
     "data": {
      "text/plain": [
       "7"
      ]
     },
     "execution_count": 24,
     "metadata": {},
     "output_type": "execute_result"
    }
   ],
   "source": [
    "mc_ensemble_pred[0]"
   ]
  },
  {
   "cell_type": "code",
   "execution_count": 25,
   "id": "0ba94761",
   "metadata": {},
   "outputs": [],
   "source": [
    "ensemble_acc = accuracy_score(y_test.argmax(axis=1), mc_ensemble_pred)"
   ]
  },
  {
   "cell_type": "code",
   "execution_count": 26,
   "id": "98bc6a2d",
   "metadata": {},
   "outputs": [
    {
     "name": "stdout",
     "output_type": "stream",
     "text": [
      "MC-ensemble accuracy: 91.7%\n"
     ]
    }
   ],
   "source": [
    "print(\"MC-ensemble accuracy: {:.1%}\".format(ensemble_acc))"
   ]
  },
  {
   "cell_type": "code",
   "execution_count": 27,
   "id": "dc7c1d6a",
   "metadata": {},
   "outputs": [
    {
     "data": {
      "image/png": "[encoded data removed]",
      "text/plain": [
       "<Figure size 432x288 with 1 Axes>"
      ]
     },
     "metadata": {
      "needs_background": "light"
     },
     "output_type": "display_data"
    }
   ],
   "source": [
    "plt.hist(accs);\n",
    "plt.axvline(x=ensemble_acc, color=\"b\");"
   ]
  },
  {
   "cell_type": "markdown",
   "id": "f821519a",
   "metadata": {},
   "source": [
    "## Explore the Monte Carlo predictions"
   ]
  },
  {
   "cell_type": "markdown",
   "id": "7475b447",
   "metadata": {},
   "source": [
    "Predictions with probability and uncertainty"
   ]
  },
  {
   "cell_type": "code",
   "execution_count": 28,
   "id": "02ac2c54",
   "metadata": {},
   "outputs": [
    {
     "data": {
      "text/plain": [
       "<matplotlib.image.AxesImage at 0x7fb5c0028550>"
      ]
     },
     "execution_count": 28,
     "metadata": {},
     "output_type": "execute_result"
    },
    {
     "data": {
      "image/png": "[encoded data removed]",
      "text/plain": [
       "<Figure size 432x288 with 1 Axes>"
      ]
     },
     "metadata": {
      "needs_background": "light"
     },
     "output_type": "display_data"
    }
   ],
   "source": [
    "idx = 0\n",
    "plt.imshow(x_test[idx][:,:,0])"
   ]
  },
  {
   "cell_type": "code",
   "execution_count": 29,
   "id": "7b8c064a",
   "metadata": {},
   "outputs": [
    {
     "name": "stdout",
     "output_type": "stream",
     "text": [
      "p0 shape: (500, 10)\n",
      "posterior mean: 7\n",
      "true label: 7\n"
     ]
    }
   ],
   "source": [
    "p0 = np.array([p[idx] for p in mc_predictions])\n",
    "print(\"p0 shape: {}\".format(p0.shape))\n",
    "print(\"posterior mean: {}\".format(p0.mean(axis=0).argmax()))\n",
    "print(\"true label: {}\".format(y_test[idx].argmax()))"
   ]
  },
  {
   "cell_type": "code",
   "execution_count": 30,
   "id": "42d3c52e",
   "metadata": {},
   "outputs": [
    {
     "name": "stdout",
     "output_type": "stream",
     "text": [
      "class: 0; proba: 0.1%; var: 0.38% \n",
      "class: 1; proba: 0.0%; var: 0.07% \n",
      "class: 2; proba: 0.0%; var: 0.19% \n",
      "class: 3; proba: 0.3%; var: 0.90% \n",
      "class: 4; proba: 0.0%; var: 0.14% \n",
      "class: 5; proba: 0.0%; var: 0.10% \n",
      "class: 6; proba: 0.0%; var: 0.13% \n",
      "class: 7; proba: 98.0%; var: 3.79% \n",
      "class: 8; proba: 0.1%; var: 0.45% \n",
      "class: 9; proba: 1.4%; var: 2.89% \n"
     ]
    }
   ],
   "source": [
    "# probability + variance\n",
    "for i, (prob, var) in enumerate(zip(p0.mean(axis=0), p0.std(axis=0))):\n",
    "    print(\"class: {}; proba: {:.1%}; var: {:.2%} \".format(i, prob, var))"
   ]
  },
  {
   "cell_type": "code",
   "execution_count": 31,
   "id": "5d83719d",
   "metadata": {},
   "outputs": [
    {
     "data": {
      "image/png": "[encoded data removed]",
      "text/plain": [
       "<Figure size 432x288 with 1 Axes>"
      ]
     },
     "metadata": {
      "needs_background": "light"
     },
     "output_type": "display_data"
    }
   ],
   "source": [
    "x, y = list(range(len(p0.mean(axis=0)))), p0.mean(axis=0)\n",
    "plt.plot(x, y);"
   ]
  },
  {
   "cell_type": "code",
   "execution_count": 32,
   "id": "9951a391",
   "metadata": {},
   "outputs": [
    {
     "data": {
      "image/png": "[encoded data removed]",
      "text/plain": [
       "<Figure size 864x864 with 10 Axes>"
      ]
     },
     "metadata": {
      "needs_background": "light"
     },
     "output_type": "display_data"
    }
   ],
   "source": [
    "fig, axes = plt.subplots(5, 2, figsize=(12,12))\n",
    "\n",
    "for i, ax in enumerate(fig.get_axes()):\n",
    "    ax.hist(p0[:,i], bins=100, range=(0,1));\n",
    "    ax.set_title(f\"class {i}\")\n",
    "    ax.label_outer()"
   ]
  },
  {
   "cell_type": "markdown",
   "id": "edc97db8",
   "metadata": {},
   "source": [
    "The model is correct but fairly uncertain. This seems to be a hard example."
   ]
  },
  {
   "cell_type": "markdown",
   "id": "cd8688f1",
   "metadata": {},
   "source": [
    "## Selection by probability"
   ]
  },
  {
   "cell_type": "markdown",
   "id": "ea0e986c",
   "metadata": {},
   "source": [
    "select images by the predictive mean, our probability."
   ]
  },
  {
   "cell_type": "code",
   "execution_count": 33,
   "id": "2171daab",
   "metadata": {},
   "outputs": [],
   "source": [
    "max_means = []\n",
    "preds = []\n",
    "for idx in range(len(mc_predictions)):\n",
    "    px = np.array([p[idx] for p in mc_predictions])\n",
    "    preds.append(px.mean(axis=0).argmax())\n",
    "    max_means.append(px.mean(axis=0).max())"
   ]
  },
  {
   "cell_type": "code",
   "execution_count": 34,
   "id": "4bb66d3a",
   "metadata": {},
   "outputs": [
    {
     "data": {
      "text/plain": [
       "array([149, 195, 483, 443, 406,   8,  33, 175, 119, 193])"
      ]
     },
     "execution_count": 34,
     "metadata": {},
     "output_type": "execute_result"
    }
   ],
   "source": [
    "best_mean_probabilities = (np.array(max_means)).argsort()[:10]\n",
    "best_mean_probabilities"
   ]
  },
  {
   "cell_type": "code",
   "execution_count": 35,
   "id": "779648bf",
   "metadata": {},
   "outputs": [
    {
     "data": {
      "text/plain": [
       "<matplotlib.image.AxesImage at 0x7fb5b0462b50>"
      ]
     },
     "execution_count": 35,
     "metadata": {},
     "output_type": "execute_result"
    },
    {
     "data": {
      "image/png": "[encoded data removed]",
      "text/plain": [
       "<Figure size 432x288 with 1 Axes>"
      ]
     },
     "metadata": {
      "needs_background": "light"
     },
     "output_type": "display_data"
    }
   ],
   "source": [
    "plt.imshow(x_test[best_mean_probabilities[0]][:,:,0])"
   ]
  },
  {
   "cell_type": "markdown",
   "id": "c8a12164",
   "metadata": {},
   "source": [
    "It seems the image from above was the one the model was most uncertain about by probability"
   ]
  },
  {
   "cell_type": "markdown",
   "id": "f9c7b888",
   "metadata": {},
   "source": [
    "## Selection by variance"
   ]
  },
  {
   "cell_type": "markdown",
   "id": "1b56fe82",
   "metadata": {},
   "source": [
    "select the images by the variance of the predictions"
   ]
  },
  {
   "cell_type": "code",
   "execution_count": 36,
   "id": "7169a8cf",
   "metadata": {},
   "outputs": [],
   "source": [
    "max_vars = []\n",
    "for idx in range(len(mc_predictions)):\n",
    "    px = np.array([p[idx] for p in mc_predictions])\n",
    "    max_vars.append(px.std(axis=0)[px.mean(axis=0).argmax()])"
   ]
  },
  {
   "cell_type": "code",
   "execution_count": 37,
   "id": "1a575234",
   "metadata": {},
   "outputs": [
    {
     "data": {
      "text/plain": [
       "[0.037947796, 0.20494477, 0.06536839]"
      ]
     },
     "execution_count": 37,
     "metadata": {},
     "output_type": "execute_result"
    }
   ],
   "source": [
    "max_vars[:3]"
   ]
  },
  {
   "cell_type": "code",
   "execution_count": 38,
   "id": "9b9f3fa6",
   "metadata": {},
   "outputs": [],
   "source": [
    "negativesss = -np.array(max_vars)"
   ]
  },
  {
   "cell_type": "code",
   "execution_count": 39,
   "id": "f9669f11",
   "metadata": {},
   "outputs": [
    {
     "data": {
      "text/plain": [
       "(500,)"
      ]
     },
     "execution_count": 39,
     "metadata": {},
     "output_type": "execute_result"
    }
   ],
   "source": [
    "negativesss.shape"
   ]
  },
  {
   "cell_type": "code",
   "execution_count": 40,
   "id": "678cdaa8",
   "metadata": {},
   "outputs": [
    {
     "data": {
      "text/plain": [
       "array([-0.0379478 , -0.20494477, -0.06536839], dtype=float32)"
      ]
     },
     "execution_count": 40,
     "metadata": {},
     "output_type": "execute_result"
    }
   ],
   "source": [
    "negativesss[:3]"
   ]
  },
  {
   "cell_type": "code",
   "execution_count": 41,
   "id": "35c45a07",
   "metadata": {},
   "outputs": [
    {
     "data": {
      "text/plain": [
       "array([-0.0379478 , -0.20494477, -0.06536839, -0.04772786, -0.1197573 ,\n",
       "       -0.06717464, -0.14074336, -0.17430907, -0.2527202 , -0.23491494,\n",
       "       -0.0791084 , -0.19421315, -0.1530418 , -0.06304537, -0.0530577 ,\n",
       "       -0.16653442, -0.15583153, -0.06012925, -0.21314432, -0.08204075,\n",
       "       -0.22137086, -0.121338  , -0.19997822, -0.08311925, -0.12976043,\n",
       "       -0.06753445, -0.11671486, -0.10055397, -0.08192123, -0.12872188,\n",
       "       -0.0636328 , -0.1571135 , -0.16574931, -0.22523005, -0.1188217 ,\n",
       "       -0.06908001, -0.05149782, -0.06407053, -0.24499571, -0.05798316,\n",
       "       -0.10782165, -0.0883157 , -0.15231939, -0.14939983, -0.15106317,\n",
       "       -0.2010947 , -0.22906291, -0.11201318, -0.14186881, -0.0934125 ,\n",
       "       -0.06387635, -0.11761438, -0.12078109, -0.15996702, -0.19832121,\n",
       "       -0.21845813, -0.03142769, -0.08247396, -0.14872088, -0.16560045,\n",
       "       -0.12534256, -0.20509174, -0.16852634, -0.23542306, -0.10309567,\n",
       "       -0.18762964, -0.19154067, -0.05928563, -0.0803299 , -0.09358092,\n",
       "       -0.02740393, -0.04821892, -0.2055686 , -0.22429472, -0.07045215,\n",
       "       -0.10127005, -0.13735355, -0.21115813, -0.19599642, -0.0386212 ,\n",
       "       -0.18461561, -0.08417235, -0.00983827, -0.15061949, -0.2101256 ,\n",
       "       -0.02289944, -0.04546208, -0.22846022, -0.04367907, -0.05406482,\n",
       "       -0.06496102, -0.02702017, -0.15265115, -0.09112515, -0.1717771 ,\n",
       "       -0.09384004, -0.19676164, -0.21058643, -0.20356885, -0.0989088 ,\n",
       "       -0.10519752, -0.07544786, -0.0914456 , -0.03973871, -0.15676112,\n",
       "       -0.0918411 , -0.11584608, -0.12707855, -0.1449285 , -0.1196344 ,\n",
       "       -0.2251738 , -0.23511918, -0.1529189 , -0.10944715, -0.19544244,\n",
       "       -0.22547351, -0.1678298 , -0.04385155, -0.16901879, -0.20549585,\n",
       "       -0.21936572, -0.2254691 , -0.12498779, -0.06284549, -0.27087885,\n",
       "       -0.16075853, -0.26756504, -0.08088319, -0.09948286, -0.06905396,\n",
       "       -0.04194668, -0.04925619, -0.11074644, -0.1629314 , -0.05643159,\n",
       "       -0.0406003 , -0.12347301, -0.06349663, -0.03778145, -0.24772929,\n",
       "       -0.12240405, -0.07904213, -0.1780768 , -0.05860393, -0.23049179,\n",
       "       -0.11822549, -0.10236851, -0.04351853, -0.0795657 , -0.11375561,\n",
       "       -0.16456865, -0.19551054, -0.14342815, -0.19989078, -0.12419874,\n",
       "       -0.04357699, -0.11224645, -0.1224669 , -0.16781172, -0.1846043 ,\n",
       "       -0.10648097, -0.04869151, -0.04403592, -0.05330793, -0.17734179,\n",
       "       -0.17125088, -0.15283674, -0.15539186, -0.05464782, -0.15543136,\n",
       "       -0.15596141, -0.18965739, -0.28320673, -0.17135514, -0.05855677,\n",
       "       -0.13141592, -0.08502005, -0.16209456, -0.04864591, -0.07874311,\n",
       "       -0.06897815, -0.16587819, -0.18370417, -0.08242909, -0.20224734,\n",
       "       -0.2138304 , -0.19578575, -0.22699036, -0.0329145 , -0.17057149,\n",
       "       -0.14997883, -0.19531745, -0.10792515, -0.19953579, -0.1283481 ,\n",
       "       -0.12500864, -0.06640617, -0.08720547, -0.15483616, -0.11717869,\n",
       "       -0.22559161, -0.10717528, -0.0925698 , -0.1004509 , -0.06696269,\n",
       "       -0.0523422 , -0.13446261, -0.1535329 , -0.03308629, -0.15961781,\n",
       "       -0.10233177, -0.17827904, -0.17560674, -0.15162468, -0.13006994,\n",
       "       -0.20731165, -0.02349206, -0.18677734, -0.21629265, -0.24829076,\n",
       "       -0.17232908, -0.1626096 , -0.12113339, -0.04966061, -0.12439755,\n",
       "       -0.17229632, -0.11763596, -0.16442427, -0.06976873, -0.10361468,\n",
       "       -0.15254572, -0.16206874, -0.1810034 , -0.22457479, -0.18170768,\n",
       "       -0.15809765, -0.09371434, -0.08430582, -0.05003891, -0.0556305 ,\n",
       "       -0.17715937, -0.1982744 , -0.18611376, -0.21349587, -0.19602525,\n",
       "       -0.18777728, -0.12898362, -0.2185046 , -0.06214232, -0.20460556,\n",
       "       -0.24842313, -0.15222268, -0.17453325, -0.15858066, -0.09314393,\n",
       "       -0.20828386, -0.22923446, -0.22728856, -0.05897573, -0.18435991,\n",
       "       -0.10491959, -0.22905086, -0.04762185, -0.05615571, -0.2018992 ,\n",
       "       -0.05659506, -0.23490125, -0.08141027, -0.19986466, -0.1244593 ,\n",
       "       -0.15678549, -0.08863566, -0.060477  , -0.12451425, -0.18632382,\n",
       "       -0.15652329, -0.03971179, -0.20309915, -0.0550798 , -0.08276134,\n",
       "       -0.25740078, -0.13968576, -0.20785843, -0.12599967, -0.10246882,\n",
       "       -0.05291634, -0.16984189, -0.15991242, -0.06836689, -0.17672041,\n",
       "       -0.24641955, -0.24143757, -0.11916564, -0.05281851, -0.1279816 ,\n",
       "       -0.21850713, -0.02042828, -0.11038509, -0.07887267, -0.23334539,\n",
       "       -0.18940179, -0.21218875, -0.05869474, -0.16935922, -0.23235512,\n",
       "       -0.25935522, -0.13121495, -0.22622396, -0.06650531, -0.05988287,\n",
       "       -0.0846742 , -0.06234593, -0.10461836, -0.23287559, -0.05880018,\n",
       "       -0.17911832, -0.17172605, -0.2033035 , -0.22097129, -0.20396855,\n",
       "       -0.24399453, -0.21765678, -0.13281669, -0.08029403, -0.1764223 ,\n",
       "       -0.21344517, -0.10221525, -0.04881319, -0.11558867, -0.06246635,\n",
       "       -0.05981658, -0.2089319 , -0.06773273, -0.18880135, -0.02380743,\n",
       "       -0.17014822, -0.20397665, -0.06638195, -0.21873258, -0.16473591,\n",
       "       -0.23572083, -0.14196497, -0.05516612, -0.22681592, -0.2023971 ,\n",
       "       -0.08419685, -0.23014829, -0.10867048, -0.06538   , -0.23771997,\n",
       "       -0.24089196, -0.14361052, -0.21058069, -0.15350868, -0.16437258,\n",
       "       -0.09587298, -0.12721442, -0.11971028, -0.17750616, -0.23847438,\n",
       "       -0.10572494, -0.10872092, -0.24823418, -0.21292788, -0.1321361 ,\n",
       "       -0.12500037, -0.15402648, -0.16504475, -0.14887157, -0.10778781,\n",
       "       -0.17195588, -0.16094635, -0.21913211, -0.12031391, -0.11287111,\n",
       "       -0.06267298, -0.21947554, -0.06538606, -0.04894172, -0.11109731,\n",
       "       -0.2628819 , -0.24282055, -0.20828591, -0.14020103, -0.01972857,\n",
       "       -0.05198634, -0.18811175, -0.06609318, -0.11723948, -0.2320906 ,\n",
       "       -0.07163644, -0.13886687, -0.05967066, -0.08562671, -0.16049413,\n",
       "       -0.11862455, -0.08072545, -0.13780664, -0.067995  , -0.07601466,\n",
       "       -0.17398785, -0.136988  , -0.1261594 , -0.20573227, -0.20974922,\n",
       "       -0.27935386, -0.22939137, -0.13638194, -0.13503462, -0.06140806,\n",
       "       -0.06290551, -0.19023171, -0.31078562, -0.02828809, -0.12261815,\n",
       "       -0.12314568, -0.04896143, -0.19555728, -0.05870978, -0.08479007,\n",
       "       -0.18053694, -0.23919907, -0.16282414, -0.04521266, -0.06272025,\n",
       "       -0.18508613, -0.12877455, -0.0692754 , -0.15121259, -0.18327348,\n",
       "       -0.06171435, -0.15489098, -0.17251885, -0.20677245, -0.0921979 ,\n",
       "       -0.23996837, -0.12348581, -0.09795729, -0.12565511, -0.12306758,\n",
       "       -0.02259691, -0.08136479, -0.04909239, -0.15205827, -0.1779699 ,\n",
       "       -0.1427639 , -0.11951549, -0.22604147, -0.22399941, -0.29626143,\n",
       "       -0.23060836, -0.08567714, -0.18859279, -0.14426893, -0.12594102,\n",
       "       -0.07481708, -0.20874171, -0.22351032, -0.09467489, -0.10851143,\n",
       "       -0.2427191 , -0.16575605, -0.17137372, -0.04427214, -0.23425165,\n",
       "       -0.17455049, -0.09815957, -0.20149274, -0.21589068, -0.210655  ,\n",
       "       -0.11493606, -0.12212032, -0.11538018, -0.10987099, -0.12909105,\n",
       "       -0.11065336, -0.05006984, -0.06709643, -0.18880725, -0.20971671,\n",
       "       -0.06593553, -0.10712621, -0.1446292 , -0.13721582, -0.14013477,\n",
       "       -0.07345619, -0.17150682, -0.19608408, -0.19847696, -0.07364729,\n",
       "       -0.17885067, -0.20125522, -0.2099516 , -0.05416235, -0.02603078,\n",
       "       -0.23299503, -0.13017035, -0.22183338, -0.21992727, -0.14238273],\n",
       "      dtype=float32)"
      ]
     },
     "execution_count": 41,
     "metadata": {},
     "output_type": "execute_result"
    }
   ],
   "source": [
    "-np.array(max_vars)"
   ]
  },
  {
   "cell_type": "code",
   "execution_count": null,
   "id": "048d4eb3",
   "metadata": {},
   "outputs": [],
   "source": []
  },
  {
   "cell_type": "code",
   "execution_count": 42,
   "id": "6c580d92",
   "metadata": {},
   "outputs": [
    {
     "data": {
      "text/plain": [
       "array([412, 449, 172, 405, 124, 126, 380, 305, 280,   8])"
      ]
     },
     "execution_count": 42,
     "metadata": {},
     "output_type": "execute_result"
    }
   ],
   "source": [
    "lowest_variances = (-np.array(max_vars)).argsort()[:10]\n",
    "lowest_variances"
   ]
  },
  {
   "cell_type": "code",
   "execution_count": 43,
   "id": "f12c0bed",
   "metadata": {},
   "outputs": [
    {
     "data": {
      "text/plain": [
       "<matplotlib.image.AxesImage at 0x7fb5b03fda50>"
      ]
     },
     "execution_count": 43,
     "metadata": {},
     "output_type": "execute_result"
    },
    {
     "data": {
      "image/png": "[encoded data removed]",
      "text/plain": [
       "<Figure size 432x288 with 1 Axes>"
      ]
     },
     "metadata": {
      "needs_background": "light"
     },
     "output_type": "display_data"
    }
   ],
   "source": [
    "plt.imshow(x_test[lowest_variances[0]][:,:,0])"
   ]
  },
  {
   "cell_type": "markdown",
   "id": "84aca4fd",
   "metadata": {},
   "source": [
    "## Uncertainty measure behavior\n",
    "\n",
    "How well can the uncertainty estimate identify out-of-scope samples?"
   ]
  },
  {
   "cell_type": "markdown",
   "id": "17eacf88",
   "metadata": {},
   "source": [
    "### Create random images and see what the model predicts"
   ]
  },
  {
   "cell_type": "code",
   "execution_count": 44,
   "id": "c94c3d67",
   "metadata": {},
   "outputs": [],
   "source": [
    "random_img = np.random.random(input_shape)"
   ]
  },
  {
   "cell_type": "code",
   "execution_count": 45,
   "id": "2fbd2acc",
   "metadata": {},
   "outputs": [
    {
     "data": {
      "image/png": "[encoded data removed]",
      "text/plain": [
       "<Figure size 432x288 with 1 Axes>"
      ]
     },
     "metadata": {
      "needs_background": "light"
     },
     "output_type": "display_data"
    }
   ],
   "source": [
    "plt.imshow(random_img[:,:,0]);"
   ]
  },
  {
   "cell_type": "code",
   "execution_count": 46,
   "id": "cdcd0a65",
   "metadata": {},
   "outputs": [
    {
     "name": "stderr",
     "output_type": "stream",
     "text": [
      "100%|██████████| 500/500 [00:09<00:00, 52.46it/s]\n"
     ]
    }
   ],
   "source": [
    "random_predictions = []\n",
    "for i in tqdm.tqdm(range(500)):\n",
    "    y_p = mc_model.predict(np.array([random_img]))\n",
    "    random_predictions.append(y_p)"
   ]
  },
  {
   "cell_type": "code",
   "execution_count": 47,
   "id": "9a25c9e7",
   "metadata": {},
   "outputs": [
    {
     "name": "stdout",
     "output_type": "stream",
     "text": [
      "posterior mean: 3\n",
      "\n",
      "class: 0; proba: 3.8%; var: 6.05% \n",
      "class: 1; proba: 0.5%; var: 0.94% \n",
      "class: 2; proba: 34.6%; var: 24.24% \n",
      "class: 3; proba: 44.9%; var: 26.11% \n",
      "class: 4; proba: 1.0%; var: 2.01% \n",
      "class: 5; proba: 8.2%; var: 11.29% \n",
      "class: 6; proba: 2.2%; var: 4.59% \n",
      "class: 7; proba: 1.0%; var: 1.90% \n",
      "class: 8; proba: 3.5%; var: 5.57% \n",
      "class: 9; proba: 0.3%; var: 1.04% \n"
     ]
    }
   ],
   "source": [
    "p0 = np.array([p[0] for p in random_predictions])\n",
    "print(\"posterior mean: {}\".format(p0.mean(axis=0).argmax()))\n",
    "print()\n",
    "# probability + variance\n",
    "for i, (prob, var) in enumerate(zip(p0.mean(axis=0), p0.std(axis=0))):\n",
    "    print(\"class: {}; proba: {:.1%}; var: {:.2%} \".format(i, prob, var))"
   ]
  },
  {
   "cell_type": "code",
   "execution_count": 48,
   "id": "4a8b7f8f",
   "metadata": {},
   "outputs": [
    {
     "data": {
      "image/png": "[encoded data removed]",
      "text/plain": [
       "<Figure size 432x288 with 1 Axes>"
      ]
     },
     "metadata": {
      "needs_background": "light"
     },
     "output_type": "display_data"
    }
   ],
   "source": [
    "x, y = list(range(len(p0.mean(axis=0)))), p0.mean(axis=0)\n",
    "plt.plot(x, y);"
   ]
  },
  {
   "cell_type": "markdown",
   "id": "5d829c65",
   "metadata": {},
   "source": [
    "it is clearly just random noise. If you try different random images, you will find that the model always predicts them as eight. So there might be something wrong with the “understanding” of eight in our model. This is good to know and keep in mind when using the model."
   ]
  },
  {
   "cell_type": "code",
   "execution_count": 49,
   "id": "5798bf50",
   "metadata": {},
   "outputs": [
    {
     "data": {
      "image/png": "[encoded data removed]",
      "text/plain": [
       "<Figure size 864x864 with 10 Axes>"
      ]
     },
     "metadata": {
      "needs_background": "light"
     },
     "output_type": "display_data"
    }
   ],
   "source": [
    "fig, axes = plt.subplots(5, 2, figsize=(12,12))\n",
    "\n",
    "for i, ax in enumerate(fig.get_axes()):\n",
    "    ax.hist(p0[:,i], bins=100, range=(0,1));\n",
    "    ax.set_title(f\"class {i}\")\n",
    "    ax.label_outer()"
   ]
  },
  {
   "cell_type": "code",
   "execution_count": null,
   "id": "51da4499",
   "metadata": {},
   "outputs": [],
   "source": []
  },
  {
   "cell_type": "markdown",
   "id": "f1cb3657",
   "metadata": {},
   "source": [
    "## `np.argsort()`"
   ]
  },
  {
   "cell_type": "code",
   "execution_count": 50,
   "id": "e7fb77ad",
   "metadata": {},
   "outputs": [],
   "source": [
    "in_arr = np.array([ 2, 0, 1, 5, 4, 1, 9])"
   ]
  },
  {
   "cell_type": "code",
   "execution_count": 51,
   "id": "92af8609",
   "metadata": {},
   "outputs": [
    {
     "data": {
      "text/plain": [
       "(7,)"
      ]
     },
     "execution_count": 51,
     "metadata": {},
     "output_type": "execute_result"
    }
   ],
   "source": [
    "in_arr.shape"
   ]
  },
  {
   "cell_type": "code",
   "execution_count": 52,
   "id": "387cf1a1",
   "metadata": {},
   "outputs": [],
   "source": [
    "out_arr = in_arr.argsort()"
   ]
  },
  {
   "cell_type": "code",
   "execution_count": 53,
   "id": "e1997d3e",
   "metadata": {},
   "outputs": [
    {
     "name": "stdout",
     "output_type": "stream",
     "text": [
      "Output sorted array indices :  [1 2 5 0 4 3 6]\n"
     ]
    }
   ],
   "source": [
    "print (\"Output sorted array indices : \", out_arr)"
   ]
  },
  {
   "cell_type": "code",
   "execution_count": 54,
   "id": "c18bf512",
   "metadata": {},
   "outputs": [
    {
     "name": "stdout",
     "output_type": "stream",
     "text": [
      "Output sorted array :  [0 1 1 2 4 5 9]\n"
     ]
    }
   ],
   "source": [
    "print(\"Output sorted array : \", in_arr[out_arr])"
   ]
  },
  {
   "cell_type": "code",
   "execution_count": 55,
   "id": "f397d0b3",
   "metadata": {},
   "outputs": [],
   "source": [
    "neg_arr = -in_arr"
   ]
  },
  {
   "cell_type": "code",
   "execution_count": 56,
   "id": "fea9b4bc",
   "metadata": {},
   "outputs": [
    {
     "data": {
      "text/plain": [
       "array([-2,  0, -1, -5, -4, -1, -9])"
      ]
     },
     "execution_count": 56,
     "metadata": {},
     "output_type": "execute_result"
    }
   ],
   "source": [
    "neg_arr"
   ]
  },
  {
   "cell_type": "code",
   "execution_count": 57,
   "id": "dd538cd4",
   "metadata": {},
   "outputs": [
    {
     "data": {
      "text/plain": [
       "array([6, 3, 4, 0, 2, 5, 1])"
      ]
     },
     "execution_count": 57,
     "metadata": {},
     "output_type": "execute_result"
    }
   ],
   "source": [
    "neg_arr.argsort()"
   ]
  },
  {
   "cell_type": "code",
   "execution_count": null,
   "id": "675b22ce",
   "metadata": {},
   "outputs": [],
   "source": []
  },
  {
   "cell_type": "code",
   "execution_count": 58,
   "id": "669f101b",
   "metadata": {},
   "outputs": [],
   "source": [
    "lista = [1, 3, 2, 5, 7, 6]"
   ]
  },
  {
   "cell_type": "code",
   "execution_count": 59,
   "id": "6d9da372",
   "metadata": {},
   "outputs": [
    {
     "data": {
      "text/plain": [
       "array([ 0, -2, -1, -3, -5, -4])"
      ]
     },
     "execution_count": 59,
     "metadata": {},
     "output_type": "execute_result"
    }
   ],
   "source": [
    "-np.array(lista).argsort()"
   ]
  },
  {
   "cell_type": "code",
   "execution_count": null,
   "id": "4674c1ef",
   "metadata": {},
   "outputs": [],
   "source": []
  },
  {
   "cell_type": "code",
   "execution_count": null,
   "id": "fdd95258",
   "metadata": {},
   "outputs": [],
   "source": []
  },
  {
   "cell_type": "code",
   "execution_count": null,
   "id": "2cc8aabd",
   "metadata": {},
   "outputs": [],
   "source": []
  },
  {
   "cell_type": "code",
   "execution_count": null,
   "id": "2624b387",
   "metadata": {},
   "outputs": [],
   "source": []
  },
  {
   "cell_type": "code",
   "execution_count": null,
   "id": "a9f3e9f6",
   "metadata": {},
   "outputs": [],
   "source": []
  },
  {
   "cell_type": "code",
   "execution_count": null,
   "id": "acce3ff8",
   "metadata": {},
   "outputs": [],
   "source": []
  },
  {
   "cell_type": "markdown",
   "id": "1cb34b7f",
   "metadata": {},
   "source": []
  },
  {
   "cell_type": "code",
   "execution_count": 60,
   "id": "9d280a79",
   "metadata": {},
   "outputs": [],
   "source": [
    "(X_train, y_train), (X_test, y_test) = keras.datasets.mnist.load_data()"
   ]
  },
  {
   "cell_type": "code",
   "execution_count": 61,
   "id": "87d8b66e",
   "metadata": {},
   "outputs": [
    {
     "name": "stdout",
     "output_type": "stream",
     "text": [
      "Epoch 1/50\n",
      "1875/1875 [==============================] - 4s 2ms/step - loss: 10.7436 - accuracy: 0.7013\n",
      "Epoch 2/50\n",
      "1875/1875 [==============================] - 4s 2ms/step - loss: 0.5531 - accuracy: 0.8487\n",
      "Epoch 3/50\n",
      "1875/1875 [==============================] - 4s 2ms/step - loss: 0.4140 - accuracy: 0.8839\n",
      "Epoch 4/50\n",
      "1875/1875 [==============================] - 4s 2ms/step - loss: 0.3635 - accuracy: 0.9002\n",
      "Epoch 5/50\n",
      "1875/1875 [==============================] - 4s 2ms/step - loss: 0.3418 - accuracy: 0.9091\n",
      "Epoch 6/50\n",
      "1875/1875 [==============================] - 4s 2ms/step - loss: 0.3270 - accuracy: 0.9145\n",
      "Epoch 7/50\n",
      "1875/1875 [==============================] - 4s 2ms/step - loss: 0.3105 - accuracy: 0.9165\n",
      "Epoch 8/50\n",
      "1875/1875 [==============================] - 4s 2ms/step - loss: 0.2932 - accuracy: 0.9233\n",
      "Epoch 9/50\n",
      "1875/1875 [==============================] - 4s 2ms/step - loss: 0.2984 - accuracy: 0.9233\n",
      "Epoch 10/50\n",
      "1875/1875 [==============================] - 4s 2ms/step - loss: 0.2811 - accuracy: 0.9270\n",
      "Epoch 11/50\n",
      "1875/1875 [==============================] - 4s 2ms/step - loss: 0.2856 - accuracy: 0.9285\n",
      "Epoch 12/50\n",
      "1875/1875 [==============================] - 4s 2ms/step - loss: 0.2792 - accuracy: 0.9322\n",
      "Epoch 13/50\n",
      "1875/1875 [==============================] - 4s 2ms/step - loss: 0.2837 - accuracy: 0.9279\n",
      "Epoch 14/50\n",
      "1875/1875 [==============================] - 4s 2ms/step - loss: 0.2762 - accuracy: 0.9285\n",
      "Epoch 15/50\n",
      "1875/1875 [==============================] - 4s 2ms/step - loss: 0.2670 - accuracy: 0.9328\n",
      "Epoch 16/50\n",
      "1875/1875 [==============================] - 4s 2ms/step - loss: 0.2860 - accuracy: 0.9299\n",
      "Epoch 17/50\n",
      "1875/1875 [==============================] - 4s 2ms/step - loss: 0.2751 - accuracy: 0.9295\n",
      "Epoch 18/50\n",
      "1875/1875 [==============================] - 4s 2ms/step - loss: 0.2807 - accuracy: 0.9288\n",
      "Epoch 19/50\n",
      "1875/1875 [==============================] - 4s 2ms/step - loss: 0.2634 - accuracy: 0.9341\n",
      "Epoch 20/50\n",
      "1875/1875 [==============================] - 4s 2ms/step - loss: 0.2702 - accuracy: 0.9320\n",
      "Epoch 21/50\n",
      "1875/1875 [==============================] - 4s 2ms/step - loss: 0.2625 - accuracy: 0.9337\n",
      "Epoch 22/50\n",
      "1875/1875 [==============================] - 4s 2ms/step - loss: 0.2733 - accuracy: 0.9335\n",
      "Epoch 23/50\n",
      "1875/1875 [==============================] - 4s 2ms/step - loss: 0.2572 - accuracy: 0.9351\n",
      "Epoch 24/50\n",
      "1875/1875 [==============================] - 4s 2ms/step - loss: 0.2632 - accuracy: 0.9324\n",
      "Epoch 25/50\n",
      "1875/1875 [==============================] - 4s 2ms/step - loss: 0.2611 - accuracy: 0.9383\n",
      "Epoch 26/50\n",
      "1875/1875 [==============================] - 4s 2ms/step - loss: 0.2720 - accuracy: 0.9343\n",
      "Epoch 27/50\n",
      "1875/1875 [==============================] - 4s 2ms/step - loss: 0.2673 - accuracy: 0.9330\n",
      "Epoch 28/50\n",
      "1875/1875 [==============================] - 4s 2ms/step - loss: 0.2817 - accuracy: 0.9345\n",
      "Epoch 29/50\n",
      "1875/1875 [==============================] - 4s 2ms/step - loss: 0.2569 - accuracy: 0.9380\n",
      "Epoch 30/50\n",
      "1875/1875 [==============================] - 4s 2ms/step - loss: 0.2599 - accuracy: 0.9381\n",
      "Epoch 31/50\n",
      "1875/1875 [==============================] - 4s 2ms/step - loss: 0.2738 - accuracy: 0.9341\n",
      "Epoch 32/50\n",
      "1875/1875 [==============================] - 4s 2ms/step - loss: 0.2652 - accuracy: 0.9362\n",
      "Epoch 33/50\n",
      "1875/1875 [==============================] - 4s 2ms/step - loss: 0.2876 - accuracy: 0.9319\n",
      "Epoch 34/50\n",
      "1875/1875 [==============================] - 4s 2ms/step - loss: 0.2596 - accuracy: 0.9349\n",
      "Epoch 35/50\n",
      "1875/1875 [==============================] - 4s 2ms/step - loss: 0.2653 - accuracy: 0.9359\n",
      "Epoch 36/50\n",
      "1875/1875 [==============================] - 4s 2ms/step - loss: 0.2737 - accuracy: 0.9344\n",
      "Epoch 37/50\n",
      "1875/1875 [==============================] - 4s 2ms/step - loss: 0.2650 - accuracy: 0.9348\n",
      "Epoch 38/50\n",
      "1875/1875 [==============================] - 4s 2ms/step - loss: 0.2486 - accuracy: 0.9404\n",
      "Epoch 39/50\n",
      "1875/1875 [==============================] - 4s 2ms/step - loss: 0.2453 - accuracy: 0.9407\n",
      "Epoch 40/50\n",
      "1875/1875 [==============================] - 4s 2ms/step - loss: 0.2685 - accuracy: 0.9363\n",
      "Epoch 41/50\n",
      "1875/1875 [==============================] - 4s 2ms/step - loss: 0.2517 - accuracy: 0.9381\n",
      "Epoch 42/50\n",
      "1875/1875 [==============================] - 4s 2ms/step - loss: 0.2361 - accuracy: 0.9425\n",
      "Epoch 43/50\n",
      "1875/1875 [==============================] - 4s 2ms/step - loss: 0.2520 - accuracy: 0.9387\n",
      "Epoch 44/50\n",
      "1875/1875 [==============================] - 4s 2ms/step - loss: 0.2809 - accuracy: 0.9338\n",
      "Epoch 45/50\n",
      "1875/1875 [==============================] - 4s 2ms/step - loss: 0.2375 - accuracy: 0.9382\n",
      "Epoch 46/50\n",
      "1875/1875 [==============================] - 4s 2ms/step - loss: 0.2584 - accuracy: 0.9344\n",
      "Epoch 47/50\n",
      "1875/1875 [==============================] - 4s 2ms/step - loss: 0.2712 - accuracy: 0.9347\n",
      "Epoch 48/50\n",
      "1875/1875 [==============================] - 4s 2ms/step - loss: 0.2670 - accuracy: 0.9342\n",
      "Epoch 49/50\n",
      "1875/1875 [==============================] - 4s 2ms/step - loss: 0.2671 - accuracy: 0.9347\n",
      "Epoch 50/50\n",
      "1875/1875 [==============================] - 4s 2ms/step - loss: 0.2357 - accuracy: 0.9398\n",
      "313/313 [==============================] - 0s 678us/step - loss: 0.1971 - accuracy: 0.9658\n"
     ]
    },
    {
     "data": {
      "text/plain": [
       "[0.19708745181560516, 0.9657999873161316]"
      ]
     },
     "execution_count": 61,
     "metadata": {},
     "output_type": "execute_result"
    }
   ],
   "source": [
    "model = keras.models.Sequential()\n",
    "model.add(keras.layers.Flatten(input_shape=(28, 28)))\n",
    "model.add(keras.layers.Dropout(0.25))\n",
    "model.add(keras.layers.Dense(300, activation=\"relu\"))\n",
    "model.add(keras.layers.Dropout(0.25))\n",
    "model.add(keras.layers.Dense(300, activation=\"relu\"))\n",
    "model.add(keras.layers.Dropout(0.25))\n",
    "model.add(keras.layers.Dense(10, activation=\"softmax\"))\n",
    "\n",
    "optimizer = keras.optimizers.Nadam(lr=0.001)\n",
    "model.compile(loss=\"sparse_categorical_crossentropy\", \n",
    "              optimizer=optimizer, metrics=[\"accuracy\"])\n",
    "model.fit(X_train, y_train, epochs=50)\n",
    "model.evaluate(X_test, y_test)"
   ]
  },
  {
   "cell_type": "code",
   "execution_count": 62,
   "id": "6f7f3e50",
   "metadata": {},
   "outputs": [],
   "source": [
    "def predict_proba(X, model, num_samples):\n",
    "    preds = [model(X, training=True) for _ in range(num_samples)]\n",
    "    return np.stack(preds).mean(axis=0)\n",
    "     \n",
    "def predict_class(X, model, num_samples):\n",
    "    proba_preds = predict_proba(X, model, num_samples)\n",
    "    return np.argmax(proba_preds, axis=1)"
   ]
  },
  {
   "cell_type": "code",
   "execution_count": 63,
   "id": "4b3ed3cb",
   "metadata": {},
   "outputs": [],
   "source": [
    "y_pred = predict_class(X_test, model, 100)\n",
    "acc = np.mean(y_pred == y_test)"
   ]
  },
  {
   "cell_type": "code",
   "execution_count": null,
   "id": "0403d733",
   "metadata": {},
   "outputs": [],
   "source": []
  },
  {
   "cell_type": "code",
   "execution_count": 64,
   "id": "fa4a3369",
   "metadata": {},
   "outputs": [],
   "source": [
    "y_pred_proba = predict_proba(X_test, model, 100)"
   ]
  },
  {
   "cell_type": "code",
   "execution_count": 65,
   "id": "6ed8e00c",
   "metadata": {},
   "outputs": [],
   "source": [
    "softmax_output = np.round(model.predict(X_test[1:2]), 3)\n",
    "mc_pred_proba = np.round(y_pred_proba[1], 3)"
   ]
  },
  {
   "cell_type": "code",
   "execution_count": 66,
   "id": "e6914d9b",
   "metadata": {},
   "outputs": [
    {
     "name": "stdout",
     "output_type": "stream",
     "text": [
      "softmax_output: [[0. 0. 1. 0. 0. 0. 0. 0. 0. 0.]]\n",
      "mc_pred_proba: [0.001 0.01  0.98  0.001 0.001 0.001 0.001 0.001 0.002 0.001]\n"
     ]
    }
   ],
   "source": [
    "print(\"softmax_output:\", softmax_output)\n",
    "print(\"mc_pred_proba:\", mc_pred_proba)"
   ]
  },
  {
   "cell_type": "code",
   "execution_count": null,
   "id": "6b5a9074",
   "metadata": {},
   "outputs": [],
   "source": []
  }
 ],
 "metadata": {
  "kernelspec": {
   "display_name": "ml",
   "language": "python",
   "name": "ml"
  },
  "language_info": {
   "codemirror_mode": {
    "name": "ipython",
    "version": 3
   },
   "file_extension": ".py",
   "mimetype": "text/x-python",
   "name": "python",
   "nbconvert_exporter": "python",
   "pygments_lexer": "ipython3",
   "version": "3.7.10"
  }
 },
 "nbformat": 4,
 "nbformat_minor": 5
}
