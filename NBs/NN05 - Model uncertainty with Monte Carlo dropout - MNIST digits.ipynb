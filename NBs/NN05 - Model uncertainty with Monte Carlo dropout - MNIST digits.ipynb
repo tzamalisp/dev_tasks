{
 "cells": [
  {
   "cell_type": "markdown",
   "id": "6a15c5bb",
   "metadata": {},
   "source": [
    "# Model uncertainty with Monte Carlo dropout in TensorFlow\n",
    "\n",
    "Deep learning models have shown amazing performance in a lot of fields such as autonomous driving, manufacturing, and medicine, to name a few. However, these are fields in which representing model uncertainty is of crucial importance. The standard deep learning tools for regression and classification do not capture model uncertainty. In classification, predictive probabilities obtained at the end of the pipeline (the softmax output) are often erroneously interpreted as model confidence. Gal et. al argue, that a model can be uncertain in its predictions even with a high softmax output. Passing a point estimate of a function through a softmax results in extrapolations with unjustified high confidence for points far from the training data.\n",
    "\n",
    "Model uncertainty is indispensable for the deep learning practitioner as well. With model confidence at hand we can treat uncertain inputs and special cases explicitly. I recommend Vincents talk from pydata london for a general view on the topic. For example, in the case of classification, a model might return a result with high uncertainty. In this case we might decide to pass the input to a human for classification.\n",
    "\n",
    "Gal et. al show that the use of dropout in neural networks can be interpreted as a Bayesian approximation of a Gaussian process, a well known probabilistic model. Dropout is used in many models in deep learning as a way to avoid over-fitting, and they show that dropout approximately integrates over the models’ weights. In this article we will see how to represent model uncertainty of existing dropout neural networks. This approach, called Monte Carlo dropout, will mitigates the problem of representing model uncertainty in deep learning without sacrificing either computational complexity or test accuracy and can be used for all kind of models trained with dropout.\n",
    "\n",
    "**References:**\n",
    "\n",
    "* https://www.depends-on-the-definition.com/model-uncertainty-in-deep-learning-with-monte-carlo-dropout/\n",
    "* https://towardsdatascience.com/monte-carlo-dropout-7fd52f8b6571"
   ]
  },
  {
   "cell_type": "markdown",
   "id": "c7f51a98",
   "metadata": {},
   "source": [
    "![Compute Uncertainty Theory](images_notebooks/nn_compute_uncertainty.png)"
   ]
  },
  {
   "cell_type": "markdown",
   "id": "be105212",
   "metadata": {},
   "source": [
    "![Dropout Enabled neurons](images_notebooks/nn_dropout_enable.png)"
   ]
  },
  {
   "cell_type": "markdown",
   "id": "6a7862e3",
   "metadata": {},
   "source": [
    "## Import libraries"
   ]
  },
  {
   "cell_type": "code",
   "execution_count": 1,
   "id": "02ca3c6a",
   "metadata": {},
   "outputs": [],
   "source": [
    "from __future__ import print_function\n",
    "import tensorflow as tf\n",
    "from tensorflow import keras\n",
    "from tensorflow.keras.datasets import mnist\n",
    "from tensorflow.keras.models import Sequential\n",
    "from tensorflow.keras.layers import Dense, Dropout, Flatten, SpatialDropout2D, SpatialDropout1D, AlphaDropout\n",
    "from tensorflow.keras.layers import Conv2D, MaxPooling2D\n",
    "from tensorflow.keras import backend as K\n",
    "from tensorflow.keras import Input, Model\n",
    "from tensorflow.keras.utils import to_categorical\n",
    "\n",
    "import numpy as np\n",
    "import pandas as pd\n",
    "from sklearn.metrics import accuracy_score\n",
    "\n",
    "import matplotlib.pyplot as plt\n",
    "plt.style.use(\"ggplot\")\n",
    "%matplotlib inline\n",
    "\n",
    "import tqdm"
   ]
  },
  {
   "cell_type": "markdown",
   "id": "e0915857",
   "metadata": {},
   "source": [
    "## Predefine some basic variables"
   ]
  },
  {
   "cell_type": "code",
   "execution_count": 2,
   "id": "dd01685d",
   "metadata": {},
   "outputs": [],
   "source": [
    "n_epochs = 50\n",
    "batch_size = 128\n",
    "num_classes = 10\n",
    "epochs = 12\n",
    "\n",
    "# input image dimensions\n",
    "img_rows, img_cols = 28, 28"
   ]
  },
  {
   "cell_type": "markdown",
   "id": "6780400c",
   "metadata": {},
   "source": [
    "## Load data"
   ]
  },
  {
   "cell_type": "code",
   "execution_count": 3,
   "id": "3fe4a9b2",
   "metadata": {},
   "outputs": [],
   "source": [
    "# the data, split between train and test sets\n",
    "(x_train, y_train), (x_test, y_test) = mnist.load_data()"
   ]
  },
  {
   "cell_type": "code",
   "execution_count": 4,
   "id": "020a050c",
   "metadata": {},
   "outputs": [],
   "source": [
    "if K.image_data_format() == 'channels_first':\n",
    "    x_train = x_train.reshape(x_train.shape[0], 1, img_rows, img_cols)\n",
    "    x_test = x_test.reshape(x_test.shape[0], 1, img_rows, img_cols)\n",
    "    input_shape = (1, img_rows, img_cols)\n",
    "else:\n",
    "    x_train = x_train.reshape(x_train.shape[0], img_rows, img_cols, 1)\n",
    "    x_test = x_test.reshape(x_test.shape[0], img_rows, img_cols, 1)\n",
    "    input_shape = (img_rows, img_cols, 1)"
   ]
  },
  {
   "cell_type": "code",
   "execution_count": 5,
   "id": "2a7750a8",
   "metadata": {},
   "outputs": [
    {
     "name": "stdout",
     "output_type": "stream",
     "text": [
      "x_train shape: (60000, 28, 28, 1)\n",
      "60000 train samples\n",
      "10000 test samples\n"
     ]
    }
   ],
   "source": [
    "x_train = x_train.astype('float32')\n",
    "x_test = x_test.astype('float32')\n",
    "x_train /= 255\n",
    "x_test /= 255\n",
    "print('x_train shape:', x_train.shape)\n",
    "print(x_train.shape[0], 'train samples')\n",
    "print(x_test.shape[0], 'test samples')"
   ]
  },
  {
   "cell_type": "code",
   "execution_count": 6,
   "id": "d7bf8d32",
   "metadata": {},
   "outputs": [],
   "source": [
    "def format_bytes(size):\n",
    "    # 2**10 = 1024\n",
    "    power = 2**10\n",
    "    n = 0\n",
    "    power_labels = {0 : '', 1: 'kilo', 2: 'mega', 3: 'giga', 4: 'tera'}\n",
    "    while size > power:\n",
    "        size /= power\n",
    "        n += 1\n",
    "    return size, power_labels[n]+'bytes'"
   ]
  },
  {
   "cell_type": "code",
   "execution_count": 7,
   "id": "678b2c83",
   "metadata": {
    "scrolled": true
   },
   "outputs": [
    {
     "name": "stdout",
     "output_type": "stream",
     "text": [
      "size of X train: (179.443359375, 'megabytes')\n",
      "size of X test: (29.9072265625, 'megabytes')\n"
     ]
    }
   ],
   "source": [
    "print(\"size of X train:\", format_bytes(x_train.nbytes))\n",
    "print(\"size of X test:\", format_bytes(x_test.nbytes))"
   ]
  },
  {
   "cell_type": "code",
   "execution_count": 8,
   "id": "7cc9a39c",
   "metadata": {},
   "outputs": [],
   "source": [
    "# convert class vectors to binary class matrices\n",
    "y_train = to_categorical(y_train, num_classes)\n",
    "y_test = to_categorical(y_test, num_classes)"
   ]
  },
  {
   "cell_type": "markdown",
   "id": "82e52941",
   "metadata": {},
   "source": [
    "## Build CNN\n",
    "\n",
    "Build a simple convolutional network with and without Monte Carlo dropout and compare their properties"
   ]
  },
  {
   "cell_type": "code",
   "execution_count": 9,
   "id": "43ff4476",
   "metadata": {},
   "outputs": [],
   "source": [
    "def get_dropout(input_tensor, p=0.5, mc=False):\n",
    "    if mc:\n",
    "        return Dropout(p)(input_tensor, training=True)\n",
    "    else:\n",
    "        return Dropout(p)(input_tensor)"
   ]
  },
  {
   "cell_type": "code",
   "execution_count": 10,
   "id": "b61df5df",
   "metadata": {},
   "outputs": [],
   "source": [
    "def get_model(mc=False, act=\"relu\"):\n",
    "    inp = Input(input_shape)\n",
    "    x = Conv2D(32, kernel_size=(3, 3), activation=act)(inp)\n",
    "    x = Conv2D(64, kernel_size=(3, 3), activation=act)(x)\n",
    "    x = MaxPooling2D(pool_size=(2, 2))(x)\n",
    "    x = get_dropout(x, p=0.25, mc=mc)\n",
    "    x = Flatten()(x)\n",
    "    x = Dense(128, activation=act)(x)\n",
    "    x = get_dropout(x, p=0.5, mc=mc)\n",
    "    out = Dense(num_classes, activation='softmax')(x)\n",
    "\n",
    "    model = Model(inputs=inp, outputs=out)\n",
    "\n",
    "    model.compile(loss=keras.losses.categorical_crossentropy,\n",
    "                  optimizer=keras.optimizers.Adadelta(),\n",
    "                  metrics=['accuracy'])\n",
    "    return model"
   ]
  },
  {
   "cell_type": "markdown",
   "id": "1d8aeb43",
   "metadata": {},
   "source": [
    "### Simple model initiation"
   ]
  },
  {
   "cell_type": "code",
   "execution_count": 11,
   "id": "5f5e1cd6",
   "metadata": {},
   "outputs": [],
   "source": [
    "model = get_model(mc=False, act=\"relu\")"
   ]
  },
  {
   "cell_type": "code",
   "execution_count": 12,
   "id": "1acc2af3",
   "metadata": {},
   "outputs": [
    {
     "name": "stdout",
     "output_type": "stream",
     "text": [
      "Model: \"model\"\n",
      "_________________________________________________________________\n",
      "Layer (type)                 Output Shape              Param #   \n",
      "=================================================================\n",
      "input_1 (InputLayer)         [(None, 28, 28, 1)]       0         \n",
      "_________________________________________________________________\n",
      "conv2d (Conv2D)              (None, 26, 26, 32)        320       \n",
      "_________________________________________________________________\n",
      "conv2d_1 (Conv2D)            (None, 24, 24, 64)        18496     \n",
      "_________________________________________________________________\n",
      "max_pooling2d (MaxPooling2D) (None, 12, 12, 64)        0         \n",
      "_________________________________________________________________\n",
      "dropout (Dropout)            (None, 12, 12, 64)        0         \n",
      "_________________________________________________________________\n",
      "flatten (Flatten)            (None, 9216)              0         \n",
      "_________________________________________________________________\n",
      "dense (Dense)                (None, 128)               1179776   \n",
      "_________________________________________________________________\n",
      "dropout_1 (Dropout)          (None, 128)               0         \n",
      "_________________________________________________________________\n",
      "dense_1 (Dense)              (None, 10)                1290      \n",
      "=================================================================\n",
      "Total params: 1,199,882\n",
      "Trainable params: 1,199,882\n",
      "Non-trainable params: 0\n",
      "_________________________________________________________________\n"
     ]
    }
   ],
   "source": [
    "model.summary()"
   ]
  },
  {
   "cell_type": "markdown",
   "id": "cd243002",
   "metadata": {},
   "source": [
    "### Monte Carlo model initation"
   ]
  },
  {
   "cell_type": "code",
   "execution_count": 13,
   "id": "76c73ea9",
   "metadata": {},
   "outputs": [],
   "source": [
    "mc_model = get_model(mc=True, act=\"relu\")"
   ]
  },
  {
   "cell_type": "code",
   "execution_count": 14,
   "id": "70ba1d48",
   "metadata": {},
   "outputs": [
    {
     "name": "stdout",
     "output_type": "stream",
     "text": [
      "Model: \"model_1\"\n",
      "_________________________________________________________________\n",
      "Layer (type)                 Output Shape              Param #   \n",
      "=================================================================\n",
      "input_2 (InputLayer)         [(None, 28, 28, 1)]       0         \n",
      "_________________________________________________________________\n",
      "conv2d_2 (Conv2D)            (None, 26, 26, 32)        320       \n",
      "_________________________________________________________________\n",
      "conv2d_3 (Conv2D)            (None, 24, 24, 64)        18496     \n",
      "_________________________________________________________________\n",
      "max_pooling2d_1 (MaxPooling2 (None, 12, 12, 64)        0         \n",
      "_________________________________________________________________\n",
      "dropout_2 (Dropout)          (None, 12, 12, 64)        0         \n",
      "_________________________________________________________________\n",
      "flatten_1 (Flatten)          (None, 9216)              0         \n",
      "_________________________________________________________________\n",
      "dense_2 (Dense)              (None, 128)               1179776   \n",
      "_________________________________________________________________\n",
      "dropout_3 (Dropout)          (None, 128)               0         \n",
      "_________________________________________________________________\n",
      "dense_3 (Dense)              (None, 10)                1290      \n",
      "=================================================================\n",
      "Total params: 1,199,882\n",
      "Trainable params: 1,199,882\n",
      "Non-trainable params: 0\n",
      "_________________________________________________________________\n"
     ]
    }
   ],
   "source": [
    "mc_model.summary()"
   ]
  },
  {
   "cell_type": "markdown",
   "id": "34a0e38f",
   "metadata": {},
   "source": [
    "## Train the simple CNN model"
   ]
  },
  {
   "cell_type": "code",
   "execution_count": 15,
   "id": "fb127476",
   "metadata": {},
   "outputs": [
    {
     "name": "stdout",
     "output_type": "stream",
     "text": [
      "Epoch 1/50\n",
      "469/469 [==============================] - 11s 22ms/step - loss: 2.2924 - accuracy: 0.1253 - val_loss: 2.2461 - val_accuracy: 0.3142\n",
      "Epoch 2/50\n",
      "469/469 [==============================] - 10s 22ms/step - loss: 2.2374 - accuracy: 0.2497 - val_loss: 2.1711 - val_accuracy: 0.5284\n",
      "Epoch 3/50\n",
      "469/469 [==============================] - 10s 22ms/step - loss: 2.1659 - accuracy: 0.3622 - val_loss: 2.0692 - val_accuracy: 0.6351\n",
      "Epoch 4/50\n",
      "469/469 [==============================] - 10s 22ms/step - loss: 2.0640 - accuracy: 0.4494 - val_loss: 1.9313 - val_accuracy: 0.6812\n",
      "Epoch 5/50\n",
      "469/469 [==============================] - 10s 21ms/step - loss: 1.9310 - accuracy: 0.5097 - val_loss: 1.7500 - val_accuracy: 0.7158\n",
      "Epoch 6/50\n",
      "469/469 [==============================] - 10s 22ms/step - loss: 1.7688 - accuracy: 0.5496 - val_loss: 1.5349 - val_accuracy: 0.7513\n",
      "Epoch 7/50\n",
      "469/469 [==============================] - 10s 22ms/step - loss: 1.5756 - accuracy: 0.5919 - val_loss: 1.3134 - val_accuracy: 0.7771\n",
      "Epoch 8/50\n",
      "469/469 [==============================] - 10s 22ms/step - loss: 1.3952 - accuracy: 0.6274 - val_loss: 1.1155 - val_accuracy: 0.7974\n",
      "Epoch 9/50\n",
      "469/469 [==============================] - 10s 22ms/step - loss: 1.2440 - accuracy: 0.6525 - val_loss: 0.9585 - val_accuracy: 0.8116\n",
      "Epoch 10/50\n",
      "469/469 [==============================] - 10s 22ms/step - loss: 1.1198 - accuracy: 0.6775 - val_loss: 0.8404 - val_accuracy: 0.8241\n",
      "Epoch 11/50\n",
      "469/469 [==============================] - 10s 22ms/step - loss: 1.0185 - accuracy: 0.7032 - val_loss: 0.7514 - val_accuracy: 0.8341\n",
      "Epoch 12/50\n",
      "469/469 [==============================] - 10s 22ms/step - loss: 0.9434 - accuracy: 0.7194 - val_loss: 0.6838 - val_accuracy: 0.8419\n",
      "Epoch 13/50\n",
      "469/469 [==============================] - 10s 22ms/step - loss: 0.8886 - accuracy: 0.7315 - val_loss: 0.6316 - val_accuracy: 0.8498\n",
      "Epoch 14/50\n",
      "469/469 [==============================] - 10s 22ms/step - loss: 0.8290 - accuracy: 0.7474 - val_loss: 0.5895 - val_accuracy: 0.8573\n",
      "Epoch 15/50\n",
      "469/469 [==============================] - 10s 22ms/step - loss: 0.7877 - accuracy: 0.7605 - val_loss: 0.5549 - val_accuracy: 0.8632\n",
      "Epoch 16/50\n",
      "469/469 [==============================] - 10s 22ms/step - loss: 0.7607 - accuracy: 0.7669 - val_loss: 0.5269 - val_accuracy: 0.8671\n",
      "Epoch 17/50\n",
      "469/469 [==============================] - 10s 22ms/step - loss: 0.7287 - accuracy: 0.7749 - val_loss: 0.5027 - val_accuracy: 0.8720\n",
      "Epoch 18/50\n",
      "469/469 [==============================] - 10s 22ms/step - loss: 0.7009 - accuracy: 0.7861 - val_loss: 0.4822 - val_accuracy: 0.8772\n",
      "Epoch 19/50\n",
      "469/469 [==============================] - 10s 22ms/step - loss: 0.6743 - accuracy: 0.7914 - val_loss: 0.4642 - val_accuracy: 0.8802\n",
      "Epoch 20/50\n",
      "469/469 [==============================] - 10s 22ms/step - loss: 0.6595 - accuracy: 0.7954 - val_loss: 0.4492 - val_accuracy: 0.8823\n",
      "Epoch 21/50\n",
      "469/469 [==============================] - 10s 22ms/step - loss: 0.6402 - accuracy: 0.8042 - val_loss: 0.4353 - val_accuracy: 0.8851\n",
      "Epoch 22/50\n",
      "469/469 [==============================] - 10s 22ms/step - loss: 0.6276 - accuracy: 0.8092 - val_loss: 0.4229 - val_accuracy: 0.8869\n",
      "Epoch 23/50\n",
      "469/469 [==============================] - 10s 22ms/step - loss: 0.6082 - accuracy: 0.8145 - val_loss: 0.4124 - val_accuracy: 0.8890\n",
      "Epoch 24/50\n",
      "469/469 [==============================] - 10s 22ms/step - loss: 0.6000 - accuracy: 0.8191 - val_loss: 0.4024 - val_accuracy: 0.8911\n",
      "Epoch 25/50\n",
      "469/469 [==============================] - 10s 22ms/step - loss: 0.5823 - accuracy: 0.8242 - val_loss: 0.3930 - val_accuracy: 0.8935\n",
      "Epoch 26/50\n",
      "469/469 [==============================] - 10s 22ms/step - loss: 0.5638 - accuracy: 0.8288 - val_loss: 0.3846 - val_accuracy: 0.8953\n",
      "Epoch 27/50\n",
      "469/469 [==============================] - 10s 22ms/step - loss: 0.5631 - accuracy: 0.8294 - val_loss: 0.3770 - val_accuracy: 0.8972\n",
      "Epoch 28/50\n",
      "469/469 [==============================] - 10s 22ms/step - loss: 0.5427 - accuracy: 0.8354 - val_loss: 0.3701 - val_accuracy: 0.8994\n",
      "Epoch 29/50\n",
      "469/469 [==============================] - 10s 22ms/step - loss: 0.5382 - accuracy: 0.8368 - val_loss: 0.3633 - val_accuracy: 0.9010\n",
      "Epoch 30/50\n",
      "469/469 [==============================] - 10s 22ms/step - loss: 0.5298 - accuracy: 0.8361 - val_loss: 0.3569 - val_accuracy: 0.9032\n",
      "Epoch 31/50\n",
      "469/469 [==============================] - 10s 22ms/step - loss: 0.5251 - accuracy: 0.8391 - val_loss: 0.3519 - val_accuracy: 0.9041\n",
      "Epoch 32/50\n",
      "469/469 [==============================] - 10s 22ms/step - loss: 0.5177 - accuracy: 0.8414 - val_loss: 0.3464 - val_accuracy: 0.9058\n",
      "Epoch 33/50\n",
      "469/469 [==============================] - 10s 22ms/step - loss: 0.5132 - accuracy: 0.8442 - val_loss: 0.3415 - val_accuracy: 0.9078\n",
      "Epoch 34/50\n",
      "469/469 [==============================] - 10s 22ms/step - loss: 0.5051 - accuracy: 0.8461 - val_loss: 0.3369 - val_accuracy: 0.9090\n",
      "Epoch 35/50\n",
      "469/469 [==============================] - 10s 22ms/step - loss: 0.5027 - accuracy: 0.8475 - val_loss: 0.3325 - val_accuracy: 0.9101\n",
      "Epoch 36/50\n",
      "469/469 [==============================] - 10s 22ms/step - loss: 0.4957 - accuracy: 0.8507 - val_loss: 0.3281 - val_accuracy: 0.9114\n",
      "Epoch 37/50\n",
      "469/469 [==============================] - 10s 22ms/step - loss: 0.4807 - accuracy: 0.8560 - val_loss: 0.3241 - val_accuracy: 0.9122\n",
      "Epoch 38/50\n",
      "469/469 [==============================] - 10s 22ms/step - loss: 0.4790 - accuracy: 0.8577 - val_loss: 0.3199 - val_accuracy: 0.9124\n",
      "Epoch 39/50\n",
      "469/469 [==============================] - 10s 22ms/step - loss: 0.4729 - accuracy: 0.8582 - val_loss: 0.3159 - val_accuracy: 0.9128\n",
      "Epoch 40/50\n",
      "469/469 [==============================] - 10s 22ms/step - loss: 0.4743 - accuracy: 0.8558 - val_loss: 0.3122 - val_accuracy: 0.9132\n",
      "Epoch 41/50\n",
      "469/469 [==============================] - 10s 22ms/step - loss: 0.4610 - accuracy: 0.8602 - val_loss: 0.3090 - val_accuracy: 0.9144\n",
      "Epoch 42/50\n",
      "469/469 [==============================] - 10s 22ms/step - loss: 0.4568 - accuracy: 0.8628 - val_loss: 0.3060 - val_accuracy: 0.9148\n",
      "Epoch 43/50\n",
      "469/469 [==============================] - 10s 22ms/step - loss: 0.4574 - accuracy: 0.8612 - val_loss: 0.3031 - val_accuracy: 0.9150\n",
      "Epoch 44/50\n",
      "469/469 [==============================] - 10s 22ms/step - loss: 0.4488 - accuracy: 0.8641 - val_loss: 0.2996 - val_accuracy: 0.9159\n",
      "Epoch 45/50\n",
      "469/469 [==============================] - 10s 22ms/step - loss: 0.4414 - accuracy: 0.8675 - val_loss: 0.2966 - val_accuracy: 0.9160\n",
      "Epoch 46/50\n",
      "469/469 [==============================] - 10s 22ms/step - loss: 0.4397 - accuracy: 0.8679 - val_loss: 0.2938 - val_accuracy: 0.9165\n",
      "Epoch 47/50\n",
      "469/469 [==============================] - 10s 22ms/step - loss: 0.4407 - accuracy: 0.8698 - val_loss: 0.2907 - val_accuracy: 0.9180\n",
      "Epoch 48/50\n",
      "469/469 [==============================] - 10s 22ms/step - loss: 0.4327 - accuracy: 0.8688 - val_loss: 0.2882 - val_accuracy: 0.9182\n",
      "Epoch 49/50\n",
      "469/469 [==============================] - 10s 22ms/step - loss: 0.4295 - accuracy: 0.8723 - val_loss: 0.2855 - val_accuracy: 0.9192\n",
      "Epoch 50/50\n",
      "469/469 [==============================] - 10s 22ms/step - loss: 0.4253 - accuracy: 0.8721 - val_loss: 0.2829 - val_accuracy: 0.9196\n"
     ]
    }
   ],
   "source": [
    "h = model.fit(x_train, y_train,\n",
    "              batch_size=batch_size,\n",
    "              epochs=n_epochs,\n",
    "              verbose=1,\n",
    "              validation_data=(x_test, y_test))"
   ]
  },
  {
   "cell_type": "markdown",
   "id": "bd3cb34c",
   "metadata": {},
   "source": [
    "## Evaluate the simple CNN model"
   ]
  },
  {
   "cell_type": "code",
   "execution_count": 16,
   "id": "0385fb94",
   "metadata": {},
   "outputs": [
    {
     "name": "stdout",
     "output_type": "stream",
     "text": [
      "Test loss: 0.2829316258430481\n",
      "Test accuracy: 0.9196000099182129\n"
     ]
    }
   ],
   "source": [
    "# score of the normal model\n",
    "score = model.evaluate(x_test, y_test, verbose=0)\n",
    "\n",
    "print('Test loss:', score[0])\n",
    "print('Test accuracy:', score[1])"
   ]
  },
  {
   "cell_type": "markdown",
   "id": "e73cd833",
   "metadata": {},
   "source": [
    "## Train the MC CNN model"
   ]
  },
  {
   "cell_type": "code",
   "execution_count": 17,
   "id": "c1784057",
   "metadata": {},
   "outputs": [
    {
     "name": "stdout",
     "output_type": "stream",
     "text": [
      "Epoch 1/50\n",
      "469/469 [==============================] - 11s 22ms/step - loss: 2.2952 - accuracy: 0.1227 - val_loss: 2.2626 - val_accuracy: 0.2097\n",
      "Epoch 2/50\n",
      "469/469 [==============================] - 10s 22ms/step - loss: 2.2484 - accuracy: 0.2398 - val_loss: 2.2062 - val_accuracy: 0.3230\n",
      "Epoch 3/50\n",
      "469/469 [==============================] - 10s 22ms/step - loss: 2.1913 - accuracy: 0.3495 - val_loss: 2.1349 - val_accuracy: 0.4107\n",
      "Epoch 4/50\n",
      "469/469 [==============================] - 10s 22ms/step - loss: 2.1137 - accuracy: 0.4378 - val_loss: 2.0336 - val_accuracy: 0.4949\n",
      "Epoch 5/50\n",
      "469/469 [==============================] - 10s 22ms/step - loss: 2.0060 - accuracy: 0.5029 - val_loss: 1.8971 - val_accuracy: 0.5613\n",
      "Epoch 6/50\n",
      "469/469 [==============================] - 10s 22ms/step - loss: 1.8647 - accuracy: 0.5540 - val_loss: 1.7343 - val_accuracy: 0.5866\n",
      "Epoch 7/50\n",
      "469/469 [==============================] - 10s 22ms/step - loss: 1.6972 - accuracy: 0.5907 - val_loss: 1.5491 - val_accuracy: 0.6155\n",
      "Epoch 8/50\n",
      "469/469 [==============================] - 10s 22ms/step - loss: 1.5170 - accuracy: 0.6220 - val_loss: 1.3799 - val_accuracy: 0.6443\n",
      "Epoch 9/50\n",
      "469/469 [==============================] - 10s 22ms/step - loss: 1.3523 - accuracy: 0.6466 - val_loss: 1.2250 - val_accuracy: 0.6711\n",
      "Epoch 10/50\n",
      "469/469 [==============================] - 10s 22ms/step - loss: 1.2057 - accuracy: 0.6713 - val_loss: 1.1104 - val_accuracy: 0.6886\n",
      "Epoch 11/50\n",
      "469/469 [==============================] - 10s 22ms/step - loss: 1.0990 - accuracy: 0.6908 - val_loss: 1.0090 - val_accuracy: 0.7133\n",
      "Epoch 12/50\n",
      "469/469 [==============================] - 10s 22ms/step - loss: 1.0153 - accuracy: 0.7068 - val_loss: 0.9338 - val_accuracy: 0.7255\n",
      "Epoch 13/50\n",
      "469/469 [==============================] - 10s 22ms/step - loss: 0.9502 - accuracy: 0.7213 - val_loss: 0.8754 - val_accuracy: 0.7426\n",
      "Epoch 14/50\n",
      "469/469 [==============================] - 10s 22ms/step - loss: 0.8830 - accuracy: 0.7382 - val_loss: 0.8276 - val_accuracy: 0.7527\n",
      "Epoch 15/50\n",
      "469/469 [==============================] - 10s 22ms/step - loss: 0.8396 - accuracy: 0.7497 - val_loss: 0.7929 - val_accuracy: 0.7611\n",
      "Epoch 16/50\n",
      "469/469 [==============================] - 10s 22ms/step - loss: 0.8062 - accuracy: 0.7589 - val_loss: 0.7564 - val_accuracy: 0.7712\n",
      "Epoch 17/50\n",
      "469/469 [==============================] - 10s 22ms/step - loss: 0.7670 - accuracy: 0.7704 - val_loss: 0.7197 - val_accuracy: 0.7822\n",
      "Epoch 18/50\n",
      "469/469 [==============================] - 10s 22ms/step - loss: 0.7389 - accuracy: 0.7764 - val_loss: 0.7008 - val_accuracy: 0.7852\n",
      "Epoch 19/50\n",
      "469/469 [==============================] - 10s 22ms/step - loss: 0.7078 - accuracy: 0.7853 - val_loss: 0.6724 - val_accuracy: 0.7964\n",
      "Epoch 20/50\n",
      "469/469 [==============================] - 10s 22ms/step - loss: 0.7033 - accuracy: 0.7858 - val_loss: 0.6630 - val_accuracy: 0.7956\n",
      "Epoch 21/50\n",
      "469/469 [==============================] - 10s 22ms/step - loss: 0.6789 - accuracy: 0.7935 - val_loss: 0.6419 - val_accuracy: 0.8088\n",
      "Epoch 22/50\n",
      "469/469 [==============================] - 10s 22ms/step - loss: 0.6643 - accuracy: 0.7954 - val_loss: 0.6232 - val_accuracy: 0.8091\n",
      "Epoch 23/50\n",
      "469/469 [==============================] - 10s 22ms/step - loss: 0.6353 - accuracy: 0.8052 - val_loss: 0.6203 - val_accuracy: 0.8137\n",
      "Epoch 24/50\n",
      "469/469 [==============================] - 10s 22ms/step - loss: 0.6251 - accuracy: 0.8097 - val_loss: 0.5956 - val_accuracy: 0.8137\n",
      "Epoch 25/50\n",
      "469/469 [==============================] - 11s 22ms/step - loss: 0.6154 - accuracy: 0.8127 - val_loss: 0.5899 - val_accuracy: 0.8171\n",
      "Epoch 26/50\n",
      "469/469 [==============================] - 10s 22ms/step - loss: 0.6024 - accuracy: 0.8146 - val_loss: 0.5723 - val_accuracy: 0.8266\n",
      "Epoch 27/50\n",
      "469/469 [==============================] - 10s 22ms/step - loss: 0.5967 - accuracy: 0.8194 - val_loss: 0.5586 - val_accuracy: 0.8287\n",
      "Epoch 28/50\n",
      "469/469 [==============================] - 10s 22ms/step - loss: 0.5745 - accuracy: 0.8245 - val_loss: 0.5432 - val_accuracy: 0.8420\n",
      "Epoch 29/50\n",
      "469/469 [==============================] - 11s 22ms/step - loss: 0.5678 - accuracy: 0.8267 - val_loss: 0.5394 - val_accuracy: 0.8395\n",
      "Epoch 30/50\n",
      "469/469 [==============================] - 10s 22ms/step - loss: 0.5603 - accuracy: 0.8298 - val_loss: 0.5324 - val_accuracy: 0.8390\n",
      "Epoch 31/50\n",
      "469/469 [==============================] - 10s 22ms/step - loss: 0.5510 - accuracy: 0.8320 - val_loss: 0.5275 - val_accuracy: 0.8397\n",
      "Epoch 32/50\n",
      "469/469 [==============================] - 11s 22ms/step - loss: 0.5464 - accuracy: 0.8350 - val_loss: 0.5206 - val_accuracy: 0.8426\n",
      "Epoch 33/50\n",
      "469/469 [==============================] - 10s 22ms/step - loss: 0.5368 - accuracy: 0.8376 - val_loss: 0.5061 - val_accuracy: 0.8480\n",
      "Epoch 34/50\n",
      "469/469 [==============================] - 10s 22ms/step - loss: 0.5302 - accuracy: 0.8362 - val_loss: 0.5012 - val_accuracy: 0.8474\n",
      "Epoch 35/50\n",
      "469/469 [==============================] - 10s 22ms/step - loss: 0.5123 - accuracy: 0.8451 - val_loss: 0.5023 - val_accuracy: 0.8497\n",
      "Epoch 36/50\n",
      "469/469 [==============================] - 10s 22ms/step - loss: 0.5237 - accuracy: 0.8426 - val_loss: 0.4947 - val_accuracy: 0.8497\n",
      "Epoch 37/50\n",
      "469/469 [==============================] - 10s 22ms/step - loss: 0.5094 - accuracy: 0.8438 - val_loss: 0.4800 - val_accuracy: 0.8559\n",
      "Epoch 38/50\n",
      "469/469 [==============================] - 10s 22ms/step - loss: 0.4986 - accuracy: 0.8502 - val_loss: 0.4862 - val_accuracy: 0.8541\n",
      "Epoch 39/50\n",
      "469/469 [==============================] - 10s 22ms/step - loss: 0.5022 - accuracy: 0.8457 - val_loss: 0.4799 - val_accuracy: 0.8560\n",
      "Epoch 40/50\n",
      "469/469 [==============================] - 10s 22ms/step - loss: 0.4986 - accuracy: 0.8478 - val_loss: 0.4680 - val_accuracy: 0.8585\n",
      "Epoch 41/50\n",
      "469/469 [==============================] - 10s 22ms/step - loss: 0.4877 - accuracy: 0.8518 - val_loss: 0.4708 - val_accuracy: 0.8571\n",
      "Epoch 42/50\n",
      "469/469 [==============================] - 10s 22ms/step - loss: 0.4832 - accuracy: 0.8534 - val_loss: 0.4600 - val_accuracy: 0.8602\n",
      "Epoch 43/50\n",
      "469/469 [==============================] - 10s 22ms/step - loss: 0.4712 - accuracy: 0.8606 - val_loss: 0.4626 - val_accuracy: 0.8601\n",
      "Epoch 44/50\n",
      "469/469 [==============================] - 10s 22ms/step - loss: 0.4743 - accuracy: 0.8549 - val_loss: 0.4581 - val_accuracy: 0.8616\n",
      "Epoch 45/50\n",
      "469/469 [==============================] - 10s 22ms/step - loss: 0.4633 - accuracy: 0.8595 - val_loss: 0.4520 - val_accuracy: 0.8613\n",
      "Epoch 46/50\n",
      "469/469 [==============================] - 10s 22ms/step - loss: 0.4705 - accuracy: 0.8582 - val_loss: 0.4478 - val_accuracy: 0.8638\n",
      "Epoch 47/50\n",
      "469/469 [==============================] - 10s 22ms/step - loss: 0.4512 - accuracy: 0.8629 - val_loss: 0.4463 - val_accuracy: 0.8670\n",
      "Epoch 48/50\n",
      "469/469 [==============================] - 10s 22ms/step - loss: 0.4489 - accuracy: 0.8633 - val_loss: 0.4325 - val_accuracy: 0.8668\n",
      "Epoch 49/50\n",
      "469/469 [==============================] - 10s 22ms/step - loss: 0.4529 - accuracy: 0.8631 - val_loss: 0.4409 - val_accuracy: 0.8691\n",
      "Epoch 50/50\n",
      "469/469 [==============================] - 10s 22ms/step - loss: 0.4562 - accuracy: 0.8621 - val_loss: 0.4277 - val_accuracy: 0.8695\n"
     ]
    }
   ],
   "source": [
    "h_mc = mc_model.fit(x_train, y_train,\n",
    "                    batch_size=batch_size,\n",
    "                    epochs=n_epochs,\n",
    "                    verbose=1,\n",
    "                    validation_data=(x_test, y_test))"
   ]
  },
  {
   "cell_type": "markdown",
   "id": "fb596635",
   "metadata": {},
   "source": [
    "## Make predictions with the MC CNN model (500 per instance)"
   ]
  },
  {
   "cell_type": "code",
   "execution_count": 18,
   "id": "01051ea3",
   "metadata": {},
   "outputs": [
    {
     "name": "stderr",
     "output_type": "stream",
     "text": [
      "100%|██████████| 500/500 [03:49<00:00,  2.18it/s]\n"
     ]
    }
   ],
   "source": [
    "mc_predictions = []\n",
    "for i in tqdm.tqdm(range(500)):\n",
    "    y_p = mc_model.predict(x_test, batch_size=1000)\n",
    "    mc_predictions.append(y_p)"
   ]
  },
  {
   "cell_type": "code",
   "execution_count": 19,
   "id": "e60b490d",
   "metadata": {},
   "outputs": [
    {
     "data": {
      "text/plain": [
       "500"
      ]
     },
     "execution_count": 19,
     "metadata": {},
     "output_type": "execute_result"
    }
   ],
   "source": [
    "len(mc_predictions)"
   ]
  },
  {
   "cell_type": "code",
   "execution_count": 20,
   "id": "d9e48e8b",
   "metadata": {},
   "outputs": [
    {
     "data": {
      "text/plain": [
       "(10000, 10)"
      ]
     },
     "execution_count": 20,
     "metadata": {},
     "output_type": "execute_result"
    }
   ],
   "source": [
    "mc_predictions[0].shape"
   ]
  },
  {
   "cell_type": "markdown",
   "id": "e16dbeab",
   "metadata": {},
   "source": [
    "## Evaluate the MC CNN model"
   ]
  },
  {
   "cell_type": "code",
   "execution_count": 21,
   "id": "fecb63fc",
   "metadata": {},
   "outputs": [
    {
     "name": "stdout",
     "output_type": "stream",
     "text": [
      "MC accuracy: 87.1%\n"
     ]
    }
   ],
   "source": [
    "# score of the mc model\n",
    "accs = []\n",
    "for y_p in mc_predictions:\n",
    "    acc = accuracy_score(y_test.argmax(axis=1), y_p.argmax(axis=1))\n",
    "    accs.append(acc)\n",
    "print(\"MC accuracy: {:.1%}\".format(sum(accs)/len(accs)))"
   ]
  },
  {
   "cell_type": "code",
   "execution_count": 22,
   "id": "206b1b7b",
   "metadata": {},
   "outputs": [],
   "source": [
    "mc_ensemble_pred = np.array(mc_predictions).mean(axis=0).argmax(axis=1)"
   ]
  },
  {
   "cell_type": "code",
   "execution_count": 23,
   "id": "ed3da728",
   "metadata": {},
   "outputs": [
    {
     "data": {
      "text/plain": [
       "(10000,)"
      ]
     },
     "execution_count": 23,
     "metadata": {},
     "output_type": "execute_result"
    }
   ],
   "source": [
    "mc_ensemble_pred.shape"
   ]
  },
  {
   "cell_type": "code",
   "execution_count": 24,
   "id": "9f294b50",
   "metadata": {},
   "outputs": [
    {
     "data": {
      "text/plain": [
       "7"
      ]
     },
     "execution_count": 24,
     "metadata": {},
     "output_type": "execute_result"
    }
   ],
   "source": [
    "mc_ensemble_pred[0]"
   ]
  },
  {
   "cell_type": "code",
   "execution_count": 25,
   "id": "0ba94761",
   "metadata": {},
   "outputs": [],
   "source": [
    "ensemble_acc = accuracy_score(y_test.argmax(axis=1), mc_ensemble_pred)"
   ]
  },
  {
   "cell_type": "code",
   "execution_count": 26,
   "id": "98bc6a2d",
   "metadata": {},
   "outputs": [
    {
     "name": "stdout",
     "output_type": "stream",
     "text": [
      "MC-ensemble accuracy: 91.6%\n"
     ]
    }
   ],
   "source": [
    "print(\"MC-ensemble accuracy: {:.1%}\".format(ensemble_acc))"
   ]
  },
  {
   "cell_type": "code",
   "execution_count": 27,
   "id": "dc7c1d6a",
   "metadata": {},
   "outputs": [
    {
     "data": {
      "image/png": "[encoded data removed]",
      "text/plain": [
       "<Figure size 432x288 with 1 Axes>"
      ]
     },
     "metadata": {
      "needs_background": "light"
     },
     "output_type": "display_data"
    }
   ],
   "source": [
    "plt.hist(accs);\n",
    "plt.axvline(x=ensemble_acc, color=\"b\");"
   ]
  },
  {
   "cell_type": "markdown",
   "id": "f821519a",
   "metadata": {},
   "source": [
    "## Explore the Monte Carlo predictions"
   ]
  },
  {
   "cell_type": "markdown",
   "id": "7475b447",
   "metadata": {},
   "source": [
    "Predictions with probability and uncertainty"
   ]
  },
  {
   "cell_type": "code",
   "execution_count": 28,
   "id": "02ac2c54",
   "metadata": {},
   "outputs": [
    {
     "data": {
      "text/plain": [
       "<matplotlib.image.AxesImage at 0x7f98b82c4a10>"
      ]
     },
     "execution_count": 28,
     "metadata": {},
     "output_type": "execute_result"
    },
    {
     "data": {
      "image/png": "[encoded data removed]",
      "text/plain": [
       "<Figure size 432x288 with 1 Axes>"
      ]
     },
     "metadata": {
      "needs_background": "light"
     },
     "output_type": "display_data"
    }
   ],
   "source": [
    "idx = 0\n",
    "plt.imshow(x_test[idx][:,:,0])"
   ]
  },
  {
   "cell_type": "code",
   "execution_count": 29,
   "id": "7b8c064a",
   "metadata": {},
   "outputs": [
    {
     "name": "stdout",
     "output_type": "stream",
     "text": [
      "p0 shape: (500, 10)\n",
      "posterior mean: 7\n",
      "true label: 7\n"
     ]
    }
   ],
   "source": [
    "p0 = np.array([p[idx] for p in mc_predictions])\n",
    "print(\"p0 shape: {}\".format(p0.shape))\n",
    "print(\"posterior mean: {}\".format(p0.mean(axis=0).argmax()))\n",
    "print(\"true label: {}\".format(y_test[idx].argmax()))"
   ]
  },
  {
   "cell_type": "code",
   "execution_count": 30,
   "id": "42d3c52e",
   "metadata": {},
   "outputs": [
    {
     "name": "stdout",
     "output_type": "stream",
     "text": [
      "class: 0; proba: 0.1%; var: 0.29% \n",
      "class: 1; proba: 0.0%; var: 0.04% \n",
      "class: 2; proba: 0.1%; var: 0.36% \n",
      "class: 3; proba: 0.5%; var: 1.31% \n",
      "class: 4; proba: 0.1%; var: 0.20% \n",
      "class: 5; proba: 0.0%; var: 0.10% \n",
      "class: 6; proba: 0.0%; var: 0.02% \n",
      "class: 7; proba: 98.2%; var: 3.20% \n",
      "class: 8; proba: 0.1%; var: 0.80% \n",
      "class: 9; proba: 0.8%; var: 1.76% \n"
     ]
    }
   ],
   "source": [
    "# probability + variance\n",
    "for i, (prob, var) in enumerate(zip(p0.mean(axis=0), p0.std(axis=0))):\n",
    "    print(\"class: {}; proba: {:.1%}; var: {:.2%} \".format(i, prob, var))"
   ]
  },
  {
   "cell_type": "code",
   "execution_count": 31,
   "id": "5d83719d",
   "metadata": {},
   "outputs": [
    {
     "data": {
      "image/png": "[encoded data removed]",
      "text/plain": [
       "<Figure size 432x288 with 1 Axes>"
      ]
     },
     "metadata": {
      "needs_background": "light"
     },
     "output_type": "display_data"
    }
   ],
   "source": [
    "x, y = list(range(len(p0.mean(axis=0)))), p0.mean(axis=0)\n",
    "plt.plot(x, y);"
   ]
  },
  {
   "cell_type": "code",
   "execution_count": 32,
   "id": "9951a391",
   "metadata": {},
   "outputs": [
    {
     "data": {
      "image/png": "[encoded data removed]",
      "text/plain": [
       "<Figure size 864x864 with 10 Axes>"
      ]
     },
     "metadata": {
      "needs_background": "light"
     },
     "output_type": "display_data"
    }
   ],
   "source": [
    "fig, axes = plt.subplots(5, 2, figsize=(12,12))\n",
    "\n",
    "for i, ax in enumerate(fig.get_axes()):\n",
    "    ax.hist(p0[:,i], bins=100, range=(0,1));\n",
    "    ax.set_title(f\"class {i}\")\n",
    "    ax.label_outer()"
   ]
  },
  {
   "cell_type": "markdown",
   "id": "edc97db8",
   "metadata": {},
   "source": [
    "The model is correct but fairly uncertain. This seems to be a hard example."
   ]
  },
  {
   "cell_type": "markdown",
   "id": "cd8688f1",
   "metadata": {},
   "source": [
    "## Selection by probability"
   ]
  },
  {
   "cell_type": "markdown",
   "id": "ea0e986c",
   "metadata": {},
   "source": [
    "select images by the predictive mean, our probability."
   ]
  },
  {
   "cell_type": "code",
   "execution_count": 33,
   "id": "2171daab",
   "metadata": {},
   "outputs": [],
   "source": [
    "max_means = []\n",
    "preds = []\n",
    "for idx in range(len(mc_predictions)):\n",
    "    px = np.array([p[idx] for p in mc_predictions])\n",
    "    preds.append(px.mean(axis=0).argmax())\n",
    "    max_means.append(px.mean(axis=0).max())"
   ]
  },
  {
   "cell_type": "code",
   "execution_count": 34,
   "id": "4bb66d3a",
   "metadata": {},
   "outputs": [
    {
     "data": {
      "text/plain": [
       "array([195, 149,  66, 406, 483, 443,   8, 119, 193,  62])"
      ]
     },
     "execution_count": 34,
     "metadata": {},
     "output_type": "execute_result"
    }
   ],
   "source": [
    "best_mean_probabilities = (np.array(max_means)).argsort()[:10]\n",
    "best_mean_probabilities"
   ]
  },
  {
   "cell_type": "code",
   "execution_count": 35,
   "id": "779648bf",
   "metadata": {},
   "outputs": [
    {
     "data": {
      "text/plain": [
       "<matplotlib.image.AxesImage at 0x7f98885217d0>"
      ]
     },
     "execution_count": 35,
     "metadata": {},
     "output_type": "execute_result"
    },
    {
     "data": {
      "image/png": "[encoded data removed]",
      "text/plain": [
       "<Figure size 432x288 with 1 Axes>"
      ]
     },
     "metadata": {
      "needs_background": "light"
     },
     "output_type": "display_data"
    }
   ],
   "source": [
    "plt.imshow(x_test[best_mean_probabilities[0]][:,:,0])"
   ]
  },
  {
   "cell_type": "markdown",
   "id": "c8a12164",
   "metadata": {},
   "source": [
    "It seems the image from above was the one the model was most uncertain about by probability"
   ]
  },
  {
   "cell_type": "markdown",
   "id": "f9c7b888",
   "metadata": {},
   "source": [
    "## Selection by variance"
   ]
  },
  {
   "cell_type": "markdown",
   "id": "1b56fe82",
   "metadata": {},
   "source": [
    "select the images by the variance of the predictions"
   ]
  },
  {
   "cell_type": "code",
   "execution_count": 36,
   "id": "7169a8cf",
   "metadata": {},
   "outputs": [],
   "source": [
    "max_vars = []\n",
    "for idx in range(len(mc_predictions)):\n",
    "    px = np.array([p[idx] for p in mc_predictions])\n",
    "    max_vars.append(px.std(axis=0)[px.mean(axis=0).argmax()])"
   ]
  },
  {
   "cell_type": "code",
   "execution_count": 37,
   "id": "1a575234",
   "metadata": {},
   "outputs": [
    {
     "data": {
      "text/plain": [
       "[0.032037925, 0.21340212, 0.083655916]"
      ]
     },
     "execution_count": 37,
     "metadata": {},
     "output_type": "execute_result"
    }
   ],
   "source": [
    "max_vars[:3]"
   ]
  },
  {
   "cell_type": "code",
   "execution_count": 38,
   "id": "9b9f3fa6",
   "metadata": {},
   "outputs": [],
   "source": [
    "negativesss = -np.array(max_vars)"
   ]
  },
  {
   "cell_type": "code",
   "execution_count": 39,
   "id": "f9669f11",
   "metadata": {},
   "outputs": [
    {
     "data": {
      "text/plain": [
       "(500,)"
      ]
     },
     "execution_count": 39,
     "metadata": {},
     "output_type": "execute_result"
    }
   ],
   "source": [
    "negativesss.shape"
   ]
  },
  {
   "cell_type": "code",
   "execution_count": 40,
   "id": "678cdaa8",
   "metadata": {},
   "outputs": [
    {
     "data": {
      "text/plain": [
       "array([-0.03203792, -0.21340212, -0.08365592], dtype=float32)"
      ]
     },
     "execution_count": 40,
     "metadata": {},
     "output_type": "execute_result"
    }
   ],
   "source": [
    "negativesss[:3]"
   ]
  },
  {
   "cell_type": "code",
   "execution_count": 41,
   "id": "35c45a07",
   "metadata": {},
   "outputs": [
    {
     "data": {
      "text/plain": [
       "array([-0.03203792, -0.21340212, -0.08365592, -0.04758089, -0.13235736,\n",
       "       -0.07242148, -0.13768242, -0.20101084, -0.23984802, -0.19894335,\n",
       "       -0.10773931, -0.19821467, -0.13139088, -0.07343909, -0.06472304,\n",
       "       -0.16691905, -0.17731506, -0.04391229, -0.18330322, -0.06381003,\n",
       "       -0.2300647 , -0.13617939, -0.20604713, -0.07924151, -0.15250732,\n",
       "       -0.06157618, -0.09662186, -0.09314435, -0.07441831, -0.13864379,\n",
       "       -0.11484484, -0.13868038, -0.16411737, -0.25824448, -0.1562676 ,\n",
       "       -0.0943056 , -0.05741233, -0.0791629 , -0.26739472, -0.05486468,\n",
       "       -0.10877926, -0.09346298, -0.15692604, -0.17106889, -0.17397325,\n",
       "       -0.19327044, -0.19973439, -0.08460487, -0.1778942 , -0.09250627,\n",
       "       -0.07912698, -0.14154181, -0.13837239, -0.17432335, -0.1975212 ,\n",
       "       -0.2446941 , -0.04108417, -0.08392856, -0.1651129 , -0.17189954,\n",
       "       -0.07242646, -0.25669587, -0.1512728 , -0.24846774, -0.11900338,\n",
       "       -0.19128829, -0.15531279, -0.04372726, -0.07936268, -0.06333853,\n",
       "       -0.01894318, -0.07723889, -0.25959587, -0.2537872 , -0.07533944,\n",
       "       -0.11359773, -0.13247173, -0.18934128, -0.20887008, -0.02450237,\n",
       "       -0.23329365, -0.07215137, -0.00374692, -0.1287835 , -0.22656058,\n",
       "       -0.03110281, -0.04613459, -0.20704524, -0.05225881, -0.06655282,\n",
       "       -0.08955348, -0.04675602, -0.13378829, -0.09927092, -0.15334146,\n",
       "       -0.1347009 , -0.17427209, -0.22618529, -0.16952136, -0.10341135,\n",
       "       -0.1304647 , -0.09066352, -0.11187863, -0.04014928, -0.1691086 ,\n",
       "       -0.11942712, -0.13270561, -0.13917646, -0.17394942, -0.14562161,\n",
       "       -0.20551533, -0.25763038, -0.17804205, -0.09944382, -0.20050716,\n",
       "       -0.20838442, -0.17782907, -0.0277471 , -0.17142197, -0.2311543 ,\n",
       "       -0.23244697, -0.24276297, -0.13316543, -0.06625815, -0.24780537,\n",
       "       -0.19029015, -0.24094048, -0.05865202, -0.08831764, -0.06169955,\n",
       "       -0.04370764, -0.04357106, -0.10634614, -0.22210133, -0.04801596,\n",
       "       -0.04602076, -0.16226254, -0.07279817, -0.0512162 , -0.23975094,\n",
       "       -0.13173662, -0.06381581, -0.19557513, -0.06166454, -0.24515292,\n",
       "       -0.13645087, -0.11777836, -0.02790703, -0.10768116, -0.10498364,\n",
       "       -0.20140886, -0.22862251, -0.12274516, -0.20978472, -0.12359527,\n",
       "       -0.06014192, -0.10851195, -0.1243083 , -0.14518034, -0.17649041,\n",
       "       -0.11049125, -0.06685862, -0.05089534, -0.04999208, -0.20946011,\n",
       "       -0.19495527, -0.16606419, -0.16220109, -0.0694041 , -0.13073504,\n",
       "       -0.16730589, -0.18144976, -0.29660904, -0.15714288, -0.04538731,\n",
       "       -0.13826542, -0.09453767, -0.14856571, -0.04663363, -0.09766965,\n",
       "       -0.07931581, -0.15296508, -0.18707635, -0.07391067, -0.19574761,\n",
       "       -0.19772977, -0.24867463, -0.27409765, -0.04844708, -0.16392237,\n",
       "       -0.12643234, -0.15479651, -0.07766373, -0.17786464, -0.12312304,\n",
       "       -0.09399489, -0.07808177, -0.07934008, -0.17487659, -0.09986534,\n",
       "       -0.23120192, -0.10198089, -0.09902145, -0.10522288, -0.07153791,\n",
       "       -0.08395575, -0.11118112, -0.14349476, -0.02314049, -0.18347864,\n",
       "       -0.11974245, -0.19426428, -0.19278783, -0.18149215, -0.13418858,\n",
       "       -0.19894955, -0.03503823, -0.19486824, -0.23625043, -0.18169123,\n",
       "       -0.18359232, -0.20730585, -0.11047439, -0.04286925, -0.13025028,\n",
       "       -0.1997409 , -0.15193819, -0.15331212, -0.05964006, -0.08614852,\n",
       "       -0.17234339, -0.15723363, -0.21419916, -0.29148132, -0.19896409,\n",
       "       -0.17729773, -0.10466005, -0.07830829, -0.0655968 , -0.07786194,\n",
       "       -0.22181745, -0.22197579, -0.23678182, -0.19765739, -0.21823236,\n",
       "       -0.18567267, -0.16009349, -0.23574257, -0.05951976, -0.25761276,\n",
       "       -0.25775656, -0.16548327, -0.15084371, -0.15855628, -0.06659231,\n",
       "       -0.18290582, -0.24502663, -0.24645941, -0.08588463, -0.17444386,\n",
       "       -0.09611827, -0.24904242, -0.03081205, -0.06206637, -0.21050146,\n",
       "       -0.05850181, -0.24548817, -0.05789829, -0.21988271, -0.08771004,\n",
       "       -0.1464472 , -0.0924887 , -0.07293618, -0.11241268, -0.20503728,\n",
       "       -0.18551782, -0.03927375, -0.19268863, -0.04935202, -0.0812736 ,\n",
       "       -0.291128  , -0.14775036, -0.22924268, -0.09281247, -0.11346257,\n",
       "       -0.04419754, -0.1656102 , -0.12047538, -0.06813025, -0.1942382 ,\n",
       "       -0.22586466, -0.28667414, -0.09834418, -0.05973309, -0.13391255,\n",
       "       -0.24023925, -0.03484154, -0.08403209, -0.08989207, -0.21999274,\n",
       "       -0.19369212, -0.23610243, -0.06668565, -0.17362393, -0.23166549,\n",
       "       -0.2837516 , -0.15805988, -0.21947837, -0.06596456, -0.09459188,\n",
       "       -0.09959846, -0.0978994 , -0.14378537, -0.21780798, -0.06804005,\n",
       "       -0.18856935, -0.20195813, -0.23836443, -0.20982593, -0.21643242,\n",
       "       -0.23457213, -0.23408315, -0.13115723, -0.06261705, -0.15263619,\n",
       "       -0.19509606, -0.17494372, -0.07736975, -0.097041  , -0.05187522,\n",
       "       -0.06329039, -0.22506756, -0.04942642, -0.23711614, -0.03509029,\n",
       "       -0.20302372, -0.22832486, -0.04256222, -0.21405873, -0.18397151,\n",
       "       -0.22393057, -0.13087802, -0.05533869, -0.21175912, -0.20900215,\n",
       "       -0.06014635, -0.20571037, -0.08338699, -0.05273698, -0.23329173,\n",
       "       -0.1948126 , -0.15703562, -0.23083472, -0.14586045, -0.15714991,\n",
       "       -0.10073479, -0.08502573, -0.13294478, -0.19256632, -0.24341981,\n",
       "       -0.11488892, -0.09336208, -0.25290298, -0.19502059, -0.15354228,\n",
       "       -0.16735853, -0.14922246, -0.21400006, -0.14772668, -0.09825785,\n",
       "       -0.13502996, -0.19056287, -0.19505976, -0.15163389, -0.10268127,\n",
       "       -0.04669718, -0.22251485, -0.0643479 , -0.07416502, -0.10851356,\n",
       "       -0.2765455 , -0.21143475, -0.22051533, -0.11734452, -0.03229094,\n",
       "       -0.05509252, -0.20316212, -0.07968479, -0.11335842, -0.24689963,\n",
       "       -0.09884406, -0.1705904 , -0.05870824, -0.10307008, -0.16857421,\n",
       "       -0.11878121, -0.07801946, -0.16446441, -0.07396378, -0.07252597,\n",
       "       -0.1922908 , -0.12372454, -0.19900335, -0.2156159 , -0.21705681,\n",
       "       -0.21814728, -0.24949569, -0.09453838, -0.15992907, -0.07135589,\n",
       "       -0.04996831, -0.2065435 , -0.31785518, -0.01750491, -0.13341431,\n",
       "       -0.08032644, -0.0409017 , -0.18481812, -0.0422413 , -0.08653818,\n",
       "       -0.1870167 , -0.25922185, -0.18543933, -0.04499698, -0.11953247,\n",
       "       -0.19967991, -0.12830988, -0.07512659, -0.13077796, -0.17885472,\n",
       "       -0.06022431, -0.18251517, -0.11969388, -0.23067397, -0.10956939,\n",
       "       -0.23291862, -0.15875342, -0.13020194, -0.10375096, -0.12899211,\n",
       "       -0.0178276 , -0.09582862, -0.05259729, -0.13862959, -0.19369754,\n",
       "       -0.11854426, -0.12294097, -0.21964887, -0.22720549, -0.2558063 ,\n",
       "       -0.21932366, -0.07385299, -0.20427403, -0.1808752 , -0.13464656,\n",
       "       -0.05325679, -0.21023558, -0.23722303, -0.07877573, -0.11411289,\n",
       "       -0.2587908 , -0.18004404, -0.14566104, -0.04992867, -0.2607822 ,\n",
       "       -0.1815665 , -0.10761961, -0.22508095, -0.21430634, -0.22266778,\n",
       "       -0.08962003, -0.16882513, -0.11871969, -0.11821532, -0.12664697,\n",
       "       -0.09567118, -0.04667088, -0.06047749, -0.17488967, -0.22442931,\n",
       "       -0.0973352 , -0.11850964, -0.10109774, -0.1276167 , -0.17308696,\n",
       "       -0.1086036 , -0.19319525, -0.16010259, -0.21426432, -0.07872117,\n",
       "       -0.16757269, -0.18862294, -0.2738347 , -0.07234224, -0.04031064,\n",
       "       -0.25513396, -0.16702211, -0.22114743, -0.23934777, -0.14318357],\n",
       "      dtype=float32)"
      ]
     },
     "execution_count": 41,
     "metadata": {},
     "output_type": "execute_result"
    }
   ],
   "source": [
    "-np.array(max_vars)"
   ]
  },
  {
   "cell_type": "code",
   "execution_count": null,
   "id": "048d4eb3",
   "metadata": {},
   "outputs": [],
   "source": []
  },
  {
   "cell_type": "code",
   "execution_count": 42,
   "id": "6c580d92",
   "metadata": {},
   "outputs": [
    {
     "data": {
      "text/plain": [
       "array([412, 172, 233, 280, 291, 305, 380, 187, 492,  38])"
      ]
     },
     "execution_count": 42,
     "metadata": {},
     "output_type": "execute_result"
    }
   ],
   "source": [
    "lowest_variances = (-np.array(max_vars)).argsort()[:10]\n",
    "lowest_variances"
   ]
  },
  {
   "cell_type": "code",
   "execution_count": 43,
   "id": "f12c0bed",
   "metadata": {},
   "outputs": [
    {
     "data": {
      "text/plain": [
       "<matplotlib.image.AxesImage at 0x7f98883c93d0>"
      ]
     },
     "execution_count": 43,
     "metadata": {},
     "output_type": "execute_result"
    },
    {
     "data": {
      "image/png": "[encoded data removed]",
      "text/plain": [
       "<Figure size 432x288 with 1 Axes>"
      ]
     },
     "metadata": {
      "needs_background": "light"
     },
     "output_type": "display_data"
    }
   ],
   "source": [
    "plt.imshow(x_test[lowest_variances[0]][:,:,0])"
   ]
  },
  {
   "cell_type": "markdown",
   "id": "84aca4fd",
   "metadata": {},
   "source": [
    "## Uncertainty measure behavior\n",
    "\n",
    "How well can the uncertainty estimate identify out-of-scope samples?"
   ]
  },
  {
   "cell_type": "markdown",
   "id": "17eacf88",
   "metadata": {},
   "source": [
    "### Create random images and see what the model predicts"
   ]
  },
  {
   "cell_type": "code",
   "execution_count": 44,
   "id": "c94c3d67",
   "metadata": {},
   "outputs": [],
   "source": [
    "random_img = np.random.random(input_shape)"
   ]
  },
  {
   "cell_type": "code",
   "execution_count": 45,
   "id": "2fbd2acc",
   "metadata": {},
   "outputs": [
    {
     "data": {
      "image/png": "[encoded data removed]",
      "text/plain": [
       "<Figure size 432x288 with 1 Axes>"
      ]
     },
     "metadata": {
      "needs_background": "light"
     },
     "output_type": "display_data"
    }
   ],
   "source": [
    "plt.imshow(random_img[:,:,0]);"
   ]
  },
  {
   "cell_type": "code",
   "execution_count": 46,
   "id": "cdcd0a65",
   "metadata": {},
   "outputs": [
    {
     "name": "stderr",
     "output_type": "stream",
     "text": [
      "100%|██████████| 500/500 [00:09<00:00, 52.41it/s]\n"
     ]
    }
   ],
   "source": [
    "random_predictions = []\n",
    "for i in tqdm.tqdm(range(500)):\n",
    "    y_p = mc_model.predict(np.array([random_img]))\n",
    "    random_predictions.append(y_p)"
   ]
  },
  {
   "cell_type": "code",
   "execution_count": 47,
   "id": "9a25c9e7",
   "metadata": {},
   "outputs": [
    {
     "name": "stdout",
     "output_type": "stream",
     "text": [
      "posterior mean: 2\n",
      "\n",
      "class: 0; proba: 2.0%; var: 3.72% \n",
      "class: 1; proba: 0.1%; var: 0.84% \n",
      "class: 2; proba: 43.6%; var: 27.18% \n",
      "class: 3; proba: 29.0%; var: 22.63% \n",
      "class: 4; proba: 1.2%; var: 2.54% \n",
      "class: 5; proba: 20.0%; var: 20.75% \n",
      "class: 6; proba: 1.0%; var: 3.23% \n",
      "class: 7; proba: 1.1%; var: 2.41% \n",
      "class: 8; proba: 2.0%; var: 3.18% \n",
      "class: 9; proba: 0.1%; var: 0.31% \n"
     ]
    }
   ],
   "source": [
    "p0 = np.array([p[0] for p in random_predictions])\n",
    "print(\"posterior mean: {}\".format(p0.mean(axis=0).argmax()))\n",
    "print()\n",
    "# probability + variance\n",
    "for i, (prob, var) in enumerate(zip(p0.mean(axis=0), p0.std(axis=0))):\n",
    "    print(\"class: {}; proba: {:.1%}; var: {:.2%} \".format(i, prob, var))"
   ]
  },
  {
   "cell_type": "code",
   "execution_count": 48,
   "id": "4a8b7f8f",
   "metadata": {},
   "outputs": [
    {
     "data": {
      "image/png": "[encoded data removed]",
      "text/plain": [
       "<Figure size 432x288 with 1 Axes>"
      ]
     },
     "metadata": {
      "needs_background": "light"
     },
     "output_type": "display_data"
    }
   ],
   "source": [
    "x, y = list(range(len(p0.mean(axis=0)))), p0.mean(axis=0)\n",
    "plt.plot(x, y);"
   ]
  },
  {
   "cell_type": "markdown",
   "id": "5d829c65",
   "metadata": {},
   "source": [
    "it is clearly just random noise. If you try different random images, you will find that the model always predicts them as eight. So there might be something wrong with the “understanding” of eight in our model. This is good to know and keep in mind when using the model."
   ]
  },
  {
   "cell_type": "code",
   "execution_count": 49,
   "id": "5798bf50",
   "metadata": {},
   "outputs": [
    {
     "data": {
      "image/png": "[encoded data removed]",
      "text/plain": [
       "<Figure size 864x864 with 10 Axes>"
      ]
     },
     "metadata": {
      "needs_background": "light"
     },
     "output_type": "display_data"
    }
   ],
   "source": [
    "fig, axes = plt.subplots(5, 2, figsize=(12,12))\n",
    "\n",
    "for i, ax in enumerate(fig.get_axes()):\n",
    "    ax.hist(p0[:,i], bins=100, range=(0,1));\n",
    "    ax.set_title(f\"class {i}\")\n",
    "    ax.label_outer()"
   ]
  },
  {
   "cell_type": "code",
   "execution_count": null,
   "id": "51da4499",
   "metadata": {},
   "outputs": [],
   "source": []
  },
  {
   "cell_type": "markdown",
   "id": "f1cb3657",
   "metadata": {},
   "source": [
    "## `np.argsort()`"
   ]
  },
  {
   "cell_type": "code",
   "execution_count": 50,
   "id": "e7fb77ad",
   "metadata": {},
   "outputs": [],
   "source": [
    "in_arr = np.array([ 2, 0, 1, 5, 4, 1, 9])"
   ]
  },
  {
   "cell_type": "code",
   "execution_count": 51,
   "id": "92af8609",
   "metadata": {},
   "outputs": [
    {
     "data": {
      "text/plain": [
       "(7,)"
      ]
     },
     "execution_count": 51,
     "metadata": {},
     "output_type": "execute_result"
    }
   ],
   "source": [
    "in_arr.shape"
   ]
  },
  {
   "cell_type": "code",
   "execution_count": 52,
   "id": "387cf1a1",
   "metadata": {},
   "outputs": [],
   "source": [
    "out_arr = in_arr.argsort()"
   ]
  },
  {
   "cell_type": "code",
   "execution_count": 53,
   "id": "e1997d3e",
   "metadata": {},
   "outputs": [
    {
     "name": "stdout",
     "output_type": "stream",
     "text": [
      "Output sorted array indices :  [1 2 5 0 4 3 6]\n"
     ]
    }
   ],
   "source": [
    "print (\"Output sorted array indices : \", out_arr)"
   ]
  },
  {
   "cell_type": "code",
   "execution_count": 54,
   "id": "c18bf512",
   "metadata": {},
   "outputs": [
    {
     "name": "stdout",
     "output_type": "stream",
     "text": [
      "Output sorted array :  [0 1 1 2 4 5 9]\n"
     ]
    }
   ],
   "source": [
    "print(\"Output sorted array : \", in_arr[out_arr])"
   ]
  },
  {
   "cell_type": "code",
   "execution_count": 55,
   "id": "669f101b",
   "metadata": {},
   "outputs": [],
   "source": [
    "lista = [1, 3, 2, 5, 7, 6]"
   ]
  },
  {
   "cell_type": "code",
   "execution_count": 56,
   "id": "6d9da372",
   "metadata": {},
   "outputs": [
    {
     "data": {
      "text/plain": [
       "array([ 0, -2, -1, -3, -5, -4])"
      ]
     },
     "execution_count": 56,
     "metadata": {},
     "output_type": "execute_result"
    }
   ],
   "source": [
    "-np.array(lista).argsort()"
   ]
  },
  {
   "cell_type": "code",
   "execution_count": null,
   "id": "4674c1ef",
   "metadata": {},
   "outputs": [],
   "source": []
  },
  {
   "cell_type": "code",
   "execution_count": null,
   "id": "fdd95258",
   "metadata": {},
   "outputs": [],
   "source": []
  },
  {
   "cell_type": "code",
   "execution_count": null,
   "id": "2cc8aabd",
   "metadata": {},
   "outputs": [],
   "source": []
  },
  {
   "cell_type": "code",
   "execution_count": null,
   "id": "2624b387",
   "metadata": {},
   "outputs": [],
   "source": []
  },
  {
   "cell_type": "code",
   "execution_count": null,
   "id": "a9f3e9f6",
   "metadata": {},
   "outputs": [],
   "source": []
  },
  {
   "cell_type": "code",
   "execution_count": null,
   "id": "acce3ff8",
   "metadata": {},
   "outputs": [],
   "source": []
  },
  {
   "cell_type": "markdown",
   "id": "1cb34b7f",
   "metadata": {},
   "source": []
  },
  {
   "cell_type": "code",
   "execution_count": 57,
   "id": "9d280a79",
   "metadata": {},
   "outputs": [],
   "source": [
    "(X_train, y_train), (X_test, y_test) = keras.datasets.mnist.load_data()"
   ]
  },
  {
   "cell_type": "code",
   "execution_count": 58,
   "id": "87d8b66e",
   "metadata": {},
   "outputs": [
    {
     "name": "stdout",
     "output_type": "stream",
     "text": [
      "Epoch 1/50\n",
      "1875/1875 [==============================] - 4s 2ms/step - loss: 10.8961 - accuracy: 0.6998\n",
      "Epoch 2/50\n",
      "1875/1875 [==============================] - 4s 2ms/step - loss: 0.6146 - accuracy: 0.8407\n",
      "Epoch 3/50\n",
      "1875/1875 [==============================] - 4s 2ms/step - loss: 0.4133 - accuracy: 0.8882\n",
      "Epoch 4/50\n",
      "1875/1875 [==============================] - 4s 2ms/step - loss: 0.3765 - accuracy: 0.8985\n",
      "Epoch 5/50\n",
      "1875/1875 [==============================] - 4s 2ms/step - loss: 0.3402 - accuracy: 0.9116\n",
      "Epoch 6/50\n",
      "1875/1875 [==============================] - 4s 2ms/step - loss: 0.3267 - accuracy: 0.9160\n",
      "Epoch 7/50\n",
      "1875/1875 [==============================] - 4s 2ms/step - loss: 0.3066 - accuracy: 0.9207\n",
      "Epoch 8/50\n",
      "1875/1875 [==============================] - 4s 2ms/step - loss: 0.3044 - accuracy: 0.9225\n",
      "Epoch 9/50\n",
      "1875/1875 [==============================] - 4s 2ms/step - loss: 0.2876 - accuracy: 0.9246\n",
      "Epoch 10/50\n",
      "1875/1875 [==============================] - 4s 2ms/step - loss: 0.2916 - accuracy: 0.9251\n",
      "Epoch 11/50\n",
      "1875/1875 [==============================] - 4s 2ms/step - loss: 0.2899 - accuracy: 0.9280\n",
      "Epoch 12/50\n",
      "1875/1875 [==============================] - 4s 2ms/step - loss: 0.2721 - accuracy: 0.9301\n",
      "Epoch 13/50\n",
      "1875/1875 [==============================] - 4s 2ms/step - loss: 0.2525 - accuracy: 0.9345\n",
      "Epoch 14/50\n",
      "1875/1875 [==============================] - 4s 2ms/step - loss: 0.2685 - accuracy: 0.9313\n",
      "Epoch 15/50\n",
      "1875/1875 [==============================] - 4s 2ms/step - loss: 0.2510 - accuracy: 0.9338\n",
      "Epoch 16/50\n",
      "1875/1875 [==============================] - 4s 2ms/step - loss: 0.2421 - accuracy: 0.9361\n",
      "Epoch 17/50\n",
      "1875/1875 [==============================] - 4s 2ms/step - loss: 0.2460 - accuracy: 0.9377\n",
      "Epoch 18/50\n",
      "1875/1875 [==============================] - 4s 2ms/step - loss: 0.2640 - accuracy: 0.9345\n",
      "Epoch 19/50\n",
      "1875/1875 [==============================] - 4s 2ms/step - loss: 0.2518 - accuracy: 0.9360\n",
      "Epoch 20/50\n",
      "1875/1875 [==============================] - 4s 2ms/step - loss: 0.2505 - accuracy: 0.9387\n",
      "Epoch 21/50\n",
      "1875/1875 [==============================] - 4s 2ms/step - loss: 0.2608 - accuracy: 0.9345\n",
      "Epoch 22/50\n",
      "1875/1875 [==============================] - 4s 2ms/step - loss: 0.2468 - accuracy: 0.9389\n",
      "Epoch 23/50\n",
      "1875/1875 [==============================] - 4s 2ms/step - loss: 0.2501 - accuracy: 0.9377\n",
      "Epoch 24/50\n",
      "1875/1875 [==============================] - 4s 2ms/step - loss: 0.2538 - accuracy: 0.9362\n",
      "Epoch 25/50\n",
      "1875/1875 [==============================] - 4s 2ms/step - loss: 0.2441 - accuracy: 0.9381\n",
      "Epoch 26/50\n",
      "1875/1875 [==============================] - 4s 2ms/step - loss: 0.2518 - accuracy: 0.9371\n",
      "Epoch 27/50\n",
      "1875/1875 [==============================] - 4s 2ms/step - loss: 0.2461 - accuracy: 0.9388\n",
      "Epoch 28/50\n",
      "1875/1875 [==============================] - 4s 2ms/step - loss: 0.2403 - accuracy: 0.9391\n",
      "Epoch 29/50\n",
      "1875/1875 [==============================] - 4s 2ms/step - loss: 0.2636 - accuracy: 0.9383\n",
      "Epoch 30/50\n",
      "1875/1875 [==============================] - 4s 2ms/step - loss: 0.2619 - accuracy: 0.9362\n",
      "Epoch 31/50\n",
      "1875/1875 [==============================] - 4s 2ms/step - loss: 0.2428 - accuracy: 0.9421\n",
      "Epoch 32/50\n",
      "1875/1875 [==============================] - 4s 2ms/step - loss: 0.2671 - accuracy: 0.9400\n",
      "Epoch 33/50\n",
      "1875/1875 [==============================] - 4s 2ms/step - loss: 0.2357 - accuracy: 0.9411\n",
      "Epoch 34/50\n",
      "1875/1875 [==============================] - 4s 2ms/step - loss: 0.2395 - accuracy: 0.9396\n",
      "Epoch 35/50\n",
      "1875/1875 [==============================] - 4s 2ms/step - loss: 0.2526 - accuracy: 0.9384\n",
      "Epoch 36/50\n",
      "1875/1875 [==============================] - 4s 2ms/step - loss: 0.2361 - accuracy: 0.9439\n",
      "Epoch 37/50\n",
      "1875/1875 [==============================] - 4s 2ms/step - loss: 0.2422 - accuracy: 0.9422\n",
      "Epoch 38/50\n",
      "1875/1875 [==============================] - 4s 2ms/step - loss: 0.2376 - accuracy: 0.9413\n",
      "Epoch 39/50\n",
      "1875/1875 [==============================] - 4s 2ms/step - loss: 0.2564 - accuracy: 0.9397\n",
      "Epoch 40/50\n",
      "1875/1875 [==============================] - 4s 2ms/step - loss: 0.2289 - accuracy: 0.9436\n",
      "Epoch 41/50\n",
      "1875/1875 [==============================] - 4s 2ms/step - loss: 0.2415 - accuracy: 0.9433\n",
      "Epoch 42/50\n",
      "1875/1875 [==============================] - 4s 2ms/step - loss: 0.2361 - accuracy: 0.9401\n",
      "Epoch 43/50\n",
      "1875/1875 [==============================] - 4s 2ms/step - loss: 0.2294 - accuracy: 0.9421\n",
      "Epoch 44/50\n",
      "1875/1875 [==============================] - 4s 2ms/step - loss: 0.2445 - accuracy: 0.9412\n",
      "Epoch 45/50\n",
      "1875/1875 [==============================] - 4s 2ms/step - loss: 0.2585 - accuracy: 0.9428\n",
      "Epoch 46/50\n",
      "1875/1875 [==============================] - 4s 2ms/step - loss: 0.2563 - accuracy: 0.9414\n",
      "Epoch 47/50\n",
      "1875/1875 [==============================] - 4s 2ms/step - loss: 0.2502 - accuracy: 0.9411\n",
      "Epoch 48/50\n",
      "1875/1875 [==============================] - 4s 2ms/step - loss: 0.2560 - accuracy: 0.9403\n",
      "Epoch 49/50\n",
      "1875/1875 [==============================] - 4s 2ms/step - loss: 0.2299 - accuracy: 0.9439\n",
      "Epoch 50/50\n",
      "1875/1875 [==============================] - 4s 2ms/step - loss: 0.2431 - accuracy: 0.9417\n",
      "313/313 [==============================] - 0s 705us/step - loss: 0.1840 - accuracy: 0.9626\n"
     ]
    },
    {
     "data": {
      "text/plain": [
       "[0.18398703634738922, 0.9625999927520752]"
      ]
     },
     "execution_count": 58,
     "metadata": {},
     "output_type": "execute_result"
    }
   ],
   "source": [
    "model = keras.models.Sequential()\n",
    "model.add(keras.layers.Flatten(input_shape=(28, 28)))\n",
    "model.add(keras.layers.Dropout(0.25))\n",
    "model.add(keras.layers.Dense(300, activation=\"relu\"))\n",
    "model.add(keras.layers.Dropout(0.25))\n",
    "model.add(keras.layers.Dense(300, activation=\"relu\"))\n",
    "model.add(keras.layers.Dropout(0.25))\n",
    "model.add(keras.layers.Dense(10, activation=\"softmax\"))\n",
    "\n",
    "optimizer = keras.optimizers.Nadam(lr=0.001)\n",
    "model.compile(loss=\"sparse_categorical_crossentropy\", \n",
    "              optimizer=optimizer, metrics=[\"accuracy\"])\n",
    "model.fit(X_train, y_train, epochs=50)\n",
    "model.evaluate(X_test, y_test)"
   ]
  },
  {
   "cell_type": "code",
   "execution_count": 59,
   "id": "6f7f3e50",
   "metadata": {},
   "outputs": [],
   "source": [
    "def predict_proba(X, model, num_samples):\n",
    "    preds = [model(X, training=True) for _ in range(num_samples)]\n",
    "    return np.stack(preds).mean(axis=0)\n",
    "     \n",
    "def predict_class(X, model, num_samples):\n",
    "    proba_preds = predict_proba(X, model, num_samples)\n",
    "    return np.argmax(proba_preds, axis=1)"
   ]
  },
  {
   "cell_type": "code",
   "execution_count": 60,
   "id": "4b3ed3cb",
   "metadata": {},
   "outputs": [],
   "source": [
    "y_pred = predict_class(X_test, model, 100)\n",
    "acc = np.mean(y_pred == y_test)"
   ]
  },
  {
   "cell_type": "code",
   "execution_count": null,
   "id": "0403d733",
   "metadata": {},
   "outputs": [],
   "source": []
  },
  {
   "cell_type": "code",
   "execution_count": 61,
   "id": "fa4a3369",
   "metadata": {},
   "outputs": [],
   "source": [
    "y_pred_proba = predict_proba(X_test, model, 100)"
   ]
  },
  {
   "cell_type": "code",
   "execution_count": 62,
   "id": "6ed8e00c",
   "metadata": {},
   "outputs": [],
   "source": [
    "softmax_output = np.round(model.predict(X_test[1:2]), 3)\n",
    "mc_pred_proba = np.round(y_pred_proba[1], 3)"
   ]
  },
  {
   "cell_type": "code",
   "execution_count": 63,
   "id": "e6914d9b",
   "metadata": {},
   "outputs": [
    {
     "name": "stdout",
     "output_type": "stream",
     "text": [
      "softmax_output: [[0. 0. 1. 0. 0. 0. 0. 0. 0. 0.]]\n",
      "mc_pred_proba: [0.    0.001 0.999 0.    0.    0.    0.    0.    0.    0.   ]\n"
     ]
    }
   ],
   "source": [
    "print(\"softmax_output:\", softmax_output)\n",
    "print(\"mc_pred_proba:\", mc_pred_proba)"
   ]
  },
  {
   "cell_type": "code",
   "execution_count": null,
   "id": "6b5a9074",
   "metadata": {},
   "outputs": [],
   "source": []
  }
 ],
 "metadata": {
  "kernelspec": {
   "display_name": "ml",
   "language": "python",
   "name": "ml"
  },
  "language_info": {
   "codemirror_mode": {
    "name": "ipython",
    "version": 3
   },
   "file_extension": ".py",
   "mimetype": "text/x-python",
   "name": "python",
   "nbconvert_exporter": "python",
   "pygments_lexer": "ipython3",
   "version": "3.7.10"
  }
 },
 "nbformat": 4,
 "nbformat_minor": 5
}
