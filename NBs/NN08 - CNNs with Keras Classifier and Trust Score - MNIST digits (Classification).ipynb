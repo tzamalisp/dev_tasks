{
 "cells": [
  {
   "cell_type": "code",
   "execution_count": 1,
   "metadata": {},
   "outputs": [],
   "source": [
    "import os\n",
    "os.chdir(os.path.join(os.getcwd(),\"..\"))"
   ]
  },
  {
   "cell_type": "code",
   "execution_count": 2,
   "metadata": {},
   "outputs": [],
   "source": [
    "%load_ext autoreload\n",
    "%autoreload 2"
   ]
  },
  {
   "cell_type": "code",
   "execution_count": 3,
   "metadata": {},
   "outputs": [],
   "source": [
    "import warnings\n",
    "warnings.filterwarnings('ignore')"
   ]
  },
  {
   "cell_type": "code",
   "execution_count": 4,
   "metadata": {
    "ExecuteTime": {
     "end_time": "2021-06-17T16:48:46.828393Z",
     "start_time": "2021-06-17T16:48:40.309404Z"
    }
   },
   "outputs": [],
   "source": [
    "import numpy as np\n",
    "import os\n",
    "import pandas as pd\n",
    "\n",
    "import tensorflow as tf\n",
    "from tensorflow import keras\n",
    "\n",
    "# to make this notebook's output stable across runs\n",
    "np.random.seed(42)\n",
    "\n",
    "# To plot pretty figures\n",
    "%matplotlib inline\n",
    "import matplotlib as mpl\n",
    "import matplotlib.pyplot as plt\n",
    "mpl.rc('axes', labelsize=14)\n",
    "mpl.rc('xtick', labelsize=12)\n",
    "mpl.rc('ytick', labelsize=12)\n",
    "\n",
    "from sklearn.metrics import confusion_matrix, classification_report\n",
    "\n",
    "from tqdm.notebook import tqdm\n",
    "import yaml"
   ]
  },
  {
   "cell_type": "code",
   "execution_count": 5,
   "metadata": {},
   "outputs": [],
   "source": [
    "from tasks.nn.classifiers import build_model, keras_classifier"
   ]
  },
  {
   "cell_type": "markdown",
   "metadata": {},
   "source": [
    "# Load Configuration"
   ]
  },
  {
   "cell_type": "code",
   "execution_count": 6,
   "metadata": {},
   "outputs": [],
   "source": [
    "config_nn_path = os.path.join(os.getcwd(), \"tasks\", \"project_configuration\", \"nn_tuning.yaml\")\n",
    "with open(config_nn_path, 'r') as stream:\n",
    "    try:\n",
    "        config_nn = yaml.safe_load(stream)\n",
    "    except yaml.YAMLError as exc:\n",
    "        print(exc)"
   ]
  },
  {
   "cell_type": "markdown",
   "metadata": {},
   "source": [
    "# Load Dataset"
   ]
  },
  {
   "cell_type": "code",
   "execution_count": 7,
   "metadata": {
    "ExecuteTime": {
     "end_time": "2021-06-17T16:48:46.834634Z",
     "start_time": "2021-06-17T16:48:46.831281Z"
    }
   },
   "outputs": [],
   "source": [
    "digits_mnist = keras.datasets.mnist"
   ]
  },
  {
   "cell_type": "code",
   "execution_count": 8,
   "metadata": {
    "ExecuteTime": {
     "end_time": "2021-06-17T16:48:47.148004Z",
     "start_time": "2021-06-17T16:48:46.838239Z"
    }
   },
   "outputs": [],
   "source": [
    "(train_X, train_y), (test_X, test_y) = digits_mnist.load_data()"
   ]
  },
  {
   "cell_type": "code",
   "execution_count": 9,
   "metadata": {
    "ExecuteTime": {
     "end_time": "2021-06-17T16:48:47.156313Z",
     "start_time": "2021-06-17T16:48:47.149918Z"
    }
   },
   "outputs": [
    {
     "data": {
      "text/plain": [
       "array([7, 2, 1], dtype=uint8)"
      ]
     },
     "execution_count": 9,
     "metadata": {},
     "output_type": "execute_result"
    }
   ],
   "source": [
    "test_y[:3]"
   ]
  },
  {
   "cell_type": "code",
   "execution_count": 10,
   "metadata": {
    "ExecuteTime": {
     "end_time": "2021-06-17T16:48:47.163486Z",
     "start_time": "2021-06-17T16:48:47.159052Z"
    }
   },
   "outputs": [
    {
     "name": "stdout",
     "output_type": "stream",
     "text": [
      "Train: X=(60000, 28, 28), y=(60000,)\n",
      "Test: X=(10000, 28, 28), y=(10000,)\n"
     ]
    }
   ],
   "source": [
    "# summarize loaded dataset\n",
    "print('Train: X=%s, y=%s' % (train_X.shape, train_y.shape))\n",
    "print('Test: X=%s, y=%s' % (test_X.shape, test_y.shape))"
   ]
  },
  {
   "cell_type": "code",
   "execution_count": 11,
   "metadata": {
    "ExecuteTime": {
     "end_time": "2021-06-17T16:48:47.171943Z",
     "start_time": "2021-06-17T16:48:47.166223Z"
    }
   },
   "outputs": [
    {
     "data": {
      "text/plain": [
       "array([7, 2, 1], dtype=uint8)"
      ]
     },
     "execution_count": 11,
     "metadata": {},
     "output_type": "execute_result"
    }
   ],
   "source": [
    "test_y[:3]"
   ]
  },
  {
   "cell_type": "markdown",
   "metadata": {},
   "source": [
    "# Load the number of classes parameter to the configuration"
   ]
  },
  {
   "cell_type": "code",
   "execution_count": 12,
   "metadata": {},
   "outputs": [],
   "source": [
    "config_nn[\"clf_params\"][\"n_classes\"] = len(list(np.unique(train_y)))"
   ]
  },
  {
   "cell_type": "code",
   "execution_count": 13,
   "metadata": {},
   "outputs": [
    {
     "data": {
      "text/plain": [
       "10"
      ]
     },
     "execution_count": 13,
     "metadata": {},
     "output_type": "execute_result"
    }
   ],
   "source": [
    "config_nn[\"clf_params\"][\"n_classes\"]"
   ]
  },
  {
   "cell_type": "markdown",
   "metadata": {},
   "source": [
    "# Explore the Dataset"
   ]
  },
  {
   "cell_type": "code",
   "execution_count": 14,
   "metadata": {
    "ExecuteTime": {
     "end_time": "2021-06-17T16:48:47.989545Z",
     "start_time": "2021-06-17T16:48:47.178787Z"
    }
   },
   "outputs": [
    {
     "data": {
      "image/png": "[encoded data removed]",
      "text/plain": [
       "<Figure size 432x288 with 9 Axes>"
      ]
     },
     "metadata": {
      "needs_background": "light"
     },
     "output_type": "display_data"
    }
   ],
   "source": [
    "# plot first few images\n",
    "for i in range(9):\n",
    "    # define subplot\n",
    "    plt.subplot(330 + 1 + i)\n",
    "    # plot raw pixel data\n",
    "    plt.imshow(train_X[i], cmap=plt.get_cmap('gray'))\n",
    "# show the figure\n",
    "plt.show()"
   ]
  },
  {
   "cell_type": "code",
   "execution_count": 15,
   "metadata": {
    "ExecuteTime": {
     "end_time": "2021-06-17T16:48:47.998139Z",
     "start_time": "2021-06-17T16:48:47.993845Z"
    }
   },
   "outputs": [],
   "source": [
    "# reshape dataset to have a single channel\n",
    "train_X = train_X.reshape((train_X.shape[0], 28, 28, 1))\n",
    "test_X = test_X.reshape((test_X.shape[0], 28, 28, 1))"
   ]
  },
  {
   "cell_type": "code",
   "execution_count": 16,
   "metadata": {
    "ExecuteTime": {
     "end_time": "2021-06-17T16:48:48.011121Z",
     "start_time": "2021-06-17T16:48:48.006049Z"
    }
   },
   "outputs": [],
   "source": [
    "# scale pixels\n",
    "def prep_pixels(train, test):\n",
    "    # convert from integers to floats\n",
    "    train_norm = train.astype('float32')\n",
    "    test_norm = test.astype('float32')\n",
    "    # normalize to range 0-1\n",
    "    train_norm = train_norm / 255.0\n",
    "    test_norm = test_norm / 255.0\n",
    "    # return normalized images\n",
    "    \n",
    "    return train_norm, test_norm"
   ]
  },
  {
   "cell_type": "code",
   "execution_count": 17,
   "metadata": {
    "ExecuteTime": {
     "end_time": "2021-06-17T16:48:48.281542Z",
     "start_time": "2021-06-17T16:48:48.015864Z"
    }
   },
   "outputs": [],
   "source": [
    "# prepare pixel data\n",
    "train_X, test_X = prep_pixels(train_X, test_X)"
   ]
  },
  {
   "cell_type": "code",
   "execution_count": 18,
   "metadata": {
    "ExecuteTime": {
     "end_time": "2021-06-17T16:48:48.288171Z",
     "start_time": "2021-06-17T16:48:48.283705Z"
    }
   },
   "outputs": [
    {
     "data": {
      "text/plain": [
       "(60000, 28, 28, 1)"
      ]
     },
     "execution_count": 18,
     "metadata": {},
     "output_type": "execute_result"
    }
   ],
   "source": [
    "train_X.shape"
   ]
  },
  {
   "cell_type": "code",
   "execution_count": 19,
   "metadata": {
    "ExecuteTime": {
     "end_time": "2021-06-17T16:48:48.295257Z",
     "start_time": "2021-06-17T16:48:48.290994Z"
    }
   },
   "outputs": [
    {
     "data": {
      "text/plain": [
       "(10000, 28, 28, 1)"
      ]
     },
     "execution_count": 19,
     "metadata": {},
     "output_type": "execute_result"
    }
   ],
   "source": [
    "test_X.shape"
   ]
  },
  {
   "cell_type": "markdown",
   "metadata": {},
   "source": [
    "# Create Classifier"
   ]
  },
  {
   "cell_type": "code",
   "execution_count": 20,
   "metadata": {},
   "outputs": [
    {
     "name": "stdout",
     "output_type": "stream",
     "text": [
      "Model: \"sequential\"\n",
      "_________________________________________________________________\n",
      "Layer (type)                 Output Shape              Param #   \n",
      "=================================================================\n",
      "conv2d (Conv2D)              (None, 26, 26, 32)        320       \n",
      "_________________________________________________________________\n",
      "batch_normalization (BatchNo (None, 26, 26, 32)        128       \n",
      "_________________________________________________________________\n",
      "max_pooling2d (MaxPooling2D) (None, 13, 13, 32)        0         \n",
      "_________________________________________________________________\n",
      "flatten (Flatten)            (None, 5408)              0         \n",
      "_________________________________________________________________\n",
      "dense (Dense)                (None, 100)               540900    \n",
      "_________________________________________________________________\n",
      "batch_normalization_1 (Batch (None, 100)               400       \n",
      "_________________________________________________________________\n",
      "dense_1 (Dense)              (None, 10)                1010      \n",
      "=================================================================\n",
      "Total params: 542,758\n",
      "Trainable params: 542,494\n",
      "Non-trainable params: 264\n",
      "_________________________________________________________________\n"
     ]
    }
   ],
   "source": [
    "model = build_model(n_classes=config_nn[\"clf_params\"][\"n_classes\"])\n",
    "model.summary()"
   ]
  },
  {
   "cell_type": "code",
   "execution_count": 21,
   "metadata": {},
   "outputs": [],
   "source": [
    "keras.backend.clear_session()"
   ]
  },
  {
   "cell_type": "code",
   "execution_count": 22,
   "metadata": {
    "ExecuteTime": {
     "end_time": "2021-06-17T16:48:49.031803Z",
     "start_time": "2021-06-17T16:48:49.014591Z"
    }
   },
   "outputs": [
    {
     "name": "stdout",
     "output_type": "stream",
     "text": [
      "Classifier Parameters:\n",
      " {'epochs': 50, 'validation_split': 0.2, 'use_multiprocessing': True, 'shuffle': True, 'verbose': 1, 'n_classes': 10, 'build_fn': <function build_model at 0x7fcd21454f80>}\n"
     ]
    }
   ],
   "source": [
    "# grid mode: \"randomized\", \"gridsearch\"\n",
    "clf = keras_classifier(config=config_nn, clf_params=config_nn[\"clf_params\"], \n",
    "                       param_grid=config_nn[\"param_distribs\"], \n",
    "                       grid_mode=\"randomized\") "
   ]
  },
  {
   "cell_type": "markdown",
   "metadata": {},
   "source": [
    "# Train the Classifier"
   ]
  },
  {
   "cell_type": "code",
   "execution_count": 23,
   "metadata": {},
   "outputs": [],
   "source": [
    "from tensorflow.keras.callbacks import EarlyStopping, History"
   ]
  },
  {
   "cell_type": "code",
   "execution_count": 24,
   "metadata": {},
   "outputs": [],
   "source": [
    "callback_early_stopping = EarlyStopping(patience=20)"
   ]
  },
  {
   "cell_type": "code",
   "execution_count": 25,
   "metadata": {
    "ExecuteTime": {
     "end_time": "2021-06-17T16:51:48.381997Z",
     "start_time": "2021-06-17T16:48:49.034012Z"
    },
    "scrolled": true
   },
   "outputs": [
    {
     "name": "stdout",
     "output_type": "stream",
     "text": [
      "Fitting 3 folds for each of 2 candidates, totalling 6 fits\n",
      "Epoch 1/50\n",
      "250/250 [==============================] - 3s 3ms/step - loss: 0.3338 - accuracy: 0.9064 - val_loss: 0.4111 - val_accuracy: 0.9151\n",
      "Epoch 2/50\n",
      "250/250 [==============================] - 1s 2ms/step - loss: 0.1505 - accuracy: 0.9610 - val_loss: 0.1478 - val_accuracy: 0.9656\n",
      "Epoch 3/50\n",
      "250/250 [==============================] - 1s 2ms/step - loss: 0.1133 - accuracy: 0.9714 - val_loss: 0.1031 - val_accuracy: 0.9740\n",
      "Epoch 4/50\n",
      "250/250 [==============================] - 1s 2ms/step - loss: 0.0925 - accuracy: 0.9778 - val_loss: 0.0921 - val_accuracy: 0.9751\n",
      "Epoch 5/50\n",
      "250/250 [==============================] - 1s 2ms/step - loss: 0.0777 - accuracy: 0.9818 - val_loss: 0.0841 - val_accuracy: 0.9779\n",
      "Epoch 6/50\n",
      "250/250 [==============================] - 1s 2ms/step - loss: 0.0665 - accuracy: 0.9854 - val_loss: 0.0785 - val_accuracy: 0.9787\n",
      "Epoch 7/50\n",
      "250/250 [==============================] - 1s 2ms/step - loss: 0.0585 - accuracy: 0.9878 - val_loss: 0.0753 - val_accuracy: 0.9796\n",
      "Epoch 8/50\n",
      "250/250 [==============================] - 1s 2ms/step - loss: 0.0520 - accuracy: 0.9897 - val_loss: 0.0726 - val_accuracy: 0.9814\n",
      "Epoch 9/50\n",
      "250/250 [==============================] - 1s 2ms/step - loss: 0.0467 - accuracy: 0.9911 - val_loss: 0.0707 - val_accuracy: 0.9818\n",
      "Epoch 10/50\n",
      "250/250 [==============================] - 1s 2ms/step - loss: 0.0417 - accuracy: 0.9925 - val_loss: 0.0682 - val_accuracy: 0.9818\n",
      "Epoch 11/50\n",
      "250/250 [==============================] - 1s 2ms/step - loss: 0.0377 - accuracy: 0.9939 - val_loss: 0.0664 - val_accuracy: 0.9819\n",
      "Epoch 12/50\n",
      "250/250 [==============================] - 1s 2ms/step - loss: 0.0343 - accuracy: 0.9950 - val_loss: 0.0664 - val_accuracy: 0.9822\n",
      "Epoch 13/50\n",
      "250/250 [==============================] - 1s 2ms/step - loss: 0.0310 - accuracy: 0.9954 - val_loss: 0.0658 - val_accuracy: 0.9820\n",
      "Epoch 14/50\n",
      "250/250 [==============================] - 1s 2ms/step - loss: 0.0285 - accuracy: 0.9964 - val_loss: 0.0651 - val_accuracy: 0.9820\n",
      "Epoch 15/50\n",
      "250/250 [==============================] - 1s 2ms/step - loss: 0.0265 - accuracy: 0.9964 - val_loss: 0.0640 - val_accuracy: 0.9822\n",
      "Epoch 16/50\n",
      "250/250 [==============================] - 1s 2ms/step - loss: 0.0241 - accuracy: 0.9975 - val_loss: 0.0624 - val_accuracy: 0.9822\n",
      "Epoch 17/50\n",
      "250/250 [==============================] - 1s 2ms/step - loss: 0.0226 - accuracy: 0.9977 - val_loss: 0.0623 - val_accuracy: 0.9818\n",
      "Epoch 18/50\n",
      "250/250 [==============================] - 1s 2ms/step - loss: 0.0212 - accuracy: 0.9982 - val_loss: 0.0614 - val_accuracy: 0.9825\n",
      "Epoch 19/50\n",
      "250/250 [==============================] - 1s 2ms/step - loss: 0.0197 - accuracy: 0.9984 - val_loss: 0.0613 - val_accuracy: 0.9820\n",
      "Epoch 20/50\n",
      "250/250 [==============================] - 1s 2ms/step - loss: 0.0183 - accuracy: 0.9986 - val_loss: 0.0609 - val_accuracy: 0.9829\n",
      "Epoch 21/50\n",
      "250/250 [==============================] - 1s 2ms/step - loss: 0.0170 - accuracy: 0.9989 - val_loss: 0.0608 - val_accuracy: 0.9825\n",
      "Epoch 22/50\n",
      "250/250 [==============================] - 1s 2ms/step - loss: 0.0159 - accuracy: 0.9991 - val_loss: 0.0606 - val_accuracy: 0.9831\n",
      "Epoch 23/50\n",
      "250/250 [==============================] - 1s 2ms/step - loss: 0.0152 - accuracy: 0.9991 - val_loss: 0.0601 - val_accuracy: 0.9829\n",
      "Epoch 24/50\n",
      "250/250 [==============================] - 1s 2ms/step - loss: 0.0141 - accuracy: 0.9995 - val_loss: 0.0605 - val_accuracy: 0.9825\n",
      "Epoch 25/50\n",
      "250/250 [==============================] - 1s 2ms/step - loss: 0.0134 - accuracy: 0.9995 - val_loss: 0.0594 - val_accuracy: 0.9834\n",
      "Epoch 26/50\n",
      "250/250 [==============================] - 1s 2ms/step - loss: 0.0126 - accuracy: 0.9996 - val_loss: 0.0596 - val_accuracy: 0.9833\n",
      "Epoch 27/50\n",
      "250/250 [==============================] - 1s 2ms/step - loss: 0.0122 - accuracy: 0.9996 - val_loss: 0.0594 - val_accuracy: 0.9836\n",
      "Epoch 28/50\n",
      "250/250 [==============================] - 1s 2ms/step - loss: 0.0113 - accuracy: 0.9996 - val_loss: 0.0590 - val_accuracy: 0.9831\n",
      "Epoch 29/50\n",
      "250/250 [==============================] - 1s 2ms/step - loss: 0.0109 - accuracy: 0.9997 - val_loss: 0.0590 - val_accuracy: 0.9833\n",
      "Epoch 30/50\n",
      "250/250 [==============================] - 1s 2ms/step - loss: 0.0104 - accuracy: 0.9999 - val_loss: 0.0590 - val_accuracy: 0.9834\n",
      "Epoch 31/50\n",
      "250/250 [==============================] - 1s 2ms/step - loss: 0.0099 - accuracy: 0.9999 - val_loss: 0.0588 - val_accuracy: 0.9837\n",
      "Epoch 32/50\n",
      "250/250 [==============================] - 1s 2ms/step - loss: 0.0095 - accuracy: 0.9998 - val_loss: 0.0585 - val_accuracy: 0.9834\n",
      "Epoch 33/50\n",
      "250/250 [==============================] - 1s 2ms/step - loss: 0.0091 - accuracy: 0.9999 - val_loss: 0.0591 - val_accuracy: 0.9833\n",
      "Epoch 34/50\n",
      "250/250 [==============================] - 1s 2ms/step - loss: 0.0085 - accuracy: 0.9999 - val_loss: 0.0585 - val_accuracy: 0.9833\n",
      "Epoch 35/50\n",
      "250/250 [==============================] - 1s 2ms/step - loss: 0.0085 - accuracy: 0.9999 - val_loss: 0.0586 - val_accuracy: 0.9831\n",
      "Epoch 36/50\n",
      "250/250 [==============================] - 1s 2ms/step - loss: 0.0080 - accuracy: 0.9999 - val_loss: 0.0583 - val_accuracy: 0.9837\n",
      "Epoch 37/50\n",
      "250/250 [==============================] - 1s 2ms/step - loss: 0.0075 - accuracy: 1.0000 - val_loss: 0.0588 - val_accuracy: 0.9831\n",
      "Epoch 38/50\n",
      "250/250 [==============================] - 1s 2ms/step - loss: 0.0075 - accuracy: 0.9999 - val_loss: 0.0584 - val_accuracy: 0.9835\n",
      "Epoch 39/50\n",
      "250/250 [==============================] - 1s 2ms/step - loss: 0.0072 - accuracy: 1.0000 - val_loss: 0.0589 - val_accuracy: 0.9830\n",
      "Epoch 40/50\n",
      "250/250 [==============================] - 1s 2ms/step - loss: 0.0070 - accuracy: 1.0000 - val_loss: 0.0584 - val_accuracy: 0.9835\n",
      "Epoch 41/50\n",
      "250/250 [==============================] - 1s 2ms/step - loss: 0.0067 - accuracy: 0.9999 - val_loss: 0.0582 - val_accuracy: 0.9839\n",
      "Epoch 42/50\n",
      "250/250 [==============================] - 1s 2ms/step - loss: 0.0064 - accuracy: 0.9999 - val_loss: 0.0585 - val_accuracy: 0.9837\n",
      "Epoch 43/50\n",
      "250/250 [==============================] - 1s 2ms/step - loss: 0.0063 - accuracy: 0.9999 - val_loss: 0.0580 - val_accuracy: 0.9835\n",
      "Epoch 44/50\n",
      "250/250 [==============================] - 1s 2ms/step - loss: 0.0059 - accuracy: 1.0000 - val_loss: 0.0580 - val_accuracy: 0.9837\n",
      "Epoch 45/50\n",
      "250/250 [==============================] - 1s 2ms/step - loss: 0.0059 - accuracy: 0.9999 - val_loss: 0.0578 - val_accuracy: 0.9836\n",
      "Epoch 46/50\n",
      "250/250 [==============================] - 1s 2ms/step - loss: 0.0057 - accuracy: 1.0000 - val_loss: 0.0583 - val_accuracy: 0.9834\n",
      "Epoch 47/50\n",
      "250/250 [==============================] - 1s 2ms/step - loss: 0.0055 - accuracy: 1.0000 - val_loss: 0.0580 - val_accuracy: 0.9837\n",
      "Epoch 48/50\n",
      "250/250 [==============================] - 1s 2ms/step - loss: 0.0054 - accuracy: 1.0000 - val_loss: 0.0585 - val_accuracy: 0.9833\n",
      "Epoch 49/50\n",
      "250/250 [==============================] - 1s 2ms/step - loss: 0.0053 - accuracy: 1.0000 - val_loss: 0.0582 - val_accuracy: 0.9836\n",
      "Epoch 50/50\n",
      "250/250 [==============================] - 1s 2ms/step - loss: 0.0051 - accuracy: 1.0000 - val_loss: 0.0582 - val_accuracy: 0.9837\n",
      "157/157 [==============================] - 0s 1ms/step - loss: 0.0599 - accuracy: 0.9833\n",
      "[CV] END .....................................batch_size=128; total time=  29.6s\n",
      "Epoch 1/50\n",
      "250/250 [==============================] - 1s 2ms/step - loss: 0.3383 - accuracy: 0.9055 - val_loss: 0.4324 - val_accuracy: 0.9266\n",
      "Epoch 2/50\n",
      "250/250 [==============================] - 1s 2ms/step - loss: 0.1464 - accuracy: 0.9614 - val_loss: 0.1486 - val_accuracy: 0.9691\n",
      "Epoch 3/50\n",
      "250/250 [==============================] - 1s 2ms/step - loss: 0.1075 - accuracy: 0.9726 - val_loss: 0.1004 - val_accuracy: 0.9766\n",
      "Epoch 4/50\n",
      "250/250 [==============================] - 1s 2ms/step - loss: 0.0858 - accuracy: 0.9793 - val_loss: 0.0868 - val_accuracy: 0.9779\n",
      "Epoch 5/50\n",
      "250/250 [==============================] - 1s 2ms/step - loss: 0.0708 - accuracy: 0.9842 - val_loss: 0.0813 - val_accuracy: 0.9786\n",
      "Epoch 6/50\n",
      "250/250 [==============================] - 1s 2ms/step - loss: 0.0599 - accuracy: 0.9875 - val_loss: 0.0757 - val_accuracy: 0.9805\n"
     ]
    },
    {
     "name": "stdout",
     "output_type": "stream",
     "text": [
      "Epoch 7/50\n",
      "250/250 [==============================] - 1s 2ms/step - loss: 0.0519 - accuracy: 0.9898 - val_loss: 0.0717 - val_accuracy: 0.9809\n",
      "Epoch 8/50\n",
      "250/250 [==============================] - 1s 2ms/step - loss: 0.0454 - accuracy: 0.9912 - val_loss: 0.0705 - val_accuracy: 0.9812\n",
      "Epoch 9/50\n",
      "250/250 [==============================] - 1s 2ms/step - loss: 0.0407 - accuracy: 0.9931 - val_loss: 0.0674 - val_accuracy: 0.9820\n",
      "Epoch 10/50\n",
      "250/250 [==============================] - 1s 2ms/step - loss: 0.0364 - accuracy: 0.9946 - val_loss: 0.0663 - val_accuracy: 0.9819\n",
      "Epoch 11/50\n",
      "250/250 [==============================] - 1s 2ms/step - loss: 0.0329 - accuracy: 0.9955 - val_loss: 0.0643 - val_accuracy: 0.9825\n",
      "Epoch 12/50\n",
      "250/250 [==============================] - 1s 2ms/step - loss: 0.0295 - accuracy: 0.9960 - val_loss: 0.0629 - val_accuracy: 0.9833\n",
      "Epoch 13/50\n",
      "250/250 [==============================] - 1s 2ms/step - loss: 0.0266 - accuracy: 0.9972 - val_loss: 0.0628 - val_accuracy: 0.9822\n",
      "Epoch 14/50\n",
      "250/250 [==============================] - 1s 2ms/step - loss: 0.0245 - accuracy: 0.9977 - val_loss: 0.0626 - val_accuracy: 0.9818\n",
      "Epoch 15/50\n",
      "250/250 [==============================] - 1s 2ms/step - loss: 0.0226 - accuracy: 0.9982 - val_loss: 0.0610 - val_accuracy: 0.9824\n",
      "Epoch 16/50\n",
      "250/250 [==============================] - 1s 2ms/step - loss: 0.0207 - accuracy: 0.9981 - val_loss: 0.0605 - val_accuracy: 0.9827\n",
      "Epoch 17/50\n",
      "250/250 [==============================] - 1s 2ms/step - loss: 0.0190 - accuracy: 0.9987 - val_loss: 0.0594 - val_accuracy: 0.9835\n",
      "Epoch 18/50\n",
      "250/250 [==============================] - 1s 2ms/step - loss: 0.0181 - accuracy: 0.9987 - val_loss: 0.0585 - val_accuracy: 0.9831\n",
      "Epoch 19/50\n",
      "250/250 [==============================] - 1s 2ms/step - loss: 0.0164 - accuracy: 0.9992 - val_loss: 0.0580 - val_accuracy: 0.9830\n",
      "Epoch 20/50\n",
      "250/250 [==============================] - 1s 2ms/step - loss: 0.0156 - accuracy: 0.9992 - val_loss: 0.0575 - val_accuracy: 0.9843\n",
      "Epoch 21/50\n",
      "250/250 [==============================] - 1s 2ms/step - loss: 0.0146 - accuracy: 0.9995 - val_loss: 0.0574 - val_accuracy: 0.9834\n",
      "Epoch 22/50\n",
      "250/250 [==============================] - 1s 2ms/step - loss: 0.0136 - accuracy: 0.9995 - val_loss: 0.0574 - val_accuracy: 0.9829\n",
      "Epoch 23/50\n",
      "250/250 [==============================] - 1s 2ms/step - loss: 0.0128 - accuracy: 0.9997 - val_loss: 0.0568 - val_accuracy: 0.9833\n",
      "Epoch 24/50\n",
      "250/250 [==============================] - 1s 2ms/step - loss: 0.0124 - accuracy: 0.9997 - val_loss: 0.0568 - val_accuracy: 0.9831\n",
      "Epoch 25/50\n",
      "250/250 [==============================] - 1s 2ms/step - loss: 0.0116 - accuracy: 0.9996 - val_loss: 0.0570 - val_accuracy: 0.9831\n",
      "Epoch 26/50\n",
      "250/250 [==============================] - 1s 2ms/step - loss: 0.0108 - accuracy: 0.9998 - val_loss: 0.0562 - val_accuracy: 0.9833\n",
      "Epoch 27/50\n",
      "250/250 [==============================] - 1s 2ms/step - loss: 0.0107 - accuracy: 0.9997 - val_loss: 0.0554 - val_accuracy: 0.9839\n",
      "Epoch 28/50\n",
      "250/250 [==============================] - 1s 2ms/step - loss: 0.0098 - accuracy: 0.9998 - val_loss: 0.0560 - val_accuracy: 0.9840\n",
      "Epoch 29/50\n",
      "250/250 [==============================] - 1s 2ms/step - loss: 0.0095 - accuracy: 0.9998 - val_loss: 0.0554 - val_accuracy: 0.9840\n",
      "Epoch 30/50\n",
      "250/250 [==============================] - 1s 2ms/step - loss: 0.0092 - accuracy: 0.9998 - val_loss: 0.0552 - val_accuracy: 0.9834\n",
      "Epoch 31/50\n",
      "250/250 [==============================] - 1s 2ms/step - loss: 0.0087 - accuracy: 0.9999 - val_loss: 0.0545 - val_accuracy: 0.9839\n",
      "Epoch 32/50\n",
      "250/250 [==============================] - 1s 2ms/step - loss: 0.0083 - accuracy: 0.9999 - val_loss: 0.0547 - val_accuracy: 0.9837\n",
      "Epoch 33/50\n",
      "250/250 [==============================] - 1s 2ms/step - loss: 0.0081 - accuracy: 0.9999 - val_loss: 0.0547 - val_accuracy: 0.9841\n",
      "Epoch 34/50\n",
      "250/250 [==============================] - 1s 2ms/step - loss: 0.0076 - accuracy: 1.0000 - val_loss: 0.0548 - val_accuracy: 0.9839\n",
      "Epoch 35/50\n",
      "250/250 [==============================] - 1s 2ms/step - loss: 0.0075 - accuracy: 0.9999 - val_loss: 0.0546 - val_accuracy: 0.9839\n",
      "Epoch 36/50\n",
      "250/250 [==============================] - 1s 2ms/step - loss: 0.0072 - accuracy: 1.0000 - val_loss: 0.0545 - val_accuracy: 0.9840\n",
      "Epoch 37/50\n",
      "250/250 [==============================] - 1s 2ms/step - loss: 0.0067 - accuracy: 1.0000 - val_loss: 0.0544 - val_accuracy: 0.9839\n",
      "Epoch 38/50\n",
      "250/250 [==============================] - 1s 2ms/step - loss: 0.0068 - accuracy: 0.9999 - val_loss: 0.0539 - val_accuracy: 0.9841\n",
      "Epoch 39/50\n",
      "250/250 [==============================] - 1s 2ms/step - loss: 0.0064 - accuracy: 1.0000 - val_loss: 0.0540 - val_accuracy: 0.9843\n",
      "Epoch 40/50\n",
      "250/250 [==============================] - 1s 2ms/step - loss: 0.0062 - accuracy: 1.0000 - val_loss: 0.0537 - val_accuracy: 0.9841\n",
      "Epoch 41/50\n",
      "250/250 [==============================] - 1s 2ms/step - loss: 0.0059 - accuracy: 1.0000 - val_loss: 0.0539 - val_accuracy: 0.9840\n",
      "Epoch 42/50\n",
      "250/250 [==============================] - 1s 2ms/step - loss: 0.0059 - accuracy: 1.0000 - val_loss: 0.0540 - val_accuracy: 0.9846\n",
      "Epoch 43/50\n",
      "250/250 [==============================] - 1s 2ms/step - loss: 0.0056 - accuracy: 1.0000 - val_loss: 0.0540 - val_accuracy: 0.9843\n",
      "Epoch 44/50\n",
      "250/250 [==============================] - 1s 2ms/step - loss: 0.0055 - accuracy: 1.0000 - val_loss: 0.0538 - val_accuracy: 0.9845\n",
      "Epoch 45/50\n",
      "250/250 [==============================] - 1s 2ms/step - loss: 0.0052 - accuracy: 1.0000 - val_loss: 0.0539 - val_accuracy: 0.9843\n",
      "Epoch 46/50\n",
      "250/250 [==============================] - 1s 2ms/step - loss: 0.0051 - accuracy: 1.0000 - val_loss: 0.0539 - val_accuracy: 0.9844\n",
      "Epoch 47/50\n",
      "250/250 [==============================] - 1s 2ms/step - loss: 0.0050 - accuracy: 1.0000 - val_loss: 0.0541 - val_accuracy: 0.9844\n",
      "Epoch 48/50\n",
      "250/250 [==============================] - 1s 2ms/step - loss: 0.0049 - accuracy: 1.0000 - val_loss: 0.0535 - val_accuracy: 0.9847\n",
      "Epoch 49/50\n",
      "250/250 [==============================] - 1s 2ms/step - loss: 0.0048 - accuracy: 1.0000 - val_loss: 0.0537 - val_accuracy: 0.9844\n",
      "Epoch 50/50\n",
      "250/250 [==============================] - 1s 2ms/step - loss: 0.0047 - accuracy: 1.0000 - val_loss: 0.0538 - val_accuracy: 0.9847\n",
      "157/157 [==============================] - 0s 1ms/step - loss: 0.0607 - accuracy: 0.9823\n",
      "[CV] END .....................................batch_size=128; total time=  28.0s\n",
      "Epoch 1/50\n",
      "250/250 [==============================] - 1s 3ms/step - loss: 0.3424 - accuracy: 0.9058 - val_loss: 0.3975 - val_accuracy: 0.9321\n",
      "Epoch 2/50\n",
      "250/250 [==============================] - 1s 2ms/step - loss: 0.1521 - accuracy: 0.9618 - val_loss: 0.1680 - val_accuracy: 0.9588\n",
      "Epoch 3/50\n",
      "250/250 [==============================] - 1s 2ms/step - loss: 0.1128 - accuracy: 0.9718 - val_loss: 0.1220 - val_accuracy: 0.9690\n",
      "Epoch 4/50\n",
      "250/250 [==============================] - 1s 2ms/step - loss: 0.0900 - accuracy: 0.9786 - val_loss: 0.1081 - val_accuracy: 0.9721\n",
      "Epoch 5/50\n",
      "250/250 [==============================] - 1s 2ms/step - loss: 0.0753 - accuracy: 0.9828 - val_loss: 0.0981 - val_accuracy: 0.9725\n",
      "Epoch 6/50\n",
      "250/250 [==============================] - 1s 2ms/step - loss: 0.0639 - accuracy: 0.9860 - val_loss: 0.0908 - val_accuracy: 0.9745\n",
      "Epoch 7/50\n",
      "250/250 [==============================] - 1s 2ms/step - loss: 0.0555 - accuracy: 0.9886 - val_loss: 0.0875 - val_accuracy: 0.9754\n",
      "Epoch 8/50\n",
      "250/250 [==============================] - 1s 2ms/step - loss: 0.0486 - accuracy: 0.9914 - val_loss: 0.0841 - val_accuracy: 0.9753\n",
      "Epoch 9/50\n",
      "250/250 [==============================] - 1s 2ms/step - loss: 0.0437 - accuracy: 0.9923 - val_loss: 0.0813 - val_accuracy: 0.9766\n",
      "Epoch 10/50\n",
      "250/250 [==============================] - 1s 2ms/step - loss: 0.0390 - accuracy: 0.9938 - val_loss: 0.0791 - val_accuracy: 0.9774\n",
      "Epoch 11/50\n",
      "250/250 [==============================] - 1s 2ms/step - loss: 0.0353 - accuracy: 0.9945 - val_loss: 0.0771 - val_accuracy: 0.9780\n",
      "Epoch 12/50\n",
      "250/250 [==============================] - 1s 2ms/step - loss: 0.0319 - accuracy: 0.9960 - val_loss: 0.0753 - val_accuracy: 0.9771\n",
      "Epoch 13/50\n"
     ]
    },
    {
     "name": "stdout",
     "output_type": "stream",
     "text": [
      "250/250 [==============================] - 1s 2ms/step - loss: 0.0289 - accuracy: 0.9965 - val_loss: 0.0731 - val_accuracy: 0.9780\n",
      "Epoch 14/50\n",
      "250/250 [==============================] - 1s 2ms/step - loss: 0.0264 - accuracy: 0.9972 - val_loss: 0.0724 - val_accuracy: 0.9784\n",
      "Epoch 15/50\n",
      "250/250 [==============================] - 1s 2ms/step - loss: 0.0244 - accuracy: 0.9974 - val_loss: 0.0712 - val_accuracy: 0.9783\n",
      "Epoch 16/50\n",
      "250/250 [==============================] - 1s 2ms/step - loss: 0.0224 - accuracy: 0.9979 - val_loss: 0.0700 - val_accuracy: 0.9789\n",
      "Epoch 17/50\n",
      "250/250 [==============================] - 1s 2ms/step - loss: 0.0210 - accuracy: 0.9981 - val_loss: 0.0700 - val_accuracy: 0.9793\n",
      "Epoch 18/50\n",
      "250/250 [==============================] - 1s 2ms/step - loss: 0.0190 - accuracy: 0.9985 - val_loss: 0.0690 - val_accuracy: 0.9787\n",
      "Epoch 19/50\n",
      "250/250 [==============================] - 1s 2ms/step - loss: 0.0182 - accuracy: 0.9989 - val_loss: 0.0688 - val_accuracy: 0.9785\n",
      "Epoch 20/50\n",
      "250/250 [==============================] - 1s 2ms/step - loss: 0.0165 - accuracy: 0.9991 - val_loss: 0.0681 - val_accuracy: 0.9786\n",
      "Epoch 21/50\n",
      "250/250 [==============================] - 1s 2ms/step - loss: 0.0156 - accuracy: 0.9991 - val_loss: 0.0678 - val_accuracy: 0.9780\n",
      "Epoch 22/50\n",
      "250/250 [==============================] - 1s 2ms/step - loss: 0.0147 - accuracy: 0.9994 - val_loss: 0.0680 - val_accuracy: 0.9781\n",
      "Epoch 23/50\n",
      "250/250 [==============================] - 1s 2ms/step - loss: 0.0140 - accuracy: 0.9994 - val_loss: 0.0663 - val_accuracy: 0.9800\n",
      "Epoch 24/50\n",
      "250/250 [==============================] - 1s 2ms/step - loss: 0.0133 - accuracy: 0.9996 - val_loss: 0.0664 - val_accuracy: 0.9790\n",
      "Epoch 25/50\n",
      "250/250 [==============================] - 1s 2ms/step - loss: 0.0122 - accuracy: 0.9996 - val_loss: 0.0659 - val_accuracy: 0.9795\n",
      "Epoch 26/50\n",
      "250/250 [==============================] - 1s 2ms/step - loss: 0.0117 - accuracy: 0.9995 - val_loss: 0.0653 - val_accuracy: 0.9794\n",
      "Epoch 27/50\n",
      "250/250 [==============================] - 1s 2ms/step - loss: 0.0113 - accuracy: 0.9997 - val_loss: 0.0658 - val_accuracy: 0.9794\n",
      "Epoch 28/50\n",
      "250/250 [==============================] - 1s 2ms/step - loss: 0.0106 - accuracy: 0.9997 - val_loss: 0.0657 - val_accuracy: 0.9787\n",
      "Epoch 29/50\n",
      "250/250 [==============================] - 1s 2ms/step - loss: 0.0100 - accuracy: 0.9998 - val_loss: 0.0652 - val_accuracy: 0.9800\n",
      "Epoch 30/50\n",
      "250/250 [==============================] - 1s 2ms/step - loss: 0.0096 - accuracy: 0.9998 - val_loss: 0.0655 - val_accuracy: 0.9799\n",
      "Epoch 31/50\n",
      "250/250 [==============================] - 1s 2ms/step - loss: 0.0093 - accuracy: 0.9999 - val_loss: 0.0650 - val_accuracy: 0.9795\n",
      "Epoch 32/50\n",
      "250/250 [==============================] - 1s 2ms/step - loss: 0.0089 - accuracy: 0.9999 - val_loss: 0.0648 - val_accuracy: 0.9795\n",
      "Epoch 33/50\n",
      "250/250 [==============================] - 1s 2ms/step - loss: 0.0086 - accuracy: 0.9998 - val_loss: 0.0649 - val_accuracy: 0.9793\n",
      "Epoch 34/50\n",
      "250/250 [==============================] - 1s 2ms/step - loss: 0.0079 - accuracy: 0.9999 - val_loss: 0.0645 - val_accuracy: 0.9790\n",
      "Epoch 35/50\n",
      "250/250 [==============================] - 1s 2ms/step - loss: 0.0079 - accuracy: 1.0000 - val_loss: 0.0643 - val_accuracy: 0.9795\n",
      "Epoch 36/50\n",
      "250/250 [==============================] - 1s 2ms/step - loss: 0.0075 - accuracy: 1.0000 - val_loss: 0.0641 - val_accuracy: 0.9797\n",
      "Epoch 37/50\n",
      "250/250 [==============================] - 1s 2ms/step - loss: 0.0074 - accuracy: 1.0000 - val_loss: 0.0643 - val_accuracy: 0.9796\n",
      "Epoch 38/50\n",
      "250/250 [==============================] - 1s 2ms/step - loss: 0.0069 - accuracy: 1.0000 - val_loss: 0.0644 - val_accuracy: 0.9794\n",
      "Epoch 39/50\n",
      "250/250 [==============================] - 1s 2ms/step - loss: 0.0067 - accuracy: 1.0000 - val_loss: 0.0640 - val_accuracy: 0.9797\n",
      "Epoch 40/50\n",
      "250/250 [==============================] - 1s 2ms/step - loss: 0.0068 - accuracy: 0.9999 - val_loss: 0.0642 - val_accuracy: 0.9793\n",
      "Epoch 41/50\n",
      "250/250 [==============================] - 1s 2ms/step - loss: 0.0063 - accuracy: 1.0000 - val_loss: 0.0640 - val_accuracy: 0.9800\n",
      "Epoch 42/50\n",
      "250/250 [==============================] - 1s 2ms/step - loss: 0.0061 - accuracy: 1.0000 - val_loss: 0.0641 - val_accuracy: 0.9797\n",
      "Epoch 43/50\n",
      "250/250 [==============================] - 1s 2ms/step - loss: 0.0061 - accuracy: 0.9999 - val_loss: 0.0639 - val_accuracy: 0.9803\n",
      "Epoch 44/50\n",
      "250/250 [==============================] - 1s 2ms/step - loss: 0.0058 - accuracy: 1.0000 - val_loss: 0.0637 - val_accuracy: 0.9800\n",
      "Epoch 45/50\n",
      "250/250 [==============================] - 1s 2ms/step - loss: 0.0058 - accuracy: 1.0000 - val_loss: 0.0640 - val_accuracy: 0.9799\n",
      "Epoch 46/50\n",
      "250/250 [==============================] - 1s 2ms/step - loss: 0.0054 - accuracy: 1.0000 - val_loss: 0.0631 - val_accuracy: 0.9800\n",
      "Epoch 47/50\n",
      "250/250 [==============================] - 1s 2ms/step - loss: 0.0054 - accuracy: 1.0000 - val_loss: 0.0634 - val_accuracy: 0.9801\n",
      "Epoch 48/50\n",
      "250/250 [==============================] - 1s 2ms/step - loss: 0.0051 - accuracy: 1.0000 - val_loss: 0.0634 - val_accuracy: 0.9796\n",
      "Epoch 49/50\n",
      "250/250 [==============================] - 1s 2ms/step - loss: 0.0050 - accuracy: 1.0000 - val_loss: 0.0637 - val_accuracy: 0.9800\n",
      "Epoch 50/50\n",
      "250/250 [==============================] - 1s 2ms/step - loss: 0.0050 - accuracy: 1.0000 - val_loss: 0.0634 - val_accuracy: 0.9805\n",
      "157/157 [==============================] - 0s 1ms/step - loss: 0.0581 - accuracy: 0.9828\n",
      "[CV] END .....................................batch_size=128; total time=  28.4s\n",
      "Epoch 1/50\n",
      "125/125 [==============================] - 1s 3ms/step - loss: 0.4369 - accuracy: 0.8762 - val_loss: 0.7708 - val_accuracy: 0.8831\n",
      "Epoch 2/50\n",
      "125/125 [==============================] - 0s 3ms/step - loss: 0.1954 - accuracy: 0.9489 - val_loss: 0.4338 - val_accuracy: 0.9281\n",
      "Epoch 3/50\n",
      "125/125 [==============================] - 0s 3ms/step - loss: 0.1495 - accuracy: 0.9618 - val_loss: 0.2391 - val_accuracy: 0.9516\n",
      "Epoch 4/50\n",
      "125/125 [==============================] - 0s 3ms/step - loss: 0.1242 - accuracy: 0.9694 - val_loss: 0.1494 - val_accuracy: 0.9666\n",
      "Epoch 5/50\n",
      "125/125 [==============================] - 0s 3ms/step - loss: 0.1069 - accuracy: 0.9737 - val_loss: 0.1161 - val_accuracy: 0.9735\n",
      "Epoch 6/50\n",
      "125/125 [==============================] - 0s 3ms/step - loss: 0.0940 - accuracy: 0.9772 - val_loss: 0.1010 - val_accuracy: 0.9746\n",
      "Epoch 7/50\n",
      "125/125 [==============================] - 0s 3ms/step - loss: 0.0841 - accuracy: 0.9802 - val_loss: 0.0938 - val_accuracy: 0.9760\n",
      "Epoch 8/50\n",
      "125/125 [==============================] - 0s 3ms/step - loss: 0.0765 - accuracy: 0.9824 - val_loss: 0.0886 - val_accuracy: 0.9783\n",
      "Epoch 9/50\n",
      "125/125 [==============================] - 0s 3ms/step - loss: 0.0694 - accuracy: 0.9843 - val_loss: 0.0844 - val_accuracy: 0.9775\n",
      "Epoch 10/50\n",
      "125/125 [==============================] - 0s 3ms/step - loss: 0.0640 - accuracy: 0.9858 - val_loss: 0.0816 - val_accuracy: 0.9785\n",
      "Epoch 11/50\n",
      "125/125 [==============================] - 0s 3ms/step - loss: 0.0592 - accuracy: 0.9875 - val_loss: 0.0789 - val_accuracy: 0.9790\n",
      "Epoch 12/50\n",
      "125/125 [==============================] - 0s 3ms/step - loss: 0.0547 - accuracy: 0.9891 - val_loss: 0.0767 - val_accuracy: 0.9799\n",
      "Epoch 13/50\n",
      "125/125 [==============================] - 0s 3ms/step - loss: 0.0516 - accuracy: 0.9893 - val_loss: 0.0753 - val_accuracy: 0.9796\n",
      "Epoch 14/50\n",
      "125/125 [==============================] - 0s 3ms/step - loss: 0.0478 - accuracy: 0.9913 - val_loss: 0.0737 - val_accuracy: 0.9809\n",
      "Epoch 15/50\n",
      "125/125 [==============================] - 0s 3ms/step - loss: 0.0450 - accuracy: 0.9917 - val_loss: 0.0725 - val_accuracy: 0.9814\n",
      "Epoch 16/50\n",
      "125/125 [==============================] - 0s 3ms/step - loss: 0.0428 - accuracy: 0.9923 - val_loss: 0.0712 - val_accuracy: 0.9816\n",
      "Epoch 17/50\n",
      "125/125 [==============================] - 0s 3ms/step - loss: 0.0399 - accuracy: 0.9932 - val_loss: 0.0697 - val_accuracy: 0.9812\n",
      "Epoch 18/50\n",
      "125/125 [==============================] - 0s 3ms/step - loss: 0.0373 - accuracy: 0.9941 - val_loss: 0.0686 - val_accuracy: 0.9814\n",
      "Epoch 19/50\n"
     ]
    },
    {
     "name": "stdout",
     "output_type": "stream",
     "text": [
      "125/125 [==============================] - 0s 3ms/step - loss: 0.0354 - accuracy: 0.9947 - val_loss: 0.0683 - val_accuracy: 0.9816\n",
      "Epoch 20/50\n",
      "125/125 [==============================] - 0s 3ms/step - loss: 0.0333 - accuracy: 0.9950 - val_loss: 0.0673 - val_accuracy: 0.9826\n",
      "Epoch 21/50\n",
      "125/125 [==============================] - 0s 3ms/step - loss: 0.0319 - accuracy: 0.9956 - val_loss: 0.0666 - val_accuracy: 0.9822\n",
      "Epoch 22/50\n",
      "125/125 [==============================] - 0s 3ms/step - loss: 0.0303 - accuracy: 0.9962 - val_loss: 0.0656 - val_accuracy: 0.9825\n",
      "Epoch 23/50\n",
      "125/125 [==============================] - 0s 3ms/step - loss: 0.0287 - accuracy: 0.9964 - val_loss: 0.0650 - val_accuracy: 0.9831\n",
      "Epoch 24/50\n",
      "125/125 [==============================] - 0s 3ms/step - loss: 0.0272 - accuracy: 0.9969 - val_loss: 0.0645 - val_accuracy: 0.9829\n",
      "Epoch 25/50\n",
      "125/125 [==============================] - 0s 3ms/step - loss: 0.0260 - accuracy: 0.9973 - val_loss: 0.0641 - val_accuracy: 0.9831\n",
      "Epoch 26/50\n",
      "125/125 [==============================] - 0s 3ms/step - loss: 0.0248 - accuracy: 0.9973 - val_loss: 0.0638 - val_accuracy: 0.9831\n",
      "Epoch 27/50\n",
      "125/125 [==============================] - 0s 3ms/step - loss: 0.0238 - accuracy: 0.9977 - val_loss: 0.0632 - val_accuracy: 0.9834\n",
      "Epoch 28/50\n",
      "125/125 [==============================] - 0s 3ms/step - loss: 0.0228 - accuracy: 0.9980 - val_loss: 0.0626 - val_accuracy: 0.9839\n",
      "Epoch 29/50\n",
      "125/125 [==============================] - 0s 3ms/step - loss: 0.0220 - accuracy: 0.9980 - val_loss: 0.0622 - val_accuracy: 0.9835\n",
      "Epoch 30/50\n",
      "125/125 [==============================] - 0s 3ms/step - loss: 0.0211 - accuracy: 0.9983 - val_loss: 0.0615 - val_accuracy: 0.9837\n",
      "Epoch 31/50\n",
      "125/125 [==============================] - 0s 3ms/step - loss: 0.0199 - accuracy: 0.9985 - val_loss: 0.0620 - val_accuracy: 0.9840\n",
      "Epoch 32/50\n",
      "125/125 [==============================] - 0s 3ms/step - loss: 0.0195 - accuracy: 0.9986 - val_loss: 0.0614 - val_accuracy: 0.9840\n",
      "Epoch 33/50\n",
      "125/125 [==============================] - 0s 3ms/step - loss: 0.0186 - accuracy: 0.9987 - val_loss: 0.0612 - val_accuracy: 0.9837\n",
      "Epoch 34/50\n",
      "125/125 [==============================] - 0s 3ms/step - loss: 0.0180 - accuracy: 0.9988 - val_loss: 0.0613 - val_accuracy: 0.9840\n",
      "Epoch 35/50\n",
      "125/125 [==============================] - 0s 3ms/step - loss: 0.0172 - accuracy: 0.9990 - val_loss: 0.0609 - val_accuracy: 0.9843\n",
      "Epoch 36/50\n",
      "125/125 [==============================] - 0s 3ms/step - loss: 0.0166 - accuracy: 0.9992 - val_loss: 0.0607 - val_accuracy: 0.9841\n",
      "Epoch 37/50\n",
      "125/125 [==============================] - 0s 3ms/step - loss: 0.0158 - accuracy: 0.9993 - val_loss: 0.0605 - val_accuracy: 0.9837\n",
      "Epoch 38/50\n",
      "125/125 [==============================] - 0s 3ms/step - loss: 0.0155 - accuracy: 0.9993 - val_loss: 0.0602 - val_accuracy: 0.9845\n",
      "Epoch 39/50\n",
      "125/125 [==============================] - 0s 3ms/step - loss: 0.0150 - accuracy: 0.9994 - val_loss: 0.0598 - val_accuracy: 0.9847\n",
      "Epoch 40/50\n",
      "125/125 [==============================] - 0s 3ms/step - loss: 0.0145 - accuracy: 0.9996 - val_loss: 0.0597 - val_accuracy: 0.9845\n",
      "Epoch 41/50\n",
      "125/125 [==============================] - 0s 3ms/step - loss: 0.0140 - accuracy: 0.9994 - val_loss: 0.0592 - val_accuracy: 0.9846\n",
      "Epoch 42/50\n",
      "125/125 [==============================] - 0s 3ms/step - loss: 0.0134 - accuracy: 0.9996 - val_loss: 0.0596 - val_accuracy: 0.9845\n",
      "Epoch 43/50\n",
      "125/125 [==============================] - 0s 3ms/step - loss: 0.0132 - accuracy: 0.9996 - val_loss: 0.0594 - val_accuracy: 0.9845\n",
      "Epoch 44/50\n",
      "125/125 [==============================] - 0s 3ms/step - loss: 0.0129 - accuracy: 0.9995 - val_loss: 0.0589 - val_accuracy: 0.9845\n",
      "Epoch 45/50\n",
      "125/125 [==============================] - 0s 3ms/step - loss: 0.0124 - accuracy: 0.9997 - val_loss: 0.0588 - val_accuracy: 0.9846\n",
      "Epoch 46/50\n",
      "125/125 [==============================] - 0s 3ms/step - loss: 0.0119 - accuracy: 0.9997 - val_loss: 0.0588 - val_accuracy: 0.9844\n",
      "Epoch 47/50\n",
      "125/125 [==============================] - 0s 3ms/step - loss: 0.0116 - accuracy: 0.9997 - val_loss: 0.0590 - val_accuracy: 0.9845\n",
      "Epoch 48/50\n",
      "125/125 [==============================] - 0s 3ms/step - loss: 0.0111 - accuracy: 0.9998 - val_loss: 0.0588 - val_accuracy: 0.9845\n",
      "Epoch 49/50\n",
      "125/125 [==============================] - 0s 3ms/step - loss: 0.0110 - accuracy: 0.9998 - val_loss: 0.0587 - val_accuracy: 0.9845\n",
      "Epoch 50/50\n",
      "125/125 [==============================] - 0s 3ms/step - loss: 0.0106 - accuracy: 0.9999 - val_loss: 0.0586 - val_accuracy: 0.9846\n",
      "79/79 [==============================] - 0s 1ms/step - loss: 0.0606 - accuracy: 0.9825\n",
      "[CV] END .....................................batch_size=256; total time=  17.2s\n",
      "Epoch 1/50\n",
      "125/125 [==============================] - 1s 3ms/step - loss: 0.4498 - accuracy: 0.8740 - val_loss: 0.5977 - val_accuracy: 0.8885\n",
      "Epoch 2/50\n",
      "125/125 [==============================] - 0s 3ms/step - loss: 0.2074 - accuracy: 0.9453 - val_loss: 0.3856 - val_accuracy: 0.9209\n",
      "Epoch 3/50\n",
      "125/125 [==============================] - 0s 3ms/step - loss: 0.1607 - accuracy: 0.9592 - val_loss: 0.2182 - val_accuracy: 0.9534\n",
      "Epoch 4/50\n",
      "125/125 [==============================] - 0s 3ms/step - loss: 0.1343 - accuracy: 0.9669 - val_loss: 0.1435 - val_accuracy: 0.9674\n",
      "Epoch 5/50\n",
      "125/125 [==============================] - 0s 3ms/step - loss: 0.1160 - accuracy: 0.9722 - val_loss: 0.1175 - val_accuracy: 0.9722\n",
      "Epoch 6/50\n",
      "125/125 [==============================] - 0s 3ms/step - loss: 0.1025 - accuracy: 0.9757 - val_loss: 0.1066 - val_accuracy: 0.9740\n",
      "Epoch 7/50\n",
      "125/125 [==============================] - 0s 3ms/step - loss: 0.0919 - accuracy: 0.9787 - val_loss: 0.0990 - val_accuracy: 0.9754\n",
      "Epoch 8/50\n",
      "125/125 [==============================] - 0s 3ms/step - loss: 0.0840 - accuracy: 0.9813 - val_loss: 0.0936 - val_accuracy: 0.9772\n",
      "Epoch 9/50\n",
      "125/125 [==============================] - 0s 3ms/step - loss: 0.0767 - accuracy: 0.9833 - val_loss: 0.0892 - val_accuracy: 0.9783\n",
      "Epoch 10/50\n",
      "125/125 [==============================] - 0s 3ms/step - loss: 0.0706 - accuracy: 0.9847 - val_loss: 0.0857 - val_accuracy: 0.9784\n",
      "Epoch 11/50\n",
      "125/125 [==============================] - 0s 3ms/step - loss: 0.0649 - accuracy: 0.9868 - val_loss: 0.0836 - val_accuracy: 0.9796\n",
      "Epoch 12/50\n",
      "125/125 [==============================] - 0s 3ms/step - loss: 0.0608 - accuracy: 0.9882 - val_loss: 0.0810 - val_accuracy: 0.9801\n",
      "Epoch 13/50\n",
      "125/125 [==============================] - 0s 3ms/step - loss: 0.0564 - accuracy: 0.9889 - val_loss: 0.0792 - val_accuracy: 0.9805\n",
      "Epoch 14/50\n",
      "125/125 [==============================] - 0s 3ms/step - loss: 0.0530 - accuracy: 0.9897 - val_loss: 0.0771 - val_accuracy: 0.9809\n",
      "Epoch 15/50\n",
      "125/125 [==============================] - 0s 3ms/step - loss: 0.0495 - accuracy: 0.9907 - val_loss: 0.0756 - val_accuracy: 0.9806\n",
      "Epoch 16/50\n",
      "125/125 [==============================] - 0s 3ms/step - loss: 0.0465 - accuracy: 0.9920 - val_loss: 0.0736 - val_accuracy: 0.9803\n",
      "Epoch 17/50\n",
      "125/125 [==============================] - 0s 3ms/step - loss: 0.0439 - accuracy: 0.9927 - val_loss: 0.0719 - val_accuracy: 0.9816\n",
      "Epoch 18/50\n",
      "125/125 [==============================] - 0s 3ms/step - loss: 0.0411 - accuracy: 0.9935 - val_loss: 0.0716 - val_accuracy: 0.9816\n",
      "Epoch 19/50\n",
      "125/125 [==============================] - 0s 3ms/step - loss: 0.0391 - accuracy: 0.9939 - val_loss: 0.0706 - val_accuracy: 0.9816\n",
      "Epoch 20/50\n",
      "125/125 [==============================] - 0s 3ms/step - loss: 0.0372 - accuracy: 0.9947 - val_loss: 0.0699 - val_accuracy: 0.9816\n",
      "Epoch 21/50\n",
      "125/125 [==============================] - 0s 3ms/step - loss: 0.0349 - accuracy: 0.9955 - val_loss: 0.0688 - val_accuracy: 0.9819\n",
      "Epoch 22/50\n",
      "125/125 [==============================] - 0s 3ms/step - loss: 0.0337 - accuracy: 0.9954 - val_loss: 0.0685 - val_accuracy: 0.9820\n",
      "Epoch 23/50\n",
      "125/125 [==============================] - 0s 3ms/step - loss: 0.0320 - accuracy: 0.9959 - val_loss: 0.0674 - val_accuracy: 0.9820\n",
      "Epoch 24/50\n",
      "125/125 [==============================] - 0s 3ms/step - loss: 0.0302 - accuracy: 0.9966 - val_loss: 0.0674 - val_accuracy: 0.9821\n",
      "Epoch 25/50\n"
     ]
    },
    {
     "name": "stdout",
     "output_type": "stream",
     "text": [
      "125/125 [==============================] - 0s 3ms/step - loss: 0.0290 - accuracy: 0.9965 - val_loss: 0.0665 - val_accuracy: 0.9822\n",
      "Epoch 26/50\n",
      "125/125 [==============================] - 0s 3ms/step - loss: 0.0277 - accuracy: 0.9972 - val_loss: 0.0656 - val_accuracy: 0.9821\n",
      "Epoch 27/50\n",
      "125/125 [==============================] - 0s 3ms/step - loss: 0.0263 - accuracy: 0.9972 - val_loss: 0.0650 - val_accuracy: 0.9825\n",
      "Epoch 28/50\n",
      "125/125 [==============================] - 0s 3ms/step - loss: 0.0251 - accuracy: 0.9977 - val_loss: 0.0649 - val_accuracy: 0.9821\n",
      "Epoch 29/50\n",
      "125/125 [==============================] - 0s 3ms/step - loss: 0.0244 - accuracy: 0.9978 - val_loss: 0.0647 - val_accuracy: 0.9822\n",
      "Epoch 30/50\n",
      "125/125 [==============================] - 0s 3ms/step - loss: 0.0230 - accuracy: 0.9981 - val_loss: 0.0639 - val_accuracy: 0.9821\n",
      "Epoch 31/50\n",
      "125/125 [==============================] - 0s 3ms/step - loss: 0.0223 - accuracy: 0.9982 - val_loss: 0.0633 - val_accuracy: 0.9824\n",
      "Epoch 32/50\n",
      "125/125 [==============================] - 0s 3ms/step - loss: 0.0214 - accuracy: 0.9983 - val_loss: 0.0634 - val_accuracy: 0.9827\n",
      "Epoch 33/50\n",
      "125/125 [==============================] - 0s 3ms/step - loss: 0.0205 - accuracy: 0.9984 - val_loss: 0.0628 - val_accuracy: 0.9826\n",
      "Epoch 34/50\n",
      "125/125 [==============================] - 0s 3ms/step - loss: 0.0198 - accuracy: 0.9987 - val_loss: 0.0621 - val_accuracy: 0.9833\n",
      "Epoch 35/50\n",
      "125/125 [==============================] - 0s 3ms/step - loss: 0.0189 - accuracy: 0.9987 - val_loss: 0.0625 - val_accuracy: 0.9830\n",
      "Epoch 36/50\n",
      "125/125 [==============================] - 0s 3ms/step - loss: 0.0182 - accuracy: 0.9990 - val_loss: 0.0620 - val_accuracy: 0.9829\n",
      "Epoch 37/50\n",
      "125/125 [==============================] - 0s 3ms/step - loss: 0.0178 - accuracy: 0.9989 - val_loss: 0.0621 - val_accuracy: 0.9827\n",
      "Epoch 38/50\n",
      "125/125 [==============================] - 0s 3ms/step - loss: 0.0170 - accuracy: 0.9990 - val_loss: 0.0614 - val_accuracy: 0.9827\n",
      "Epoch 39/50\n",
      "125/125 [==============================] - 0s 3ms/step - loss: 0.0164 - accuracy: 0.9994 - val_loss: 0.0616 - val_accuracy: 0.9824\n",
      "Epoch 40/50\n",
      "125/125 [==============================] - 0s 3ms/step - loss: 0.0161 - accuracy: 0.9992 - val_loss: 0.0614 - val_accuracy: 0.9829\n",
      "Epoch 41/50\n",
      "125/125 [==============================] - 0s 3ms/step - loss: 0.0155 - accuracy: 0.9993 - val_loss: 0.0613 - val_accuracy: 0.9826\n",
      "Epoch 42/50\n",
      "125/125 [==============================] - 0s 3ms/step - loss: 0.0147 - accuracy: 0.9994 - val_loss: 0.0606 - val_accuracy: 0.9835\n",
      "Epoch 43/50\n",
      "125/125 [==============================] - 0s 3ms/step - loss: 0.0143 - accuracy: 0.9994 - val_loss: 0.0607 - val_accuracy: 0.9834\n",
      "Epoch 44/50\n",
      "125/125 [==============================] - 0s 3ms/step - loss: 0.0140 - accuracy: 0.9996 - val_loss: 0.0610 - val_accuracy: 0.9827\n",
      "Epoch 45/50\n",
      "125/125 [==============================] - 0s 3ms/step - loss: 0.0136 - accuracy: 0.9994 - val_loss: 0.0610 - val_accuracy: 0.9826\n",
      "Epoch 46/50\n",
      "125/125 [==============================] - 0s 3ms/step - loss: 0.0133 - accuracy: 0.9994 - val_loss: 0.0602 - val_accuracy: 0.9830\n",
      "Epoch 47/50\n",
      "125/125 [==============================] - 0s 3ms/step - loss: 0.0128 - accuracy: 0.9997 - val_loss: 0.0603 - val_accuracy: 0.9831\n",
      "Epoch 48/50\n",
      "125/125 [==============================] - 0s 3ms/step - loss: 0.0124 - accuracy: 0.9997 - val_loss: 0.0598 - val_accuracy: 0.9833\n",
      "Epoch 49/50\n",
      "125/125 [==============================] - 0s 3ms/step - loss: 0.0123 - accuracy: 0.9997 - val_loss: 0.0596 - val_accuracy: 0.9829\n",
      "Epoch 50/50\n",
      "125/125 [==============================] - 0s 3ms/step - loss: 0.0117 - accuracy: 0.9998 - val_loss: 0.0600 - val_accuracy: 0.9829\n",
      "79/79 [==============================] - 0s 1ms/step - loss: 0.0670 - accuracy: 0.9791\n",
      "[CV] END .....................................batch_size=256; total time=  17.0s\n",
      "Epoch 1/50\n",
      "125/125 [==============================] - 1s 3ms/step - loss: 0.4339 - accuracy: 0.8745 - val_loss: 0.8658 - val_accuracy: 0.8164\n",
      "Epoch 2/50\n",
      "125/125 [==============================] - 0s 3ms/step - loss: 0.1942 - accuracy: 0.9485 - val_loss: 0.5257 - val_accuracy: 0.8923\n",
      "Epoch 3/50\n",
      "125/125 [==============================] - 0s 3ms/step - loss: 0.1501 - accuracy: 0.9613 - val_loss: 0.2745 - val_accuracy: 0.9434\n",
      "Epoch 4/50\n",
      "125/125 [==============================] - 0s 3ms/step - loss: 0.1251 - accuracy: 0.9684 - val_loss: 0.1733 - val_accuracy: 0.9580\n",
      "Epoch 5/50\n",
      "125/125 [==============================] - 0s 3ms/step - loss: 0.1090 - accuracy: 0.9728 - val_loss: 0.1370 - val_accuracy: 0.9663\n",
      "Epoch 6/50\n",
      "125/125 [==============================] - 0s 3ms/step - loss: 0.0957 - accuracy: 0.9762 - val_loss: 0.1214 - val_accuracy: 0.9690\n",
      "Epoch 7/50\n",
      "125/125 [==============================] - 0s 3ms/step - loss: 0.0862 - accuracy: 0.9805 - val_loss: 0.1123 - val_accuracy: 0.9705\n",
      "Epoch 8/50\n",
      "125/125 [==============================] - 0s 3ms/step - loss: 0.0785 - accuracy: 0.9822 - val_loss: 0.1072 - val_accuracy: 0.9719\n",
      "Epoch 9/50\n",
      "125/125 [==============================] - 0s 3ms/step - loss: 0.0712 - accuracy: 0.9849 - val_loss: 0.1033 - val_accuracy: 0.9730\n",
      "Epoch 10/50\n",
      "125/125 [==============================] - 0s 3ms/step - loss: 0.0662 - accuracy: 0.9859 - val_loss: 0.0997 - val_accuracy: 0.9732\n",
      "Epoch 11/50\n",
      "125/125 [==============================] - 0s 3ms/step - loss: 0.0609 - accuracy: 0.9876 - val_loss: 0.0968 - val_accuracy: 0.9734\n",
      "Epoch 12/50\n",
      "125/125 [==============================] - 0s 3ms/step - loss: 0.0563 - accuracy: 0.9891 - val_loss: 0.0940 - val_accuracy: 0.9747\n",
      "Epoch 13/50\n",
      "125/125 [==============================] - 0s 3ms/step - loss: 0.0520 - accuracy: 0.9901 - val_loss: 0.0916 - val_accuracy: 0.9753\n",
      "Epoch 14/50\n",
      "125/125 [==============================] - 0s 3ms/step - loss: 0.0491 - accuracy: 0.9912 - val_loss: 0.0896 - val_accuracy: 0.9749\n",
      "Epoch 15/50\n",
      "125/125 [==============================] - 0s 3ms/step - loss: 0.0453 - accuracy: 0.9920 - val_loss: 0.0882 - val_accuracy: 0.9755\n",
      "Epoch 16/50\n",
      "125/125 [==============================] - 0s 3ms/step - loss: 0.0430 - accuracy: 0.9932 - val_loss: 0.0860 - val_accuracy: 0.9768\n",
      "Epoch 17/50\n",
      "125/125 [==============================] - 0s 3ms/step - loss: 0.0401 - accuracy: 0.9936 - val_loss: 0.0845 - val_accuracy: 0.9769\n",
      "Epoch 18/50\n",
      "125/125 [==============================] - 0s 3ms/step - loss: 0.0380 - accuracy: 0.9941 - val_loss: 0.0833 - val_accuracy: 0.9765\n",
      "Epoch 19/50\n",
      "125/125 [==============================] - 0s 3ms/step - loss: 0.0357 - accuracy: 0.9947 - val_loss: 0.0825 - val_accuracy: 0.9769\n",
      "Epoch 20/50\n",
      "125/125 [==============================] - 0s 3ms/step - loss: 0.0339 - accuracy: 0.9954 - val_loss: 0.0810 - val_accuracy: 0.9779\n",
      "Epoch 21/50\n",
      "125/125 [==============================] - 0s 3ms/step - loss: 0.0321 - accuracy: 0.9955 - val_loss: 0.0795 - val_accuracy: 0.9784\n",
      "Epoch 22/50\n",
      "125/125 [==============================] - 0s 3ms/step - loss: 0.0305 - accuracy: 0.9961 - val_loss: 0.0791 - val_accuracy: 0.9775\n",
      "Epoch 23/50\n",
      "125/125 [==============================] - 0s 3ms/step - loss: 0.0287 - accuracy: 0.9967 - val_loss: 0.0784 - val_accuracy: 0.9784\n",
      "Epoch 24/50\n",
      "125/125 [==============================] - 0s 3ms/step - loss: 0.0276 - accuracy: 0.9969 - val_loss: 0.0778 - val_accuracy: 0.9780\n",
      "Epoch 25/50\n",
      "125/125 [==============================] - 0s 3ms/step - loss: 0.0261 - accuracy: 0.9976 - val_loss: 0.0769 - val_accuracy: 0.9786\n",
      "Epoch 26/50\n",
      "125/125 [==============================] - 0s 3ms/step - loss: 0.0250 - accuracy: 0.9974 - val_loss: 0.0765 - val_accuracy: 0.9790\n",
      "Epoch 27/50\n",
      "125/125 [==============================] - 0s 3ms/step - loss: 0.0240 - accuracy: 0.9975 - val_loss: 0.0759 - val_accuracy: 0.9789\n",
      "Epoch 28/50\n",
      "125/125 [==============================] - 0s 3ms/step - loss: 0.0228 - accuracy: 0.9978 - val_loss: 0.0752 - val_accuracy: 0.9795\n",
      "Epoch 29/50\n",
      "125/125 [==============================] - 0s 3ms/step - loss: 0.0219 - accuracy: 0.9982 - val_loss: 0.0750 - val_accuracy: 0.9795\n",
      "Epoch 30/50\n",
      "125/125 [==============================] - 0s 3ms/step - loss: 0.0210 - accuracy: 0.9985 - val_loss: 0.0738 - val_accuracy: 0.9800\n",
      "Epoch 31/50\n"
     ]
    },
    {
     "name": "stdout",
     "output_type": "stream",
     "text": [
      "125/125 [==============================] - 0s 3ms/step - loss: 0.0201 - accuracy: 0.9986 - val_loss: 0.0737 - val_accuracy: 0.9795\n",
      "Epoch 32/50\n",
      "125/125 [==============================] - 0s 3ms/step - loss: 0.0194 - accuracy: 0.9985 - val_loss: 0.0735 - val_accuracy: 0.9800\n",
      "Epoch 33/50\n",
      "125/125 [==============================] - 0s 3ms/step - loss: 0.0184 - accuracy: 0.9990 - val_loss: 0.0729 - val_accuracy: 0.9799\n",
      "Epoch 34/50\n",
      "125/125 [==============================] - 0s 3ms/step - loss: 0.0177 - accuracy: 0.9991 - val_loss: 0.0727 - val_accuracy: 0.9795\n",
      "Epoch 35/50\n",
      "125/125 [==============================] - 0s 3ms/step - loss: 0.0173 - accuracy: 0.9990 - val_loss: 0.0720 - val_accuracy: 0.9799\n",
      "Epoch 36/50\n",
      "125/125 [==============================] - 0s 3ms/step - loss: 0.0165 - accuracy: 0.9991 - val_loss: 0.0719 - val_accuracy: 0.9793\n",
      "Epoch 37/50\n",
      "125/125 [==============================] - 0s 3ms/step - loss: 0.0160 - accuracy: 0.9992 - val_loss: 0.0714 - val_accuracy: 0.9797\n",
      "Epoch 38/50\n",
      "125/125 [==============================] - 0s 3ms/step - loss: 0.0154 - accuracy: 0.9992 - val_loss: 0.0709 - val_accuracy: 0.9800\n",
      "Epoch 39/50\n",
      "125/125 [==============================] - 0s 3ms/step - loss: 0.0149 - accuracy: 0.9994 - val_loss: 0.0710 - val_accuracy: 0.9799\n",
      "Epoch 40/50\n",
      "125/125 [==============================] - 0s 3ms/step - loss: 0.0145 - accuracy: 0.9994 - val_loss: 0.0706 - val_accuracy: 0.9801\n",
      "Epoch 41/50\n",
      "125/125 [==============================] - 0s 3ms/step - loss: 0.0138 - accuracy: 0.9996 - val_loss: 0.0707 - val_accuracy: 0.9799\n",
      "Epoch 42/50\n",
      "125/125 [==============================] - 0s 3ms/step - loss: 0.0134 - accuracy: 0.9997 - val_loss: 0.0707 - val_accuracy: 0.9795\n",
      "Epoch 43/50\n",
      "125/125 [==============================] - 0s 3ms/step - loss: 0.0130 - accuracy: 0.9997 - val_loss: 0.0701 - val_accuracy: 0.9803\n",
      "Epoch 44/50\n",
      "125/125 [==============================] - 0s 3ms/step - loss: 0.0126 - accuracy: 0.9997 - val_loss: 0.0697 - val_accuracy: 0.9804\n",
      "Epoch 45/50\n",
      "125/125 [==============================] - 0s 3ms/step - loss: 0.0123 - accuracy: 0.9997 - val_loss: 0.0696 - val_accuracy: 0.9803\n",
      "Epoch 46/50\n",
      "125/125 [==============================] - 0s 3ms/step - loss: 0.0120 - accuracy: 0.9996 - val_loss: 0.0695 - val_accuracy: 0.9806\n",
      "Epoch 47/50\n",
      "125/125 [==============================] - 0s 3ms/step - loss: 0.0114 - accuracy: 0.9998 - val_loss: 0.0691 - val_accuracy: 0.9805\n",
      "Epoch 48/50\n",
      "125/125 [==============================] - 0s 3ms/step - loss: 0.0113 - accuracy: 0.9998 - val_loss: 0.0690 - val_accuracy: 0.9803\n",
      "Epoch 49/50\n",
      "125/125 [==============================] - 0s 3ms/step - loss: 0.0111 - accuracy: 0.9998 - val_loss: 0.0690 - val_accuracy: 0.9803\n",
      "Epoch 50/50\n",
      "125/125 [==============================] - 0s 3ms/step - loss: 0.0107 - accuracy: 0.9998 - val_loss: 0.0692 - val_accuracy: 0.9804\n",
      "79/79 [==============================] - 0s 1ms/step - loss: 0.0670 - accuracy: 0.9801\n",
      "[CV] END .....................................batch_size=256; total time=  16.9s\n",
      "Epoch 1/50\n",
      "375/375 [==============================] - 1s 2ms/step - loss: 0.2733 - accuracy: 0.9256 - val_loss: 0.2329 - val_accuracy: 0.9534\n",
      "Epoch 2/50\n",
      "375/375 [==============================] - 1s 2ms/step - loss: 0.1226 - accuracy: 0.9681 - val_loss: 0.1107 - val_accuracy: 0.9724\n",
      "Epoch 3/50\n",
      "375/375 [==============================] - 1s 2ms/step - loss: 0.0906 - accuracy: 0.9778 - val_loss: 0.0912 - val_accuracy: 0.9770\n",
      "Epoch 4/50\n",
      "375/375 [==============================] - 1s 2ms/step - loss: 0.0733 - accuracy: 0.9823 - val_loss: 0.0796 - val_accuracy: 0.9790\n",
      "Epoch 5/50\n",
      "375/375 [==============================] - 1s 2ms/step - loss: 0.0617 - accuracy: 0.9855 - val_loss: 0.0751 - val_accuracy: 0.9803\n",
      "Epoch 6/50\n",
      "375/375 [==============================] - 1s 2ms/step - loss: 0.0537 - accuracy: 0.9878 - val_loss: 0.0703 - val_accuracy: 0.9814\n",
      "Epoch 7/50\n",
      "375/375 [==============================] - 1s 2ms/step - loss: 0.0467 - accuracy: 0.9898 - val_loss: 0.0670 - val_accuracy: 0.9822\n",
      "Epoch 8/50\n",
      "375/375 [==============================] - 1s 2ms/step - loss: 0.0414 - accuracy: 0.9914 - val_loss: 0.0643 - val_accuracy: 0.9828\n",
      "Epoch 9/50\n",
      "375/375 [==============================] - 1s 2ms/step - loss: 0.0370 - accuracy: 0.9924 - val_loss: 0.0622 - val_accuracy: 0.9835\n",
      "Epoch 10/50\n",
      "375/375 [==============================] - 1s 2ms/step - loss: 0.0339 - accuracy: 0.9938 - val_loss: 0.0616 - val_accuracy: 0.9842\n",
      "Epoch 11/50\n",
      "375/375 [==============================] - 1s 2ms/step - loss: 0.0296 - accuracy: 0.9950 - val_loss: 0.0601 - val_accuracy: 0.9840\n",
      "Epoch 12/50\n",
      "375/375 [==============================] - 1s 2ms/step - loss: 0.0274 - accuracy: 0.9957 - val_loss: 0.0587 - val_accuracy: 0.9837\n",
      "Epoch 13/50\n",
      "375/375 [==============================] - 1s 2ms/step - loss: 0.0254 - accuracy: 0.9959 - val_loss: 0.0575 - val_accuracy: 0.9838\n",
      "Epoch 14/50\n",
      "375/375 [==============================] - 1s 2ms/step - loss: 0.0227 - accuracy: 0.9968 - val_loss: 0.0563 - val_accuracy: 0.9847\n",
      "Epoch 15/50\n",
      "375/375 [==============================] - 1s 2ms/step - loss: 0.0208 - accuracy: 0.9973 - val_loss: 0.0564 - val_accuracy: 0.9850\n",
      "Epoch 16/50\n",
      "375/375 [==============================] - 1s 2ms/step - loss: 0.0192 - accuracy: 0.9977 - val_loss: 0.0557 - val_accuracy: 0.9847\n",
      "Epoch 17/50\n",
      "375/375 [==============================] - 1s 2ms/step - loss: 0.0176 - accuracy: 0.9980 - val_loss: 0.0552 - val_accuracy: 0.9851\n",
      "Epoch 18/50\n",
      "375/375 [==============================] - 1s 2ms/step - loss: 0.0165 - accuracy: 0.9983 - val_loss: 0.0552 - val_accuracy: 0.9847\n",
      "Epoch 19/50\n",
      "375/375 [==============================] - 1s 2ms/step - loss: 0.0153 - accuracy: 0.9985 - val_loss: 0.0546 - val_accuracy: 0.9851\n",
      "Epoch 20/50\n",
      "375/375 [==============================] - 1s 2ms/step - loss: 0.0143 - accuracy: 0.9987 - val_loss: 0.0551 - val_accuracy: 0.9853\n",
      "Epoch 21/50\n",
      "375/375 [==============================] - 1s 2ms/step - loss: 0.0135 - accuracy: 0.9991 - val_loss: 0.0541 - val_accuracy: 0.9851\n",
      "Epoch 22/50\n",
      "375/375 [==============================] - 1s 2ms/step - loss: 0.0122 - accuracy: 0.9993 - val_loss: 0.0532 - val_accuracy: 0.9857\n",
      "Epoch 23/50\n",
      "375/375 [==============================] - 1s 2ms/step - loss: 0.0116 - accuracy: 0.9991 - val_loss: 0.0534 - val_accuracy: 0.9851\n",
      "Epoch 24/50\n",
      "375/375 [==============================] - 1s 2ms/step - loss: 0.0109 - accuracy: 0.9995 - val_loss: 0.0530 - val_accuracy: 0.9858\n",
      "Epoch 25/50\n",
      "375/375 [==============================] - 1s 2ms/step - loss: 0.0103 - accuracy: 0.9995 - val_loss: 0.0532 - val_accuracy: 0.9852\n",
      "Epoch 26/50\n",
      "375/375 [==============================] - 1s 2ms/step - loss: 0.0098 - accuracy: 0.9996 - val_loss: 0.0525 - val_accuracy: 0.9857\n",
      "Epoch 27/50\n",
      "375/375 [==============================] - 1s 2ms/step - loss: 0.0092 - accuracy: 0.9997 - val_loss: 0.0533 - val_accuracy: 0.9854\n",
      "Epoch 28/50\n",
      "375/375 [==============================] - 1s 2ms/step - loss: 0.0086 - accuracy: 0.9998 - val_loss: 0.0532 - val_accuracy: 0.9854\n",
      "Epoch 29/50\n",
      "375/375 [==============================] - 1s 2ms/step - loss: 0.0083 - accuracy: 0.9998 - val_loss: 0.0526 - val_accuracy: 0.9856\n",
      "Epoch 30/50\n",
      "375/375 [==============================] - 1s 2ms/step - loss: 0.0078 - accuracy: 0.9998 - val_loss: 0.0531 - val_accuracy: 0.9853\n",
      "Epoch 31/50\n",
      "375/375 [==============================] - 1s 2ms/step - loss: 0.0076 - accuracy: 0.9998 - val_loss: 0.0537 - val_accuracy: 0.9853\n",
      "Epoch 32/50\n",
      "375/375 [==============================] - 1s 2ms/step - loss: 0.0074 - accuracy: 0.9998 - val_loss: 0.0530 - val_accuracy: 0.9855\n",
      "Epoch 33/50\n",
      "375/375 [==============================] - 1s 2ms/step - loss: 0.0070 - accuracy: 0.9999 - val_loss: 0.0529 - val_accuracy: 0.9852\n",
      "Epoch 34/50\n",
      "375/375 [==============================] - 1s 2ms/step - loss: 0.0067 - accuracy: 0.9999 - val_loss: 0.0531 - val_accuracy: 0.9857\n",
      "Epoch 35/50\n",
      "375/375 [==============================] - 1s 2ms/step - loss: 0.0064 - accuracy: 0.9999 - val_loss: 0.0529 - val_accuracy: 0.9853\n",
      "Epoch 36/50\n",
      "375/375 [==============================] - 1s 2ms/step - loss: 0.0062 - accuracy: 1.0000 - val_loss: 0.0524 - val_accuracy: 0.9862\n",
      "Epoch 37/50\n"
     ]
    },
    {
     "name": "stdout",
     "output_type": "stream",
     "text": [
      "375/375 [==============================] - 1s 2ms/step - loss: 0.0059 - accuracy: 0.9999 - val_loss: 0.0525 - val_accuracy: 0.9854\n",
      "Epoch 38/50\n",
      "375/375 [==============================] - 1s 2ms/step - loss: 0.0056 - accuracy: 1.0000 - val_loss: 0.0528 - val_accuracy: 0.9856\n",
      "Epoch 39/50\n",
      "375/375 [==============================] - 1s 2ms/step - loss: 0.0054 - accuracy: 1.0000 - val_loss: 0.0527 - val_accuracy: 0.9855\n",
      "Epoch 40/50\n",
      "375/375 [==============================] - 1s 2ms/step - loss: 0.0052 - accuracy: 1.0000 - val_loss: 0.0527 - val_accuracy: 0.9859\n",
      "Epoch 41/50\n",
      "375/375 [==============================] - 1s 2ms/step - loss: 0.0051 - accuracy: 0.9999 - val_loss: 0.0526 - val_accuracy: 0.9858\n",
      "Epoch 42/50\n",
      "375/375 [==============================] - 1s 2ms/step - loss: 0.0050 - accuracy: 0.9999 - val_loss: 0.0528 - val_accuracy: 0.9856\n",
      "Epoch 43/50\n",
      "375/375 [==============================] - 1s 2ms/step - loss: 0.0048 - accuracy: 1.0000 - val_loss: 0.0529 - val_accuracy: 0.9853\n",
      "Epoch 44/50\n",
      "375/375 [==============================] - 1s 2ms/step - loss: 0.0046 - accuracy: 1.0000 - val_loss: 0.0525 - val_accuracy: 0.9860\n",
      "Epoch 45/50\n",
      "375/375 [==============================] - 1s 2ms/step - loss: 0.0045 - accuracy: 1.0000 - val_loss: 0.0524 - val_accuracy: 0.9860\n",
      "Epoch 46/50\n",
      "375/375 [==============================] - 1s 2ms/step - loss: 0.0044 - accuracy: 1.0000 - val_loss: 0.0525 - val_accuracy: 0.9861\n",
      "Epoch 47/50\n",
      "375/375 [==============================] - 1s 2ms/step - loss: 0.0043 - accuracy: 1.0000 - val_loss: 0.0524 - val_accuracy: 0.9862\n",
      "Epoch 48/50\n",
      "375/375 [==============================] - 1s 2ms/step - loss: 0.0042 - accuracy: 1.0000 - val_loss: 0.0526 - val_accuracy: 0.9853\n",
      "Epoch 49/50\n",
      "375/375 [==============================] - 1s 2ms/step - loss: 0.0040 - accuracy: 1.0000 - val_loss: 0.0525 - val_accuracy: 0.9860\n",
      "Epoch 50/50\n",
      "375/375 [==============================] - 1s 2ms/step - loss: 0.0039 - accuracy: 1.0000 - val_loss: 0.0527 - val_accuracy: 0.9858\n"
     ]
    },
    {
     "data": {
      "text/plain": [
       "RandomizedSearchCV(cv=3,\n",
       "                   estimator=<tensorflow.python.keras.wrappers.scikit_learn.KerasClassifier object at 0x7fcd2133cd10>,\n",
       "                   param_distributions={'batch_size': [128, 256]}, verbose=2)"
      ]
     },
     "execution_count": 25,
     "metadata": {},
     "output_type": "execute_result"
    }
   ],
   "source": [
    "clf.fit(train_X, train_y, callbacks=[callback_early_stopping])"
   ]
  },
  {
   "cell_type": "code",
   "execution_count": null,
   "metadata": {},
   "outputs": [],
   "source": []
  },
  {
   "cell_type": "code",
   "execution_count": 26,
   "metadata": {},
   "outputs": [
    {
     "data": {
      "text/plain": [
       "{'batch_size': 128}"
      ]
     },
     "execution_count": 26,
     "metadata": {},
     "output_type": "execute_result"
    }
   ],
   "source": [
    "clf.best_params_"
   ]
  },
  {
   "cell_type": "code",
   "execution_count": 27,
   "metadata": {},
   "outputs": [
    {
     "data": {
      "text/plain": [
       "0.9828333258628845"
      ]
     },
     "execution_count": 27,
     "metadata": {},
     "output_type": "execute_result"
    }
   ],
   "source": [
    "clf.best_score_"
   ]
  },
  {
   "cell_type": "code",
   "execution_count": 28,
   "metadata": {},
   "outputs": [
    {
     "data": {
      "text/plain": [
       "<tensorflow.python.keras.wrappers.scikit_learn.KerasClassifier at 0x7fccf03509d0>"
      ]
     },
     "execution_count": 28,
     "metadata": {},
     "output_type": "execute_result"
    }
   ],
   "source": [
    "clf.best_estimator_"
   ]
  },
  {
   "cell_type": "code",
   "execution_count": 29,
   "metadata": {},
   "outputs": [
    {
     "name": "stdout",
     "output_type": "stream",
     "text": [
      "79/79 [==============================] - 0s 1ms/step - loss: 0.0453 - accuracy: 0.9850\n"
     ]
    },
    {
     "data": {
      "text/plain": [
       "0.9850000143051147"
      ]
     },
     "execution_count": 29,
     "metadata": {},
     "output_type": "execute_result"
    }
   ],
   "source": [
    "clf.score(test_X, test_y)"
   ]
  },
  {
   "cell_type": "code",
   "execution_count": 30,
   "metadata": {},
   "outputs": [
    {
     "data": {
      "text/plain": [
       "<tensorflow.python.keras.engine.sequential.Sequential at 0x7fcd158ad310>"
      ]
     },
     "execution_count": 30,
     "metadata": {},
     "output_type": "execute_result"
    }
   ],
   "source": [
    "model = clf.best_estimator_.model\n",
    "model"
   ]
  },
  {
   "cell_type": "code",
   "execution_count": 31,
   "metadata": {},
   "outputs": [
    {
     "name": "stdout",
     "output_type": "stream",
     "text": [
      "313/313 [==============================] - 1s 2ms/step - loss: 0.0453 - accuracy: 0.9850\n",
      "> 98.500\n"
     ]
    }
   ],
   "source": [
    "# evaluate model on test dataset\n",
    "loss, acc = model.evaluate(test_X, test_y, verbose=1)\n",
    "print('> %.3f' % (acc * 100.0))"
   ]
  },
  {
   "cell_type": "code",
   "execution_count": 32,
   "metadata": {},
   "outputs": [
    {
     "data": {
      "text/plain": [
       "{'mean_fit_time': array([28.43425679, 16.86969916]),\n",
       " 'std_fit_time': array([0.68047108, 0.09445085]),\n",
       " 'mean_score_time': array([0.23741539, 0.15652164]),\n",
       " 'std_score_time': array([0.00366893, 0.00205301]),\n",
       " 'param_batch_size': masked_array(data=[128, 256],\n",
       "              mask=[False, False],\n",
       "        fill_value='?',\n",
       "             dtype=object),\n",
       " 'params': [{'batch_size': 128}, {'batch_size': 256}],\n",
       " 'split0_test_score': array([0.98334998, 0.98245001]),\n",
       " 'split1_test_score': array([0.98234999, 0.97915   ]),\n",
       " 'split2_test_score': array([0.98280001, 0.98009998]),\n",
       " 'mean_test_score': array([0.98283333, 0.98056666]),\n",
       " 'std_test_score': array([0.00040892, 0.00138705]),\n",
       " 'rank_test_score': array([1, 2], dtype=int32)}"
      ]
     },
     "execution_count": 32,
     "metadata": {},
     "output_type": "execute_result"
    }
   ],
   "source": [
    "clf.cv_results_"
   ]
  },
  {
   "cell_type": "markdown",
   "metadata": {},
   "source": [
    "# Train and Evaluate the best Classifier"
   ]
  },
  {
   "cell_type": "code",
   "execution_count": 33,
   "metadata": {},
   "outputs": [],
   "source": [
    "params = clf.best_params_"
   ]
  },
  {
   "cell_type": "code",
   "execution_count": 34,
   "metadata": {},
   "outputs": [
    {
     "data": {
      "text/plain": [
       "{'batch_size': 128}"
      ]
     },
     "execution_count": 34,
     "metadata": {},
     "output_type": "execute_result"
    }
   ],
   "source": [
    "params"
   ]
  },
  {
   "cell_type": "code",
   "execution_count": 35,
   "metadata": {},
   "outputs": [],
   "source": [
    "keras.backend.clear_session()"
   ]
  },
  {
   "cell_type": "code",
   "execution_count": 36,
   "metadata": {},
   "outputs": [],
   "source": [
    "model = build_model(n_classes=config_nn[\"clf_params\"][\"n_classes\"])"
   ]
  },
  {
   "cell_type": "code",
   "execution_count": 37,
   "metadata": {},
   "outputs": [
    {
     "name": "stdout",
     "output_type": "stream",
     "text": [
      "Epoch 1/50\n",
      "375/375 [==============================] - 1s 2ms/step - loss: 0.3018 - accuracy: 0.9164 - val_loss: 0.2495 - val_accuracy: 0.9502\n",
      "Epoch 2/50\n",
      "375/375 [==============================] - 1s 2ms/step - loss: 0.1302 - accuracy: 0.9667 - val_loss: 0.1180 - val_accuracy: 0.9693\n",
      "Epoch 3/50\n",
      "375/375 [==============================] - 1s 2ms/step - loss: 0.0976 - accuracy: 0.9759 - val_loss: 0.0965 - val_accuracy: 0.9740\n",
      "Epoch 4/50\n",
      "375/375 [==============================] - 1s 2ms/step - loss: 0.0777 - accuracy: 0.9814 - val_loss: 0.0872 - val_accuracy: 0.9769\n",
      "Epoch 5/50\n",
      "375/375 [==============================] - 1s 2ms/step - loss: 0.0650 - accuracy: 0.9849 - val_loss: 0.0802 - val_accuracy: 0.9779\n",
      "Epoch 6/50\n",
      "375/375 [==============================] - 1s 2ms/step - loss: 0.0560 - accuracy: 0.9876 - val_loss: 0.0747 - val_accuracy: 0.9793\n",
      "Epoch 7/50\n",
      "375/375 [==============================] - 1s 2ms/step - loss: 0.0487 - accuracy: 0.9894 - val_loss: 0.0725 - val_accuracy: 0.9792\n",
      "Epoch 8/50\n",
      "375/375 [==============================] - 1s 2ms/step - loss: 0.0427 - accuracy: 0.9913 - val_loss: 0.0686 - val_accuracy: 0.9806\n",
      "Epoch 9/50\n",
      "375/375 [==============================] - 1s 2ms/step - loss: 0.0378 - accuracy: 0.9927 - val_loss: 0.0665 - val_accuracy: 0.9805\n",
      "Epoch 10/50\n",
      "375/375 [==============================] - 1s 2ms/step - loss: 0.0338 - accuracy: 0.9937 - val_loss: 0.0645 - val_accuracy: 0.9817\n",
      "Epoch 11/50\n",
      "375/375 [==============================] - 1s 2ms/step - loss: 0.0304 - accuracy: 0.9948 - val_loss: 0.0637 - val_accuracy: 0.9817\n",
      "Epoch 12/50\n",
      "375/375 [==============================] - 1s 2ms/step - loss: 0.0274 - accuracy: 0.9958 - val_loss: 0.0622 - val_accuracy: 0.9819\n",
      "Epoch 13/50\n",
      "375/375 [==============================] - 1s 2ms/step - loss: 0.0251 - accuracy: 0.9963 - val_loss: 0.0605 - val_accuracy: 0.9821\n",
      "Epoch 14/50\n",
      "375/375 [==============================] - 1s 2ms/step - loss: 0.0228 - accuracy: 0.9969 - val_loss: 0.0603 - val_accuracy: 0.9824\n",
      "Epoch 15/50\n",
      "375/375 [==============================] - 1s 2ms/step - loss: 0.0206 - accuracy: 0.9977 - val_loss: 0.0593 - val_accuracy: 0.9825\n",
      "Epoch 16/50\n",
      "375/375 [==============================] - 1s 2ms/step - loss: 0.0189 - accuracy: 0.9979 - val_loss: 0.0588 - val_accuracy: 0.9827\n",
      "Epoch 17/50\n",
      "375/375 [==============================] - 1s 2ms/step - loss: 0.0174 - accuracy: 0.9985 - val_loss: 0.0583 - val_accuracy: 0.9827\n",
      "Epoch 18/50\n",
      "375/375 [==============================] - 1s 2ms/step - loss: 0.0159 - accuracy: 0.9987 - val_loss: 0.0577 - val_accuracy: 0.9827\n",
      "Epoch 19/50\n",
      "375/375 [==============================] - 1s 2ms/step - loss: 0.0149 - accuracy: 0.9988 - val_loss: 0.0573 - val_accuracy: 0.9828\n",
      "Epoch 20/50\n",
      "375/375 [==============================] - 1s 2ms/step - loss: 0.0139 - accuracy: 0.9991 - val_loss: 0.0568 - val_accuracy: 0.9832\n",
      "Epoch 21/50\n",
      "375/375 [==============================] - 1s 2ms/step - loss: 0.0128 - accuracy: 0.9993 - val_loss: 0.0565 - val_accuracy: 0.9833\n",
      "Epoch 22/50\n",
      "375/375 [==============================] - 1s 2ms/step - loss: 0.0120 - accuracy: 0.9994 - val_loss: 0.0567 - val_accuracy: 0.9831\n",
      "Epoch 23/50\n",
      "375/375 [==============================] - 1s 2ms/step - loss: 0.0111 - accuracy: 0.9996 - val_loss: 0.0561 - val_accuracy: 0.9828\n",
      "Epoch 24/50\n",
      "375/375 [==============================] - 1s 2ms/step - loss: 0.0107 - accuracy: 0.9996 - val_loss: 0.0562 - val_accuracy: 0.9827\n",
      "Epoch 25/50\n",
      "375/375 [==============================] - 1s 2ms/step - loss: 0.0099 - accuracy: 0.9997 - val_loss: 0.0560 - val_accuracy: 0.9833\n",
      "Epoch 26/50\n",
      "375/375 [==============================] - 1s 2ms/step - loss: 0.0095 - accuracy: 0.9997 - val_loss: 0.0554 - val_accuracy: 0.9836\n",
      "Epoch 27/50\n",
      "375/375 [==============================] - 1s 2ms/step - loss: 0.0091 - accuracy: 0.9998 - val_loss: 0.0548 - val_accuracy: 0.9839\n",
      "Epoch 28/50\n",
      "375/375 [==============================] - 1s 2ms/step - loss: 0.0084 - accuracy: 0.9998 - val_loss: 0.0553 - val_accuracy: 0.9837\n",
      "Epoch 29/50\n",
      "375/375 [==============================] - 1s 2ms/step - loss: 0.0081 - accuracy: 0.9998 - val_loss: 0.0549 - val_accuracy: 0.9843\n",
      "Epoch 30/50\n",
      "375/375 [==============================] - 1s 2ms/step - loss: 0.0078 - accuracy: 0.9999 - val_loss: 0.0553 - val_accuracy: 0.9837\n",
      "Epoch 31/50\n",
      "375/375 [==============================] - 1s 2ms/step - loss: 0.0075 - accuracy: 0.9999 - val_loss: 0.0545 - val_accuracy: 0.9836\n",
      "Epoch 32/50\n",
      "375/375 [==============================] - 1s 2ms/step - loss: 0.0071 - accuracy: 0.9999 - val_loss: 0.0544 - val_accuracy: 0.9833\n",
      "Epoch 33/50\n",
      "375/375 [==============================] - 1s 2ms/step - loss: 0.0067 - accuracy: 0.9998 - val_loss: 0.0549 - val_accuracy: 0.9839\n",
      "Epoch 34/50\n",
      "375/375 [==============================] - 1s 2ms/step - loss: 0.0064 - accuracy: 1.0000 - val_loss: 0.0542 - val_accuracy: 0.9842\n",
      "Epoch 35/50\n",
      "375/375 [==============================] - 1s 2ms/step - loss: 0.0062 - accuracy: 1.0000 - val_loss: 0.0543 - val_accuracy: 0.9843\n",
      "Epoch 36/50\n",
      "375/375 [==============================] - 1s 2ms/step - loss: 0.0059 - accuracy: 1.0000 - val_loss: 0.0544 - val_accuracy: 0.9843\n",
      "Epoch 37/50\n",
      "375/375 [==============================] - 1s 2ms/step - loss: 0.0058 - accuracy: 0.9999 - val_loss: 0.0546 - val_accuracy: 0.9835\n",
      "Epoch 38/50\n",
      "375/375 [==============================] - 1s 2ms/step - loss: 0.0056 - accuracy: 1.0000 - val_loss: 0.0542 - val_accuracy: 0.9840\n",
      "Epoch 39/50\n",
      "375/375 [==============================] - 1s 2ms/step - loss: 0.0052 - accuracy: 1.0000 - val_loss: 0.0542 - val_accuracy: 0.9839\n",
      "Epoch 40/50\n",
      "375/375 [==============================] - 1s 2ms/step - loss: 0.0051 - accuracy: 0.9999 - val_loss: 0.0539 - val_accuracy: 0.9839\n",
      "Epoch 41/50\n",
      "375/375 [==============================] - 1s 2ms/step - loss: 0.0051 - accuracy: 1.0000 - val_loss: 0.0536 - val_accuracy: 0.9843\n",
      "Epoch 42/50\n",
      "375/375 [==============================] - 1s 2ms/step - loss: 0.0047 - accuracy: 1.0000 - val_loss: 0.0542 - val_accuracy: 0.9843\n",
      "Epoch 43/50\n",
      "375/375 [==============================] - 1s 2ms/step - loss: 0.0046 - accuracy: 1.0000 - val_loss: 0.0539 - val_accuracy: 0.9845\n",
      "Epoch 44/50\n",
      "375/375 [==============================] - 1s 2ms/step - loss: 0.0045 - accuracy: 1.0000 - val_loss: 0.0543 - val_accuracy: 0.9843\n",
      "Epoch 45/50\n",
      "375/375 [==============================] - 1s 2ms/step - loss: 0.0042 - accuracy: 1.0000 - val_loss: 0.0540 - val_accuracy: 0.9840\n",
      "Epoch 46/50\n",
      "375/375 [==============================] - 1s 2ms/step - loss: 0.0042 - accuracy: 1.0000 - val_loss: 0.0540 - val_accuracy: 0.9841\n",
      "Epoch 47/50\n",
      "375/375 [==============================] - 1s 2ms/step - loss: 0.0041 - accuracy: 1.0000 - val_loss: 0.0538 - val_accuracy: 0.9843\n",
      "Epoch 48/50\n",
      "375/375 [==============================] - 1s 2ms/step - loss: 0.0039 - accuracy: 1.0000 - val_loss: 0.0540 - val_accuracy: 0.9844\n",
      "Epoch 49/50\n",
      "375/375 [==============================] - 1s 2ms/step - loss: 0.0040 - accuracy: 1.0000 - val_loss: 0.0537 - val_accuracy: 0.9846\n",
      "Epoch 50/50\n",
      "375/375 [==============================] - 1s 2ms/step - loss: 0.0038 - accuracy: 1.0000 - val_loss: 0.0538 - val_accuracy: 0.9848\n"
     ]
    }
   ],
   "source": [
    "history = model.fit(train_X,\n",
    "                    train_y,\n",
    "                    validation_split=config_nn[\"clf_params\"][\"validation_split\"],\n",
    "                    use_multiprocessing=config_nn[\"clf_params\"][\"use_multiprocessing\"],\n",
    "                    shuffle=config_nn[\"clf_params\"][\"shuffle\"],\n",
    "                    epochs=config_nn[\"clf_params\"][\"epochs\"],\n",
    "                    verbose = config_nn[\"clf_params\"][\"verbose\"], \n",
    "                    batch_size=params['batch_size'])"
   ]
  },
  {
   "cell_type": "code",
   "execution_count": 38,
   "metadata": {},
   "outputs": [
    {
     "data": {
      "text/plain": [
       "{'verbose': 1, 'epochs': 50, 'steps': 375}"
      ]
     },
     "execution_count": 38,
     "metadata": {},
     "output_type": "execute_result"
    }
   ],
   "source": [
    "history.params"
   ]
  },
  {
   "cell_type": "code",
   "execution_count": 39,
   "metadata": {},
   "outputs": [
    {
     "data": {
      "image/png": "[encoded data removed]",
      "text/plain": [
       "<Figure size 576x360 with 1 Axes>"
      ]
     },
     "metadata": {
      "needs_background": "light"
     },
     "output_type": "display_data"
    }
   ],
   "source": [
    "pd.DataFrame(history.history).plot(figsize=(8, 5))\n",
    "plt.grid(True)\n",
    "plt.gca().set_ylim(0, 1)\n",
    "plt.show()"
   ]
  },
  {
   "cell_type": "code",
   "execution_count": 40,
   "metadata": {},
   "outputs": [
    {
     "name": "stdout",
     "output_type": "stream",
     "text": [
      "313/313 [==============================] - 0s 1ms/step - loss: 0.0512 - accuracy: 0.9835\n",
      "> 98.350\n"
     ]
    }
   ],
   "source": [
    "# evaluate model on test dataset\n",
    "loss, acc = model.evaluate(test_X, test_y, verbose=1)\n",
    "print('> %.3f' % (acc * 100.0))"
   ]
  },
  {
   "cell_type": "code",
   "execution_count": 41,
   "metadata": {
    "ExecuteTime": {
     "end_time": "2021-06-17T16:51:50.910123Z",
     "start_time": "2021-06-17T16:51:49.871007Z"
    }
   },
   "outputs": [
    {
     "name": "stdout",
     "output_type": "stream",
     "text": [
      "313/313 [==============================] - 0s 750us/step\n"
     ]
    }
   ],
   "source": [
    "predictions = np.argmax(model.predict(test_X, verbose=1), axis=-1)"
   ]
  },
  {
   "cell_type": "code",
   "execution_count": 42,
   "metadata": {
    "ExecuteTime": {
     "end_time": "2021-06-17T16:51:50.916454Z",
     "start_time": "2021-06-17T16:51:50.912107Z"
    }
   },
   "outputs": [
    {
     "data": {
      "text/plain": [
       "(10000,)"
      ]
     },
     "execution_count": 42,
     "metadata": {},
     "output_type": "execute_result"
    }
   ],
   "source": [
    "predictions.shape"
   ]
  },
  {
   "cell_type": "code",
   "execution_count": 43,
   "metadata": {
    "ExecuteTime": {
     "end_time": "2021-06-17T16:51:50.927280Z",
     "start_time": "2021-06-17T16:51:50.919157Z"
    }
   },
   "outputs": [
    {
     "data": {
      "text/plain": [
       "array([7, 2, 1])"
      ]
     },
     "execution_count": 43,
     "metadata": {},
     "output_type": "execute_result"
    }
   ],
   "source": [
    "predictions[:3]"
   ]
  },
  {
   "cell_type": "code",
   "execution_count": 44,
   "metadata": {
    "ExecuteTime": {
     "end_time": "2021-06-17T16:51:50.966572Z",
     "start_time": "2021-06-17T16:51:50.929798Z"
    }
   },
   "outputs": [
    {
     "name": "stdout",
     "output_type": "stream",
     "text": [
      "[[ 975    0    3    0    1    0    0    1    0    0]\n",
      " [   0 1128    4    0    0    1    1    1    0    0]\n",
      " [   1    1 1019    1    1    0    0    6    2    1]\n",
      " [   0    0    2  998    0    5    0    3    2    0]\n",
      " [   0    0    0    1  968    0    2    0    2    9]\n",
      " [   3    0    1    5    0  878    5    0    0    0]\n",
      " [   6    2    2    1    1    4  937    1    3    1]\n",
      " [   0    3   10    2    2    1    0 1004    2    4]\n",
      " [   6    0    2    2    2    1    2    3  952    4]\n",
      " [   3    3    0    3   11    4    0    4    5  976]]\n"
     ]
    }
   ],
   "source": [
    "print(confusion_matrix(test_y, predictions))"
   ]
  },
  {
   "cell_type": "code",
   "execution_count": 45,
   "metadata": {
    "ExecuteTime": {
     "end_time": "2021-06-17T16:51:50.997339Z",
     "start_time": "2021-06-17T16:51:50.969416Z"
    }
   },
   "outputs": [
    {
     "name": "stdout",
     "output_type": "stream",
     "text": [
      "              precision    recall  f1-score   support\n",
      "\n",
      "           0       0.98      0.99      0.99       980\n",
      "           1       0.99      0.99      0.99      1135\n",
      "           2       0.98      0.99      0.98      1032\n",
      "           3       0.99      0.99      0.99      1010\n",
      "           4       0.98      0.99      0.98       982\n",
      "           5       0.98      0.98      0.98       892\n",
      "           6       0.99      0.98      0.98       958\n",
      "           7       0.98      0.98      0.98      1028\n",
      "           8       0.98      0.98      0.98       974\n",
      "           9       0.98      0.97      0.97      1009\n",
      "\n",
      "    accuracy                           0.98     10000\n",
      "   macro avg       0.98      0.98      0.98     10000\n",
      "weighted avg       0.98      0.98      0.98     10000\n",
      "\n"
     ]
    }
   ],
   "source": [
    "print(classification_report(test_y, predictions))"
   ]
  },
  {
   "cell_type": "code",
   "execution_count": null,
   "metadata": {},
   "outputs": [],
   "source": []
  },
  {
   "cell_type": "markdown",
   "metadata": {},
   "source": []
  },
  {
   "cell_type": "code",
   "execution_count": null,
   "metadata": {},
   "outputs": [],
   "source": []
  }
 ],
 "metadata": {
  "kernelspec": {
   "display_name": "ml",
   "language": "python",
   "name": "ml"
  },
  "language_info": {
   "codemirror_mode": {
    "name": "ipython",
    "version": 3
   },
   "file_extension": ".py",
   "mimetype": "text/x-python",
   "name": "python",
   "nbconvert_exporter": "python",
   "pygments_lexer": "ipython3",
   "version": "3.7.10"
  },
  "toc": {
   "base_numbering": 1,
   "nav_menu": {},
   "number_sections": true,
   "sideBar": true,
   "skip_h1_title": false,
   "title_cell": "Table of Contents",
   "title_sidebar": "Contents",
   "toc_cell": false,
   "toc_position": {},
   "toc_section_display": true,
   "toc_window_display": false
  }
 },
 "nbformat": 4,
 "nbformat_minor": 4
}
