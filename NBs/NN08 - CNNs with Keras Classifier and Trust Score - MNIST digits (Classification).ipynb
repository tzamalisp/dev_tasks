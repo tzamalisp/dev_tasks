{
 "cells": [
  {
   "cell_type": "code",
   "execution_count": 1,
   "metadata": {},
   "outputs": [],
   "source": [
    "import os\n",
    "os.chdir(os.path.join(os.getcwd(),\"..\"))"
   ]
  },
  {
   "cell_type": "code",
   "execution_count": 2,
   "metadata": {},
   "outputs": [],
   "source": [
    "%load_ext autoreload\n",
    "%autoreload 2"
   ]
  },
  {
   "cell_type": "code",
   "execution_count": 3,
   "metadata": {},
   "outputs": [],
   "source": [
    "import warnings\n",
    "warnings.filterwarnings('ignore')"
   ]
  },
  {
   "cell_type": "code",
   "execution_count": 4,
   "metadata": {
    "ExecuteTime": {
     "end_time": "2021-06-17T16:48:46.828393Z",
     "start_time": "2021-06-17T16:48:40.309404Z"
    }
   },
   "outputs": [],
   "source": [
    "import numpy as np\n",
    "import os\n",
    "import pandas as pd\n",
    "\n",
    "import tensorflow as tf\n",
    "from tensorflow import keras\n",
    "\n",
    "# to make this notebook's output stable across runs\n",
    "np.random.seed(42)\n",
    "\n",
    "# To plot pretty figures\n",
    "%matplotlib inline\n",
    "import matplotlib as mpl\n",
    "import matplotlib.pyplot as plt\n",
    "mpl.rc('axes', labelsize=14)\n",
    "mpl.rc('xtick', labelsize=12)\n",
    "mpl.rc('ytick', labelsize=12)\n",
    "\n",
    "from sklearn.metrics import confusion_matrix, classification_report\n",
    "\n",
    "from tqdm.notebook import tqdm\n",
    "import yaml"
   ]
  },
  {
   "cell_type": "code",
   "execution_count": 5,
   "metadata": {},
   "outputs": [],
   "source": [
    "from tasks.nn.classifiers import build_model, keras_classifier"
   ]
  },
  {
   "cell_type": "markdown",
   "metadata": {},
   "source": [
    "# Load Dataset"
   ]
  },
  {
   "cell_type": "code",
   "execution_count": 6,
   "metadata": {
    "ExecuteTime": {
     "end_time": "2021-06-17T16:48:46.834634Z",
     "start_time": "2021-06-17T16:48:46.831281Z"
    }
   },
   "outputs": [],
   "source": [
    "digits_mnist = keras.datasets.mnist"
   ]
  },
  {
   "cell_type": "code",
   "execution_count": 7,
   "metadata": {
    "ExecuteTime": {
     "end_time": "2021-06-17T16:48:47.148004Z",
     "start_time": "2021-06-17T16:48:46.838239Z"
    }
   },
   "outputs": [],
   "source": [
    "(train_X, train_y), (test_X, test_y) = digits_mnist.load_data()"
   ]
  },
  {
   "cell_type": "code",
   "execution_count": 8,
   "metadata": {
    "ExecuteTime": {
     "end_time": "2021-06-17T16:48:47.156313Z",
     "start_time": "2021-06-17T16:48:47.149918Z"
    }
   },
   "outputs": [
    {
     "data": {
      "text/plain": [
       "array([7, 2, 1], dtype=uint8)"
      ]
     },
     "execution_count": 8,
     "metadata": {},
     "output_type": "execute_result"
    }
   ],
   "source": [
    "test_y[:3]"
   ]
  },
  {
   "cell_type": "code",
   "execution_count": 9,
   "metadata": {
    "ExecuteTime": {
     "end_time": "2021-06-17T16:48:47.163486Z",
     "start_time": "2021-06-17T16:48:47.159052Z"
    }
   },
   "outputs": [
    {
     "name": "stdout",
     "output_type": "stream",
     "text": [
      "Train: X=(60000, 28, 28), y=(60000,)\n",
      "Test: X=(10000, 28, 28), y=(10000,)\n"
     ]
    }
   ],
   "source": [
    "# summarize loaded dataset\n",
    "print('Train: X=%s, y=%s' % (train_X.shape, train_y.shape))\n",
    "print('Test: X=%s, y=%s' % (test_X.shape, test_y.shape))"
   ]
  },
  {
   "cell_type": "code",
   "execution_count": 10,
   "metadata": {
    "ExecuteTime": {
     "end_time": "2021-06-17T16:48:47.171943Z",
     "start_time": "2021-06-17T16:48:47.166223Z"
    }
   },
   "outputs": [
    {
     "data": {
      "text/plain": [
       "array([7, 2, 1], dtype=uint8)"
      ]
     },
     "execution_count": 10,
     "metadata": {},
     "output_type": "execute_result"
    }
   ],
   "source": [
    "test_y[:3]"
   ]
  },
  {
   "cell_type": "code",
   "execution_count": 11,
   "metadata": {
    "ExecuteTime": {
     "end_time": "2021-06-17T16:48:47.989545Z",
     "start_time": "2021-06-17T16:48:47.178787Z"
    }
   },
   "outputs": [
    {
     "data": {
      "image/png": "[encoded data removed]",
      "text/plain": [
       "<Figure size 432x288 with 9 Axes>"
      ]
     },
     "metadata": {
      "needs_background": "light"
     },
     "output_type": "display_data"
    }
   ],
   "source": [
    "# plot first few images\n",
    "for i in range(9):\n",
    "    # define subplot\n",
    "    plt.subplot(330 + 1 + i)\n",
    "    # plot raw pixel data\n",
    "    plt.imshow(train_X[i], cmap=plt.get_cmap('gray'))\n",
    "# show the figure\n",
    "plt.show()"
   ]
  },
  {
   "cell_type": "code",
   "execution_count": 12,
   "metadata": {
    "ExecuteTime": {
     "end_time": "2021-06-17T16:48:47.998139Z",
     "start_time": "2021-06-17T16:48:47.993845Z"
    }
   },
   "outputs": [],
   "source": [
    "# reshape dataset to have a single channel\n",
    "train_X = train_X.reshape((train_X.shape[0], 28, 28, 1))\n",
    "test_X = test_X.reshape((test_X.shape[0], 28, 28, 1))"
   ]
  },
  {
   "cell_type": "code",
   "execution_count": 13,
   "metadata": {
    "ExecuteTime": {
     "end_time": "2021-06-17T16:48:48.011121Z",
     "start_time": "2021-06-17T16:48:48.006049Z"
    }
   },
   "outputs": [],
   "source": [
    "# scale pixels\n",
    "def prep_pixels(train, test):\n",
    "    # convert from integers to floats\n",
    "    train_norm = train.astype('float32')\n",
    "    test_norm = test.astype('float32')\n",
    "    # normalize to range 0-1\n",
    "    train_norm = train_norm / 255.0\n",
    "    test_norm = test_norm / 255.0\n",
    "    # return normalized images\n",
    "    \n",
    "    return train_norm, test_norm"
   ]
  },
  {
   "cell_type": "code",
   "execution_count": 14,
   "metadata": {
    "ExecuteTime": {
     "end_time": "2021-06-17T16:48:48.281542Z",
     "start_time": "2021-06-17T16:48:48.015864Z"
    }
   },
   "outputs": [],
   "source": [
    "# prepare pixel data\n",
    "train_X, test_X = prep_pixels(train_X, test_X)"
   ]
  },
  {
   "cell_type": "code",
   "execution_count": 15,
   "metadata": {
    "ExecuteTime": {
     "end_time": "2021-06-17T16:48:48.288171Z",
     "start_time": "2021-06-17T16:48:48.283705Z"
    }
   },
   "outputs": [
    {
     "data": {
      "text/plain": [
       "(60000, 28, 28, 1)"
      ]
     },
     "execution_count": 15,
     "metadata": {},
     "output_type": "execute_result"
    }
   ],
   "source": [
    "train_X.shape"
   ]
  },
  {
   "cell_type": "code",
   "execution_count": 16,
   "metadata": {
    "ExecuteTime": {
     "end_time": "2021-06-17T16:48:48.295257Z",
     "start_time": "2021-06-17T16:48:48.290994Z"
    }
   },
   "outputs": [
    {
     "data": {
      "text/plain": [
       "(10000, 28, 28, 1)"
      ]
     },
     "execution_count": 16,
     "metadata": {},
     "output_type": "execute_result"
    }
   ],
   "source": [
    "test_X.shape"
   ]
  },
  {
   "cell_type": "markdown",
   "metadata": {},
   "source": [
    "# Create Classifier"
   ]
  },
  {
   "cell_type": "code",
   "execution_count": 17,
   "metadata": {},
   "outputs": [],
   "source": [
    "config_nn_path = os.path.join(os.getcwd(), \"tasks\", \"project_configuration\", \"nn_tuning.yaml\")\n",
    "with open(config_nn_path, 'r') as stream:\n",
    "    try:\n",
    "        config_nn = yaml.safe_load(stream)\n",
    "    except yaml.YAMLError as exc:\n",
    "        print(exc)"
   ]
  },
  {
   "cell_type": "code",
   "execution_count": 18,
   "metadata": {},
   "outputs": [
    {
     "name": "stdout",
     "output_type": "stream",
     "text": [
      "Model: \"sequential\"\n",
      "_________________________________________________________________\n",
      "Layer (type)                 Output Shape              Param #   \n",
      "=================================================================\n",
      "conv2d (Conv2D)              (None, 26, 26, 32)        320       \n",
      "_________________________________________________________________\n",
      "batch_normalization (BatchNo (None, 26, 26, 32)        128       \n",
      "_________________________________________________________________\n",
      "max_pooling2d (MaxPooling2D) (None, 13, 13, 32)        0         \n",
      "_________________________________________________________________\n",
      "flatten (Flatten)            (None, 5408)              0         \n",
      "_________________________________________________________________\n",
      "dense (Dense)                (None, 100)               540900    \n",
      "_________________________________________________________________\n",
      "batch_normalization_1 (Batch (None, 100)               400       \n",
      "_________________________________________________________________\n",
      "dense_1 (Dense)              (None, 10)                1010      \n",
      "=================================================================\n",
      "Total params: 542,758\n",
      "Trainable params: 542,494\n",
      "Non-trainable params: 264\n",
      "_________________________________________________________________\n"
     ]
    }
   ],
   "source": [
    "model = build_model()\n",
    "model.summary()"
   ]
  },
  {
   "cell_type": "code",
   "execution_count": 19,
   "metadata": {},
   "outputs": [],
   "source": [
    "keras.backend.clear_session()"
   ]
  },
  {
   "cell_type": "code",
   "execution_count": 20,
   "metadata": {
    "ExecuteTime": {
     "end_time": "2021-06-17T16:48:49.031803Z",
     "start_time": "2021-06-17T16:48:49.014591Z"
    }
   },
   "outputs": [
    {
     "name": "stdout",
     "output_type": "stream",
     "text": [
      "Classifier Parameters:\n",
      " {'epochs': 50, 'validation_split': 0.2, 'use_multiprocessing': True, 'shuffle': True, 'verbose': 1, 'build_fn': <function build_model at 0x7f99b9c26830>}\n"
     ]
    }
   ],
   "source": [
    "# grid mode: \"randomized\", \"gridsearch\"\n",
    "clf = keras_classifier(config=config_nn, clf_params=config_nn[\"clf_params\"], \n",
    "                       param_grid=config_nn[\"param_distribs\"], \n",
    "                       grid_mode=\"randomized\") "
   ]
  },
  {
   "cell_type": "markdown",
   "metadata": {},
   "source": [
    "# Train the Classifier"
   ]
  },
  {
   "cell_type": "code",
   "execution_count": 21,
   "metadata": {},
   "outputs": [],
   "source": [
    "from tensorflow.keras.callbacks import EarlyStopping, History"
   ]
  },
  {
   "cell_type": "code",
   "execution_count": 22,
   "metadata": {},
   "outputs": [],
   "source": [
    "callback_early_stopping = EarlyStopping(patience=20)"
   ]
  },
  {
   "cell_type": "code",
   "execution_count": 23,
   "metadata": {
    "ExecuteTime": {
     "end_time": "2021-06-17T16:51:48.381997Z",
     "start_time": "2021-06-17T16:48:49.034012Z"
    },
    "scrolled": true
   },
   "outputs": [
    {
     "name": "stdout",
     "output_type": "stream",
     "text": [
      "Fitting 3 folds for each of 2 candidates, totalling 6 fits\n",
      "Epoch 1/50\n",
      "250/250 [==============================] - 3s 3ms/step - loss: 0.3511 - accuracy: 0.9010 - val_loss: 0.4823 - val_accuracy: 0.9239\n",
      "Epoch 2/50\n",
      "250/250 [==============================] - 1s 2ms/step - loss: 0.1505 - accuracy: 0.9609 - val_loss: 0.1623 - val_accuracy: 0.9654\n",
      "Epoch 3/50\n",
      "250/250 [==============================] - 1s 2ms/step - loss: 0.1115 - accuracy: 0.9730 - val_loss: 0.1023 - val_accuracy: 0.9753\n",
      "Epoch 4/50\n",
      "250/250 [==============================] - 1s 2ms/step - loss: 0.0902 - accuracy: 0.9780 - val_loss: 0.0894 - val_accuracy: 0.9785\n",
      "Epoch 5/50\n",
      "250/250 [==============================] - 1s 2ms/step - loss: 0.0750 - accuracy: 0.9831 - val_loss: 0.0818 - val_accuracy: 0.9794\n",
      "Epoch 6/50\n",
      "250/250 [==============================] - 1s 2ms/step - loss: 0.0642 - accuracy: 0.9862 - val_loss: 0.0771 - val_accuracy: 0.9800\n",
      "Epoch 7/50\n",
      "250/250 [==============================] - 1s 2ms/step - loss: 0.0561 - accuracy: 0.9892 - val_loss: 0.0728 - val_accuracy: 0.9820\n",
      "Epoch 8/50\n",
      "250/250 [==============================] - 1s 2ms/step - loss: 0.0491 - accuracy: 0.9903 - val_loss: 0.0690 - val_accuracy: 0.9824\n",
      "Epoch 9/50\n",
      "250/250 [==============================] - 1s 2ms/step - loss: 0.0437 - accuracy: 0.9919 - val_loss: 0.0662 - val_accuracy: 0.9827\n",
      "Epoch 10/50\n",
      "250/250 [==============================] - 1s 2ms/step - loss: 0.0396 - accuracy: 0.9932 - val_loss: 0.0647 - val_accuracy: 0.9827\n",
      "Epoch 11/50\n",
      "250/250 [==============================] - 1s 2ms/step - loss: 0.0348 - accuracy: 0.9950 - val_loss: 0.0626 - val_accuracy: 0.9835\n",
      "Epoch 12/50\n",
      "250/250 [==============================] - 1s 2ms/step - loss: 0.0325 - accuracy: 0.9955 - val_loss: 0.0620 - val_accuracy: 0.9835\n",
      "Epoch 13/50\n",
      "250/250 [==============================] - 1s 2ms/step - loss: 0.0290 - accuracy: 0.9965 - val_loss: 0.0606 - val_accuracy: 0.9837\n",
      "Epoch 14/50\n",
      "250/250 [==============================] - 1s 2ms/step - loss: 0.0267 - accuracy: 0.9968 - val_loss: 0.0590 - val_accuracy: 0.9835\n",
      "Epoch 15/50\n",
      "250/250 [==============================] - 1s 2ms/step - loss: 0.0244 - accuracy: 0.9977 - val_loss: 0.0587 - val_accuracy: 0.9844\n",
      "Epoch 16/50\n",
      "250/250 [==============================] - 1s 2ms/step - loss: 0.0222 - accuracy: 0.9978 - val_loss: 0.0579 - val_accuracy: 0.9849\n",
      "Epoch 17/50\n",
      "250/250 [==============================] - 1s 2ms/step - loss: 0.0207 - accuracy: 0.9983 - val_loss: 0.0566 - val_accuracy: 0.9849\n",
      "Epoch 18/50\n",
      "250/250 [==============================] - 1s 2ms/step - loss: 0.0190 - accuracy: 0.9986 - val_loss: 0.0562 - val_accuracy: 0.9844\n",
      "Epoch 19/50\n",
      "250/250 [==============================] - 1s 2ms/step - loss: 0.0177 - accuracy: 0.9987 - val_loss: 0.0553 - val_accuracy: 0.9850\n",
      "Epoch 20/50\n",
      "250/250 [==============================] - 1s 2ms/step - loss: 0.0164 - accuracy: 0.9990 - val_loss: 0.0548 - val_accuracy: 0.9852\n",
      "Epoch 21/50\n",
      "250/250 [==============================] - 1s 2ms/step - loss: 0.0155 - accuracy: 0.9991 - val_loss: 0.0542 - val_accuracy: 0.9850\n",
      "Epoch 22/50\n",
      "250/250 [==============================] - 1s 2ms/step - loss: 0.0145 - accuracy: 0.9993 - val_loss: 0.0543 - val_accuracy: 0.9851\n",
      "Epoch 23/50\n",
      "250/250 [==============================] - 1s 2ms/step - loss: 0.0134 - accuracy: 0.9995 - val_loss: 0.0544 - val_accuracy: 0.9850\n",
      "Epoch 24/50\n",
      "250/250 [==============================] - 1s 2ms/step - loss: 0.0130 - accuracy: 0.9996 - val_loss: 0.0534 - val_accuracy: 0.9854\n",
      "Epoch 25/50\n",
      "250/250 [==============================] - 1s 2ms/step - loss: 0.0121 - accuracy: 0.9997 - val_loss: 0.0525 - val_accuracy: 0.9855\n",
      "Epoch 26/50\n",
      "250/250 [==============================] - 1s 2ms/step - loss: 0.0114 - accuracy: 0.9998 - val_loss: 0.0522 - val_accuracy: 0.9855\n",
      "Epoch 27/50\n",
      "250/250 [==============================] - 1s 2ms/step - loss: 0.0110 - accuracy: 0.9998 - val_loss: 0.0525 - val_accuracy: 0.9851\n",
      "Epoch 28/50\n",
      "250/250 [==============================] - 1s 2ms/step - loss: 0.0106 - accuracy: 0.9999 - val_loss: 0.0517 - val_accuracy: 0.9854\n",
      "Epoch 29/50\n",
      "250/250 [==============================] - 1s 2ms/step - loss: 0.0100 - accuracy: 0.9998 - val_loss: 0.0515 - val_accuracy: 0.9858\n",
      "Epoch 30/50\n",
      "250/250 [==============================] - 1s 2ms/step - loss: 0.0093 - accuracy: 1.0000 - val_loss: 0.0522 - val_accuracy: 0.9856\n",
      "Epoch 31/50\n",
      "250/250 [==============================] - 1s 2ms/step - loss: 0.0092 - accuracy: 0.9998 - val_loss: 0.0512 - val_accuracy: 0.9856\n",
      "Epoch 32/50\n",
      "250/250 [==============================] - 1s 2ms/step - loss: 0.0086 - accuracy: 0.9999 - val_loss: 0.0514 - val_accuracy: 0.9855\n",
      "Epoch 33/50\n",
      "250/250 [==============================] - 1s 2ms/step - loss: 0.0084 - accuracy: 1.0000 - val_loss: 0.0510 - val_accuracy: 0.9854\n",
      "Epoch 34/50\n",
      "250/250 [==============================] - 1s 2ms/step - loss: 0.0078 - accuracy: 1.0000 - val_loss: 0.0511 - val_accuracy: 0.9851\n",
      "Epoch 35/50\n",
      "250/250 [==============================] - 1s 2ms/step - loss: 0.0076 - accuracy: 0.9999 - val_loss: 0.0510 - val_accuracy: 0.9856\n",
      "Epoch 36/50\n",
      "250/250 [==============================] - 1s 2ms/step - loss: 0.0074 - accuracy: 1.0000 - val_loss: 0.0512 - val_accuracy: 0.9860\n",
      "Epoch 37/50\n",
      "250/250 [==============================] - 1s 2ms/step - loss: 0.0070 - accuracy: 0.9999 - val_loss: 0.0513 - val_accuracy: 0.9856\n",
      "Epoch 38/50\n",
      "250/250 [==============================] - 1s 2ms/step - loss: 0.0067 - accuracy: 1.0000 - val_loss: 0.0512 - val_accuracy: 0.9855\n",
      "Epoch 39/50\n",
      "250/250 [==============================] - 1s 2ms/step - loss: 0.0065 - accuracy: 1.0000 - val_loss: 0.0508 - val_accuracy: 0.9856\n",
      "Epoch 40/50\n",
      "250/250 [==============================] - 1s 2ms/step - loss: 0.0063 - accuracy: 1.0000 - val_loss: 0.0509 - val_accuracy: 0.9854\n",
      "Epoch 41/50\n",
      "250/250 [==============================] - 1s 2ms/step - loss: 0.0062 - accuracy: 1.0000 - val_loss: 0.0512 - val_accuracy: 0.9854\n",
      "Epoch 42/50\n",
      "250/250 [==============================] - 1s 2ms/step - loss: 0.0059 - accuracy: 1.0000 - val_loss: 0.0507 - val_accuracy: 0.9856\n",
      "Epoch 43/50\n",
      "250/250 [==============================] - 1s 2ms/step - loss: 0.0058 - accuracy: 1.0000 - val_loss: 0.0506 - val_accuracy: 0.9861\n",
      "Epoch 44/50\n",
      "250/250 [==============================] - 1s 2ms/step - loss: 0.0056 - accuracy: 1.0000 - val_loss: 0.0509 - val_accuracy: 0.9858\n",
      "Epoch 45/50\n",
      "250/250 [==============================] - 1s 2ms/step - loss: 0.0053 - accuracy: 1.0000 - val_loss: 0.0502 - val_accuracy: 0.9858\n",
      "Epoch 46/50\n",
      "250/250 [==============================] - 1s 2ms/step - loss: 0.0051 - accuracy: 1.0000 - val_loss: 0.0501 - val_accuracy: 0.9856\n",
      "Epoch 47/50\n",
      "250/250 [==============================] - 1s 2ms/step - loss: 0.0052 - accuracy: 1.0000 - val_loss: 0.0502 - val_accuracy: 0.9860\n",
      "Epoch 48/50\n",
      "250/250 [==============================] - 1s 2ms/step - loss: 0.0051 - accuracy: 1.0000 - val_loss: 0.0503 - val_accuracy: 0.9860\n",
      "Epoch 49/50\n",
      "250/250 [==============================] - 1s 2ms/step - loss: 0.0049 - accuracy: 1.0000 - val_loss: 0.0503 - val_accuracy: 0.9859\n",
      "Epoch 50/50\n",
      "250/250 [==============================] - 1s 2ms/step - loss: 0.0046 - accuracy: 1.0000 - val_loss: 0.0502 - val_accuracy: 0.9856\n",
      "157/157 [==============================] - 0s 1ms/step - loss: 0.0578 - accuracy: 0.9830\n",
      "[CV] END .....................................batch_size=128; total time=  29.4s\n",
      "Epoch 1/50\n",
      "250/250 [==============================] - 1s 2ms/step - loss: 0.3320 - accuracy: 0.9064 - val_loss: 0.3498 - val_accuracy: 0.9423\n",
      "Epoch 2/50\n",
      "250/250 [==============================] - 1s 2ms/step - loss: 0.1422 - accuracy: 0.9640 - val_loss: 0.1390 - val_accuracy: 0.9678\n",
      "Epoch 3/50\n",
      "250/250 [==============================] - 1s 2ms/step - loss: 0.1068 - accuracy: 0.9735 - val_loss: 0.1017 - val_accuracy: 0.9744\n",
      "Epoch 4/50\n",
      "250/250 [==============================] - 1s 2ms/step - loss: 0.0860 - accuracy: 0.9790 - val_loss: 0.0907 - val_accuracy: 0.9761\n",
      "Epoch 5/50\n",
      "250/250 [==============================] - 1s 2ms/step - loss: 0.0726 - accuracy: 0.9828 - val_loss: 0.0845 - val_accuracy: 0.9774\n",
      "Epoch 6/50\n",
      "250/250 [==============================] - 1s 2ms/step - loss: 0.0618 - accuracy: 0.9860 - val_loss: 0.0796 - val_accuracy: 0.9789\n"
     ]
    },
    {
     "name": "stdout",
     "output_type": "stream",
     "text": [
      "Epoch 7/50\n",
      "250/250 [==============================] - 1s 2ms/step - loss: 0.0541 - accuracy: 0.9884 - val_loss: 0.0777 - val_accuracy: 0.9786\n",
      "Epoch 8/50\n",
      "250/250 [==============================] - 1s 2ms/step - loss: 0.0475 - accuracy: 0.9908 - val_loss: 0.0726 - val_accuracy: 0.9800\n",
      "Epoch 9/50\n",
      "250/250 [==============================] - 1s 2ms/step - loss: 0.0427 - accuracy: 0.9923 - val_loss: 0.0697 - val_accuracy: 0.9812\n",
      "Epoch 10/50\n",
      "250/250 [==============================] - 1s 2ms/step - loss: 0.0383 - accuracy: 0.9935 - val_loss: 0.0672 - val_accuracy: 0.9820\n",
      "Epoch 11/50\n",
      "250/250 [==============================] - 1s 2ms/step - loss: 0.0346 - accuracy: 0.9948 - val_loss: 0.0669 - val_accuracy: 0.9812\n",
      "Epoch 12/50\n",
      "250/250 [==============================] - 1s 2ms/step - loss: 0.0320 - accuracy: 0.9952 - val_loss: 0.0648 - val_accuracy: 0.9818\n",
      "Epoch 13/50\n",
      "250/250 [==============================] - 1s 2ms/step - loss: 0.0289 - accuracy: 0.9962 - val_loss: 0.0632 - val_accuracy: 0.9822\n",
      "Epoch 14/50\n",
      "250/250 [==============================] - 1s 2ms/step - loss: 0.0257 - accuracy: 0.9973 - val_loss: 0.0633 - val_accuracy: 0.9824\n",
      "Epoch 15/50\n",
      "250/250 [==============================] - 1s 2ms/step - loss: 0.0245 - accuracy: 0.9975 - val_loss: 0.0627 - val_accuracy: 0.9816\n",
      "Epoch 16/50\n",
      "250/250 [==============================] - 1s 2ms/step - loss: 0.0221 - accuracy: 0.9981 - val_loss: 0.0609 - val_accuracy: 0.9831\n",
      "Epoch 17/50\n",
      "250/250 [==============================] - 1s 2ms/step - loss: 0.0206 - accuracy: 0.9985 - val_loss: 0.0607 - val_accuracy: 0.9827\n",
      "Epoch 18/50\n",
      "250/250 [==============================] - 1s 2ms/step - loss: 0.0191 - accuracy: 0.9988 - val_loss: 0.0600 - val_accuracy: 0.9834\n",
      "Epoch 19/50\n",
      "250/250 [==============================] - 1s 2ms/step - loss: 0.0177 - accuracy: 0.9990 - val_loss: 0.0598 - val_accuracy: 0.9835\n",
      "Epoch 20/50\n",
      "250/250 [==============================] - 1s 2ms/step - loss: 0.0169 - accuracy: 0.9991 - val_loss: 0.0582 - val_accuracy: 0.9837\n",
      "Epoch 21/50\n",
      "250/250 [==============================] - 1s 2ms/step - loss: 0.0153 - accuracy: 0.9995 - val_loss: 0.0591 - val_accuracy: 0.9830\n",
      "Epoch 22/50\n",
      "250/250 [==============================] - 1s 2ms/step - loss: 0.0145 - accuracy: 0.9995 - val_loss: 0.0585 - val_accuracy: 0.9837\n",
      "Epoch 23/50\n",
      "250/250 [==============================] - 1s 2ms/step - loss: 0.0139 - accuracy: 0.9995 - val_loss: 0.0578 - val_accuracy: 0.9839\n",
      "Epoch 24/50\n",
      "250/250 [==============================] - 1s 2ms/step - loss: 0.0132 - accuracy: 0.9995 - val_loss: 0.0573 - val_accuracy: 0.9836\n",
      "Epoch 25/50\n",
      "250/250 [==============================] - 1s 2ms/step - loss: 0.0125 - accuracy: 0.9996 - val_loss: 0.0575 - val_accuracy: 0.9839\n",
      "Epoch 26/50\n",
      "250/250 [==============================] - 1s 2ms/step - loss: 0.0119 - accuracy: 0.9996 - val_loss: 0.0572 - val_accuracy: 0.9839\n",
      "Epoch 27/50\n",
      "250/250 [==============================] - 1s 2ms/step - loss: 0.0109 - accuracy: 0.9998 - val_loss: 0.0564 - val_accuracy: 0.9846\n",
      "Epoch 28/50\n",
      "250/250 [==============================] - 1s 2ms/step - loss: 0.0105 - accuracy: 0.9999 - val_loss: 0.0561 - val_accuracy: 0.9847\n",
      "Epoch 29/50\n",
      "250/250 [==============================] - 1s 2ms/step - loss: 0.0102 - accuracy: 0.9998 - val_loss: 0.0555 - val_accuracy: 0.9841\n",
      "Epoch 30/50\n",
      "250/250 [==============================] - 1s 2ms/step - loss: 0.0095 - accuracy: 0.9998 - val_loss: 0.0559 - val_accuracy: 0.9843\n",
      "Epoch 31/50\n",
      "250/250 [==============================] - 1s 2ms/step - loss: 0.0092 - accuracy: 0.9999 - val_loss: 0.0553 - val_accuracy: 0.9843\n",
      "Epoch 32/50\n",
      "250/250 [==============================] - 1s 2ms/step - loss: 0.0088 - accuracy: 0.9999 - val_loss: 0.0553 - val_accuracy: 0.9844\n",
      "Epoch 33/50\n",
      "250/250 [==============================] - 1s 2ms/step - loss: 0.0085 - accuracy: 1.0000 - val_loss: 0.0554 - val_accuracy: 0.9843\n",
      "Epoch 34/50\n",
      "250/250 [==============================] - 1s 2ms/step - loss: 0.0081 - accuracy: 1.0000 - val_loss: 0.0552 - val_accuracy: 0.9844\n",
      "Epoch 35/50\n",
      "250/250 [==============================] - 1s 2ms/step - loss: 0.0080 - accuracy: 0.9999 - val_loss: 0.0552 - val_accuracy: 0.9849\n",
      "Epoch 36/50\n",
      "250/250 [==============================] - 1s 2ms/step - loss: 0.0076 - accuracy: 1.0000 - val_loss: 0.0544 - val_accuracy: 0.9845\n",
      "Epoch 37/50\n",
      "250/250 [==============================] - 1s 2ms/step - loss: 0.0073 - accuracy: 1.0000 - val_loss: 0.0545 - val_accuracy: 0.9847\n",
      "Epoch 38/50\n",
      "250/250 [==============================] - 1s 2ms/step - loss: 0.0071 - accuracy: 0.9999 - val_loss: 0.0544 - val_accuracy: 0.9845\n",
      "Epoch 39/50\n",
      "250/250 [==============================] - 1s 2ms/step - loss: 0.0068 - accuracy: 1.0000 - val_loss: 0.0547 - val_accuracy: 0.9839\n",
      "Epoch 40/50\n",
      "250/250 [==============================] - 1s 2ms/step - loss: 0.0065 - accuracy: 1.0000 - val_loss: 0.0547 - val_accuracy: 0.9843\n",
      "Epoch 41/50\n",
      "250/250 [==============================] - 1s 2ms/step - loss: 0.0063 - accuracy: 0.9999 - val_loss: 0.0545 - val_accuracy: 0.9845\n",
      "Epoch 42/50\n",
      "250/250 [==============================] - 1s 2ms/step - loss: 0.0062 - accuracy: 1.0000 - val_loss: 0.0541 - val_accuracy: 0.9843\n",
      "Epoch 43/50\n",
      "250/250 [==============================] - 1s 2ms/step - loss: 0.0061 - accuracy: 1.0000 - val_loss: 0.0543 - val_accuracy: 0.9845\n",
      "Epoch 44/50\n",
      "250/250 [==============================] - 1s 2ms/step - loss: 0.0058 - accuracy: 1.0000 - val_loss: 0.0543 - val_accuracy: 0.9846\n",
      "Epoch 45/50\n",
      "250/250 [==============================] - 1s 2ms/step - loss: 0.0057 - accuracy: 1.0000 - val_loss: 0.0546 - val_accuracy: 0.9839\n",
      "Epoch 46/50\n",
      "250/250 [==============================] - 1s 2ms/step - loss: 0.0054 - accuracy: 1.0000 - val_loss: 0.0539 - val_accuracy: 0.9845\n",
      "Epoch 47/50\n",
      "250/250 [==============================] - 1s 2ms/step - loss: 0.0054 - accuracy: 1.0000 - val_loss: 0.0537 - val_accuracy: 0.9847\n",
      "Epoch 48/50\n",
      "250/250 [==============================] - 1s 2ms/step - loss: 0.0051 - accuracy: 1.0000 - val_loss: 0.0540 - val_accuracy: 0.9845\n",
      "Epoch 49/50\n",
      "250/250 [==============================] - 1s 2ms/step - loss: 0.0050 - accuracy: 1.0000 - val_loss: 0.0538 - val_accuracy: 0.9845\n",
      "Epoch 50/50\n",
      "250/250 [==============================] - 1s 2ms/step - loss: 0.0049 - accuracy: 1.0000 - val_loss: 0.0540 - val_accuracy: 0.9849\n",
      "157/157 [==============================] - 0s 1ms/step - loss: 0.0615 - accuracy: 0.9822\n",
      "[CV] END .....................................batch_size=128; total time=  27.5s\n",
      "Epoch 1/50\n",
      "250/250 [==============================] - 1s 2ms/step - loss: 0.3580 - accuracy: 0.9002 - val_loss: 0.4564 - val_accuracy: 0.9255\n",
      "Epoch 2/50\n",
      "250/250 [==============================] - 1s 2ms/step - loss: 0.1546 - accuracy: 0.9607 - val_loss: 0.1727 - val_accuracy: 0.9590\n",
      "Epoch 3/50\n",
      "250/250 [==============================] - 1s 2ms/step - loss: 0.1131 - accuracy: 0.9718 - val_loss: 0.1250 - val_accuracy: 0.9657\n",
      "Epoch 4/50\n",
      "250/250 [==============================] - 1s 2ms/step - loss: 0.0899 - accuracy: 0.9793 - val_loss: 0.1108 - val_accuracy: 0.9697\n",
      "Epoch 5/50\n",
      "250/250 [==============================] - 1s 2ms/step - loss: 0.0737 - accuracy: 0.9834 - val_loss: 0.1012 - val_accuracy: 0.9715\n",
      "Epoch 6/50\n",
      "250/250 [==============================] - 1s 2ms/step - loss: 0.0630 - accuracy: 0.9867 - val_loss: 0.0942 - val_accuracy: 0.9741\n",
      "Epoch 7/50\n",
      "250/250 [==============================] - 1s 2ms/step - loss: 0.0536 - accuracy: 0.9901 - val_loss: 0.0887 - val_accuracy: 0.9743\n",
      "Epoch 8/50\n",
      "250/250 [==============================] - 1s 2ms/step - loss: 0.0473 - accuracy: 0.9918 - val_loss: 0.0850 - val_accuracy: 0.9761\n",
      "Epoch 9/50\n",
      "250/250 [==============================] - 1s 2ms/step - loss: 0.0411 - accuracy: 0.9937 - val_loss: 0.0826 - val_accuracy: 0.9768\n",
      "Epoch 10/50\n",
      "250/250 [==============================] - 1s 2ms/step - loss: 0.0371 - accuracy: 0.9948 - val_loss: 0.0808 - val_accuracy: 0.9778\n",
      "Epoch 11/50\n",
      "250/250 [==============================] - 1s 2ms/step - loss: 0.0336 - accuracy: 0.9956 - val_loss: 0.0788 - val_accuracy: 0.9775\n",
      "Epoch 12/50\n",
      "250/250 [==============================] - 1s 2ms/step - loss: 0.0302 - accuracy: 0.9963 - val_loss: 0.0770 - val_accuracy: 0.9786\n",
      "Epoch 13/50\n"
     ]
    },
    {
     "name": "stdout",
     "output_type": "stream",
     "text": [
      "250/250 [==============================] - 1s 2ms/step - loss: 0.0273 - accuracy: 0.9968 - val_loss: 0.0748 - val_accuracy: 0.9785\n",
      "Epoch 14/50\n",
      "250/250 [==============================] - 1s 2ms/step - loss: 0.0246 - accuracy: 0.9978 - val_loss: 0.0744 - val_accuracy: 0.9795\n",
      "Epoch 15/50\n",
      "250/250 [==============================] - 1s 2ms/step - loss: 0.0231 - accuracy: 0.9979 - val_loss: 0.0732 - val_accuracy: 0.9794\n",
      "Epoch 16/50\n",
      "250/250 [==============================] - 1s 2ms/step - loss: 0.0205 - accuracy: 0.9984 - val_loss: 0.0719 - val_accuracy: 0.9796\n",
      "Epoch 17/50\n",
      "250/250 [==============================] - 1s 2ms/step - loss: 0.0195 - accuracy: 0.9987 - val_loss: 0.0714 - val_accuracy: 0.9797\n",
      "Epoch 18/50\n",
      "250/250 [==============================] - 1s 2ms/step - loss: 0.0176 - accuracy: 0.9989 - val_loss: 0.0707 - val_accuracy: 0.9797\n",
      "Epoch 19/50\n",
      "250/250 [==============================] - 1s 2ms/step - loss: 0.0167 - accuracy: 0.9992 - val_loss: 0.0700 - val_accuracy: 0.9800\n",
      "Epoch 20/50\n",
      "250/250 [==============================] - 1s 2ms/step - loss: 0.0156 - accuracy: 0.9992 - val_loss: 0.0696 - val_accuracy: 0.9797\n",
      "Epoch 21/50\n",
      "250/250 [==============================] - 1s 2ms/step - loss: 0.0147 - accuracy: 0.9992 - val_loss: 0.0686 - val_accuracy: 0.9795\n",
      "Epoch 22/50\n",
      "250/250 [==============================] - 1s 2ms/step - loss: 0.0136 - accuracy: 0.9996 - val_loss: 0.0682 - val_accuracy: 0.9799\n",
      "Epoch 23/50\n",
      "250/250 [==============================] - 1s 2ms/step - loss: 0.0133 - accuracy: 0.9996 - val_loss: 0.0681 - val_accuracy: 0.9803\n",
      "Epoch 24/50\n",
      "250/250 [==============================] - 1s 2ms/step - loss: 0.0119 - accuracy: 0.9997 - val_loss: 0.0670 - val_accuracy: 0.9801\n",
      "Epoch 25/50\n",
      "250/250 [==============================] - 1s 2ms/step - loss: 0.0114 - accuracy: 0.9997 - val_loss: 0.0670 - val_accuracy: 0.9800\n",
      "Epoch 26/50\n",
      "250/250 [==============================] - 1s 2ms/step - loss: 0.0108 - accuracy: 0.9998 - val_loss: 0.0671 - val_accuracy: 0.9800\n",
      "Epoch 27/50\n",
      "250/250 [==============================] - 1s 2ms/step - loss: 0.0102 - accuracy: 0.9998 - val_loss: 0.0665 - val_accuracy: 0.9804\n",
      "Epoch 28/50\n",
      "250/250 [==============================] - 1s 2ms/step - loss: 0.0099 - accuracy: 0.9998 - val_loss: 0.0663 - val_accuracy: 0.9809\n",
      "Epoch 29/50\n",
      "250/250 [==============================] - 1s 2ms/step - loss: 0.0095 - accuracy: 0.9999 - val_loss: 0.0659 - val_accuracy: 0.9808\n",
      "Epoch 30/50\n",
      "250/250 [==============================] - 1s 2ms/step - loss: 0.0092 - accuracy: 0.9999 - val_loss: 0.0663 - val_accuracy: 0.9806\n",
      "Epoch 31/50\n",
      "250/250 [==============================] - 1s 2ms/step - loss: 0.0085 - accuracy: 0.9999 - val_loss: 0.0655 - val_accuracy: 0.9805\n",
      "Epoch 32/50\n",
      "250/250 [==============================] - 1s 2ms/step - loss: 0.0084 - accuracy: 0.9999 - val_loss: 0.0657 - val_accuracy: 0.9809\n",
      "Epoch 33/50\n",
      "250/250 [==============================] - 1s 2ms/step - loss: 0.0078 - accuracy: 1.0000 - val_loss: 0.0656 - val_accuracy: 0.9812\n",
      "Epoch 34/50\n",
      "250/250 [==============================] - 1s 2ms/step - loss: 0.0076 - accuracy: 1.0000 - val_loss: 0.0654 - val_accuracy: 0.9805\n",
      "Epoch 35/50\n",
      "250/250 [==============================] - 1s 2ms/step - loss: 0.0072 - accuracy: 1.0000 - val_loss: 0.0654 - val_accuracy: 0.9810\n",
      "Epoch 36/50\n",
      "250/250 [==============================] - 1s 2ms/step - loss: 0.0071 - accuracy: 1.0000 - val_loss: 0.0652 - val_accuracy: 0.9810\n",
      "Epoch 37/50\n",
      "250/250 [==============================] - 1s 2ms/step - loss: 0.0069 - accuracy: 0.9999 - val_loss: 0.0651 - val_accuracy: 0.9810\n",
      "Epoch 38/50\n",
      "250/250 [==============================] - 1s 2ms/step - loss: 0.0066 - accuracy: 1.0000 - val_loss: 0.0647 - val_accuracy: 0.9809\n",
      "Epoch 39/50\n",
      "250/250 [==============================] - 1s 2ms/step - loss: 0.0063 - accuracy: 1.0000 - val_loss: 0.0648 - val_accuracy: 0.9810\n",
      "Epoch 40/50\n",
      "250/250 [==============================] - 0s 2ms/step - loss: 0.0061 - accuracy: 1.0000 - val_loss: 0.0644 - val_accuracy: 0.9814\n",
      "Epoch 41/50\n",
      "250/250 [==============================] - 1s 2ms/step - loss: 0.0059 - accuracy: 1.0000 - val_loss: 0.0645 - val_accuracy: 0.9814\n",
      "Epoch 42/50\n",
      "250/250 [==============================] - 1s 2ms/step - loss: 0.0057 - accuracy: 1.0000 - val_loss: 0.0643 - val_accuracy: 0.9814\n",
      "Epoch 43/50\n",
      "250/250 [==============================] - 1s 2ms/step - loss: 0.0056 - accuracy: 1.0000 - val_loss: 0.0644 - val_accuracy: 0.9812\n",
      "Epoch 44/50\n",
      "250/250 [==============================] - 1s 2ms/step - loss: 0.0055 - accuracy: 1.0000 - val_loss: 0.0643 - val_accuracy: 0.9816\n",
      "Epoch 45/50\n",
      "250/250 [==============================] - 1s 2ms/step - loss: 0.0053 - accuracy: 1.0000 - val_loss: 0.0642 - val_accuracy: 0.9814\n",
      "Epoch 46/50\n",
      "250/250 [==============================] - 1s 2ms/step - loss: 0.0051 - accuracy: 1.0000 - val_loss: 0.0642 - val_accuracy: 0.9816\n",
      "Epoch 47/50\n",
      "250/250 [==============================] - 1s 2ms/step - loss: 0.0049 - accuracy: 1.0000 - val_loss: 0.0643 - val_accuracy: 0.9816\n",
      "Epoch 48/50\n",
      "250/250 [==============================] - 1s 2ms/step - loss: 0.0048 - accuracy: 1.0000 - val_loss: 0.0639 - val_accuracy: 0.9814\n",
      "Epoch 49/50\n",
      "250/250 [==============================] - 1s 2ms/step - loss: 0.0047 - accuracy: 1.0000 - val_loss: 0.0641 - val_accuracy: 0.9819\n",
      "Epoch 50/50\n",
      "250/250 [==============================] - 1s 2ms/step - loss: 0.0045 - accuracy: 1.0000 - val_loss: 0.0640 - val_accuracy: 0.9818\n",
      "157/157 [==============================] - 0s 1ms/step - loss: 0.0621 - accuracy: 0.9814\n",
      "[CV] END .....................................batch_size=128; total time=  27.3s\n",
      "Epoch 1/50\n",
      "125/125 [==============================] - 1s 3ms/step - loss: 0.4415 - accuracy: 0.8761 - val_loss: 0.8139 - val_accuracy: 0.9078\n",
      "Epoch 2/50\n",
      "125/125 [==============================] - 0s 3ms/step - loss: 0.1920 - accuracy: 0.9498 - val_loss: 0.4274 - val_accuracy: 0.9431\n",
      "Epoch 3/50\n",
      "125/125 [==============================] - 0s 3ms/step - loss: 0.1459 - accuracy: 0.9630 - val_loss: 0.2255 - val_accuracy: 0.9604\n",
      "Epoch 4/50\n",
      "125/125 [==============================] - 0s 3ms/step - loss: 0.1208 - accuracy: 0.9704 - val_loss: 0.1448 - val_accuracy: 0.9705\n",
      "Epoch 5/50\n",
      "125/125 [==============================] - 0s 3ms/step - loss: 0.1037 - accuracy: 0.9751 - val_loss: 0.1133 - val_accuracy: 0.9732\n",
      "Epoch 6/50\n",
      "125/125 [==============================] - 0s 3ms/step - loss: 0.0910 - accuracy: 0.9785 - val_loss: 0.1002 - val_accuracy: 0.9754\n",
      "Epoch 7/50\n",
      "125/125 [==============================] - 0s 3ms/step - loss: 0.0817 - accuracy: 0.9815 - val_loss: 0.0933 - val_accuracy: 0.9762\n",
      "Epoch 8/50\n",
      "125/125 [==============================] - 0s 3ms/step - loss: 0.0738 - accuracy: 0.9837 - val_loss: 0.0886 - val_accuracy: 0.9776\n",
      "Epoch 9/50\n",
      "125/125 [==============================] - 0s 3ms/step - loss: 0.0676 - accuracy: 0.9858 - val_loss: 0.0840 - val_accuracy: 0.9785\n",
      "Epoch 10/50\n",
      "125/125 [==============================] - 0s 3ms/step - loss: 0.0619 - accuracy: 0.9872 - val_loss: 0.0817 - val_accuracy: 0.9793\n",
      "Epoch 11/50\n",
      "125/125 [==============================] - 0s 3ms/step - loss: 0.0577 - accuracy: 0.9881 - val_loss: 0.0800 - val_accuracy: 0.9789\n",
      "Epoch 12/50\n",
      "125/125 [==============================] - 0s 3ms/step - loss: 0.0531 - accuracy: 0.9898 - val_loss: 0.0768 - val_accuracy: 0.9793\n",
      "Epoch 13/50\n",
      "125/125 [==============================] - 0s 3ms/step - loss: 0.0498 - accuracy: 0.9905 - val_loss: 0.0749 - val_accuracy: 0.9803\n",
      "Epoch 14/50\n",
      "125/125 [==============================] - 0s 3ms/step - loss: 0.0463 - accuracy: 0.9915 - val_loss: 0.0732 - val_accuracy: 0.9810\n",
      "Epoch 15/50\n",
      "125/125 [==============================] - 0s 3ms/step - loss: 0.0434 - accuracy: 0.9921 - val_loss: 0.0718 - val_accuracy: 0.9814\n",
      "Epoch 16/50\n",
      "125/125 [==============================] - 0s 3ms/step - loss: 0.0408 - accuracy: 0.9933 - val_loss: 0.0706 - val_accuracy: 0.9815\n",
      "Epoch 17/50\n",
      "125/125 [==============================] - 0s 3ms/step - loss: 0.0388 - accuracy: 0.9937 - val_loss: 0.0695 - val_accuracy: 0.9814\n",
      "Epoch 18/50\n",
      "125/125 [==============================] - 0s 3ms/step - loss: 0.0368 - accuracy: 0.9946 - val_loss: 0.0682 - val_accuracy: 0.9819\n",
      "Epoch 19/50\n"
     ]
    },
    {
     "name": "stdout",
     "output_type": "stream",
     "text": [
      "125/125 [==============================] - 0s 3ms/step - loss: 0.0342 - accuracy: 0.9952 - val_loss: 0.0670 - val_accuracy: 0.9824\n",
      "Epoch 20/50\n",
      "125/125 [==============================] - 0s 3ms/step - loss: 0.0326 - accuracy: 0.9959 - val_loss: 0.0666 - val_accuracy: 0.9824\n",
      "Epoch 21/50\n",
      "125/125 [==============================] - 0s 3ms/step - loss: 0.0312 - accuracy: 0.9957 - val_loss: 0.0658 - val_accuracy: 0.9826\n",
      "Epoch 22/50\n",
      "125/125 [==============================] - 0s 3ms/step - loss: 0.0296 - accuracy: 0.9962 - val_loss: 0.0654 - val_accuracy: 0.9822\n",
      "Epoch 23/50\n",
      "125/125 [==============================] - 0s 3ms/step - loss: 0.0281 - accuracy: 0.9967 - val_loss: 0.0638 - val_accuracy: 0.9826\n",
      "Epoch 24/50\n",
      "125/125 [==============================] - 0s 3ms/step - loss: 0.0270 - accuracy: 0.9967 - val_loss: 0.0633 - val_accuracy: 0.9834\n",
      "Epoch 25/50\n",
      "125/125 [==============================] - 0s 3ms/step - loss: 0.0254 - accuracy: 0.9972 - val_loss: 0.0630 - val_accuracy: 0.9834\n",
      "Epoch 26/50\n",
      "125/125 [==============================] - 0s 3ms/step - loss: 0.0248 - accuracy: 0.9972 - val_loss: 0.0624 - val_accuracy: 0.9836\n",
      "Epoch 27/50\n",
      "125/125 [==============================] - 0s 3ms/step - loss: 0.0233 - accuracy: 0.9977 - val_loss: 0.0615 - val_accuracy: 0.9839\n",
      "Epoch 28/50\n",
      "125/125 [==============================] - 0s 3ms/step - loss: 0.0223 - accuracy: 0.9983 - val_loss: 0.0614 - val_accuracy: 0.9835\n",
      "Epoch 29/50\n",
      "125/125 [==============================] - 0s 3ms/step - loss: 0.0215 - accuracy: 0.9981 - val_loss: 0.0606 - val_accuracy: 0.9841\n",
      "Epoch 30/50\n",
      "125/125 [==============================] - 0s 3ms/step - loss: 0.0206 - accuracy: 0.9983 - val_loss: 0.0611 - val_accuracy: 0.9840\n",
      "Epoch 31/50\n",
      "125/125 [==============================] - 0s 3ms/step - loss: 0.0196 - accuracy: 0.9987 - val_loss: 0.0600 - val_accuracy: 0.9843\n",
      "Epoch 32/50\n",
      "125/125 [==============================] - 0s 3ms/step - loss: 0.0191 - accuracy: 0.9985 - val_loss: 0.0598 - val_accuracy: 0.9843\n",
      "Epoch 33/50\n",
      "125/125 [==============================] - 0s 3ms/step - loss: 0.0184 - accuracy: 0.9988 - val_loss: 0.0596 - val_accuracy: 0.9837\n",
      "Epoch 34/50\n",
      "125/125 [==============================] - 0s 3ms/step - loss: 0.0176 - accuracy: 0.9990 - val_loss: 0.0594 - val_accuracy: 0.9841\n",
      "Epoch 35/50\n",
      "125/125 [==============================] - 0s 3ms/step - loss: 0.0169 - accuracy: 0.9991 - val_loss: 0.0587 - val_accuracy: 0.9847\n",
      "Epoch 36/50\n",
      "125/125 [==============================] - 0s 3ms/step - loss: 0.0163 - accuracy: 0.9992 - val_loss: 0.0586 - val_accuracy: 0.9846\n",
      "Epoch 37/50\n",
      "125/125 [==============================] - 0s 3ms/step - loss: 0.0157 - accuracy: 0.9992 - val_loss: 0.0584 - val_accuracy: 0.9841\n",
      "Epoch 38/50\n",
      "125/125 [==============================] - 0s 3ms/step - loss: 0.0151 - accuracy: 0.9992 - val_loss: 0.0581 - val_accuracy: 0.9841\n",
      "Epoch 39/50\n",
      "125/125 [==============================] - 0s 3ms/step - loss: 0.0146 - accuracy: 0.9995 - val_loss: 0.0578 - val_accuracy: 0.9845\n",
      "Epoch 40/50\n",
      "125/125 [==============================] - 0s 3ms/step - loss: 0.0143 - accuracy: 0.9996 - val_loss: 0.0577 - val_accuracy: 0.9845\n",
      "Epoch 41/50\n",
      "125/125 [==============================] - 0s 3ms/step - loss: 0.0138 - accuracy: 0.9996 - val_loss: 0.0572 - val_accuracy: 0.9845\n",
      "Epoch 42/50\n",
      "125/125 [==============================] - 0s 3ms/step - loss: 0.0134 - accuracy: 0.9996 - val_loss: 0.0572 - val_accuracy: 0.9841\n",
      "Epoch 43/50\n",
      "125/125 [==============================] - 0s 3ms/step - loss: 0.0129 - accuracy: 0.9997 - val_loss: 0.0572 - val_accuracy: 0.9846\n",
      "Epoch 44/50\n",
      "125/125 [==============================] - 0s 3ms/step - loss: 0.0125 - accuracy: 0.9996 - val_loss: 0.0570 - val_accuracy: 0.9843\n",
      "Epoch 45/50\n",
      "125/125 [==============================] - 0s 3ms/step - loss: 0.0120 - accuracy: 0.9997 - val_loss: 0.0566 - val_accuracy: 0.9847\n",
      "Epoch 46/50\n",
      "125/125 [==============================] - 0s 3ms/step - loss: 0.0120 - accuracy: 0.9998 - val_loss: 0.0568 - val_accuracy: 0.9844\n",
      "Epoch 47/50\n",
      "125/125 [==============================] - 0s 3ms/step - loss: 0.0115 - accuracy: 0.9998 - val_loss: 0.0565 - val_accuracy: 0.9843\n",
      "Epoch 48/50\n",
      "125/125 [==============================] - 0s 3ms/step - loss: 0.0115 - accuracy: 0.9997 - val_loss: 0.0563 - val_accuracy: 0.9847\n",
      "Epoch 49/50\n",
      "125/125 [==============================] - 0s 3ms/step - loss: 0.0109 - accuracy: 0.9998 - val_loss: 0.0561 - val_accuracy: 0.9851\n",
      "Epoch 50/50\n",
      "125/125 [==============================] - 0s 3ms/step - loss: 0.0105 - accuracy: 0.9998 - val_loss: 0.0561 - val_accuracy: 0.9852\n",
      "79/79 [==============================] - 0s 1ms/step - loss: 0.0608 - accuracy: 0.9829\n",
      "[CV] END .....................................batch_size=256; total time=  16.8s\n",
      "Epoch 1/50\n",
      "125/125 [==============================] - 1s 3ms/step - loss: 0.4570 - accuracy: 0.8716 - val_loss: 0.8748 - val_accuracy: 0.8399\n",
      "Epoch 2/50\n",
      "125/125 [==============================] - 0s 3ms/step - loss: 0.1991 - accuracy: 0.9496 - val_loss: 0.4982 - val_accuracy: 0.9040\n",
      "Epoch 3/50\n",
      "125/125 [==============================] - 0s 3ms/step - loss: 0.1524 - accuracy: 0.9622 - val_loss: 0.2442 - val_accuracy: 0.9545\n",
      "Epoch 4/50\n",
      "125/125 [==============================] - 0s 3ms/step - loss: 0.1262 - accuracy: 0.9701 - val_loss: 0.1461 - val_accuracy: 0.9695\n",
      "Epoch 5/50\n",
      "125/125 [==============================] - 0s 3ms/step - loss: 0.1078 - accuracy: 0.9752 - val_loss: 0.1135 - val_accuracy: 0.9734\n",
      "Epoch 6/50\n",
      "125/125 [==============================] - 0s 3ms/step - loss: 0.0948 - accuracy: 0.9784 - val_loss: 0.0987 - val_accuracy: 0.9760\n",
      "Epoch 7/50\n",
      "125/125 [==============================] - 0s 3ms/step - loss: 0.0848 - accuracy: 0.9814 - val_loss: 0.0911 - val_accuracy: 0.9779\n",
      "Epoch 8/50\n",
      "125/125 [==============================] - 0s 3ms/step - loss: 0.0764 - accuracy: 0.9835 - val_loss: 0.0861 - val_accuracy: 0.9789\n",
      "Epoch 9/50\n",
      "125/125 [==============================] - 0s 3ms/step - loss: 0.0690 - accuracy: 0.9859 - val_loss: 0.0830 - val_accuracy: 0.9796\n",
      "Epoch 10/50\n",
      "125/125 [==============================] - 0s 3ms/step - loss: 0.0635 - accuracy: 0.9876 - val_loss: 0.0794 - val_accuracy: 0.9808\n",
      "Epoch 11/50\n",
      "125/125 [==============================] - 0s 3ms/step - loss: 0.0585 - accuracy: 0.9888 - val_loss: 0.0769 - val_accuracy: 0.9806\n",
      "Epoch 12/50\n",
      "125/125 [==============================] - 0s 3ms/step - loss: 0.0542 - accuracy: 0.9901 - val_loss: 0.0746 - val_accuracy: 0.9810\n",
      "Epoch 13/50\n",
      "125/125 [==============================] - 0s 3ms/step - loss: 0.0505 - accuracy: 0.9906 - val_loss: 0.0736 - val_accuracy: 0.9820\n",
      "Epoch 14/50\n",
      "125/125 [==============================] - 0s 3ms/step - loss: 0.0466 - accuracy: 0.9922 - val_loss: 0.0712 - val_accuracy: 0.9824\n",
      "Epoch 15/50\n",
      "125/125 [==============================] - 0s 3ms/step - loss: 0.0438 - accuracy: 0.9931 - val_loss: 0.0697 - val_accuracy: 0.9826\n",
      "Epoch 16/50\n",
      "125/125 [==============================] - 0s 3ms/step - loss: 0.0411 - accuracy: 0.9935 - val_loss: 0.0689 - val_accuracy: 0.9824\n",
      "Epoch 17/50\n",
      "125/125 [==============================] - 0s 3ms/step - loss: 0.0385 - accuracy: 0.9945 - val_loss: 0.0673 - val_accuracy: 0.9826\n",
      "Epoch 18/50\n",
      "125/125 [==============================] - 0s 3ms/step - loss: 0.0363 - accuracy: 0.9950 - val_loss: 0.0665 - val_accuracy: 0.9829\n",
      "Epoch 19/50\n",
      "125/125 [==============================] - 0s 3ms/step - loss: 0.0345 - accuracy: 0.9954 - val_loss: 0.0660 - val_accuracy: 0.9825\n",
      "Epoch 20/50\n",
      "125/125 [==============================] - 0s 3ms/step - loss: 0.0322 - accuracy: 0.9965 - val_loss: 0.0652 - val_accuracy: 0.9826\n",
      "Epoch 21/50\n",
      "125/125 [==============================] - 0s 3ms/step - loss: 0.0307 - accuracy: 0.9964 - val_loss: 0.0641 - val_accuracy: 0.9830\n",
      "Epoch 22/50\n",
      "125/125 [==============================] - 0s 3ms/step - loss: 0.0290 - accuracy: 0.9969 - val_loss: 0.0634 - val_accuracy: 0.9829\n",
      "Epoch 23/50\n",
      "125/125 [==============================] - 0s 3ms/step - loss: 0.0278 - accuracy: 0.9971 - val_loss: 0.0627 - val_accuracy: 0.9831\n",
      "Epoch 24/50\n",
      "125/125 [==============================] - 0s 3ms/step - loss: 0.0263 - accuracy: 0.9975 - val_loss: 0.0619 - val_accuracy: 0.9833\n",
      "Epoch 25/50\n"
     ]
    },
    {
     "name": "stdout",
     "output_type": "stream",
     "text": [
      "125/125 [==============================] - 0s 3ms/step - loss: 0.0249 - accuracy: 0.9979 - val_loss: 0.0617 - val_accuracy: 0.9833\n",
      "Epoch 26/50\n",
      "125/125 [==============================] - 0s 3ms/step - loss: 0.0239 - accuracy: 0.9980 - val_loss: 0.0613 - val_accuracy: 0.9830\n",
      "Epoch 27/50\n",
      "125/125 [==============================] - 0s 3ms/step - loss: 0.0227 - accuracy: 0.9984 - val_loss: 0.0610 - val_accuracy: 0.9837\n",
      "Epoch 28/50\n",
      "125/125 [==============================] - 0s 3ms/step - loss: 0.0217 - accuracy: 0.9986 - val_loss: 0.0606 - val_accuracy: 0.9839\n",
      "Epoch 29/50\n",
      "125/125 [==============================] - 0s 3ms/step - loss: 0.0209 - accuracy: 0.9988 - val_loss: 0.0598 - val_accuracy: 0.9837\n",
      "Epoch 30/50\n",
      "125/125 [==============================] - 0s 3ms/step - loss: 0.0199 - accuracy: 0.9987 - val_loss: 0.0600 - val_accuracy: 0.9840\n",
      "Epoch 31/50\n",
      "125/125 [==============================] - 0s 3ms/step - loss: 0.0192 - accuracy: 0.9991 - val_loss: 0.0591 - val_accuracy: 0.9845\n",
      "Epoch 32/50\n",
      "125/125 [==============================] - 0s 3ms/step - loss: 0.0187 - accuracy: 0.9989 - val_loss: 0.0589 - val_accuracy: 0.9843\n",
      "Epoch 33/50\n",
      "125/125 [==============================] - 0s 3ms/step - loss: 0.0179 - accuracy: 0.9990 - val_loss: 0.0587 - val_accuracy: 0.9845\n",
      "Epoch 34/50\n",
      "125/125 [==============================] - 0s 3ms/step - loss: 0.0173 - accuracy: 0.9992 - val_loss: 0.0584 - val_accuracy: 0.9845\n",
      "Epoch 35/50\n",
      "125/125 [==============================] - 0s 3ms/step - loss: 0.0167 - accuracy: 0.9992 - val_loss: 0.0580 - val_accuracy: 0.9846\n",
      "Epoch 36/50\n",
      "125/125 [==============================] - 0s 3ms/step - loss: 0.0159 - accuracy: 0.9993 - val_loss: 0.0578 - val_accuracy: 0.9846\n",
      "Epoch 37/50\n",
      "125/125 [==============================] - 0s 3ms/step - loss: 0.0154 - accuracy: 0.9996 - val_loss: 0.0576 - val_accuracy: 0.9847\n",
      "Epoch 38/50\n",
      "125/125 [==============================] - 0s 3ms/step - loss: 0.0150 - accuracy: 0.9995 - val_loss: 0.0577 - val_accuracy: 0.9846\n",
      "Epoch 39/50\n",
      "125/125 [==============================] - 0s 3ms/step - loss: 0.0144 - accuracy: 0.9995 - val_loss: 0.0570 - val_accuracy: 0.9845\n",
      "Epoch 40/50\n",
      "125/125 [==============================] - 0s 3ms/step - loss: 0.0139 - accuracy: 0.9996 - val_loss: 0.0568 - val_accuracy: 0.9849\n",
      "Epoch 41/50\n",
      "125/125 [==============================] - 0s 3ms/step - loss: 0.0134 - accuracy: 0.9996 - val_loss: 0.0566 - val_accuracy: 0.9849\n",
      "Epoch 42/50\n",
      "125/125 [==============================] - 0s 3ms/step - loss: 0.0132 - accuracy: 0.9997 - val_loss: 0.0569 - val_accuracy: 0.9850\n",
      "Epoch 43/50\n",
      "125/125 [==============================] - 0s 3ms/step - loss: 0.0128 - accuracy: 0.9996 - val_loss: 0.0566 - val_accuracy: 0.9846\n",
      "Epoch 44/50\n",
      "125/125 [==============================] - 0s 3ms/step - loss: 0.0122 - accuracy: 0.9998 - val_loss: 0.0564 - val_accuracy: 0.9852\n",
      "Epoch 45/50\n",
      "125/125 [==============================] - 0s 3ms/step - loss: 0.0121 - accuracy: 0.9997 - val_loss: 0.0566 - val_accuracy: 0.9851\n",
      "Epoch 46/50\n",
      "125/125 [==============================] - 0s 3ms/step - loss: 0.0115 - accuracy: 0.9998 - val_loss: 0.0562 - val_accuracy: 0.9850\n",
      "Epoch 47/50\n",
      "125/125 [==============================] - 0s 3ms/step - loss: 0.0112 - accuracy: 0.9997 - val_loss: 0.0561 - val_accuracy: 0.9851\n",
      "Epoch 48/50\n",
      "125/125 [==============================] - 0s 3ms/step - loss: 0.0110 - accuracy: 0.9998 - val_loss: 0.0558 - val_accuracy: 0.9851\n",
      "Epoch 49/50\n",
      "125/125 [==============================] - 0s 3ms/step - loss: 0.0106 - accuracy: 0.9999 - val_loss: 0.0560 - val_accuracy: 0.9850\n",
      "Epoch 50/50\n",
      "125/125 [==============================] - 0s 3ms/step - loss: 0.0102 - accuracy: 0.9999 - val_loss: 0.0555 - val_accuracy: 0.9851\n",
      "79/79 [==============================] - 0s 1ms/step - loss: 0.0613 - accuracy: 0.9818\n",
      "[CV] END .....................................batch_size=256; total time=  16.8s\n",
      "Epoch 1/50\n",
      "125/125 [==============================] - 1s 3ms/step - loss: 0.4480 - accuracy: 0.8754 - val_loss: 0.8393 - val_accuracy: 0.8823\n",
      "Epoch 2/50\n",
      "125/125 [==============================] - 0s 3ms/step - loss: 0.1953 - accuracy: 0.9496 - val_loss: 0.4738 - val_accuracy: 0.9145\n",
      "Epoch 3/50\n",
      "125/125 [==============================] - 0s 3ms/step - loss: 0.1486 - accuracy: 0.9631 - val_loss: 0.2596 - val_accuracy: 0.9500\n",
      "Epoch 4/50\n",
      "125/125 [==============================] - 0s 3ms/step - loss: 0.1230 - accuracy: 0.9701 - val_loss: 0.1649 - val_accuracy: 0.9626\n",
      "Epoch 5/50\n",
      "125/125 [==============================] - 0s 3ms/step - loss: 0.1058 - accuracy: 0.9749 - val_loss: 0.1290 - val_accuracy: 0.9680\n",
      "Epoch 6/50\n",
      "125/125 [==============================] - 0s 3ms/step - loss: 0.0930 - accuracy: 0.9790 - val_loss: 0.1148 - val_accuracy: 0.9700\n",
      "Epoch 7/50\n",
      "125/125 [==============================] - 0s 3ms/step - loss: 0.0834 - accuracy: 0.9813 - val_loss: 0.1061 - val_accuracy: 0.9726\n",
      "Epoch 8/50\n",
      "125/125 [==============================] - 0s 3ms/step - loss: 0.0759 - accuracy: 0.9836 - val_loss: 0.1015 - val_accuracy: 0.9729\n",
      "Epoch 9/50\n",
      "125/125 [==============================] - 0s 3ms/step - loss: 0.0689 - accuracy: 0.9856 - val_loss: 0.0964 - val_accuracy: 0.9745\n",
      "Epoch 10/50\n",
      "125/125 [==============================] - 0s 3ms/step - loss: 0.0641 - accuracy: 0.9868 - val_loss: 0.0930 - val_accuracy: 0.9747\n",
      "Epoch 11/50\n",
      "125/125 [==============================] - 0s 3ms/step - loss: 0.0589 - accuracy: 0.9888 - val_loss: 0.0897 - val_accuracy: 0.9755\n",
      "Epoch 12/50\n",
      "125/125 [==============================] - 0s 3ms/step - loss: 0.0545 - accuracy: 0.9903 - val_loss: 0.0870 - val_accuracy: 0.9756\n",
      "Epoch 13/50\n",
      "125/125 [==============================] - 0s 3ms/step - loss: 0.0510 - accuracy: 0.9906 - val_loss: 0.0856 - val_accuracy: 0.9758\n",
      "Epoch 14/50\n",
      "125/125 [==============================] - 0s 3ms/step - loss: 0.0476 - accuracy: 0.9919 - val_loss: 0.0831 - val_accuracy: 0.9764\n",
      "Epoch 15/50\n",
      "125/125 [==============================] - 0s 3ms/step - loss: 0.0449 - accuracy: 0.9925 - val_loss: 0.0818 - val_accuracy: 0.9768\n",
      "Epoch 16/50\n",
      "125/125 [==============================] - 0s 3ms/step - loss: 0.0421 - accuracy: 0.9931 - val_loss: 0.0799 - val_accuracy: 0.9771\n",
      "Epoch 17/50\n",
      "125/125 [==============================] - 0s 3ms/step - loss: 0.0395 - accuracy: 0.9941 - val_loss: 0.0791 - val_accuracy: 0.9774\n",
      "Epoch 18/50\n",
      "125/125 [==============================] - 0s 3ms/step - loss: 0.0374 - accuracy: 0.9946 - val_loss: 0.0780 - val_accuracy: 0.9766\n",
      "Epoch 19/50\n",
      "125/125 [==============================] - 0s 3ms/step - loss: 0.0353 - accuracy: 0.9946 - val_loss: 0.0768 - val_accuracy: 0.9779\n",
      "Epoch 20/50\n",
      "125/125 [==============================] - 0s 3ms/step - loss: 0.0334 - accuracy: 0.9953 - val_loss: 0.0754 - val_accuracy: 0.9786\n",
      "Epoch 21/50\n",
      "125/125 [==============================] - 0s 3ms/step - loss: 0.0316 - accuracy: 0.9959 - val_loss: 0.0748 - val_accuracy: 0.9778\n",
      "Epoch 22/50\n",
      "125/125 [==============================] - 0s 3ms/step - loss: 0.0301 - accuracy: 0.9964 - val_loss: 0.0739 - val_accuracy: 0.9786\n",
      "Epoch 23/50\n",
      "125/125 [==============================] - 0s 3ms/step - loss: 0.0286 - accuracy: 0.9967 - val_loss: 0.0734 - val_accuracy: 0.9774\n",
      "Epoch 24/50\n",
      "125/125 [==============================] - 0s 3ms/step - loss: 0.0269 - accuracy: 0.9971 - val_loss: 0.0726 - val_accuracy: 0.9789\n",
      "Epoch 25/50\n",
      "125/125 [==============================] - 0s 3ms/step - loss: 0.0258 - accuracy: 0.9971 - val_loss: 0.0719 - val_accuracy: 0.9791\n",
      "Epoch 26/50\n",
      "125/125 [==============================] - 0s 3ms/step - loss: 0.0248 - accuracy: 0.9973 - val_loss: 0.0711 - val_accuracy: 0.9791\n",
      "Epoch 27/50\n",
      "125/125 [==============================] - 0s 3ms/step - loss: 0.0234 - accuracy: 0.9977 - val_loss: 0.0707 - val_accuracy: 0.9785\n",
      "Epoch 28/50\n",
      "125/125 [==============================] - 0s 3ms/step - loss: 0.0227 - accuracy: 0.9980 - val_loss: 0.0700 - val_accuracy: 0.9796\n",
      "Epoch 29/50\n",
      "125/125 [==============================] - 0s 3ms/step - loss: 0.0215 - accuracy: 0.9982 - val_loss: 0.0697 - val_accuracy: 0.9790\n",
      "Epoch 30/50\n",
      "125/125 [==============================] - 0s 3ms/step - loss: 0.0206 - accuracy: 0.9984 - val_loss: 0.0690 - val_accuracy: 0.9793\n",
      "Epoch 31/50\n"
     ]
    },
    {
     "name": "stdout",
     "output_type": "stream",
     "text": [
      "125/125 [==============================] - 0s 3ms/step - loss: 0.0197 - accuracy: 0.9986 - val_loss: 0.0687 - val_accuracy: 0.9789\n",
      "Epoch 32/50\n",
      "125/125 [==============================] - 0s 3ms/step - loss: 0.0192 - accuracy: 0.9987 - val_loss: 0.0684 - val_accuracy: 0.9794\n",
      "Epoch 33/50\n",
      "125/125 [==============================] - 0s 3ms/step - loss: 0.0182 - accuracy: 0.9989 - val_loss: 0.0679 - val_accuracy: 0.9799\n",
      "Epoch 34/50\n",
      "125/125 [==============================] - 0s 3ms/step - loss: 0.0176 - accuracy: 0.9989 - val_loss: 0.0677 - val_accuracy: 0.9794\n",
      "Epoch 35/50\n",
      "125/125 [==============================] - 0s 3ms/step - loss: 0.0172 - accuracy: 0.9990 - val_loss: 0.0676 - val_accuracy: 0.9787\n",
      "Epoch 36/50\n",
      "125/125 [==============================] - 0s 3ms/step - loss: 0.0166 - accuracy: 0.9990 - val_loss: 0.0666 - val_accuracy: 0.9801\n",
      "Epoch 37/50\n",
      "125/125 [==============================] - 0s 3ms/step - loss: 0.0158 - accuracy: 0.9992 - val_loss: 0.0666 - val_accuracy: 0.9801\n",
      "Epoch 38/50\n",
      "125/125 [==============================] - 0s 3ms/step - loss: 0.0152 - accuracy: 0.9995 - val_loss: 0.0663 - val_accuracy: 0.9804\n",
      "Epoch 39/50\n",
      "125/125 [==============================] - 0s 3ms/step - loss: 0.0150 - accuracy: 0.9994 - val_loss: 0.0660 - val_accuracy: 0.9803\n",
      "Epoch 40/50\n",
      "125/125 [==============================] - 0s 3ms/step - loss: 0.0141 - accuracy: 0.9995 - val_loss: 0.0658 - val_accuracy: 0.9799\n",
      "Epoch 41/50\n",
      "125/125 [==============================] - 0s 3ms/step - loss: 0.0138 - accuracy: 0.9997 - val_loss: 0.0655 - val_accuracy: 0.9805\n",
      "Epoch 42/50\n",
      "125/125 [==============================] - 0s 3ms/step - loss: 0.0136 - accuracy: 0.9996 - val_loss: 0.0652 - val_accuracy: 0.9808\n",
      "Epoch 43/50\n",
      "125/125 [==============================] - 0s 3ms/step - loss: 0.0127 - accuracy: 0.9997 - val_loss: 0.0651 - val_accuracy: 0.9805\n",
      "Epoch 44/50\n",
      "125/125 [==============================] - 0s 3ms/step - loss: 0.0125 - accuracy: 0.9998 - val_loss: 0.0647 - val_accuracy: 0.9803\n",
      "Epoch 45/50\n",
      "125/125 [==============================] - 0s 3ms/step - loss: 0.0120 - accuracy: 0.9998 - val_loss: 0.0644 - val_accuracy: 0.9809\n",
      "Epoch 46/50\n",
      "125/125 [==============================] - 0s 3ms/step - loss: 0.0119 - accuracy: 0.9997 - val_loss: 0.0641 - val_accuracy: 0.9810\n",
      "Epoch 47/50\n",
      "125/125 [==============================] - 0s 3ms/step - loss: 0.0115 - accuracy: 0.9998 - val_loss: 0.0641 - val_accuracy: 0.9809\n",
      "Epoch 48/50\n",
      "125/125 [==============================] - 0s 3ms/step - loss: 0.0111 - accuracy: 0.9998 - val_loss: 0.0639 - val_accuracy: 0.9810\n",
      "Epoch 49/50\n",
      "125/125 [==============================] - 0s 3ms/step - loss: 0.0108 - accuracy: 0.9998 - val_loss: 0.0638 - val_accuracy: 0.9805\n",
      "Epoch 50/50\n",
      "125/125 [==============================] - 0s 3ms/step - loss: 0.0106 - accuracy: 1.0000 - val_loss: 0.0637 - val_accuracy: 0.9808\n",
      "79/79 [==============================] - 0s 1ms/step - loss: 0.0651 - accuracy: 0.9805\n",
      "[CV] END .....................................batch_size=256; total time=  16.8s\n",
      "Epoch 1/50\n",
      "375/375 [==============================] - 1s 2ms/step - loss: 0.2801 - accuracy: 0.9237 - val_loss: 0.2256 - val_accuracy: 0.9565\n",
      "Epoch 2/50\n",
      "375/375 [==============================] - 1s 2ms/step - loss: 0.1226 - accuracy: 0.9686 - val_loss: 0.1087 - val_accuracy: 0.9734\n",
      "Epoch 3/50\n",
      "375/375 [==============================] - 1s 2ms/step - loss: 0.0904 - accuracy: 0.9779 - val_loss: 0.0868 - val_accuracy: 0.9782\n",
      "Epoch 4/50\n",
      "375/375 [==============================] - 1s 2ms/step - loss: 0.0737 - accuracy: 0.9827 - val_loss: 0.0785 - val_accuracy: 0.9795\n",
      "Epoch 5/50\n",
      "375/375 [==============================] - 1s 2ms/step - loss: 0.0617 - accuracy: 0.9859 - val_loss: 0.0733 - val_accuracy: 0.9810\n",
      "Epoch 6/50\n",
      "375/375 [==============================] - 1s 2ms/step - loss: 0.0528 - accuracy: 0.9884 - val_loss: 0.0677 - val_accuracy: 0.9817\n",
      "Epoch 7/50\n",
      "375/375 [==============================] - 1s 2ms/step - loss: 0.0463 - accuracy: 0.9900 - val_loss: 0.0640 - val_accuracy: 0.9827\n",
      "Epoch 8/50\n",
      "375/375 [==============================] - 1s 2ms/step - loss: 0.0406 - accuracy: 0.9918 - val_loss: 0.0623 - val_accuracy: 0.9833\n",
      "Epoch 9/50\n",
      "375/375 [==============================] - 1s 2ms/step - loss: 0.0364 - accuracy: 0.9932 - val_loss: 0.0594 - val_accuracy: 0.9828\n",
      "Epoch 10/50\n",
      "375/375 [==============================] - 1s 2ms/step - loss: 0.0325 - accuracy: 0.9941 - val_loss: 0.0586 - val_accuracy: 0.9830\n",
      "Epoch 11/50\n",
      "375/375 [==============================] - 1s 2ms/step - loss: 0.0296 - accuracy: 0.9949 - val_loss: 0.0563 - val_accuracy: 0.9838\n",
      "Epoch 12/50\n",
      "375/375 [==============================] - 1s 2ms/step - loss: 0.0268 - accuracy: 0.9958 - val_loss: 0.0555 - val_accuracy: 0.9840\n",
      "Epoch 13/50\n",
      "375/375 [==============================] - 1s 2ms/step - loss: 0.0246 - accuracy: 0.9965 - val_loss: 0.0552 - val_accuracy: 0.9839\n",
      "Epoch 14/50\n",
      "375/375 [==============================] - 1s 2ms/step - loss: 0.0226 - accuracy: 0.9968 - val_loss: 0.0543 - val_accuracy: 0.9838\n",
      "Epoch 15/50\n",
      "375/375 [==============================] - 1s 2ms/step - loss: 0.0205 - accuracy: 0.9974 - val_loss: 0.0535 - val_accuracy: 0.9843\n",
      "Epoch 16/50\n",
      "375/375 [==============================] - 1s 2ms/step - loss: 0.0190 - accuracy: 0.9979 - val_loss: 0.0530 - val_accuracy: 0.9845\n",
      "Epoch 17/50\n",
      "375/375 [==============================] - 1s 2ms/step - loss: 0.0175 - accuracy: 0.9982 - val_loss: 0.0521 - val_accuracy: 0.9848\n",
      "Epoch 18/50\n",
      "375/375 [==============================] - 1s 2ms/step - loss: 0.0160 - accuracy: 0.9984 - val_loss: 0.0518 - val_accuracy: 0.9842\n",
      "Epoch 19/50\n",
      "375/375 [==============================] - 1s 2ms/step - loss: 0.0151 - accuracy: 0.9988 - val_loss: 0.0517 - val_accuracy: 0.9846\n",
      "Epoch 20/50\n",
      "375/375 [==============================] - 1s 2ms/step - loss: 0.0141 - accuracy: 0.9988 - val_loss: 0.0514 - val_accuracy: 0.9848\n",
      "Epoch 21/50\n",
      "375/375 [==============================] - 1s 2ms/step - loss: 0.0133 - accuracy: 0.9991 - val_loss: 0.0515 - val_accuracy: 0.9846\n",
      "Epoch 22/50\n",
      "375/375 [==============================] - 1s 2ms/step - loss: 0.0122 - accuracy: 0.9993 - val_loss: 0.0512 - val_accuracy: 0.9843\n",
      "Epoch 23/50\n",
      "375/375 [==============================] - 1s 2ms/step - loss: 0.0115 - accuracy: 0.9993 - val_loss: 0.0510 - val_accuracy: 0.9848\n",
      "Epoch 24/50\n",
      "375/375 [==============================] - 1s 2ms/step - loss: 0.0110 - accuracy: 0.9994 - val_loss: 0.0507 - val_accuracy: 0.9847\n",
      "Epoch 25/50\n",
      "375/375 [==============================] - 1s 2ms/step - loss: 0.0104 - accuracy: 0.9996 - val_loss: 0.0506 - val_accuracy: 0.9849\n",
      "Epoch 26/50\n",
      "375/375 [==============================] - 1s 2ms/step - loss: 0.0099 - accuracy: 0.9996 - val_loss: 0.0499 - val_accuracy: 0.9852\n",
      "Epoch 27/50\n",
      "375/375 [==============================] - 1s 2ms/step - loss: 0.0094 - accuracy: 0.9997 - val_loss: 0.0501 - val_accuracy: 0.9847\n",
      "Epoch 28/50\n",
      "375/375 [==============================] - 1s 2ms/step - loss: 0.0089 - accuracy: 0.9998 - val_loss: 0.0497 - val_accuracy: 0.9849\n",
      "Epoch 29/50\n",
      "375/375 [==============================] - 1s 2ms/step - loss: 0.0085 - accuracy: 0.9998 - val_loss: 0.0498 - val_accuracy: 0.9852\n",
      "Epoch 30/50\n",
      "375/375 [==============================] - 1s 2ms/step - loss: 0.0078 - accuracy: 0.9999 - val_loss: 0.0497 - val_accuracy: 0.9850\n",
      "Epoch 31/50\n",
      "375/375 [==============================] - 1s 2ms/step - loss: 0.0076 - accuracy: 0.9998 - val_loss: 0.0494 - val_accuracy: 0.9850\n",
      "Epoch 32/50\n",
      "375/375 [==============================] - 1s 2ms/step - loss: 0.0072 - accuracy: 0.9999 - val_loss: 0.0496 - val_accuracy: 0.9847\n",
      "Epoch 33/50\n",
      "375/375 [==============================] - 1s 2ms/step - loss: 0.0071 - accuracy: 0.9998 - val_loss: 0.0494 - val_accuracy: 0.9852\n",
      "Epoch 34/50\n",
      "375/375 [==============================] - 1s 2ms/step - loss: 0.0067 - accuracy: 1.0000 - val_loss: 0.0493 - val_accuracy: 0.9849\n",
      "Epoch 35/50\n",
      "375/375 [==============================] - 1s 2ms/step - loss: 0.0065 - accuracy: 0.9999 - val_loss: 0.0491 - val_accuracy: 0.9856\n",
      "Epoch 36/50\n",
      "375/375 [==============================] - 1s 2ms/step - loss: 0.0062 - accuracy: 1.0000 - val_loss: 0.0490 - val_accuracy: 0.9855\n",
      "Epoch 37/50\n"
     ]
    },
    {
     "name": "stdout",
     "output_type": "stream",
     "text": [
      "375/375 [==============================] - 1s 2ms/step - loss: 0.0059 - accuracy: 0.9999 - val_loss: 0.0492 - val_accuracy: 0.9853\n",
      "Epoch 38/50\n",
      "375/375 [==============================] - 1s 2ms/step - loss: 0.0059 - accuracy: 0.9999 - val_loss: 0.0493 - val_accuracy: 0.9854\n",
      "Epoch 39/50\n",
      "375/375 [==============================] - 1s 2ms/step - loss: 0.0054 - accuracy: 1.0000 - val_loss: 0.0498 - val_accuracy: 0.9851\n",
      "Epoch 40/50\n",
      "375/375 [==============================] - 1s 2ms/step - loss: 0.0052 - accuracy: 0.9999 - val_loss: 0.0491 - val_accuracy: 0.9854\n",
      "Epoch 41/50\n",
      "375/375 [==============================] - 1s 2ms/step - loss: 0.0051 - accuracy: 1.0000 - val_loss: 0.0498 - val_accuracy: 0.9855\n",
      "Epoch 42/50\n",
      "375/375 [==============================] - 1s 2ms/step - loss: 0.0049 - accuracy: 1.0000 - val_loss: 0.0494 - val_accuracy: 0.9858\n",
      "Epoch 43/50\n",
      "375/375 [==============================] - 1s 2ms/step - loss: 0.0048 - accuracy: 1.0000 - val_loss: 0.0493 - val_accuracy: 0.9853\n",
      "Epoch 44/50\n",
      "375/375 [==============================] - 1s 2ms/step - loss: 0.0047 - accuracy: 1.0000 - val_loss: 0.0489 - val_accuracy: 0.9855\n",
      "Epoch 45/50\n",
      "375/375 [==============================] - 1s 2ms/step - loss: 0.0046 - accuracy: 0.9999 - val_loss: 0.0492 - val_accuracy: 0.9854\n",
      "Epoch 46/50\n",
      "375/375 [==============================] - 1s 2ms/step - loss: 0.0044 - accuracy: 1.0000 - val_loss: 0.0492 - val_accuracy: 0.9854\n",
      "Epoch 47/50\n",
      "375/375 [==============================] - 1s 2ms/step - loss: 0.0043 - accuracy: 1.0000 - val_loss: 0.0492 - val_accuracy: 0.9856\n",
      "Epoch 48/50\n",
      "375/375 [==============================] - 1s 2ms/step - loss: 0.0042 - accuracy: 1.0000 - val_loss: 0.0489 - val_accuracy: 0.9852\n",
      "Epoch 49/50\n",
      "375/375 [==============================] - 1s 2ms/step - loss: 0.0040 - accuracy: 1.0000 - val_loss: 0.0496 - val_accuracy: 0.9858\n",
      "Epoch 50/50\n",
      "375/375 [==============================] - 1s 2ms/step - loss: 0.0039 - accuracy: 1.0000 - val_loss: 0.0496 - val_accuracy: 0.9857\n"
     ]
    },
    {
     "data": {
      "text/plain": [
       "RandomizedSearchCV(cv=3,\n",
       "                   estimator=<tensorflow.python.keras.wrappers.scikit_learn.KerasClassifier object at 0x7f99b6542a90>,\n",
       "                   param_distributions={'batch_size': [128, 256]}, verbose=2)"
      ]
     },
     "execution_count": 23,
     "metadata": {},
     "output_type": "execute_result"
    }
   ],
   "source": [
    "clf.fit(train_X, train_y, callbacks=[callback_early_stopping])"
   ]
  },
  {
   "cell_type": "code",
   "execution_count": null,
   "metadata": {},
   "outputs": [],
   "source": []
  },
  {
   "cell_type": "code",
   "execution_count": 24,
   "metadata": {},
   "outputs": [
    {
     "data": {
      "text/plain": [
       "{'batch_size': 128}"
      ]
     },
     "execution_count": 24,
     "metadata": {},
     "output_type": "execute_result"
    }
   ],
   "source": [
    "clf.best_params_"
   ]
  },
  {
   "cell_type": "code",
   "execution_count": 25,
   "metadata": {},
   "outputs": [
    {
     "data": {
      "text/plain": [
       "0.9821999867757162"
      ]
     },
     "execution_count": 25,
     "metadata": {},
     "output_type": "execute_result"
    }
   ],
   "source": [
    "clf.best_score_"
   ]
  },
  {
   "cell_type": "code",
   "execution_count": 26,
   "metadata": {},
   "outputs": [
    {
     "data": {
      "text/plain": [
       "<tensorflow.python.keras.wrappers.scikit_learn.KerasClassifier at 0x7f99b655e4d0>"
      ]
     },
     "execution_count": 26,
     "metadata": {},
     "output_type": "execute_result"
    }
   ],
   "source": [
    "clf.best_estimator_"
   ]
  },
  {
   "cell_type": "code",
   "execution_count": 27,
   "metadata": {},
   "outputs": [
    {
     "name": "stdout",
     "output_type": "stream",
     "text": [
      "79/79 [==============================] - 0s 1ms/step - loss: 0.0483 - accuracy: 0.9845\n"
     ]
    },
    {
     "data": {
      "text/plain": [
       "0.984499990940094"
      ]
     },
     "execution_count": 27,
     "metadata": {},
     "output_type": "execute_result"
    }
   ],
   "source": [
    "clf.score(test_X, test_y)"
   ]
  },
  {
   "cell_type": "code",
   "execution_count": 28,
   "metadata": {},
   "outputs": [
    {
     "data": {
      "text/plain": [
       "<tensorflow.python.keras.engine.sequential.Sequential at 0x7f992c0deb90>"
      ]
     },
     "execution_count": 28,
     "metadata": {},
     "output_type": "execute_result"
    }
   ],
   "source": [
    "model = clf.best_estimator_.model\n",
    "model"
   ]
  },
  {
   "cell_type": "code",
   "execution_count": 29,
   "metadata": {},
   "outputs": [
    {
     "name": "stdout",
     "output_type": "stream",
     "text": [
      "313/313 [==============================] - 1s 1ms/step - loss: 0.0483 - accuracy: 0.9845\n",
      "> 98.450\n"
     ]
    }
   ],
   "source": [
    "# evaluate model on test dataset\n",
    "loss, acc = model.evaluate(test_X, test_y, verbose=1)\n",
    "print('> %.3f' % (acc * 100.0))"
   ]
  },
  {
   "cell_type": "markdown",
   "metadata": {},
   "source": [
    "# Train and Evaluate the best Classifier"
   ]
  },
  {
   "cell_type": "code",
   "execution_count": 30,
   "metadata": {},
   "outputs": [],
   "source": [
    "params = clf.best_params_"
   ]
  },
  {
   "cell_type": "code",
   "execution_count": 35,
   "metadata": {},
   "outputs": [
    {
     "data": {
      "text/plain": [
       "{'batch_size': 128}"
      ]
     },
     "execution_count": 35,
     "metadata": {},
     "output_type": "execute_result"
    }
   ],
   "source": [
    "params"
   ]
  },
  {
   "cell_type": "code",
   "execution_count": 31,
   "metadata": {},
   "outputs": [],
   "source": [
    "keras.backend.clear_session()"
   ]
  },
  {
   "cell_type": "code",
   "execution_count": 32,
   "metadata": {},
   "outputs": [],
   "source": [
    "model = build_model()"
   ]
  },
  {
   "cell_type": "code",
   "execution_count": 34,
   "metadata": {},
   "outputs": [
    {
     "name": "stdout",
     "output_type": "stream",
     "text": [
      "Epoch 1/50\n",
      "375/375 [==============================] - 1s 2ms/step - loss: 0.3035 - accuracy: 0.9151 - val_loss: 0.2693 - val_accuracy: 0.9461\n",
      "Epoch 2/50\n",
      "375/375 [==============================] - 1s 2ms/step - loss: 0.1300 - accuracy: 0.9664 - val_loss: 0.1142 - val_accuracy: 0.9700\n",
      "Epoch 3/50\n",
      "375/375 [==============================] - 1s 2ms/step - loss: 0.0951 - accuracy: 0.9755 - val_loss: 0.0936 - val_accuracy: 0.9753\n",
      "Epoch 4/50\n",
      "375/375 [==============================] - 1s 2ms/step - loss: 0.0761 - accuracy: 0.9811 - val_loss: 0.0848 - val_accuracy: 0.9778\n",
      "Epoch 5/50\n",
      "375/375 [==============================] - 1s 2ms/step - loss: 0.0637 - accuracy: 0.9849 - val_loss: 0.0783 - val_accuracy: 0.9793\n",
      "Epoch 6/50\n",
      "375/375 [==============================] - 1s 2ms/step - loss: 0.0549 - accuracy: 0.9872 - val_loss: 0.0748 - val_accuracy: 0.9795\n",
      "Epoch 7/50\n",
      "375/375 [==============================] - 1s 2ms/step - loss: 0.0476 - accuracy: 0.9897 - val_loss: 0.0704 - val_accuracy: 0.9802\n",
      "Epoch 8/50\n",
      "375/375 [==============================] - 1s 2ms/step - loss: 0.0418 - accuracy: 0.9914 - val_loss: 0.0684 - val_accuracy: 0.9813\n",
      "Epoch 9/50\n",
      "375/375 [==============================] - 1s 2ms/step - loss: 0.0370 - accuracy: 0.9927 - val_loss: 0.0660 - val_accuracy: 0.9818\n",
      "Epoch 10/50\n",
      "375/375 [==============================] - 1s 2ms/step - loss: 0.0333 - accuracy: 0.9936 - val_loss: 0.0642 - val_accuracy: 0.9817\n",
      "Epoch 11/50\n",
      "375/375 [==============================] - 1s 2ms/step - loss: 0.0299 - accuracy: 0.9949 - val_loss: 0.0624 - val_accuracy: 0.9827\n",
      "Epoch 12/50\n",
      "375/375 [==============================] - 1s 2ms/step - loss: 0.0272 - accuracy: 0.9956 - val_loss: 0.0612 - val_accuracy: 0.9821\n",
      "Epoch 13/50\n",
      "375/375 [==============================] - 1s 2ms/step - loss: 0.0250 - accuracy: 0.9966 - val_loss: 0.0603 - val_accuracy: 0.9828\n",
      "Epoch 14/50\n",
      "375/375 [==============================] - 1s 2ms/step - loss: 0.0226 - accuracy: 0.9969 - val_loss: 0.0596 - val_accuracy: 0.9830\n",
      "Epoch 15/50\n",
      "375/375 [==============================] - 1s 2ms/step - loss: 0.0209 - accuracy: 0.9975 - val_loss: 0.0587 - val_accuracy: 0.9827\n",
      "Epoch 16/50\n",
      "375/375 [==============================] - 1s 2ms/step - loss: 0.0192 - accuracy: 0.9978 - val_loss: 0.0585 - val_accuracy: 0.9829\n",
      "Epoch 17/50\n",
      "375/375 [==============================] - 1s 2ms/step - loss: 0.0176 - accuracy: 0.9982 - val_loss: 0.0575 - val_accuracy: 0.9833\n",
      "Epoch 18/50\n",
      "375/375 [==============================] - 1s 2ms/step - loss: 0.0166 - accuracy: 0.9985 - val_loss: 0.0580 - val_accuracy: 0.9827\n",
      "Epoch 19/50\n",
      "375/375 [==============================] - 1s 2ms/step - loss: 0.0152 - accuracy: 0.9988 - val_loss: 0.0576 - val_accuracy: 0.9829\n",
      "Epoch 20/50\n",
      "375/375 [==============================] - 1s 2ms/step - loss: 0.0143 - accuracy: 0.9990 - val_loss: 0.0568 - val_accuracy: 0.9831\n",
      "Epoch 21/50\n",
      "375/375 [==============================] - 1s 2ms/step - loss: 0.0133 - accuracy: 0.9990 - val_loss: 0.0572 - val_accuracy: 0.9838\n",
      "Epoch 22/50\n",
      "375/375 [==============================] - 1s 2ms/step - loss: 0.0124 - accuracy: 0.9992 - val_loss: 0.0565 - val_accuracy: 0.9836\n",
      "Epoch 23/50\n",
      "375/375 [==============================] - 1s 2ms/step - loss: 0.0116 - accuracy: 0.9994 - val_loss: 0.0562 - val_accuracy: 0.9837\n",
      "Epoch 24/50\n",
      "375/375 [==============================] - 1s 2ms/step - loss: 0.0111 - accuracy: 0.9995 - val_loss: 0.0562 - val_accuracy: 0.9837\n",
      "Epoch 25/50\n",
      "375/375 [==============================] - 1s 2ms/step - loss: 0.0104 - accuracy: 0.9995 - val_loss: 0.0556 - val_accuracy: 0.9833\n",
      "Epoch 26/50\n",
      "375/375 [==============================] - 1s 2ms/step - loss: 0.0098 - accuracy: 0.9996 - val_loss: 0.0552 - val_accuracy: 0.9836\n",
      "Epoch 27/50\n",
      "375/375 [==============================] - 1s 2ms/step - loss: 0.0093 - accuracy: 0.9996 - val_loss: 0.0557 - val_accuracy: 0.9836\n",
      "Epoch 28/50\n",
      "375/375 [==============================] - 1s 2ms/step - loss: 0.0088 - accuracy: 0.9997 - val_loss: 0.0555 - val_accuracy: 0.9834\n",
      "Epoch 29/50\n",
      "375/375 [==============================] - 1s 2ms/step - loss: 0.0083 - accuracy: 0.9999 - val_loss: 0.0550 - val_accuracy: 0.9837\n",
      "Epoch 30/50\n",
      "375/375 [==============================] - 1s 2ms/step - loss: 0.0079 - accuracy: 0.9998 - val_loss: 0.0549 - val_accuracy: 0.9842\n",
      "Epoch 31/50\n",
      "375/375 [==============================] - 1s 2ms/step - loss: 0.0075 - accuracy: 0.9999 - val_loss: 0.0548 - val_accuracy: 0.9836\n",
      "Epoch 32/50\n",
      "375/375 [==============================] - 1s 2ms/step - loss: 0.0073 - accuracy: 0.9998 - val_loss: 0.0549 - val_accuracy: 0.9842\n",
      "Epoch 33/50\n",
      "375/375 [==============================] - 1s 2ms/step - loss: 0.0069 - accuracy: 0.9999 - val_loss: 0.0545 - val_accuracy: 0.9846\n",
      "Epoch 34/50\n",
      "375/375 [==============================] - 1s 2ms/step - loss: 0.0067 - accuracy: 0.9999 - val_loss: 0.0541 - val_accuracy: 0.9846\n",
      "Epoch 35/50\n",
      "375/375 [==============================] - 1s 2ms/step - loss: 0.0065 - accuracy: 0.9999 - val_loss: 0.0546 - val_accuracy: 0.9837\n",
      "Epoch 36/50\n",
      "375/375 [==============================] - 1s 2ms/step - loss: 0.0062 - accuracy: 0.9999 - val_loss: 0.0545 - val_accuracy: 0.9843\n",
      "Epoch 37/50\n",
      "375/375 [==============================] - 1s 2ms/step - loss: 0.0060 - accuracy: 0.9999 - val_loss: 0.0547 - val_accuracy: 0.9839\n",
      "Epoch 38/50\n",
      "375/375 [==============================] - 1s 2ms/step - loss: 0.0057 - accuracy: 0.9999 - val_loss: 0.0545 - val_accuracy: 0.9846\n",
      "Epoch 39/50\n",
      "375/375 [==============================] - 1s 2ms/step - loss: 0.0056 - accuracy: 0.9999 - val_loss: 0.0545 - val_accuracy: 0.9836\n",
      "Epoch 40/50\n",
      "375/375 [==============================] - 1s 2ms/step - loss: 0.0053 - accuracy: 1.0000 - val_loss: 0.0544 - val_accuracy: 0.9838\n",
      "Epoch 41/50\n",
      "375/375 [==============================] - 1s 2ms/step - loss: 0.0051 - accuracy: 0.9999 - val_loss: 0.0541 - val_accuracy: 0.9843\n",
      "Epoch 42/50\n",
      "375/375 [==============================] - 1s 2ms/step - loss: 0.0050 - accuracy: 1.0000 - val_loss: 0.0543 - val_accuracy: 0.9846\n",
      "Epoch 43/50\n",
      "375/375 [==============================] - 1s 2ms/step - loss: 0.0048 - accuracy: 1.0000 - val_loss: 0.0540 - val_accuracy: 0.9843\n",
      "Epoch 44/50\n",
      "375/375 [==============================] - 1s 2ms/step - loss: 0.0047 - accuracy: 1.0000 - val_loss: 0.0541 - val_accuracy: 0.9843\n",
      "Epoch 45/50\n",
      "375/375 [==============================] - 1s 2ms/step - loss: 0.0045 - accuracy: 1.0000 - val_loss: 0.0543 - val_accuracy: 0.9842\n",
      "Epoch 46/50\n",
      "375/375 [==============================] - 1s 2ms/step - loss: 0.0044 - accuracy: 1.0000 - val_loss: 0.0539 - val_accuracy: 0.9842\n",
      "Epoch 47/50\n",
      "375/375 [==============================] - 1s 2ms/step - loss: 0.0043 - accuracy: 1.0000 - val_loss: 0.0538 - val_accuracy: 0.9842\n",
      "Epoch 48/50\n",
      "375/375 [==============================] - 1s 2ms/step - loss: 0.0042 - accuracy: 1.0000 - val_loss: 0.0541 - val_accuracy: 0.9844\n",
      "Epoch 49/50\n",
      "375/375 [==============================] - 1s 2ms/step - loss: 0.0040 - accuracy: 1.0000 - val_loss: 0.0538 - val_accuracy: 0.9841\n",
      "Epoch 50/50\n",
      "375/375 [==============================] - 1s 2ms/step - loss: 0.0039 - accuracy: 1.0000 - val_loss: 0.0536 - val_accuracy: 0.9841\n"
     ]
    }
   ],
   "source": [
    "history = model.fit(train_X,\n",
    "                    train_y,\n",
    "                    validation_split=config_nn[\"clf_params\"][\"validation_split\"],\n",
    "                    use_multiprocessing=config_nn[\"clf_params\"][\"use_multiprocessing\"],\n",
    "                    shuffle=config_nn[\"clf_params\"][\"shuffle\"],\n",
    "                    epochs=config_nn[\"clf_params\"][\"epochs\"],\n",
    "                    verbose = config_nn[\"clf_params\"][\"verbose\"], \n",
    "                    batch_size=params['batch_size'])"
   ]
  },
  {
   "cell_type": "code",
   "execution_count": 36,
   "metadata": {},
   "outputs": [
    {
     "data": {
      "text/plain": [
       "{'verbose': 1, 'epochs': 50, 'steps': 375}"
      ]
     },
     "execution_count": 36,
     "metadata": {},
     "output_type": "execute_result"
    }
   ],
   "source": [
    "history.params"
   ]
  },
  {
   "cell_type": "code",
   "execution_count": 37,
   "metadata": {},
   "outputs": [
    {
     "data": {
      "image/png": "[encoded data removed]",
      "text/plain": [
       "<Figure size 576x360 with 1 Axes>"
      ]
     },
     "metadata": {
      "needs_background": "light"
     },
     "output_type": "display_data"
    }
   ],
   "source": [
    "pd.DataFrame(history.history).plot(figsize=(8, 5))\n",
    "plt.grid(True)\n",
    "plt.gca().set_ylim(0, 1)\n",
    "plt.show()"
   ]
  },
  {
   "cell_type": "code",
   "execution_count": 38,
   "metadata": {},
   "outputs": [
    {
     "name": "stdout",
     "output_type": "stream",
     "text": [
      "313/313 [==============================] - 0s 1ms/step - loss: 0.0457 - accuracy: 0.9854\n",
      "> 98.540\n"
     ]
    }
   ],
   "source": [
    "# evaluate model on test dataset\n",
    "loss, acc = model.evaluate(test_X, test_y, verbose=1)\n",
    "print('> %.3f' % (acc * 100.0))"
   ]
  },
  {
   "cell_type": "code",
   "execution_count": 39,
   "metadata": {
    "ExecuteTime": {
     "end_time": "2021-06-17T16:51:50.910123Z",
     "start_time": "2021-06-17T16:51:49.871007Z"
    }
   },
   "outputs": [
    {
     "name": "stdout",
     "output_type": "stream",
     "text": [
      "313/313 [==============================] - 0s 724us/step\n"
     ]
    }
   ],
   "source": [
    "predictions = np.argmax(model.predict(test_X, verbose=1), axis=-1)"
   ]
  },
  {
   "cell_type": "code",
   "execution_count": 40,
   "metadata": {
    "ExecuteTime": {
     "end_time": "2021-06-17T16:51:50.916454Z",
     "start_time": "2021-06-17T16:51:50.912107Z"
    }
   },
   "outputs": [
    {
     "data": {
      "text/plain": [
       "(10000,)"
      ]
     },
     "execution_count": 40,
     "metadata": {},
     "output_type": "execute_result"
    }
   ],
   "source": [
    "predictions.shape"
   ]
  },
  {
   "cell_type": "code",
   "execution_count": 41,
   "metadata": {
    "ExecuteTime": {
     "end_time": "2021-06-17T16:51:50.927280Z",
     "start_time": "2021-06-17T16:51:50.919157Z"
    }
   },
   "outputs": [
    {
     "data": {
      "text/plain": [
       "array([7, 2, 1])"
      ]
     },
     "execution_count": 41,
     "metadata": {},
     "output_type": "execute_result"
    }
   ],
   "source": [
    "predictions[:3]"
   ]
  },
  {
   "cell_type": "code",
   "execution_count": 42,
   "metadata": {
    "ExecuteTime": {
     "end_time": "2021-06-17T16:51:50.966572Z",
     "start_time": "2021-06-17T16:51:50.929798Z"
    }
   },
   "outputs": [
    {
     "name": "stdout",
     "output_type": "stream",
     "text": [
      "[[ 975    0    1    0    0    1    1    1    0    1]\n",
      " [   0 1127    2    2    1    1    0    1    1    0]\n",
      " [   1    3 1016    0    2    0    2    6    2    0]\n",
      " [   0    0    4  995    0    5    0    2    3    1]\n",
      " [   0    0    2    0  971    0    2    0    0    7]\n",
      " [   2    0    0    8    0  878    3    1    0    0]\n",
      " [   3    3    0    0    2    3  943    0    4    0]\n",
      " [   0    4   10    0    0    1    0 1010    0    3]\n",
      " [   5    0    2    3    0    1    0    4  956    3]\n",
      " [   3    1    0    5    5    5    0    4    3  983]]\n"
     ]
    }
   ],
   "source": [
    "print(confusion_matrix(test_y, predictions))"
   ]
  },
  {
   "cell_type": "code",
   "execution_count": 43,
   "metadata": {
    "ExecuteTime": {
     "end_time": "2021-06-17T16:51:50.997339Z",
     "start_time": "2021-06-17T16:51:50.969416Z"
    }
   },
   "outputs": [
    {
     "name": "stdout",
     "output_type": "stream",
     "text": [
      "              precision    recall  f1-score   support\n",
      "\n",
      "           0       0.99      0.99      0.99       980\n",
      "           1       0.99      0.99      0.99      1135\n",
      "           2       0.98      0.98      0.98      1032\n",
      "           3       0.98      0.99      0.98      1010\n",
      "           4       0.99      0.99      0.99       982\n",
      "           5       0.98      0.98      0.98       892\n",
      "           6       0.99      0.98      0.99       958\n",
      "           7       0.98      0.98      0.98      1028\n",
      "           8       0.99      0.98      0.98       974\n",
      "           9       0.98      0.97      0.98      1009\n",
      "\n",
      "    accuracy                           0.99     10000\n",
      "   macro avg       0.99      0.99      0.99     10000\n",
      "weighted avg       0.99      0.99      0.99     10000\n",
      "\n"
     ]
    }
   ],
   "source": [
    "print(classification_report(test_y, predictions))"
   ]
  },
  {
   "cell_type": "code",
   "execution_count": null,
   "metadata": {},
   "outputs": [],
   "source": []
  },
  {
   "cell_type": "markdown",
   "metadata": {},
   "source": []
  },
  {
   "cell_type": "code",
   "execution_count": null,
   "metadata": {},
   "outputs": [],
   "source": []
  }
 ],
 "metadata": {
  "kernelspec": {
   "display_name": "ml",
   "language": "python",
   "name": "ml"
  },
  "language_info": {
   "codemirror_mode": {
    "name": "ipython",
    "version": 3
   },
   "file_extension": ".py",
   "mimetype": "text/x-python",
   "name": "python",
   "nbconvert_exporter": "python",
   "pygments_lexer": "ipython3",
   "version": "3.7.10"
  },
  "toc": {
   "base_numbering": 1,
   "nav_menu": {},
   "number_sections": true,
   "sideBar": true,
   "skip_h1_title": false,
   "title_cell": "Table of Contents",
   "title_sidebar": "Contents",
   "toc_cell": false,
   "toc_position": {},
   "toc_section_display": true,
   "toc_window_display": false
  }
 },
 "nbformat": 4,
 "nbformat_minor": 4
}
