{
 "cells": [
  {
   "cell_type": "markdown",
   "id": "49a9a7eb",
   "metadata": {},
   "source": [
    "# Trust Scores algorithm Applied to MNIST dataset\n",
    "\n",
    "It is important to know when a machine learning classifier’s predictions can be trusted. Relying on the classifier’s (uncalibrated) prediction probabilities is not optimal and can be improved upon. Trust scores measure the agreement between the classifier and a modified nearest neighbor classifier on the test set. The trust score is the ratio between the distance of the test instance to the nearest class different from the predicted class and the distance to the predicted class. Higher scores correspond to more trustworthy predictions. A score of 1 would mean that the distance to the predicted class is the same as to another class.\n",
    "\n",
    "The original paper on which the algorithm is based is called [To Trust Or Not To Trust A Classifier](https://arxiv.org/abs/1805.11783). The implementation borrows heavily from https://github.com/google/TrustScore, as does the example notebook.\n",
    "\n",
    "Trust scores work best for low to medium dimensional feature spaces. This notebook illustrates how you can **apply trust scores to high dimensional data** like images by adding an additional pre-processing step in the form of an [**auto-encoder**](https://en.wikipedia.org/wiki/Autoencoder) to reduce the dimensionality. Other dimension reduction techniques like **PCA** can be used as well.\n",
    "\n",
    "**References**: \n",
    "* https://docs.seldon.io/projects/alibi/en/stable/examples/trustscore_mnist.html"
   ]
  },
  {
   "cell_type": "code",
   "execution_count": 1,
   "id": "9bb02fe8",
   "metadata": {},
   "outputs": [],
   "source": [
    "import alibi"
   ]
  },
  {
   "cell_type": "markdown",
   "id": "34e39b89",
   "metadata": {},
   "source": [
    "List of the latest available model explanation algorithms"
   ]
  },
  {
   "cell_type": "code",
   "execution_count": 2,
   "id": "02a26bfe",
   "metadata": {},
   "outputs": [
    {
     "data": {
      "text/plain": [
       "['ALE',\n",
       " 'AnchorTabular',\n",
       " 'DistributedAnchorTabular',\n",
       " 'AnchorText',\n",
       " 'AnchorImage',\n",
       " 'CEM',\n",
       " 'CounterFactual',\n",
       " 'CounterFactualProto',\n",
       " 'plot_ale',\n",
       " 'IntegratedGradients']"
      ]
     },
     "execution_count": 2,
     "metadata": {},
     "output_type": "execute_result"
    }
   ],
   "source": [
    "alibi.explainers.__all__"
   ]
  },
  {
   "cell_type": "markdown",
   "id": "3ccd8918",
   "metadata": {},
   "source": [
    "Model confidence"
   ]
  },
  {
   "cell_type": "code",
   "execution_count": 3,
   "id": "ca52c4d4",
   "metadata": {},
   "outputs": [
    {
     "data": {
      "text/plain": [
       "['linearity_measure', 'LinearityMeasure', 'TrustScore']"
      ]
     },
     "execution_count": 3,
     "metadata": {},
     "output_type": "execute_result"
    }
   ],
   "source": [
    "alibi.confidence.__all__"
   ]
  },
  {
   "cell_type": "code",
   "execution_count": 4,
   "id": "a433f8bf",
   "metadata": {},
   "outputs": [],
   "source": [
    "import tensorflow as tf\n",
    "from tensorflow.keras.layers import Conv2D, Dense, Dropout, Flatten, MaxPooling2D, Input, UpSampling2D\n",
    "from tensorflow.keras.models import Model, load_model\n",
    "from tensorflow.keras.utils import to_categorical\n",
    "import matplotlib\n",
    "%matplotlib inline\n",
    "import matplotlib.cm as cm\n",
    "import matplotlib.pyplot as plt\n",
    "import numpy as np\n",
    "from sklearn.model_selection import StratifiedShuffleSplit\n",
    "from alibi.confidence import TrustScore"
   ]
  },
  {
   "cell_type": "markdown",
   "id": "93ce8de6",
   "metadata": {},
   "source": [
    "Load the data"
   ]
  },
  {
   "cell_type": "code",
   "execution_count": 5,
   "id": "44b59bdd",
   "metadata": {},
   "outputs": [
    {
     "name": "stdout",
     "output_type": "stream",
     "text": [
      "x_train shape: (60000, 28, 28) y_train shape: (60000,)\n"
     ]
    },
    {
     "data": {
      "image/png": "[encoded data removed]",
      "text/plain": [
       "<Figure size 432x288 with 1 Axes>"
      ]
     },
     "metadata": {
      "needs_background": "light"
     },
     "output_type": "display_data"
    }
   ],
   "source": [
    "(x_train, y_train), (x_test, y_test) = tf.keras.datasets.mnist.load_data()\n",
    "print('x_train shape:', x_train.shape, 'y_train shape:', y_train.shape)\n",
    "plt.gray()\n",
    "plt.imshow(x_test[0]);"
   ]
  },
  {
   "cell_type": "markdown",
   "id": "f4851f77",
   "metadata": {},
   "source": [
    "Prepare data: scale, reshape and categorize"
   ]
  },
  {
   "cell_type": "code",
   "execution_count": 6,
   "id": "435af113",
   "metadata": {},
   "outputs": [
    {
     "name": "stdout",
     "output_type": "stream",
     "text": [
      "x_train shape: (60000, 28, 28, 1) x_test shape: (10000, 28, 28, 1)\n",
      "y_train shape: (60000, 10) y_test shape: (10000, 10)\n"
     ]
    }
   ],
   "source": [
    "x_train = x_train.astype('float32') / 255\n",
    "x_test = x_test.astype('float32') / 255\n",
    "x_train = np.reshape(x_train, x_train.shape + (1,))\n",
    "x_test = np.reshape(x_test, x_test.shape + (1,))\n",
    "print('x_train shape:', x_train.shape, 'x_test shape:', x_test.shape)\n",
    "y_train = to_categorical(y_train)\n",
    "y_test = to_categorical(y_test)\n",
    "print('y_train shape:', y_train.shape, 'y_test shape:', y_test.shape)"
   ]
  },
  {
   "cell_type": "code",
   "execution_count": 7,
   "id": "0eadbb7e",
   "metadata": {},
   "outputs": [],
   "source": [
    "xmin, xmax = -.5, .5\n",
    "x_train = ((x_train - x_train.min()) / (x_train.max() - x_train.min())) * (xmax - xmin) + xmin\n",
    "x_test = ((x_test - x_test.min()) / (x_test.max() - x_test.min())) * (xmax - xmin) + xmin"
   ]
  },
  {
   "cell_type": "markdown",
   "id": "17552e5a",
   "metadata": {},
   "source": [
    "## Define and train model"
   ]
  },
  {
   "cell_type": "markdown",
   "id": "954e14e9",
   "metadata": {},
   "source": [
    "Create a simple softmax classifier"
   ]
  },
  {
   "cell_type": "code",
   "execution_count": 8,
   "id": "512595cc",
   "metadata": {},
   "outputs": [],
   "source": [
    "def sc_model():\n",
    "    x_in = Input(shape=(28, 28, 1))\n",
    "    x = Flatten()(x_in)\n",
    "    x_out = Dense(10, activation='softmax')(x)\n",
    "    sc = Model(inputs=x_in, outputs=x_out)\n",
    "    sc.compile(loss='categorical_crossentropy', optimizer='sgd', metrics=['accuracy'])\n",
    "    return sc"
   ]
  },
  {
   "cell_type": "markdown",
   "id": "73892ee8",
   "metadata": {},
   "source": [
    "Initiate and print model's summary"
   ]
  },
  {
   "cell_type": "code",
   "execution_count": 9,
   "id": "8054e63a",
   "metadata": {},
   "outputs": [
    {
     "name": "stdout",
     "output_type": "stream",
     "text": [
      "Model: \"model\"\n",
      "_________________________________________________________________\n",
      "Layer (type)                 Output Shape              Param #   \n",
      "=================================================================\n",
      "input_1 (InputLayer)         [(None, 28, 28, 1)]       0         \n",
      "_________________________________________________________________\n",
      "flatten (Flatten)            (None, 784)               0         \n",
      "_________________________________________________________________\n",
      "dense (Dense)                (None, 10)                7850      \n",
      "=================================================================\n",
      "Total params: 7,850\n",
      "Trainable params: 7,850\n",
      "Non-trainable params: 0\n",
      "_________________________________________________________________\n"
     ]
    }
   ],
   "source": [
    "sc = sc_model()\n",
    "sc.summary()"
   ]
  },
  {
   "cell_type": "markdown",
   "id": "f4e170de",
   "metadata": {},
   "source": [
    "Train the model"
   ]
  },
  {
   "cell_type": "code",
   "execution_count": 10,
   "id": "2944ded4",
   "metadata": {},
   "outputs": [
    {
     "name": "stdout",
     "output_type": "stream",
     "text": [
      "Epoch 1/5\n",
      "469/469 [==============================] - 9s 14ms/step - loss: 1.6183 - accuracy: 0.5551\n",
      "Epoch 2/5\n",
      "469/469 [==============================] - 6s 14ms/step - loss: 0.7474 - accuracy: 0.8360\n",
      "Epoch 3/5\n",
      "469/469 [==============================] - 7s 15ms/step - loss: 0.5924 - accuracy: 0.8559\n",
      "Epoch 4/5\n",
      "469/469 [==============================] - 6s 14ms/step - loss: 0.5246 - accuracy: 0.8699\n",
      "Epoch 5/5\n",
      "469/469 [==============================] - 7s 15ms/step - loss: 0.4814 - accuracy: 0.8763\n"
     ]
    }
   ],
   "source": [
    "sc.fit(x_train, y_train, batch_size=128, epochs=5);"
   ]
  },
  {
   "cell_type": "markdown",
   "id": "f7a8abe0",
   "metadata": {},
   "source": [
    "Evaluate the model on the test set"
   ]
  },
  {
   "cell_type": "code",
   "execution_count": 11,
   "id": "62fa8c2d",
   "metadata": {},
   "outputs": [
    {
     "name": "stdout",
     "output_type": "stream",
     "text": [
      "Test accuracy:  0.8845000267028809\n"
     ]
    }
   ],
   "source": [
    "score = sc.evaluate(x_test, y_test, verbose=0)\n",
    "print('Test accuracy: ', score[1])"
   ]
  },
  {
   "cell_type": "markdown",
   "id": "0373310a",
   "metadata": {},
   "source": [
    "## Define and train auto-encoder"
   ]
  },
  {
   "cell_type": "code",
   "execution_count": 12,
   "id": "8bdc1d73",
   "metadata": {},
   "outputs": [],
   "source": [
    "def ae_model():\n",
    "    # encoder\n",
    "    x_in = Input(shape=(28, 28, 1))\n",
    "    x = Conv2D(16, (3, 3), activation='relu', padding='same')(x_in)\n",
    "    x = MaxPooling2D((2, 2), padding='same')(x)\n",
    "    x = Conv2D(8, (3, 3), activation='relu', padding='same')(x)\n",
    "    x = MaxPooling2D((2, 2), padding='same')(x)\n",
    "    x = Conv2D(4, (3, 3), activation=None, padding='same')(x)\n",
    "    encoded = MaxPooling2D((2, 2), padding='same')(x)\n",
    "    encoder = Model(x_in, encoded)\n",
    "\n",
    "    # decoder\n",
    "    dec_in = Input(shape=(4, 4, 4))\n",
    "    x = Conv2D(4, (3, 3), activation='relu', padding='same')(dec_in)\n",
    "    x = UpSampling2D((2, 2))(x)\n",
    "    x = Conv2D(8, (3, 3), activation='relu', padding='same')(x)\n",
    "    x = UpSampling2D((2, 2))(x)\n",
    "    x = Conv2D(16, (3, 3), activation='relu')(x)\n",
    "    x = UpSampling2D((2, 2))(x)\n",
    "    decoded = Conv2D(1, (3, 3), activation=None, padding='same')(x)\n",
    "    decoder = Model(dec_in, decoded)\n",
    "\n",
    "    # autoencoder = encoder + decoder\n",
    "    x_out = decoder(encoder(x_in))\n",
    "    autoencoder = Model(x_in, x_out)\n",
    "    autoencoder.compile(optimizer='adam', loss='mse')\n",
    "\n",
    "    return autoencoder, encoder, decoder"
   ]
  },
  {
   "cell_type": "markdown",
   "id": "31a8c956",
   "metadata": {},
   "source": [
    "Initiate the models"
   ]
  },
  {
   "cell_type": "code",
   "execution_count": 13,
   "id": "66e45c1f",
   "metadata": {},
   "outputs": [],
   "source": [
    "ae, enc, dec = ae_model()"
   ]
  },
  {
   "cell_type": "code",
   "execution_count": 14,
   "id": "6f9c6df5",
   "metadata": {},
   "outputs": [
    {
     "name": "stdout",
     "output_type": "stream",
     "text": [
      "Model: \"model_3\"\n",
      "_________________________________________________________________\n",
      "Layer (type)                 Output Shape              Param #   \n",
      "=================================================================\n",
      "input_2 (InputLayer)         [(None, 28, 28, 1)]       0         \n",
      "_________________________________________________________________\n",
      "model_1 (Functional)         (None, 4, 4, 4)           1612      \n",
      "_________________________________________________________________\n",
      "model_2 (Functional)         (None, 28, 28, 1)         1757      \n",
      "=================================================================\n",
      "Total params: 3,369\n",
      "Trainable params: 3,369\n",
      "Non-trainable params: 0\n",
      "_________________________________________________________________\n"
     ]
    }
   ],
   "source": [
    "ae.summary()"
   ]
  },
  {
   "cell_type": "markdown",
   "id": "cd59f4a2",
   "metadata": {},
   "source": [
    "Train the model"
   ]
  },
  {
   "cell_type": "code",
   "execution_count": 15,
   "id": "8fea5e8d",
   "metadata": {},
   "outputs": [
    {
     "name": "stdout",
     "output_type": "stream",
     "text": [
      "Epoch 1/8\n",
      "469/469 [==============================] - 122s 241ms/step - loss: 0.0869 - val_loss: 0.0420\n",
      "Epoch 2/8\n",
      "469/469 [==============================] - 109s 233ms/step - loss: 0.0398 - val_loss: 0.0347\n",
      "Epoch 3/8\n",
      "469/469 [==============================] - 113s 240ms/step - loss: 0.0337 - val_loss: 0.0299\n",
      "Epoch 4/8\n",
      "469/469 [==============================] - 101s 216ms/step - loss: 0.0296 - val_loss: 0.0270\n",
      "Epoch 5/8\n",
      "469/469 [==============================] - 93s 198ms/step - loss: 0.0270 - val_loss: 0.0255\n",
      "Epoch 6/8\n",
      "469/469 [==============================] - 83s 177ms/step - loss: 0.0255 - val_loss: 0.0243\n",
      "Epoch 7/8\n",
      "469/469 [==============================] - 79s 168ms/step - loss: 0.0244 - val_loss: 0.0235\n",
      "Epoch 8/8\n",
      "469/469 [==============================] - 74s 158ms/step - loss: 0.0238 - val_loss: 0.0231\n"
     ]
    },
    {
     "data": {
      "text/plain": [
       "<tensorflow.python.keras.callbacks.History at 0x7fb28c456650>"
      ]
     },
     "execution_count": 15,
     "metadata": {},
     "output_type": "execute_result"
    }
   ],
   "source": [
    "ae.fit(x_train, x_train, batch_size=128, epochs=8, validation_data=(x_test, x_test))"
   ]
  },
  {
   "cell_type": "markdown",
   "id": "f26cb6ff",
   "metadata": {},
   "source": [
    "Save the models of the auto-encoder and the encoder"
   ]
  },
  {
   "cell_type": "code",
   "execution_count": 16,
   "id": "bca48892",
   "metadata": {},
   "outputs": [],
   "source": [
    "ae.save('mnist_ae.h5')\n",
    "enc.save('mnist_enc.h5')"
   ]
  },
  {
   "cell_type": "markdown",
   "id": "1da92d93",
   "metadata": {},
   "source": [
    "Load the models of the auto-encoder and the encoder"
   ]
  },
  {
   "cell_type": "code",
   "execution_count": 17,
   "id": "fe5a3d0f",
   "metadata": {},
   "outputs": [
    {
     "name": "stdout",
     "output_type": "stream",
     "text": [
      "WARNING:tensorflow:No training configuration found in the save file, so the model was *not* compiled. Compile it manually.\n"
     ]
    }
   ],
   "source": [
    "ae = load_model('mnist_ae.h5')\n",
    "enc = load_model('mnist_enc.h5')"
   ]
  },
  {
   "cell_type": "markdown",
   "id": "a7bcae19",
   "metadata": {},
   "source": [
    "## Trust Scores"
   ]
  },
  {
   "cell_type": "markdown",
   "id": "b7ba47bf",
   "metadata": {},
   "source": [
    "Initialize trust scores"
   ]
  },
  {
   "cell_type": "code",
   "execution_count": 18,
   "id": "fd19cd7a",
   "metadata": {},
   "outputs": [],
   "source": [
    "ts = TrustScore()"
   ]
  },
  {
   "cell_type": "markdown",
   "id": "bc987bf6",
   "metadata": {},
   "source": [
    "The key is to **fit and calculate the trust scores on the encoded instances**. The encoded data still needs to be reshaped from (60000, 4, 4, 4) to (60000, 64) to comply with the **k-d tree** format. This is handled internally"
   ]
  },
  {
   "cell_type": "code",
   "execution_count": 19,
   "id": "fe2d0518",
   "metadata": {},
   "outputs": [
    {
     "name": "stderr",
     "output_type": "stream",
     "text": [
      "Reshaping data from (60000, 4, 4, 4) to (60000, 64) so k-d trees can be built.\n"
     ]
    }
   ],
   "source": [
    "x_train_enc = enc.predict(x_train)\n",
    "ts.fit(x_train_enc, y_train, classes=10)  # 10 classes present in MNIST"
   ]
  },
  {
   "cell_type": "markdown",
   "id": "093881a3",
   "metadata": {},
   "source": [
    "Calculate the trust scores and closest not predicted classes of the predictions on the test set, using the distance to the 5th nearest neighbor in each class:"
   ]
  },
  {
   "cell_type": "code",
   "execution_count": 20,
   "id": "da50e220",
   "metadata": {},
   "outputs": [
    {
     "name": "stderr",
     "output_type": "stream",
     "text": [
      "Reshaping data from (1000, 4, 4, 4) to (1000, 64) so k-d trees can be queried.\n"
     ]
    }
   ],
   "source": [
    "n_samples = 1000 # calculate the trust scores for the first 1000 predictions on the test set\n",
    "x_test_enc = enc.predict(x_test[:n_samples])\n",
    "y_pred = sc.predict(x_test[:n_samples])\n",
    "score, closest_class = ts.score(x_test_enc[:n_samples], y_pred, k=5)"
   ]
  },
  {
   "cell_type": "markdown",
   "id": "8a672080",
   "metadata": {},
   "source": [
    "Inspect which predictions have low and high trust scores"
   ]
  },
  {
   "cell_type": "code",
   "execution_count": 21,
   "id": "b076ee29",
   "metadata": {},
   "outputs": [],
   "source": [
    "n = 5"
   ]
  },
  {
   "cell_type": "code",
   "execution_count": 22,
   "id": "e13cd022",
   "metadata": {},
   "outputs": [],
   "source": [
    "# lowest and highest trust scores\n",
    "idx_min, idx_max = np.argsort(score)[:n], np.argsort(score)[-n:]\n",
    "score_min, score_max = score[idx_min], score[idx_max]\n",
    "closest_min, closest_max = closest_class[idx_min], closest_class[idx_max]\n",
    "pred_min, pred_max = y_pred[idx_min], y_pred[idx_max]\n",
    "imgs_min, imgs_max = x_test[idx_min], x_test[idx_max]\n",
    "label_min, label_max = np.argmax(y_test[idx_min], axis=1), np.argmax(y_test[idx_max], axis=1)"
   ]
  },
  {
   "cell_type": "code",
   "execution_count": 23,
   "id": "447798b5",
   "metadata": {},
   "outputs": [],
   "source": [
    "# model confidence percentiles\n",
    "max_proba = y_pred.max(axis=1)"
   ]
  },
  {
   "cell_type": "code",
   "execution_count": 24,
   "id": "3388aeef",
   "metadata": {},
   "outputs": [],
   "source": [
    "# low score high confidence examples\n",
    "idx_low = np.where((max_proba>0.80) & (max_proba<0.9) & (score<1))[0][:n]\n",
    "score_low = score[idx_low]\n",
    "closest_low = closest_class[idx_low]\n",
    "pred_low = y_pred[idx_low]\n",
    "imgs_low = x_test[idx_low]\n",
    "label_low = np.argmax(y_test[idx_low], axis=1)"
   ]
  },
  {
   "cell_type": "markdown",
   "id": "01628225",
   "metadata": {},
   "source": [
    "### Low Trust Scores"
   ]
  },
  {
   "cell_type": "markdown",
   "id": "54253ebb",
   "metadata": {},
   "source": [
    "The image below makes clear that the low trust scores correspond to misclassified images. Because the trust scores are significantly below 1, they correctly identified that the images belong to another class than the predicted class, and identified that class."
   ]
  },
  {
   "cell_type": "code",
   "execution_count": 25,
   "id": "4577a37d",
   "metadata": {},
   "outputs": [
    {
     "data": {
      "image/png": "[encoded data removed]",
      "text/plain": [
       "<Figure size 1440x288 with 5 Axes>"
      ]
     },
     "metadata": {
      "needs_background": "light"
     },
     "output_type": "display_data"
    }
   ],
   "source": [
    "plt.figure(figsize=(20, 4))\n",
    "for i in range(n):\n",
    "    ax = plt.subplot(1, n, i+1)\n",
    "    plt.imshow(imgs_min[i].reshape(28, 28))\n",
    "    plt.title('Model prediction: {} (p={:.2f}) \\n Label: {} \\n Trust score: {:.3f}' \\\n",
    "              '\\n Closest other class: {}'.format(pred_min[i].argmax(),pred_min[i].max(),\n",
    "                                                  label_min[i], score_min[i], closest_min[i]), fontsize=14)\n",
    "    ax.get_xaxis().set_visible(False)\n",
    "    ax.get_yaxis().set_visible(False)\n",
    "plt.show()"
   ]
  },
  {
   "cell_type": "markdown",
   "id": "57f720ec",
   "metadata": {},
   "source": [
    "### High Trust Scores"
   ]
  },
  {
   "cell_type": "markdown",
   "id": "dc35d971",
   "metadata": {},
   "source": [
    "The high trust scores on the other hand all are very clear 1’s"
   ]
  },
  {
   "cell_type": "code",
   "execution_count": 26,
   "id": "3575a23b",
   "metadata": {},
   "outputs": [
    {
     "data": {
      "image/png": "[encoded data removed]",
      "text/plain": [
       "<Figure size 1440x288 with 5 Axes>"
      ]
     },
     "metadata": {
      "needs_background": "light"
     },
     "output_type": "display_data"
    }
   ],
   "source": [
    "plt.figure(figsize=(20, 4))\n",
    "for i in range(n):\n",
    "    ax = plt.subplot(1, n, i+1)\n",
    "    plt.imshow(imgs_max[i].reshape(28, 28))\n",
    "    plt.title('Model prediction: {} (p={:.2f}) \\n Label: {} \\n Trust score: {:.3f}' \\\n",
    "              '\\n Closest other class: {}'.format(pred_max[i].argmax(),pred_max[i].max(),\n",
    "                                                  label_max[i], score_max[i], closest_max[i]), fontsize=14)\n",
    "    ax.get_xaxis().set_visible(False)\n",
    "    ax.get_yaxis().set_visible(False)\n",
    "plt.show()"
   ]
  },
  {
   "cell_type": "markdown",
   "id": "0bb11d77",
   "metadata": {},
   "source": [
    "### High model confidence, low trust score\n",
    "\n",
    "Where trust scores really matter is when the predicted model confidence is relatively high (e.g. 𝑝∈[0.8,0.9]) but the corresponding trust score is low, this can indicate samples for which the model is overconfident.The trust score provides a diagnostic for finding these examples:"
   ]
  },
  {
   "cell_type": "code",
   "execution_count": 27,
   "id": "f55d106c",
   "metadata": {},
   "outputs": [
    {
     "data": {
      "image/png": "[encoded data removed]",
      "text/plain": [
       "<Figure size 1440x288 with 5 Axes>"
      ]
     },
     "metadata": {
      "needs_background": "light"
     },
     "output_type": "display_data"
    }
   ],
   "source": [
    "plt.figure(figsize=(20, 4))\n",
    "for i in range(n):\n",
    "    ax = plt.subplot(1, n, i+1)\n",
    "    plt.imshow(imgs_low[i].reshape(28, 28))\n",
    "    plt.title('Model prediction: {} (p={:.2f}) \\n Label: {} \\n Trust score: {:.3f}' \\\n",
    "              '\\n Closest other class: {}'.format(pred_low[i].argmax(),pred_low[i].max(),\n",
    "                                                  label_low[i], score_low[i], closest_low[i]), fontsize=14)\n",
    "    ax.get_xaxis().set_visible(False)\n",
    "    ax.get_yaxis().set_visible(False)\n",
    "plt.show()"
   ]
  },
  {
   "cell_type": "markdown",
   "id": "6aa23353",
   "metadata": {},
   "source": [
    "We can see several examples of an over-confident model predicting the wrong class, the low trust score, however, reveals that this is happening and the predictions should not be trusted despite the high model confidence.\n",
    "\n",
    "In the following section we will see that on average trust scores outperform the model confidence for identifying correctly classified samples."
   ]
  },
  {
   "cell_type": "markdown",
   "id": "5dd60f86",
   "metadata": {},
   "source": [
    "## Comparison of Trust Scores with model prediction probabilities"
   ]
  },
  {
   "cell_type": "markdown",
   "id": "7abbe7f5",
   "metadata": {},
   "source": [
    "Let’s compare the prediction probabilities from the classifier with the trust scores for each prediction by checking whether trust scores are better than the model’s prediction probabilities at identifying correctly classified examples.\n",
    "\n",
    "First we need to set up a couple of helper functions:"
   ]
  },
  {
   "cell_type": "markdown",
   "id": "1e9a552e",
   "metadata": {},
   "source": [
    "* Define a function that handles model training and predictions"
   ]
  },
  {
   "cell_type": "code",
   "execution_count": 28,
   "id": "fee21d5f",
   "metadata": {},
   "outputs": [],
   "source": [
    "def run_sc(X_train, y_train, X_test):\n",
    "    clf = sc_model()\n",
    "    clf.fit(X_train, y_train, batch_size=128, epochs=5, verbose=0)\n",
    "    y_pred_proba = clf.predict(X_test)\n",
    "    y_pred = np.argmax(y_pred_proba, axis=1)\n",
    "    probas = y_pred_proba[range(len(y_pred)), y_pred]  # probabilities of predicted class\n",
    "    return y_pred, probas"
   ]
  },
  {
   "cell_type": "markdown",
   "id": "80aea143",
   "metadata": {},
   "source": [
    "* Define the function that generates the precision plots"
   ]
  },
  {
   "cell_type": "code",
   "execution_count": 29,
   "id": "a012087f",
   "metadata": {},
   "outputs": [],
   "source": [
    "def plot_precision_curve(plot_title,\n",
    "                         percentiles,\n",
    "                         labels,\n",
    "                         final_tp,\n",
    "                         final_stderr,\n",
    "                         final_misclassification,\n",
    "                         colors = ['blue', 'darkorange', 'brown', 'red', 'purple']):\n",
    "\n",
    "    plt.title(plot_title, fontsize=18)\n",
    "    colors = colors + list(cm.rainbow(np.linspace(0, 1, len(final_tp))))\n",
    "    plt.xlabel(\"Percentile\", fontsize=14)\n",
    "    plt.ylabel(\"Precision\", fontsize=14)\n",
    "\n",
    "    for i, label in enumerate(labels):\n",
    "        ls = \"--\" if (\"Model\" in label) else \"-\"\n",
    "        plt.plot(percentiles, final_tp[i], ls, c=colors[i], label=label)\n",
    "        plt.fill_between(percentiles,\n",
    "                         final_tp[i] - final_stderr[i],\n",
    "                         final_tp[i] + final_stderr[i],\n",
    "                         color=colors[i],\n",
    "                         alpha=.1)\n",
    "\n",
    "    if 0. in percentiles:\n",
    "        plt.legend(loc=\"lower right\", fontsize=14)\n",
    "    else:\n",
    "        plt.legend(loc=\"upper left\", fontsize=14)\n",
    "    model_acc = 100 * (1 - final_misclassification)\n",
    "    plt.axvline(x=model_acc, linestyle=\"dotted\", color=\"black\")\n",
    "    plt.show()"
   ]
  },
  {
   "cell_type": "markdown",
   "id": "e780905b",
   "metadata": {},
   "source": [
    "* The function below trains the model on a number of folds, makes predictions, calculates the trust scores, and generates the precision curves to compare the trust scores with the model prediction probabilities:"
   ]
  },
  {
   "cell_type": "code",
   "execution_count": 30,
   "id": "c1e0c49a",
   "metadata": {},
   "outputs": [],
   "source": [
    "def run_precision_plt(X, y, nfolds, percentiles, run_model, test_size=.2,\n",
    "                      plt_title=\"\", plt_names=[], predict_correct=True, classes=10):\n",
    "\n",
    "    def stderr(L):\n",
    "        return np.std(L) / np.sqrt(len(L))\n",
    "\n",
    "    all_tp = [[[] for p in percentiles] for _ in plt_names]\n",
    "    misclassifications = []\n",
    "    mult = 1 if predict_correct else -1\n",
    "\n",
    "    folds = StratifiedShuffleSplit(n_splits=nfolds, test_size=test_size, random_state=0)\n",
    "    for train_idx, test_idx in folds.split(X, y):\n",
    "        # create train and test folds, train model and make predictions\n",
    "        X_train, y_train = X[train_idx, :], y[train_idx, :]\n",
    "        X_test, y_test = X[test_idx, :], y[test_idx, :]\n",
    "        y_pred, probas = run_model(X_train, y_train, X_test)\n",
    "        # target points are the correctly classified points\n",
    "        y_test_class = np.argmax(y_test, axis=1)\n",
    "        target_points = (np.where(y_pred == y_test_class)[0] if predict_correct else\n",
    "                         np.where(y_pred != y_test_class)[0])\n",
    "        final_curves = [probas]\n",
    "        # calculate trust scores\n",
    "        ts = TrustScore()\n",
    "        ts.fit(enc.predict(X_train), y_train, classes=classes)\n",
    "        scores, _ = ts.score(enc.predict(X_test), y_pred, k=5)\n",
    "        final_curves.append(scores)  # contains prediction probabilities and trust scores\n",
    "        # check where prediction probabilities and trust scores are above a certain percentage level\n",
    "        for p, perc in enumerate(percentiles):\n",
    "            high_proba = [np.where(mult * curve >= np.percentile(mult * curve, perc))[0] for curve in final_curves]\n",
    "            if 0 in map(len, high_proba):\n",
    "                continue\n",
    "            # calculate fraction of values above percentage level that are correctly (or incorrectly) classified\n",
    "            tp = [len(np.intersect1d(hp, target_points)) / (1. * len(hp)) for hp in high_proba]\n",
    "            for i in range(len(plt_names)):\n",
    "                all_tp[i][p].append(tp[i])  # for each percentile, store fraction of values above cutoff value\n",
    "        misclassifications.append(len(target_points) / (1. * len(X_test)))\n",
    "\n",
    "    # average over folds for each percentile\n",
    "    final_tp = [[] for _ in plt_names]\n",
    "    final_stderr = [[] for _ in plt_names]\n",
    "    for p, perc in enumerate(percentiles):\n",
    "        for i in range(len(plt_names)):\n",
    "            final_tp[i].append(np.mean(all_tp[i][p]))\n",
    "            final_stderr[i].append(stderr(all_tp[i][p]))\n",
    "\n",
    "    for i in range(len(all_tp)):\n",
    "        final_tp[i] = np.array(final_tp[i])\n",
    "        final_stderr[i] = np.array(final_stderr[i])\n",
    "\n",
    "    final_misclassification = np.mean(misclassifications)\n",
    "\n",
    "    # create plot\n",
    "    plot_precision_curve(plt_title, percentiles, plt_names, final_tp, final_stderr, final_misclassification)"
   ]
  },
  {
   "cell_type": "markdown",
   "id": "78ad3028",
   "metadata": {},
   "source": [
    "### Detect correctly classified examples"
   ]
  },
  {
   "cell_type": "markdown",
   "id": "50c5d2c0",
   "metadata": {},
   "source": [
    "The x-axis on the plot below shows the percentiles for the model prediction probabilities of the predicted class for each instance and for the trust scores. The y-axis represents the precision for each percentile. For each percentile level, we take the test examples whose trust score is above that percentile level and plot the percentage of those points that were correctly classified by the classifier. We do the same with the classifier’s own model confidence (i.e. softmax probabilities). For example, at percentile level 80, we take the top 20% scoring test examples based on the trust score and plot the percentage of those points that were correctly classified. We also plot the top 20% scoring test examples based on model probabilities and plot the percentage of those that were correctly classified. The vertical dotted line is the error of the classifier. The plots are an average over 2 folds of the dataset with 20% of the data kept for the test set.\n",
    "\n",
    "The **Trust Score and Model Confidence curves** then show that the model precision is typically higher when using the trust scores to rank the predictions compared to the model prediction probabilities."
   ]
  },
  {
   "cell_type": "code",
   "execution_count": 31,
   "id": "de63e649",
   "metadata": {},
   "outputs": [],
   "source": [
    "X = x_train\n",
    "y = y_train\n",
    "percentiles = [0 + 0.5 * i for i in range(200)]\n",
    "nfolds = 2\n",
    "plt_names = ['Model Confidence', 'Trust Score']\n",
    "plt_title = 'MNIST -- Softmax Classifier -- Predict Correct'"
   ]
  },
  {
   "cell_type": "code",
   "execution_count": 32,
   "id": "da91ac60",
   "metadata": {},
   "outputs": [
    {
     "name": "stderr",
     "output_type": "stream",
     "text": [
      "Reshaping data from (48000, 4, 4, 4) to (48000, 64) so k-d trees can be built.\n",
      "Reshaping data from (12000, 4, 4, 4) to (12000, 64) so k-d trees can be queried.\n",
      "Reshaping data from (48000, 4, 4, 4) to (48000, 64) so k-d trees can be built.\n",
      "Reshaping data from (12000, 4, 4, 4) to (12000, 64) so k-d trees can be queried.\n"
     ]
    },
    {
     "data": {
      "image/png": "[encoded data removed]",
      "text/plain": [
       "<Figure size 432x288 with 1 Axes>"
      ]
     },
     "metadata": {
      "needs_background": "light"
     },
     "output_type": "display_data"
    }
   ],
   "source": [
    "run_precision_plt(X, y, nfolds, percentiles, run_sc, plt_title=plt_title,\n",
    "                  plt_names=plt_names, predict_correct=True)"
   ]
  },
  {
   "cell_type": "code",
   "execution_count": null,
   "id": "4b5bf9fe",
   "metadata": {},
   "outputs": [],
   "source": []
  }
 ],
 "metadata": {
  "kernelspec": {
   "display_name": "ml",
   "language": "python",
   "name": "ml"
  },
  "language_info": {
   "codemirror_mode": {
    "name": "ipython",
    "version": 3
   },
   "file_extension": ".py",
   "mimetype": "text/x-python",
   "name": "python",
   "nbconvert_exporter": "python",
   "pygments_lexer": "ipython3",
   "version": "3.7.10"
  }
 },
 "nbformat": 4,
 "nbformat_minor": 5
}
