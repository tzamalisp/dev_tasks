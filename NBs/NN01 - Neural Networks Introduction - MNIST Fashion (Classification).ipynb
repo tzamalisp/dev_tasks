{
 "cells": [
  {
   "cell_type": "code",
   "execution_count": 1,
   "metadata": {
    "ExecuteTime": {
     "end_time": "2021-06-26T09:32:22.657005Z",
     "start_time": "2021-06-26T09:32:17.485345Z"
    }
   },
   "outputs": [],
   "source": [
    "import numpy as np\n",
    "import os\n",
    "import pandas as pd\n",
    "\n",
    "# To plot pretty figures\n",
    "%matplotlib inline\n",
    "import matplotlib as mpl\n",
    "import matplotlib.pyplot as plt\n",
    "mpl.rc('axes', labelsize=14)\n",
    "mpl.rc('xtick', labelsize=12)\n",
    "mpl.rc('ytick', labelsize=12)\n",
    "\n",
    "# tensorflow and related layers\n",
    "import tensorflow as tf\n",
    "from tensorflow import keras\n",
    "from tensorflow.keras import Sequential\n",
    "from tensorflow.keras.layers import Conv2D\n",
    "from tensorflow.keras.layers import MaxPooling2D\n",
    "from tensorflow.keras.layers import Dense\n",
    "from tensorflow.keras.layers import Flatten\n",
    "from tensorflow.keras.layers import BatchNormalization\n",
    "from tensorflow.keras.layers import Dropout\n",
    "from tensorflow.keras.layers import Activation\n",
    "\n",
    "# reports\n",
    "from sklearn.metrics import confusion_matrix, classification_report\n",
    "\n",
    "# progress status\n",
    "from tqdm.notebook import tqdm\n",
    "\n",
    "# to make this notebook's output stable across runs\n",
    "np.random.seed(42)\n",
    "tf.random.set_seed(42)"
   ]
  },
  {
   "cell_type": "code",
   "execution_count": 2,
   "metadata": {
    "ExecuteTime": {
     "end_time": "2021-06-26T09:32:22.663882Z",
     "start_time": "2021-06-26T09:32:22.659339Z"
    }
   },
   "outputs": [
    {
     "name": "stdout",
     "output_type": "stream",
     "text": [
      "Tensorflow version: 2.5.0\n",
      "Keras version: 2.5.0\n"
     ]
    }
   ],
   "source": [
    "print(\"Tensorflow version:\", tf.__version__)\n",
    "print(\"Keras version:\", keras.__version__)"
   ]
  },
  {
   "cell_type": "markdown",
   "metadata": {},
   "source": [
    "Define Model parameters"
   ]
  },
  {
   "cell_type": "code",
   "execution_count": 3,
   "metadata": {
    "ExecuteTime": {
     "end_time": "2021-06-26T09:32:22.672439Z",
     "start_time": "2021-06-26T09:32:22.667905Z"
    }
   },
   "outputs": [],
   "source": [
    "model_params = {\n",
    "    \"n_epochs\": 20,\n",
    "    \"batch_size\": 32,\n",
    "    \"activation_output\": \"softmax\",\n",
    "    \"loss\": \"sparse_categorical_crossentropy\",\n",
    "    \"optimizer\": keras.optimizers.SGD(learning_rate=0.01, momentum=0.9, nesterov=True),\n",
    "    \"metrics\": [\"accuracy\"]\n",
    "}"
   ]
  },
  {
   "cell_type": "markdown",
   "metadata": {},
   "source": [
    "# Load the Dataset"
   ]
  },
  {
   "cell_type": "markdown",
   "metadata": {},
   "source": [
    "Load the data from Keras"
   ]
  },
  {
   "cell_type": "code",
   "execution_count": 4,
   "metadata": {
    "ExecuteTime": {
     "end_time": "2021-06-26T09:32:23.089400Z",
     "start_time": "2021-06-26T09:32:22.675379Z"
    }
   },
   "outputs": [],
   "source": [
    "fashion_mnist = keras.datasets.fashion_mnist\n",
    "(X_train_full, y_train_full), (X_test, y_test) = fashion_mnist.load_data()"
   ]
  },
  {
   "cell_type": "markdown",
   "metadata": {},
   "source": [
    "Explore the data related to its shape, data type, and min/max value in the matrix"
   ]
  },
  {
   "cell_type": "code",
   "execution_count": 5,
   "metadata": {
    "ExecuteTime": {
     "end_time": "2021-06-26T09:32:23.096393Z",
     "start_time": "2021-06-26T09:32:23.091382Z"
    }
   },
   "outputs": [
    {
     "name": "stdout",
     "output_type": "stream",
     "text": [
      "X train data shape: (60000, 28, 28)\n",
      "y train data shape: (60000,)\n",
      "X test data shape: (10000, 28, 28)\n",
      "y test data shape: (10000,)\n"
     ]
    }
   ],
   "source": [
    "print(\"X train data shape:\", X_train_full.shape)\n",
    "print(\"y train data shape:\", y_train_full.shape)\n",
    "print(\"X test data shape:\", X_test.shape)\n",
    "print(\"y test data shape:\", y_test.shape)"
   ]
  },
  {
   "cell_type": "code",
   "execution_count": 6,
   "metadata": {
    "ExecuteTime": {
     "end_time": "2021-06-26T09:32:23.103729Z",
     "start_time": "2021-06-26T09:32:23.099005Z"
    }
   },
   "outputs": [
    {
     "name": "stdout",
     "output_type": "stream",
     "text": [
      "X train data type: uint8\n",
      "y train data type: uint8\n",
      "X test data type: uint8\n",
      "y test data type: uint8\n"
     ]
    }
   ],
   "source": [
    "print(\"X train data type:\", X_train_full.dtype)\n",
    "print(\"y train data type:\", y_train_full.dtype)\n",
    "print(\"X test data type:\", X_test.dtype)\n",
    "print(\"y test data type:\", y_test.dtype)"
   ]
  },
  {
   "cell_type": "code",
   "execution_count": 7,
   "metadata": {
    "ExecuteTime": {
     "end_time": "2021-06-26T09:32:23.111155Z",
     "start_time": "2021-06-26T09:32:23.105978Z"
    }
   },
   "outputs": [
    {
     "name": "stdout",
     "output_type": "stream",
     "text": [
      "X train type: <class 'numpy.ndarray'>\n",
      "y train type: <class 'numpy.ndarray'>\n",
      "X test type: <class 'numpy.ndarray'>\n",
      "y test type: <class 'numpy.ndarray'>\n"
     ]
    }
   ],
   "source": [
    "print(\"X train type:\", type(X_train_full))\n",
    "print(\"y train type:\", type(y_train_full))\n",
    "print(\"X test type:\", type(X_test))\n",
    "print(\"y test type:\", type(y_test))"
   ]
  },
  {
   "cell_type": "code",
   "execution_count": 8,
   "metadata": {
    "ExecuteTime": {
     "end_time": "2021-06-26T09:32:23.194769Z",
     "start_time": "2021-06-26T09:32:23.117872Z"
    }
   },
   "outputs": [
    {
     "name": "stdout",
     "output_type": "stream",
     "text": [
      "Maximum matrix value: 255\n",
      "Minimum matrix value: 0\n"
     ]
    }
   ],
   "source": [
    "print(\"Maximum matrix value:\", X_train_full.max())\n",
    "print(\"Minimum matrix value:\", X_train_full.min())"
   ]
  },
  {
   "cell_type": "markdown",
   "metadata": {},
   "source": []
  },
  {
   "cell_type": "markdown",
   "metadata": {},
   "source": [
    "# Split the train data into *train* and *validation* sets"
   ]
  },
  {
   "cell_type": "code",
   "execution_count": 9,
   "metadata": {
    "ExecuteTime": {
     "end_time": "2021-06-26T09:32:23.202077Z",
     "start_time": "2021-06-26T09:32:23.198530Z"
    }
   },
   "outputs": [],
   "source": [
    "X_valid, X_train = X_train_full[:5000], X_train_full[5000:]\n",
    "y_valid, y_train = y_train_full[:5000], y_train_full[5000:]"
   ]
  },
  {
   "cell_type": "code",
   "execution_count": 10,
   "metadata": {
    "ExecuteTime": {
     "end_time": "2021-06-26T09:32:23.208342Z",
     "start_time": "2021-06-26T09:32:23.204721Z"
    }
   },
   "outputs": [
    {
     "name": "stdout",
     "output_type": "stream",
     "text": [
      "X validation data shape: (5000, 28, 28)\n",
      "y validation data shape: (5000,)\n"
     ]
    }
   ],
   "source": [
    "print(\"X validation data shape:\", X_valid.shape)\n",
    "print(\"y validation data shape:\", y_valid.shape)"
   ]
  },
  {
   "cell_type": "markdown",
   "metadata": {},
   "source": []
  },
  {
   "cell_type": "markdown",
   "metadata": {},
   "source": [
    "# Normalize the data"
   ]
  },
  {
   "cell_type": "code",
   "execution_count": 11,
   "metadata": {
    "ExecuteTime": {
     "end_time": "2021-06-26T09:32:23.213745Z",
     "start_time": "2021-06-26T09:32:23.210688Z"
    }
   },
   "outputs": [],
   "source": [
    "# normalization\n",
    "def normalize_pics(data):\n",
    "    return data / 255."
   ]
  },
  {
   "cell_type": "code",
   "execution_count": 12,
   "metadata": {
    "ExecuteTime": {
     "end_time": "2021-06-26T09:32:23.530367Z",
     "start_time": "2021-06-26T09:32:23.216311Z"
    }
   },
   "outputs": [],
   "source": [
    "X_train_normalized = normalize_pics(X_train)\n",
    "X_valid_normalized = normalize_pics(X_valid)\n",
    "X_test_normalized = normalize_pics(X_test)"
   ]
  },
  {
   "cell_type": "code",
   "execution_count": 13,
   "metadata": {
    "ExecuteTime": {
     "end_time": "2021-06-26T09:32:23.591269Z",
     "start_time": "2021-06-26T09:32:23.532306Z"
    }
   },
   "outputs": [
    {
     "name": "stdout",
     "output_type": "stream",
     "text": [
      "Maximum matrix value: 1.0\n",
      "Minimum matrix value: 0.0\n"
     ]
    }
   ],
   "source": [
    "print(\"Maximum matrix value:\", X_train_normalized.max())\n",
    "print(\"Minimum matrix value:\", X_train_normalized.min())"
   ]
  },
  {
   "cell_type": "code",
   "execution_count": 14,
   "metadata": {
    "ExecuteTime": {
     "end_time": "2021-06-26T09:32:23.597375Z",
     "start_time": "2021-06-26T09:32:23.593438Z"
    }
   },
   "outputs": [
    {
     "name": "stdout",
     "output_type": "stream",
     "text": [
      "X train normalized data shape: (55000, 28, 28)\n",
      "X validation normalized data shape: (5000, 28, 28)\n",
      "X test normalized data shape: (10000, 28, 28)\n"
     ]
    }
   ],
   "source": [
    "print(\"X train normalized data shape:\", X_train_normalized.shape)\n",
    "print(\"X validation normalized data shape:\", X_valid_normalized.shape)\n",
    "print(\"X test normalized data shape:\", X_test_normalized.shape)"
   ]
  },
  {
   "cell_type": "markdown",
   "metadata": {},
   "source": []
  },
  {
   "cell_type": "markdown",
   "metadata": {},
   "source": [
    "# Scale the inputs to mean 0 and standard deviation 1"
   ]
  },
  {
   "cell_type": "markdown",
   "metadata": {},
   "source": [
    "Compute the mean and std from the X_train full set pixels"
   ]
  },
  {
   "cell_type": "code",
   "execution_count": 15,
   "metadata": {
    "ExecuteTime": {
     "end_time": "2021-06-26T09:32:24.005674Z",
     "start_time": "2021-06-26T09:32:23.599514Z"
    }
   },
   "outputs": [],
   "source": [
    "pixel_means = X_train_full.mean(axis=0, keepdims=True)\n",
    "pixel_stds = X_train_full.std(axis=0, keepdims=True)"
   ]
  },
  {
   "cell_type": "code",
   "execution_count": 16,
   "metadata": {
    "ExecuteTime": {
     "end_time": "2021-06-26T09:32:24.011017Z",
     "start_time": "2021-06-26T09:32:24.007770Z"
    }
   },
   "outputs": [],
   "source": [
    "# standardization\n",
    "def scale_pics(data, pixel_means, pixel_stds):\n",
    "    return (data - pixel_means) / pixel_stds"
   ]
  },
  {
   "cell_type": "code",
   "execution_count": 17,
   "metadata": {
    "ExecuteTime": {
     "end_time": "2021-06-26T09:32:24.632161Z",
     "start_time": "2021-06-26T09:32:24.013594Z"
    }
   },
   "outputs": [],
   "source": [
    "X_train_scaled = scale_pics(X_train, pixel_means, pixel_stds)\n",
    "X_valid_scaled = scale_pics(X_valid, pixel_means, pixel_stds)\n",
    "X_test_scaled = scale_pics(X_test, pixel_means, pixel_stds)"
   ]
  },
  {
   "cell_type": "markdown",
   "metadata": {},
   "source": []
  },
  {
   "cell_type": "markdown",
   "metadata": {},
   "source": [
    "# Transform the data to fit the CNN's dimension expectations"
   ]
  },
  {
   "cell_type": "code",
   "execution_count": 18,
   "metadata": {
    "ExecuteTime": {
     "end_time": "2021-06-26T09:32:24.637492Z",
     "start_time": "2021-06-26T09:32:24.634059Z"
    }
   },
   "outputs": [],
   "source": [
    "X_train_normalized_cnn = X_train_normalized[..., np.newaxis]\n",
    "X_valid_normalized_cnn = X_valid_normalized[..., np.newaxis]\n",
    "X_test_normalized_cnn = X_test_normalized[..., np.newaxis]"
   ]
  },
  {
   "cell_type": "code",
   "execution_count": 19,
   "metadata": {
    "ExecuteTime": {
     "end_time": "2021-06-26T09:32:24.705063Z",
     "start_time": "2021-06-26T09:32:24.639981Z"
    },
    "scrolled": true
   },
   "outputs": [
    {
     "name": "stdout",
     "output_type": "stream",
     "text": [
      "X train normalized data shape: (55000, 28, 28, 1)\n",
      "X validation normalized data shape: (5000, 28, 28, 1)\n",
      "X test normalized data shape: (10000, 28, 28, 1)\n",
      "X train normalized max value: 1.0\n",
      "X train normalized min value: 0.0\n"
     ]
    }
   ],
   "source": [
    "print(\"X train normalized data shape:\", X_train_normalized_cnn.shape)\n",
    "print(\"X validation normalized data shape:\", X_valid_normalized_cnn.shape)\n",
    "print(\"X test normalized data shape:\", X_test_normalized_cnn.shape)\n",
    "print(\"X train normalized max value:\", X_train_normalized_cnn.max())\n",
    "print(\"X train normalized min value:\", X_train_normalized_cnn.min())"
   ]
  },
  {
   "cell_type": "markdown",
   "metadata": {},
   "source": []
  },
  {
   "cell_type": "markdown",
   "metadata": {},
   "source": [
    "# Plot the data and define the classes"
   ]
  },
  {
   "cell_type": "markdown",
   "metadata": {},
   "source": [
    "Plot an instance"
   ]
  },
  {
   "cell_type": "code",
   "execution_count": 20,
   "metadata": {
    "ExecuteTime": {
     "end_time": "2021-06-26T09:32:24.780452Z",
     "start_time": "2021-06-26T09:32:24.707084Z"
    },
    "scrolled": true
   },
   "outputs": [
    {
     "data": {
      "image/png": "[encoded data removed]",
      "text/plain": [
       "<Figure size 432x288 with 1 Axes>"
      ]
     },
     "metadata": {
      "needs_background": "light"
     },
     "output_type": "display_data"
    }
   ],
   "source": [
    "plt.imshow(X_train_normalized[0], cmap=\"binary\")\n",
    "plt.axis('off')\n",
    "plt.show()"
   ]
  },
  {
   "cell_type": "markdown",
   "metadata": {},
   "source": [
    "Unique values of y_train data:"
   ]
  },
  {
   "cell_type": "code",
   "execution_count": 21,
   "metadata": {
    "ExecuteTime": {
     "end_time": "2021-06-26T09:32:24.788173Z",
     "start_time": "2021-06-26T09:32:24.782344Z"
    }
   },
   "outputs": [
    {
     "data": {
      "text/plain": [
       "array([0, 1, 2, 3, 4, 5, 6, 7, 8, 9], dtype=uint8)"
      ]
     },
     "execution_count": 21,
     "metadata": {},
     "output_type": "execute_result"
    }
   ],
   "source": [
    "np.unique(y_train)"
   ]
  },
  {
   "cell_type": "markdown",
   "metadata": {},
   "source": [
    "List of class names to know what exactly each number depicts"
   ]
  },
  {
   "cell_type": "code",
   "execution_count": 22,
   "metadata": {
    "ExecuteTime": {
     "end_time": "2021-06-26T09:32:24.792982Z",
     "start_time": "2021-06-26T09:32:24.790102Z"
    }
   },
   "outputs": [],
   "source": [
    "class_names = [\"T-shirt/top\", \"Trouser\", \"Pullover\", \"Dress\", \"Coat\",\n",
    "               \"Sandal\", \"Shirt\", \"Sneaker\", \"Bag\", \"Ankle boot\"]"
   ]
  },
  {
   "cell_type": "code",
   "execution_count": 23,
   "metadata": {
    "ExecuteTime": {
     "end_time": "2021-06-26T09:32:24.803617Z",
     "start_time": "2021-06-26T09:32:24.800220Z"
    }
   },
   "outputs": [
    {
     "data": {
      "text/plain": [
       "'Coat'"
      ]
     },
     "execution_count": 23,
     "metadata": {},
     "output_type": "execute_result"
    }
   ],
   "source": [
    "class_names[y_train[0]]"
   ]
  },
  {
   "cell_type": "markdown",
   "metadata": {},
   "source": [
    "Some samples from the MNIST Fashion dataset"
   ]
  },
  {
   "cell_type": "code",
   "execution_count": 24,
   "metadata": {
    "ExecuteTime": {
     "end_time": "2021-06-26T09:32:26.063313Z",
     "start_time": "2021-06-26T09:32:24.809126Z"
    }
   },
   "outputs": [
    {
     "data": {
      "image/png": "[encoded data removed]",
      "text/plain": [
       "<Figure size 864x345.6 with 40 Axes>"
      ]
     },
     "metadata": {
      "needs_background": "light"
     },
     "output_type": "display_data"
    }
   ],
   "source": [
    "n_rows = 4\n",
    "n_cols = 10\n",
    "plt.figure(figsize=(n_cols * 1.2, n_rows * 1.2))\n",
    "for row in range(n_rows):\n",
    "    for col in range(n_cols):\n",
    "        index = n_cols * row + col\n",
    "        plt.subplot(n_rows, n_cols, index + 1)\n",
    "        plt.imshow(X_train_normalized[index], cmap=\"binary\", interpolation=\"nearest\")\n",
    "        plt.axis('off')\n",
    "        plt.title(class_names[y_train[index]], fontsize=12)\n",
    "plt.subplots_adjust(wspace=0.2, hspace=0.5)\n",
    "plt.show()"
   ]
  },
  {
   "cell_type": "markdown",
   "metadata": {},
   "source": []
  },
  {
   "cell_type": "markdown",
   "metadata": {},
   "source": [
    "# Make prediction for single instances"
   ]
  },
  {
   "cell_type": "markdown",
   "metadata": {},
   "source": [
    "## Instance to predict 01 - Ankle boot"
   ]
  },
  {
   "cell_type": "code",
   "execution_count": 25,
   "metadata": {
    "ExecuteTime": {
     "end_time": "2021-06-26T09:32:26.126881Z",
     "start_time": "2021-06-26T09:32:26.065949Z"
    }
   },
   "outputs": [
    {
     "data": {
      "image/png": "[encoded data removed]",
      "text/plain": [
       "<Figure size 432x288 with 1 Axes>"
      ]
     },
     "metadata": {
      "needs_background": "light"
     },
     "output_type": "display_data"
    }
   ],
   "source": [
    "plt.imshow(X_test_normalized[0], cmap=\"binary\")\n",
    "plt.axis('off')\n",
    "plt.show()"
   ]
  },
  {
   "cell_type": "code",
   "execution_count": 26,
   "metadata": {
    "ExecuteTime": {
     "end_time": "2021-06-26T09:32:26.133192Z",
     "start_time": "2021-06-26T09:32:26.129208Z"
    }
   },
   "outputs": [
    {
     "data": {
      "text/plain": [
       "'Ankle boot'"
      ]
     },
     "execution_count": 26,
     "metadata": {},
     "output_type": "execute_result"
    }
   ],
   "source": [
    "class_names[y_test[0]]"
   ]
  },
  {
   "cell_type": "markdown",
   "metadata": {},
   "source": [
    "## Instance  to predict 02 - Coat"
   ]
  },
  {
   "cell_type": "code",
   "execution_count": 27,
   "metadata": {
    "ExecuteTime": {
     "end_time": "2021-06-26T09:32:26.195311Z",
     "start_time": "2021-06-26T09:32:26.135946Z"
    }
   },
   "outputs": [
    {
     "data": {
      "image/png": "[encoded data removed]",
      "text/plain": [
       "<Figure size 432x288 with 1 Axes>"
      ]
     },
     "metadata": {
      "needs_background": "light"
     },
     "output_type": "display_data"
    }
   ],
   "source": [
    "plt.imshow(X_test_normalized[10], cmap=\"binary\")\n",
    "plt.axis('off')\n",
    "plt.show()"
   ]
  },
  {
   "cell_type": "code",
   "execution_count": 28,
   "metadata": {
    "ExecuteTime": {
     "end_time": "2021-06-26T09:32:26.201180Z",
     "start_time": "2021-06-26T09:32:26.197320Z"
    },
    "scrolled": true
   },
   "outputs": [
    {
     "data": {
      "text/plain": [
       "'Coat'"
      ]
     },
     "execution_count": 28,
     "metadata": {},
     "output_type": "execute_result"
    }
   ],
   "source": [
    "class_names[y_test[10]]"
   ]
  },
  {
   "cell_type": "markdown",
   "metadata": {},
   "source": []
  },
  {
   "cell_type": "markdown",
   "metadata": {},
   "source": [
    "# Simple model"
   ]
  },
  {
   "cell_type": "markdown",
   "metadata": {},
   "source": [
    "## Initialize the model and its architecture"
   ]
  },
  {
   "cell_type": "code",
   "execution_count": 29,
   "metadata": {
    "ExecuteTime": {
     "end_time": "2021-06-26T09:32:26.243787Z",
     "start_time": "2021-06-26T09:32:26.203648Z"
    }
   },
   "outputs": [],
   "source": [
    "model_simple = keras.models.Sequential()\n",
    "model_simple.add(keras.layers.Flatten(input_shape=[28, 28]))\n",
    "model_simple.add(keras.layers.Dense(300, activation=\"relu\"))\n",
    "model_simple.add(keras.layers.Dense(100, activation=\"relu\"))\n",
    "model_simple.add(keras.layers.Dense(10, activation=\"softmax\"))"
   ]
  },
  {
   "cell_type": "markdown",
   "metadata": {},
   "source": [
    "Reset all state generated by Keras (if a model was initiated previously)"
   ]
  },
  {
   "cell_type": "code",
   "execution_count": 30,
   "metadata": {
    "ExecuteTime": {
     "end_time": "2021-06-26T09:32:26.250347Z",
     "start_time": "2021-06-26T09:32:26.245739Z"
    }
   },
   "outputs": [],
   "source": [
    "keras.backend.clear_session()"
   ]
  },
  {
   "cell_type": "code",
   "execution_count": 31,
   "metadata": {
    "ExecuteTime": {
     "end_time": "2021-06-26T09:32:26.285839Z",
     "start_time": "2021-06-26T09:32:26.252237Z"
    }
   },
   "outputs": [],
   "source": [
    "model_simple = keras.models.Sequential([\n",
    "    keras.layers.Flatten(input_shape=[28, 28]),\n",
    "    keras.layers.Dense(300, activation=\"relu\", kernel_initializer='he_uniform'),\n",
    "    keras.layers.Dense(100, activation=\"relu\", kernel_initializer='he_uniform'),\n",
    "    keras.layers.Dense(10, activation=\"softmax\")\n",
    "])"
   ]
  },
  {
   "cell_type": "markdown",
   "metadata": {},
   "source": [
    "Get model's list of layers"
   ]
  },
  {
   "cell_type": "code",
   "execution_count": 32,
   "metadata": {
    "ExecuteTime": {
     "end_time": "2021-06-26T09:32:26.291993Z",
     "start_time": "2021-06-26T09:32:26.287941Z"
    }
   },
   "outputs": [
    {
     "data": {
      "text/plain": [
       "[<tensorflow.python.keras.layers.core.Flatten at 0x7fc1b8e93110>,\n",
       " <tensorflow.python.keras.layers.core.Dense at 0x7fc1b8e93210>,\n",
       " <tensorflow.python.keras.layers.core.Dense at 0x7fc1b8da7ed0>,\n",
       " <tensorflow.python.keras.layers.core.Dense at 0x7fc1b8c3ff50>]"
      ]
     },
     "execution_count": 32,
     "metadata": {},
     "output_type": "execute_result"
    }
   ],
   "source": [
    "model_simple.layers"
   ]
  },
  {
   "cell_type": "markdown",
   "metadata": {},
   "source": [
    "Display model's summary: layers with their names, their output shape, and the number of parameters"
   ]
  },
  {
   "cell_type": "code",
   "execution_count": 33,
   "metadata": {
    "ExecuteTime": {
     "end_time": "2021-06-26T09:32:26.301060Z",
     "start_time": "2021-06-26T09:32:26.294602Z"
    }
   },
   "outputs": [
    {
     "name": "stdout",
     "output_type": "stream",
     "text": [
      "Model: \"sequential\"\n",
      "_________________________________________________________________\n",
      "Layer (type)                 Output Shape              Param #   \n",
      "=================================================================\n",
      "flatten (Flatten)            (None, 784)               0         \n",
      "_________________________________________________________________\n",
      "dense (Dense)                (None, 300)               235500    \n",
      "_________________________________________________________________\n",
      "dense_1 (Dense)              (None, 100)               30100     \n",
      "_________________________________________________________________\n",
      "dense_2 (Dense)              (None, 10)                1010      \n",
      "=================================================================\n",
      "Total params: 266,610\n",
      "Trainable params: 266,610\n",
      "Non-trainable params: 0\n",
      "_________________________________________________________________\n"
     ]
    }
   ],
   "source": [
    "model_simple.summary()"
   ]
  },
  {
   "cell_type": "markdown",
   "metadata": {},
   "source": [
    "Plot model's summary"
   ]
  },
  {
   "cell_type": "code",
   "execution_count": 34,
   "metadata": {
    "ExecuteTime": {
     "end_time": "2021-06-26T09:32:26.811394Z",
     "start_time": "2021-06-26T09:32:26.303331Z"
    }
   },
   "outputs": [
    {
     "data": {
      "image/png": "[encoded data removed]",
      "text/plain": [
       "<IPython.core.display.Image object>"
      ]
     },
     "execution_count": 34,
     "metadata": {},
     "output_type": "execute_result"
    }
   ],
   "source": [
    "keras.utils.plot_model(model_simple, \"fashion_mnist_model.png\", show_shapes=True)"
   ]
  },
  {
   "cell_type": "markdown",
   "metadata": {},
   "source": [
    "## Description of a layer (in this case, Dense) "
   ]
  },
  {
   "cell_type": "code",
   "execution_count": 35,
   "metadata": {
    "ExecuteTime": {
     "end_time": "2021-06-26T09:32:26.820475Z",
     "start_time": "2021-06-26T09:32:26.814102Z"
    }
   },
   "outputs": [
    {
     "data": {
      "text/plain": [
       "'dense'"
      ]
     },
     "execution_count": 35,
     "metadata": {},
     "output_type": "execute_result"
    }
   ],
   "source": [
    "# name\n",
    "hidden1 = model_simple.layers[1]\n",
    "hidden1.name"
   ]
  },
  {
   "cell_type": "code",
   "execution_count": 36,
   "metadata": {
    "ExecuteTime": {
     "end_time": "2021-06-26T09:32:26.826888Z",
     "start_time": "2021-06-26T09:32:26.822621Z"
    }
   },
   "outputs": [
    {
     "data": {
      "text/plain": [
       "True"
      ]
     },
     "execution_count": 36,
     "metadata": {},
     "output_type": "execute_result"
    }
   ],
   "source": [
    "# check if it is hidden or not\n",
    "model_simple.get_layer(hidden1.name) is hidden1"
   ]
  },
  {
   "cell_type": "code",
   "execution_count": 37,
   "metadata": {
    "ExecuteTime": {
     "end_time": "2021-06-26T09:32:26.836057Z",
     "start_time": "2021-06-26T09:32:26.829329Z"
    }
   },
   "outputs": [],
   "source": [
    "# get layer's weights and biases\n",
    "weights, biases = hidden1.get_weights()"
   ]
  },
  {
   "cell_type": "code",
   "execution_count": 38,
   "metadata": {
    "ExecuteTime": {
     "end_time": "2021-06-26T09:32:26.845611Z",
     "start_time": "2021-06-26T09:32:26.838057Z"
    }
   },
   "outputs": [
    {
     "data": {
      "text/plain": [
       "array([ 0.08638643,  0.01047292, -0.03106006,  0.03670789, -0.04781865,\n",
       "        0.01388142,  0.02372251, -0.0502158 ,  0.02104162,  0.04844961,\n",
       "        0.02953007, -0.05797079,  0.02882975,  0.08435396,  0.06137309,\n",
       "       -0.0365416 ,  0.02144235,  0.03960829,  0.00081158, -0.08108427,\n",
       "       -0.0193755 , -0.00564279,  0.06111278,  0.0663498 , -0.07500501,\n",
       "       -0.07678579,  0.02225731,  0.0064536 ,  0.04960679, -0.05605847,\n",
       "       -0.07255901, -0.00733271, -0.05567595, -0.02564432,  0.0840748 ,\n",
       "        0.05180534,  0.0775819 , -0.03256639,  0.08727967, -0.04939087,\n",
       "       -0.02300654, -0.06733806, -0.04634434, -0.04670567, -0.04453361,\n",
       "        0.07660349,  0.05580015, -0.06644477,  0.05343934,  0.02162214,\n",
       "        0.02110711,  0.05253082, -0.01028174,  0.02007417,  0.02403441,\n",
       "        0.00990935, -0.07899092,  0.01655593, -0.0666851 , -0.06202734,\n",
       "        0.05867659,  0.0347885 ,  0.01871238,  0.03217603, -0.03072682,\n",
       "        0.00838172, -0.03927466,  0.0050872 , -0.06909116, -0.03754926,\n",
       "        0.02274314,  0.02005344,  0.02471364,  0.04563027,  0.08124269,\n",
       "       -0.08570263,  0.07105208,  0.04126406, -0.05771756, -0.02261438,\n",
       "       -0.00215293, -0.0017765 ,  0.01657401,  0.06082796, -0.04616909,\n",
       "        0.06945043,  0.03892951, -0.06313784, -0.03405474, -0.0162362 ,\n",
       "       -0.04205981, -0.07500524, -0.02240566, -0.02469521, -0.05852853,\n",
       "        0.00046165, -0.02292209, -0.07191198,  0.07633852, -0.01494952,\n",
       "        0.06142386,  0.01814352,  0.04946402,  0.02759493,  0.01367415,\n",
       "        0.02260964,  0.03406321, -0.00659697,  0.02416433,  0.05883979,\n",
       "       -0.06739834,  0.06177115, -0.08262528,  0.08568657,  0.04004928,\n",
       "        0.05341431, -0.04888878,  0.0174142 , -0.05911208,  0.02607612,\n",
       "        0.05379874, -0.0291065 ,  0.01025601,  0.00352528,  0.00999343,\n",
       "        0.02711882,  0.04706358,  0.0332334 ,  0.02905107, -0.02270513,\n",
       "        0.02730335,  0.04453845,  0.08743482,  0.0802794 ,  0.035145  ,\n",
       "        0.0681574 ,  0.06964206, -0.00090118, -0.03583794, -0.05696832,\n",
       "       -0.02182039,  0.06221154,  0.01543954, -0.02184287,  0.043883  ,\n",
       "        0.03607523,  0.02761395, -0.01735716,  0.0353621 , -0.04102827,\n",
       "       -0.02323218,  0.06398951, -0.01004931,  0.07117864, -0.0324099 ,\n",
       "       -0.07779647,  0.06422736,  0.08158184, -0.05656221, -0.01387172,\n",
       "       -0.00388763,  0.06566828,  0.07015639, -0.03807044,  0.05676744,\n",
       "        0.03721366, -0.03377296, -0.04568312, -0.04535226,  0.0789225 ,\n",
       "        0.06037561, -0.01839621,  0.04837992, -0.01797808, -0.08220766,\n",
       "        0.03620909, -0.00571496, -0.06202083, -0.02388988,  0.0141161 ,\n",
       "        0.01523153, -0.03299426, -0.03026629,  0.02756098, -0.02091236,\n",
       "        0.08501429, -0.0349768 ,  0.01130003,  0.00684517, -0.08435683,\n",
       "        0.04662085,  0.07320622,  0.01964422,  0.04813065,  0.00786436,\n",
       "       -0.07934977,  0.0127249 ,  0.01205222,  0.07094225, -0.04962981,\n",
       "       -0.05467565, -0.05773917, -0.04058516,  0.02734876, -0.06371194,\n",
       "       -0.019489  ,  0.02275736, -0.01304249, -0.01580154,  0.05616938,\n",
       "        0.06769683, -0.02685535,  0.03329907,  0.06853024,  0.02327126,\n",
       "       -0.01933562, -0.0645816 , -0.00447699, -0.05082279,  0.0507571 ,\n",
       "       -0.06695172, -0.02702182,  0.06601947,  0.02273446, -0.04365921,\n",
       "       -0.00608386, -0.01919535,  0.01624037,  0.04594233,  0.06349006,\n",
       "       -0.03839362,  0.01686668,  0.0413597 ,  0.06056712,  0.05030134,\n",
       "       -0.05163218, -0.06297539, -0.07056723, -0.04212785, -0.04009078,\n",
       "        0.0666968 ,  0.0003181 ,  0.05294221,  0.04290802, -0.02013098,\n",
       "       -0.03885728,  0.07809731,  0.02609888,  0.04273672,  0.0334079 ,\n",
       "       -0.02594491, -0.06180307, -0.04601304, -0.07831445,  0.03198019,\n",
       "        0.0554407 , -0.08173148, -0.01799981,  0.0321963 ,  0.01784807,\n",
       "        0.04124867, -0.04092918,  0.01527475, -0.00479482, -0.07531194,\n",
       "        0.01915057, -0.0565089 , -0.05676015, -0.0850585 ,  0.00675841,\n",
       "       -0.0243837 , -0.07243231,  0.01419617, -0.05533993,  0.05096962,\n",
       "       -0.02378445, -0.06297734,  0.04540155, -0.02997844,  0.03140134,\n",
       "        0.07112128, -0.07317931, -0.07345321, -0.00756579,  0.05134153,\n",
       "       -0.07584208,  0.07695249,  0.01397993, -0.08690111,  0.02798399,\n",
       "        0.03933781,  0.07772361, -0.08572979, -0.08562652, -0.01823268,\n",
       "        0.00460257,  0.00605068, -0.0442915 , -0.06822342, -0.01293834],\n",
       "      dtype=float32)"
      ]
     },
     "execution_count": 38,
     "metadata": {},
     "output_type": "execute_result"
    }
   ],
   "source": [
    "# weights' values\n",
    "weights[5]"
   ]
  },
  {
   "cell_type": "code",
   "execution_count": 39,
   "metadata": {
    "ExecuteTime": {
     "end_time": "2021-06-26T09:32:26.851808Z",
     "start_time": "2021-06-26T09:32:26.847738Z"
    }
   },
   "outputs": [
    {
     "data": {
      "text/plain": [
       "(784, 300)"
      ]
     },
     "execution_count": 39,
     "metadata": {},
     "output_type": "execute_result"
    }
   ],
   "source": [
    "# weights' shape\n",
    "weights.shape"
   ]
  },
  {
   "cell_type": "code",
   "execution_count": 40,
   "metadata": {
    "ExecuteTime": {
     "end_time": "2021-06-26T09:32:26.860874Z",
     "start_time": "2021-06-26T09:32:26.854033Z"
    }
   },
   "outputs": [
    {
     "data": {
      "text/plain": [
       "array([0., 0., 0., 0., 0., 0., 0., 0., 0., 0., 0., 0., 0., 0., 0., 0., 0.,\n",
       "       0., 0., 0., 0., 0., 0., 0., 0., 0., 0., 0., 0., 0., 0., 0., 0., 0.,\n",
       "       0., 0., 0., 0., 0., 0., 0., 0., 0., 0., 0., 0., 0., 0., 0., 0., 0.,\n",
       "       0., 0., 0., 0., 0., 0., 0., 0., 0., 0., 0., 0., 0., 0., 0., 0., 0.,\n",
       "       0., 0., 0., 0., 0., 0., 0., 0., 0., 0., 0., 0., 0., 0., 0., 0., 0.,\n",
       "       0., 0., 0., 0., 0., 0., 0., 0., 0., 0., 0., 0., 0., 0., 0., 0., 0.,\n",
       "       0., 0., 0., 0., 0., 0., 0., 0., 0., 0., 0., 0., 0., 0., 0., 0., 0.,\n",
       "       0., 0., 0., 0., 0., 0., 0., 0., 0., 0., 0., 0., 0., 0., 0., 0., 0.,\n",
       "       0., 0., 0., 0., 0., 0., 0., 0., 0., 0., 0., 0., 0., 0., 0., 0., 0.,\n",
       "       0., 0., 0., 0., 0., 0., 0., 0., 0., 0., 0., 0., 0., 0., 0., 0., 0.,\n",
       "       0., 0., 0., 0., 0., 0., 0., 0., 0., 0., 0., 0., 0., 0., 0., 0., 0.,\n",
       "       0., 0., 0., 0., 0., 0., 0., 0., 0., 0., 0., 0., 0., 0., 0., 0., 0.,\n",
       "       0., 0., 0., 0., 0., 0., 0., 0., 0., 0., 0., 0., 0., 0., 0., 0., 0.,\n",
       "       0., 0., 0., 0., 0., 0., 0., 0., 0., 0., 0., 0., 0., 0., 0., 0., 0.,\n",
       "       0., 0., 0., 0., 0., 0., 0., 0., 0., 0., 0., 0., 0., 0., 0., 0., 0.,\n",
       "       0., 0., 0., 0., 0., 0., 0., 0., 0., 0., 0., 0., 0., 0., 0., 0., 0.,\n",
       "       0., 0., 0., 0., 0., 0., 0., 0., 0., 0., 0., 0., 0., 0., 0., 0., 0.,\n",
       "       0., 0., 0., 0., 0., 0., 0., 0., 0., 0., 0.], dtype=float32)"
      ]
     },
     "execution_count": 40,
     "metadata": {},
     "output_type": "execute_result"
    }
   ],
   "source": [
    "# biases values\n",
    "biases"
   ]
  },
  {
   "cell_type": "code",
   "execution_count": 41,
   "metadata": {
    "ExecuteTime": {
     "end_time": "2021-06-26T09:32:26.866805Z",
     "start_time": "2021-06-26T09:32:26.862786Z"
    }
   },
   "outputs": [
    {
     "data": {
      "text/plain": [
       "(300,)"
      ]
     },
     "execution_count": 41,
     "metadata": {},
     "output_type": "execute_result"
    }
   ],
   "source": [
    "# biases' values\n",
    "biases.shape"
   ]
  },
  {
   "cell_type": "markdown",
   "metadata": {},
   "source": [
    "## Compile the model"
   ]
  },
  {
   "cell_type": "code",
   "execution_count": 42,
   "metadata": {
    "ExecuteTime": {
     "end_time": "2021-06-26T09:32:26.881607Z",
     "start_time": "2021-06-26T09:32:26.869205Z"
    }
   },
   "outputs": [],
   "source": [
    "model_simple.compile(loss=model_params[\"loss\"], \n",
    "                     optimizer=model_params[\"optimizer\"], \n",
    "                     metrics=model_params[\"metrics\"])"
   ]
  },
  {
   "cell_type": "markdown",
   "metadata": {},
   "source": [
    "## Train the model"
   ]
  },
  {
   "cell_type": "code",
   "execution_count": 43,
   "metadata": {
    "ExecuteTime": {
     "end_time": "2021-06-26T09:33:25.914503Z",
     "start_time": "2021-06-26T09:32:26.883424Z"
    },
    "scrolled": true
   },
   "outputs": [
    {
     "name": "stdout",
     "output_type": "stream",
     "text": [
      "Epoch 1/20\n",
      "1719/1719 [==============================] - 3s 2ms/step - loss: 0.4992 - accuracy: 0.8229 - val_loss: 0.3757 - val_accuracy: 0.8650\n",
      "Epoch 2/20\n",
      "1719/1719 [==============================] - 3s 2ms/step - loss: 0.3719 - accuracy: 0.8634 - val_loss: 0.3712 - val_accuracy: 0.8640\n",
      "Epoch 3/20\n",
      "1719/1719 [==============================] - 3s 2ms/step - loss: 0.3377 - accuracy: 0.8753 - val_loss: 0.3436 - val_accuracy: 0.8740\n",
      "Epoch 4/20\n",
      "1719/1719 [==============================] - 3s 2ms/step - loss: 0.3131 - accuracy: 0.8842 - val_loss: 0.3230 - val_accuracy: 0.8818\n",
      "Epoch 5/20\n",
      "1719/1719 [==============================] - 3s 2ms/step - loss: 0.2972 - accuracy: 0.8887 - val_loss: 0.3104 - val_accuracy: 0.8840\n",
      "Epoch 6/20\n",
      "1719/1719 [==============================] - 3s 2ms/step - loss: 0.2810 - accuracy: 0.8953 - val_loss: 0.3207 - val_accuracy: 0.8854\n",
      "Epoch 7/20\n",
      "1719/1719 [==============================] - 3s 2ms/step - loss: 0.2693 - accuracy: 0.9005 - val_loss: 0.3101 - val_accuracy: 0.8900\n",
      "Epoch 8/20\n",
      "1719/1719 [==============================] - 3s 2ms/step - loss: 0.2569 - accuracy: 0.9027 - val_loss: 0.3149 - val_accuracy: 0.8826\n",
      "Epoch 9/20\n",
      "1719/1719 [==============================] - 3s 2ms/step - loss: 0.2493 - accuracy: 0.9059 - val_loss: 0.3165 - val_accuracy: 0.8858\n",
      "Epoch 10/20\n",
      "1719/1719 [==============================] - 3s 2ms/step - loss: 0.2378 - accuracy: 0.9104 - val_loss: 0.2998 - val_accuracy: 0.8962\n",
      "Epoch 11/20\n",
      "1719/1719 [==============================] - 3s 2ms/step - loss: 0.2301 - accuracy: 0.9136 - val_loss: 0.3052 - val_accuracy: 0.8876\n",
      "Epoch 12/20\n",
      "1719/1719 [==============================] - 3s 2ms/step - loss: 0.2215 - accuracy: 0.9157 - val_loss: 0.3402 - val_accuracy: 0.8774\n",
      "Epoch 13/20\n",
      "1719/1719 [==============================] - 3s 2ms/step - loss: 0.2161 - accuracy: 0.9188 - val_loss: 0.3064 - val_accuracy: 0.8946\n",
      "Epoch 14/20\n",
      "1719/1719 [==============================] - 3s 2ms/step - loss: 0.2070 - accuracy: 0.9222 - val_loss: 0.3048 - val_accuracy: 0.8904\n",
      "Epoch 15/20\n",
      "1719/1719 [==============================] - 3s 2ms/step - loss: 0.2003 - accuracy: 0.9241 - val_loss: 0.3280 - val_accuracy: 0.8864\n",
      "Epoch 16/20\n",
      "1719/1719 [==============================] - 3s 2ms/step - loss: 0.1973 - accuracy: 0.9249 - val_loss: 0.3067 - val_accuracy: 0.8932\n",
      "Epoch 17/20\n",
      "1719/1719 [==============================] - 3s 2ms/step - loss: 0.1909 - accuracy: 0.9279 - val_loss: 0.3310 - val_accuracy: 0.8846\n",
      "Epoch 18/20\n",
      "1719/1719 [==============================] - 3s 2ms/step - loss: 0.1859 - accuracy: 0.9287 - val_loss: 0.3277 - val_accuracy: 0.8906\n",
      "Epoch 19/20\n",
      "1719/1719 [==============================] - 3s 2ms/step - loss: 0.1804 - accuracy: 0.9321 - val_loss: 0.3009 - val_accuracy: 0.8976\n",
      "Epoch 20/20\n",
      "1719/1719 [==============================] - 3s 2ms/step - loss: 0.1725 - accuracy: 0.9347 - val_loss: 0.3103 - val_accuracy: 0.8936\n"
     ]
    }
   ],
   "source": [
    "history_simple = model_simple.fit(X_train_normalized, y_train, epochs=model_params[\"n_epochs\"], \n",
    "                                  validation_data=(X_valid_normalized, y_valid))"
   ]
  },
  {
   "cell_type": "markdown",
   "metadata": {},
   "source": [
    "Training parameters"
   ]
  },
  {
   "cell_type": "code",
   "execution_count": 44,
   "metadata": {
    "ExecuteTime": {
     "end_time": "2021-06-26T09:33:25.921734Z",
     "start_time": "2021-06-26T09:33:25.916842Z"
    }
   },
   "outputs": [
    {
     "data": {
      "text/plain": [
       "{'verbose': 1, 'epochs': 20, 'steps': 1719}"
      ]
     },
     "execution_count": 44,
     "metadata": {},
     "output_type": "execute_result"
    }
   ],
   "source": [
    "history_simple.params"
   ]
  },
  {
   "cell_type": "markdown",
   "metadata": {},
   "source": [
    "Training epochs"
   ]
  },
  {
   "cell_type": "code",
   "execution_count": 45,
   "metadata": {
    "ExecuteTime": {
     "end_time": "2021-06-26T09:33:25.928122Z",
     "start_time": "2021-06-26T09:33:25.924455Z"
    }
   },
   "outputs": [
    {
     "name": "stdout",
     "output_type": "stream",
     "text": [
      "[0, 1, 2, 3, 4, 5, 6, 7, 8, 9, 10, 11, 12, 13, 14, 15, 16, 17, 18, 19]\n"
     ]
    }
   ],
   "source": [
    "print(history_simple.epoch)"
   ]
  },
  {
   "cell_type": "markdown",
   "metadata": {},
   "source": [
    "Training keys of the metrics"
   ]
  },
  {
   "cell_type": "code",
   "execution_count": 46,
   "metadata": {
    "ExecuteTime": {
     "end_time": "2021-06-26T09:33:25.934745Z",
     "start_time": "2021-06-26T09:33:25.930804Z"
    }
   },
   "outputs": [
    {
     "data": {
      "text/plain": [
       "dict_keys(['loss', 'accuracy', 'val_loss', 'val_accuracy'])"
      ]
     },
     "execution_count": 46,
     "metadata": {},
     "output_type": "execute_result"
    }
   ],
   "source": [
    "history_simple.history.keys()"
   ]
  },
  {
   "cell_type": "markdown",
   "metadata": {},
   "source": [
    "Train evaluation though the epochs"
   ]
  },
  {
   "cell_type": "code",
   "execution_count": 47,
   "metadata": {
    "ExecuteTime": {
     "end_time": "2021-06-26T09:33:26.165834Z",
     "start_time": "2021-06-26T09:33:25.936604Z"
    }
   },
   "outputs": [
    {
     "data": {
      "image/png": "[encoded data removed]",
      "text/plain": [
       "<Figure size 576x360 with 1 Axes>"
      ]
     },
     "metadata": {
      "needs_background": "light"
     },
     "output_type": "display_data"
    }
   ],
   "source": [
    "pd.DataFrame(history_simple.history).plot(figsize=(8, 5))\n",
    "plt.grid(True)\n",
    "plt.gca().set_ylim(0, 1)\n",
    "plt.show()"
   ]
  },
  {
   "cell_type": "markdown",
   "metadata": {},
   "source": [
    "## Evaluate the model on the Test data"
   ]
  },
  {
   "cell_type": "markdown",
   "metadata": {},
   "source": [
    "**Model accuracy**\n",
    "\n",
    "Evaluate on test data"
   ]
  },
  {
   "cell_type": "code",
   "execution_count": 48,
   "metadata": {
    "ExecuteTime": {
     "end_time": "2021-06-26T09:33:26.774651Z",
     "start_time": "2021-06-26T09:33:26.168007Z"
    }
   },
   "outputs": [
    {
     "name": "stdout",
     "output_type": "stream",
     "text": [
      "313/313 [==============================] - 1s 1ms/step - loss: 70.0334 - accuracy: 0.8393\n"
     ]
    }
   ],
   "source": [
    "loss, accuracy = model_simple.evaluate(X_test, y_test)"
   ]
  },
  {
   "cell_type": "code",
   "execution_count": 49,
   "metadata": {
    "ExecuteTime": {
     "end_time": "2021-06-26T09:33:26.780286Z",
     "start_time": "2021-06-26T09:33:26.776663Z"
    }
   },
   "outputs": [
    {
     "name": "stdout",
     "output_type": "stream",
     "text": [
      "Accuracy: 0.8392999768257141\n"
     ]
    }
   ],
   "source": [
    "print(\"Accuracy: %.3f\" % (accuracy * 100))"
   ]
  },
  {
   "cell_type": "markdown",
   "metadata": {},
   "source": [
    "Make the predictions based on the unseen test data"
   ]
  },
  {
   "cell_type": "code",
   "execution_count": 50,
   "metadata": {
    "ExecuteTime": {
     "end_time": "2021-06-26T09:33:27.210595Z",
     "start_time": "2021-06-26T09:33:26.783158Z"
    }
   },
   "outputs": [
    {
     "name": "stdout",
     "output_type": "stream",
     "text": [
      "313/313 [==============================] - 0s 838us/step\n"
     ]
    }
   ],
   "source": [
    "predictions_simple = np.argmax(model_simple.predict(X_test_normalized, verbose=1), axis=-1)"
   ]
  },
  {
   "cell_type": "markdown",
   "metadata": {},
   "source": [
    "Shape of predictions"
   ]
  },
  {
   "cell_type": "code",
   "execution_count": 51,
   "metadata": {
    "ExecuteTime": {
     "end_time": "2021-06-26T09:33:27.216311Z",
     "start_time": "2021-06-26T09:33:27.212391Z"
    }
   },
   "outputs": [
    {
     "data": {
      "text/plain": [
       "(10000,)"
      ]
     },
     "execution_count": 51,
     "metadata": {},
     "output_type": "execute_result"
    }
   ],
   "source": [
    "predictions_simple.shape"
   ]
  },
  {
   "cell_type": "markdown",
   "metadata": {},
   "source": [
    "Confusion matrix"
   ]
  },
  {
   "cell_type": "code",
   "execution_count": 52,
   "metadata": {
    "ExecuteTime": {
     "end_time": "2021-06-26T09:33:27.255872Z",
     "start_time": "2021-06-26T09:33:27.218839Z"
    }
   },
   "outputs": [
    {
     "name": "stdout",
     "output_type": "stream",
     "text": [
      "[[818   2  22  23   7   1 123   0   4   0]\n",
      " [  1 972   2  15   6   0   4   0   0   0]\n",
      " [ 14   0 769   7 131   0  79   0   0   0]\n",
      " [ 20   4  11 904  39   0  20   0   2   0]\n",
      " [  0   0  46  28 874   0  52   0   0   0]\n",
      " [  1   0   0   1   0 971   0  14   0  13]\n",
      " [ 81   0  63  29  77   0 745   0   5   0]\n",
      " [  0   0   0   0   0  21   0 964   0  15]\n",
      " [  4   0   6   5  12   4  11   1 957   0]\n",
      " [  1   0   0   0   0   5   0  47   0 947]]\n"
     ]
    }
   ],
   "source": [
    "print(confusion_matrix(y_test, predictions_simple))"
   ]
  },
  {
   "cell_type": "markdown",
   "metadata": {},
   "source": [
    "Classification report"
   ]
  },
  {
   "cell_type": "code",
   "execution_count": 53,
   "metadata": {
    "ExecuteTime": {
     "end_time": "2021-06-26T09:33:27.286524Z",
     "start_time": "2021-06-26T09:33:27.259248Z"
    }
   },
   "outputs": [
    {
     "name": "stdout",
     "output_type": "stream",
     "text": [
      "              precision    recall  f1-score   support\n",
      "\n",
      "           0       0.87      0.82      0.84      1000\n",
      "           1       0.99      0.97      0.98      1000\n",
      "           2       0.84      0.77      0.80      1000\n",
      "           3       0.89      0.90      0.90      1000\n",
      "           4       0.76      0.87      0.81      1000\n",
      "           5       0.97      0.97      0.97      1000\n",
      "           6       0.72      0.74      0.73      1000\n",
      "           7       0.94      0.96      0.95      1000\n",
      "           8       0.99      0.96      0.97      1000\n",
      "           9       0.97      0.95      0.96      1000\n",
      "\n",
      "    accuracy                           0.89     10000\n",
      "   macro avg       0.89      0.89      0.89     10000\n",
      "weighted avg       0.89      0.89      0.89     10000\n",
      "\n"
     ]
    }
   ],
   "source": [
    "print(classification_report(y_test, predictions_simple))"
   ]
  },
  {
   "cell_type": "markdown",
   "metadata": {},
   "source": [
    "## Predictions"
   ]
  },
  {
   "cell_type": "markdown",
   "metadata": {},
   "source": [
    "### Instance - Ankle boot"
   ]
  },
  {
   "cell_type": "code",
   "execution_count": 54,
   "metadata": {
    "ExecuteTime": {
     "end_time": "2021-06-26T09:33:27.335274Z",
     "start_time": "2021-06-26T09:33:27.288748Z"
    }
   },
   "outputs": [
    {
     "data": {
      "text/plain": [
       "array([[0.  , 0.  , 0.  , 0.  , 0.  , 0.  , 0.  , 0.01, 0.  , 0.99]],\n",
       "      dtype=float32)"
      ]
     },
     "execution_count": 54,
     "metadata": {},
     "output_type": "execute_result"
    }
   ],
   "source": [
    "y_proba_softmax = model_simple.predict(X_test_normalized[0:1])\n",
    "y_proba_softmax.round(2)"
   ]
  },
  {
   "cell_type": "code",
   "execution_count": 55,
   "metadata": {
    "ExecuteTime": {
     "end_time": "2021-06-26T09:33:27.387252Z",
     "start_time": "2021-06-26T09:33:27.337984Z"
    },
    "scrolled": true
   },
   "outputs": [
    {
     "data": {
      "text/plain": [
       "array([9])"
      ]
     },
     "execution_count": 55,
     "metadata": {},
     "output_type": "execute_result"
    }
   ],
   "source": [
    "y_pred = np.argmax(model_simple.predict(X_test_normalized[0:1]), axis=-1)\n",
    "y_pred"
   ]
  },
  {
   "cell_type": "code",
   "execution_count": 56,
   "metadata": {
    "ExecuteTime": {
     "end_time": "2021-06-26T09:33:27.393855Z",
     "start_time": "2021-06-26T09:33:27.389310Z"
    }
   },
   "outputs": [
    {
     "data": {
      "text/plain": [
       "array(['Ankle boot'], dtype='<U11')"
      ]
     },
     "execution_count": 56,
     "metadata": {},
     "output_type": "execute_result"
    }
   ],
   "source": [
    "np.array(class_names)[y_pred]"
   ]
  },
  {
   "cell_type": "markdown",
   "metadata": {},
   "source": [
    "### Instance - Coat"
   ]
  },
  {
   "cell_type": "code",
   "execution_count": 57,
   "metadata": {
    "ExecuteTime": {
     "end_time": "2021-06-26T09:33:27.437169Z",
     "start_time": "2021-06-26T09:33:27.396336Z"
    }
   },
   "outputs": [
    {
     "data": {
      "text/plain": [
       "array([[0.  , 0.  , 0.04, 0.  , 0.96, 0.  , 0.  , 0.  , 0.  , 0.  ]],\n",
       "      dtype=float32)"
      ]
     },
     "execution_count": 57,
     "metadata": {},
     "output_type": "execute_result"
    }
   ],
   "source": [
    "y_proba_softmax = model_simple.predict(X_test_normalized[10:11])\n",
    "y_proba_softmax.round(2)"
   ]
  },
  {
   "cell_type": "code",
   "execution_count": 58,
   "metadata": {
    "ExecuteTime": {
     "end_time": "2021-06-26T09:33:27.483278Z",
     "start_time": "2021-06-26T09:33:27.439386Z"
    },
    "scrolled": true
   },
   "outputs": [
    {
     "data": {
      "text/plain": [
       "array([4])"
      ]
     },
     "execution_count": 58,
     "metadata": {},
     "output_type": "execute_result"
    }
   ],
   "source": [
    "y_pred = np.argmax(model_simple.predict(X_test_normalized[10:11]), axis=-1)\n",
    "y_pred"
   ]
  },
  {
   "cell_type": "code",
   "execution_count": 59,
   "metadata": {
    "ExecuteTime": {
     "end_time": "2021-06-26T09:33:27.490483Z",
     "start_time": "2021-06-26T09:33:27.485842Z"
    }
   },
   "outputs": [
    {
     "data": {
      "text/plain": [
       "array(['Coat'], dtype='<U11')"
      ]
     },
     "execution_count": 59,
     "metadata": {},
     "output_type": "execute_result"
    }
   ],
   "source": [
    "np.array(class_names)[y_pred]"
   ]
  },
  {
   "cell_type": "markdown",
   "metadata": {},
   "source": [
    "### Make a prediction for a batch of instances"
   ]
  },
  {
   "cell_type": "code",
   "execution_count": 148,
   "metadata": {
    "ExecuteTime": {
     "end_time": "2021-06-25T14:26:25.526157Z",
     "start_time": "2021-06-25T14:26:25.523167Z"
    }
   },
   "outputs": [
    {
     "data": {
      "text/plain": [
       "['T-shirt/top',\n",
       " 'Trouser',\n",
       " 'Pullover',\n",
       " 'Dress',\n",
       " 'Coat',\n",
       " 'Sandal',\n",
       " 'Shirt',\n",
       " 'Sneaker',\n",
       " 'Bag',\n",
       " 'Ankle boot']"
      ]
     },
     "execution_count": 148,
     "metadata": {},
     "output_type": "execute_result"
    }
   ],
   "source": [
    "class_names"
   ]
  },
  {
   "cell_type": "code",
   "execution_count": 149,
   "metadata": {
    "ExecuteTime": {
     "end_time": "2021-06-25T14:27:04.498298Z",
     "start_time": "2021-06-25T14:27:04.493768Z"
    }
   },
   "outputs": [
    {
     "data": {
      "text/plain": [
       "array([0, 1, 2, 3, 4, 5, 6, 7, 8, 9], dtype=uint8)"
      ]
     },
     "execution_count": 149,
     "metadata": {},
     "output_type": "execute_result"
    }
   ],
   "source": [
    "np.unique(y_train)"
   ]
  },
  {
   "cell_type": "code",
   "execution_count": 55,
   "metadata": {
    "ExecuteTime": {
     "end_time": "2021-06-25T11:49:46.534928Z",
     "start_time": "2021-06-25T11:49:46.531494Z"
    }
   },
   "outputs": [
    {
     "data": {
      "text/plain": [
       "[3, 4, 5, 6]"
      ]
     },
     "execution_count": 55,
     "metadata": {},
     "output_type": "execute_result"
    }
   ],
   "source": [
    "test_indices = range(3,7)\n",
    "list(test_indices)"
   ]
  },
  {
   "cell_type": "code",
   "execution_count": 56,
   "metadata": {
    "ExecuteTime": {
     "end_time": "2021-06-25T11:49:46.713315Z",
     "start_time": "2021-06-25T11:49:46.536648Z"
    }
   },
   "outputs": [
    {
     "data": {
      "image/png": "[encoded data removed]",
      "text/plain": [
       "<Figure size 518.4x172.8 with 4 Axes>"
      ]
     },
     "metadata": {
      "needs_background": "light"
     },
     "output_type": "display_data"
    }
   ],
   "source": [
    "plt.figure(figsize=(7.2, 2.4))\n",
    "for index, image_number in enumerate(list(test_indices)):\n",
    "    plt.subplot(1, 4, index + 1)\n",
    "    plt.imshow(X_test_normalized[image_number], cmap=\"binary\", interpolation=\"nearest\")\n",
    "    plt.axis('off')\n",
    "    plt.title(class_names[y_test[image_number]], fontsize=12)\n",
    "plt.subplots_adjust(wspace=0.2, hspace=0.5)\n",
    "plt.show()"
   ]
  },
  {
   "cell_type": "code",
   "execution_count": 57,
   "metadata": {
    "ExecuteTime": {
     "end_time": "2021-06-25T11:49:46.718701Z",
     "start_time": "2021-06-25T11:49:46.714848Z"
    }
   },
   "outputs": [
    {
     "data": {
      "text/plain": [
       "array([1, 6, 1, 4], dtype=uint8)"
      ]
     },
     "execution_count": 57,
     "metadata": {},
     "output_type": "execute_result"
    }
   ],
   "source": [
    "y_test[3:7]"
   ]
  },
  {
   "cell_type": "markdown",
   "metadata": {},
   "source": [
    "Make the predictions"
   ]
  },
  {
   "cell_type": "code",
   "execution_count": 58,
   "metadata": {
    "ExecuteTime": {
     "end_time": "2021-06-25T11:49:46.755001Z",
     "start_time": "2021-06-25T11:49:46.720232Z"
    }
   },
   "outputs": [
    {
     "data": {
      "text/plain": [
       "array([[0.  , 1.  , 0.  , 0.  , 0.  , 0.  , 0.  , 0.  , 0.  , 0.  ],\n",
       "       [0.06, 0.  , 0.  , 0.  , 0.  , 0.  , 0.94, 0.  , 0.  , 0.  ],\n",
       "       [0.  , 1.  , 0.  , 0.  , 0.  , 0.  , 0.  , 0.  , 0.  , 0.  ],\n",
       "       [0.  , 0.  , 0.  , 0.  , 1.  , 0.  , 0.  , 0.  , 0.  , 0.  ]],\n",
       "      dtype=float32)"
      ]
     },
     "execution_count": 58,
     "metadata": {},
     "output_type": "execute_result"
    }
   ],
   "source": [
    "y_proba_softmax = model_simple.predict(X_test_normalized[3:7])\n",
    "y_proba_softmax.round(2)"
   ]
  },
  {
   "cell_type": "code",
   "execution_count": 59,
   "metadata": {
    "ExecuteTime": {
     "end_time": "2021-06-25T11:49:46.789122Z",
     "start_time": "2021-06-25T11:49:46.756380Z"
    }
   },
   "outputs": [
    {
     "data": {
      "text/plain": [
       "array([1, 6, 1, 4])"
      ]
     },
     "execution_count": 59,
     "metadata": {},
     "output_type": "execute_result"
    }
   ],
   "source": [
    "y_pred = np.argmax(model_simple.predict(X_test_normalized[3:7]), axis=-1)\n",
    "y_pred"
   ]
  },
  {
   "cell_type": "code",
   "execution_count": 60,
   "metadata": {
    "ExecuteTime": {
     "end_time": "2021-06-25T11:49:46.794076Z",
     "start_time": "2021-06-25T11:49:46.790598Z"
    }
   },
   "outputs": [
    {
     "data": {
      "text/plain": [
       "array(['Trouser', 'Shirt', 'Trouser', 'Coat'], dtype='<U11')"
      ]
     },
     "execution_count": 60,
     "metadata": {},
     "output_type": "execute_result"
    }
   ],
   "source": [
    "np.array(class_names)[y_pred]"
   ]
  },
  {
   "cell_type": "markdown",
   "metadata": {},
   "source": []
  },
  {
   "cell_type": "markdown",
   "metadata": {},
   "source": [
    "# Simple Model with Dropouts"
   ]
  },
  {
   "cell_type": "markdown",
   "metadata": {},
   "source": [
    "Reset all state generated by Keras"
   ]
  },
  {
   "cell_type": "code",
   "execution_count": 60,
   "metadata": {
    "ExecuteTime": {
     "end_time": "2021-06-26T09:33:27.495171Z",
     "start_time": "2021-06-26T09:33:27.492489Z"
    }
   },
   "outputs": [],
   "source": [
    "# keras.backend.clear_session()"
   ]
  },
  {
   "cell_type": "markdown",
   "metadata": {},
   "source": [
    "## Build and Train the model"
   ]
  },
  {
   "cell_type": "markdown",
   "metadata": {},
   "source": [
    "Add Dropout layers"
   ]
  },
  {
   "cell_type": "code",
   "execution_count": 61,
   "metadata": {
    "ExecuteTime": {
     "end_time": "2021-06-26T09:33:27.540828Z",
     "start_time": "2021-06-26T09:33:27.497615Z"
    }
   },
   "outputs": [],
   "source": [
    "model_simple_drp = keras.models.Sequential([\n",
    "    keras.layers.Flatten(input_shape=[28, 28]),\n",
    "    keras.layers.Dropout(rate=0.2),\n",
    "    keras.layers.Dense(300, activation=\"relu\", kernel_initializer=\"he_normal\"),\n",
    "    keras.layers.Dropout(rate=0.2),\n",
    "    keras.layers.Dense(100, activation=\"relu\", kernel_initializer=\"he_normal\"),\n",
    "    keras.layers.Dropout(rate=0.2),\n",
    "    keras.layers.Dense(10, activation=\"softmax\")\n",
    "])"
   ]
  },
  {
   "cell_type": "markdown",
   "metadata": {},
   "source": [
    "Compile the model"
   ]
  },
  {
   "cell_type": "code",
   "execution_count": 62,
   "metadata": {
    "ExecuteTime": {
     "end_time": "2021-06-26T09:33:27.549159Z",
     "start_time": "2021-06-26T09:33:27.542616Z"
    }
   },
   "outputs": [],
   "source": [
    "model_simple_drp.compile(loss=model_params[\"loss\"], \n",
    "                         optimizer=model_params[\"optimizer\"], \n",
    "                         metrics=model_params[\"metrics\"])"
   ]
  },
  {
   "cell_type": "markdown",
   "metadata": {},
   "source": [
    "Train the model"
   ]
  },
  {
   "cell_type": "code",
   "execution_count": 63,
   "metadata": {
    "ExecuteTime": {
     "end_time": "2021-06-26T09:34:38.925321Z",
     "start_time": "2021-06-26T09:33:27.551294Z"
    },
    "scrolled": true
   },
   "outputs": [
    {
     "name": "stdout",
     "output_type": "stream",
     "text": [
      "Epoch 1/20\n",
      "1719/1719 [==============================] - 4s 2ms/step - loss: 0.6232 - accuracy: 0.7724 - val_loss: 0.4191 - val_accuracy: 0.8462\n",
      "Epoch 2/20\n",
      "1719/1719 [==============================] - 4s 2ms/step - loss: 0.4805 - accuracy: 0.8232 - val_loss: 0.3842 - val_accuracy: 0.8590\n",
      "Epoch 3/20\n",
      "1719/1719 [==============================] - 4s 2ms/step - loss: 0.4444 - accuracy: 0.8356 - val_loss: 0.3772 - val_accuracy: 0.8616\n",
      "Epoch 4/20\n",
      "1719/1719 [==============================] - 4s 2ms/step - loss: 0.4211 - accuracy: 0.8448 - val_loss: 0.3357 - val_accuracy: 0.8758\n",
      "Epoch 5/20\n",
      "1719/1719 [==============================] - 4s 2ms/step - loss: 0.4050 - accuracy: 0.8501 - val_loss: 0.3264 - val_accuracy: 0.8748\n",
      "Epoch 6/20\n",
      "1719/1719 [==============================] - 4s 2ms/step - loss: 0.3930 - accuracy: 0.8563 - val_loss: 0.3324 - val_accuracy: 0.8748\n",
      "Epoch 7/20\n",
      "1719/1719 [==============================] - 4s 2ms/step - loss: 0.3804 - accuracy: 0.8585 - val_loss: 0.3254 - val_accuracy: 0.8826\n",
      "Epoch 8/20\n",
      "1719/1719 [==============================] - 4s 2ms/step - loss: 0.3728 - accuracy: 0.8617 - val_loss: 0.3183 - val_accuracy: 0.8874\n",
      "Epoch 9/20\n",
      "1719/1719 [==============================] - 3s 2ms/step - loss: 0.3655 - accuracy: 0.8632 - val_loss: 0.3091 - val_accuracy: 0.8908\n",
      "Epoch 10/20\n",
      "1719/1719 [==============================] - 3s 2ms/step - loss: 0.3575 - accuracy: 0.8676 - val_loss: 0.3021 - val_accuracy: 0.8894\n",
      "Epoch 11/20\n",
      "1719/1719 [==============================] - 3s 2ms/step - loss: 0.3527 - accuracy: 0.8689 - val_loss: 0.3005 - val_accuracy: 0.8862\n",
      "Epoch 12/20\n",
      "1719/1719 [==============================] - 4s 2ms/step - loss: 0.3455 - accuracy: 0.8705 - val_loss: 0.2977 - val_accuracy: 0.8836\n",
      "Epoch 13/20\n",
      "1719/1719 [==============================] - 4s 2ms/step - loss: 0.3443 - accuracy: 0.8719 - val_loss: 0.3020 - val_accuracy: 0.8902\n",
      "Epoch 14/20\n",
      "1719/1719 [==============================] - 4s 2ms/step - loss: 0.3381 - accuracy: 0.8723 - val_loss: 0.3069 - val_accuracy: 0.8858\n",
      "Epoch 15/20\n",
      "1719/1719 [==============================] - 4s 2ms/step - loss: 0.3315 - accuracy: 0.8760 - val_loss: 0.3013 - val_accuracy: 0.8864\n",
      "Epoch 16/20\n",
      "1719/1719 [==============================] - 4s 2ms/step - loss: 0.3312 - accuracy: 0.8759 - val_loss: 0.2919 - val_accuracy: 0.8908\n",
      "Epoch 17/20\n",
      "1719/1719 [==============================] - 4s 2ms/step - loss: 0.3243 - accuracy: 0.8773 - val_loss: 0.2934 - val_accuracy: 0.8882\n",
      "Epoch 18/20\n",
      "1719/1719 [==============================] - 4s 2ms/step - loss: 0.3200 - accuracy: 0.8796 - val_loss: 0.3022 - val_accuracy: 0.8910\n",
      "Epoch 19/20\n",
      "1719/1719 [==============================] - 4s 2ms/step - loss: 0.3195 - accuracy: 0.8797 - val_loss: 0.2940 - val_accuracy: 0.8908\n",
      "Epoch 20/20\n",
      "1719/1719 [==============================] - 3s 2ms/step - loss: 0.3174 - accuracy: 0.8816 - val_loss: 0.2855 - val_accuracy: 0.8938\n"
     ]
    }
   ],
   "source": [
    "history_simple_drp = model_simple_drp.fit(X_train_normalized, y_train, epochs=model_params[\"n_epochs\"], \n",
    "                                          validation_data=(X_valid_normalized, y_valid))"
   ]
  },
  {
   "cell_type": "code",
   "execution_count": 64,
   "metadata": {
    "ExecuteTime": {
     "end_time": "2021-06-26T09:34:39.144364Z",
     "start_time": "2021-06-26T09:34:38.927513Z"
    }
   },
   "outputs": [
    {
     "data": {
      "image/png": "[encoded data removed]",
      "text/plain": [
       "<Figure size 576x360 with 1 Axes>"
      ]
     },
     "metadata": {
      "needs_background": "light"
     },
     "output_type": "display_data"
    }
   ],
   "source": [
    "pd.DataFrame(history_simple_drp.history).plot(figsize=(8, 5))\n",
    "plt.grid(True)\n",
    "plt.gca().set_ylim(0, 1)\n",
    "plt.show()"
   ]
  },
  {
   "cell_type": "markdown",
   "metadata": {},
   "source": [
    "## Evaluate the model on the Test data"
   ]
  },
  {
   "cell_type": "code",
   "execution_count": 65,
   "metadata": {
    "ExecuteTime": {
     "end_time": "2021-06-26T09:34:39.758589Z",
     "start_time": "2021-06-26T09:34:39.146542Z"
    }
   },
   "outputs": [
    {
     "name": "stdout",
     "output_type": "stream",
     "text": [
      "313/313 [==============================] - 1s 1ms/step - loss: 32.5892 - accuracy: 0.8416\n"
     ]
    }
   ],
   "source": [
    "loss, accuracy = model_simple_drp.evaluate(X_test, y_test)"
   ]
  },
  {
   "cell_type": "code",
   "execution_count": 66,
   "metadata": {
    "ExecuteTime": {
     "end_time": "2021-06-26T09:34:39.764821Z",
     "start_time": "2021-06-26T09:34:39.760970Z"
    }
   },
   "outputs": [
    {
     "name": "stdout",
     "output_type": "stream",
     "text": [
      "Accuracy: 0.8416000008583069\n"
     ]
    }
   ],
   "source": [
    "print(\"Accuracy: %.3f\" % (accuracy * 100))"
   ]
  },
  {
   "cell_type": "markdown",
   "metadata": {},
   "source": [
    "## Predictions"
   ]
  },
  {
   "cell_type": "markdown",
   "metadata": {},
   "source": [
    "### Instance - Ankle boot"
   ]
  },
  {
   "cell_type": "code",
   "execution_count": 67,
   "metadata": {
    "ExecuteTime": {
     "end_time": "2021-06-26T09:34:39.847152Z",
     "start_time": "2021-06-26T09:34:39.767218Z"
    }
   },
   "outputs": [
    {
     "data": {
      "text/plain": [
       "array([[0.  , 0.  , 0.  , 0.  , 0.  , 0.  , 0.  , 0.07, 0.  , 0.93]],\n",
       "      dtype=float32)"
      ]
     },
     "execution_count": 67,
     "metadata": {},
     "output_type": "execute_result"
    }
   ],
   "source": [
    "y_proba_softmax = model_simple_drp.predict(X_test_normalized[0:1])\n",
    "y_proba_softmax.round(2)"
   ]
  },
  {
   "cell_type": "code",
   "execution_count": 68,
   "metadata": {
    "ExecuteTime": {
     "end_time": "2021-06-26T09:34:39.903573Z",
     "start_time": "2021-06-26T09:34:39.860399Z"
    },
    "scrolled": true
   },
   "outputs": [
    {
     "data": {
      "text/plain": [
       "array([9])"
      ]
     },
     "execution_count": 68,
     "metadata": {},
     "output_type": "execute_result"
    }
   ],
   "source": [
    "y_pred = np.argmax(model_simple_drp.predict(X_test_normalized[0:1]), axis=-1)\n",
    "y_pred"
   ]
  },
  {
   "cell_type": "code",
   "execution_count": 69,
   "metadata": {
    "ExecuteTime": {
     "end_time": "2021-06-26T09:34:39.911164Z",
     "start_time": "2021-06-26T09:34:39.907575Z"
    }
   },
   "outputs": [
    {
     "data": {
      "text/plain": [
       "array(['Ankle boot'], dtype='<U11')"
      ]
     },
     "execution_count": 69,
     "metadata": {},
     "output_type": "execute_result"
    }
   ],
   "source": [
    "np.array(class_names)[y_pred]"
   ]
  },
  {
   "cell_type": "markdown",
   "metadata": {},
   "source": [
    "### Instance - Coat"
   ]
  },
  {
   "cell_type": "code",
   "execution_count": 70,
   "metadata": {
    "ExecuteTime": {
     "end_time": "2021-06-26T09:34:39.956419Z",
     "start_time": "2021-06-26T09:34:39.914245Z"
    }
   },
   "outputs": [
    {
     "data": {
      "text/plain": [
       "array([[0.  , 0.  , 0.08, 0.  , 0.89, 0.  , 0.03, 0.  , 0.  , 0.  ]],\n",
       "      dtype=float32)"
      ]
     },
     "execution_count": 70,
     "metadata": {},
     "output_type": "execute_result"
    }
   ],
   "source": [
    "y_proba_softmax = model_simple_drp.predict(X_test_normalized[10:11])\n",
    "y_proba_softmax.round(2)"
   ]
  },
  {
   "cell_type": "code",
   "execution_count": 71,
   "metadata": {
    "ExecuteTime": {
     "end_time": "2021-06-26T09:34:40.002104Z",
     "start_time": "2021-06-26T09:34:39.958888Z"
    },
    "scrolled": true
   },
   "outputs": [
    {
     "data": {
      "text/plain": [
       "array([4])"
      ]
     },
     "execution_count": 71,
     "metadata": {},
     "output_type": "execute_result"
    }
   ],
   "source": [
    "y_pred = np.argmax(model_simple_drp.predict(X_test_normalized[10:11]), axis=-1)\n",
    "y_pred"
   ]
  },
  {
   "cell_type": "code",
   "execution_count": 72,
   "metadata": {
    "ExecuteTime": {
     "end_time": "2021-06-26T09:34:40.008056Z",
     "start_time": "2021-06-26T09:34:40.004087Z"
    }
   },
   "outputs": [
    {
     "data": {
      "text/plain": [
       "array(['Coat'], dtype='<U11')"
      ]
     },
     "execution_count": 72,
     "metadata": {},
     "output_type": "execute_result"
    }
   ],
   "source": [
    "np.array(class_names)[y_pred]"
   ]
  },
  {
   "cell_type": "code",
   "execution_count": null,
   "metadata": {},
   "outputs": [],
   "source": []
  },
  {
   "cell_type": "markdown",
   "metadata": {},
   "source": [
    "# Simple model with Dropout -  Enable MC Dropout in predictions"
   ]
  },
  {
   "cell_type": "markdown",
   "metadata": {},
   "source": [
    "## Do the Monte Carlo Dropout \"trick\" by setting the `training` to `True`\n",
    "\n",
    "**Do also:**\n",
    "- a) make 100 predictions over the test set\n",
    "- b) stack the predictions\n"
   ]
  },
  {
   "cell_type": "code",
   "execution_count": 73,
   "metadata": {
    "ExecuteTime": {
     "end_time": "2021-06-26T09:34:54.678116Z",
     "start_time": "2021-06-26T09:34:40.010682Z"
    }
   },
   "outputs": [
    {
     "data": {
      "application/vnd.jupyter.widget-view+json": {
       "model_id": "4e6e5141d0464a5191131fad21d08b58",
       "version_major": 2,
       "version_minor": 0
      },
      "text/plain": [
       "HBox(children=(FloatProgress(value=0.0), HTML(value='')))"
      ]
     },
     "metadata": {},
     "output_type": "display_data"
    },
    {
     "name": "stdout",
     "output_type": "stream",
     "text": [
      "\n"
     ]
    }
   ],
   "source": [
    "y_probas = np.stack([model_simple_drp(X_test_normalized, training=True) for sample in tqdm(range(100))])"
   ]
  },
  {
   "cell_type": "markdown",
   "metadata": {},
   "source": [
    "**For each instance of the test set, compute the mean of the 100 exported probabilities, as well as the standard deviation**"
   ]
  },
  {
   "cell_type": "code",
   "execution_count": 74,
   "metadata": {
    "ExecuteTime": {
     "end_time": "2021-06-26T09:34:54.691116Z",
     "start_time": "2021-06-26T09:34:54.680247Z"
    }
   },
   "outputs": [],
   "source": [
    "y_proba = y_probas.mean(axis=0)"
   ]
  },
  {
   "cell_type": "code",
   "execution_count": 75,
   "metadata": {
    "ExecuteTime": {
     "end_time": "2021-06-26T09:34:54.735120Z",
     "start_time": "2021-06-26T09:34:54.693354Z"
    }
   },
   "outputs": [],
   "source": [
    "y_std = y_probas.std(axis=0)"
   ]
  },
  {
   "cell_type": "markdown",
   "metadata": {},
   "source": [
    "## Predictions"
   ]
  },
  {
   "cell_type": "markdown",
   "metadata": {},
   "source": [
    "### Instance - Ankle boot"
   ]
  },
  {
   "cell_type": "markdown",
   "metadata": {},
   "source": [
    "Predict the same instance again as previously with `softmax` and the `dropout` **off**. It is the same as the section above and it is presented to see the difference in the predictions."
   ]
  },
  {
   "cell_type": "code",
   "execution_count": 76,
   "metadata": {
    "ExecuteTime": {
     "end_time": "2021-06-26T09:34:54.780549Z",
     "start_time": "2021-06-26T09:34:54.736764Z"
    }
   },
   "outputs": [
    {
     "data": {
      "text/plain": [
       "array([[0.  , 0.  , 0.  , 0.  , 0.  , 0.  , 0.  , 0.07, 0.  , 0.93]],\n",
       "      dtype=float32)"
      ]
     },
     "execution_count": 76,
     "metadata": {},
     "output_type": "execute_result"
    }
   ],
   "source": [
    "y_proba_softmax = model_simple_drp.predict(X_test_normalized[0:1])\n",
    "y_proba_softmax.round(2)"
   ]
  },
  {
   "cell_type": "markdown",
   "metadata": {},
   "source": [
    "Print the first 3 probabilities' distribution from the 100 predicted outputs of that instance"
   ]
  },
  {
   "cell_type": "code",
   "execution_count": 77,
   "metadata": {
    "ExecuteTime": {
     "end_time": "2021-06-26T09:34:54.788467Z",
     "start_time": "2021-06-26T09:34:54.783073Z"
    }
   },
   "outputs": [
    {
     "data": {
      "text/plain": [
       "array([[[0.  , 0.  , 0.  , 0.  , 0.  , 0.  , 0.  , 0.05, 0.  , 0.95]],\n",
       "\n",
       "       [[0.  , 0.  , 0.  , 0.  , 0.  , 0.  , 0.  , 0.03, 0.  , 0.97]],\n",
       "\n",
       "       [[0.  , 0.  , 0.  , 0.  , 0.  , 0.  , 0.  , 0.53, 0.  , 0.47]]],\n",
       "      dtype=float32)"
      ]
     },
     "execution_count": 77,
     "metadata": {},
     "output_type": "execute_result"
    }
   ],
   "source": [
    "np.round(y_probas[:, 0:1], 2)[:3]"
   ]
  },
  {
   "cell_type": "code",
   "execution_count": 78,
   "metadata": {
    "ExecuteTime": {
     "end_time": "2021-06-26T09:34:54.794678Z",
     "start_time": "2021-06-26T09:34:54.790648Z"
    }
   },
   "outputs": [
    {
     "name": "stdout",
     "output_type": "stream",
     "text": [
      "Shape of the 100 probability predictions for this instance: (100, 1, 10)\n"
     ]
    }
   ],
   "source": [
    "print(\"Shape of the 100 probability predictions for this instance:\", np.round(y_probas[:, 10:11], 2).shape)"
   ]
  },
  {
   "cell_type": "markdown",
   "metadata": {},
   "source": [
    "**Predict the class for this instance**\n",
    "\n",
    "This step is critical as it is also useful to know exactly which other classes it thinks are likely."
   ]
  },
  {
   "cell_type": "code",
   "execution_count": 79,
   "metadata": {
    "ExecuteTime": {
     "end_time": "2021-06-26T09:34:54.801935Z",
     "start_time": "2021-06-26T09:34:54.796748Z"
    }
   },
   "outputs": [
    {
     "data": {
      "text/plain": [
       "array([[0.  , 0.  , 0.  , 0.  , 0.  , 0.01, 0.  , 0.14, 0.  , 0.85]],\n",
       "      dtype=float32)"
      ]
     },
     "execution_count": 79,
     "metadata": {},
     "output_type": "execute_result"
    }
   ],
   "source": [
    "np.round(y_proba[0:1], 2)"
   ]
  },
  {
   "cell_type": "markdown",
   "metadata": {},
   "source": [
    "Take a look at the standard deviation of the probability estimates for this istance"
   ]
  },
  {
   "cell_type": "code",
   "execution_count": 80,
   "metadata": {
    "ExecuteTime": {
     "end_time": "2021-06-26T09:34:54.809649Z",
     "start_time": "2021-06-26T09:34:54.804268Z"
    }
   },
   "outputs": [
    {
     "data": {
      "text/plain": [
       "array([[0.  , 0.  , 0.  , 0.  , 0.  , 0.02, 0.  , 0.14, 0.  , 0.15]],\n",
       "      dtype=float32)"
      ]
     },
     "execution_count": 80,
     "metadata": {},
     "output_type": "execute_result"
    }
   ],
   "source": [
    "np.round(y_std[0:1], 2)"
   ]
  },
  {
   "cell_type": "markdown",
   "metadata": {},
   "source": [
    "### Instance - Coat"
   ]
  },
  {
   "cell_type": "markdown",
   "metadata": {},
   "source": [
    "Predict the same instance again as previously with `softmax` and the `dropout` **off**. It is the same as the section above and it is presented to see the difference in the predictions."
   ]
  },
  {
   "cell_type": "code",
   "execution_count": 81,
   "metadata": {
    "ExecuteTime": {
     "end_time": "2021-06-26T09:34:54.855286Z",
     "start_time": "2021-06-26T09:34:54.812162Z"
    }
   },
   "outputs": [
    {
     "data": {
      "text/plain": [
       "array([[0.  , 0.  , 0.08, 0.  , 0.89, 0.  , 0.03, 0.  , 0.  , 0.  ]],\n",
       "      dtype=float32)"
      ]
     },
     "execution_count": 81,
     "metadata": {},
     "output_type": "execute_result"
    }
   ],
   "source": [
    "y_proba_softmax = model_simple_drp.predict(X_test_normalized[10:11])\n",
    "y_proba_softmax.round(2)"
   ]
  },
  {
   "cell_type": "markdown",
   "metadata": {},
   "source": [
    "Print the first 3 probabilities' distribution from the 100 predicted outputs of that instance"
   ]
  },
  {
   "cell_type": "code",
   "execution_count": 82,
   "metadata": {
    "ExecuteTime": {
     "end_time": "2021-06-26T09:34:54.862781Z",
     "start_time": "2021-06-26T09:34:54.857408Z"
    }
   },
   "outputs": [
    {
     "data": {
      "text/plain": [
       "array([[[0.  , 0.  , 0.13, 0.  , 0.81, 0.  , 0.06, 0.  , 0.  , 0.  ]],\n",
       "\n",
       "       [[0.  , 0.  , 0.11, 0.  , 0.88, 0.  , 0.01, 0.  , 0.  , 0.  ]],\n",
       "\n",
       "       [[0.  , 0.  , 0.05, 0.  , 0.92, 0.  , 0.03, 0.  , 0.  , 0.  ]]],\n",
       "      dtype=float32)"
      ]
     },
     "execution_count": 82,
     "metadata": {},
     "output_type": "execute_result"
    }
   ],
   "source": [
    "np.round(y_probas[:, 10:11], 2)[:3]"
   ]
  },
  {
   "cell_type": "code",
   "execution_count": 83,
   "metadata": {
    "ExecuteTime": {
     "end_time": "2021-06-26T09:34:54.869964Z",
     "start_time": "2021-06-26T09:34:54.865560Z"
    }
   },
   "outputs": [
    {
     "name": "stdout",
     "output_type": "stream",
     "text": [
      "Shape of the 100 probability predictions for this instance: (100, 1, 10)\n"
     ]
    }
   ],
   "source": [
    "print(\"Shape of the 100 probability predictions for this instance:\", np.round(y_probas[:, 10:11], 2).shape)"
   ]
  },
  {
   "cell_type": "markdown",
   "metadata": {},
   "source": [
    "**Predict the class for this instance**\n",
    "\n",
    "This step is critical as it is also useful to know exactly which other classes it thinks are likely."
   ]
  },
  {
   "cell_type": "code",
   "execution_count": 84,
   "metadata": {
    "ExecuteTime": {
     "end_time": "2021-06-26T09:34:54.876957Z",
     "start_time": "2021-06-26T09:34:54.872299Z"
    }
   },
   "outputs": [
    {
     "data": {
      "text/plain": [
       "array([[0.  , 0.  , 0.15, 0.  , 0.81, 0.  , 0.04, 0.  , 0.  , 0.  ]],\n",
       "      dtype=float32)"
      ]
     },
     "execution_count": 84,
     "metadata": {},
     "output_type": "execute_result"
    }
   ],
   "source": [
    "np.round(y_proba[10:11], 2)"
   ]
  },
  {
   "cell_type": "markdown",
   "metadata": {},
   "source": [
    "Take a look at the standard deviation of the probability estimates for this istance"
   ]
  },
  {
   "cell_type": "code",
   "execution_count": 85,
   "metadata": {
    "ExecuteTime": {
     "end_time": "2021-06-26T09:34:54.884878Z",
     "start_time": "2021-06-26T09:34:54.879437Z"
    }
   },
   "outputs": [
    {
     "data": {
      "text/plain": [
       "array([[0.  , 0.  , 0.12, 0.  , 0.14, 0.  , 0.04, 0.  , 0.  , 0.  ]],\n",
       "      dtype=float32)"
      ]
     },
     "execution_count": 85,
     "metadata": {},
     "output_type": "execute_result"
    }
   ],
   "source": [
    "np.round(y_std[10:11], 2)"
   ]
  },
  {
   "cell_type": "markdown",
   "metadata": {},
   "source": [
    "## Evaluate the model on the Test data (with the probabilities this time)"
   ]
  },
  {
   "cell_type": "markdown",
   "metadata": {},
   "source": [
    "Hold the predicted classes by return the maximum value from each probability estimate"
   ]
  },
  {
   "cell_type": "code",
   "execution_count": 86,
   "metadata": {
    "ExecuteTime": {
     "end_time": "2021-06-26T09:34:54.890806Z",
     "start_time": "2021-06-26T09:34:54.887146Z"
    }
   },
   "outputs": [],
   "source": [
    "y_pred = np.argmax(y_proba, axis=1)"
   ]
  },
  {
   "cell_type": "code",
   "execution_count": 87,
   "metadata": {
    "ExecuteTime": {
     "end_time": "2021-06-26T09:34:54.896085Z",
     "start_time": "2021-06-26T09:34:54.892940Z"
    }
   },
   "outputs": [],
   "source": [
    "accuracy = np.sum(y_pred == y_test) / len(y_test)"
   ]
  },
  {
   "cell_type": "code",
   "execution_count": 88,
   "metadata": {
    "ExecuteTime": {
     "end_time": "2021-06-26T09:34:54.902545Z",
     "start_time": "2021-06-26T09:34:54.898744Z"
    }
   },
   "outputs": [
    {
     "name": "stdout",
     "output_type": "stream",
     "text": [
      "Accuracy: 0.8809\n"
     ]
    }
   ],
   "source": [
    "print(\"Accuracy: %.3f\" % (accuracy * 100))"
   ]
  },
  {
   "cell_type": "markdown",
   "metadata": {},
   "source": [
    "**The model's accuracy got a little boost with this method**"
   ]
  },
  {
   "cell_type": "markdown",
   "metadata": {},
   "source": [
    "# MC Simple Model Dropout - Transfer the weights\n",
    "\n",
    "**a) Force the Dropout's `training` argument to `True` by overriding the `call()` method**\n",
    "\n",
    "**b) Replace the Dropout with the `MCDropout` method**\n",
    "\n",
    "**c) Get the weights from the previous model and set them to a new one**"
   ]
  },
  {
   "cell_type": "markdown",
   "metadata": {},
   "source": [
    "## Override the Dropout class to MCDropout"
   ]
  },
  {
   "cell_type": "code",
   "execution_count": 89,
   "metadata": {
    "ExecuteTime": {
     "end_time": "2021-06-26T09:34:54.908632Z",
     "start_time": "2021-06-26T09:34:54.904966Z"
    }
   },
   "outputs": [],
   "source": [
    "class MCDropout(keras.layers.Dropout):\n",
    "    def call(self, inputs):\n",
    "        return super().call(inputs, training=True)"
   ]
  },
  {
   "cell_type": "markdown",
   "metadata": {},
   "source": [
    "## Build the model"
   ]
  },
  {
   "cell_type": "markdown",
   "metadata": {},
   "source": [
    "**Because the model is already trained, the Dropout layers are replaced with the MCDropout, and the trained model's weights are set to the new model in order to run again the predictions**"
   ]
  },
  {
   "cell_type": "code",
   "execution_count": 91,
   "metadata": {
    "ExecuteTime": {
     "end_time": "2021-06-26T09:35:43.805052Z",
     "start_time": "2021-06-26T09:35:43.730482Z"
    }
   },
   "outputs": [],
   "source": [
    "mc_model_simple_drp = keras.models.Sequential([\n",
    "    MCDropout(layer.rate) if isinstance(layer, keras.layers.Dropout) else layer\n",
    "    for layer in model_simple_drp.layers\n",
    "])"
   ]
  },
  {
   "cell_type": "code",
   "execution_count": 92,
   "metadata": {
    "ExecuteTime": {
     "end_time": "2021-06-26T09:35:45.422369Z",
     "start_time": "2021-06-26T09:35:45.417755Z"
    }
   },
   "outputs": [
    {
     "name": "stdout",
     "output_type": "stream",
     "text": [
      "Model: \"sequential_2\"\n",
      "_________________________________________________________________\n",
      "Layer (type)                 Output Shape              Param #   \n",
      "=================================================================\n",
      "flatten_1 (Flatten)          (None, 784)               0         \n",
      "_________________________________________________________________\n",
      "mc_dropout (MCDropout)       (None, 784)               0         \n",
      "_________________________________________________________________\n",
      "dense_3 (Dense)              (None, 300)               235500    \n",
      "_________________________________________________________________\n",
      "mc_dropout_1 (MCDropout)     (None, 300)               0         \n",
      "_________________________________________________________________\n",
      "dense_4 (Dense)              (None, 100)               30100     \n",
      "_________________________________________________________________\n",
      "mc_dropout_2 (MCDropout)     (None, 100)               0         \n",
      "_________________________________________________________________\n",
      "dense_5 (Dense)              (None, 10)                1010      \n",
      "=================================================================\n",
      "Total params: 266,610\n",
      "Trainable params: 266,610\n",
      "Non-trainable params: 0\n",
      "_________________________________________________________________\n"
     ]
    }
   ],
   "source": [
    "mc_model_simple_drp.summary()"
   ]
  },
  {
   "cell_type": "code",
   "execution_count": 93,
   "metadata": {
    "ExecuteTime": {
     "end_time": "2021-06-26T09:35:49.870116Z",
     "start_time": "2021-06-26T09:35:49.862651Z"
    }
   },
   "outputs": [],
   "source": [
    "mc_model_simple_drp.compile(loss=model_params[\"loss\"], \n",
    "                            optimizer=model_params[\"optimizer\"], \n",
    "                            metrics=model_params[\"metrics\"])"
   ]
  },
  {
   "cell_type": "markdown",
   "metadata": {},
   "source": [
    "## Transfer the weights from the previous model"
   ]
  },
  {
   "cell_type": "markdown",
   "metadata": {},
   "source": [
    "Set the Monte Carlo updated model's weights with these from pre-trained one"
   ]
  },
  {
   "cell_type": "code",
   "execution_count": 94,
   "metadata": {
    "ExecuteTime": {
     "end_time": "2021-06-26T09:35:58.225276Z",
     "start_time": "2021-06-26T09:35:58.219557Z"
    }
   },
   "outputs": [],
   "source": [
    "mc_model_simple_drp.set_weights(model_simple_drp.get_weights())"
   ]
  },
  {
   "cell_type": "markdown",
   "metadata": {},
   "source": [
    "## Predictions"
   ]
  },
  {
   "cell_type": "code",
   "execution_count": 95,
   "metadata": {
    "ExecuteTime": {
     "end_time": "2021-06-26T09:36:03.252235Z",
     "start_time": "2021-06-26T09:36:03.248500Z"
    }
   },
   "outputs": [
    {
     "data": {
      "text/plain": [
       "['T-shirt/top',\n",
       " 'Trouser',\n",
       " 'Pullover',\n",
       " 'Dress',\n",
       " 'Coat',\n",
       " 'Sandal',\n",
       " 'Shirt',\n",
       " 'Sneaker',\n",
       " 'Bag',\n",
       " 'Ankle boot']"
      ]
     },
     "execution_count": 95,
     "metadata": {},
     "output_type": "execute_result"
    }
   ],
   "source": [
    "class_names"
   ]
  },
  {
   "cell_type": "markdown",
   "metadata": {},
   "source": [
    "Use the model straightforward with MC Dropout layer to predict the unique instance's class"
   ]
  },
  {
   "cell_type": "markdown",
   "metadata": {},
   "source": [
    "### Instance - Ankle Boot"
   ]
  },
  {
   "cell_type": "code",
   "execution_count": 96,
   "metadata": {
    "ExecuteTime": {
     "end_time": "2021-06-26T09:36:11.236221Z",
     "start_time": "2021-06-26T09:36:07.389060Z"
    }
   },
   "outputs": [
    {
     "data": {
      "application/vnd.jupyter.widget-view+json": {
       "model_id": "3dee1064c4f84553a0c8f2c4e49566ee",
       "version_major": 2,
       "version_minor": 0
      },
      "text/plain": [
       "HBox(children=(FloatProgress(value=0.0), HTML(value='')))"
      ]
     },
     "metadata": {},
     "output_type": "display_data"
    },
    {
     "name": "stdout",
     "output_type": "stream",
     "text": [
      "\n"
     ]
    },
    {
     "data": {
      "text/plain": [
       "array([[0.  , 0.  , 0.  , 0.  , 0.  , 0.  , 0.  , 0.13, 0.  , 0.87]],\n",
       "      dtype=float32)"
      ]
     },
     "execution_count": 96,
     "metadata": {},
     "output_type": "execute_result"
    }
   ],
   "source": [
    "np.round(np.mean([mc_model_simple_drp.predict(X_test_normalized[0:1]) \n",
    "                  for sample in tqdm(range(100))], axis=0), 2)"
   ]
  },
  {
   "cell_type": "markdown",
   "metadata": {},
   "source": [
    "### Instance - Coat"
   ]
  },
  {
   "cell_type": "code",
   "execution_count": 97,
   "metadata": {
    "ExecuteTime": {
     "end_time": "2021-06-26T09:36:17.894985Z",
     "start_time": "2021-06-26T09:36:13.813306Z"
    }
   },
   "outputs": [
    {
     "data": {
      "application/vnd.jupyter.widget-view+json": {
       "model_id": "98307c9cabde4b33a1070f07c777c23e",
       "version_major": 2,
       "version_minor": 0
      },
      "text/plain": [
       "HBox(children=(FloatProgress(value=0.0), HTML(value='')))"
      ]
     },
     "metadata": {},
     "output_type": "display_data"
    },
    {
     "name": "stdout",
     "output_type": "stream",
     "text": [
      "\n"
     ]
    },
    {
     "data": {
      "text/plain": [
       "array([[0.  , 0.  , 0.14, 0.  , 0.82, 0.  , 0.04, 0.  , 0.  , 0.  ]],\n",
       "      dtype=float32)"
      ]
     },
     "execution_count": 97,
     "metadata": {},
     "output_type": "execute_result"
    }
   ],
   "source": [
    "np.round(np.mean([mc_model_simple_drp.predict(X_test_normalized[10:11]) \n",
    "                  for sample in tqdm(range(100))], axis=0), 2)"
   ]
  },
  {
   "cell_type": "markdown",
   "metadata": {},
   "source": [
    "## Evaluate the model on the Test data (with the probabilities this time)"
   ]
  },
  {
   "cell_type": "code",
   "execution_count": 104,
   "metadata": {
    "ExecuteTime": {
     "end_time": "2021-06-26T09:54:49.311454Z",
     "start_time": "2021-06-26T09:54:36.688122Z"
    }
   },
   "outputs": [
    {
     "data": {
      "application/vnd.jupyter.widget-view+json": {
       "model_id": "42f7cb2250e1437fb6efd49cd191559e",
       "version_major": 2,
       "version_minor": 0
      },
      "text/plain": [
       "HBox(children=(FloatProgress(value=0.0), HTML(value='')))"
      ]
     },
     "metadata": {},
     "output_type": "display_data"
    },
    {
     "name": "stdout",
     "output_type": "stream",
     "text": [
      "\n"
     ]
    }
   ],
   "source": [
    "y_probas = np.stack([mc_model_simple_drp(X_test_normalized, training=True) for sample in tqdm(range(100))])"
   ]
  },
  {
   "cell_type": "code",
   "execution_count": 105,
   "metadata": {
    "ExecuteTime": {
     "end_time": "2021-06-26T09:54:49.322732Z",
     "start_time": "2021-06-26T09:54:49.314404Z"
    }
   },
   "outputs": [],
   "source": [
    "y_proba = y_probas.mean(axis=0)"
   ]
  },
  {
   "cell_type": "code",
   "execution_count": 106,
   "metadata": {
    "ExecuteTime": {
     "end_time": "2021-06-26T09:54:49.352741Z",
     "start_time": "2021-06-26T09:54:49.325329Z"
    }
   },
   "outputs": [],
   "source": [
    "y_std = y_probas.std(axis=0)"
   ]
  },
  {
   "cell_type": "markdown",
   "metadata": {},
   "source": [
    "Hold the predicted classes by return the maximum value from each probability estimate"
   ]
  },
  {
   "cell_type": "code",
   "execution_count": 107,
   "metadata": {
    "ExecuteTime": {
     "end_time": "2021-06-26T09:54:49.358698Z",
     "start_time": "2021-06-26T09:54:49.354839Z"
    }
   },
   "outputs": [],
   "source": [
    "y_pred = np.argmax(y_proba, axis=1)"
   ]
  },
  {
   "cell_type": "code",
   "execution_count": 108,
   "metadata": {
    "ExecuteTime": {
     "end_time": "2021-06-26T09:54:49.364502Z",
     "start_time": "2021-06-26T09:54:49.360383Z"
    }
   },
   "outputs": [],
   "source": [
    "accuracy = np.sum(y_pred == y_test) / len(y_test)"
   ]
  },
  {
   "cell_type": "code",
   "execution_count": 109,
   "metadata": {
    "ExecuteTime": {
     "end_time": "2021-06-26T09:54:49.371003Z",
     "start_time": "2021-06-26T09:54:49.367150Z"
    }
   },
   "outputs": [
    {
     "name": "stdout",
     "output_type": "stream",
     "text": [
      "Accuracy: 0.8824\n"
     ]
    }
   ],
   "source": [
    "print(\"Accuracy: %.3f\" % (accuracy * 100))"
   ]
  },
  {
   "cell_type": "markdown",
   "metadata": {},
   "source": [
    "**The model's accuracy got a little boost with this method**"
   ]
  },
  {
   "cell_type": "markdown",
   "metadata": {},
   "source": [
    "# CNN Simple with Dropout"
   ]
  },
  {
   "cell_type": "markdown",
   "metadata": {},
   "source": [
    "Reset all state generated by Keras"
   ]
  },
  {
   "cell_type": "code",
   "execution_count": 110,
   "metadata": {
    "ExecuteTime": {
     "end_time": "2021-06-26T09:55:16.095608Z",
     "start_time": "2021-06-26T09:55:16.093285Z"
    }
   },
   "outputs": [],
   "source": [
    "# keras.backend.clear_session()"
   ]
  },
  {
   "cell_type": "markdown",
   "metadata": {
    "ExecuteTime": {
     "end_time": "2021-06-23T19:47:03.034859Z",
     "start_time": "2021-06-23T19:47:02.938662Z"
    }
   },
   "source": [
    "## Build and train a CNN model"
   ]
  },
  {
   "cell_type": "code",
   "execution_count": 111,
   "metadata": {
    "ExecuteTime": {
     "end_time": "2021-06-26T09:55:19.188816Z",
     "start_time": "2021-06-26T09:55:19.065960Z"
    }
   },
   "outputs": [],
   "source": [
    "model_cnn = Sequential()\n",
    "model_cnn.add(Conv2D(32, (3, 3), kernel_initializer='he_uniform', input_shape=(28, 28, 1)))\n",
    "model_cnn.add(BatchNormalization())\n",
    "model_cnn.add(Activation(\"relu\"))\n",
    "model_cnn.add(Dropout(0.5))\n",
    "model_cnn.add(MaxPooling2D((2, 2)))\n",
    "model_cnn.add(Conv2D(64, (3, 3), activation='relu', kernel_initializer='he_uniform'))\n",
    "model_cnn.add(BatchNormalization())\n",
    "model_cnn.add(Activation(\"relu\"))\n",
    "model_cnn.add(Conv2D(64, (3, 3), kernel_initializer='he_uniform'))\n",
    "model_cnn.add(BatchNormalization())\n",
    "model_cnn.add(Activation(\"relu\"))\n",
    "model_cnn.add(MaxPooling2D((2, 2)))\n",
    "model_cnn.add(Flatten())\n",
    "model_cnn.add(Dense(100, kernel_initializer='he_uniform'))\n",
    "model_cnn.add(BatchNormalization())\n",
    "model_cnn.add(Activation(\"relu\"))\n",
    "model_cnn.add(Dropout(0.5))\n",
    "model_cnn.add(Dense(10, activation='softmax'))"
   ]
  },
  {
   "cell_type": "code",
   "execution_count": 112,
   "metadata": {
    "ExecuteTime": {
     "end_time": "2021-06-26T09:55:21.163276Z",
     "start_time": "2021-06-26T09:55:21.156365Z"
    }
   },
   "outputs": [
    {
     "name": "stdout",
     "output_type": "stream",
     "text": [
      "Model: \"sequential_3\"\n",
      "_________________________________________________________________\n",
      "Layer (type)                 Output Shape              Param #   \n",
      "=================================================================\n",
      "conv2d (Conv2D)              (None, 26, 26, 32)        320       \n",
      "_________________________________________________________________\n",
      "batch_normalization (BatchNo (None, 26, 26, 32)        128       \n",
      "_________________________________________________________________\n",
      "activation (Activation)      (None, 26, 26, 32)        0         \n",
      "_________________________________________________________________\n",
      "dropout_3 (Dropout)          (None, 26, 26, 32)        0         \n",
      "_________________________________________________________________\n",
      "max_pooling2d (MaxPooling2D) (None, 13, 13, 32)        0         \n",
      "_________________________________________________________________\n",
      "conv2d_1 (Conv2D)            (None, 11, 11, 64)        18496     \n",
      "_________________________________________________________________\n",
      "batch_normalization_1 (Batch (None, 11, 11, 64)        256       \n",
      "_________________________________________________________________\n",
      "activation_1 (Activation)    (None, 11, 11, 64)        0         \n",
      "_________________________________________________________________\n",
      "conv2d_2 (Conv2D)            (None, 9, 9, 64)          36928     \n",
      "_________________________________________________________________\n",
      "batch_normalization_2 (Batch (None, 9, 9, 64)          256       \n",
      "_________________________________________________________________\n",
      "activation_2 (Activation)    (None, 9, 9, 64)          0         \n",
      "_________________________________________________________________\n",
      "max_pooling2d_1 (MaxPooling2 (None, 4, 4, 64)          0         \n",
      "_________________________________________________________________\n",
      "flatten_2 (Flatten)          (None, 1024)              0         \n",
      "_________________________________________________________________\n",
      "dense_6 (Dense)              (None, 100)               102500    \n",
      "_________________________________________________________________\n",
      "batch_normalization_3 (Batch (None, 100)               400       \n",
      "_________________________________________________________________\n",
      "activation_3 (Activation)    (None, 100)               0         \n",
      "_________________________________________________________________\n",
      "dropout_4 (Dropout)          (None, 100)               0         \n",
      "_________________________________________________________________\n",
      "dense_7 (Dense)              (None, 10)                1010      \n",
      "=================================================================\n",
      "Total params: 160,294\n",
      "Trainable params: 159,774\n",
      "Non-trainable params: 520\n",
      "_________________________________________________________________\n"
     ]
    }
   ],
   "source": [
    "model_cnn.summary()"
   ]
  },
  {
   "cell_type": "code",
   "execution_count": 113,
   "metadata": {
    "ExecuteTime": {
     "end_time": "2021-06-26T09:55:26.666171Z",
     "start_time": "2021-06-26T09:55:26.658783Z"
    }
   },
   "outputs": [],
   "source": [
    "model_cnn.compile(loss=model_params[\"loss\"], \n",
    "                  optimizer=model_params[\"optimizer\"], \n",
    "                  metrics=model_params[\"metrics\"])"
   ]
  },
  {
   "cell_type": "code",
   "execution_count": 115,
   "metadata": {
    "ExecuteTime": {
     "end_time": "2021-06-26T10:18:36.017380Z",
     "start_time": "2021-06-26T10:00:20.012102Z"
    }
   },
   "outputs": [
    {
     "name": "stdout",
     "output_type": "stream",
     "text": [
      "Epoch 1/20\n",
      "1719/1719 [==============================] - 52s 30ms/step - loss: 0.5208 - accuracy: 0.8129 - val_loss: 0.5575 - val_accuracy: 0.8092\n",
      "Epoch 2/20\n",
      "1719/1719 [==============================] - 55s 32ms/step - loss: 0.3989 - accuracy: 0.8568 - val_loss: 0.4584 - val_accuracy: 0.8484\n",
      "Epoch 3/20\n",
      "1719/1719 [==============================] - 53s 31ms/step - loss: 0.3582 - accuracy: 0.8707 - val_loss: 0.3688 - val_accuracy: 0.8706\n",
      "Epoch 4/20\n",
      "1719/1719 [==============================] - 52s 30ms/step - loss: 0.3312 - accuracy: 0.8801 - val_loss: 0.4050 - val_accuracy: 0.8512\n",
      "Epoch 5/20\n",
      "1719/1719 [==============================] - 53s 31ms/step - loss: 0.3157 - accuracy: 0.8850 - val_loss: 0.3611 - val_accuracy: 0.8732\n",
      "Epoch 6/20\n",
      "1719/1719 [==============================] - 58s 34ms/step - loss: 0.2975 - accuracy: 0.8922 - val_loss: 0.3588 - val_accuracy: 0.8714\n",
      "Epoch 7/20\n",
      "1719/1719 [==============================] - 54s 31ms/step - loss: 0.2942 - accuracy: 0.8941 - val_loss: 0.3211 - val_accuracy: 0.8892\n",
      "Epoch 8/20\n",
      "1719/1719 [==============================] - 53s 31ms/step - loss: 0.2864 - accuracy: 0.8956 - val_loss: 0.3178 - val_accuracy: 0.8846\n",
      "Epoch 9/20\n",
      "1719/1719 [==============================] - 54s 31ms/step - loss: 0.2763 - accuracy: 0.8979 - val_loss: 0.2901 - val_accuracy: 0.8954\n",
      "Epoch 10/20\n",
      "1719/1719 [==============================] - 54s 32ms/step - loss: 0.2649 - accuracy: 0.9032 - val_loss: 0.2897 - val_accuracy: 0.8942\n",
      "Epoch 11/20\n",
      "1719/1719 [==============================] - 56s 32ms/step - loss: 0.2576 - accuracy: 0.9057 - val_loss: 0.2698 - val_accuracy: 0.9010\n",
      "Epoch 12/20\n",
      "1719/1719 [==============================] - 55s 32ms/step - loss: 0.2507 - accuracy: 0.9088 - val_loss: 0.2850 - val_accuracy: 0.8996\n",
      "Epoch 13/20\n",
      "1719/1719 [==============================] - 57s 33ms/step - loss: 0.2466 - accuracy: 0.9096 - val_loss: 0.2905 - val_accuracy: 0.8926\n",
      "Epoch 14/20\n",
      "1719/1719 [==============================] - 55s 32ms/step - loss: 0.2418 - accuracy: 0.9093 - val_loss: 0.3298 - val_accuracy: 0.8796\n",
      "Epoch 15/20\n",
      "1719/1719 [==============================] - 56s 33ms/step - loss: 0.2363 - accuracy: 0.9125 - val_loss: 0.3022 - val_accuracy: 0.8920\n",
      "Epoch 16/20\n",
      "1719/1719 [==============================] - 56s 32ms/step - loss: 0.2296 - accuracy: 0.9162 - val_loss: 0.2860 - val_accuracy: 0.8912\n",
      "Epoch 17/20\n",
      "1719/1719 [==============================] - 56s 32ms/step - loss: 0.2268 - accuracy: 0.9171 - val_loss: 0.2807 - val_accuracy: 0.8982\n",
      "Epoch 18/20\n",
      "1719/1719 [==============================] - 56s 32ms/step - loss: 0.2214 - accuracy: 0.9175 - val_loss: 0.3189 - val_accuracy: 0.8882\n",
      "Epoch 19/20\n",
      "1719/1719 [==============================] - 57s 33ms/step - loss: 0.2165 - accuracy: 0.9202 - val_loss: 0.2737 - val_accuracy: 0.8956\n",
      "Epoch 20/20\n",
      "1719/1719 [==============================] - 55s 32ms/step - loss: 0.2130 - accuracy: 0.9201 - val_loss: 0.2978 - val_accuracy: 0.8914\n"
     ]
    }
   ],
   "source": [
    "history_cnn = model_cnn.fit(X_train_normalized_cnn, y_train, epochs=model_params[\"n_epochs\"], \n",
    "                        validation_data=(X_valid_normalized_cnn, y_valid))"
   ]
  },
  {
   "cell_type": "code",
   "execution_count": 116,
   "metadata": {
    "ExecuteTime": {
     "end_time": "2021-06-26T10:18:36.276278Z",
     "start_time": "2021-06-26T10:18:36.020096Z"
    }
   },
   "outputs": [
    {
     "data": {
      "image/png": "[encoded data removed]",
      "text/plain": [
       "<Figure size 576x360 with 1 Axes>"
      ]
     },
     "metadata": {
      "needs_background": "light"
     },
     "output_type": "display_data"
    }
   ],
   "source": [
    "pd.DataFrame(history_cnn.history).plot(figsize=(8, 5))\n",
    "plt.grid(True)\n",
    "plt.gca().set_ylim(0, 1)\n",
    "plt.show()"
   ]
  },
  {
   "cell_type": "markdown",
   "metadata": {},
   "source": [
    "## Evaluate the model on the Test data"
   ]
  },
  {
   "cell_type": "code",
   "execution_count": 120,
   "metadata": {
    "ExecuteTime": {
     "end_time": "2021-06-26T10:30:10.421890Z",
     "start_time": "2021-06-26T10:30:08.089099Z"
    }
   },
   "outputs": [
    {
     "name": "stdout",
     "output_type": "stream",
     "text": [
      "313/313 [==============================] - 2s 7ms/step - loss: 0.3237 - accuracy: 0.8740\n"
     ]
    }
   ],
   "source": [
    "# evaluate the model on test dataset\n",
    "loss, accuracy = model_cnn.evaluate(X_test_normalized_cnn, y_test, verbose=1)"
   ]
  },
  {
   "cell_type": "code",
   "execution_count": 121,
   "metadata": {
    "ExecuteTime": {
     "end_time": "2021-06-26T10:30:10.428036Z",
     "start_time": "2021-06-26T10:30:10.424027Z"
    }
   },
   "outputs": [
    {
     "name": "stdout",
     "output_type": "stream",
     "text": [
      "Accuracy: 87.400\n"
     ]
    }
   ],
   "source": [
    "print(\"Accuracy: %.3f\" % (accuracy * 100))"
   ]
  },
  {
   "cell_type": "markdown",
   "metadata": {},
   "source": [
    "## Predictions"
   ]
  },
  {
   "cell_type": "code",
   "execution_count": 122,
   "metadata": {
    "ExecuteTime": {
     "end_time": "2021-06-26T10:30:18.800593Z",
     "start_time": "2021-06-26T10:30:18.797059Z"
    }
   },
   "outputs": [
    {
     "data": {
      "text/plain": [
       "['T-shirt/top',\n",
       " 'Trouser',\n",
       " 'Pullover',\n",
       " 'Dress',\n",
       " 'Coat',\n",
       " 'Sandal',\n",
       " 'Shirt',\n",
       " 'Sneaker',\n",
       " 'Bag',\n",
       " 'Ankle boot']"
      ]
     },
     "execution_count": 122,
     "metadata": {},
     "output_type": "execute_result"
    }
   ],
   "source": [
    "class_names"
   ]
  },
  {
   "cell_type": "markdown",
   "metadata": {},
   "source": [
    "**Model instance prediction with `softmax`**"
   ]
  },
  {
   "cell_type": "markdown",
   "metadata": {},
   "source": [
    "### Instance - Ankle boot"
   ]
  },
  {
   "cell_type": "code",
   "execution_count": 123,
   "metadata": {
    "ExecuteTime": {
     "end_time": "2021-06-26T10:30:21.518389Z",
     "start_time": "2021-06-26T10:30:21.374554Z"
    }
   },
   "outputs": [
    {
     "data": {
      "text/plain": [
       "array([[0.  , 0.  , 0.  , 0.  , 0.  , 0.  , 0.01, 0.  , 0.  , 0.98]],\n",
       "      dtype=float32)"
      ]
     },
     "execution_count": 123,
     "metadata": {},
     "output_type": "execute_result"
    }
   ],
   "source": [
    "y_proba_softmax = model_cnn.predict(X_test_normalized_cnn[0:1])\n",
    "y_proba_softmax.round(2)"
   ]
  },
  {
   "cell_type": "markdown",
   "metadata": {},
   "source": [
    "### Instance - Coat"
   ]
  },
  {
   "cell_type": "code",
   "execution_count": 124,
   "metadata": {
    "ExecuteTime": {
     "end_time": "2021-06-26T10:30:25.503878Z",
     "start_time": "2021-06-26T10:30:25.459228Z"
    }
   },
   "outputs": [
    {
     "data": {
      "text/plain": [
       "array([[0.  , 0.  , 0.03, 0.  , 0.79, 0.  , 0.19, 0.  , 0.  , 0.  ]],\n",
       "      dtype=float32)"
      ]
     },
     "execution_count": 124,
     "metadata": {},
     "output_type": "execute_result"
    }
   ],
   "source": [
    "y_proba_softmax = model_cnn.predict(X_test_normalized_cnn[10:11])\n",
    "y_proba_softmax.round(2)"
   ]
  },
  {
   "cell_type": "markdown",
   "metadata": {},
   "source": [
    "# MC CNN Dropout model - transfer the weights from the previous CNN"
   ]
  },
  {
   "cell_type": "code",
   "execution_count": 125,
   "metadata": {
    "ExecuteTime": {
     "end_time": "2021-06-26T10:30:36.826013Z",
     "start_time": "2021-06-26T10:30:36.746302Z"
    }
   },
   "outputs": [],
   "source": [
    "mc_model_cnn_trf = keras.models.Sequential([\n",
    "    MCDropout(layer.rate) if isinstance(layer, keras.layers.Dropout) else layer\n",
    "    for layer in model_cnn.layers\n",
    "])"
   ]
  },
  {
   "cell_type": "code",
   "execution_count": 126,
   "metadata": {
    "ExecuteTime": {
     "end_time": "2021-06-26T10:30:45.456075Z",
     "start_time": "2021-06-26T10:30:45.448302Z"
    }
   },
   "outputs": [
    {
     "name": "stdout",
     "output_type": "stream",
     "text": [
      "Model: \"sequential_4\"\n",
      "_________________________________________________________________\n",
      "Layer (type)                 Output Shape              Param #   \n",
      "=================================================================\n",
      "conv2d (Conv2D)              (None, 26, 26, 32)        320       \n",
      "_________________________________________________________________\n",
      "batch_normalization (BatchNo (None, 26, 26, 32)        128       \n",
      "_________________________________________________________________\n",
      "activation (Activation)      (None, 26, 26, 32)        0         \n",
      "_________________________________________________________________\n",
      "mc_dropout_3 (MCDropout)     (None, 26, 26, 32)        0         \n",
      "_________________________________________________________________\n",
      "max_pooling2d (MaxPooling2D) (None, 13, 13, 32)        0         \n",
      "_________________________________________________________________\n",
      "conv2d_1 (Conv2D)            (None, 11, 11, 64)        18496     \n",
      "_________________________________________________________________\n",
      "batch_normalization_1 (Batch (None, 11, 11, 64)        256       \n",
      "_________________________________________________________________\n",
      "activation_1 (Activation)    (None, 11, 11, 64)        0         \n",
      "_________________________________________________________________\n",
      "conv2d_2 (Conv2D)            (None, 9, 9, 64)          36928     \n",
      "_________________________________________________________________\n",
      "batch_normalization_2 (Batch (None, 9, 9, 64)          256       \n",
      "_________________________________________________________________\n",
      "activation_2 (Activation)    (None, 9, 9, 64)          0         \n",
      "_________________________________________________________________\n",
      "max_pooling2d_1 (MaxPooling2 (None, 4, 4, 64)          0         \n",
      "_________________________________________________________________\n",
      "flatten_2 (Flatten)          (None, 1024)              0         \n",
      "_________________________________________________________________\n",
      "dense_6 (Dense)              (None, 100)               102500    \n",
      "_________________________________________________________________\n",
      "batch_normalization_3 (Batch (None, 100)               400       \n",
      "_________________________________________________________________\n",
      "activation_3 (Activation)    (None, 100)               0         \n",
      "_________________________________________________________________\n",
      "mc_dropout_4 (MCDropout)     (None, 100)               0         \n",
      "_________________________________________________________________\n",
      "dense_7 (Dense)              (None, 10)                1010      \n",
      "=================================================================\n",
      "Total params: 160,294\n",
      "Trainable params: 159,774\n",
      "Non-trainable params: 520\n",
      "_________________________________________________________________\n"
     ]
    }
   ],
   "source": [
    "mc_model_cnn_trf.summary()"
   ]
  },
  {
   "cell_type": "code",
   "execution_count": 127,
   "metadata": {
    "ExecuteTime": {
     "end_time": "2021-06-26T10:30:53.469672Z",
     "start_time": "2021-06-26T10:30:53.461415Z"
    }
   },
   "outputs": [],
   "source": [
    "mc_model_cnn_trf.compile(loss=model_params[\"loss\"], \n",
    "                         optimizer=model_params[\"optimizer\"], \n",
    "                         metrics=model_params[\"metrics\"])"
   ]
  },
  {
   "cell_type": "markdown",
   "metadata": {},
   "source": [
    "## Transfer the weights from the previous CNN"
   ]
  },
  {
   "cell_type": "code",
   "execution_count": 128,
   "metadata": {
    "ExecuteTime": {
     "end_time": "2021-06-26T10:30:54.855919Z",
     "start_time": "2021-06-26T10:30:54.845423Z"
    }
   },
   "outputs": [],
   "source": [
    "mc_model_cnn_trf.set_weights(model_cnn.get_weights())"
   ]
  },
  {
   "cell_type": "markdown",
   "metadata": {},
   "source": [
    "## Predictions"
   ]
  },
  {
   "cell_type": "code",
   "execution_count": 129,
   "metadata": {
    "ExecuteTime": {
     "end_time": "2021-06-26T10:30:57.965405Z",
     "start_time": "2021-06-26T10:30:57.961254Z"
    }
   },
   "outputs": [
    {
     "data": {
      "text/plain": [
       "['T-shirt/top',\n",
       " 'Trouser',\n",
       " 'Pullover',\n",
       " 'Dress',\n",
       " 'Coat',\n",
       " 'Sandal',\n",
       " 'Shirt',\n",
       " 'Sneaker',\n",
       " 'Bag',\n",
       " 'Ankle boot']"
      ]
     },
     "execution_count": 129,
     "metadata": {},
     "output_type": "execute_result"
    }
   ],
   "source": [
    "class_names"
   ]
  },
  {
   "cell_type": "markdown",
   "metadata": {},
   "source": [
    "Use the model straightforward with MC Dropout layer to predict the unique instance's class"
   ]
  },
  {
   "cell_type": "markdown",
   "metadata": {},
   "source": [
    "### Instance - Ankle boot"
   ]
  },
  {
   "cell_type": "code",
   "execution_count": 130,
   "metadata": {
    "ExecuteTime": {
     "end_time": "2021-06-26T10:31:05.605399Z",
     "start_time": "2021-06-26T10:31:01.529131Z"
    }
   },
   "outputs": [
    {
     "data": {
      "application/vnd.jupyter.widget-view+json": {
       "model_id": "5889d428b169442f8b8418df3aab73c7",
       "version_major": 2,
       "version_minor": 0
      },
      "text/plain": [
       "HBox(children=(FloatProgress(value=0.0), HTML(value='')))"
      ]
     },
     "metadata": {},
     "output_type": "display_data"
    },
    {
     "name": "stdout",
     "output_type": "stream",
     "text": [
      "\n"
     ]
    },
    {
     "data": {
      "text/plain": [
       "array([[0.  , 0.  , 0.  , 0.  , 0.  , 0.01, 0.  , 0.  , 0.  , 0.99]],\n",
       "      dtype=float32)"
      ]
     },
     "execution_count": 130,
     "metadata": {},
     "output_type": "execute_result"
    }
   ],
   "source": [
    "np.round(np.mean([mc_model_cnn_trf.predict(X_test_normalized_cnn[0:1]) \n",
    "                  for sample in tqdm(range(100))], axis=0), 2)"
   ]
  },
  {
   "cell_type": "markdown",
   "metadata": {},
   "source": [
    "### Instance - Coat"
   ]
  },
  {
   "cell_type": "code",
   "execution_count": 131,
   "metadata": {
    "ExecuteTime": {
     "end_time": "2021-06-26T10:31:11.711093Z",
     "start_time": "2021-06-26T10:31:07.828820Z"
    }
   },
   "outputs": [
    {
     "data": {
      "application/vnd.jupyter.widget-view+json": {
       "model_id": "430e2612096841348de278cb3c5fd2a9",
       "version_major": 2,
       "version_minor": 0
      },
      "text/plain": [
       "HBox(children=(FloatProgress(value=0.0), HTML(value='')))"
      ]
     },
     "metadata": {},
     "output_type": "display_data"
    },
    {
     "name": "stdout",
     "output_type": "stream",
     "text": [
      "\n"
     ]
    },
    {
     "data": {
      "text/plain": [
       "array([[0.  , 0.  , 0.02, 0.  , 0.95, 0.  , 0.03, 0.  , 0.  , 0.  ]],\n",
       "      dtype=float32)"
      ]
     },
     "execution_count": 131,
     "metadata": {},
     "output_type": "execute_result"
    }
   ],
   "source": [
    "np.round(np.mean([mc_model_cnn_trf.predict(X_test_normalized_cnn[10:11]) \n",
    "                  for sample in tqdm(range(100))], axis=0), 2)"
   ]
  },
  {
   "cell_type": "markdown",
   "metadata": {},
   "source": [
    "## Evaluate the model on the Test data (with the probabilities this time)"
   ]
  },
  {
   "cell_type": "markdown",
   "metadata": {},
   "source": [
    "Stack the probabilities for all the instances"
   ]
  },
  {
   "cell_type": "code",
   "execution_count": 132,
   "metadata": {
    "ExecuteTime": {
     "end_time": "2021-06-26T10:37:33.234108Z",
     "start_time": "2021-06-26T10:31:28.266048Z"
    }
   },
   "outputs": [
    {
     "data": {
      "application/vnd.jupyter.widget-view+json": {
       "model_id": "2358b322998b4ba18ac0cab585fc53d9",
       "version_major": 2,
       "version_minor": 0
      },
      "text/plain": [
       "HBox(children=(FloatProgress(value=0.0), HTML(value='')))"
      ]
     },
     "metadata": {},
     "output_type": "display_data"
    },
    {
     "name": "stdout",
     "output_type": "stream",
     "text": [
      "\n"
     ]
    }
   ],
   "source": [
    "y_probas = np.stack([mc_model_cnn_trf(X_test_normalized_cnn) for sample in tqdm(range(100))])"
   ]
  },
  {
   "cell_type": "markdown",
   "metadata": {},
   "source": [
    "Compute the mean and std for the instances' probability estimates"
   ]
  },
  {
   "cell_type": "code",
   "execution_count": 133,
   "metadata": {
    "ExecuteTime": {
     "end_time": "2021-06-26T10:37:33.258174Z",
     "start_time": "2021-06-26T10:37:33.241003Z"
    }
   },
   "outputs": [],
   "source": [
    "y_proba = y_probas.mean(axis=0)"
   ]
  },
  {
   "cell_type": "code",
   "execution_count": 134,
   "metadata": {
    "ExecuteTime": {
     "end_time": "2021-06-26T10:37:33.312159Z",
     "start_time": "2021-06-26T10:37:33.263097Z"
    }
   },
   "outputs": [],
   "source": [
    "y_std = y_probas.std(axis=0)"
   ]
  },
  {
   "cell_type": "markdown",
   "metadata": {},
   "source": [
    "Hold the predicted classes by return the maximum value from each probability estimate"
   ]
  },
  {
   "cell_type": "code",
   "execution_count": 135,
   "metadata": {
    "ExecuteTime": {
     "end_time": "2021-06-26T10:37:33.319667Z",
     "start_time": "2021-06-26T10:37:33.315698Z"
    }
   },
   "outputs": [],
   "source": [
    "y_pred = np.argmax(y_proba, axis=1)"
   ]
  },
  {
   "cell_type": "code",
   "execution_count": 136,
   "metadata": {
    "ExecuteTime": {
     "end_time": "2021-06-26T10:37:33.328895Z",
     "start_time": "2021-06-26T10:37:33.323116Z"
    }
   },
   "outputs": [],
   "source": [
    "accuracy = np.sum(y_pred == y_test) / len(y_test)"
   ]
  },
  {
   "cell_type": "code",
   "execution_count": 143,
   "metadata": {
    "ExecuteTime": {
     "end_time": "2021-06-26T10:57:02.423492Z",
     "start_time": "2021-06-26T10:57:02.420366Z"
    }
   },
   "outputs": [
    {
     "name": "stdout",
     "output_type": "stream",
     "text": [
      "Accuracy: 89.930\n"
     ]
    }
   ],
   "source": [
    "print(\"Accuracy: %.3f\" % (accuracy * 100))"
   ]
  },
  {
   "cell_type": "markdown",
   "metadata": {},
   "source": [
    "**Model's accuracy is improved**"
   ]
  },
  {
   "cell_type": "markdown",
   "metadata": {},
   "source": []
  },
  {
   "cell_type": "markdown",
   "metadata": {},
   "source": [
    "# MC CNN Dropout model from scratch"
   ]
  },
  {
   "cell_type": "markdown",
   "metadata": {},
   "source": [
    "Reset all state generated by Keras"
   ]
  },
  {
   "cell_type": "code",
   "execution_count": 144,
   "metadata": {
    "ExecuteTime": {
     "end_time": "2021-06-26T10:57:45.513839Z",
     "start_time": "2021-06-26T10:57:45.511368Z"
    }
   },
   "outputs": [],
   "source": [
    "# keras.backend.clear_session()"
   ]
  },
  {
   "cell_type": "markdown",
   "metadata": {},
   "source": [
    "## Build and train the model"
   ]
  },
  {
   "cell_type": "code",
   "execution_count": 145,
   "metadata": {
    "ExecuteTime": {
     "end_time": "2021-06-26T10:58:00.967700Z",
     "start_time": "2021-06-26T10:58:00.845054Z"
    }
   },
   "outputs": [],
   "source": [
    "mc_model_cnn_drp = Sequential()\n",
    "mc_model_cnn_drp.add(Conv2D(32, (3, 3), kernel_initializer='he_uniform', input_shape=(28, 28, 1)))\n",
    "mc_model_cnn_drp.add(BatchNormalization())\n",
    "mc_model_cnn_drp.add(Activation(\"relu\"))\n",
    "mc_model_cnn_drp.add(MCDropout(0.5))\n",
    "mc_model_cnn_drp.add(MaxPooling2D((2, 2)))\n",
    "mc_model_cnn_drp.add(Conv2D(64, (3, 3), activation='relu', kernel_initializer='he_uniform'))\n",
    "mc_model_cnn_drp.add(BatchNormalization())\n",
    "mc_model_cnn_drp.add(Activation(\"relu\"))\n",
    "mc_model_cnn_drp.add(Conv2D(64, (3, 3), kernel_initializer='he_uniform'))\n",
    "mc_model_cnn_drp.add(BatchNormalization())\n",
    "mc_model_cnn_drp.add(Activation(\"relu\"))\n",
    "mc_model_cnn_drp.add(MaxPooling2D((2, 2)))\n",
    "mc_model_cnn_drp.add(Flatten())\n",
    "mc_model_cnn_drp.add(Dense(100, kernel_initializer='he_uniform'))\n",
    "mc_model_cnn_drp.add(BatchNormalization())\n",
    "mc_model_cnn_drp.add(Activation(\"relu\"))\n",
    "mc_model_cnn_drp.add(MCDropout(0.5))\n",
    "mc_model_cnn_drp.add(Dense(10, activation='softmax'))"
   ]
  },
  {
   "cell_type": "code",
   "execution_count": 146,
   "metadata": {
    "ExecuteTime": {
     "end_time": "2021-06-26T10:58:02.921699Z",
     "start_time": "2021-06-26T10:58:02.913542Z"
    }
   },
   "outputs": [
    {
     "name": "stdout",
     "output_type": "stream",
     "text": [
      "Model: \"sequential_6\"\n",
      "_________________________________________________________________\n",
      "Layer (type)                 Output Shape              Param #   \n",
      "=================================================================\n",
      "conv2d_6 (Conv2D)            (None, 26, 26, 32)        320       \n",
      "_________________________________________________________________\n",
      "batch_normalization_8 (Batch (None, 26, 26, 32)        128       \n",
      "_________________________________________________________________\n",
      "activation_8 (Activation)    (None, 26, 26, 32)        0         \n",
      "_________________________________________________________________\n",
      "mc_dropout_7 (MCDropout)     (None, 26, 26, 32)        0         \n",
      "_________________________________________________________________\n",
      "max_pooling2d_4 (MaxPooling2 (None, 13, 13, 32)        0         \n",
      "_________________________________________________________________\n",
      "conv2d_7 (Conv2D)            (None, 11, 11, 64)        18496     \n",
      "_________________________________________________________________\n",
      "batch_normalization_9 (Batch (None, 11, 11, 64)        256       \n",
      "_________________________________________________________________\n",
      "activation_9 (Activation)    (None, 11, 11, 64)        0         \n",
      "_________________________________________________________________\n",
      "conv2d_8 (Conv2D)            (None, 9, 9, 64)          36928     \n",
      "_________________________________________________________________\n",
      "batch_normalization_10 (Batc (None, 9, 9, 64)          256       \n",
      "_________________________________________________________________\n",
      "activation_10 (Activation)   (None, 9, 9, 64)          0         \n",
      "_________________________________________________________________\n",
      "max_pooling2d_5 (MaxPooling2 (None, 4, 4, 64)          0         \n",
      "_________________________________________________________________\n",
      "flatten_4 (Flatten)          (None, 1024)              0         \n",
      "_________________________________________________________________\n",
      "dense_10 (Dense)             (None, 100)               102500    \n",
      "_________________________________________________________________\n",
      "batch_normalization_11 (Batc (None, 100)               400       \n",
      "_________________________________________________________________\n",
      "activation_11 (Activation)   (None, 100)               0         \n",
      "_________________________________________________________________\n",
      "mc_dropout_8 (MCDropout)     (None, 100)               0         \n",
      "_________________________________________________________________\n",
      "dense_11 (Dense)             (None, 10)                1010      \n",
      "=================================================================\n",
      "Total params: 160,294\n",
      "Trainable params: 159,774\n",
      "Non-trainable params: 520\n",
      "_________________________________________________________________\n"
     ]
    }
   ],
   "source": [
    "mc_model_cnn_drp.summary()"
   ]
  },
  {
   "cell_type": "code",
   "execution_count": 147,
   "metadata": {
    "ExecuteTime": {
     "end_time": "2021-06-26T10:58:05.968849Z",
     "start_time": "2021-06-26T10:58:05.961036Z"
    }
   },
   "outputs": [],
   "source": [
    "mc_model_cnn_drp.compile(loss=model_params[\"loss\"], \n",
    "                         optimizer=model_params[\"optimizer\"], \n",
    "                         metrics=model_params[\"metrics\"])"
   ]
  },
  {
   "cell_type": "code",
   "execution_count": 148,
   "metadata": {
    "ExecuteTime": {
     "end_time": "2021-06-26T11:16:44.606082Z",
     "start_time": "2021-06-26T10:58:07.687607Z"
    }
   },
   "outputs": [
    {
     "name": "stdout",
     "output_type": "stream",
     "text": [
      "Epoch 1/20\n",
      "1719/1719 [==============================] - 58s 34ms/step - loss: 0.5680 - accuracy: 0.7955 - val_loss: 0.4049 - val_accuracy: 0.8536\n",
      "Epoch 2/20\n",
      "1719/1719 [==============================] - 58s 34ms/step - loss: 0.4071 - accuracy: 0.8529 - val_loss: 0.3659 - val_accuracy: 0.8686\n",
      "Epoch 3/20\n",
      "1719/1719 [==============================] - 58s 34ms/step - loss: 0.3634 - accuracy: 0.8698 - val_loss: 0.3342 - val_accuracy: 0.8792\n",
      "Epoch 4/20\n",
      "1719/1719 [==============================] - 62s 36ms/step - loss: 0.3358 - accuracy: 0.8793 - val_loss: 0.3665 - val_accuracy: 0.8630\n",
      "Epoch 5/20\n",
      "1719/1719 [==============================] - 58s 34ms/step - loss: 0.3135 - accuracy: 0.8860 - val_loss: 0.2970 - val_accuracy: 0.8928\n",
      "Epoch 6/20\n",
      "1719/1719 [==============================] - 55s 32ms/step - loss: 0.3020 - accuracy: 0.8912 - val_loss: 0.3385 - val_accuracy: 0.8772\n",
      "Epoch 7/20\n",
      "1719/1719 [==============================] - 55s 32ms/step - loss: 0.2875 - accuracy: 0.8959 - val_loss: 0.2673 - val_accuracy: 0.9052\n",
      "Epoch 8/20\n",
      "1719/1719 [==============================] - 55s 32ms/step - loss: 0.2782 - accuracy: 0.9004 - val_loss: 0.2804 - val_accuracy: 0.8976\n",
      "Epoch 9/20\n",
      "1719/1719 [==============================] - 54s 32ms/step - loss: 0.2652 - accuracy: 0.9030 - val_loss: 0.2777 - val_accuracy: 0.9038\n",
      "Epoch 10/20\n",
      "1719/1719 [==============================] - 55s 32ms/step - loss: 0.2576 - accuracy: 0.9063 - val_loss: 0.2808 - val_accuracy: 0.9052\n",
      "Epoch 11/20\n",
      "1719/1719 [==============================] - 54s 32ms/step - loss: 0.2543 - accuracy: 0.9076 - val_loss: 0.2739 - val_accuracy: 0.9018\n",
      "Epoch 12/20\n",
      "1719/1719 [==============================] - 54s 32ms/step - loss: 0.2458 - accuracy: 0.9092 - val_loss: 0.2698 - val_accuracy: 0.9038\n",
      "Epoch 13/20\n",
      "1719/1719 [==============================] - 54s 31ms/step - loss: 0.2411 - accuracy: 0.9107 - val_loss: 0.2806 - val_accuracy: 0.8968\n",
      "Epoch 14/20\n",
      "1719/1719 [==============================] - 54s 32ms/step - loss: 0.2361 - accuracy: 0.9136 - val_loss: 0.2666 - val_accuracy: 0.9006\n",
      "Epoch 15/20\n",
      "1719/1719 [==============================] - 56s 33ms/step - loss: 0.2301 - accuracy: 0.9151 - val_loss: 0.2768 - val_accuracy: 0.9022\n",
      "Epoch 16/20\n",
      "1719/1719 [==============================] - 54s 31ms/step - loss: 0.2257 - accuracy: 0.9172 - val_loss: 0.2774 - val_accuracy: 0.8970\n",
      "Epoch 17/20\n",
      "1719/1719 [==============================] - 54s 32ms/step - loss: 0.2171 - accuracy: 0.9185 - val_loss: 0.2624 - val_accuracy: 0.9048\n",
      "Epoch 18/20\n",
      "1719/1719 [==============================] - 54s 32ms/step - loss: 0.2174 - accuracy: 0.9196 - val_loss: 0.3024 - val_accuracy: 0.8882\n",
      "Epoch 19/20\n",
      "1719/1719 [==============================] - 55s 32ms/step - loss: 0.2131 - accuracy: 0.9228 - val_loss: 0.2558 - val_accuracy: 0.9112\n",
      "Epoch 20/20\n",
      "1719/1719 [==============================] - 58s 34ms/step - loss: 0.2086 - accuracy: 0.9230 - val_loss: 0.2871 - val_accuracy: 0.8964\n"
     ]
    }
   ],
   "source": [
    "mc_history_cnn_drp = mc_model_cnn_drp.fit(X_train_normalized_cnn, y_train, epochs=model_params[\"n_epochs\"], \n",
    "                                          validation_data=(X_valid_normalized_cnn, y_valid))"
   ]
  },
  {
   "cell_type": "code",
   "execution_count": 149,
   "metadata": {
    "ExecuteTime": {
     "end_time": "2021-06-26T11:16:44.855947Z",
     "start_time": "2021-06-26T11:16:44.608769Z"
    }
   },
   "outputs": [
    {
     "data": {
      "image/png": "[encoded data removed]",
      "text/plain": [
       "<Figure size 576x360 with 1 Axes>"
      ]
     },
     "metadata": {
      "needs_background": "light"
     },
     "output_type": "display_data"
    }
   ],
   "source": [
    "pd.DataFrame(mc_history_cnn_drp.history).plot(figsize=(8, 5))\n",
    "plt.grid(True)\n",
    "plt.gca().set_ylim(0, 1)\n",
    "plt.show()"
   ]
  },
  {
   "cell_type": "markdown",
   "metadata": {},
   "source": [
    "**Model accuracy**"
   ]
  },
  {
   "cell_type": "code",
   "execution_count": 150,
   "metadata": {
    "ExecuteTime": {
     "end_time": "2021-06-26T11:16:48.069489Z",
     "start_time": "2021-06-26T11:16:44.859407Z"
    }
   },
   "outputs": [
    {
     "name": "stdout",
     "output_type": "stream",
     "text": [
      "313/313 [==============================] - 3s 10ms/step - loss: 0.3232 - accuracy: 0.8845\n"
     ]
    }
   ],
   "source": [
    "# evaluate the model on test dataset\n",
    "loss, accuracy = mc_model_cnn_drp.evaluate(X_test_normalized_cnn, y_test, verbose=1)"
   ]
  },
  {
   "cell_type": "code",
   "execution_count": 151,
   "metadata": {
    "ExecuteTime": {
     "end_time": "2021-06-26T11:16:48.075800Z",
     "start_time": "2021-06-26T11:16:48.072037Z"
    }
   },
   "outputs": [
    {
     "name": "stdout",
     "output_type": "stream",
     "text": [
      "Accuracy: 88.450\n"
     ]
    }
   ],
   "source": [
    "print(\"Accuracy: %.3f\" % (accuracy * 100))"
   ]
  },
  {
   "cell_type": "markdown",
   "metadata": {},
   "source": []
  },
  {
   "cell_type": "markdown",
   "metadata": {},
   "source": [
    "## Predictions"
   ]
  },
  {
   "cell_type": "code",
   "execution_count": 189,
   "metadata": {
    "ExecuteTime": {
     "end_time": "2021-06-26T12:51:23.872615Z",
     "start_time": "2021-06-26T12:51:23.868502Z"
    }
   },
   "outputs": [
    {
     "data": {
      "text/plain": [
       "['T-shirt/top',\n",
       " 'Trouser',\n",
       " 'Pullover',\n",
       " 'Dress',\n",
       " 'Coat',\n",
       " 'Sandal',\n",
       " 'Shirt',\n",
       " 'Sneaker',\n",
       " 'Bag',\n",
       " 'Ankle boot']"
      ]
     },
     "execution_count": 189,
     "metadata": {},
     "output_type": "execute_result"
    }
   ],
   "source": [
    "class_names"
   ]
  },
  {
   "cell_type": "markdown",
   "metadata": {},
   "source": [
    "### Instance - Ankle boot"
   ]
  },
  {
   "cell_type": "markdown",
   "metadata": {},
   "source": [
    "Use `numpy.squeeze()` to remove all dimensions of size 1 from the NumPy array `ndarray`. `squeeze()` is also provided as a method of `ndarray`."
   ]
  },
  {
   "cell_type": "code",
   "execution_count": 152,
   "metadata": {
    "ExecuteTime": {
     "end_time": "2021-06-26T11:16:48.083451Z",
     "start_time": "2021-06-26T11:16:48.078909Z"
    }
   },
   "outputs": [
    {
     "name": "stdout",
     "output_type": "stream",
     "text": [
      "(28, 28)\n"
     ]
    }
   ],
   "source": [
    "X_test_normalized_instance = np.squeeze(X_test_normalized_cnn[0])\n",
    "print(X_test_normalized_instance.shape)"
   ]
  },
  {
   "cell_type": "code",
   "execution_count": 153,
   "metadata": {
    "ExecuteTime": {
     "end_time": "2021-06-26T11:16:48.165371Z",
     "start_time": "2021-06-26T11:16:48.086526Z"
    }
   },
   "outputs": [
    {
     "data": {
      "image/png": "[encoded data removed]",
      "text/plain": [
       "<Figure size 432x288 with 1 Axes>"
      ]
     },
     "metadata": {
      "needs_background": "light"
     },
     "output_type": "display_data"
    }
   ],
   "source": [
    "plt.imshow(X_test_normalized_instance, cmap=\"binary\")\n",
    "plt.axis('off')\n",
    "plt.show()"
   ]
  },
  {
   "cell_type": "code",
   "execution_count": 155,
   "metadata": {
    "ExecuteTime": {
     "end_time": "2021-06-26T11:17:08.284472Z",
     "start_time": "2021-06-26T11:17:08.280269Z"
    }
   },
   "outputs": [
    {
     "data": {
      "text/plain": [
       "'Ankle boot'"
      ]
     },
     "execution_count": 155,
     "metadata": {},
     "output_type": "execute_result"
    }
   ],
   "source": [
    "class_names[y_test[0]]"
   ]
  },
  {
   "cell_type": "markdown",
   "metadata": {},
   "source": [
    "Use the model straightforward with MC Dropout layer to predict a unique instance's class"
   ]
  },
  {
   "cell_type": "code",
   "execution_count": 156,
   "metadata": {
    "ExecuteTime": {
     "end_time": "2021-06-26T11:17:22.291493Z",
     "start_time": "2021-06-26T11:17:18.325718Z"
    }
   },
   "outputs": [
    {
     "data": {
      "application/vnd.jupyter.widget-view+json": {
       "model_id": "bcb047f2ce1e4034ac5b410eb320a571",
       "version_major": 2,
       "version_minor": 0
      },
      "text/plain": [
       "HBox(children=(FloatProgress(value=0.0), HTML(value='')))"
      ]
     },
     "metadata": {},
     "output_type": "display_data"
    },
    {
     "name": "stdout",
     "output_type": "stream",
     "text": [
      "\n",
      "[[0. 0. 0. 0. 0. 0. 0. 0. 0. 1.]]\n"
     ]
    }
   ],
   "source": [
    "y_pred = np.round(np.mean([mc_model_cnn_drp.predict(X_test_normalized_cnn[0:1]) \n",
    "                                  for sample in tqdm(range(100))], axis=0), 2)\n",
    "print(y_pred)"
   ]
  },
  {
   "cell_type": "code",
   "execution_count": 157,
   "metadata": {
    "ExecuteTime": {
     "end_time": "2021-06-26T11:17:22.297847Z",
     "start_time": "2021-06-26T11:17:22.294847Z"
    }
   },
   "outputs": [],
   "source": [
    "y_pred = np.argmax(y_pred, axis=-1)"
   ]
  },
  {
   "cell_type": "code",
   "execution_count": 158,
   "metadata": {
    "ExecuteTime": {
     "end_time": "2021-06-26T11:17:22.306802Z",
     "start_time": "2021-06-26T11:17:22.301683Z"
    }
   },
   "outputs": [
    {
     "data": {
      "text/plain": [
       "array(['Ankle boot'], dtype='<U11')"
      ]
     },
     "execution_count": 158,
     "metadata": {},
     "output_type": "execute_result"
    }
   ],
   "source": [
    "np.array(class_names)[y_pred]"
   ]
  },
  {
   "cell_type": "markdown",
   "metadata": {},
   "source": [
    "Stack the probabilities for all the instances"
   ]
  },
  {
   "cell_type": "markdown",
   "metadata": {},
   "source": [
    "### Instance - Coat"
   ]
  },
  {
   "cell_type": "markdown",
   "metadata": {},
   "source": [
    "Use `numpy.squeeze()` to remove all dimensions of size 1 from the NumPy array `ndarray`. `squeeze()` is also provided as a method of `ndarray`."
   ]
  },
  {
   "cell_type": "code",
   "execution_count": 159,
   "metadata": {
    "ExecuteTime": {
     "end_time": "2021-06-26T11:17:27.756420Z",
     "start_time": "2021-06-26T11:17:27.752448Z"
    }
   },
   "outputs": [
    {
     "name": "stdout",
     "output_type": "stream",
     "text": [
      "(28, 28)\n"
     ]
    }
   ],
   "source": [
    "X_test_normalized_instance = np.squeeze(X_test_normalized_cnn[10])\n",
    "print(X_test_normalized_instance.shape)"
   ]
  },
  {
   "cell_type": "code",
   "execution_count": 160,
   "metadata": {
    "ExecuteTime": {
     "end_time": "2021-06-26T11:17:28.084490Z",
     "start_time": "2021-06-26T11:17:28.016495Z"
    }
   },
   "outputs": [
    {
     "data": {
      "image/png": "[encoded data removed]",
      "text/plain": [
       "<Figure size 432x288 with 1 Axes>"
      ]
     },
     "metadata": {
      "needs_background": "light"
     },
     "output_type": "display_data"
    }
   ],
   "source": [
    "plt.imshow(X_test_normalized_instance, cmap=\"binary\")\n",
    "plt.axis('off')\n",
    "plt.show()"
   ]
  },
  {
   "cell_type": "code",
   "execution_count": 161,
   "metadata": {
    "ExecuteTime": {
     "end_time": "2021-06-26T11:17:33.573608Z",
     "start_time": "2021-06-26T11:17:33.569318Z"
    }
   },
   "outputs": [
    {
     "data": {
      "text/plain": [
       "'Coat'"
      ]
     },
     "execution_count": 161,
     "metadata": {},
     "output_type": "execute_result"
    }
   ],
   "source": [
    "class_names[y_test[10]]"
   ]
  },
  {
   "cell_type": "markdown",
   "metadata": {},
   "source": [
    "Use the model straightforward with MC Dropout layer to predict a unique instance's class"
   ]
  },
  {
   "cell_type": "code",
   "execution_count": 162,
   "metadata": {
    "ExecuteTime": {
     "end_time": "2021-06-26T11:17:38.799437Z",
     "start_time": "2021-06-26T11:17:34.876324Z"
    }
   },
   "outputs": [
    {
     "data": {
      "application/vnd.jupyter.widget-view+json": {
       "model_id": "c3d2a335f2ff48b8b2470aabc86ee491",
       "version_major": 2,
       "version_minor": 0
      },
      "text/plain": [
       "HBox(children=(FloatProgress(value=0.0), HTML(value='')))"
      ]
     },
     "metadata": {},
     "output_type": "display_data"
    },
    {
     "name": "stdout",
     "output_type": "stream",
     "text": [
      "\n",
      "[[0.   0.   0.06 0.   0.91 0.   0.03 0.   0.   0.  ]]\n"
     ]
    }
   ],
   "source": [
    "y_pred = np.round(np.mean([mc_model_cnn_drp.predict(X_test_normalized_cnn[10:11]) \n",
    "                                  for sample in tqdm(range(100))], axis=0), 2)\n",
    "print(y_pred)"
   ]
  },
  {
   "cell_type": "code",
   "execution_count": 163,
   "metadata": {
    "ExecuteTime": {
     "end_time": "2021-06-26T11:17:38.806153Z",
     "start_time": "2021-06-26T11:17:38.802536Z"
    }
   },
   "outputs": [],
   "source": [
    "y_pred = np.argmax(y_pred, axis=-1)"
   ]
  },
  {
   "cell_type": "code",
   "execution_count": 164,
   "metadata": {
    "ExecuteTime": {
     "end_time": "2021-06-26T11:17:38.813892Z",
     "start_time": "2021-06-26T11:17:38.809697Z"
    }
   },
   "outputs": [
    {
     "data": {
      "text/plain": [
       "array(['Coat'], dtype='<U11')"
      ]
     },
     "execution_count": 164,
     "metadata": {},
     "output_type": "execute_result"
    }
   ],
   "source": [
    "np.array(class_names)[y_pred]"
   ]
  },
  {
   "cell_type": "markdown",
   "metadata": {},
   "source": [
    "## Evaluate the model on the Test data (with the probabilities this time)"
   ]
  },
  {
   "cell_type": "markdown",
   "metadata": {},
   "source": [
    "Stack the probabilities for all the instances"
   ]
  },
  {
   "cell_type": "code",
   "execution_count": 165,
   "metadata": {
    "ExecuteTime": {
     "end_time": "2021-06-26T11:23:06.311752Z",
     "start_time": "2021-06-26T11:17:38.816737Z"
    },
    "scrolled": true
   },
   "outputs": [
    {
     "data": {
      "application/vnd.jupyter.widget-view+json": {
       "model_id": "c1c3036b36804bd4b9b4a2e47ceb1d35",
       "version_major": 2,
       "version_minor": 0
      },
      "text/plain": [
       "HBox(children=(FloatProgress(value=0.0), HTML(value='')))"
      ]
     },
     "metadata": {},
     "output_type": "display_data"
    },
    {
     "name": "stdout",
     "output_type": "stream",
     "text": [
      "\n"
     ]
    }
   ],
   "source": [
    "y_probas = np.stack([mc_model_cnn_drp(X_test_normalized_cnn) for sample in tqdm(range(100))])"
   ]
  },
  {
   "cell_type": "markdown",
   "metadata": {},
   "source": [
    "Compute the mean and std for the instances' probability estimates"
   ]
  },
  {
   "cell_type": "code",
   "execution_count": 166,
   "metadata": {
    "ExecuteTime": {
     "end_time": "2021-06-26T11:23:06.327382Z",
     "start_time": "2021-06-26T11:23:06.315104Z"
    }
   },
   "outputs": [],
   "source": [
    "y_proba = y_probas.mean(axis=0)"
   ]
  },
  {
   "cell_type": "code",
   "execution_count": 167,
   "metadata": {
    "ExecuteTime": {
     "end_time": "2021-06-26T11:23:06.364071Z",
     "start_time": "2021-06-26T11:23:06.329655Z"
    }
   },
   "outputs": [],
   "source": [
    "y_std = y_probas.std(axis=0)"
   ]
  },
  {
   "cell_type": "markdown",
   "metadata": {},
   "source": [
    "Hold the predicted classes by return the maximum value from each probability estimate"
   ]
  },
  {
   "cell_type": "code",
   "execution_count": 168,
   "metadata": {
    "ExecuteTime": {
     "end_time": "2021-06-26T11:26:44.596170Z",
     "start_time": "2021-06-26T11:26:44.592925Z"
    }
   },
   "outputs": [],
   "source": [
    "y_pred = np.argmax(y_proba, axis=1)"
   ]
  },
  {
   "cell_type": "markdown",
   "metadata": {},
   "source": [
    "**Model's accuracy is now improved**"
   ]
  },
  {
   "cell_type": "code",
   "execution_count": 169,
   "metadata": {
    "ExecuteTime": {
     "end_time": "2021-06-26T11:26:46.093029Z",
     "start_time": "2021-06-26T11:26:46.089762Z"
    },
    "scrolled": true
   },
   "outputs": [],
   "source": [
    "accuracy = np.sum(y_pred == y_test) / len(y_test)"
   ]
  },
  {
   "cell_type": "markdown",
   "metadata": {},
   "source": []
  },
  {
   "cell_type": "code",
   "execution_count": 170,
   "metadata": {
    "ExecuteTime": {
     "end_time": "2021-06-26T11:26:48.284959Z",
     "start_time": "2021-06-26T11:26:48.281552Z"
    }
   },
   "outputs": [
    {
     "name": "stdout",
     "output_type": "stream",
     "text": [
      "Accuracy: 90.310\n"
     ]
    }
   ],
   "source": [
    "print(\"Accuracy: %.3f\" % (accuracy * 100))"
   ]
  },
  {
   "cell_type": "markdown",
   "metadata": {},
   "source": []
  },
  {
   "cell_type": "markdown",
   "metadata": {},
   "source": [
    "# Predictions on MNIST with digits"
   ]
  },
  {
   "cell_type": "markdown",
   "metadata": {},
   "source": [
    "## Load the data"
   ]
  },
  {
   "cell_type": "code",
   "execution_count": 171,
   "metadata": {
    "ExecuteTime": {
     "end_time": "2021-06-26T11:26:51.864553Z",
     "start_time": "2021-06-26T11:26:51.858460Z"
    }
   },
   "outputs": [],
   "source": [
    "digits_mnist = keras.datasets.mnist"
   ]
  },
  {
   "cell_type": "code",
   "execution_count": 172,
   "metadata": {
    "ExecuteTime": {
     "end_time": "2021-06-26T11:26:52.370739Z",
     "start_time": "2021-06-26T11:26:52.015173Z"
    }
   },
   "outputs": [],
   "source": [
    "(X_train_digits, y_train_digits), (X_test_digits, y_test_digits) = digits_mnist.load_data()"
   ]
  },
  {
   "cell_type": "code",
   "execution_count": 173,
   "metadata": {
    "ExecuteTime": {
     "end_time": "2021-06-26T11:26:52.377833Z",
     "start_time": "2021-06-26T11:26:52.372977Z"
    }
   },
   "outputs": [
    {
     "name": "stdout",
     "output_type": "stream",
     "text": [
      "Digits - X train shape: (60000, 28, 28)\n",
      "Digits - X test shape: (10000, 28, 28)\n",
      "Digits - y train shape: (10000, 28, 28)\n",
      "Digits - y test shape: (10000,)\n"
     ]
    }
   ],
   "source": [
    "print(\"Digits - X train shape:\", X_train_digits.shape)\n",
    "print(\"Digits - X test shape:\", X_test_digits.shape)\n",
    "print(\"Digits - y train shape:\", X_test_digits.shape)\n",
    "print(\"Digits - y test shape:\", y_test_digits.shape)"
   ]
  },
  {
   "cell_type": "markdown",
   "metadata": {},
   "source": [
    "## Transform the data (Scale + 4 dimensions)"
   ]
  },
  {
   "cell_type": "code",
   "execution_count": 174,
   "metadata": {
    "ExecuteTime": {
     "end_time": "2021-06-26T11:26:53.854616Z",
     "start_time": "2021-06-26T11:26:53.545362Z"
    }
   },
   "outputs": [],
   "source": [
    "X_train_digits_nrm = normalize_pics(X_train_digits)\n",
    "X_test_digits_nrm = normalize_pics(X_test_digits)"
   ]
  },
  {
   "cell_type": "code",
   "execution_count": 175,
   "metadata": {
    "ExecuteTime": {
     "end_time": "2021-06-26T11:26:53.874300Z",
     "start_time": "2021-06-26T11:26:53.857593Z"
    }
   },
   "outputs": [
    {
     "name": "stdout",
     "output_type": "stream",
     "text": [
      "Digits - X train normalized shape: (60000, 28, 28)\n",
      "Digits - X test normalized shape: (10000, 28, 28)\n",
      "Digits - X test max normalized value: 1.0\n",
      "Digits - X test min normalized value: 0.0\n"
     ]
    }
   ],
   "source": [
    "print(\"Digits - X train normalized shape:\", X_train_digits_nrm.shape)\n",
    "print(\"Digits - X test normalized shape:\", X_test_digits_nrm.shape)\n",
    "print(\"Digits - X test max normalized value:\", X_test_digits_nrm.max())\n",
    "print(\"Digits - X test min normalized value:\", X_test_digits_nrm.min())"
   ]
  },
  {
   "cell_type": "code",
   "execution_count": 176,
   "metadata": {
    "ExecuteTime": {
     "end_time": "2021-06-26T11:26:53.930722Z",
     "start_time": "2021-06-26T11:26:53.927715Z"
    }
   },
   "outputs": [],
   "source": [
    "X_train_digits_nrm_cnn = X_train_digits_nrm[..., np.newaxis]\n",
    "X_test_digits_nrm_cnn = X_test_digits_nrm[..., np.newaxis]"
   ]
  },
  {
   "cell_type": "markdown",
   "metadata": {},
   "source": [
    "## Predictions"
   ]
  },
  {
   "cell_type": "markdown",
   "metadata": {},
   "source": [
    "### Instance - 7"
   ]
  },
  {
   "cell_type": "code",
   "execution_count": 177,
   "metadata": {
    "ExecuteTime": {
     "end_time": "2021-06-26T11:26:55.453367Z",
     "start_time": "2021-06-26T11:26:55.449697Z"
    }
   },
   "outputs": [
    {
     "name": "stdout",
     "output_type": "stream",
     "text": [
      "Shape of digit instance (28, 28)\n",
      "label: 7\n"
     ]
    }
   ],
   "source": [
    "X_test_digits_nrm_instance = np.squeeze(X_test_digits_nrm_cnn[0])\n",
    "print(\"Shape of digit instance\", X_test_normalized_instance.shape)\n",
    "print(\"label:\", y_test_digits[0])"
   ]
  },
  {
   "cell_type": "code",
   "execution_count": 178,
   "metadata": {
    "ExecuteTime": {
     "end_time": "2021-06-26T11:26:55.746142Z",
     "start_time": "2021-06-26T11:26:55.672293Z"
    }
   },
   "outputs": [
    {
     "data": {
      "image/png": "[encoded data removed]",
      "text/plain": [
       "<Figure size 432x288 with 1 Axes>"
      ]
     },
     "metadata": {
      "needs_background": "light"
     },
     "output_type": "display_data"
    }
   ],
   "source": [
    "plt.imshow(X_test_digits_nrm_instance, cmap=\"binary\")\n",
    "plt.axis('off')\n",
    "plt.show()"
   ]
  },
  {
   "cell_type": "markdown",
   "metadata": {},
   "source": [
    "#### Simple Model Dropout -  `mc_model_simple_drp`"
   ]
  },
  {
   "cell_type": "code",
   "execution_count": 190,
   "metadata": {
    "ExecuteTime": {
     "end_time": "2021-06-26T12:52:58.580518Z",
     "start_time": "2021-06-26T12:52:54.672928Z"
    }
   },
   "outputs": [
    {
     "data": {
      "application/vnd.jupyter.widget-view+json": {
       "model_id": "",
       "version_major": 2,
       "version_minor": 0
      },
      "text/plain": [
       "HBox(children=(FloatProgress(value=0.0), HTML(value='')))"
      ]
     },
     "metadata": {},
     "output_type": "display_data"
    },
    {
     "name": "stdout",
     "output_type": "stream",
     "text": [
      "\n",
      "[[0.08 0.   0.02 0.   0.   0.76 0.03 0.   0.06 0.04]]\n"
     ]
    }
   ],
   "source": [
    "y_pred_mc_cnn_digit = np.round(np.mean([mc_model_simple_drp.predict(X_test_digits_nrm_cnn[0:1]) \n",
    "                                        for sample in tqdm(range(100))], axis=0), 2)\n",
    "print(y_pred_mc_cnn_digit)"
   ]
  },
  {
   "cell_type": "markdown",
   "metadata": {},
   "source": [
    "#### MC Dropout CNN"
   ]
  },
  {
   "cell_type": "code",
   "execution_count": 179,
   "metadata": {
    "ExecuteTime": {
     "end_time": "2021-06-26T11:27:02.567544Z",
     "start_time": "2021-06-26T11:26:58.462863Z"
    }
   },
   "outputs": [
    {
     "data": {
      "application/vnd.jupyter.widget-view+json": {
       "model_id": "b5a3bc4ca8894cd39a2cda005069df01",
       "version_major": 2,
       "version_minor": 0
      },
      "text/plain": [
       "HBox(children=(FloatProgress(value=0.0), HTML(value='')))"
      ]
     },
     "metadata": {},
     "output_type": "display_data"
    },
    {
     "name": "stdout",
     "output_type": "stream",
     "text": [
      "\n",
      "[[0.35 0.   0.   0.01 0.   0.61 0.01 0.   0.01 0.  ]]\n"
     ]
    }
   ],
   "source": [
    "y_pred_mc_cnn_digit = np.round(np.mean([mc_model_cnn_drp.predict(X_test_digits_nrm_cnn[0:1]) \n",
    "                                        for sample in tqdm(range(100))], axis=0), 2)\n",
    "print(y_pred_mc_cnn_digit)"
   ]
  },
  {
   "cell_type": "markdown",
   "metadata": {},
   "source": [
    "#### Simple CNN"
   ]
  },
  {
   "cell_type": "code",
   "execution_count": 180,
   "metadata": {
    "ExecuteTime": {
     "end_time": "2021-06-26T11:27:06.317588Z",
     "start_time": "2021-06-26T11:27:06.270517Z"
    }
   },
   "outputs": [
    {
     "data": {
      "text/plain": [
       "array([[0.14, 0.  , 0.22, 0.  , 0.01, 0.48, 0.12, 0.  , 0.01, 0.03]],\n",
       "      dtype=float32)"
      ]
     },
     "execution_count": 180,
     "metadata": {},
     "output_type": "execute_result"
    }
   ],
   "source": [
    "y_proba_softmax = model_cnn.predict(X_test_digits_nrm_cnn[0:1])\n",
    "y_proba_softmax.round(2)"
   ]
  },
  {
   "cell_type": "markdown",
   "metadata": {},
   "source": [
    "### Instance - 2"
   ]
  },
  {
   "cell_type": "code",
   "execution_count": 181,
   "metadata": {
    "ExecuteTime": {
     "end_time": "2021-06-26T11:27:20.662801Z",
     "start_time": "2021-06-26T11:27:20.658958Z"
    }
   },
   "outputs": [
    {
     "name": "stdout",
     "output_type": "stream",
     "text": [
      "Shape of digit instance (28, 28)\n",
      "label: 2\n"
     ]
    }
   ],
   "source": [
    "X_test_digits_nrm_instance = np.squeeze(X_test_digits_nrm_cnn[1])\n",
    "print(\"Shape of digit instance\", X_test_normalized_instance.shape)\n",
    "print(\"label:\", y_test_digits[1])"
   ]
  },
  {
   "cell_type": "code",
   "execution_count": 182,
   "metadata": {
    "ExecuteTime": {
     "end_time": "2021-06-26T11:27:21.964298Z",
     "start_time": "2021-06-26T11:27:21.899352Z"
    }
   },
   "outputs": [
    {
     "data": {
      "image/png": "[encoded data removed]",
      "text/plain": [
       "<Figure size 432x288 with 1 Axes>"
      ]
     },
     "metadata": {
      "needs_background": "light"
     },
     "output_type": "display_data"
    }
   ],
   "source": [
    "plt.imshow(X_test_digits_nrm_instance, cmap=\"binary\")\n",
    "plt.axis('off')\n",
    "plt.show()"
   ]
  },
  {
   "cell_type": "markdown",
   "metadata": {},
   "source": [
    "#### Simple Model Dropout -  `mc_model_simple_drp`"
   ]
  },
  {
   "cell_type": "code",
   "execution_count": 191,
   "metadata": {
    "ExecuteTime": {
     "end_time": "2021-06-26T12:54:55.863585Z",
     "start_time": "2021-06-26T12:54:51.959240Z"
    }
   },
   "outputs": [
    {
     "data": {
      "application/vnd.jupyter.widget-view+json": {
       "model_id": "df9cf17c67b447d69233faf8ce78b273",
       "version_major": 2,
       "version_minor": 0
      },
      "text/plain": [
       "HBox(children=(FloatProgress(value=0.0), HTML(value='')))"
      ]
     },
     "metadata": {},
     "output_type": "display_data"
    },
    {
     "name": "stdout",
     "output_type": "stream",
     "text": [
      "\n",
      "[[0.07 0.03 0.19 0.35 0.2  0.   0.12 0.   0.03 0.  ]]\n"
     ]
    }
   ],
   "source": [
    "y_pred_mc_cnn_digit = np.round(np.mean([mc_model_simple_drp.predict(X_test_digits_nrm_cnn[1:2]) \n",
    "                                        for sample in tqdm(range(100))], axis=0), 2)\n",
    "print(y_pred_mc_cnn_digit)"
   ]
  },
  {
   "cell_type": "markdown",
   "metadata": {},
   "source": [
    "#### MC Dropout CNN"
   ]
  },
  {
   "cell_type": "code",
   "execution_count": 183,
   "metadata": {
    "ExecuteTime": {
     "end_time": "2021-06-26T11:27:28.464184Z",
     "start_time": "2021-06-26T11:27:24.510232Z"
    }
   },
   "outputs": [
    {
     "data": {
      "application/vnd.jupyter.widget-view+json": {
       "model_id": "59bf1e12b8dc42aeaac9c90d93df8e2b",
       "version_major": 2,
       "version_minor": 0
      },
      "text/plain": [
       "HBox(children=(FloatProgress(value=0.0), HTML(value='')))"
      ]
     },
     "metadata": {},
     "output_type": "display_data"
    },
    {
     "name": "stdout",
     "output_type": "stream",
     "text": [
      "\n",
      "[[0.01 0.   0.09 0.11 0.   0.09 0.   0.   0.69 0.  ]]\n"
     ]
    }
   ],
   "source": [
    "y_pred_mc_cnn_digit = np.round(np.mean([mc_model_cnn_drp.predict(X_test_digits_nrm_cnn[1:2]) \n",
    "                                        for sample in tqdm(range(100))], axis=0), 2)\n",
    "print(y_pred_mc_cnn_digit)"
   ]
  },
  {
   "cell_type": "markdown",
   "metadata": {},
   "source": [
    "#### Simple CNN"
   ]
  },
  {
   "cell_type": "code",
   "execution_count": 184,
   "metadata": {
    "ExecuteTime": {
     "end_time": "2021-06-26T11:27:38.053981Z",
     "start_time": "2021-06-26T11:27:38.006584Z"
    }
   },
   "outputs": [
    {
     "data": {
      "text/plain": [
       "array([[0.1 , 0.  , 0.19, 0.07, 0.01, 0.  , 0.14, 0.04, 0.4 , 0.04]],\n",
       "      dtype=float32)"
      ]
     },
     "execution_count": 184,
     "metadata": {},
     "output_type": "execute_result"
    }
   ],
   "source": [
    "y_proba_softmax = model_cnn.predict(X_test_digits_nrm_cnn[1:2])\n",
    "y_proba_softmax.round(2)"
   ]
  },
  {
   "cell_type": "markdown",
   "metadata": {},
   "source": [
    "### Instance - 1"
   ]
  },
  {
   "cell_type": "code",
   "execution_count": 185,
   "metadata": {
    "ExecuteTime": {
     "end_time": "2021-06-26T11:27:28.520250Z",
     "start_time": "2021-06-26T11:27:28.516342Z"
    }
   },
   "outputs": [
    {
     "name": "stdout",
     "output_type": "stream",
     "text": [
      "Shape of digit instance (28, 28)\n",
      "label: 1\n"
     ]
    }
   ],
   "source": [
    "X_test_digits_nrm_instance = np.squeeze(X_test_digits_nrm_cnn[2])\n",
    "print(\"Shape of digit instance\", X_test_normalized_instance.shape)\n",
    "print(\"label:\", y_test_digits[2])"
   ]
  },
  {
   "cell_type": "code",
   "execution_count": 186,
   "metadata": {
    "ExecuteTime": {
     "end_time": "2021-06-26T11:27:28.591910Z",
     "start_time": "2021-06-26T11:27:28.523124Z"
    },
    "scrolled": true
   },
   "outputs": [
    {
     "data": {
      "image/png": "[encoded data removed]",
      "text/plain": [
       "<Figure size 432x288 with 1 Axes>"
      ]
     },
     "metadata": {
      "needs_background": "light"
     },
     "output_type": "display_data"
    }
   ],
   "source": [
    "plt.imshow(X_test_digits_nrm_instance, cmap=\"binary\")\n",
    "plt.axis('off')\n",
    "plt.show()"
   ]
  },
  {
   "cell_type": "markdown",
   "metadata": {},
   "source": [
    "#### Simple Model Dropout -  `mc_model_simple_drp`"
   ]
  },
  {
   "cell_type": "code",
   "execution_count": 192,
   "metadata": {
    "ExecuteTime": {
     "end_time": "2021-06-26T12:54:55.863585Z",
     "start_time": "2021-06-26T12:54:51.959240Z"
    }
   },
   "outputs": [
    {
     "data": {
      "application/vnd.jupyter.widget-view+json": {
       "model_id": "773b16f789984d3fbe2eee7d05924329",
       "version_major": 2,
       "version_minor": 0
      },
      "text/plain": [
       "HBox(children=(FloatProgress(value=0.0), HTML(value='')))"
      ]
     },
     "metadata": {},
     "output_type": "display_data"
    },
    {
     "name": "stdout",
     "output_type": "stream",
     "text": [
      "\n",
      "[[0.04 0.23 0.01 0.21 0.   0.43 0.01 0.02 0.   0.04]]\n"
     ]
    }
   ],
   "source": [
    "y_pred_mc_cnn_digit = np.round(np.mean([mc_model_simple_drp.predict(X_test_digits_nrm_cnn[2:3]) \n",
    "                                        for sample in tqdm(range(100))], axis=0), 2)\n",
    "print(y_pred_mc_cnn_digit)"
   ]
  },
  {
   "cell_type": "markdown",
   "metadata": {},
   "source": [
    "#### MC Dropout CNN"
   ]
  },
  {
   "cell_type": "code",
   "execution_count": 187,
   "metadata": {
    "ExecuteTime": {
     "end_time": "2021-06-26T11:27:38.003672Z",
     "start_time": "2021-06-26T11:27:34.094660Z"
    }
   },
   "outputs": [
    {
     "data": {
      "application/vnd.jupyter.widget-view+json": {
       "model_id": "48134239238c4738adc6c32518bab977",
       "version_major": 2,
       "version_minor": 0
      },
      "text/plain": [
       "HBox(children=(FloatProgress(value=0.0), HTML(value='')))"
      ]
     },
     "metadata": {},
     "output_type": "display_data"
    },
    {
     "name": "stdout",
     "output_type": "stream",
     "text": [
      "\n",
      "[[0.03 0.06 0.   0.16 0.01 0.65 0.   0.05 0.01 0.03]]\n"
     ]
    }
   ],
   "source": [
    "y_pred_mc_cnn_digit = np.round(np.mean([mc_model_cnn_drp.predict(X_test_digits_nrm_cnn[2:3]) \n",
    "                                        for sample in tqdm(range(100))], axis=0), 2)\n",
    "print(y_pred_mc_cnn_digit)"
   ]
  },
  {
   "cell_type": "markdown",
   "metadata": {},
   "source": [
    "#### Simple CNN"
   ]
  },
  {
   "cell_type": "code",
   "execution_count": 188,
   "metadata": {
    "ExecuteTime": {
     "end_time": "2021-06-26T11:27:38.053981Z",
     "start_time": "2021-06-26T11:27:38.006584Z"
    }
   },
   "outputs": [
    {
     "data": {
      "text/plain": [
       "array([[0.24, 0.17, 0.17, 0.15, 0.02, 0.  , 0.08, 0.1 , 0.01, 0.05]],\n",
       "      dtype=float32)"
      ]
     },
     "execution_count": 188,
     "metadata": {},
     "output_type": "execute_result"
    }
   ],
   "source": [
    "y_proba_softmax = model_cnn.predict(X_test_digits_nrm_cnn[2:3])\n",
    "y_proba_softmax.round(2)"
   ]
  }
 ],
 "metadata": {
  "kernelspec": {
   "display_name": "Python 3",
   "language": "python",
   "name": "python3"
  },
  "language_info": {
   "codemirror_mode": {
    "name": "ipython",
    "version": 3
   },
   "file_extension": ".py",
   "mimetype": "text/x-python",
   "name": "python",
   "nbconvert_exporter": "python",
   "pygments_lexer": "ipython3",
   "version": "3.7.6"
  },
  "toc": {
   "base_numbering": 1,
   "nav_menu": {},
   "number_sections": true,
   "sideBar": true,
   "skip_h1_title": false,
   "title_cell": "Table of Contents",
   "title_sidebar": "Contents",
   "toc_cell": false,
   "toc_position": {
    "height": "calc(100% - 180px)",
    "left": "10px",
    "top": "150px",
    "width": "543px"
   },
   "toc_section_display": true,
   "toc_window_display": true
  }
 },
 "nbformat": 4,
 "nbformat_minor": 4
}
