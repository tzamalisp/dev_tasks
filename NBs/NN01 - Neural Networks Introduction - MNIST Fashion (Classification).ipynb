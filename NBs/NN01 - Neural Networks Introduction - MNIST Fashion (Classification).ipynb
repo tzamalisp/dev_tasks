{
 "cells": [
  {
   "cell_type": "code",
   "execution_count": 1,
   "metadata": {
    "ExecuteTime": {
     "end_time": "2021-06-24T13:36:52.897849Z",
     "start_time": "2021-06-24T13:36:44.569231Z"
    }
   },
   "outputs": [],
   "source": [
    "import numpy as np\n",
    "import os\n",
    "import pandas as pd\n",
    "\n",
    "# To plot pretty figures\n",
    "%matplotlib inline\n",
    "import matplotlib as mpl\n",
    "import matplotlib.pyplot as plt\n",
    "mpl.rc('axes', labelsize=14)\n",
    "mpl.rc('xtick', labelsize=12)\n",
    "mpl.rc('ytick', labelsize=12)\n",
    "\n",
    "# tensorflow and related layers\n",
    "import tensorflow as tf\n",
    "from tensorflow import keras\n",
    "from tensorflow.keras import Sequential\n",
    "from tensorflow.keras.layers import Conv2D\n",
    "from tensorflow.keras.layers import MaxPooling2D\n",
    "from tensorflow.keras.layers import Dense\n",
    "from tensorflow.keras.layers import Flatten\n",
    "from tensorflow.keras.layers import BatchNormalization\n",
    "from tensorflow.keras.layers import Dropout\n",
    "from tensorflow.keras.layers import Activation\n",
    "\n",
    "# reports\n",
    "from sklearn.metrics import confusion_matrix, classification_report\n",
    "\n",
    "# progress status\n",
    "from tqdm.notebook import tqdm\n",
    "\n",
    "# to make this notebook's output stable across runs\n",
    "np.random.seed(42)\n",
    "tf.random.set_seed(42)"
   ]
  },
  {
   "cell_type": "code",
   "execution_count": 2,
   "metadata": {
    "ExecuteTime": {
     "end_time": "2021-06-24T13:36:52.905361Z",
     "start_time": "2021-06-24T13:36:52.900630Z"
    }
   },
   "outputs": [
    {
     "name": "stdout",
     "output_type": "stream",
     "text": [
      "Tensorflow version: 2.5.0\n",
      "Keras version: 2.5.0\n"
     ]
    }
   ],
   "source": [
    "print(\"Tensorflow version:\", tf.__version__)\n",
    "print(\"Keras version:\", keras.__version__)"
   ]
  },
  {
   "cell_type": "markdown",
   "metadata": {},
   "source": [
    "Define Model parameters"
   ]
  },
  {
   "cell_type": "code",
   "execution_count": 3,
   "metadata": {
    "ExecuteTime": {
     "end_time": "2021-06-24T13:36:52.917212Z",
     "start_time": "2021-06-24T13:36:52.909263Z"
    }
   },
   "outputs": [
    {
     "name": "stderr",
     "output_type": "stream",
     "text": [
      "/Users/pantelistzamalis/opt/anaconda3/lib/python3.7/site-packages/tensorflow/python/keras/optimizer_v2/optimizer_v2.py:375: UserWarning: The `lr` argument is deprecated, use `learning_rate` instead.\n",
      "  \"The `lr` argument is deprecated, use `learning_rate` instead.\")\n"
     ]
    }
   ],
   "source": [
    "model_params = {\n",
    "    \"n_epochs\": 20,\n",
    "    \"batch_size\": 32,\n",
    "    \"activation_output\": \"softmax\",\n",
    "    \"loss\": \"sparse_categorical_crossentropy\",\n",
    "    \"optimizer\": keras.optimizers.SGD(lr=0.01, momentum=0.9, nesterov=True),\n",
    "    \"metrics\": [\"accuracy\"]\n",
    "}"
   ]
  },
  {
   "cell_type": "markdown",
   "metadata": {},
   "source": [
    "## Load the Dataset"
   ]
  },
  {
   "cell_type": "markdown",
   "metadata": {},
   "source": [
    "Load the data from Keras"
   ]
  },
  {
   "cell_type": "code",
   "execution_count": 4,
   "metadata": {
    "ExecuteTime": {
     "end_time": "2021-06-24T13:36:53.379691Z",
     "start_time": "2021-06-24T13:36:52.920420Z"
    }
   },
   "outputs": [],
   "source": [
    "fashion_mnist = keras.datasets.fashion_mnist\n",
    "(X_train_full, y_train_full), (X_test, y_test) = fashion_mnist.load_data()"
   ]
  },
  {
   "cell_type": "markdown",
   "metadata": {},
   "source": [
    "Explore the data related to its shape, data type, and min/max value in the matrix"
   ]
  },
  {
   "cell_type": "code",
   "execution_count": 5,
   "metadata": {
    "ExecuteTime": {
     "end_time": "2021-06-24T13:36:53.386310Z",
     "start_time": "2021-06-24T13:36:53.381730Z"
    }
   },
   "outputs": [
    {
     "name": "stdout",
     "output_type": "stream",
     "text": [
      "X train data shape: (60000, 28, 28)\n",
      "y train data shape: (60000,)\n",
      "X test data shape: (10000, 28, 28)\n",
      "y test data shape: (10000,)\n"
     ]
    }
   ],
   "source": [
    "print(\"X train data shape:\", X_train_full.shape)\n",
    "print(\"y train data shape:\", y_train_full.shape)\n",
    "print(\"X test data shape:\", X_test.shape)\n",
    "print(\"y test data shape:\", y_test.shape)"
   ]
  },
  {
   "cell_type": "code",
   "execution_count": 6,
   "metadata": {
    "ExecuteTime": {
     "end_time": "2021-06-24T13:36:53.393207Z",
     "start_time": "2021-06-24T13:36:53.388648Z"
    }
   },
   "outputs": [
    {
     "name": "stdout",
     "output_type": "stream",
     "text": [
      "X train data type: uint8\n",
      "y train data type: uint8\n",
      "X test data type: uint8\n",
      "y test data type: uint8\n"
     ]
    }
   ],
   "source": [
    "print(\"X train data type:\", X_train_full.dtype)\n",
    "print(\"y train data type:\", y_train_full.dtype)\n",
    "print(\"X test data type:\", X_test.dtype)\n",
    "print(\"y test data type:\", y_test.dtype)"
   ]
  },
  {
   "cell_type": "code",
   "execution_count": 7,
   "metadata": {
    "ExecuteTime": {
     "end_time": "2021-06-24T13:36:53.404093Z",
     "start_time": "2021-06-24T13:36:53.399254Z"
    }
   },
   "outputs": [
    {
     "name": "stdout",
     "output_type": "stream",
     "text": [
      "X train type: <class 'numpy.ndarray'>\n",
      "y train type: <class 'numpy.ndarray'>\n",
      "X test type: <class 'numpy.ndarray'>\n",
      "y test type: <class 'numpy.ndarray'>\n"
     ]
    }
   ],
   "source": [
    "print(\"X train type:\", type(X_train_full))\n",
    "print(\"y train type:\", type(y_train_full))\n",
    "print(\"X test type:\", type(X_test))\n",
    "print(\"y test type:\", type(y_test))"
   ]
  },
  {
   "cell_type": "code",
   "execution_count": 8,
   "metadata": {
    "ExecuteTime": {
     "end_time": "2021-06-24T13:36:53.485783Z",
     "start_time": "2021-06-24T13:36:53.407431Z"
    }
   },
   "outputs": [
    {
     "name": "stdout",
     "output_type": "stream",
     "text": [
      "Maximum matrix value: 255\n",
      "Minimum matrix value: 0\n"
     ]
    }
   ],
   "source": [
    "print(\"Maximum matrix value:\", X_train_full.max())\n",
    "print(\"Minimum matrix value:\", X_train_full.min())"
   ]
  },
  {
   "cell_type": "markdown",
   "metadata": {},
   "source": [
    "## Split the train data into *train* and *validation* sets"
   ]
  },
  {
   "cell_type": "code",
   "execution_count": 9,
   "metadata": {
    "ExecuteTime": {
     "end_time": "2021-06-24T13:36:53.491733Z",
     "start_time": "2021-06-24T13:36:53.488447Z"
    }
   },
   "outputs": [],
   "source": [
    "X_valid, X_train = X_train_full[:5000], X_train_full[5000:]\n",
    "y_valid, y_train = y_train_full[:5000], y_train_full[5000:]"
   ]
  },
  {
   "cell_type": "code",
   "execution_count": 10,
   "metadata": {
    "ExecuteTime": {
     "end_time": "2021-06-24T13:36:53.499598Z",
     "start_time": "2021-06-24T13:36:53.495085Z"
    }
   },
   "outputs": [
    {
     "name": "stdout",
     "output_type": "stream",
     "text": [
      "X validation data shape: (5000, 28, 28)\n",
      "y validation data shape: (5000,)\n"
     ]
    }
   ],
   "source": [
    "print(\"X validation data shape:\", X_valid.shape)\n",
    "print(\"y validation data shape:\", y_valid.shape)"
   ]
  },
  {
   "cell_type": "markdown",
   "metadata": {},
   "source": [
    "## Normalize the data"
   ]
  },
  {
   "cell_type": "code",
   "execution_count": 11,
   "metadata": {
    "ExecuteTime": {
     "end_time": "2021-06-24T13:36:53.506107Z",
     "start_time": "2021-06-24T13:36:53.501996Z"
    }
   },
   "outputs": [],
   "source": [
    "# normalization\n",
    "def normalize_pics(data):\n",
    "    return data / 255."
   ]
  },
  {
   "cell_type": "code",
   "execution_count": 12,
   "metadata": {
    "ExecuteTime": {
     "end_time": "2021-06-24T13:36:53.850312Z",
     "start_time": "2021-06-24T13:36:53.508582Z"
    }
   },
   "outputs": [],
   "source": [
    "X_train_normalized = normalize_pics(X_train)\n",
    "X_valid_normalized = normalize_pics(X_valid)\n",
    "X_test_normalized = normalize_pics(X_test)"
   ]
  },
  {
   "cell_type": "code",
   "execution_count": 13,
   "metadata": {
    "ExecuteTime": {
     "end_time": "2021-06-24T13:36:53.930317Z",
     "start_time": "2021-06-24T13:36:53.852296Z"
    }
   },
   "outputs": [
    {
     "name": "stdout",
     "output_type": "stream",
     "text": [
      "Maximum matrix value: 1.0\n",
      "Minimum matrix value: 0.0\n"
     ]
    }
   ],
   "source": [
    "print(\"Maximum matrix value:\", X_train_normalized.max())\n",
    "print(\"Minimum matrix value:\", X_train_normalized.min())"
   ]
  },
  {
   "cell_type": "code",
   "execution_count": 14,
   "metadata": {
    "ExecuteTime": {
     "end_time": "2021-06-24T13:36:53.938093Z",
     "start_time": "2021-06-24T13:36:53.933197Z"
    }
   },
   "outputs": [
    {
     "name": "stdout",
     "output_type": "stream",
     "text": [
      "X train normalized data shape: (55000, 28, 28)\n",
      "X validation normalized data shape: (5000, 28, 28)\n",
      "X test normalized data shape: (10000, 28, 28)\n"
     ]
    }
   ],
   "source": [
    "print(\"X train normalized data shape:\", X_train_normalized.shape)\n",
    "print(\"X validation normalized data shape:\", X_valid_normalized.shape)\n",
    "print(\"X test normalized data shape:\", X_test_normalized.shape)"
   ]
  },
  {
   "cell_type": "markdown",
   "metadata": {},
   "source": [
    "## Scale the inputs to mean 0 and standard deviation 1"
   ]
  },
  {
   "cell_type": "markdown",
   "metadata": {},
   "source": [
    "Compute the mean and std from the X_train full set pixels"
   ]
  },
  {
   "cell_type": "code",
   "execution_count": 15,
   "metadata": {
    "ExecuteTime": {
     "end_time": "2021-06-24T13:36:54.369247Z",
     "start_time": "2021-06-24T13:36:53.940686Z"
    }
   },
   "outputs": [],
   "source": [
    "pixel_means = X_train_full.mean(axis=0, keepdims=True)\n",
    "pixel_stds = X_train_full.std(axis=0, keepdims=True)"
   ]
  },
  {
   "cell_type": "code",
   "execution_count": 16,
   "metadata": {
    "ExecuteTime": {
     "end_time": "2021-06-24T13:36:54.374674Z",
     "start_time": "2021-06-24T13:36:54.371433Z"
    }
   },
   "outputs": [],
   "source": [
    "# standardization\n",
    "def scale_pics(data, pixel_means, pixel_stds):\n",
    "    return (data - pixel_means) / pixel_stds"
   ]
  },
  {
   "cell_type": "code",
   "execution_count": 17,
   "metadata": {
    "ExecuteTime": {
     "end_time": "2021-06-24T13:36:55.045341Z",
     "start_time": "2021-06-24T13:36:54.377458Z"
    }
   },
   "outputs": [],
   "source": [
    "X_train_scaled = scale_pics(X_train, pixel_means, pixel_stds)\n",
    "X_valid_scaled = scale_pics(X_valid, pixel_means, pixel_stds)\n",
    "X_test_scaled = scale_pics(X_test, pixel_means, pixel_stds)"
   ]
  },
  {
   "cell_type": "markdown",
   "metadata": {},
   "source": [
    "## Plot the data"
   ]
  },
  {
   "cell_type": "markdown",
   "metadata": {},
   "source": [
    "Plot an instance"
   ]
  },
  {
   "cell_type": "code",
   "execution_count": 18,
   "metadata": {
    "ExecuteTime": {
     "end_time": "2021-06-24T13:36:55.116808Z",
     "start_time": "2021-06-24T13:36:55.047760Z"
    },
    "scrolled": true
   },
   "outputs": [
    {
     "data": {
      "image/png": "[encoded data removed]",
      "text/plain": [
       "<Figure size 432x288 with 1 Axes>"
      ]
     },
     "metadata": {
      "needs_background": "light"
     },
     "output_type": "display_data"
    }
   ],
   "source": [
    "plt.imshow(X_train[0], cmap=\"binary\")\n",
    "plt.axis('off')\n",
    "plt.show()"
   ]
  },
  {
   "cell_type": "markdown",
   "metadata": {},
   "source": [
    "Unique values of y_train data:"
   ]
  },
  {
   "cell_type": "code",
   "execution_count": 19,
   "metadata": {
    "ExecuteTime": {
     "end_time": "2021-06-24T13:36:55.125609Z",
     "start_time": "2021-06-24T13:36:55.118951Z"
    }
   },
   "outputs": [
    {
     "data": {
      "text/plain": [
       "array([0, 1, 2, 3, 4, 5, 6, 7, 8, 9], dtype=uint8)"
      ]
     },
     "execution_count": 19,
     "metadata": {},
     "output_type": "execute_result"
    }
   ],
   "source": [
    "np.unique(y_train)"
   ]
  },
  {
   "cell_type": "markdown",
   "metadata": {},
   "source": [
    "List of class names to know what exactly each number depicts"
   ]
  },
  {
   "cell_type": "code",
   "execution_count": 20,
   "metadata": {
    "ExecuteTime": {
     "end_time": "2021-06-24T13:36:55.131113Z",
     "start_time": "2021-06-24T13:36:55.127663Z"
    }
   },
   "outputs": [],
   "source": [
    "class_names = [\"T-shirt/top\", \"Trouser\", \"Pullover\", \"Dress\", \"Coat\",\n",
    "               \"Sandal\", \"Shirt\", \"Sneaker\", \"Bag\", \"Ankle boot\"]"
   ]
  },
  {
   "cell_type": "code",
   "execution_count": 21,
   "metadata": {
    "ExecuteTime": {
     "end_time": "2021-06-24T13:36:55.140419Z",
     "start_time": "2021-06-24T13:36:55.133726Z"
    }
   },
   "outputs": [
    {
     "data": {
      "text/plain": [
       "'Coat'"
      ]
     },
     "execution_count": 21,
     "metadata": {},
     "output_type": "execute_result"
    }
   ],
   "source": [
    "class_names[y_train[0]]"
   ]
  },
  {
   "cell_type": "markdown",
   "metadata": {},
   "source": [
    "Some samples from the MNIST Fashion dataset"
   ]
  },
  {
   "cell_type": "code",
   "execution_count": 22,
   "metadata": {
    "ExecuteTime": {
     "end_time": "2021-06-24T13:36:56.451682Z",
     "start_time": "2021-06-24T13:36:55.149342Z"
    }
   },
   "outputs": [
    {
     "data": {
      "image/png": "[encoded data removed]",
      "text/plain": [
       "<Figure size 864x345.6 with 40 Axes>"
      ]
     },
     "metadata": {
      "needs_background": "light"
     },
     "output_type": "display_data"
    }
   ],
   "source": [
    "n_rows = 4\n",
    "n_cols = 10\n",
    "plt.figure(figsize=(n_cols * 1.2, n_rows * 1.2))\n",
    "for row in range(n_rows):\n",
    "    for col in range(n_cols):\n",
    "        index = n_cols * row + col\n",
    "        plt.subplot(n_rows, n_cols, index + 1)\n",
    "        plt.imshow(X_train_normalized[index], cmap=\"binary\", interpolation=\"nearest\")\n",
    "        plt.axis('off')\n",
    "        plt.title(class_names[y_train[index]], fontsize=12)\n",
    "plt.subplots_adjust(wspace=0.2, hspace=0.5)\n",
    "plt.show()"
   ]
  },
  {
   "cell_type": "markdown",
   "metadata": {},
   "source": [
    "## Train a simple model"
   ]
  },
  {
   "cell_type": "markdown",
   "metadata": {},
   "source": [
    "### Initialize the model and its architecture"
   ]
  },
  {
   "cell_type": "code",
   "execution_count": 23,
   "metadata": {
    "ExecuteTime": {
     "end_time": "2021-06-24T13:36:56.500403Z",
     "start_time": "2021-06-24T13:36:56.457584Z"
    }
   },
   "outputs": [],
   "source": [
    "model = keras.models.Sequential()\n",
    "model.add(keras.layers.Flatten(input_shape=[28, 28]))\n",
    "model.add(keras.layers.Dense(300, activation=\"relu\"))\n",
    "model.add(keras.layers.Dense(100, activation=\"relu\"))\n",
    "model.add(keras.layers.Dense(10, activation=\"softmax\"))"
   ]
  },
  {
   "cell_type": "markdown",
   "metadata": {},
   "source": [
    "Reset all state generated by Keras (if a model was initiated previously)"
   ]
  },
  {
   "cell_type": "code",
   "execution_count": 24,
   "metadata": {
    "ExecuteTime": {
     "end_time": "2021-06-24T13:36:56.508980Z",
     "start_time": "2021-06-24T13:36:56.502329Z"
    }
   },
   "outputs": [],
   "source": [
    "keras.backend.clear_session()"
   ]
  },
  {
   "cell_type": "code",
   "execution_count": 25,
   "metadata": {
    "ExecuteTime": {
     "end_time": "2021-06-24T13:36:56.544519Z",
     "start_time": "2021-06-24T13:36:56.510879Z"
    }
   },
   "outputs": [],
   "source": [
    "model = keras.models.Sequential([\n",
    "    keras.layers.Flatten(input_shape=[28, 28]),\n",
    "    keras.layers.Dense(300, activation=\"relu\", kernel_initializer='he_uniform'),\n",
    "    keras.layers.Dense(100, activation=\"relu\", kernel_initializer='he_uniform'),\n",
    "    keras.layers.Dense(10, activation=\"softmax\")\n",
    "])"
   ]
  },
  {
   "cell_type": "markdown",
   "metadata": {},
   "source": [
    "Get model's list of layers"
   ]
  },
  {
   "cell_type": "code",
   "execution_count": 26,
   "metadata": {
    "ExecuteTime": {
     "end_time": "2021-06-24T13:36:56.552496Z",
     "start_time": "2021-06-24T13:36:56.547579Z"
    }
   },
   "outputs": [
    {
     "data": {
      "text/plain": [
       "[<tensorflow.python.keras.layers.core.Flatten at 0x7fa56f301490>,\n",
       " <tensorflow.python.keras.layers.core.Dense at 0x7fa56f301590>,\n",
       " <tensorflow.python.keras.layers.core.Dense at 0x7fa5d8f21210>,\n",
       " <tensorflow.python.keras.layers.core.Dense at 0x7fa5d8f1cad0>]"
      ]
     },
     "execution_count": 26,
     "metadata": {},
     "output_type": "execute_result"
    }
   ],
   "source": [
    "model.layers"
   ]
  },
  {
   "cell_type": "markdown",
   "metadata": {},
   "source": [
    "Display model's summary: layers with their names, their output shape, and the number of parameters"
   ]
  },
  {
   "cell_type": "code",
   "execution_count": 27,
   "metadata": {
    "ExecuteTime": {
     "end_time": "2021-06-24T13:36:56.560251Z",
     "start_time": "2021-06-24T13:36:56.554908Z"
    }
   },
   "outputs": [
    {
     "name": "stdout",
     "output_type": "stream",
     "text": [
      "Model: \"sequential\"\n",
      "_________________________________________________________________\n",
      "Layer (type)                 Output Shape              Param #   \n",
      "=================================================================\n",
      "flatten (Flatten)            (None, 784)               0         \n",
      "_________________________________________________________________\n",
      "dense (Dense)                (None, 300)               235500    \n",
      "_________________________________________________________________\n",
      "dense_1 (Dense)              (None, 100)               30100     \n",
      "_________________________________________________________________\n",
      "dense_2 (Dense)              (None, 10)                1010      \n",
      "=================================================================\n",
      "Total params: 266,610\n",
      "Trainable params: 266,610\n",
      "Non-trainable params: 0\n",
      "_________________________________________________________________\n"
     ]
    }
   ],
   "source": [
    "model.summary()"
   ]
  },
  {
   "cell_type": "markdown",
   "metadata": {},
   "source": [
    "Plot model's summary"
   ]
  },
  {
   "cell_type": "code",
   "execution_count": 28,
   "metadata": {
    "ExecuteTime": {
     "end_time": "2021-06-24T13:36:57.264531Z",
     "start_time": "2021-06-24T13:36:56.562757Z"
    }
   },
   "outputs": [
    {
     "data": {
      "image/png": "[encoded data removed]",
      "text/plain": [
       "<IPython.core.display.Image object>"
      ]
     },
     "execution_count": 28,
     "metadata": {},
     "output_type": "execute_result"
    }
   ],
   "source": [
    "keras.utils.plot_model(model, \"fashion_mnist_model.png\", show_shapes=True)"
   ]
  },
  {
   "cell_type": "markdown",
   "metadata": {},
   "source": [
    "### Description of a layer (in this case, Dense) "
   ]
  },
  {
   "cell_type": "code",
   "execution_count": 29,
   "metadata": {
    "ExecuteTime": {
     "end_time": "2021-06-24T13:36:57.273618Z",
     "start_time": "2021-06-24T13:36:57.267422Z"
    }
   },
   "outputs": [
    {
     "data": {
      "text/plain": [
       "'dense'"
      ]
     },
     "execution_count": 29,
     "metadata": {},
     "output_type": "execute_result"
    }
   ],
   "source": [
    "# name\n",
    "hidden1 = model.layers[1]\n",
    "hidden1.name"
   ]
  },
  {
   "cell_type": "code",
   "execution_count": 30,
   "metadata": {
    "ExecuteTime": {
     "end_time": "2021-06-24T13:36:57.281342Z",
     "start_time": "2021-06-24T13:36:57.276302Z"
    }
   },
   "outputs": [
    {
     "data": {
      "text/plain": [
       "True"
      ]
     },
     "execution_count": 30,
     "metadata": {},
     "output_type": "execute_result"
    }
   ],
   "source": [
    "# check if it is hidden or not\n",
    "model.get_layer(hidden1.name) is hidden1"
   ]
  },
  {
   "cell_type": "code",
   "execution_count": null,
   "metadata": {},
   "outputs": [],
   "source": []
  },
  {
   "cell_type": "code",
   "execution_count": 31,
   "metadata": {
    "ExecuteTime": {
     "end_time": "2021-06-24T13:36:57.292443Z",
     "start_time": "2021-06-24T13:36:57.283868Z"
    }
   },
   "outputs": [],
   "source": [
    "# get layer's weights and biases\n",
    "weights, biases = hidden1.get_weights()"
   ]
  },
  {
   "cell_type": "code",
   "execution_count": 32,
   "metadata": {
    "ExecuteTime": {
     "end_time": "2021-06-24T13:36:57.303510Z",
     "start_time": "2021-06-24T13:36:57.294628Z"
    }
   },
   "outputs": [
    {
     "data": {
      "text/plain": [
       "array([ 0.08638643,  0.01047292, -0.03106006,  0.03670789, -0.04781865,\n",
       "        0.01388142,  0.02372251, -0.0502158 ,  0.02104162,  0.04844961,\n",
       "        0.02953007, -0.05797079,  0.02882975,  0.08435396,  0.06137309,\n",
       "       -0.0365416 ,  0.02144235,  0.03960829,  0.00081158, -0.08108427,\n",
       "       -0.0193755 , -0.00564279,  0.06111278,  0.0663498 , -0.07500501,\n",
       "       -0.07678579,  0.02225731,  0.0064536 ,  0.04960679, -0.05605847,\n",
       "       -0.07255901, -0.00733271, -0.05567595, -0.02564432,  0.0840748 ,\n",
       "        0.05180534,  0.0775819 , -0.03256639,  0.08727967, -0.04939087,\n",
       "       -0.02300654, -0.06733806, -0.04634434, -0.04670567, -0.04453361,\n",
       "        0.07660349,  0.05580015, -0.06644477,  0.05343934,  0.02162214,\n",
       "        0.02110711,  0.05253082, -0.01028174,  0.02007417,  0.02403441,\n",
       "        0.00990935, -0.07899092,  0.01655593, -0.0666851 , -0.06202734,\n",
       "        0.05867659,  0.0347885 ,  0.01871238,  0.03217603, -0.03072682,\n",
       "        0.00838172, -0.03927466,  0.0050872 , -0.06909116, -0.03754926,\n",
       "        0.02274314,  0.02005344,  0.02471364,  0.04563027,  0.08124269,\n",
       "       -0.08570263,  0.07105208,  0.04126406, -0.05771756, -0.02261438,\n",
       "       -0.00215293, -0.0017765 ,  0.01657401,  0.06082796, -0.04616909,\n",
       "        0.06945043,  0.03892951, -0.06313784, -0.03405474, -0.0162362 ,\n",
       "       -0.04205981, -0.07500524, -0.02240566, -0.02469521, -0.05852853,\n",
       "        0.00046165, -0.02292209, -0.07191198,  0.07633852, -0.01494952,\n",
       "        0.06142386,  0.01814352,  0.04946402,  0.02759493,  0.01367415,\n",
       "        0.02260964,  0.03406321, -0.00659697,  0.02416433,  0.05883979,\n",
       "       -0.06739834,  0.06177115, -0.08262528,  0.08568657,  0.04004928,\n",
       "        0.05341431, -0.04888878,  0.0174142 , -0.05911208,  0.02607612,\n",
       "        0.05379874, -0.0291065 ,  0.01025601,  0.00352528,  0.00999343,\n",
       "        0.02711882,  0.04706358,  0.0332334 ,  0.02905107, -0.02270513,\n",
       "        0.02730335,  0.04453845,  0.08743482,  0.0802794 ,  0.035145  ,\n",
       "        0.0681574 ,  0.06964206, -0.00090118, -0.03583794, -0.05696832,\n",
       "       -0.02182039,  0.06221154,  0.01543954, -0.02184287,  0.043883  ,\n",
       "        0.03607523,  0.02761395, -0.01735716,  0.0353621 , -0.04102827,\n",
       "       -0.02323218,  0.06398951, -0.01004931,  0.07117864, -0.0324099 ,\n",
       "       -0.07779647,  0.06422736,  0.08158184, -0.05656221, -0.01387172,\n",
       "       -0.00388763,  0.06566828,  0.07015639, -0.03807044,  0.05676744,\n",
       "        0.03721366, -0.03377296, -0.04568312, -0.04535226,  0.0789225 ,\n",
       "        0.06037561, -0.01839621,  0.04837992, -0.01797808, -0.08220766,\n",
       "        0.03620909, -0.00571496, -0.06202083, -0.02388988,  0.0141161 ,\n",
       "        0.01523153, -0.03299426, -0.03026629,  0.02756098, -0.02091236,\n",
       "        0.08501429, -0.0349768 ,  0.01130003,  0.00684517, -0.08435683,\n",
       "        0.04662085,  0.07320622,  0.01964422,  0.04813065,  0.00786436,\n",
       "       -0.07934977,  0.0127249 ,  0.01205222,  0.07094225, -0.04962981,\n",
       "       -0.05467565, -0.05773917, -0.04058516,  0.02734876, -0.06371194,\n",
       "       -0.019489  ,  0.02275736, -0.01304249, -0.01580154,  0.05616938,\n",
       "        0.06769683, -0.02685535,  0.03329907,  0.06853024,  0.02327126,\n",
       "       -0.01933562, -0.0645816 , -0.00447699, -0.05082279,  0.0507571 ,\n",
       "       -0.06695172, -0.02702182,  0.06601947,  0.02273446, -0.04365921,\n",
       "       -0.00608386, -0.01919535,  0.01624037,  0.04594233,  0.06349006,\n",
       "       -0.03839362,  0.01686668,  0.0413597 ,  0.06056712,  0.05030134,\n",
       "       -0.05163218, -0.06297539, -0.07056723, -0.04212785, -0.04009078,\n",
       "        0.0666968 ,  0.0003181 ,  0.05294221,  0.04290802, -0.02013098,\n",
       "       -0.03885728,  0.07809731,  0.02609888,  0.04273672,  0.0334079 ,\n",
       "       -0.02594491, -0.06180307, -0.04601304, -0.07831445,  0.03198019,\n",
       "        0.0554407 , -0.08173148, -0.01799981,  0.0321963 ,  0.01784807,\n",
       "        0.04124867, -0.04092918,  0.01527475, -0.00479482, -0.07531194,\n",
       "        0.01915057, -0.0565089 , -0.05676015, -0.0850585 ,  0.00675841,\n",
       "       -0.0243837 , -0.07243231,  0.01419617, -0.05533993,  0.05096962,\n",
       "       -0.02378445, -0.06297734,  0.04540155, -0.02997844,  0.03140134,\n",
       "        0.07112128, -0.07317931, -0.07345321, -0.00756579,  0.05134153,\n",
       "       -0.07584208,  0.07695249,  0.01397993, -0.08690111,  0.02798399,\n",
       "        0.03933781,  0.07772361, -0.08572979, -0.08562652, -0.01823268,\n",
       "        0.00460257,  0.00605068, -0.0442915 , -0.06822342, -0.01293834],\n",
       "      dtype=float32)"
      ]
     },
     "execution_count": 32,
     "metadata": {},
     "output_type": "execute_result"
    }
   ],
   "source": [
    "# weights' values\n",
    "weights[5]"
   ]
  },
  {
   "cell_type": "code",
   "execution_count": 33,
   "metadata": {
    "ExecuteTime": {
     "end_time": "2021-06-24T13:36:57.313748Z",
     "start_time": "2021-06-24T13:36:57.306273Z"
    }
   },
   "outputs": [
    {
     "data": {
      "text/plain": [
       "(784, 300)"
      ]
     },
     "execution_count": 33,
     "metadata": {},
     "output_type": "execute_result"
    }
   ],
   "source": [
    "# weights' shape\n",
    "weights.shape"
   ]
  },
  {
   "cell_type": "code",
   "execution_count": 34,
   "metadata": {
    "ExecuteTime": {
     "end_time": "2021-06-24T13:36:57.331058Z",
     "start_time": "2021-06-24T13:36:57.318542Z"
    }
   },
   "outputs": [
    {
     "data": {
      "text/plain": [
       "array([0., 0., 0., 0., 0., 0., 0., 0., 0., 0., 0., 0., 0., 0., 0., 0., 0.,\n",
       "       0., 0., 0., 0., 0., 0., 0., 0., 0., 0., 0., 0., 0., 0., 0., 0., 0.,\n",
       "       0., 0., 0., 0., 0., 0., 0., 0., 0., 0., 0., 0., 0., 0., 0., 0., 0.,\n",
       "       0., 0., 0., 0., 0., 0., 0., 0., 0., 0., 0., 0., 0., 0., 0., 0., 0.,\n",
       "       0., 0., 0., 0., 0., 0., 0., 0., 0., 0., 0., 0., 0., 0., 0., 0., 0.,\n",
       "       0., 0., 0., 0., 0., 0., 0., 0., 0., 0., 0., 0., 0., 0., 0., 0., 0.,\n",
       "       0., 0., 0., 0., 0., 0., 0., 0., 0., 0., 0., 0., 0., 0., 0., 0., 0.,\n",
       "       0., 0., 0., 0., 0., 0., 0., 0., 0., 0., 0., 0., 0., 0., 0., 0., 0.,\n",
       "       0., 0., 0., 0., 0., 0., 0., 0., 0., 0., 0., 0., 0., 0., 0., 0., 0.,\n",
       "       0., 0., 0., 0., 0., 0., 0., 0., 0., 0., 0., 0., 0., 0., 0., 0., 0.,\n",
       "       0., 0., 0., 0., 0., 0., 0., 0., 0., 0., 0., 0., 0., 0., 0., 0., 0.,\n",
       "       0., 0., 0., 0., 0., 0., 0., 0., 0., 0., 0., 0., 0., 0., 0., 0., 0.,\n",
       "       0., 0., 0., 0., 0., 0., 0., 0., 0., 0., 0., 0., 0., 0., 0., 0., 0.,\n",
       "       0., 0., 0., 0., 0., 0., 0., 0., 0., 0., 0., 0., 0., 0., 0., 0., 0.,\n",
       "       0., 0., 0., 0., 0., 0., 0., 0., 0., 0., 0., 0., 0., 0., 0., 0., 0.,\n",
       "       0., 0., 0., 0., 0., 0., 0., 0., 0., 0., 0., 0., 0., 0., 0., 0., 0.,\n",
       "       0., 0., 0., 0., 0., 0., 0., 0., 0., 0., 0., 0., 0., 0., 0., 0., 0.,\n",
       "       0., 0., 0., 0., 0., 0., 0., 0., 0., 0., 0.], dtype=float32)"
      ]
     },
     "execution_count": 34,
     "metadata": {},
     "output_type": "execute_result"
    }
   ],
   "source": [
    "# biases values\n",
    "biases"
   ]
  },
  {
   "cell_type": "code",
   "execution_count": 35,
   "metadata": {
    "ExecuteTime": {
     "end_time": "2021-06-24T13:36:57.341482Z",
     "start_time": "2021-06-24T13:36:57.335744Z"
    }
   },
   "outputs": [
    {
     "data": {
      "text/plain": [
       "(300,)"
      ]
     },
     "execution_count": 35,
     "metadata": {},
     "output_type": "execute_result"
    }
   ],
   "source": [
    "# biases' values\n",
    "biases.shape"
   ]
  },
  {
   "cell_type": "markdown",
   "metadata": {},
   "source": [
    "### Compile the model"
   ]
  },
  {
   "cell_type": "code",
   "execution_count": 36,
   "metadata": {
    "ExecuteTime": {
     "end_time": "2021-06-24T13:36:57.360461Z",
     "start_time": "2021-06-24T13:36:57.343861Z"
    }
   },
   "outputs": [],
   "source": [
    "model.compile(loss=model_params[\"loss\"], \n",
    "              optimizer=model_params[\"optimizer\"], \n",
    "              metrics=model_params[\"metrics\"])"
   ]
  },
  {
   "cell_type": "markdown",
   "metadata": {},
   "source": [
    "### Train the model"
   ]
  },
  {
   "cell_type": "code",
   "execution_count": 37,
   "metadata": {
    "ExecuteTime": {
     "end_time": "2021-06-24T13:37:56.746511Z",
     "start_time": "2021-06-24T13:36:57.362742Z"
    },
    "scrolled": true
   },
   "outputs": [
    {
     "name": "stdout",
     "output_type": "stream",
     "text": [
      "Epoch 1/20\n",
      "1719/1719 [==============================] - 3s 2ms/step - loss: 0.4992 - accuracy: 0.8229 - val_loss: 0.3757 - val_accuracy: 0.8650\n",
      "Epoch 2/20\n",
      "1719/1719 [==============================] - 3s 2ms/step - loss: 0.3719 - accuracy: 0.8634 - val_loss: 0.3712 - val_accuracy: 0.8640\n",
      "Epoch 3/20\n",
      "1719/1719 [==============================] - 3s 2ms/step - loss: 0.3377 - accuracy: 0.8753 - val_loss: 0.3436 - val_accuracy: 0.8740\n",
      "Epoch 4/20\n",
      "1719/1719 [==============================] - 3s 2ms/step - loss: 0.3131 - accuracy: 0.8842 - val_loss: 0.3230 - val_accuracy: 0.8818\n",
      "Epoch 5/20\n",
      "1719/1719 [==============================] - 3s 2ms/step - loss: 0.2972 - accuracy: 0.8887 - val_loss: 0.3104 - val_accuracy: 0.8840\n",
      "Epoch 6/20\n",
      "1719/1719 [==============================] - 3s 2ms/step - loss: 0.2810 - accuracy: 0.8953 - val_loss: 0.3207 - val_accuracy: 0.8854\n",
      "Epoch 7/20\n",
      "1719/1719 [==============================] - 3s 2ms/step - loss: 0.2693 - accuracy: 0.9005 - val_loss: 0.3101 - val_accuracy: 0.8900\n",
      "Epoch 8/20\n",
      "1719/1719 [==============================] - 3s 2ms/step - loss: 0.2569 - accuracy: 0.9027 - val_loss: 0.3149 - val_accuracy: 0.8826\n",
      "Epoch 9/20\n",
      "1719/1719 [==============================] - 3s 2ms/step - loss: 0.2493 - accuracy: 0.9059 - val_loss: 0.3165 - val_accuracy: 0.8858\n",
      "Epoch 10/20\n",
      "1719/1719 [==============================] - 3s 2ms/step - loss: 0.2378 - accuracy: 0.9104 - val_loss: 0.2998 - val_accuracy: 0.8962\n",
      "Epoch 11/20\n",
      "1719/1719 [==============================] - 3s 2ms/step - loss: 0.2301 - accuracy: 0.9136 - val_loss: 0.3052 - val_accuracy: 0.8876\n",
      "Epoch 12/20\n",
      "1719/1719 [==============================] - 3s 2ms/step - loss: 0.2215 - accuracy: 0.9157 - val_loss: 0.3402 - val_accuracy: 0.8774\n",
      "Epoch 13/20\n",
      "1719/1719 [==============================] - 3s 2ms/step - loss: 0.2161 - accuracy: 0.9188 - val_loss: 0.3064 - val_accuracy: 0.8946\n",
      "Epoch 14/20\n",
      "1719/1719 [==============================] - 3s 2ms/step - loss: 0.2070 - accuracy: 0.9222 - val_loss: 0.3048 - val_accuracy: 0.8904\n",
      "Epoch 15/20\n",
      "1719/1719 [==============================] - 3s 2ms/step - loss: 0.2003 - accuracy: 0.9241 - val_loss: 0.3280 - val_accuracy: 0.8864\n",
      "Epoch 16/20\n",
      "1719/1719 [==============================] - 3s 2ms/step - loss: 0.1973 - accuracy: 0.9249 - val_loss: 0.3067 - val_accuracy: 0.8932\n",
      "Epoch 17/20\n",
      "1719/1719 [==============================] - 3s 2ms/step - loss: 0.1909 - accuracy: 0.9279 - val_loss: 0.3310 - val_accuracy: 0.8846\n",
      "Epoch 18/20\n",
      "1719/1719 [==============================] - 3s 2ms/step - loss: 0.1859 - accuracy: 0.9287 - val_loss: 0.3277 - val_accuracy: 0.8906\n",
      "Epoch 19/20\n",
      "1719/1719 [==============================] - 3s 2ms/step - loss: 0.1804 - accuracy: 0.9321 - val_loss: 0.3009 - val_accuracy: 0.8976\n",
      "Epoch 20/20\n",
      "1719/1719 [==============================] - 3s 2ms/step - loss: 0.1725 - accuracy: 0.9347 - val_loss: 0.3103 - val_accuracy: 0.8936\n"
     ]
    }
   ],
   "source": [
    "history = model.fit(X_train_normalized, y_train, epochs=model_params[\"n_epochs\"],\n",
    "                    validation_data=(X_valid_normalized, y_valid))"
   ]
  },
  {
   "cell_type": "markdown",
   "metadata": {},
   "source": [
    "Training parameters"
   ]
  },
  {
   "cell_type": "code",
   "execution_count": 38,
   "metadata": {
    "ExecuteTime": {
     "end_time": "2021-06-24T13:37:56.753530Z",
     "start_time": "2021-06-24T13:37:56.748636Z"
    }
   },
   "outputs": [
    {
     "data": {
      "text/plain": [
       "{'verbose': 1, 'epochs': 20, 'steps': 1719}"
      ]
     },
     "execution_count": 38,
     "metadata": {},
     "output_type": "execute_result"
    }
   ],
   "source": [
    "history.params"
   ]
  },
  {
   "cell_type": "markdown",
   "metadata": {},
   "source": [
    "Training epochs"
   ]
  },
  {
   "cell_type": "code",
   "execution_count": 39,
   "metadata": {
    "ExecuteTime": {
     "end_time": "2021-06-24T13:37:56.759319Z",
     "start_time": "2021-06-24T13:37:56.755843Z"
    }
   },
   "outputs": [
    {
     "name": "stdout",
     "output_type": "stream",
     "text": [
      "[0, 1, 2, 3, 4, 5, 6, 7, 8, 9, 10, 11, 12, 13, 14, 15, 16, 17, 18, 19]\n"
     ]
    }
   ],
   "source": [
    "print(history.epoch)"
   ]
  },
  {
   "cell_type": "markdown",
   "metadata": {},
   "source": [
    "Training keys of the metrics"
   ]
  },
  {
   "cell_type": "code",
   "execution_count": 40,
   "metadata": {
    "ExecuteTime": {
     "end_time": "2021-06-24T13:37:56.767308Z",
     "start_time": "2021-06-24T13:37:56.762170Z"
    }
   },
   "outputs": [
    {
     "data": {
      "text/plain": [
       "dict_keys(['loss', 'accuracy', 'val_loss', 'val_accuracy'])"
      ]
     },
     "execution_count": 40,
     "metadata": {},
     "output_type": "execute_result"
    }
   ],
   "source": [
    "history.history.keys()"
   ]
  },
  {
   "cell_type": "markdown",
   "metadata": {},
   "source": [
    "Train evaluation though the epochs"
   ]
  },
  {
   "cell_type": "code",
   "execution_count": 41,
   "metadata": {
    "ExecuteTime": {
     "end_time": "2021-06-24T13:37:57.001460Z",
     "start_time": "2021-06-24T13:37:56.769669Z"
    }
   },
   "outputs": [
    {
     "data": {
      "image/png": "[encoded data removed]",
      "text/plain": [
       "<Figure size 576x360 with 1 Axes>"
      ]
     },
     "metadata": {
      "needs_background": "light"
     },
     "output_type": "display_data"
    }
   ],
   "source": [
    "pd.DataFrame(history.history).plot(figsize=(8, 5))\n",
    "plt.grid(True)\n",
    "plt.gca().set_ylim(0, 1)\n",
    "plt.show()"
   ]
  },
  {
   "cell_type": "markdown",
   "metadata": {},
   "source": [
    "### Evaluate the model on the Test data"
   ]
  },
  {
   "cell_type": "markdown",
   "metadata": {},
   "source": [
    "**Model accuracy**\n",
    "\n",
    "Evaluate on test data"
   ]
  },
  {
   "cell_type": "code",
   "execution_count": 42,
   "metadata": {
    "ExecuteTime": {
     "end_time": "2021-06-24T13:37:57.604849Z",
     "start_time": "2021-06-24T13:37:57.003722Z"
    }
   },
   "outputs": [
    {
     "name": "stdout",
     "output_type": "stream",
     "text": [
      "313/313 [==============================] - 1s 1ms/step - loss: 70.0334 - accuracy: 0.8393\n"
     ]
    },
    {
     "data": {
      "text/plain": [
       "[70.03340911865234, 0.8392999768257141]"
      ]
     },
     "execution_count": 42,
     "metadata": {},
     "output_type": "execute_result"
    }
   ],
   "source": [
    "model.evaluate(X_test, y_test)"
   ]
  },
  {
   "cell_type": "markdown",
   "metadata": {},
   "source": [
    "The prediction of the model is at: **83.93%**"
   ]
  },
  {
   "cell_type": "markdown",
   "metadata": {},
   "source": [
    "Make the predictions based on the unseen test data"
   ]
  },
  {
   "cell_type": "code",
   "execution_count": 43,
   "metadata": {
    "ExecuteTime": {
     "end_time": "2021-06-24T13:37:57.995402Z",
     "start_time": "2021-06-24T13:37:57.606816Z"
    }
   },
   "outputs": [
    {
     "name": "stdout",
     "output_type": "stream",
     "text": [
      "313/313 [==============================] - 0s 842us/step\n"
     ]
    }
   ],
   "source": [
    "predictions = np.argmax(model.predict(X_test_normalized, verbose=1), axis=-1)"
   ]
  },
  {
   "cell_type": "markdown",
   "metadata": {},
   "source": [
    "Shape of predictions"
   ]
  },
  {
   "cell_type": "code",
   "execution_count": 44,
   "metadata": {
    "ExecuteTime": {
     "end_time": "2021-06-24T13:37:58.001968Z",
     "start_time": "2021-06-24T13:37:57.997627Z"
    }
   },
   "outputs": [
    {
     "data": {
      "text/plain": [
       "(10000,)"
      ]
     },
     "execution_count": 44,
     "metadata": {},
     "output_type": "execute_result"
    }
   ],
   "source": [
    "predictions.shape"
   ]
  },
  {
   "cell_type": "markdown",
   "metadata": {},
   "source": [
    "Confusion matrix"
   ]
  },
  {
   "cell_type": "code",
   "execution_count": 45,
   "metadata": {
    "ExecuteTime": {
     "end_time": "2021-06-24T13:37:58.039844Z",
     "start_time": "2021-06-24T13:37:58.004219Z"
    }
   },
   "outputs": [
    {
     "name": "stdout",
     "output_type": "stream",
     "text": [
      "[[818   2  22  23   7   1 123   0   4   0]\n",
      " [  1 972   2  15   6   0   4   0   0   0]\n",
      " [ 14   0 769   7 131   0  79   0   0   0]\n",
      " [ 20   4  11 904  39   0  20   0   2   0]\n",
      " [  0   0  46  28 874   0  52   0   0   0]\n",
      " [  1   0   0   1   0 971   0  14   0  13]\n",
      " [ 81   0  63  29  77   0 745   0   5   0]\n",
      " [  0   0   0   0   0  21   0 964   0  15]\n",
      " [  4   0   6   5  12   4  11   1 957   0]\n",
      " [  1   0   0   0   0   5   0  47   0 947]]\n"
     ]
    }
   ],
   "source": [
    "print(confusion_matrix(y_test, predictions))"
   ]
  },
  {
   "cell_type": "markdown",
   "metadata": {},
   "source": [
    "Classification report"
   ]
  },
  {
   "cell_type": "code",
   "execution_count": 46,
   "metadata": {
    "ExecuteTime": {
     "end_time": "2021-06-24T13:37:58.067369Z",
     "start_time": "2021-06-24T13:37:58.042095Z"
    }
   },
   "outputs": [
    {
     "name": "stdout",
     "output_type": "stream",
     "text": [
      "              precision    recall  f1-score   support\n",
      "\n",
      "           0       0.87      0.82      0.84      1000\n",
      "           1       0.99      0.97      0.98      1000\n",
      "           2       0.84      0.77      0.80      1000\n",
      "           3       0.89      0.90      0.90      1000\n",
      "           4       0.76      0.87      0.81      1000\n",
      "           5       0.97      0.97      0.97      1000\n",
      "           6       0.72      0.74      0.73      1000\n",
      "           7       0.94      0.96      0.95      1000\n",
      "           8       0.99      0.96      0.97      1000\n",
      "           9       0.97      0.95      0.96      1000\n",
      "\n",
      "    accuracy                           0.89     10000\n",
      "   macro avg       0.89      0.89      0.89     10000\n",
      "weighted avg       0.89      0.89      0.89     10000\n",
      "\n"
     ]
    }
   ],
   "source": [
    "print(classification_report(y_test, predictions))"
   ]
  },
  {
   "cell_type": "code",
   "execution_count": null,
   "metadata": {},
   "outputs": [],
   "source": []
  },
  {
   "cell_type": "markdown",
   "metadata": {},
   "source": [
    "## Make a prediction for a single instance"
   ]
  },
  {
   "cell_type": "markdown",
   "metadata": {},
   "source": [
    "**Instance 01**"
   ]
  },
  {
   "cell_type": "code",
   "execution_count": 47,
   "metadata": {
    "ExecuteTime": {
     "end_time": "2021-06-24T13:37:58.137224Z",
     "start_time": "2021-06-24T13:37:58.070097Z"
    }
   },
   "outputs": [
    {
     "data": {
      "image/png": "[encoded data removed]",
      "text/plain": [
       "<Figure size 432x288 with 1 Axes>"
      ]
     },
     "metadata": {
      "needs_background": "light"
     },
     "output_type": "display_data"
    }
   ],
   "source": [
    "plt.imshow(X_test_normalized[0], cmap=\"binary\")\n",
    "plt.axis('off')\n",
    "plt.show()"
   ]
  },
  {
   "cell_type": "code",
   "execution_count": 48,
   "metadata": {
    "ExecuteTime": {
     "end_time": "2021-06-24T13:37:58.180867Z",
     "start_time": "2021-06-24T13:37:58.139213Z"
    }
   },
   "outputs": [
    {
     "data": {
      "text/plain": [
       "array([[0.  , 0.  , 0.  , 0.  , 0.  , 0.  , 0.  , 0.01, 0.  , 0.99]],\n",
       "      dtype=float32)"
      ]
     },
     "execution_count": 48,
     "metadata": {},
     "output_type": "execute_result"
    }
   ],
   "source": [
    "y_proba_softmax = model.predict(X_test_normalized[0:1])\n",
    "y_proba_softmax.round(2)"
   ]
  },
  {
   "cell_type": "code",
   "execution_count": 49,
   "metadata": {
    "ExecuteTime": {
     "end_time": "2021-06-24T13:37:58.223696Z",
     "start_time": "2021-06-24T13:37:58.183221Z"
    },
    "scrolled": true
   },
   "outputs": [
    {
     "data": {
      "text/plain": [
       "array([9])"
      ]
     },
     "execution_count": 49,
     "metadata": {},
     "output_type": "execute_result"
    }
   ],
   "source": [
    "y_pred = np.argmax(model.predict(X_test_normalized[0:1]), axis=-1)\n",
    "y_pred"
   ]
  },
  {
   "cell_type": "code",
   "execution_count": 50,
   "metadata": {
    "ExecuteTime": {
     "end_time": "2021-06-24T13:37:58.230422Z",
     "start_time": "2021-06-24T13:37:58.225608Z"
    }
   },
   "outputs": [
    {
     "data": {
      "text/plain": [
       "array(['Ankle boot'], dtype='<U11')"
      ]
     },
     "execution_count": 50,
     "metadata": {},
     "output_type": "execute_result"
    }
   ],
   "source": [
    "np.array(class_names)[y_pred]"
   ]
  },
  {
   "cell_type": "markdown",
   "metadata": {},
   "source": [
    "**Instance 02**"
   ]
  },
  {
   "cell_type": "code",
   "execution_count": 51,
   "metadata": {
    "ExecuteTime": {
     "end_time": "2021-06-24T13:37:58.294869Z",
     "start_time": "2021-06-24T13:37:58.233098Z"
    }
   },
   "outputs": [
    {
     "data": {
      "image/png": "[encoded data removed]",
      "text/plain": [
       "<Figure size 432x288 with 1 Axes>"
      ]
     },
     "metadata": {
      "needs_background": "light"
     },
     "output_type": "display_data"
    }
   ],
   "source": [
    "plt.imshow(X_test_normalized[10], cmap=\"binary\")\n",
    "plt.axis('off')\n",
    "plt.show()"
   ]
  },
  {
   "cell_type": "code",
   "execution_count": 52,
   "metadata": {
    "ExecuteTime": {
     "end_time": "2021-06-24T13:37:58.338696Z",
     "start_time": "2021-06-24T13:37:58.297125Z"
    }
   },
   "outputs": [
    {
     "data": {
      "text/plain": [
       "array([[0.  , 0.  , 0.04, 0.  , 0.96, 0.  , 0.  , 0.  , 0.  , 0.  ]],\n",
       "      dtype=float32)"
      ]
     },
     "execution_count": 52,
     "metadata": {},
     "output_type": "execute_result"
    }
   ],
   "source": [
    "y_proba_softmax = model.predict(X_test_normalized[10:11])\n",
    "y_proba_softmax.round(2)"
   ]
  },
  {
   "cell_type": "code",
   "execution_count": 53,
   "metadata": {
    "ExecuteTime": {
     "end_time": "2021-06-24T13:37:58.381672Z",
     "start_time": "2021-06-24T13:37:58.340710Z"
    }
   },
   "outputs": [
    {
     "data": {
      "text/plain": [
       "array([4])"
      ]
     },
     "execution_count": 53,
     "metadata": {},
     "output_type": "execute_result"
    }
   ],
   "source": [
    "y_pred = np.argmax(model.predict(X_test_normalized[10:11]), axis=-1)\n",
    "y_pred"
   ]
  },
  {
   "cell_type": "code",
   "execution_count": 54,
   "metadata": {
    "ExecuteTime": {
     "end_time": "2021-06-24T13:37:58.389280Z",
     "start_time": "2021-06-24T13:37:58.384119Z"
    }
   },
   "outputs": [
    {
     "data": {
      "text/plain": [
       "array(['Coat'], dtype='<U11')"
      ]
     },
     "execution_count": 54,
     "metadata": {},
     "output_type": "execute_result"
    }
   ],
   "source": [
    "np.array(class_names)[y_pred]"
   ]
  },
  {
   "cell_type": "markdown",
   "metadata": {},
   "source": [
    "## Make a prediction for a batch of instances"
   ]
  },
  {
   "cell_type": "code",
   "execution_count": 55,
   "metadata": {
    "ExecuteTime": {
     "end_time": "2021-06-24T13:37:58.395960Z",
     "start_time": "2021-06-24T13:37:58.391356Z"
    }
   },
   "outputs": [
    {
     "data": {
      "text/plain": [
       "[3, 4, 5, 6]"
      ]
     },
     "execution_count": 55,
     "metadata": {},
     "output_type": "execute_result"
    }
   ],
   "source": [
    "test_indices = range(3,7)\n",
    "list(test_indices)"
   ]
  },
  {
   "cell_type": "code",
   "execution_count": 56,
   "metadata": {
    "ExecuteTime": {
     "end_time": "2021-06-24T13:37:58.533470Z",
     "start_time": "2021-06-24T13:37:58.398685Z"
    }
   },
   "outputs": [
    {
     "data": {
      "image/png": "[encoded data removed]",
      "text/plain": [
       "<Figure size 518.4x172.8 with 4 Axes>"
      ]
     },
     "metadata": {
      "needs_background": "light"
     },
     "output_type": "display_data"
    }
   ],
   "source": [
    "plt.figure(figsize=(7.2, 2.4))\n",
    "for index, image_number in enumerate(list(test_indices)):\n",
    "    plt.subplot(1, 4, index + 1)\n",
    "    plt.imshow(X_test_normalized[image_number], cmap=\"binary\", interpolation=\"nearest\")\n",
    "    plt.axis('off')\n",
    "    plt.title(class_names[y_test[image_number]], fontsize=12)\n",
    "plt.subplots_adjust(wspace=0.2, hspace=0.5)\n",
    "plt.show()"
   ]
  },
  {
   "cell_type": "code",
   "execution_count": 57,
   "metadata": {
    "ExecuteTime": {
     "end_time": "2021-06-24T13:37:58.540739Z",
     "start_time": "2021-06-24T13:37:58.535785Z"
    }
   },
   "outputs": [
    {
     "data": {
      "text/plain": [
       "array([1, 6, 1, 4], dtype=uint8)"
      ]
     },
     "execution_count": 57,
     "metadata": {},
     "output_type": "execute_result"
    }
   ],
   "source": [
    "y_test[3:7]"
   ]
  },
  {
   "cell_type": "code",
   "execution_count": 58,
   "metadata": {
    "ExecuteTime": {
     "end_time": "2021-06-24T13:37:58.587085Z",
     "start_time": "2021-06-24T13:37:58.542948Z"
    }
   },
   "outputs": [
    {
     "data": {
      "text/plain": [
       "array([[0.  , 1.  , 0.  , 0.  , 0.  , 0.  , 0.  , 0.  , 0.  , 0.  ],\n",
       "       [0.04, 0.  , 0.  , 0.  , 0.  , 0.  , 0.96, 0.  , 0.  , 0.  ],\n",
       "       [0.  , 1.  , 0.  , 0.  , 0.  , 0.  , 0.  , 0.  , 0.  , 0.  ],\n",
       "       [0.  , 0.  , 0.  , 0.  , 1.  , 0.  , 0.  , 0.  , 0.  , 0.  ]],\n",
       "      dtype=float32)"
      ]
     },
     "execution_count": 58,
     "metadata": {},
     "output_type": "execute_result"
    }
   ],
   "source": [
    "y_proba_softmax = model.predict(X_test_normalized[3:7])\n",
    "y_proba_softmax.round(2)"
   ]
  },
  {
   "cell_type": "code",
   "execution_count": 59,
   "metadata": {
    "ExecuteTime": {
     "end_time": "2021-06-24T13:37:58.632320Z",
     "start_time": "2021-06-24T13:37:58.589367Z"
    }
   },
   "outputs": [
    {
     "data": {
      "text/plain": [
       "array([1, 6, 1, 4])"
      ]
     },
     "execution_count": 59,
     "metadata": {},
     "output_type": "execute_result"
    }
   ],
   "source": [
    "y_pred = np.argmax(model.predict(X_test_normalized[3:7]), axis=-1)\n",
    "y_pred"
   ]
  },
  {
   "cell_type": "code",
   "execution_count": 60,
   "metadata": {
    "ExecuteTime": {
     "end_time": "2021-06-24T13:37:58.640076Z",
     "start_time": "2021-06-24T13:37:58.634878Z"
    }
   },
   "outputs": [
    {
     "data": {
      "text/plain": [
       "array(['Trouser', 'Shirt', 'Trouser', 'Coat'], dtype='<U11')"
      ]
     },
     "execution_count": 60,
     "metadata": {},
     "output_type": "execute_result"
    }
   ],
   "source": [
    "np.array(class_names)[y_pred]"
   ]
  },
  {
   "cell_type": "markdown",
   "metadata": {},
   "source": []
  },
  {
   "cell_type": "markdown",
   "metadata": {},
   "source": [
    "## Monte Carlo (MC) Dropout"
   ]
  },
  {
   "cell_type": "markdown",
   "metadata": {},
   "source": [
    "Reset all state generated by Keras"
   ]
  },
  {
   "cell_type": "code",
   "execution_count": 61,
   "metadata": {
    "ExecuteTime": {
     "end_time": "2021-06-24T13:37:58.647430Z",
     "start_time": "2021-06-24T13:37:58.642076Z"
    }
   },
   "outputs": [],
   "source": [
    "keras.backend.clear_session()"
   ]
  },
  {
   "cell_type": "markdown",
   "metadata": {},
   "source": [
    "Add Dropout layers"
   ]
  },
  {
   "cell_type": "code",
   "execution_count": 62,
   "metadata": {
    "ExecuteTime": {
     "end_time": "2021-06-24T13:37:58.694564Z",
     "start_time": "2021-06-24T13:37:58.649591Z"
    }
   },
   "outputs": [],
   "source": [
    "model = keras.models.Sequential([\n",
    "    keras.layers.Flatten(input_shape=[28, 28]),\n",
    "    keras.layers.Dropout(rate=0.2),\n",
    "    keras.layers.Dense(300, activation=\"relu\", kernel_initializer=\"he_normal\"),\n",
    "    keras.layers.Dropout(rate=0.2),\n",
    "    keras.layers.Dense(100, activation=\"relu\", kernel_initializer=\"he_normal\"),\n",
    "    keras.layers.Dropout(rate=0.2),\n",
    "    keras.layers.Dense(10, activation=\"softmax\")\n",
    "])"
   ]
  },
  {
   "cell_type": "markdown",
   "metadata": {},
   "source": [
    "Compile the model"
   ]
  },
  {
   "cell_type": "code",
   "execution_count": 63,
   "metadata": {
    "ExecuteTime": {
     "end_time": "2021-06-24T13:37:58.703738Z",
     "start_time": "2021-06-24T13:37:58.696693Z"
    }
   },
   "outputs": [],
   "source": [
    "model.compile(loss=model_params[\"loss\"], \n",
    "              optimizer=model_params[\"optimizer\"], \n",
    "              metrics=model_params[\"metrics\"])"
   ]
  },
  {
   "cell_type": "markdown",
   "metadata": {},
   "source": [
    "Train the model"
   ]
  },
  {
   "cell_type": "code",
   "execution_count": 64,
   "metadata": {
    "ExecuteTime": {
     "end_time": "2021-06-24T13:39:09.892707Z",
     "start_time": "2021-06-24T13:37:58.705911Z"
    },
    "scrolled": true
   },
   "outputs": [
    {
     "name": "stdout",
     "output_type": "stream",
     "text": [
      "Epoch 1/20\n",
      "1719/1719 [==============================] - 4s 2ms/step - loss: 0.6232 - accuracy: 0.7724 - val_loss: 0.4191 - val_accuracy: 0.8462\n",
      "Epoch 2/20\n",
      "1719/1719 [==============================] - 3s 2ms/step - loss: 0.4805 - accuracy: 0.8232 - val_loss: 0.3842 - val_accuracy: 0.8590\n",
      "Epoch 3/20\n",
      "1719/1719 [==============================] - 3s 2ms/step - loss: 0.4444 - accuracy: 0.8356 - val_loss: 0.3772 - val_accuracy: 0.8616\n",
      "Epoch 4/20\n",
      "1719/1719 [==============================] - 3s 2ms/step - loss: 0.4211 - accuracy: 0.8448 - val_loss: 0.3357 - val_accuracy: 0.8758\n",
      "Epoch 5/20\n",
      "1719/1719 [==============================] - 4s 2ms/step - loss: 0.4050 - accuracy: 0.8501 - val_loss: 0.3264 - val_accuracy: 0.8748\n",
      "Epoch 6/20\n",
      "1719/1719 [==============================] - 4s 2ms/step - loss: 0.3930 - accuracy: 0.8563 - val_loss: 0.3324 - val_accuracy: 0.8748\n",
      "Epoch 7/20\n",
      "1719/1719 [==============================] - 4s 2ms/step - loss: 0.3804 - accuracy: 0.8585 - val_loss: 0.3254 - val_accuracy: 0.8826\n",
      "Epoch 8/20\n",
      "1719/1719 [==============================] - 3s 2ms/step - loss: 0.3728 - accuracy: 0.8617 - val_loss: 0.3183 - val_accuracy: 0.8874\n",
      "Epoch 9/20\n",
      "1719/1719 [==============================] - 4s 2ms/step - loss: 0.3655 - accuracy: 0.8632 - val_loss: 0.3091 - val_accuracy: 0.8908\n",
      "Epoch 10/20\n",
      "1719/1719 [==============================] - 4s 2ms/step - loss: 0.3575 - accuracy: 0.8676 - val_loss: 0.3021 - val_accuracy: 0.8894\n",
      "Epoch 11/20\n",
      "1719/1719 [==============================] - 3s 2ms/step - loss: 0.3527 - accuracy: 0.8689 - val_loss: 0.3005 - val_accuracy: 0.8862\n",
      "Epoch 12/20\n",
      "1719/1719 [==============================] - 4s 2ms/step - loss: 0.3455 - accuracy: 0.8705 - val_loss: 0.2977 - val_accuracy: 0.8836\n",
      "Epoch 13/20\n",
      "1719/1719 [==============================] - 4s 2ms/step - loss: 0.3443 - accuracy: 0.8719 - val_loss: 0.3020 - val_accuracy: 0.8902\n",
      "Epoch 14/20\n",
      "1719/1719 [==============================] - 4s 2ms/step - loss: 0.3381 - accuracy: 0.8723 - val_loss: 0.3069 - val_accuracy: 0.8858\n",
      "Epoch 15/20\n",
      "1719/1719 [==============================] - 4s 2ms/step - loss: 0.3315 - accuracy: 0.8760 - val_loss: 0.3013 - val_accuracy: 0.8864\n",
      "Epoch 16/20\n",
      "1719/1719 [==============================] - 4s 2ms/step - loss: 0.3312 - accuracy: 0.8759 - val_loss: 0.2919 - val_accuracy: 0.8908\n",
      "Epoch 17/20\n",
      "1719/1719 [==============================] - 4s 2ms/step - loss: 0.3243 - accuracy: 0.8773 - val_loss: 0.2934 - val_accuracy: 0.8882\n",
      "Epoch 18/20\n",
      "1719/1719 [==============================] - 4s 2ms/step - loss: 0.3200 - accuracy: 0.8796 - val_loss: 0.3022 - val_accuracy: 0.8910\n",
      "Epoch 19/20\n",
      "1719/1719 [==============================] - 4s 2ms/step - loss: 0.3195 - accuracy: 0.8797 - val_loss: 0.2940 - val_accuracy: 0.8908\n",
      "Epoch 20/20\n",
      "1719/1719 [==============================] - 3s 2ms/step - loss: 0.3174 - accuracy: 0.8816 - val_loss: 0.2855 - val_accuracy: 0.8938\n"
     ]
    }
   ],
   "source": [
    "history = model.fit(X_train_normalized, y_train, epochs=model_params[\"n_epochs\"],\n",
    "                    validation_data=(X_valid_normalized, y_valid))"
   ]
  },
  {
   "cell_type": "code",
   "execution_count": 65,
   "metadata": {
    "ExecuteTime": {
     "end_time": "2021-06-24T13:39:10.103760Z",
     "start_time": "2021-06-24T13:39:09.894714Z"
    }
   },
   "outputs": [
    {
     "data": {
      "image/png": "[encoded data removed]",
      "text/plain": [
       "<Figure size 576x360 with 1 Axes>"
      ]
     },
     "metadata": {
      "needs_background": "light"
     },
     "output_type": "display_data"
    }
   ],
   "source": [
    "pd.DataFrame(history.history).plot(figsize=(8, 5))\n",
    "plt.grid(True)\n",
    "plt.gca().set_ylim(0, 1)\n",
    "plt.show()"
   ]
  },
  {
   "cell_type": "markdown",
   "metadata": {},
   "source": [
    "**Do the MC Dropout \"trick\" by setting the `training` to `True` and**:\n",
    "\n",
    "- a) make 100 predictions over the test set\n",
    "- b) stack the predictions\n"
   ]
  },
  {
   "cell_type": "code",
   "execution_count": 66,
   "metadata": {
    "ExecuteTime": {
     "end_time": "2021-06-24T13:39:23.819071Z",
     "start_time": "2021-06-24T13:39:10.106060Z"
    }
   },
   "outputs": [
    {
     "data": {
      "application/vnd.jupyter.widget-view+json": {
       "model_id": "ac667cfe175b4cf1a346149c01b7b76e",
       "version_major": 2,
       "version_minor": 0
      },
      "text/plain": [
       "HBox(children=(FloatProgress(value=0.0), HTML(value='')))"
      ]
     },
     "metadata": {},
     "output_type": "display_data"
    },
    {
     "name": "stdout",
     "output_type": "stream",
     "text": [
      "\n"
     ]
    }
   ],
   "source": [
    "y_probas = np.stack([model(X_test_normalized, training=True) for sample in tqdm(range(100))])"
   ]
  },
  {
   "cell_type": "markdown",
   "metadata": {},
   "source": [
    "**For each instance of the test set, compute the mean of the 100 exported probabilities, as well as the standard deviation**"
   ]
  },
  {
   "cell_type": "code",
   "execution_count": 67,
   "metadata": {
    "ExecuteTime": {
     "end_time": "2021-06-24T13:39:23.844781Z",
     "start_time": "2021-06-24T13:39:23.833934Z"
    }
   },
   "outputs": [],
   "source": [
    "y_proba = y_probas.mean(axis=0)"
   ]
  },
  {
   "cell_type": "code",
   "execution_count": 68,
   "metadata": {
    "ExecuteTime": {
     "end_time": "2021-06-24T13:39:23.888345Z",
     "start_time": "2021-06-24T13:39:23.850388Z"
    }
   },
   "outputs": [],
   "source": [
    "y_std = y_probas.std(axis=0)"
   ]
  },
  {
   "cell_type": "markdown",
   "metadata": {},
   "source": [
    "### Predict the same signle instance as before"
   ]
  },
  {
   "cell_type": "markdown",
   "metadata": {},
   "source": [
    "Predict in the same was as previously with `softmax`"
   ]
  },
  {
   "cell_type": "code",
   "execution_count": 69,
   "metadata": {
    "ExecuteTime": {
     "end_time": "2021-06-24T13:39:23.966810Z",
     "start_time": "2021-06-24T13:39:23.890447Z"
    }
   },
   "outputs": [
    {
     "data": {
      "text/plain": [
       "array([[0.  , 0.  , 0.  , 0.  , 0.  , 0.  , 0.  , 0.07, 0.  , 0.93]],\n",
       "      dtype=float32)"
      ]
     },
     "execution_count": 69,
     "metadata": {},
     "output_type": "execute_result"
    }
   ],
   "source": [
    "y_proba_softmax = model.predict(X_test_normalized[0:1])\n",
    "y_proba_softmax.round(2)"
   ]
  },
  {
   "cell_type": "markdown",
   "metadata": {},
   "source": [
    "Print the first 3 probabilities' distribution from the 100 predicted outputs of that instance"
   ]
  },
  {
   "cell_type": "code",
   "execution_count": 70,
   "metadata": {
    "ExecuteTime": {
     "end_time": "2021-06-24T13:39:23.974450Z",
     "start_time": "2021-06-24T13:39:23.968976Z"
    }
   },
   "outputs": [
    {
     "data": {
      "text/plain": [
       "array([[[0.  , 0.  , 0.  , 0.  , 0.  , 0.  , 0.  , 0.05, 0.  , 0.95]],\n",
       "\n",
       "       [[0.  , 0.  , 0.  , 0.  , 0.  , 0.  , 0.  , 0.03, 0.  , 0.97]],\n",
       "\n",
       "       [[0.  , 0.  , 0.  , 0.  , 0.  , 0.  , 0.  , 0.53, 0.  , 0.47]]],\n",
       "      dtype=float32)"
      ]
     },
     "execution_count": 70,
     "metadata": {},
     "output_type": "execute_result"
    }
   ],
   "source": [
    "np.round(y_probas[:, 0:1], 2)[:3]"
   ]
  },
  {
   "cell_type": "code",
   "execution_count": 71,
   "metadata": {
    "ExecuteTime": {
     "end_time": "2021-06-24T13:39:23.982069Z",
     "start_time": "2021-06-24T13:39:23.977694Z"
    }
   },
   "outputs": [
    {
     "name": "stdout",
     "output_type": "stream",
     "text": [
      "Shape of the 100 probability predictions for this instance: (100, 1, 10)\n"
     ]
    }
   ],
   "source": [
    "print(\"Shape of the 100 probability predictions for this instance:\", np.round(y_probas[:, 0:1], 2).shape)"
   ]
  },
  {
   "cell_type": "markdown",
   "metadata": {},
   "source": [
    "**Predict the class for this instance**\n",
    "\n",
    "This step is critical as it is also useful to know exactly which other classes it thinks are likely."
   ]
  },
  {
   "cell_type": "code",
   "execution_count": 72,
   "metadata": {
    "ExecuteTime": {
     "end_time": "2021-06-24T13:39:23.990199Z",
     "start_time": "2021-06-24T13:39:23.985046Z"
    }
   },
   "outputs": [
    {
     "data": {
      "text/plain": [
       "array([[0.  , 0.  , 0.  , 0.  , 0.  , 0.01, 0.  , 0.14, 0.  , 0.85]],\n",
       "      dtype=float32)"
      ]
     },
     "execution_count": 72,
     "metadata": {},
     "output_type": "execute_result"
    }
   ],
   "source": [
    "np.round(y_proba[0:1], 2)"
   ]
  },
  {
   "cell_type": "markdown",
   "metadata": {},
   "source": [
    "Take a look at the standard deviation of the probability estimates for this istance"
   ]
  },
  {
   "cell_type": "code",
   "execution_count": 73,
   "metadata": {
    "ExecuteTime": {
     "end_time": "2021-06-24T13:39:23.999197Z",
     "start_time": "2021-06-24T13:39:23.993272Z"
    }
   },
   "outputs": [
    {
     "data": {
      "text/plain": [
       "array([[0.  , 0.  , 0.  , 0.  , 0.  , 0.02, 0.  , 0.14, 0.  , 0.15]],\n",
       "      dtype=float32)"
      ]
     },
     "execution_count": 73,
     "metadata": {},
     "output_type": "execute_result"
    }
   ],
   "source": [
    "np.round(y_std[:1], 2)"
   ]
  },
  {
   "cell_type": "markdown",
   "metadata": {},
   "source": [
    "Hold the predicted classes by return the maximum value from each probability estimate"
   ]
  },
  {
   "cell_type": "code",
   "execution_count": 74,
   "metadata": {
    "ExecuteTime": {
     "end_time": "2021-06-24T13:39:24.005322Z",
     "start_time": "2021-06-24T13:39:24.001741Z"
    }
   },
   "outputs": [],
   "source": [
    "y_pred = np.argmax(y_proba, axis=1)"
   ]
  },
  {
   "cell_type": "markdown",
   "metadata": {},
   "source": [
    "**Model's accuracy is now improved**"
   ]
  },
  {
   "cell_type": "code",
   "execution_count": 75,
   "metadata": {
    "ExecuteTime": {
     "end_time": "2021-06-24T13:39:24.014241Z",
     "start_time": "2021-06-24T13:39:24.008081Z"
    }
   },
   "outputs": [
    {
     "data": {
      "text/plain": [
       "0.8809"
      ]
     },
     "execution_count": 75,
     "metadata": {},
     "output_type": "execute_result"
    }
   ],
   "source": [
    "accuracy = np.sum(y_pred == y_test) / len(y_test)\n",
    "accuracy"
   ]
  },
  {
   "cell_type": "markdown",
   "metadata": {},
   "source": [
    "**The model's accuracy got a little boost with this method: 88.09%**"
   ]
  },
  {
   "cell_type": "markdown",
   "metadata": {},
   "source": [
    "### Force the Dropout's `training` argument to `True`  by overriding the `call()` method "
   ]
  },
  {
   "cell_type": "code",
   "execution_count": 76,
   "metadata": {
    "ExecuteTime": {
     "end_time": "2021-06-24T13:39:24.021142Z",
     "start_time": "2021-06-24T13:39:24.016860Z"
    }
   },
   "outputs": [],
   "source": [
    "class MCDropout(keras.layers.Dropout):\n",
    "    def call(self, inputs):\n",
    "        return super().call(inputs, training=True)"
   ]
  },
  {
   "cell_type": "markdown",
   "metadata": {},
   "source": [
    "**Because the model is already trained, the Dropout layers are replaced with the MCDropout, and the trained model's weights are set to the new model in order to run again the predictions**"
   ]
  },
  {
   "cell_type": "code",
   "execution_count": 77,
   "metadata": {
    "ExecuteTime": {
     "end_time": "2021-06-24T13:39:24.093147Z",
     "start_time": "2021-06-24T13:39:24.023596Z"
    }
   },
   "outputs": [],
   "source": [
    "mc_model = keras.models.Sequential([\n",
    "    MCDropout(layer.rate) if isinstance(layer, keras.layers.Dropout) else layer\n",
    "    for layer in model.layers\n",
    "])"
   ]
  },
  {
   "cell_type": "code",
   "execution_count": 78,
   "metadata": {
    "ExecuteTime": {
     "end_time": "2021-06-24T13:39:24.101576Z",
     "start_time": "2021-06-24T13:39:24.095427Z"
    }
   },
   "outputs": [
    {
     "name": "stdout",
     "output_type": "stream",
     "text": [
      "Model: \"sequential_1\"\n",
      "_________________________________________________________________\n",
      "Layer (type)                 Output Shape              Param #   \n",
      "=================================================================\n",
      "flatten (Flatten)            (None, 784)               0         \n",
      "_________________________________________________________________\n",
      "mc_dropout (MCDropout)       (None, 784)               0         \n",
      "_________________________________________________________________\n",
      "dense (Dense)                (None, 300)               235500    \n",
      "_________________________________________________________________\n",
      "mc_dropout_1 (MCDropout)     (None, 300)               0         \n",
      "_________________________________________________________________\n",
      "dense_1 (Dense)              (None, 100)               30100     \n",
      "_________________________________________________________________\n",
      "mc_dropout_2 (MCDropout)     (None, 100)               0         \n",
      "_________________________________________________________________\n",
      "dense_2 (Dense)              (None, 10)                1010      \n",
      "=================================================================\n",
      "Total params: 266,610\n",
      "Trainable params: 266,610\n",
      "Non-trainable params: 0\n",
      "_________________________________________________________________\n"
     ]
    }
   ],
   "source": [
    "mc_model.summary()"
   ]
  },
  {
   "cell_type": "code",
   "execution_count": 79,
   "metadata": {
    "ExecuteTime": {
     "end_time": "2021-06-24T13:39:24.113175Z",
     "start_time": "2021-06-24T13:39:24.103803Z"
    }
   },
   "outputs": [],
   "source": [
    "mc_model.compile(loss=model_params[\"loss\"], \n",
    "                 optimizer=model_params[\"optimizer\"], \n",
    "                 metrics=model_params[\"metrics\"])"
   ]
  },
  {
   "cell_type": "markdown",
   "metadata": {},
   "source": [
    "Set the Monte Carlo updated model's weights with these from pre-trained one"
   ]
  },
  {
   "cell_type": "code",
   "execution_count": 80,
   "metadata": {
    "ExecuteTime": {
     "end_time": "2021-06-24T13:39:24.124135Z",
     "start_time": "2021-06-24T13:39:24.115690Z"
    }
   },
   "outputs": [],
   "source": [
    "mc_model.set_weights(model.get_weights())"
   ]
  },
  {
   "cell_type": "markdown",
   "metadata": {},
   "source": [
    "Use the model straightforward with MC Dropout layer to predict the unique instance's class"
   ]
  },
  {
   "cell_type": "code",
   "execution_count": 81,
   "metadata": {
    "ExecuteTime": {
     "end_time": "2021-06-24T13:39:27.984783Z",
     "start_time": "2021-06-24T13:39:24.126864Z"
    }
   },
   "outputs": [
    {
     "data": {
      "application/vnd.jupyter.widget-view+json": {
       "model_id": "a6db987cdfdc47f19ad4e802b4909eb6",
       "version_major": 2,
       "version_minor": 0
      },
      "text/plain": [
       "HBox(children=(FloatProgress(value=0.0), HTML(value='')))"
      ]
     },
     "metadata": {},
     "output_type": "display_data"
    },
    {
     "name": "stdout",
     "output_type": "stream",
     "text": [
      "\n"
     ]
    },
    {
     "data": {
      "text/plain": [
       "array([[0.  , 0.  , 0.  , 0.  , 0.  , 0.  , 0.  , 0.13, 0.  , 0.87]],\n",
       "      dtype=float32)"
      ]
     },
     "execution_count": 81,
     "metadata": {},
     "output_type": "execute_result"
    }
   ],
   "source": [
    "np.round(np.mean([mc_model.predict(X_test_normalized[0:1]) for sample in tqdm(range(100))], axis=0), 2)"
   ]
  },
  {
   "cell_type": "markdown",
   "metadata": {},
   "source": [
    "## CNNs using the MCDropout"
   ]
  },
  {
   "cell_type": "markdown",
   "metadata": {},
   "source": [
    "Transform the data to fit the CNN's dimension expectations"
   ]
  },
  {
   "cell_type": "code",
   "execution_count": 82,
   "metadata": {
    "ExecuteTime": {
     "end_time": "2021-06-24T13:39:27.991308Z",
     "start_time": "2021-06-24T13:39:27.987151Z"
    }
   },
   "outputs": [],
   "source": [
    "X_train_normalized_cnn = X_train[..., np.newaxis]\n",
    "X_valid_normalized_cnn = X_valid[..., np.newaxis]\n",
    "X_test_normalized_cnn = X_test[..., np.newaxis]"
   ]
  },
  {
   "cell_type": "code",
   "execution_count": 83,
   "metadata": {
    "ExecuteTime": {
     "end_time": "2021-06-24T13:39:27.999397Z",
     "start_time": "2021-06-24T13:39:27.994472Z"
    }
   },
   "outputs": [
    {
     "name": "stdout",
     "output_type": "stream",
     "text": [
      "X train normalized data shape: (55000, 28, 28, 1)\n",
      "X validation normalized data shape: (5000, 28, 28, 1)\n",
      "X test normalized data shape: (10000, 28, 28, 1)\n"
     ]
    }
   ],
   "source": [
    "print(\"X train normalized data shape:\", X_train_normalized_cnn.shape)\n",
    "print(\"X validation normalized data shape:\", X_valid_normalized_cnn.shape)\n",
    "print(\"X test normalized data shape:\", X_test_normalized_cnn.shape)"
   ]
  },
  {
   "cell_type": "markdown",
   "metadata": {},
   "source": [
    "Reset all state generated by Keras"
   ]
  },
  {
   "cell_type": "code",
   "execution_count": 84,
   "metadata": {
    "ExecuteTime": {
     "end_time": "2021-06-24T13:39:28.009073Z",
     "start_time": "2021-06-24T13:39:28.002664Z"
    }
   },
   "outputs": [],
   "source": [
    "keras.backend.clear_session()"
   ]
  },
  {
   "cell_type": "markdown",
   "metadata": {
    "ExecuteTime": {
     "end_time": "2021-06-23T19:47:03.034859Z",
     "start_time": "2021-06-23T19:47:02.938662Z"
    }
   },
   "source": [
    "### Build and train a CNN model"
   ]
  },
  {
   "cell_type": "code",
   "execution_count": 85,
   "metadata": {
    "ExecuteTime": {
     "end_time": "2021-06-24T13:39:28.135634Z",
     "start_time": "2021-06-24T13:39:28.011345Z"
    }
   },
   "outputs": [],
   "source": [
    "model_cnn = Sequential()\n",
    "model_cnn.add(Conv2D(32, (3, 3), kernel_initializer='he_uniform', input_shape=(28, 28, 1)))\n",
    "model_cnn.add(BatchNormalization())\n",
    "model_cnn.add(Activation(\"relu\"))\n",
    "model_cnn.add(Dropout(0.5))\n",
    "model_cnn.add(MaxPooling2D((2, 2)))\n",
    "model_cnn.add(Conv2D(64, (3, 3), activation='relu', kernel_initializer='he_uniform'))\n",
    "model_cnn.add(BatchNormalization())\n",
    "model_cnn.add(Activation(\"relu\"))\n",
    "model_cnn.add(Conv2D(64, (3, 3), kernel_initializer='he_uniform'))\n",
    "model_cnn.add(BatchNormalization())\n",
    "model_cnn.add(Activation(\"relu\"))\n",
    "model_cnn.add(MaxPooling2D((2, 2)))\n",
    "model_cnn.add(Flatten())\n",
    "model_cnn.add(Dense(100, kernel_initializer='he_uniform'))\n",
    "model_cnn.add(BatchNormalization())\n",
    "model_cnn.add(Activation(\"relu\"))\n",
    "model_cnn.add(Dropout(0.5))\n",
    "model_cnn.add(Dense(10, activation='softmax'))"
   ]
  },
  {
   "cell_type": "code",
   "execution_count": 86,
   "metadata": {
    "ExecuteTime": {
     "end_time": "2021-06-24T13:39:28.148044Z",
     "start_time": "2021-06-24T13:39:28.137680Z"
    }
   },
   "outputs": [
    {
     "name": "stdout",
     "output_type": "stream",
     "text": [
      "Model: \"sequential\"\n",
      "_________________________________________________________________\n",
      "Layer (type)                 Output Shape              Param #   \n",
      "=================================================================\n",
      "conv2d (Conv2D)              (None, 26, 26, 32)        320       \n",
      "_________________________________________________________________\n",
      "batch_normalization (BatchNo (None, 26, 26, 32)        128       \n",
      "_________________________________________________________________\n",
      "activation (Activation)      (None, 26, 26, 32)        0         \n",
      "_________________________________________________________________\n",
      "dropout (Dropout)            (None, 26, 26, 32)        0         \n",
      "_________________________________________________________________\n",
      "max_pooling2d (MaxPooling2D) (None, 13, 13, 32)        0         \n",
      "_________________________________________________________________\n",
      "conv2d_1 (Conv2D)            (None, 11, 11, 64)        18496     \n",
      "_________________________________________________________________\n",
      "batch_normalization_1 (Batch (None, 11, 11, 64)        256       \n",
      "_________________________________________________________________\n",
      "activation_1 (Activation)    (None, 11, 11, 64)        0         \n",
      "_________________________________________________________________\n",
      "conv2d_2 (Conv2D)            (None, 9, 9, 64)          36928     \n",
      "_________________________________________________________________\n",
      "batch_normalization_2 (Batch (None, 9, 9, 64)          256       \n",
      "_________________________________________________________________\n",
      "activation_2 (Activation)    (None, 9, 9, 64)          0         \n",
      "_________________________________________________________________\n",
      "max_pooling2d_1 (MaxPooling2 (None, 4, 4, 64)          0         \n",
      "_________________________________________________________________\n",
      "flatten (Flatten)            (None, 1024)              0         \n",
      "_________________________________________________________________\n",
      "dense (Dense)                (None, 100)               102500    \n",
      "_________________________________________________________________\n",
      "batch_normalization_3 (Batch (None, 100)               400       \n",
      "_________________________________________________________________\n",
      "activation_3 (Activation)    (None, 100)               0         \n",
      "_________________________________________________________________\n",
      "dropout_1 (Dropout)          (None, 100)               0         \n",
      "_________________________________________________________________\n",
      "dense_1 (Dense)              (None, 10)                1010      \n",
      "=================================================================\n",
      "Total params: 160,294\n",
      "Trainable params: 159,774\n",
      "Non-trainable params: 520\n",
      "_________________________________________________________________\n"
     ]
    }
   ],
   "source": [
    "model_cnn.summary()"
   ]
  },
  {
   "cell_type": "code",
   "execution_count": 87,
   "metadata": {
    "ExecuteTime": {
     "end_time": "2021-06-24T13:39:28.158529Z",
     "start_time": "2021-06-24T13:39:28.150513Z"
    }
   },
   "outputs": [],
   "source": [
    "model_cnn.compile(loss=model_params[\"loss\"], \n",
    "                  optimizer=model_params[\"optimizer\"], \n",
    "                  metrics=model_params[\"metrics\"])"
   ]
  },
  {
   "cell_type": "code",
   "execution_count": 88,
   "metadata": {
    "ExecuteTime": {
     "end_time": "2021-06-24T13:56:56.737658Z",
     "start_time": "2021-06-24T13:39:28.161860Z"
    }
   },
   "outputs": [
    {
     "name": "stdout",
     "output_type": "stream",
     "text": [
      "Epoch 1/20\n",
      "1719/1719 [==============================] - 55s 31ms/step - loss: 0.5622 - accuracy: 0.7973 - val_loss: 0.5748 - val_accuracy: 0.8044\n",
      "Epoch 2/20\n",
      "1719/1719 [==============================] - 52s 30ms/step - loss: 0.4021 - accuracy: 0.8565 - val_loss: 0.4122 - val_accuracy: 0.8626\n",
      "Epoch 3/20\n",
      "1719/1719 [==============================] - 53s 31ms/step - loss: 0.3580 - accuracy: 0.8721 - val_loss: 0.4238 - val_accuracy: 0.8528\n",
      "Epoch 4/20\n",
      "1719/1719 [==============================] - 52s 30ms/step - loss: 0.3291 - accuracy: 0.8814 - val_loss: 0.4324 - val_accuracy: 0.8474\n",
      "Epoch 5/20\n",
      "1719/1719 [==============================] - 52s 30ms/step - loss: 0.3086 - accuracy: 0.8876 - val_loss: 0.3565 - val_accuracy: 0.8772\n",
      "Epoch 6/20\n",
      "1719/1719 [==============================] - 52s 30ms/step - loss: 0.2973 - accuracy: 0.8912 - val_loss: 0.4133 - val_accuracy: 0.8538\n",
      "Epoch 7/20\n",
      "1719/1719 [==============================] - 52s 30ms/step - loss: 0.2863 - accuracy: 0.8972 - val_loss: 0.3664 - val_accuracy: 0.8718\n",
      "Epoch 8/20\n",
      "1719/1719 [==============================] - 52s 30ms/step - loss: 0.2758 - accuracy: 0.9001 - val_loss: 0.3352 - val_accuracy: 0.8758\n",
      "Epoch 9/20\n",
      "1719/1719 [==============================] - 52s 30ms/step - loss: 0.2659 - accuracy: 0.9023 - val_loss: 0.2803 - val_accuracy: 0.9044\n",
      "Epoch 10/20\n",
      "1719/1719 [==============================] - 52s 30ms/step - loss: 0.2593 - accuracy: 0.9047 - val_loss: 0.2804 - val_accuracy: 0.8988\n",
      "Epoch 11/20\n",
      "1719/1719 [==============================] - 52s 30ms/step - loss: 0.2554 - accuracy: 0.9080 - val_loss: 0.2985 - val_accuracy: 0.8994\n",
      "Epoch 12/20\n",
      "1719/1719 [==============================] - 52s 30ms/step - loss: 0.2467 - accuracy: 0.9097 - val_loss: 0.2791 - val_accuracy: 0.8982\n",
      "Epoch 13/20\n",
      "1719/1719 [==============================] - 53s 31ms/step - loss: 0.2417 - accuracy: 0.9097 - val_loss: 0.2560 - val_accuracy: 0.9076\n",
      "Epoch 14/20\n",
      "1719/1719 [==============================] - 52s 31ms/step - loss: 0.2342 - accuracy: 0.9147 - val_loss: 0.2681 - val_accuracy: 0.9024\n",
      "Epoch 15/20\n",
      "1719/1719 [==============================] - 52s 30ms/step - loss: 0.2290 - accuracy: 0.9164 - val_loss: 0.3233 - val_accuracy: 0.8806\n",
      "Epoch 16/20\n",
      "1719/1719 [==============================] - 52s 30ms/step - loss: 0.2262 - accuracy: 0.9170 - val_loss: 0.2763 - val_accuracy: 0.8992\n",
      "Epoch 17/20\n",
      "1719/1719 [==============================] - 52s 30ms/step - loss: 0.2223 - accuracy: 0.9178 - val_loss: 0.3047 - val_accuracy: 0.8886\n",
      "Epoch 18/20\n",
      "1719/1719 [==============================] - 52s 30ms/step - loss: 0.2188 - accuracy: 0.9192 - val_loss: 0.2663 - val_accuracy: 0.9022\n",
      "Epoch 19/20\n",
      "1719/1719 [==============================] - 53s 31ms/step - loss: 0.2129 - accuracy: 0.9212 - val_loss: 0.2623 - val_accuracy: 0.9002\n",
      "Epoch 20/20\n",
      "1719/1719 [==============================] - 54s 31ms/step - loss: 0.2075 - accuracy: 0.9238 - val_loss: 0.3274 - val_accuracy: 0.8736\n"
     ]
    }
   ],
   "source": [
    "history = model_cnn.fit(X_train_normalized_cnn, y_train, epochs=model_params[\"n_epochs\"], \n",
    "                        validation_data=(X_valid_normalized_cnn, y_valid))"
   ]
  },
  {
   "cell_type": "code",
   "execution_count": 89,
   "metadata": {
    "ExecuteTime": {
     "end_time": "2021-06-24T13:56:56.963133Z",
     "start_time": "2021-06-24T13:56:56.739946Z"
    }
   },
   "outputs": [
    {
     "data": {
      "image/png": "[encoded data removed]",
      "text/plain": [
       "<Figure size 576x360 with 1 Axes>"
      ]
     },
     "metadata": {
      "needs_background": "light"
     },
     "output_type": "display_data"
    }
   ],
   "source": [
    "pd.DataFrame(history.history).plot(figsize=(8, 5))\n",
    "plt.grid(True)\n",
    "plt.gca().set_ylim(0, 1)\n",
    "plt.show()"
   ]
  },
  {
   "cell_type": "markdown",
   "metadata": {},
   "source": [
    "**Model accuracy**"
   ]
  },
  {
   "cell_type": "code",
   "execution_count": 90,
   "metadata": {
    "ExecuteTime": {
     "end_time": "2021-06-24T13:56:59.237465Z",
     "start_time": "2021-06-24T13:56:56.965470Z"
    }
   },
   "outputs": [
    {
     "name": "stdout",
     "output_type": "stream",
     "text": [
      "313/313 [==============================] - 2s 7ms/step - loss: 0.3681 - accuracy: 0.8587\n",
      "> 85.870\n"
     ]
    }
   ],
   "source": [
    "# evaluate the model on test dataset\n",
    "loss, acc = model_cnn.evaluate(X_test_normalized_cnn, y_test, verbose=1)\n",
    "print('> %.3f' % (acc * 100.0))"
   ]
  },
  {
   "cell_type": "markdown",
   "metadata": {},
   "source": [
    "**Model instance prediction with `softmax`**"
   ]
  },
  {
   "cell_type": "code",
   "execution_count": 91,
   "metadata": {
    "ExecuteTime": {
     "end_time": "2021-06-24T13:56:59.388805Z",
     "start_time": "2021-06-24T13:56:59.239833Z"
    }
   },
   "outputs": [
    {
     "data": {
      "text/plain": [
       "array([[0., 0., 0., 0., 0., 0., 0., 0., 0., 1.]], dtype=float32)"
      ]
     },
     "execution_count": 91,
     "metadata": {},
     "output_type": "execute_result"
    }
   ],
   "source": [
    "y_proba_softmax = model_cnn.predict(X_test_normalized_cnn[0:1])\n",
    "y_proba_softmax.round(2)"
   ]
  },
  {
   "cell_type": "markdown",
   "metadata": {},
   "source": [
    "### Create the MC CNN model and transfer the weights from the previous CNN model"
   ]
  },
  {
   "cell_type": "code",
   "execution_count": 92,
   "metadata": {
    "ExecuteTime": {
     "end_time": "2021-06-24T13:56:59.478860Z",
     "start_time": "2021-06-24T13:56:59.391118Z"
    }
   },
   "outputs": [],
   "source": [
    "mc_model_cnn = keras.models.Sequential([\n",
    "    MCDropout(layer.rate) if isinstance(layer, keras.layers.Dropout) else layer\n",
    "    for layer in model_cnn.layers\n",
    "])"
   ]
  },
  {
   "cell_type": "code",
   "execution_count": 93,
   "metadata": {
    "ExecuteTime": {
     "end_time": "2021-06-24T13:56:59.489266Z",
     "start_time": "2021-06-24T13:56:59.481012Z"
    }
   },
   "outputs": [
    {
     "name": "stdout",
     "output_type": "stream",
     "text": [
      "Model: \"sequential_1\"\n",
      "_________________________________________________________________\n",
      "Layer (type)                 Output Shape              Param #   \n",
      "=================================================================\n",
      "conv2d (Conv2D)              (None, 26, 26, 32)        320       \n",
      "_________________________________________________________________\n",
      "batch_normalization (BatchNo (None, 26, 26, 32)        128       \n",
      "_________________________________________________________________\n",
      "activation (Activation)      (None, 26, 26, 32)        0         \n",
      "_________________________________________________________________\n",
      "mc_dropout (MCDropout)       (None, 26, 26, 32)        0         \n",
      "_________________________________________________________________\n",
      "max_pooling2d (MaxPooling2D) (None, 13, 13, 32)        0         \n",
      "_________________________________________________________________\n",
      "conv2d_1 (Conv2D)            (None, 11, 11, 64)        18496     \n",
      "_________________________________________________________________\n",
      "batch_normalization_1 (Batch (None, 11, 11, 64)        256       \n",
      "_________________________________________________________________\n",
      "activation_1 (Activation)    (None, 11, 11, 64)        0         \n",
      "_________________________________________________________________\n",
      "conv2d_2 (Conv2D)            (None, 9, 9, 64)          36928     \n",
      "_________________________________________________________________\n",
      "batch_normalization_2 (Batch (None, 9, 9, 64)          256       \n",
      "_________________________________________________________________\n",
      "activation_2 (Activation)    (None, 9, 9, 64)          0         \n",
      "_________________________________________________________________\n",
      "max_pooling2d_1 (MaxPooling2 (None, 4, 4, 64)          0         \n",
      "_________________________________________________________________\n",
      "flatten (Flatten)            (None, 1024)              0         \n",
      "_________________________________________________________________\n",
      "dense (Dense)                (None, 100)               102500    \n",
      "_________________________________________________________________\n",
      "batch_normalization_3 (Batch (None, 100)               400       \n",
      "_________________________________________________________________\n",
      "activation_3 (Activation)    (None, 100)               0         \n",
      "_________________________________________________________________\n",
      "mc_dropout_1 (MCDropout)     (None, 100)               0         \n",
      "_________________________________________________________________\n",
      "dense_1 (Dense)              (None, 10)                1010      \n",
      "=================================================================\n",
      "Total params: 160,294\n",
      "Trainable params: 159,774\n",
      "Non-trainable params: 520\n",
      "_________________________________________________________________\n"
     ]
    }
   ],
   "source": [
    "mc_model_cnn.summary()"
   ]
  },
  {
   "cell_type": "code",
   "execution_count": 94,
   "metadata": {
    "ExecuteTime": {
     "end_time": "2021-06-24T13:56:59.500981Z",
     "start_time": "2021-06-24T13:56:59.491633Z"
    }
   },
   "outputs": [],
   "source": [
    "mc_model_cnn.compile(loss=model_params[\"loss\"], \n",
    "                     optimizer=model_params[\"optimizer\"], \n",
    "                     metrics=model_params[\"metrics\"])"
   ]
  },
  {
   "cell_type": "code",
   "execution_count": 95,
   "metadata": {
    "ExecuteTime": {
     "end_time": "2021-06-24T13:56:59.518183Z",
     "start_time": "2021-06-24T13:56:59.503349Z"
    }
   },
   "outputs": [],
   "source": [
    "mc_model_cnn.set_weights(model_cnn.get_weights())"
   ]
  },
  {
   "cell_type": "markdown",
   "metadata": {},
   "source": [
    "### Predictions"
   ]
  },
  {
   "cell_type": "markdown",
   "metadata": {},
   "source": [
    "Use the model straightforward with MC Dropout layer to predict the unique instance's class"
   ]
  },
  {
   "cell_type": "code",
   "execution_count": 96,
   "metadata": {
    "ExecuteTime": {
     "end_time": "2021-06-24T13:57:03.242729Z",
     "start_time": "2021-06-24T13:56:59.520470Z"
    }
   },
   "outputs": [
    {
     "data": {
      "application/vnd.jupyter.widget-view+json": {
       "model_id": "35eb1ab166214b98b5a8d924fcf3205d",
       "version_major": 2,
       "version_minor": 0
      },
      "text/plain": [
       "HBox(children=(FloatProgress(value=0.0), HTML(value='')))"
      ]
     },
     "metadata": {},
     "output_type": "display_data"
    },
    {
     "name": "stdout",
     "output_type": "stream",
     "text": [
      "\n"
     ]
    },
    {
     "data": {
      "text/plain": [
       "array([[0., 0., 0., 0., 0., 0., 0., 0., 0., 1.]], dtype=float32)"
      ]
     },
     "execution_count": 96,
     "metadata": {},
     "output_type": "execute_result"
    }
   ],
   "source": [
    "np.round(np.mean([mc_model_cnn.predict(X_test_normalized_cnn[0:1]) for sample in tqdm(range(100))], axis=0), 2)"
   ]
  },
  {
   "cell_type": "markdown",
   "metadata": {},
   "source": [
    "Stack the probabilities for all the instances"
   ]
  },
  {
   "cell_type": "code",
   "execution_count": 97,
   "metadata": {
    "ExecuteTime": {
     "end_time": "2021-06-24T14:02:17.522706Z",
     "start_time": "2021-06-24T13:57:03.245064Z"
    }
   },
   "outputs": [
    {
     "data": {
      "application/vnd.jupyter.widget-view+json": {
       "model_id": "509f43ef364f4f879e8d0ccc89b3e831",
       "version_major": 2,
       "version_minor": 0
      },
      "text/plain": [
       "HBox(children=(FloatProgress(value=0.0), HTML(value='')))"
      ]
     },
     "metadata": {},
     "output_type": "display_data"
    },
    {
     "name": "stdout",
     "output_type": "stream",
     "text": [
      "\n"
     ]
    }
   ],
   "source": [
    "y_probas = np.stack([mc_model_cnn(X_test_normalized_cnn) for sample in tqdm(range(100))])"
   ]
  },
  {
   "cell_type": "markdown",
   "metadata": {},
   "source": [
    "Compute the mean and std for the instances' probability estimates"
   ]
  },
  {
   "cell_type": "code",
   "execution_count": 98,
   "metadata": {
    "ExecuteTime": {
     "end_time": "2021-06-24T14:02:17.539944Z",
     "start_time": "2021-06-24T14:02:17.527048Z"
    }
   },
   "outputs": [],
   "source": [
    "y_proba = y_probas.mean(axis=0)"
   ]
  },
  {
   "cell_type": "code",
   "execution_count": 99,
   "metadata": {
    "ExecuteTime": {
     "end_time": "2021-06-24T14:02:17.574526Z",
     "start_time": "2021-06-24T14:02:17.541902Z"
    }
   },
   "outputs": [],
   "source": [
    "y_std = y_probas.std(axis=0)"
   ]
  },
  {
   "cell_type": "markdown",
   "metadata": {},
   "source": [
    "Show the probabilities for an instance (the same as above)"
   ]
  },
  {
   "cell_type": "code",
   "execution_count": 100,
   "metadata": {
    "ExecuteTime": {
     "end_time": "2021-06-24T14:02:17.583201Z",
     "start_time": "2021-06-24T14:02:17.576420Z"
    }
   },
   "outputs": [
    {
     "data": {
      "text/plain": [
       "array([[[0., 0., 0., 0., 0., 0., 0., 0., 0., 1.]],\n",
       "\n",
       "       [[0., 0., 0., 0., 0., 0., 0., 0., 0., 1.]],\n",
       "\n",
       "       [[0., 0., 0., 0., 0., 0., 0., 0., 0., 1.]]], dtype=float32)"
      ]
     },
     "execution_count": 100,
     "metadata": {},
     "output_type": "execute_result"
    }
   ],
   "source": [
    "np.round(y_probas[:, 0:1], 2)[:3]"
   ]
  },
  {
   "cell_type": "code",
   "execution_count": 101,
   "metadata": {
    "ExecuteTime": {
     "end_time": "2021-06-24T14:02:17.590190Z",
     "start_time": "2021-06-24T14:02:17.586126Z"
    }
   },
   "outputs": [
    {
     "name": "stdout",
     "output_type": "stream",
     "text": [
      "Shape of the 100 probability predictions for this instance: (100, 1, 10)\n"
     ]
    }
   ],
   "source": [
    "print(\"Shape of the 100 probability predictions for this instance:\", np.round(y_probas[:, 0:1], 2).shape)"
   ]
  },
  {
   "cell_type": "markdown",
   "metadata": {},
   "source": [
    "**Predict the class for this instance**\n",
    "\n",
    "This step is critical as it is also useful to know exactly which other classes it thinks are likely."
   ]
  },
  {
   "cell_type": "code",
   "execution_count": 102,
   "metadata": {
    "ExecuteTime": {
     "end_time": "2021-06-24T14:02:17.597330Z",
     "start_time": "2021-06-24T14:02:17.592672Z"
    }
   },
   "outputs": [
    {
     "data": {
      "text/plain": [
       "array([[0., 0., 0., 0., 0., 0., 0., 0., 0., 1.]], dtype=float32)"
      ]
     },
     "execution_count": 102,
     "metadata": {},
     "output_type": "execute_result"
    }
   ],
   "source": [
    "np.round(y_proba[0:1], 2)"
   ]
  },
  {
   "cell_type": "markdown",
   "metadata": {},
   "source": [
    "Take a look at the standard deviation of the probability estimates for this istance"
   ]
  },
  {
   "cell_type": "code",
   "execution_count": 103,
   "metadata": {
    "ExecuteTime": {
     "end_time": "2021-06-24T14:02:17.605726Z",
     "start_time": "2021-06-24T14:02:17.600006Z"
    }
   },
   "outputs": [
    {
     "data": {
      "text/plain": [
       "array([[0., 0., 0., 0., 0., 0., 0., 0., 0., 0.]], dtype=float32)"
      ]
     },
     "execution_count": 103,
     "metadata": {},
     "output_type": "execute_result"
    }
   ],
   "source": [
    "np.round(y_std[0:1], 2)"
   ]
  },
  {
   "cell_type": "markdown",
   "metadata": {},
   "source": [
    "Hold the predicted classes by return the maximum value from each probability estimate"
   ]
  },
  {
   "cell_type": "code",
   "execution_count": 104,
   "metadata": {
    "ExecuteTime": {
     "end_time": "2021-06-24T14:02:17.612824Z",
     "start_time": "2021-06-24T14:02:17.608475Z"
    }
   },
   "outputs": [],
   "source": [
    "y_pred = np.argmax(y_proba, axis=1)"
   ]
  },
  {
   "cell_type": "markdown",
   "metadata": {},
   "source": [
    "**Model's accuracy is now improved**"
   ]
  },
  {
   "cell_type": "code",
   "execution_count": 105,
   "metadata": {
    "ExecuteTime": {
     "end_time": "2021-06-24T14:02:17.621992Z",
     "start_time": "2021-06-24T14:02:17.615568Z"
    }
   },
   "outputs": [
    {
     "data": {
      "text/plain": [
       "0.8887"
      ]
     },
     "execution_count": 105,
     "metadata": {},
     "output_type": "execute_result"
    }
   ],
   "source": [
    "accuracy = np.sum(y_pred == y_test) / len(y_test)\n",
    "accuracy"
   ]
  },
  {
   "cell_type": "markdown",
   "metadata": {},
   "source": [
    "**Model's accuracy is improved: 91.49%**"
   ]
  },
  {
   "cell_type": "markdown",
   "metadata": {},
   "source": []
  },
  {
   "cell_type": "markdown",
   "metadata": {},
   "source": []
  },
  {
   "cell_type": "markdown",
   "metadata": {},
   "source": [
    "## Build and train an MC CNN model"
   ]
  },
  {
   "cell_type": "markdown",
   "metadata": {},
   "source": [
    "Reset all state generated by Keras"
   ]
  },
  {
   "cell_type": "code",
   "execution_count": 106,
   "metadata": {
    "ExecuteTime": {
     "end_time": "2021-06-24T14:02:17.633620Z",
     "start_time": "2021-06-24T14:02:17.625588Z"
    }
   },
   "outputs": [],
   "source": [
    "keras.backend.clear_session()"
   ]
  },
  {
   "cell_type": "code",
   "execution_count": 107,
   "metadata": {
    "ExecuteTime": {
     "end_time": "2021-06-24T14:02:17.771179Z",
     "start_time": "2021-06-24T14:02:17.635980Z"
    }
   },
   "outputs": [],
   "source": [
    "model_mc_cnn = Sequential()\n",
    "model_mc_cnn.add(Conv2D(32, (3, 3), kernel_initializer='he_uniform', input_shape=(28, 28, 1)))\n",
    "model_mc_cnn.add(BatchNormalization())\n",
    "model_mc_cnn.add(Activation(\"relu\"))\n",
    "model_mc_cnn.add(MCDropout(0.5))\n",
    "model_mc_cnn.add(MaxPooling2D((2, 2)))\n",
    "model_mc_cnn.add(Conv2D(64, (3, 3), activation='relu', kernel_initializer='he_uniform'))\n",
    "model_mc_cnn.add(BatchNormalization())\n",
    "model_mc_cnn.add(Activation(\"relu\"))\n",
    "model_mc_cnn.add(Conv2D(64, (3, 3), kernel_initializer='he_uniform'))\n",
    "model_mc_cnn.add(BatchNormalization())\n",
    "model_mc_cnn.add(Activation(\"relu\"))\n",
    "model_mc_cnn.add(MaxPooling2D((2, 2)))\n",
    "model_mc_cnn.add(Flatten())\n",
    "model_mc_cnn.add(Dense(100, kernel_initializer='he_uniform'))\n",
    "model_mc_cnn.add(BatchNormalization())\n",
    "model_mc_cnn.add(Activation(\"relu\"))\n",
    "model_mc_cnn.add(MCDropout(0.5))\n",
    "model_mc_cnn.add(Dense(10, activation='softmax'))"
   ]
  },
  {
   "cell_type": "code",
   "execution_count": 108,
   "metadata": {
    "ExecuteTime": {
     "end_time": "2021-06-24T14:02:17.781405Z",
     "start_time": "2021-06-24T14:02:17.773340Z"
    }
   },
   "outputs": [
    {
     "name": "stdout",
     "output_type": "stream",
     "text": [
      "Model: \"sequential\"\n",
      "_________________________________________________________________\n",
      "Layer (type)                 Output Shape              Param #   \n",
      "=================================================================\n",
      "conv2d (Conv2D)              (None, 26, 26, 32)        320       \n",
      "_________________________________________________________________\n",
      "batch_normalization (BatchNo (None, 26, 26, 32)        128       \n",
      "_________________________________________________________________\n",
      "activation (Activation)      (None, 26, 26, 32)        0         \n",
      "_________________________________________________________________\n",
      "mc_dropout (MCDropout)       (None, 26, 26, 32)        0         \n",
      "_________________________________________________________________\n",
      "max_pooling2d (MaxPooling2D) (None, 13, 13, 32)        0         \n",
      "_________________________________________________________________\n",
      "conv2d_1 (Conv2D)            (None, 11, 11, 64)        18496     \n",
      "_________________________________________________________________\n",
      "batch_normalization_1 (Batch (None, 11, 11, 64)        256       \n",
      "_________________________________________________________________\n",
      "activation_1 (Activation)    (None, 11, 11, 64)        0         \n",
      "_________________________________________________________________\n",
      "conv2d_2 (Conv2D)            (None, 9, 9, 64)          36928     \n",
      "_________________________________________________________________\n",
      "batch_normalization_2 (Batch (None, 9, 9, 64)          256       \n",
      "_________________________________________________________________\n",
      "activation_2 (Activation)    (None, 9, 9, 64)          0         \n",
      "_________________________________________________________________\n",
      "max_pooling2d_1 (MaxPooling2 (None, 4, 4, 64)          0         \n",
      "_________________________________________________________________\n",
      "flatten (Flatten)            (None, 1024)              0         \n",
      "_________________________________________________________________\n",
      "dense (Dense)                (None, 100)               102500    \n",
      "_________________________________________________________________\n",
      "batch_normalization_3 (Batch (None, 100)               400       \n",
      "_________________________________________________________________\n",
      "activation_3 (Activation)    (None, 100)               0         \n",
      "_________________________________________________________________\n",
      "mc_dropout_1 (MCDropout)     (None, 100)               0         \n",
      "_________________________________________________________________\n",
      "dense_1 (Dense)              (None, 10)                1010      \n",
      "=================================================================\n",
      "Total params: 160,294\n",
      "Trainable params: 159,774\n",
      "Non-trainable params: 520\n",
      "_________________________________________________________________\n"
     ]
    }
   ],
   "source": [
    "model_mc_cnn.summary()"
   ]
  },
  {
   "cell_type": "code",
   "execution_count": 109,
   "metadata": {
    "ExecuteTime": {
     "end_time": "2021-06-24T14:02:17.793165Z",
     "start_time": "2021-06-24T14:02:17.783901Z"
    }
   },
   "outputs": [],
   "source": [
    "model_mc_cnn.compile(loss=model_params[\"loss\"], \n",
    "                     optimizer=model_params[\"optimizer\"], \n",
    "                     metrics=model_params[\"metrics\"])"
   ]
  },
  {
   "cell_type": "code",
   "execution_count": 110,
   "metadata": {
    "ExecuteTime": {
     "end_time": "2021-06-24T14:19:17.115706Z",
     "start_time": "2021-06-24T14:02:17.795208Z"
    }
   },
   "outputs": [
    {
     "name": "stdout",
     "output_type": "stream",
     "text": [
      "Epoch 1/20\n",
      "1719/1719 [==============================] - 52s 30ms/step - loss: 0.5720 - accuracy: 0.7921 - val_loss: 0.4217 - val_accuracy: 0.8466\n",
      "Epoch 2/20\n",
      "1719/1719 [==============================] - 52s 30ms/step - loss: 0.4086 - accuracy: 0.8541 - val_loss: 0.3672 - val_accuracy: 0.8680\n",
      "Epoch 3/20\n",
      "1719/1719 [==============================] - 53s 31ms/step - loss: 0.3654 - accuracy: 0.8680 - val_loss: 0.3246 - val_accuracy: 0.8828\n",
      "Epoch 4/20\n",
      "1719/1719 [==============================] - 52s 30ms/step - loss: 0.3376 - accuracy: 0.8782 - val_loss: 0.3919 - val_accuracy: 0.8558\n",
      "Epoch 5/20\n",
      "1719/1719 [==============================] - 52s 31ms/step - loss: 0.3142 - accuracy: 0.8863 - val_loss: 0.3052 - val_accuracy: 0.8870\n",
      "Epoch 6/20\n",
      "1719/1719 [==============================] - 53s 31ms/step - loss: 0.3009 - accuracy: 0.8911 - val_loss: 0.2957 - val_accuracy: 0.8952\n",
      "Epoch 7/20\n",
      "1719/1719 [==============================] - 51s 30ms/step - loss: 0.2906 - accuracy: 0.8968 - val_loss: 0.3497 - val_accuracy: 0.8698\n",
      "Epoch 8/20\n",
      "1719/1719 [==============================] - 51s 29ms/step - loss: 0.2825 - accuracy: 0.8962 - val_loss: 0.2885 - val_accuracy: 0.9008\n",
      "Epoch 9/20\n",
      "1719/1719 [==============================] - 51s 30ms/step - loss: 0.2696 - accuracy: 0.9022 - val_loss: 0.2825 - val_accuracy: 0.9002\n",
      "Epoch 10/20\n",
      "1719/1719 [==============================] - 51s 30ms/step - loss: 0.2589 - accuracy: 0.9060 - val_loss: 0.3073 - val_accuracy: 0.8874\n",
      "Epoch 11/20\n",
      "1719/1719 [==============================] - 51s 30ms/step - loss: 0.2524 - accuracy: 0.9083 - val_loss: 0.2844 - val_accuracy: 0.8972\n",
      "Epoch 12/20\n",
      "1719/1719 [==============================] - 51s 30ms/step - loss: 0.2470 - accuracy: 0.9085 - val_loss: 0.2753 - val_accuracy: 0.9074\n",
      "Epoch 13/20\n",
      "1719/1719 [==============================] - 50s 29ms/step - loss: 0.2415 - accuracy: 0.9120 - val_loss: 0.2638 - val_accuracy: 0.9102\n",
      "Epoch 14/20\n",
      "1719/1719 [==============================] - 50s 29ms/step - loss: 0.2366 - accuracy: 0.9135 - val_loss: 0.2732 - val_accuracy: 0.9062\n",
      "Epoch 15/20\n",
      "1719/1719 [==============================] - 49s 29ms/step - loss: 0.2313 - accuracy: 0.9147 - val_loss: 0.3051 - val_accuracy: 0.8932\n",
      "Epoch 16/20\n",
      "1719/1719 [==============================] - 50s 29ms/step - loss: 0.2280 - accuracy: 0.9152 - val_loss: 0.2640 - val_accuracy: 0.9084\n",
      "Epoch 17/20\n",
      "1719/1719 [==============================] - 49s 29ms/step - loss: 0.2232 - accuracy: 0.9177 - val_loss: 0.2730 - val_accuracy: 0.9000\n",
      "Epoch 18/20\n",
      "1719/1719 [==============================] - 52s 30ms/step - loss: 0.2177 - accuracy: 0.9189 - val_loss: 0.2586 - val_accuracy: 0.9102\n",
      "Epoch 19/20\n",
      "1719/1719 [==============================] - 49s 29ms/step - loss: 0.2124 - accuracy: 0.9220 - val_loss: 0.2779 - val_accuracy: 0.9066\n",
      "Epoch 20/20\n",
      "1719/1719 [==============================] - 50s 29ms/step - loss: 0.2100 - accuracy: 0.9212 - val_loss: 0.3150 - val_accuracy: 0.8900\n"
     ]
    }
   ],
   "source": [
    "history = model_mc_cnn.fit(X_train_normalized_cnn, y_train, epochs=model_params[\"n_epochs\"], \n",
    "                           validation_data=(X_valid_normalized_cnn, y_valid))"
   ]
  },
  {
   "cell_type": "code",
   "execution_count": 111,
   "metadata": {
    "ExecuteTime": {
     "end_time": "2021-06-24T14:19:17.342585Z",
     "start_time": "2021-06-24T14:19:17.117645Z"
    }
   },
   "outputs": [
    {
     "data": {
      "image/png": "[encoded data removed]",
      "text/plain": [
       "<Figure size 576x360 with 1 Axes>"
      ]
     },
     "metadata": {
      "needs_background": "light"
     },
     "output_type": "display_data"
    }
   ],
   "source": [
    "pd.DataFrame(history.history).plot(figsize=(8, 5))\n",
    "plt.grid(True)\n",
    "plt.gca().set_ylim(0, 1)\n",
    "plt.show()"
   ]
  },
  {
   "cell_type": "markdown",
   "metadata": {},
   "source": [
    "**Model accuracy**"
   ]
  },
  {
   "cell_type": "code",
   "execution_count": 112,
   "metadata": {
    "ExecuteTime": {
     "end_time": "2021-06-24T14:19:20.051388Z",
     "start_time": "2021-06-24T14:19:17.345180Z"
    }
   },
   "outputs": [
    {
     "name": "stdout",
     "output_type": "stream",
     "text": [
      "313/313 [==============================] - 3s 8ms/step - loss: 0.3380 - accuracy: 0.8783\n",
      "> 87.830\n"
     ]
    }
   ],
   "source": [
    "# evaluate the model on test dataset\n",
    "loss, acc = model_mc_cnn.evaluate(X_test_normalized_cnn, y_test, verbose=1)\n",
    "print('> %.3f' % (acc * 100.0))"
   ]
  },
  {
   "cell_type": "markdown",
   "metadata": {},
   "source": []
  },
  {
   "cell_type": "markdown",
   "metadata": {},
   "source": [
    "### Predictions"
   ]
  },
  {
   "cell_type": "markdown",
   "metadata": {},
   "source": [
    "Use `numpy.squeeze()` to remove all dimensions of size 1 from the NumPy array `ndarray`. `squeeze()` is also provided as a method of `ndarray`."
   ]
  },
  {
   "cell_type": "code",
   "execution_count": 113,
   "metadata": {
    "ExecuteTime": {
     "end_time": "2021-06-24T14:19:20.057214Z",
     "start_time": "2021-06-24T14:19:20.053637Z"
    }
   },
   "outputs": [
    {
     "name": "stdout",
     "output_type": "stream",
     "text": [
      "(28, 28)\n"
     ]
    }
   ],
   "source": [
    "X_test_normalized_instance = np.squeeze(X_test_normalized_cnn[10])\n",
    "print(X_test_normalized_instance.shape)"
   ]
  },
  {
   "cell_type": "code",
   "execution_count": 114,
   "metadata": {
    "ExecuteTime": {
     "end_time": "2021-06-24T14:19:20.120888Z",
     "start_time": "2021-06-24T14:19:20.059796Z"
    }
   },
   "outputs": [
    {
     "data": {
      "image/png": "[encoded data removed]",
      "text/plain": [
       "<Figure size 432x288 with 1 Axes>"
      ]
     },
     "metadata": {
      "needs_background": "light"
     },
     "output_type": "display_data"
    }
   ],
   "source": [
    "plt.imshow(X_test_normalized_instance, cmap=\"binary\")\n",
    "plt.axis('off')\n",
    "plt.show()"
   ]
  },
  {
   "cell_type": "code",
   "execution_count": 115,
   "metadata": {
    "ExecuteTime": {
     "end_time": "2021-06-24T14:19:20.127971Z",
     "start_time": "2021-06-24T14:19:20.122968Z"
    }
   },
   "outputs": [
    {
     "data": {
      "text/plain": [
       "'Coat'"
      ]
     },
     "execution_count": 115,
     "metadata": {},
     "output_type": "execute_result"
    }
   ],
   "source": [
    "np.array(class_names)[y_test[10]]"
   ]
  },
  {
   "cell_type": "markdown",
   "metadata": {},
   "source": [
    "Use the model straightforward with MC Dropout layer to predict a unique instance's class"
   ]
  },
  {
   "cell_type": "code",
   "execution_count": 116,
   "metadata": {
    "ExecuteTime": {
     "end_time": "2021-06-24T14:19:23.980536Z",
     "start_time": "2021-06-24T14:19:20.130855Z"
    }
   },
   "outputs": [
    {
     "data": {
      "application/vnd.jupyter.widget-view+json": {
       "model_id": "c28ce906aba744719c7e837cbe42de18",
       "version_major": 2,
       "version_minor": 0
      },
      "text/plain": [
       "HBox(children=(FloatProgress(value=0.0), HTML(value='')))"
      ]
     },
     "metadata": {},
     "output_type": "display_data"
    },
    {
     "name": "stdout",
     "output_type": "stream",
     "text": [
      "\n",
      "[[0.   0.   0.04 0.   0.9  0.   0.05 0.   0.   0.  ]]\n"
     ]
    }
   ],
   "source": [
    "y_pred_mc_cnn = np.round(np.mean([model_mc_cnn.predict(X_test_normalized_cnn[10:11]) \n",
    "                                  for sample in tqdm(range(100))], axis=0), 2)\n",
    "print(y_pred_mc_cnn)"
   ]
  },
  {
   "cell_type": "code",
   "execution_count": 117,
   "metadata": {
    "ExecuteTime": {
     "end_time": "2021-06-24T14:19:23.986617Z",
     "start_time": "2021-06-24T14:19:23.983052Z"
    }
   },
   "outputs": [],
   "source": [
    "y_pred_mc_cnn_instance = np.argmax(y_pred_mc_cnn, axis=-1)"
   ]
  },
  {
   "cell_type": "code",
   "execution_count": 118,
   "metadata": {
    "ExecuteTime": {
     "end_time": "2021-06-24T14:19:23.994434Z",
     "start_time": "2021-06-24T14:19:23.989509Z"
    }
   },
   "outputs": [
    {
     "data": {
      "text/plain": [
       "array(['Coat'], dtype='<U11')"
      ]
     },
     "execution_count": 118,
     "metadata": {},
     "output_type": "execute_result"
    }
   ],
   "source": [
    "np.array(class_names)[y_pred_mc_cnn_instance]"
   ]
  },
  {
   "cell_type": "markdown",
   "metadata": {},
   "source": [
    "Stack the probabilities for all the instances"
   ]
  },
  {
   "cell_type": "code",
   "execution_count": 119,
   "metadata": {
    "ExecuteTime": {
     "end_time": "2021-06-24T14:24:33.402764Z",
     "start_time": "2021-06-24T14:19:23.996799Z"
    }
   },
   "outputs": [
    {
     "data": {
      "application/vnd.jupyter.widget-view+json": {
       "model_id": "5fda794a9c624bc8ba12782a619479a9",
       "version_major": 2,
       "version_minor": 0
      },
      "text/plain": [
       "HBox(children=(FloatProgress(value=0.0), HTML(value='')))"
      ]
     },
     "metadata": {},
     "output_type": "display_data"
    },
    {
     "name": "stdout",
     "output_type": "stream",
     "text": [
      "\n"
     ]
    }
   ],
   "source": [
    "y_probas = np.stack([model_mc_cnn(X_test_normalized_cnn) for sample in tqdm(range(100))])"
   ]
  },
  {
   "cell_type": "markdown",
   "metadata": {},
   "source": [
    "Compute the mean and std for the instances' probability estimates"
   ]
  },
  {
   "cell_type": "code",
   "execution_count": 120,
   "metadata": {
    "ExecuteTime": {
     "end_time": "2021-06-24T14:24:33.415482Z",
     "start_time": "2021-06-24T14:24:33.404961Z"
    }
   },
   "outputs": [],
   "source": [
    "y_proba = y_probas.mean(axis=0)"
   ]
  },
  {
   "cell_type": "code",
   "execution_count": 121,
   "metadata": {
    "ExecuteTime": {
     "end_time": "2021-06-24T14:24:33.442526Z",
     "start_time": "2021-06-24T14:24:33.417291Z"
    }
   },
   "outputs": [],
   "source": [
    "y_std = y_probas.std(axis=0)"
   ]
  },
  {
   "cell_type": "markdown",
   "metadata": {},
   "source": [
    "Show the probabilities for an instance (the same as above)"
   ]
  },
  {
   "cell_type": "code",
   "execution_count": 122,
   "metadata": {
    "ExecuteTime": {
     "end_time": "2021-06-24T14:24:33.450391Z",
     "start_time": "2021-06-24T14:24:33.444785Z"
    }
   },
   "outputs": [
    {
     "data": {
      "text/plain": [
       "array([[[0.  , 0.  , 0.04, 0.  , 0.93, 0.  , 0.03, 0.  , 0.  , 0.  ]],\n",
       "\n",
       "       [[0.  , 0.  , 0.03, 0.  , 0.92, 0.  , 0.05, 0.  , 0.  , 0.  ]],\n",
       "\n",
       "       [[0.  , 0.  , 0.  , 0.  , 1.  , 0.  , 0.  , 0.  , 0.  , 0.  ]]],\n",
       "      dtype=float32)"
      ]
     },
     "execution_count": 122,
     "metadata": {},
     "output_type": "execute_result"
    }
   ],
   "source": [
    "np.round(y_probas[:, 10:11], 2)[:3]"
   ]
  },
  {
   "cell_type": "code",
   "execution_count": 123,
   "metadata": {
    "ExecuteTime": {
     "end_time": "2021-06-24T14:24:33.456408Z",
     "start_time": "2021-06-24T14:24:33.452308Z"
    }
   },
   "outputs": [
    {
     "name": "stdout",
     "output_type": "stream",
     "text": [
      "Shape of the 100 probability predictions for this instance: (100, 1, 10)\n"
     ]
    }
   ],
   "source": [
    "print(\"Shape of the 100 probability predictions for this instance:\", np.round(y_probas[:, 10:11], 2).shape)"
   ]
  },
  {
   "cell_type": "markdown",
   "metadata": {},
   "source": [
    "**Predict the class for this instance**\n",
    "\n",
    "This step is critical as it is also useful to know exactly which other classes it thinks are likely."
   ]
  },
  {
   "cell_type": "code",
   "execution_count": 124,
   "metadata": {
    "ExecuteTime": {
     "end_time": "2021-06-24T14:24:33.463641Z",
     "start_time": "2021-06-24T14:24:33.458305Z"
    }
   },
   "outputs": [
    {
     "data": {
      "text/plain": [
       "array([[0.  , 0.  , 0.05, 0.  , 0.89, 0.  , 0.05, 0.  , 0.  , 0.  ]],\n",
       "      dtype=float32)"
      ]
     },
     "execution_count": 124,
     "metadata": {},
     "output_type": "execute_result"
    }
   ],
   "source": [
    "np.round(y_proba[10:11], 2)"
   ]
  },
  {
   "cell_type": "markdown",
   "metadata": {},
   "source": [
    "Take a look at the standard deviation of the probability estimates for this istance"
   ]
  },
  {
   "cell_type": "code",
   "execution_count": 125,
   "metadata": {
    "ExecuteTime": {
     "end_time": "2021-06-24T14:24:33.470767Z",
     "start_time": "2021-06-24T14:24:33.465986Z"
    }
   },
   "outputs": [
    {
     "data": {
      "text/plain": [
       "array([[0.  , 0.  , 0.08, 0.  , 0.11, 0.  , 0.08, 0.  , 0.  , 0.  ]],\n",
       "      dtype=float32)"
      ]
     },
     "execution_count": 125,
     "metadata": {},
     "output_type": "execute_result"
    }
   ],
   "source": [
    "np.round(y_std[10:11], 2)"
   ]
  },
  {
   "cell_type": "markdown",
   "metadata": {},
   "source": [
    "Hold the predicted classes by return the maximum value from each probability estimate"
   ]
  },
  {
   "cell_type": "code",
   "execution_count": 126,
   "metadata": {
    "ExecuteTime": {
     "end_time": "2021-06-24T14:24:33.476426Z",
     "start_time": "2021-06-24T14:24:33.473085Z"
    }
   },
   "outputs": [],
   "source": [
    "y_pred = np.argmax(y_proba, axis=1)"
   ]
  },
  {
   "cell_type": "markdown",
   "metadata": {},
   "source": [
    "**Model's accuracy is now improved**"
   ]
  },
  {
   "cell_type": "code",
   "execution_count": 127,
   "metadata": {
    "ExecuteTime": {
     "end_time": "2021-06-24T14:24:33.483401Z",
     "start_time": "2021-06-24T14:24:33.478804Z"
    },
    "scrolled": true
   },
   "outputs": [
    {
     "data": {
      "text/plain": [
       "0.8922"
      ]
     },
     "execution_count": 127,
     "metadata": {},
     "output_type": "execute_result"
    }
   ],
   "source": [
    "accuracy = np.sum(y_pred == y_test) / len(y_test)\n",
    "accuracy"
   ]
  },
  {
   "cell_type": "markdown",
   "metadata": {},
   "source": []
  }
 ],
 "metadata": {
  "kernelspec": {
   "display_name": "Python 3",
   "language": "python",
   "name": "python3"
  },
  "language_info": {
   "codemirror_mode": {
    "name": "ipython",
    "version": 3
   },
   "file_extension": ".py",
   "mimetype": "text/x-python",
   "name": "python",
   "nbconvert_exporter": "python",
   "pygments_lexer": "ipython3",
   "version": "3.7.6"
  },
  "toc": {
   "base_numbering": 1,
   "nav_menu": {},
   "number_sections": true,
   "sideBar": true,
   "skip_h1_title": false,
   "title_cell": "Table of Contents",
   "title_sidebar": "Contents",
   "toc_cell": false,
   "toc_position": {},
   "toc_section_display": true,
   "toc_window_display": false
  }
 },
 "nbformat": 4,
 "nbformat_minor": 4
}
