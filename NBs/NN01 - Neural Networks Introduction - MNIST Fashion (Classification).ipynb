{
 "cells": [
  {
   "cell_type": "code",
   "execution_count": 1,
   "metadata": {
    "ExecuteTime": {
     "end_time": "2021-06-26T09:32:22.657005Z",
     "start_time": "2021-06-26T09:32:17.485345Z"
    }
   },
   "outputs": [],
   "source": [
    "import numpy as np\n",
    "import os\n",
    "import pandas as pd\n",
    "\n",
    "# To plot pretty figures\n",
    "%matplotlib inline\n",
    "import matplotlib as mpl\n",
    "import matplotlib.pyplot as plt\n",
    "mpl.rc('axes', labelsize=14)\n",
    "mpl.rc('xtick', labelsize=12)\n",
    "mpl.rc('ytick', labelsize=12)\n",
    "\n",
    "# tensorflow and related layers\n",
    "import tensorflow as tf\n",
    "from tensorflow import keras\n",
    "from tensorflow.keras import Sequential\n",
    "from tensorflow.keras.layers import Conv2D\n",
    "from tensorflow.keras.layers import MaxPooling2D\n",
    "from tensorflow.keras.layers import Dense\n",
    "from tensorflow.keras.layers import Flatten\n",
    "from tensorflow.keras.layers import BatchNormalization\n",
    "from tensorflow.keras.layers import Dropout\n",
    "from tensorflow.keras.layers import Activation\n",
    "\n",
    "# reports\n",
    "from sklearn.metrics import confusion_matrix, classification_report\n",
    "\n",
    "# progress status\n",
    "from tqdm.notebook import tqdm\n",
    "\n",
    "# to make this notebook's output stable across runs\n",
    "np.random.seed(42)\n",
    "tf.random.set_seed(42)\n",
    "\n",
    "from scipy.special import log_softmax"
   ]
  },
  {
   "cell_type": "code",
   "execution_count": 2,
   "metadata": {
    "ExecuteTime": {
     "end_time": "2021-06-26T09:32:22.663882Z",
     "start_time": "2021-06-26T09:32:22.659339Z"
    }
   },
   "outputs": [
    {
     "name": "stdout",
     "output_type": "stream",
     "text": [
      "Tensorflow version: 2.4.1\n",
      "Keras version: 2.4.0\n"
     ]
    }
   ],
   "source": [
    "print(\"Tensorflow version:\", tf.__version__)\n",
    "print(\"Keras version:\", keras.__version__)"
   ]
  },
  {
   "cell_type": "markdown",
   "metadata": {},
   "source": [
    "Define Model parameters"
   ]
  },
  {
   "cell_type": "code",
   "execution_count": 3,
   "metadata": {
    "ExecuteTime": {
     "end_time": "2021-06-26T09:32:22.672439Z",
     "start_time": "2021-06-26T09:32:22.667905Z"
    }
   },
   "outputs": [],
   "source": [
    "model_params = {\n",
    "    \"n_epochs\": 20,\n",
    "    \"batch_size\": 32,\n",
    "    \"activation_output\": \"softmax\",\n",
    "    \"loss\": \"sparse_categorical_crossentropy\",\n",
    "    \"optimizer\": keras.optimizers.SGD(learning_rate=0.01, momentum=0.9, nesterov=True),\n",
    "    \"metrics\": [\"accuracy\"]\n",
    "}"
   ]
  },
  {
   "cell_type": "markdown",
   "metadata": {},
   "source": [
    "# Function to plot the predictions' probability distribution for a single instance"
   ]
  },
  {
   "cell_type": "code",
   "execution_count": 4,
   "metadata": {},
   "outputs": [],
   "source": [
    "def plot_predictions_distribution_for_single_instance(instance_predictions, class_names):\n",
    "    plt.figure(figsize=(8,6))\n",
    "    for class_i in range(0, instance_predictions.shape[-1]):\n",
    "        plt.plot(instance_predictions[..., class_i], label=class_names[class_i])\n",
    "    plt.grid()\n",
    "    plt.legend()"
   ]
  },
  {
   "cell_type": "markdown",
   "metadata": {},
   "source": [
    "# Load the Dataset"
   ]
  },
  {
   "cell_type": "markdown",
   "metadata": {},
   "source": [
    "Load the data from Keras"
   ]
  },
  {
   "cell_type": "code",
   "execution_count": 5,
   "metadata": {
    "ExecuteTime": {
     "end_time": "2021-06-26T09:32:23.089400Z",
     "start_time": "2021-06-26T09:32:22.675379Z"
    }
   },
   "outputs": [],
   "source": [
    "fashion_mnist = keras.datasets.fashion_mnist\n",
    "(X_train_full, y_train_full), (X_test, y_test) = fashion_mnist.load_data()"
   ]
  },
  {
   "cell_type": "markdown",
   "metadata": {},
   "source": [
    "Explore the data related to its shape, data type, and min/max value in the matrix"
   ]
  },
  {
   "cell_type": "code",
   "execution_count": 6,
   "metadata": {
    "ExecuteTime": {
     "end_time": "2021-06-26T09:32:23.096393Z",
     "start_time": "2021-06-26T09:32:23.091382Z"
    }
   },
   "outputs": [
    {
     "name": "stdout",
     "output_type": "stream",
     "text": [
      "X train data shape: (60000, 28, 28)\n",
      "y train data shape: (60000,)\n",
      "X test data shape: (10000, 28, 28)\n",
      "y test data shape: (10000,)\n"
     ]
    }
   ],
   "source": [
    "print(\"X train data shape:\", X_train_full.shape)\n",
    "print(\"y train data shape:\", y_train_full.shape)\n",
    "print(\"X test data shape:\", X_test.shape)\n",
    "print(\"y test data shape:\", y_test.shape)"
   ]
  },
  {
   "cell_type": "code",
   "execution_count": 7,
   "metadata": {
    "ExecuteTime": {
     "end_time": "2021-06-26T09:32:23.103729Z",
     "start_time": "2021-06-26T09:32:23.099005Z"
    }
   },
   "outputs": [
    {
     "name": "stdout",
     "output_type": "stream",
     "text": [
      "X train data type: uint8\n",
      "y train data type: uint8\n",
      "X test data type: uint8\n",
      "y test data type: uint8\n"
     ]
    }
   ],
   "source": [
    "print(\"X train data type:\", X_train_full.dtype)\n",
    "print(\"y train data type:\", y_train_full.dtype)\n",
    "print(\"X test data type:\", X_test.dtype)\n",
    "print(\"y test data type:\", y_test.dtype)"
   ]
  },
  {
   "cell_type": "code",
   "execution_count": 8,
   "metadata": {
    "ExecuteTime": {
     "end_time": "2021-06-26T09:32:23.111155Z",
     "start_time": "2021-06-26T09:32:23.105978Z"
    }
   },
   "outputs": [
    {
     "name": "stdout",
     "output_type": "stream",
     "text": [
      "X train type: <class 'numpy.ndarray'>\n",
      "y train type: <class 'numpy.ndarray'>\n",
      "X test type: <class 'numpy.ndarray'>\n",
      "y test type: <class 'numpy.ndarray'>\n"
     ]
    }
   ],
   "source": [
    "print(\"X train type:\", type(X_train_full))\n",
    "print(\"y train type:\", type(y_train_full))\n",
    "print(\"X test type:\", type(X_test))\n",
    "print(\"y test type:\", type(y_test))"
   ]
  },
  {
   "cell_type": "code",
   "execution_count": 9,
   "metadata": {
    "ExecuteTime": {
     "end_time": "2021-06-26T09:32:23.194769Z",
     "start_time": "2021-06-26T09:32:23.117872Z"
    }
   },
   "outputs": [
    {
     "name": "stdout",
     "output_type": "stream",
     "text": [
      "Maximum matrix value: 255\n",
      "Minimum matrix value: 0\n"
     ]
    }
   ],
   "source": [
    "print(\"Maximum matrix value:\", X_train_full.max())\n",
    "print(\"Minimum matrix value:\", X_train_full.min())"
   ]
  },
  {
   "cell_type": "markdown",
   "metadata": {},
   "source": []
  },
  {
   "cell_type": "markdown",
   "metadata": {},
   "source": [
    "# Split the train data into *train* and *validation* sets"
   ]
  },
  {
   "cell_type": "code",
   "execution_count": 10,
   "metadata": {
    "ExecuteTime": {
     "end_time": "2021-06-26T09:32:23.202077Z",
     "start_time": "2021-06-26T09:32:23.198530Z"
    }
   },
   "outputs": [],
   "source": [
    "X_valid, X_train = X_train_full[:5000], X_train_full[5000:]\n",
    "y_valid, y_train = y_train_full[:5000], y_train_full[5000:]"
   ]
  },
  {
   "cell_type": "code",
   "execution_count": 11,
   "metadata": {
    "ExecuteTime": {
     "end_time": "2021-06-26T09:32:23.208342Z",
     "start_time": "2021-06-26T09:32:23.204721Z"
    }
   },
   "outputs": [
    {
     "name": "stdout",
     "output_type": "stream",
     "text": [
      "X validation data shape: (5000, 28, 28)\n",
      "y validation data shape: (5000,)\n"
     ]
    }
   ],
   "source": [
    "print(\"X validation data shape:\", X_valid.shape)\n",
    "print(\"y validation data shape:\", y_valid.shape)"
   ]
  },
  {
   "cell_type": "markdown",
   "metadata": {},
   "source": []
  },
  {
   "cell_type": "markdown",
   "metadata": {},
   "source": [
    "# Normalize the data"
   ]
  },
  {
   "cell_type": "code",
   "execution_count": 12,
   "metadata": {
    "ExecuteTime": {
     "end_time": "2021-06-26T09:32:23.213745Z",
     "start_time": "2021-06-26T09:32:23.210688Z"
    }
   },
   "outputs": [],
   "source": [
    "# normalization\n",
    "def normalize_pics(data):\n",
    "    return data / 255."
   ]
  },
  {
   "cell_type": "code",
   "execution_count": 13,
   "metadata": {
    "ExecuteTime": {
     "end_time": "2021-06-26T09:32:23.530367Z",
     "start_time": "2021-06-26T09:32:23.216311Z"
    }
   },
   "outputs": [],
   "source": [
    "X_train_normalized = normalize_pics(X_train)\n",
    "X_valid_normalized = normalize_pics(X_valid)\n",
    "X_test_normalized = normalize_pics(X_test)"
   ]
  },
  {
   "cell_type": "code",
   "execution_count": 14,
   "metadata": {
    "ExecuteTime": {
     "end_time": "2021-06-26T09:32:23.591269Z",
     "start_time": "2021-06-26T09:32:23.532306Z"
    }
   },
   "outputs": [
    {
     "name": "stdout",
     "output_type": "stream",
     "text": [
      "Maximum matrix value: 1.0\n",
      "Minimum matrix value: 0.0\n"
     ]
    }
   ],
   "source": [
    "print(\"Maximum matrix value:\", X_train_normalized.max())\n",
    "print(\"Minimum matrix value:\", X_train_normalized.min())"
   ]
  },
  {
   "cell_type": "code",
   "execution_count": 15,
   "metadata": {
    "ExecuteTime": {
     "end_time": "2021-06-26T09:32:23.597375Z",
     "start_time": "2021-06-26T09:32:23.593438Z"
    }
   },
   "outputs": [
    {
     "name": "stdout",
     "output_type": "stream",
     "text": [
      "X train normalized data shape: (55000, 28, 28)\n",
      "X validation normalized data shape: (5000, 28, 28)\n",
      "X test normalized data shape: (10000, 28, 28)\n"
     ]
    }
   ],
   "source": [
    "print(\"X train normalized data shape:\", X_train_normalized.shape)\n",
    "print(\"X validation normalized data shape:\", X_valid_normalized.shape)\n",
    "print(\"X test normalized data shape:\", X_test_normalized.shape)"
   ]
  },
  {
   "cell_type": "markdown",
   "metadata": {},
   "source": []
  },
  {
   "cell_type": "markdown",
   "metadata": {},
   "source": [
    "# Scale the inputs to mean 0 and standard deviation 1"
   ]
  },
  {
   "cell_type": "markdown",
   "metadata": {},
   "source": [
    "Compute the mean and std from the X_train full set pixels"
   ]
  },
  {
   "cell_type": "code",
   "execution_count": 16,
   "metadata": {
    "ExecuteTime": {
     "end_time": "2021-06-26T09:32:24.005674Z",
     "start_time": "2021-06-26T09:32:23.599514Z"
    }
   },
   "outputs": [],
   "source": [
    "pixel_means = X_train_full.mean(axis=0, keepdims=True)\n",
    "pixel_stds = X_train_full.std(axis=0, keepdims=True)"
   ]
  },
  {
   "cell_type": "code",
   "execution_count": 17,
   "metadata": {
    "ExecuteTime": {
     "end_time": "2021-06-26T09:32:24.011017Z",
     "start_time": "2021-06-26T09:32:24.007770Z"
    }
   },
   "outputs": [],
   "source": [
    "# standardization\n",
    "def scale_pics(data, pixel_means, pixel_stds):\n",
    "    return (data - pixel_means) / pixel_stds"
   ]
  },
  {
   "cell_type": "code",
   "execution_count": 18,
   "metadata": {
    "ExecuteTime": {
     "end_time": "2021-06-26T09:32:24.632161Z",
     "start_time": "2021-06-26T09:32:24.013594Z"
    }
   },
   "outputs": [],
   "source": [
    "X_train_scaled = scale_pics(X_train, pixel_means, pixel_stds)\n",
    "X_valid_scaled = scale_pics(X_valid, pixel_means, pixel_stds)\n",
    "X_test_scaled = scale_pics(X_test, pixel_means, pixel_stds)"
   ]
  },
  {
   "cell_type": "markdown",
   "metadata": {},
   "source": []
  },
  {
   "cell_type": "markdown",
   "metadata": {},
   "source": [
    "# Transform the data to fit the CNN's dimension expectations"
   ]
  },
  {
   "cell_type": "code",
   "execution_count": 19,
   "metadata": {
    "ExecuteTime": {
     "end_time": "2021-06-26T09:32:24.637492Z",
     "start_time": "2021-06-26T09:32:24.634059Z"
    }
   },
   "outputs": [],
   "source": [
    "X_train_normalized_cnn = X_train_normalized[..., np.newaxis]\n",
    "X_valid_normalized_cnn = X_valid_normalized[..., np.newaxis]\n",
    "X_test_normalized_cnn = X_test_normalized[..., np.newaxis]"
   ]
  },
  {
   "cell_type": "code",
   "execution_count": 20,
   "metadata": {
    "ExecuteTime": {
     "end_time": "2021-06-26T09:32:24.705063Z",
     "start_time": "2021-06-26T09:32:24.639981Z"
    },
    "scrolled": true
   },
   "outputs": [
    {
     "name": "stdout",
     "output_type": "stream",
     "text": [
      "X train normalized data shape: (55000, 28, 28, 1)\n",
      "X validation normalized data shape: (5000, 28, 28, 1)\n",
      "X test normalized data shape: (10000, 28, 28, 1)\n",
      "X train normalized max value: 1.0\n",
      "X train normalized min value: 0.0\n"
     ]
    }
   ],
   "source": [
    "print(\"X train normalized data shape:\", X_train_normalized_cnn.shape)\n",
    "print(\"X validation normalized data shape:\", X_valid_normalized_cnn.shape)\n",
    "print(\"X test normalized data shape:\", X_test_normalized_cnn.shape)\n",
    "print(\"X train normalized max value:\", X_train_normalized_cnn.max())\n",
    "print(\"X train normalized min value:\", X_train_normalized_cnn.min())"
   ]
  },
  {
   "cell_type": "markdown",
   "metadata": {},
   "source": []
  },
  {
   "cell_type": "markdown",
   "metadata": {},
   "source": [
    "# Plot the data and define the classes"
   ]
  },
  {
   "cell_type": "markdown",
   "metadata": {},
   "source": [
    "Plot an instance"
   ]
  },
  {
   "cell_type": "code",
   "execution_count": 21,
   "metadata": {
    "ExecuteTime": {
     "end_time": "2021-06-26T09:32:24.780452Z",
     "start_time": "2021-06-26T09:32:24.707084Z"
    },
    "scrolled": true
   },
   "outputs": [
    {
     "data": {
      "image/png": "[encoded data removed]",
      "text/plain": [
       "<Figure size 432x288 with 1 Axes>"
      ]
     },
     "metadata": {
      "needs_background": "light"
     },
     "output_type": "display_data"
    }
   ],
   "source": [
    "plt.imshow(X_train_normalized[0], cmap=\"binary\")\n",
    "plt.axis('off')\n",
    "plt.show()"
   ]
  },
  {
   "cell_type": "markdown",
   "metadata": {},
   "source": [
    "Unique values of y_train data:"
   ]
  },
  {
   "cell_type": "code",
   "execution_count": 22,
   "metadata": {
    "ExecuteTime": {
     "end_time": "2021-06-26T09:32:24.788173Z",
     "start_time": "2021-06-26T09:32:24.782344Z"
    }
   },
   "outputs": [
    {
     "data": {
      "text/plain": [
       "array([0, 1, 2, 3, 4, 5, 6, 7, 8, 9], dtype=uint8)"
      ]
     },
     "execution_count": 22,
     "metadata": {},
     "output_type": "execute_result"
    }
   ],
   "source": [
    "np.unique(y_train)"
   ]
  },
  {
   "cell_type": "markdown",
   "metadata": {},
   "source": [
    "List of class names to know what exactly each number depicts"
   ]
  },
  {
   "cell_type": "code",
   "execution_count": 23,
   "metadata": {
    "ExecuteTime": {
     "end_time": "2021-06-26T09:32:24.792982Z",
     "start_time": "2021-06-26T09:32:24.790102Z"
    }
   },
   "outputs": [],
   "source": [
    "class_names = [\"T-shirt/top\", \"Trouser\", \"Pullover\", \"Dress\", \"Coat\",\n",
    "               \"Sandal\", \"Shirt\", \"Sneaker\", \"Bag\", \"Ankle boot\"]"
   ]
  },
  {
   "cell_type": "code",
   "execution_count": 24,
   "metadata": {
    "ExecuteTime": {
     "end_time": "2021-06-26T09:32:24.803617Z",
     "start_time": "2021-06-26T09:32:24.800220Z"
    }
   },
   "outputs": [
    {
     "data": {
      "text/plain": [
       "'Coat'"
      ]
     },
     "execution_count": 24,
     "metadata": {},
     "output_type": "execute_result"
    }
   ],
   "source": [
    "class_names[y_train[0]]"
   ]
  },
  {
   "cell_type": "markdown",
   "metadata": {},
   "source": [
    "Some samples from the MNIST Fashion dataset"
   ]
  },
  {
   "cell_type": "code",
   "execution_count": 25,
   "metadata": {
    "ExecuteTime": {
     "end_time": "2021-06-26T09:32:26.063313Z",
     "start_time": "2021-06-26T09:32:24.809126Z"
    }
   },
   "outputs": [
    {
     "data": {
      "image/png": "[encoded data removed]",
      "text/plain": [
       "<Figure size 864x345.6 with 40 Axes>"
      ]
     },
     "metadata": {
      "needs_background": "light"
     },
     "output_type": "display_data"
    }
   ],
   "source": [
    "n_rows = 4\n",
    "n_cols = 10\n",
    "plt.figure(figsize=(n_cols * 1.2, n_rows * 1.2))\n",
    "for row in range(n_rows):\n",
    "    for col in range(n_cols):\n",
    "        index = n_cols * row + col\n",
    "        plt.subplot(n_rows, n_cols, index + 1)\n",
    "        plt.imshow(X_train_normalized[index], cmap=\"binary\", interpolation=\"nearest\")\n",
    "        plt.axis('off')\n",
    "        plt.title(class_names[y_train[index]], fontsize=12)\n",
    "plt.subplots_adjust(wspace=0.2, hspace=0.5)\n",
    "plt.show()"
   ]
  },
  {
   "cell_type": "markdown",
   "metadata": {},
   "source": []
  },
  {
   "cell_type": "markdown",
   "metadata": {},
   "source": [
    "# Make prediction for single instances"
   ]
  },
  {
   "cell_type": "markdown",
   "metadata": {},
   "source": [
    "## Instance to predict 01 - Ankle boot"
   ]
  },
  {
   "cell_type": "code",
   "execution_count": 26,
   "metadata": {
    "ExecuteTime": {
     "end_time": "2021-06-26T09:32:26.126881Z",
     "start_time": "2021-06-26T09:32:26.065949Z"
    }
   },
   "outputs": [
    {
     "data": {
      "image/png": "[encoded data removed]",
      "text/plain": [
       "<Figure size 432x288 with 1 Axes>"
      ]
     },
     "metadata": {
      "needs_background": "light"
     },
     "output_type": "display_data"
    }
   ],
   "source": [
    "plt.imshow(X_test_normalized[0], cmap=\"binary\")\n",
    "plt.axis('off')\n",
    "plt.show()"
   ]
  },
  {
   "cell_type": "code",
   "execution_count": 27,
   "metadata": {
    "ExecuteTime": {
     "end_time": "2021-06-26T09:32:26.133192Z",
     "start_time": "2021-06-26T09:32:26.129208Z"
    }
   },
   "outputs": [
    {
     "data": {
      "text/plain": [
       "'Ankle boot'"
      ]
     },
     "execution_count": 27,
     "metadata": {},
     "output_type": "execute_result"
    }
   ],
   "source": [
    "class_names[y_test[0]]"
   ]
  },
  {
   "cell_type": "markdown",
   "metadata": {},
   "source": [
    "## Instance  to predict 02 - Coat"
   ]
  },
  {
   "cell_type": "code",
   "execution_count": 28,
   "metadata": {
    "ExecuteTime": {
     "end_time": "2021-06-26T09:32:26.195311Z",
     "start_time": "2021-06-26T09:32:26.135946Z"
    }
   },
   "outputs": [
    {
     "data": {
      "image/png": "[encoded data removed]",
      "text/plain": [
       "<Figure size 432x288 with 1 Axes>"
      ]
     },
     "metadata": {
      "needs_background": "light"
     },
     "output_type": "display_data"
    }
   ],
   "source": [
    "plt.imshow(X_test_normalized[10], cmap=\"binary\")\n",
    "plt.axis('off')\n",
    "plt.show()"
   ]
  },
  {
   "cell_type": "code",
   "execution_count": 29,
   "metadata": {
    "ExecuteTime": {
     "end_time": "2021-06-26T09:32:26.201180Z",
     "start_time": "2021-06-26T09:32:26.197320Z"
    },
    "scrolled": true
   },
   "outputs": [
    {
     "data": {
      "text/plain": [
       "'Coat'"
      ]
     },
     "execution_count": 29,
     "metadata": {},
     "output_type": "execute_result"
    }
   ],
   "source": [
    "class_names[y_test[10]]"
   ]
  },
  {
   "cell_type": "markdown",
   "metadata": {},
   "source": []
  },
  {
   "cell_type": "markdown",
   "metadata": {},
   "source": [
    "# Simple model"
   ]
  },
  {
   "cell_type": "markdown",
   "metadata": {},
   "source": [
    "## Initialize the model and its architecture"
   ]
  },
  {
   "cell_type": "code",
   "execution_count": 30,
   "metadata": {
    "ExecuteTime": {
     "end_time": "2021-06-26T09:32:26.243787Z",
     "start_time": "2021-06-26T09:32:26.203648Z"
    }
   },
   "outputs": [],
   "source": [
    "model_simple = keras.models.Sequential()\n",
    "model_simple.add(keras.layers.Flatten(input_shape=[28, 28]))\n",
    "model_simple.add(keras.layers.Dense(300, activation=\"relu\"))\n",
    "model_simple.add(keras.layers.Dense(100, activation=\"relu\"))\n",
    "model_simple.add(keras.layers.Dense(10, activation=\"softmax\"))"
   ]
  },
  {
   "cell_type": "markdown",
   "metadata": {},
   "source": [
    "Reset all state generated by Keras (if a model was initiated previously)"
   ]
  },
  {
   "cell_type": "code",
   "execution_count": 31,
   "metadata": {
    "ExecuteTime": {
     "end_time": "2021-06-26T09:32:26.250347Z",
     "start_time": "2021-06-26T09:32:26.245739Z"
    }
   },
   "outputs": [],
   "source": [
    "keras.backend.clear_session()"
   ]
  },
  {
   "cell_type": "code",
   "execution_count": 32,
   "metadata": {
    "ExecuteTime": {
     "end_time": "2021-06-26T09:32:26.285839Z",
     "start_time": "2021-06-26T09:32:26.252237Z"
    }
   },
   "outputs": [],
   "source": [
    "model_simple = keras.models.Sequential([\n",
    "    keras.layers.Flatten(input_shape=[28, 28]),\n",
    "    keras.layers.Dense(300, activation=\"relu\", kernel_initializer='he_uniform'),\n",
    "    keras.layers.Dense(100, activation=\"relu\", kernel_initializer='he_uniform'),\n",
    "    keras.layers.Dense(10, activation=\"softmax\")\n",
    "])"
   ]
  },
  {
   "cell_type": "markdown",
   "metadata": {},
   "source": [
    "Get model's list of layers"
   ]
  },
  {
   "cell_type": "code",
   "execution_count": 33,
   "metadata": {
    "ExecuteTime": {
     "end_time": "2021-06-26T09:32:26.291993Z",
     "start_time": "2021-06-26T09:32:26.287941Z"
    }
   },
   "outputs": [
    {
     "data": {
      "text/plain": [
       "[<tensorflow.python.keras.layers.core.Flatten at 0x7f59485b1350>,\n",
       " <tensorflow.python.keras.layers.core.Dense at 0x7f59485b1610>,\n",
       " <tensorflow.python.keras.layers.core.Dense at 0x7f5948716c10>,\n",
       " <tensorflow.python.keras.layers.core.Dense at 0x7f594878b7d0>]"
      ]
     },
     "execution_count": 33,
     "metadata": {},
     "output_type": "execute_result"
    }
   ],
   "source": [
    "model_simple.layers"
   ]
  },
  {
   "cell_type": "markdown",
   "metadata": {},
   "source": [
    "Display model's summary: layers with their names, their output shape, and the number of parameters"
   ]
  },
  {
   "cell_type": "code",
   "execution_count": 34,
   "metadata": {
    "ExecuteTime": {
     "end_time": "2021-06-26T09:32:26.301060Z",
     "start_time": "2021-06-26T09:32:26.294602Z"
    }
   },
   "outputs": [
    {
     "name": "stdout",
     "output_type": "stream",
     "text": [
      "Model: \"sequential\"\n",
      "_________________________________________________________________\n",
      "Layer (type)                 Output Shape              Param #   \n",
      "=================================================================\n",
      "flatten (Flatten)            (None, 784)               0         \n",
      "_________________________________________________________________\n",
      "dense (Dense)                (None, 300)               235500    \n",
      "_________________________________________________________________\n",
      "dense_1 (Dense)              (None, 100)               30100     \n",
      "_________________________________________________________________\n",
      "dense_2 (Dense)              (None, 10)                1010      \n",
      "=================================================================\n",
      "Total params: 266,610\n",
      "Trainable params: 266,610\n",
      "Non-trainable params: 0\n",
      "_________________________________________________________________\n"
     ]
    }
   ],
   "source": [
    "model_simple.summary()"
   ]
  },
  {
   "cell_type": "markdown",
   "metadata": {},
   "source": [
    "Plot model's summary"
   ]
  },
  {
   "cell_type": "code",
   "execution_count": 35,
   "metadata": {
    "ExecuteTime": {
     "end_time": "2021-06-26T09:32:26.811394Z",
     "start_time": "2021-06-26T09:32:26.303331Z"
    }
   },
   "outputs": [
    {
     "data": {
      "image/png": "[encoded data removed]",
      "text/plain": [
       "<IPython.core.display.Image object>"
      ]
     },
     "execution_count": 35,
     "metadata": {},
     "output_type": "execute_result"
    }
   ],
   "source": [
    "keras.utils.plot_model(model_simple, \"fashion_mnist_model.png\", show_shapes=True)"
   ]
  },
  {
   "cell_type": "markdown",
   "metadata": {},
   "source": [
    "## Description of a layer (in this case, Dense) "
   ]
  },
  {
   "cell_type": "code",
   "execution_count": 36,
   "metadata": {
    "ExecuteTime": {
     "end_time": "2021-06-26T09:32:26.820475Z",
     "start_time": "2021-06-26T09:32:26.814102Z"
    }
   },
   "outputs": [
    {
     "data": {
      "text/plain": [
       "'dense'"
      ]
     },
     "execution_count": 36,
     "metadata": {},
     "output_type": "execute_result"
    }
   ],
   "source": [
    "# name\n",
    "hidden1 = model_simple.layers[1]\n",
    "hidden1.name"
   ]
  },
  {
   "cell_type": "code",
   "execution_count": 37,
   "metadata": {
    "ExecuteTime": {
     "end_time": "2021-06-26T09:32:26.826888Z",
     "start_time": "2021-06-26T09:32:26.822621Z"
    }
   },
   "outputs": [
    {
     "data": {
      "text/plain": [
       "True"
      ]
     },
     "execution_count": 37,
     "metadata": {},
     "output_type": "execute_result"
    }
   ],
   "source": [
    "# check if it is hidden or not\n",
    "model_simple.get_layer(hidden1.name) is hidden1"
   ]
  },
  {
   "cell_type": "code",
   "execution_count": 38,
   "metadata": {
    "ExecuteTime": {
     "end_time": "2021-06-26T09:32:26.836057Z",
     "start_time": "2021-06-26T09:32:26.829329Z"
    }
   },
   "outputs": [],
   "source": [
    "# get layer's weights and biases\n",
    "weights, biases = hidden1.get_weights()"
   ]
  },
  {
   "cell_type": "code",
   "execution_count": 39,
   "metadata": {
    "ExecuteTime": {
     "end_time": "2021-06-26T09:32:26.845611Z",
     "start_time": "2021-06-26T09:32:26.838057Z"
    }
   },
   "outputs": [
    {
     "data": {
      "text/plain": [
       "array([ 0.08638643,  0.01047292, -0.03106006,  0.03670789, -0.04781865,\n",
       "        0.01388142,  0.02372251, -0.0502158 ,  0.02104162,  0.04844961,\n",
       "        0.02953007, -0.05797079,  0.02882975,  0.08435396,  0.06137309,\n",
       "       -0.0365416 ,  0.02144235,  0.03960829,  0.00081158, -0.08108427,\n",
       "       -0.0193755 , -0.00564279,  0.06111278,  0.0663498 , -0.07500501,\n",
       "       -0.07678579,  0.02225731,  0.0064536 ,  0.04960679, -0.05605847,\n",
       "       -0.07255901, -0.00733271, -0.05567595, -0.02564432,  0.0840748 ,\n",
       "        0.05180534,  0.0775819 , -0.03256639,  0.08727967, -0.04939087,\n",
       "       -0.02300654, -0.06733806, -0.04634434, -0.04670567, -0.04453361,\n",
       "        0.07660349,  0.05580015, -0.06644477,  0.05343934,  0.02162214,\n",
       "        0.02110711,  0.05253082, -0.01028174,  0.02007417,  0.02403441,\n",
       "        0.00990935, -0.07899092,  0.01655593, -0.0666851 , -0.06202734,\n",
       "        0.05867659,  0.0347885 ,  0.01871238,  0.03217603, -0.03072682,\n",
       "        0.00838172, -0.03927466,  0.0050872 , -0.06909116, -0.03754926,\n",
       "        0.02274314,  0.02005344,  0.02471364,  0.04563027,  0.08124269,\n",
       "       -0.08570263,  0.07105208,  0.04126406, -0.05771756, -0.02261438,\n",
       "       -0.00215293, -0.0017765 ,  0.01657401,  0.06082796, -0.04616909,\n",
       "        0.06945043,  0.03892951, -0.06313784, -0.03405474, -0.0162362 ,\n",
       "       -0.04205981, -0.07500524, -0.02240566, -0.02469521, -0.05852853,\n",
       "        0.00046165, -0.02292209, -0.07191198,  0.07633852, -0.01494952,\n",
       "        0.06142386,  0.01814352,  0.04946402,  0.02759493,  0.01367415,\n",
       "        0.02260964,  0.03406321, -0.00659697,  0.02416433,  0.05883979,\n",
       "       -0.06739834,  0.06177115, -0.08262528,  0.08568657,  0.04004928,\n",
       "        0.05341431, -0.04888878,  0.0174142 , -0.05911208,  0.02607612,\n",
       "        0.05379874, -0.0291065 ,  0.01025601,  0.00352528,  0.00999343,\n",
       "        0.02711882,  0.04706358,  0.0332334 ,  0.02905107, -0.02270513,\n",
       "        0.02730335,  0.04453845,  0.08743482,  0.0802794 ,  0.035145  ,\n",
       "        0.0681574 ,  0.06964206, -0.00090118, -0.03583794, -0.05696832,\n",
       "       -0.02182039,  0.06221154,  0.01543954, -0.02184287,  0.043883  ,\n",
       "        0.03607523,  0.02761395, -0.01735716,  0.0353621 , -0.04102827,\n",
       "       -0.02323218,  0.06398951, -0.01004931,  0.07117864, -0.0324099 ,\n",
       "       -0.07779647,  0.06422736,  0.08158184, -0.05656221, -0.01387172,\n",
       "       -0.00388763,  0.06566828,  0.07015639, -0.03807044,  0.05676744,\n",
       "        0.03721366, -0.03377296, -0.04568312, -0.04535226,  0.0789225 ,\n",
       "        0.06037561, -0.01839621,  0.04837992, -0.01797808, -0.08220766,\n",
       "        0.03620909, -0.00571496, -0.06202083, -0.02388988,  0.0141161 ,\n",
       "        0.01523153, -0.03299426, -0.03026629,  0.02756098, -0.02091236,\n",
       "        0.08501429, -0.0349768 ,  0.01130003,  0.00684517, -0.08435683,\n",
       "        0.04662085,  0.07320622,  0.01964422,  0.04813065,  0.00786436,\n",
       "       -0.07934977,  0.0127249 ,  0.01205222,  0.07094225, -0.04962981,\n",
       "       -0.05467565, -0.05773917, -0.04058516,  0.02734876, -0.06371194,\n",
       "       -0.019489  ,  0.02275736, -0.01304249, -0.01580154,  0.05616938,\n",
       "        0.06769683, -0.02685535,  0.03329907,  0.06853024,  0.02327126,\n",
       "       -0.01933562, -0.0645816 , -0.00447699, -0.05082279,  0.0507571 ,\n",
       "       -0.06695172, -0.02702182,  0.06601947,  0.02273446, -0.04365921,\n",
       "       -0.00608386, -0.01919535,  0.01624037,  0.04594233,  0.06349006,\n",
       "       -0.03839362,  0.01686668,  0.0413597 ,  0.06056712,  0.05030134,\n",
       "       -0.05163218, -0.06297539, -0.07056723, -0.04212785, -0.04009078,\n",
       "        0.0666968 ,  0.0003181 ,  0.05294221,  0.04290802, -0.02013098,\n",
       "       -0.03885728,  0.07809731,  0.02609888,  0.04273672,  0.0334079 ,\n",
       "       -0.02594491, -0.06180307, -0.04601304, -0.07831445,  0.03198019,\n",
       "        0.0554407 , -0.08173148, -0.01799981,  0.0321963 ,  0.01784807,\n",
       "        0.04124867, -0.04092918,  0.01527475, -0.00479482, -0.07531194,\n",
       "        0.01915057, -0.0565089 , -0.05676015, -0.0850585 ,  0.00675841,\n",
       "       -0.0243837 , -0.07243231,  0.01419617, -0.05533993,  0.05096962,\n",
       "       -0.02378445, -0.06297734,  0.04540155, -0.02997844,  0.03140134,\n",
       "        0.07112128, -0.07317931, -0.07345321, -0.00756579,  0.05134153,\n",
       "       -0.07584208,  0.07695249,  0.01397993, -0.08690111,  0.02798399,\n",
       "        0.03933781,  0.07772361, -0.08572979, -0.08562652, -0.01823268,\n",
       "        0.00460257,  0.00605068, -0.0442915 , -0.06822342, -0.01293834],\n",
       "      dtype=float32)"
      ]
     },
     "execution_count": 39,
     "metadata": {},
     "output_type": "execute_result"
    }
   ],
   "source": [
    "# weights' values\n",
    "weights[5]"
   ]
  },
  {
   "cell_type": "code",
   "execution_count": 40,
   "metadata": {
    "ExecuteTime": {
     "end_time": "2021-06-26T09:32:26.851808Z",
     "start_time": "2021-06-26T09:32:26.847738Z"
    }
   },
   "outputs": [
    {
     "data": {
      "text/plain": [
       "(784, 300)"
      ]
     },
     "execution_count": 40,
     "metadata": {},
     "output_type": "execute_result"
    }
   ],
   "source": [
    "# weights' shape\n",
    "weights.shape"
   ]
  },
  {
   "cell_type": "code",
   "execution_count": 41,
   "metadata": {
    "ExecuteTime": {
     "end_time": "2021-06-26T09:32:26.860874Z",
     "start_time": "2021-06-26T09:32:26.854033Z"
    }
   },
   "outputs": [
    {
     "data": {
      "text/plain": [
       "array([0., 0., 0., 0., 0., 0., 0., 0., 0., 0., 0., 0., 0., 0., 0., 0., 0.,\n",
       "       0., 0., 0., 0., 0., 0., 0., 0., 0., 0., 0., 0., 0., 0., 0., 0., 0.,\n",
       "       0., 0., 0., 0., 0., 0., 0., 0., 0., 0., 0., 0., 0., 0., 0., 0., 0.,\n",
       "       0., 0., 0., 0., 0., 0., 0., 0., 0., 0., 0., 0., 0., 0., 0., 0., 0.,\n",
       "       0., 0., 0., 0., 0., 0., 0., 0., 0., 0., 0., 0., 0., 0., 0., 0., 0.,\n",
       "       0., 0., 0., 0., 0., 0., 0., 0., 0., 0., 0., 0., 0., 0., 0., 0., 0.,\n",
       "       0., 0., 0., 0., 0., 0., 0., 0., 0., 0., 0., 0., 0., 0., 0., 0., 0.,\n",
       "       0., 0., 0., 0., 0., 0., 0., 0., 0., 0., 0., 0., 0., 0., 0., 0., 0.,\n",
       "       0., 0., 0., 0., 0., 0., 0., 0., 0., 0., 0., 0., 0., 0., 0., 0., 0.,\n",
       "       0., 0., 0., 0., 0., 0., 0., 0., 0., 0., 0., 0., 0., 0., 0., 0., 0.,\n",
       "       0., 0., 0., 0., 0., 0., 0., 0., 0., 0., 0., 0., 0., 0., 0., 0., 0.,\n",
       "       0., 0., 0., 0., 0., 0., 0., 0., 0., 0., 0., 0., 0., 0., 0., 0., 0.,\n",
       "       0., 0., 0., 0., 0., 0., 0., 0., 0., 0., 0., 0., 0., 0., 0., 0., 0.,\n",
       "       0., 0., 0., 0., 0., 0., 0., 0., 0., 0., 0., 0., 0., 0., 0., 0., 0.,\n",
       "       0., 0., 0., 0., 0., 0., 0., 0., 0., 0., 0., 0., 0., 0., 0., 0., 0.,\n",
       "       0., 0., 0., 0., 0., 0., 0., 0., 0., 0., 0., 0., 0., 0., 0., 0., 0.,\n",
       "       0., 0., 0., 0., 0., 0., 0., 0., 0., 0., 0., 0., 0., 0., 0., 0., 0.,\n",
       "       0., 0., 0., 0., 0., 0., 0., 0., 0., 0., 0.], dtype=float32)"
      ]
     },
     "execution_count": 41,
     "metadata": {},
     "output_type": "execute_result"
    }
   ],
   "source": [
    "# biases values\n",
    "biases"
   ]
  },
  {
   "cell_type": "code",
   "execution_count": 42,
   "metadata": {
    "ExecuteTime": {
     "end_time": "2021-06-26T09:32:26.866805Z",
     "start_time": "2021-06-26T09:32:26.862786Z"
    }
   },
   "outputs": [
    {
     "data": {
      "text/plain": [
       "(300,)"
      ]
     },
     "execution_count": 42,
     "metadata": {},
     "output_type": "execute_result"
    }
   ],
   "source": [
    "# biases' values\n",
    "biases.shape"
   ]
  },
  {
   "cell_type": "markdown",
   "metadata": {},
   "source": [
    "## Compile the model"
   ]
  },
  {
   "cell_type": "code",
   "execution_count": 43,
   "metadata": {
    "ExecuteTime": {
     "end_time": "2021-06-26T09:32:26.881607Z",
     "start_time": "2021-06-26T09:32:26.869205Z"
    }
   },
   "outputs": [],
   "source": [
    "model_simple.compile(loss=model_params[\"loss\"], \n",
    "                     optimizer=model_params[\"optimizer\"], \n",
    "                     metrics=model_params[\"metrics\"])"
   ]
  },
  {
   "cell_type": "markdown",
   "metadata": {},
   "source": [
    "## Train the model"
   ]
  },
  {
   "cell_type": "code",
   "execution_count": 44,
   "metadata": {
    "ExecuteTime": {
     "end_time": "2021-06-26T09:33:25.914503Z",
     "start_time": "2021-06-26T09:32:26.883424Z"
    },
    "scrolled": true
   },
   "outputs": [
    {
     "name": "stdout",
     "output_type": "stream",
     "text": [
      "Epoch 1/20\n",
      "1719/1719 [==============================] - 2s 1ms/step - loss: 0.6394 - accuracy: 0.7773 - val_loss: 0.3748 - val_accuracy: 0.8664\n",
      "Epoch 2/20\n",
      "1719/1719 [==============================] - 2s 1ms/step - loss: 0.3804 - accuracy: 0.8628 - val_loss: 0.3694 - val_accuracy: 0.8674\n",
      "Epoch 3/20\n",
      "1719/1719 [==============================] - 2s 1ms/step - loss: 0.3437 - accuracy: 0.8732 - val_loss: 0.3380 - val_accuracy: 0.8764\n",
      "Epoch 4/20\n",
      "1719/1719 [==============================] - 2s 1ms/step - loss: 0.3140 - accuracy: 0.8838 - val_loss: 0.3176 - val_accuracy: 0.8836\n",
      "Epoch 5/20\n",
      "1719/1719 [==============================] - 2s 1ms/step - loss: 0.3026 - accuracy: 0.8865 - val_loss: 0.3105 - val_accuracy: 0.8842\n",
      "Epoch 6/20\n",
      "1719/1719 [==============================] - 2s 1ms/step - loss: 0.2762 - accuracy: 0.8975 - val_loss: 0.3204 - val_accuracy: 0.8836\n",
      "Epoch 7/20\n",
      "1719/1719 [==============================] - 2s 1ms/step - loss: 0.2686 - accuracy: 0.9000 - val_loss: 0.3023 - val_accuracy: 0.8934\n",
      "Epoch 8/20\n",
      "1719/1719 [==============================] - 2s 1ms/step - loss: 0.2500 - accuracy: 0.9060 - val_loss: 0.3174 - val_accuracy: 0.8854\n",
      "Epoch 9/20\n",
      "1719/1719 [==============================] - 2s 1ms/step - loss: 0.2480 - accuracy: 0.9049 - val_loss: 0.3121 - val_accuracy: 0.8842\n",
      "Epoch 10/20\n",
      "1719/1719 [==============================] - 2s 1ms/step - loss: 0.2346 - accuracy: 0.9118 - val_loss: 0.3038 - val_accuracy: 0.8950\n",
      "Epoch 11/20\n",
      "1719/1719 [==============================] - 2s 1ms/step - loss: 0.2238 - accuracy: 0.9163 - val_loss: 0.3131 - val_accuracy: 0.8896\n",
      "Epoch 12/20\n",
      "1719/1719 [==============================] - 2s 1ms/step - loss: 0.2182 - accuracy: 0.9176 - val_loss: 0.3501 - val_accuracy: 0.8746\n",
      "Epoch 13/20\n",
      "1719/1719 [==============================] - 2s 1ms/step - loss: 0.2129 - accuracy: 0.9207 - val_loss: 0.3035 - val_accuracy: 0.8944\n",
      "Epoch 14/20\n",
      "1719/1719 [==============================] - 2s 1ms/step - loss: 0.2040 - accuracy: 0.9215 - val_loss: 0.2953 - val_accuracy: 0.8950\n",
      "Epoch 15/20\n",
      "1719/1719 [==============================] - 2s 1ms/step - loss: 0.2012 - accuracy: 0.9238 - val_loss: 0.3168 - val_accuracy: 0.8902\n",
      "Epoch 16/20\n",
      "1719/1719 [==============================] - 2s 1ms/step - loss: 0.1943 - accuracy: 0.9259 - val_loss: 0.3219 - val_accuracy: 0.8904\n",
      "Epoch 17/20\n",
      "1719/1719 [==============================] - 2s 1ms/step - loss: 0.1820 - accuracy: 0.9298 - val_loss: 0.3236 - val_accuracy: 0.8894\n",
      "Epoch 18/20\n",
      "1719/1719 [==============================] - 2s 1ms/step - loss: 0.1828 - accuracy: 0.9299 - val_loss: 0.3281 - val_accuracy: 0.8912\n",
      "Epoch 19/20\n",
      "1719/1719 [==============================] - 2s 1ms/step - loss: 0.1764 - accuracy: 0.9335 - val_loss: 0.3150 - val_accuracy: 0.8954\n",
      "Epoch 20/20\n",
      "1719/1719 [==============================] - 2s 1ms/step - loss: 0.1729 - accuracy: 0.9353 - val_loss: 0.3130 - val_accuracy: 0.8986\n"
     ]
    }
   ],
   "source": [
    "history_simple = model_simple.fit(X_train_normalized, y_train, epochs=model_params[\"n_epochs\"], \n",
    "                                  validation_data=(X_valid_normalized, y_valid))"
   ]
  },
  {
   "cell_type": "markdown",
   "metadata": {},
   "source": [
    "Training parameters"
   ]
  },
  {
   "cell_type": "code",
   "execution_count": 45,
   "metadata": {
    "ExecuteTime": {
     "end_time": "2021-06-26T09:33:25.921734Z",
     "start_time": "2021-06-26T09:33:25.916842Z"
    }
   },
   "outputs": [
    {
     "data": {
      "text/plain": [
       "{'verbose': 1, 'epochs': 20, 'steps': 1719}"
      ]
     },
     "execution_count": 45,
     "metadata": {},
     "output_type": "execute_result"
    }
   ],
   "source": [
    "history_simple.params"
   ]
  },
  {
   "cell_type": "markdown",
   "metadata": {},
   "source": [
    "Training epochs"
   ]
  },
  {
   "cell_type": "code",
   "execution_count": 46,
   "metadata": {
    "ExecuteTime": {
     "end_time": "2021-06-26T09:33:25.928122Z",
     "start_time": "2021-06-26T09:33:25.924455Z"
    }
   },
   "outputs": [
    {
     "name": "stdout",
     "output_type": "stream",
     "text": [
      "[0, 1, 2, 3, 4, 5, 6, 7, 8, 9, 10, 11, 12, 13, 14, 15, 16, 17, 18, 19]\n"
     ]
    }
   ],
   "source": [
    "print(history_simple.epoch)"
   ]
  },
  {
   "cell_type": "markdown",
   "metadata": {},
   "source": [
    "Training keys of the metrics"
   ]
  },
  {
   "cell_type": "code",
   "execution_count": 47,
   "metadata": {
    "ExecuteTime": {
     "end_time": "2021-06-26T09:33:25.934745Z",
     "start_time": "2021-06-26T09:33:25.930804Z"
    }
   },
   "outputs": [
    {
     "data": {
      "text/plain": [
       "dict_keys(['loss', 'accuracy', 'val_loss', 'val_accuracy'])"
      ]
     },
     "execution_count": 47,
     "metadata": {},
     "output_type": "execute_result"
    }
   ],
   "source": [
    "history_simple.history.keys()"
   ]
  },
  {
   "cell_type": "markdown",
   "metadata": {},
   "source": [
    "Train evaluation though the epochs"
   ]
  },
  {
   "cell_type": "code",
   "execution_count": 48,
   "metadata": {
    "ExecuteTime": {
     "end_time": "2021-06-26T09:33:26.165834Z",
     "start_time": "2021-06-26T09:33:25.936604Z"
    }
   },
   "outputs": [
    {
     "data": {
      "image/png": "[encoded data removed]",
      "text/plain": [
       "<Figure size 576x360 with 1 Axes>"
      ]
     },
     "metadata": {
      "needs_background": "light"
     },
     "output_type": "display_data"
    }
   ],
   "source": [
    "pd.DataFrame(history_simple.history).plot(figsize=(8, 5))\n",
    "plt.grid(True)\n",
    "plt.gca().set_ylim(0, 1)\n",
    "plt.show()"
   ]
  },
  {
   "cell_type": "markdown",
   "metadata": {},
   "source": [
    "## Evaluate the model on the Test data"
   ]
  },
  {
   "cell_type": "markdown",
   "metadata": {},
   "source": [
    "**Model accuracy**\n",
    "\n",
    "Evaluate on test data"
   ]
  },
  {
   "cell_type": "code",
   "execution_count": 49,
   "metadata": {
    "ExecuteTime": {
     "end_time": "2021-06-26T09:33:26.774651Z",
     "start_time": "2021-06-26T09:33:26.168007Z"
    }
   },
   "outputs": [
    {
     "name": "stdout",
     "output_type": "stream",
     "text": [
      "313/313 [==============================] - 0s 916us/step - loss: 69.7397 - accuracy: 0.8364\n"
     ]
    }
   ],
   "source": [
    "loss, accuracy = model_simple.evaluate(X_test, y_test)"
   ]
  },
  {
   "cell_type": "code",
   "execution_count": 50,
   "metadata": {
    "ExecuteTime": {
     "end_time": "2021-06-26T09:33:26.780286Z",
     "start_time": "2021-06-26T09:33:26.776663Z"
    }
   },
   "outputs": [
    {
     "name": "stdout",
     "output_type": "stream",
     "text": [
      "Accuracy: 83.640\n"
     ]
    }
   ],
   "source": [
    "print(\"Accuracy: %.3f\" % (accuracy * 100))"
   ]
  },
  {
   "cell_type": "markdown",
   "metadata": {},
   "source": [
    "Make the predictions based on the unseen test data"
   ]
  },
  {
   "cell_type": "code",
   "execution_count": 51,
   "metadata": {
    "ExecuteTime": {
     "end_time": "2021-06-26T09:33:27.210595Z",
     "start_time": "2021-06-26T09:33:26.783158Z"
    }
   },
   "outputs": [
    {
     "name": "stdout",
     "output_type": "stream",
     "text": [
      "313/313 [==============================] - 0s 450us/step\n"
     ]
    }
   ],
   "source": [
    "predictions_simple = np.argmax(model_simple.predict(X_test_normalized, verbose=1), axis=-1)"
   ]
  },
  {
   "cell_type": "markdown",
   "metadata": {},
   "source": [
    "Shape of predictions"
   ]
  },
  {
   "cell_type": "code",
   "execution_count": 52,
   "metadata": {
    "ExecuteTime": {
     "end_time": "2021-06-26T09:33:27.216311Z",
     "start_time": "2021-06-26T09:33:27.212391Z"
    }
   },
   "outputs": [
    {
     "data": {
      "text/plain": [
       "(10000,)"
      ]
     },
     "execution_count": 52,
     "metadata": {},
     "output_type": "execute_result"
    }
   ],
   "source": [
    "predictions_simple.shape"
   ]
  },
  {
   "cell_type": "markdown",
   "metadata": {},
   "source": [
    "Confusion matrix"
   ]
  },
  {
   "cell_type": "code",
   "execution_count": 53,
   "metadata": {
    "ExecuteTime": {
     "end_time": "2021-06-26T09:33:27.255872Z",
     "start_time": "2021-06-26T09:33:27.218839Z"
    }
   },
   "outputs": [
    {
     "name": "stdout",
     "output_type": "stream",
     "text": [
      "[[826   3  29  21   7   1 101   0  12   0]\n",
      " [  1 978   1  13   3   0   3   0   1   0]\n",
      " [ 13   0 770   8 149   1  58   0   1   0]\n",
      " [ 18   3  12 891  54   0  17   0   5   0]\n",
      " [  0   1  46  18 889   0  45   0   1   0]\n",
      " [  0   0   0   1   0 967   0  19   1  12]\n",
      " [ 80   0  71  35  78   0 722   0  14   0]\n",
      " [  0   0   0   0   0  13   0 973   1  13]\n",
      " [  5   1   4   2   5   2   1   3 977   0]\n",
      " [  1   0   0   0   0   8   0  52   0 939]]\n"
     ]
    }
   ],
   "source": [
    "print(confusion_matrix(y_test, predictions_simple))"
   ]
  },
  {
   "cell_type": "markdown",
   "metadata": {},
   "source": [
    "Classification report"
   ]
  },
  {
   "cell_type": "code",
   "execution_count": 54,
   "metadata": {
    "ExecuteTime": {
     "end_time": "2021-06-26T09:33:27.286524Z",
     "start_time": "2021-06-26T09:33:27.259248Z"
    }
   },
   "outputs": [
    {
     "name": "stdout",
     "output_type": "stream",
     "text": [
      "              precision    recall  f1-score   support\n",
      "\n",
      "           0       0.88      0.83      0.85      1000\n",
      "           1       0.99      0.98      0.98      1000\n",
      "           2       0.83      0.77      0.80      1000\n",
      "           3       0.90      0.89      0.90      1000\n",
      "           4       0.75      0.89      0.81      1000\n",
      "           5       0.97      0.97      0.97      1000\n",
      "           6       0.76      0.72      0.74      1000\n",
      "           7       0.93      0.97      0.95      1000\n",
      "           8       0.96      0.98      0.97      1000\n",
      "           9       0.97      0.94      0.96      1000\n",
      "\n",
      "    accuracy                           0.89     10000\n",
      "   macro avg       0.89      0.89      0.89     10000\n",
      "weighted avg       0.89      0.89      0.89     10000\n",
      "\n"
     ]
    }
   ],
   "source": [
    "print(classification_report(y_test, predictions_simple))"
   ]
  },
  {
   "cell_type": "markdown",
   "metadata": {},
   "source": [
    "## Predictions"
   ]
  },
  {
   "cell_type": "markdown",
   "metadata": {},
   "source": [
    "### Instance - Ankle boot"
   ]
  },
  {
   "cell_type": "code",
   "execution_count": 55,
   "metadata": {
    "ExecuteTime": {
     "end_time": "2021-06-26T09:33:27.335274Z",
     "start_time": "2021-06-26T09:33:27.288748Z"
    }
   },
   "outputs": [
    {
     "data": {
      "text/plain": [
       "array([[0.  , 0.  , 0.  , 0.  , 0.  , 0.  , 0.  , 0.01, 0.  , 0.99]],\n",
       "      dtype=float32)"
      ]
     },
     "execution_count": 55,
     "metadata": {},
     "output_type": "execute_result"
    }
   ],
   "source": [
    "y_proba_softmax = model_simple.predict(X_test_normalized[0:1])\n",
    "y_proba_softmax.round(2)"
   ]
  },
  {
   "cell_type": "code",
   "execution_count": 56,
   "metadata": {
    "ExecuteTime": {
     "end_time": "2021-06-26T09:33:27.387252Z",
     "start_time": "2021-06-26T09:33:27.337984Z"
    },
    "scrolled": true
   },
   "outputs": [
    {
     "data": {
      "text/plain": [
       "array([9])"
      ]
     },
     "execution_count": 56,
     "metadata": {},
     "output_type": "execute_result"
    }
   ],
   "source": [
    "y_pred = np.argmax(model_simple.predict(X_test_normalized[0:1]), axis=-1)\n",
    "y_pred"
   ]
  },
  {
   "cell_type": "code",
   "execution_count": 57,
   "metadata": {
    "ExecuteTime": {
     "end_time": "2021-06-26T09:33:27.393855Z",
     "start_time": "2021-06-26T09:33:27.389310Z"
    }
   },
   "outputs": [
    {
     "data": {
      "text/plain": [
       "array(['Ankle boot'], dtype='<U11')"
      ]
     },
     "execution_count": 57,
     "metadata": {},
     "output_type": "execute_result"
    }
   ],
   "source": [
    "np.array(class_names)[y_pred]"
   ]
  },
  {
   "cell_type": "markdown",
   "metadata": {},
   "source": [
    "### Instance - Coat"
   ]
  },
  {
   "cell_type": "code",
   "execution_count": 58,
   "metadata": {
    "ExecuteTime": {
     "end_time": "2021-06-26T09:33:27.437169Z",
     "start_time": "2021-06-26T09:33:27.396336Z"
    }
   },
   "outputs": [
    {
     "data": {
      "text/plain": [
       "array([[0.  , 0.  , 0.05, 0.  , 0.94, 0.  , 0.01, 0.  , 0.  , 0.  ]],\n",
       "      dtype=float32)"
      ]
     },
     "execution_count": 58,
     "metadata": {},
     "output_type": "execute_result"
    }
   ],
   "source": [
    "y_proba_softmax = model_simple.predict(X_test_normalized[10:11])\n",
    "y_proba_softmax.round(2)"
   ]
  },
  {
   "cell_type": "code",
   "execution_count": 59,
   "metadata": {
    "ExecuteTime": {
     "end_time": "2021-06-26T09:33:27.483278Z",
     "start_time": "2021-06-26T09:33:27.439386Z"
    },
    "scrolled": true
   },
   "outputs": [
    {
     "data": {
      "text/plain": [
       "array([4])"
      ]
     },
     "execution_count": 59,
     "metadata": {},
     "output_type": "execute_result"
    }
   ],
   "source": [
    "y_pred = np.argmax(model_simple.predict(X_test_normalized[10:11]), axis=-1)\n",
    "y_pred"
   ]
  },
  {
   "cell_type": "code",
   "execution_count": 60,
   "metadata": {
    "ExecuteTime": {
     "end_time": "2021-06-26T09:33:27.490483Z",
     "start_time": "2021-06-26T09:33:27.485842Z"
    }
   },
   "outputs": [
    {
     "data": {
      "text/plain": [
       "array(['Coat'], dtype='<U11')"
      ]
     },
     "execution_count": 60,
     "metadata": {},
     "output_type": "execute_result"
    }
   ],
   "source": [
    "np.array(class_names)[y_pred]"
   ]
  },
  {
   "cell_type": "markdown",
   "metadata": {},
   "source": [
    "### Make a prediction for a batch of instances"
   ]
  },
  {
   "cell_type": "code",
   "execution_count": 61,
   "metadata": {
    "ExecuteTime": {
     "end_time": "2021-06-25T14:26:25.526157Z",
     "start_time": "2021-06-25T14:26:25.523167Z"
    }
   },
   "outputs": [
    {
     "data": {
      "text/plain": [
       "['T-shirt/top',\n",
       " 'Trouser',\n",
       " 'Pullover',\n",
       " 'Dress',\n",
       " 'Coat',\n",
       " 'Sandal',\n",
       " 'Shirt',\n",
       " 'Sneaker',\n",
       " 'Bag',\n",
       " 'Ankle boot']"
      ]
     },
     "execution_count": 61,
     "metadata": {},
     "output_type": "execute_result"
    }
   ],
   "source": [
    "class_names"
   ]
  },
  {
   "cell_type": "code",
   "execution_count": 62,
   "metadata": {
    "ExecuteTime": {
     "end_time": "2021-06-25T14:27:04.498298Z",
     "start_time": "2021-06-25T14:27:04.493768Z"
    }
   },
   "outputs": [
    {
     "data": {
      "text/plain": [
       "array([0, 1, 2, 3, 4, 5, 6, 7, 8, 9], dtype=uint8)"
      ]
     },
     "execution_count": 62,
     "metadata": {},
     "output_type": "execute_result"
    }
   ],
   "source": [
    "np.unique(y_train)"
   ]
  },
  {
   "cell_type": "code",
   "execution_count": 63,
   "metadata": {
    "ExecuteTime": {
     "end_time": "2021-06-25T11:49:46.534928Z",
     "start_time": "2021-06-25T11:49:46.531494Z"
    }
   },
   "outputs": [
    {
     "data": {
      "text/plain": [
       "[3, 4, 5, 6]"
      ]
     },
     "execution_count": 63,
     "metadata": {},
     "output_type": "execute_result"
    }
   ],
   "source": [
    "test_indices = range(3,7)\n",
    "list(test_indices)"
   ]
  },
  {
   "cell_type": "code",
   "execution_count": 64,
   "metadata": {
    "ExecuteTime": {
     "end_time": "2021-06-25T11:49:46.713315Z",
     "start_time": "2021-06-25T11:49:46.536648Z"
    }
   },
   "outputs": [
    {
     "data": {
      "image/png": "[encoded data removed]",
      "text/plain": [
       "<Figure size 518.4x172.8 with 4 Axes>"
      ]
     },
     "metadata": {
      "needs_background": "light"
     },
     "output_type": "display_data"
    }
   ],
   "source": [
    "plt.figure(figsize=(7.2, 2.4))\n",
    "for index, image_number in enumerate(list(test_indices)):\n",
    "    plt.subplot(1, 4, index + 1)\n",
    "    plt.imshow(X_test_normalized[image_number], cmap=\"binary\", interpolation=\"nearest\")\n",
    "    plt.axis('off')\n",
    "    plt.title(class_names[y_test[image_number]], fontsize=12)\n",
    "plt.subplots_adjust(wspace=0.2, hspace=0.5)\n",
    "plt.show()"
   ]
  },
  {
   "cell_type": "code",
   "execution_count": 65,
   "metadata": {
    "ExecuteTime": {
     "end_time": "2021-06-25T11:49:46.718701Z",
     "start_time": "2021-06-25T11:49:46.714848Z"
    }
   },
   "outputs": [
    {
     "data": {
      "text/plain": [
       "array([1, 6, 1, 4], dtype=uint8)"
      ]
     },
     "execution_count": 65,
     "metadata": {},
     "output_type": "execute_result"
    }
   ],
   "source": [
    "y_test[3:7]"
   ]
  },
  {
   "cell_type": "markdown",
   "metadata": {},
   "source": [
    "Make the predictions"
   ]
  },
  {
   "cell_type": "code",
   "execution_count": 66,
   "metadata": {
    "ExecuteTime": {
     "end_time": "2021-06-25T11:49:46.755001Z",
     "start_time": "2021-06-25T11:49:46.720232Z"
    }
   },
   "outputs": [
    {
     "data": {
      "text/plain": [
       "array([[0.  , 1.  , 0.  , 0.  , 0.  , 0.  , 0.  , 0.  , 0.  , 0.  ],\n",
       "       [0.05, 0.  , 0.  , 0.  , 0.  , 0.  , 0.95, 0.  , 0.  , 0.  ],\n",
       "       [0.  , 1.  , 0.  , 0.  , 0.  , 0.  , 0.  , 0.  , 0.  , 0.  ],\n",
       "       [0.  , 0.  , 0.  , 0.  , 1.  , 0.  , 0.  , 0.  , 0.  , 0.  ]],\n",
       "      dtype=float32)"
      ]
     },
     "execution_count": 66,
     "metadata": {},
     "output_type": "execute_result"
    }
   ],
   "source": [
    "y_proba_softmax = model_simple.predict(X_test_normalized[3:7])\n",
    "y_proba_softmax.round(2)"
   ]
  },
  {
   "cell_type": "code",
   "execution_count": 67,
   "metadata": {
    "ExecuteTime": {
     "end_time": "2021-06-25T11:49:46.789122Z",
     "start_time": "2021-06-25T11:49:46.756380Z"
    }
   },
   "outputs": [
    {
     "data": {
      "text/plain": [
       "array([1, 6, 1, 4])"
      ]
     },
     "execution_count": 67,
     "metadata": {},
     "output_type": "execute_result"
    }
   ],
   "source": [
    "y_pred = np.argmax(model_simple.predict(X_test_normalized[3:7]), axis=-1)\n",
    "y_pred"
   ]
  },
  {
   "cell_type": "code",
   "execution_count": 68,
   "metadata": {
    "ExecuteTime": {
     "end_time": "2021-06-25T11:49:46.794076Z",
     "start_time": "2021-06-25T11:49:46.790598Z"
    }
   },
   "outputs": [
    {
     "data": {
      "text/plain": [
       "array(['Trouser', 'Shirt', 'Trouser', 'Coat'], dtype='<U11')"
      ]
     },
     "execution_count": 68,
     "metadata": {},
     "output_type": "execute_result"
    }
   ],
   "source": [
    "np.array(class_names)[y_pred]"
   ]
  },
  {
   "cell_type": "markdown",
   "metadata": {},
   "source": []
  },
  {
   "cell_type": "markdown",
   "metadata": {},
   "source": [
    "# Simple Model with Dropouts"
   ]
  },
  {
   "cell_type": "markdown",
   "metadata": {},
   "source": [
    "Reset all state generated by Keras"
   ]
  },
  {
   "cell_type": "code",
   "execution_count": 69,
   "metadata": {
    "ExecuteTime": {
     "end_time": "2021-06-26T09:33:27.495171Z",
     "start_time": "2021-06-26T09:33:27.492489Z"
    }
   },
   "outputs": [],
   "source": [
    "keras.backend.clear_session()"
   ]
  },
  {
   "cell_type": "markdown",
   "metadata": {},
   "source": [
    "## Build and Train the model"
   ]
  },
  {
   "cell_type": "markdown",
   "metadata": {},
   "source": [
    "Add Dropout layers"
   ]
  },
  {
   "cell_type": "code",
   "execution_count": 70,
   "metadata": {
    "ExecuteTime": {
     "end_time": "2021-06-26T09:33:27.540828Z",
     "start_time": "2021-06-26T09:33:27.497615Z"
    }
   },
   "outputs": [],
   "source": [
    "model_simple_drp = keras.models.Sequential([\n",
    "    keras.layers.Flatten(input_shape=[28, 28]),\n",
    "    keras.layers.Dropout(rate=0.2),\n",
    "    keras.layers.Dense(300, activation=\"relu\", kernel_initializer=\"he_normal\"),\n",
    "    keras.layers.Dropout(rate=0.2),\n",
    "    keras.layers.Dense(100, activation=\"relu\", kernel_initializer=\"he_normal\"),\n",
    "    keras.layers.Dropout(rate=0.2),\n",
    "    keras.layers.Dense(10, activation=\"softmax\")\n",
    "])"
   ]
  },
  {
   "cell_type": "markdown",
   "metadata": {},
   "source": [
    "Compile the model"
   ]
  },
  {
   "cell_type": "code",
   "execution_count": 71,
   "metadata": {
    "ExecuteTime": {
     "end_time": "2021-06-26T09:33:27.549159Z",
     "start_time": "2021-06-26T09:33:27.542616Z"
    }
   },
   "outputs": [],
   "source": [
    "model_simple_drp.compile(loss=model_params[\"loss\"], \n",
    "                         optimizer=model_params[\"optimizer\"], \n",
    "                         metrics=model_params[\"metrics\"])"
   ]
  },
  {
   "cell_type": "markdown",
   "metadata": {},
   "source": [
    "Train the model"
   ]
  },
  {
   "cell_type": "code",
   "execution_count": 72,
   "metadata": {
    "ExecuteTime": {
     "end_time": "2021-06-26T09:34:38.925321Z",
     "start_time": "2021-06-26T09:33:27.551294Z"
    },
    "scrolled": true
   },
   "outputs": [
    {
     "name": "stdout",
     "output_type": "stream",
     "text": [
      "Epoch 1/20\n",
      "1719/1719 [==============================] - 3s 2ms/step - loss: 0.7988 - accuracy: 0.7095 - val_loss: 0.4204 - val_accuracy: 0.8502\n",
      "Epoch 2/20\n",
      "1719/1719 [==============================] - 3s 2ms/step - loss: 0.4951 - accuracy: 0.8170 - val_loss: 0.3831 - val_accuracy: 0.8604\n",
      "Epoch 3/20\n",
      "1719/1719 [==============================] - 3s 2ms/step - loss: 0.4537 - accuracy: 0.8351 - val_loss: 0.3648 - val_accuracy: 0.8692\n",
      "Epoch 4/20\n",
      "1719/1719 [==============================] - 3s 2ms/step - loss: 0.4279 - accuracy: 0.8409 - val_loss: 0.3391 - val_accuracy: 0.8774\n",
      "Epoch 5/20\n",
      "1719/1719 [==============================] - 3s 2ms/step - loss: 0.4129 - accuracy: 0.8464 - val_loss: 0.3294 - val_accuracy: 0.8786\n",
      "Epoch 6/20\n",
      "1719/1719 [==============================] - 3s 2ms/step - loss: 0.3915 - accuracy: 0.8578 - val_loss: 0.3280 - val_accuracy: 0.8794\n",
      "Epoch 7/20\n",
      "1719/1719 [==============================] - 3s 2ms/step - loss: 0.3825 - accuracy: 0.8588 - val_loss: 0.3274 - val_accuracy: 0.8822\n",
      "Epoch 8/20\n",
      "1719/1719 [==============================] - 3s 2ms/step - loss: 0.3693 - accuracy: 0.8647 - val_loss: 0.3184 - val_accuracy: 0.8840\n",
      "Epoch 9/20\n",
      "1719/1719 [==============================] - 3s 2ms/step - loss: 0.3650 - accuracy: 0.8634 - val_loss: 0.3175 - val_accuracy: 0.8836\n",
      "Epoch 10/20\n",
      "1719/1719 [==============================] - 3s 2ms/step - loss: 0.3569 - accuracy: 0.8658 - val_loss: 0.3017 - val_accuracy: 0.8864\n",
      "Epoch 11/20\n",
      "1719/1719 [==============================] - 3s 2ms/step - loss: 0.3468 - accuracy: 0.8687 - val_loss: 0.2995 - val_accuracy: 0.8854\n",
      "Epoch 12/20\n",
      "1719/1719 [==============================] - 3s 2ms/step - loss: 0.3419 - accuracy: 0.8716 - val_loss: 0.2996 - val_accuracy: 0.8880\n",
      "Epoch 13/20\n",
      "1719/1719 [==============================] - 3s 2ms/step - loss: 0.3428 - accuracy: 0.8713 - val_loss: 0.3006 - val_accuracy: 0.8904\n",
      "Epoch 14/20\n",
      "1719/1719 [==============================] - 3s 2ms/step - loss: 0.3363 - accuracy: 0.8736 - val_loss: 0.3075 - val_accuracy: 0.8888\n",
      "Epoch 15/20\n",
      "1719/1719 [==============================] - 3s 2ms/step - loss: 0.3352 - accuracy: 0.8740 - val_loss: 0.3029 - val_accuracy: 0.8894\n",
      "Epoch 16/20\n",
      "1719/1719 [==============================] - 3s 2ms/step - loss: 0.3261 - accuracy: 0.8757 - val_loss: 0.2868 - val_accuracy: 0.8958\n",
      "Epoch 17/20\n",
      "1719/1719 [==============================] - 3s 2ms/step - loss: 0.3173 - accuracy: 0.8797 - val_loss: 0.3004 - val_accuracy: 0.8844\n",
      "Epoch 18/20\n",
      "1719/1719 [==============================] - 3s 2ms/step - loss: 0.3224 - accuracy: 0.8779 - val_loss: 0.2921 - val_accuracy: 0.8932\n",
      "Epoch 19/20\n",
      "1719/1719 [==============================] - 3s 2ms/step - loss: 0.3219 - accuracy: 0.8783 - val_loss: 0.2923 - val_accuracy: 0.8926\n",
      "Epoch 20/20\n",
      "1719/1719 [==============================] - 3s 2ms/step - loss: 0.3168 - accuracy: 0.8820 - val_loss: 0.2895 - val_accuracy: 0.8898\n"
     ]
    }
   ],
   "source": [
    "history_simple_drp = model_simple_drp.fit(X_train_normalized, y_train, epochs=model_params[\"n_epochs\"], \n",
    "                                          validation_data=(X_valid_normalized, y_valid))"
   ]
  },
  {
   "cell_type": "code",
   "execution_count": 73,
   "metadata": {
    "ExecuteTime": {
     "end_time": "2021-06-26T09:34:39.144364Z",
     "start_time": "2021-06-26T09:34:38.927513Z"
    }
   },
   "outputs": [
    {
     "data": {
      "image/png": "[encoded data removed]",
      "text/plain": [
       "<Figure size 576x360 with 1 Axes>"
      ]
     },
     "metadata": {
      "needs_background": "light"
     },
     "output_type": "display_data"
    }
   ],
   "source": [
    "pd.DataFrame(history_simple_drp.history).plot(figsize=(8, 5))\n",
    "plt.grid(True)\n",
    "plt.gca().set_ylim(0, 1)\n",
    "plt.show()"
   ]
  },
  {
   "cell_type": "markdown",
   "metadata": {},
   "source": [
    "## Evaluate the model on the Test data"
   ]
  },
  {
   "cell_type": "code",
   "execution_count": 74,
   "metadata": {
    "ExecuteTime": {
     "end_time": "2021-06-26T09:34:39.758589Z",
     "start_time": "2021-06-26T09:34:39.146542Z"
    }
   },
   "outputs": [
    {
     "name": "stdout",
     "output_type": "stream",
     "text": [
      "313/313 [==============================] - 0s 939us/step - loss: 35.2466 - accuracy: 0.8411\n"
     ]
    }
   ],
   "source": [
    "loss, accuracy = model_simple_drp.evaluate(X_test, y_test)"
   ]
  },
  {
   "cell_type": "code",
   "execution_count": 75,
   "metadata": {
    "ExecuteTime": {
     "end_time": "2021-06-26T09:34:39.764821Z",
     "start_time": "2021-06-26T09:34:39.760970Z"
    }
   },
   "outputs": [
    {
     "name": "stdout",
     "output_type": "stream",
     "text": [
      "Accuracy: 84.110\n"
     ]
    }
   ],
   "source": [
    "print(\"Accuracy: %.3f\" % (accuracy * 100))"
   ]
  },
  {
   "cell_type": "markdown",
   "metadata": {},
   "source": [
    "## Predictions"
   ]
  },
  {
   "cell_type": "markdown",
   "metadata": {},
   "source": [
    "### Instance - Ankle boot"
   ]
  },
  {
   "cell_type": "code",
   "execution_count": 76,
   "metadata": {
    "ExecuteTime": {
     "end_time": "2021-06-26T09:34:39.847152Z",
     "start_time": "2021-06-26T09:34:39.767218Z"
    }
   },
   "outputs": [
    {
     "data": {
      "text/plain": [
       "array([[0.  , 0.  , 0.  , 0.  , 0.  , 0.  , 0.  , 0.04, 0.  , 0.96]],\n",
       "      dtype=float32)"
      ]
     },
     "execution_count": 76,
     "metadata": {},
     "output_type": "execute_result"
    }
   ],
   "source": [
    "y_proba_softmax = model_simple_drp.predict(X_test_normalized[0:1])\n",
    "y_proba_softmax.round(2)"
   ]
  },
  {
   "cell_type": "code",
   "execution_count": 77,
   "metadata": {
    "ExecuteTime": {
     "end_time": "2021-06-26T09:34:39.903573Z",
     "start_time": "2021-06-26T09:34:39.860399Z"
    },
    "scrolled": true
   },
   "outputs": [
    {
     "data": {
      "text/plain": [
       "array([9])"
      ]
     },
     "execution_count": 77,
     "metadata": {},
     "output_type": "execute_result"
    }
   ],
   "source": [
    "y_pred = np.argmax(model_simple_drp.predict(X_test_normalized[0:1]), axis=-1)\n",
    "y_pred"
   ]
  },
  {
   "cell_type": "code",
   "execution_count": 78,
   "metadata": {
    "ExecuteTime": {
     "end_time": "2021-06-26T09:34:39.911164Z",
     "start_time": "2021-06-26T09:34:39.907575Z"
    }
   },
   "outputs": [
    {
     "data": {
      "text/plain": [
       "array(['Ankle boot'], dtype='<U11')"
      ]
     },
     "execution_count": 78,
     "metadata": {},
     "output_type": "execute_result"
    }
   ],
   "source": [
    "np.array(class_names)[y_pred]"
   ]
  },
  {
   "cell_type": "markdown",
   "metadata": {},
   "source": [
    "### Instance - Coat"
   ]
  },
  {
   "cell_type": "code",
   "execution_count": 79,
   "metadata": {
    "ExecuteTime": {
     "end_time": "2021-06-26T09:34:39.956419Z",
     "start_time": "2021-06-26T09:34:39.914245Z"
    }
   },
   "outputs": [
    {
     "data": {
      "text/plain": [
       "array([[0.  , 0.  , 0.07, 0.  , 0.89, 0.  , 0.04, 0.  , 0.  , 0.  ]],\n",
       "      dtype=float32)"
      ]
     },
     "execution_count": 79,
     "metadata": {},
     "output_type": "execute_result"
    }
   ],
   "source": [
    "y_proba_softmax = model_simple_drp.predict(X_test_normalized[10:11])\n",
    "y_proba_softmax.round(2)"
   ]
  },
  {
   "cell_type": "code",
   "execution_count": 80,
   "metadata": {
    "ExecuteTime": {
     "end_time": "2021-06-26T09:34:40.002104Z",
     "start_time": "2021-06-26T09:34:39.958888Z"
    },
    "scrolled": true
   },
   "outputs": [
    {
     "data": {
      "text/plain": [
       "array([4])"
      ]
     },
     "execution_count": 80,
     "metadata": {},
     "output_type": "execute_result"
    }
   ],
   "source": [
    "y_pred = np.argmax(model_simple_drp.predict(X_test_normalized[10:11]), axis=-1)\n",
    "y_pred"
   ]
  },
  {
   "cell_type": "code",
   "execution_count": 81,
   "metadata": {
    "ExecuteTime": {
     "end_time": "2021-06-26T09:34:40.008056Z",
     "start_time": "2021-06-26T09:34:40.004087Z"
    }
   },
   "outputs": [
    {
     "data": {
      "text/plain": [
       "array(['Coat'], dtype='<U11')"
      ]
     },
     "execution_count": 81,
     "metadata": {},
     "output_type": "execute_result"
    }
   ],
   "source": [
    "np.array(class_names)[y_pred]"
   ]
  },
  {
   "cell_type": "code",
   "execution_count": null,
   "metadata": {},
   "outputs": [],
   "source": []
  },
  {
   "cell_type": "markdown",
   "metadata": {},
   "source": [
    "# Simple model with Dropout -  Enable MC Dropout in predictions"
   ]
  },
  {
   "cell_type": "markdown",
   "metadata": {},
   "source": [
    "## Do the Monte Carlo Dropout \"trick\" by setting the `training` to `True`\n",
    "\n",
    "**Do also:**\n",
    "- a) make 100 predictions over the test set\n",
    "- b) stack the predictions\n"
   ]
  },
  {
   "cell_type": "code",
   "execution_count": 82,
   "metadata": {
    "ExecuteTime": {
     "end_time": "2021-06-26T09:34:54.678116Z",
     "start_time": "2021-06-26T09:34:40.010682Z"
    }
   },
   "outputs": [
    {
     "data": {
      "application/vnd.jupyter.widget-view+json": {
       "model_id": "ff5604d4741f471cb5f695e0fe8b5bcd",
       "version_major": 2,
       "version_minor": 0
      },
      "text/plain": [
       "HBox(children=(HTML(value=''), FloatProgress(value=0.0), HTML(value='')))"
      ]
     },
     "metadata": {},
     "output_type": "display_data"
    },
    {
     "name": "stdout",
     "output_type": "stream",
     "text": [
      "\n"
     ]
    }
   ],
   "source": [
    "y_probas = np.stack([model_simple_drp(X_test_normalized, training=True) for sample in tqdm(range(100))])"
   ]
  },
  {
   "cell_type": "markdown",
   "metadata": {},
   "source": [
    "**For each instance of the test set, compute the mean of the 100 exported probabilities, as well as the standard deviation**"
   ]
  },
  {
   "cell_type": "code",
   "execution_count": 83,
   "metadata": {
    "ExecuteTime": {
     "end_time": "2021-06-26T09:34:54.691116Z",
     "start_time": "2021-06-26T09:34:54.680247Z"
    }
   },
   "outputs": [],
   "source": [
    "y_proba = y_probas.mean(axis=0)"
   ]
  },
  {
   "cell_type": "code",
   "execution_count": 84,
   "metadata": {
    "ExecuteTime": {
     "end_time": "2021-06-26T09:34:54.735120Z",
     "start_time": "2021-06-26T09:34:54.693354Z"
    }
   },
   "outputs": [],
   "source": [
    "y_std = y_probas.std(axis=0)"
   ]
  },
  {
   "cell_type": "markdown",
   "metadata": {},
   "source": [
    "## Predictions"
   ]
  },
  {
   "cell_type": "markdown",
   "metadata": {},
   "source": [
    "### Instance - Ankle boot"
   ]
  },
  {
   "cell_type": "markdown",
   "metadata": {},
   "source": [
    "Predict the same instance again as previously with `softmax` and the `dropout` **off**. It is the same as the section above and it is presented to see the difference in the predictions."
   ]
  },
  {
   "cell_type": "code",
   "execution_count": 85,
   "metadata": {
    "ExecuteTime": {
     "end_time": "2021-06-26T09:34:54.780549Z",
     "start_time": "2021-06-26T09:34:54.736764Z"
    }
   },
   "outputs": [
    {
     "data": {
      "text/plain": [
       "array([[0.  , 0.  , 0.  , 0.  , 0.  , 0.  , 0.  , 0.04, 0.  , 0.96]],\n",
       "      dtype=float32)"
      ]
     },
     "execution_count": 85,
     "metadata": {},
     "output_type": "execute_result"
    }
   ],
   "source": [
    "y_proba_softmax = model_simple_drp.predict(X_test_normalized[0:1])\n",
    "y_proba_softmax.round(2)"
   ]
  },
  {
   "cell_type": "markdown",
   "metadata": {},
   "source": [
    "Print the first 3 probabilities' distribution from the 100 predicted outputs of that instance"
   ]
  },
  {
   "cell_type": "code",
   "execution_count": 86,
   "metadata": {
    "ExecuteTime": {
     "end_time": "2021-06-26T09:34:54.788467Z",
     "start_time": "2021-06-26T09:34:54.783073Z"
    }
   },
   "outputs": [
    {
     "data": {
      "text/plain": [
       "array([[[0.  , 0.  , 0.  , 0.  , 0.  , 0.  , 0.  , 0.04, 0.  , 0.96]],\n",
       "\n",
       "       [[0.  , 0.  , 0.  , 0.  , 0.  , 0.  , 0.  , 0.03, 0.  , 0.97]],\n",
       "\n",
       "       [[0.  , 0.  , 0.  , 0.  , 0.  , 0.01, 0.  , 0.29, 0.  , 0.7 ]]],\n",
       "      dtype=float32)"
      ]
     },
     "execution_count": 86,
     "metadata": {},
     "output_type": "execute_result"
    }
   ],
   "source": [
    "np.round(y_probas[:, 0:1], 2)[:3]"
   ]
  },
  {
   "cell_type": "code",
   "execution_count": 87,
   "metadata": {
    "ExecuteTime": {
     "end_time": "2021-06-26T09:34:54.794678Z",
     "start_time": "2021-06-26T09:34:54.790648Z"
    }
   },
   "outputs": [
    {
     "name": "stdout",
     "output_type": "stream",
     "text": [
      "Shape of the 100 probability predictions for this instance: (100, 1, 10)\n"
     ]
    }
   ],
   "source": [
    "print(\"Shape of the 100 probability predictions for this instance:\", np.round(y_probas[:, 10:11], 2).shape)"
   ]
  },
  {
   "cell_type": "markdown",
   "metadata": {},
   "source": [
    "**Predict the class for this instance**\n",
    "\n",
    "This step is critical as it is also useful to know exactly which other classes it thinks are likely."
   ]
  },
  {
   "cell_type": "code",
   "execution_count": 88,
   "metadata": {
    "ExecuteTime": {
     "end_time": "2021-06-26T09:34:54.801935Z",
     "start_time": "2021-06-26T09:34:54.796748Z"
    }
   },
   "outputs": [
    {
     "data": {
      "text/plain": [
       "array([[0.  , 0.  , 0.  , 0.  , 0.  , 0.01, 0.  , 0.1 , 0.  , 0.89]],\n",
       "      dtype=float32)"
      ]
     },
     "execution_count": 88,
     "metadata": {},
     "output_type": "execute_result"
    }
   ],
   "source": [
    "np.round(y_proba[0:1], 2)"
   ]
  },
  {
   "cell_type": "markdown",
   "metadata": {},
   "source": [
    "Take a look at the standard deviation of the probability estimates for this istance"
   ]
  },
  {
   "cell_type": "code",
   "execution_count": 89,
   "metadata": {
    "ExecuteTime": {
     "end_time": "2021-06-26T09:34:54.809649Z",
     "start_time": "2021-06-26T09:34:54.804268Z"
    }
   },
   "outputs": [
    {
     "data": {
      "text/plain": [
       "array([[0.  , 0.  , 0.  , 0.  , 0.  , 0.02, 0.  , 0.1 , 0.  , 0.1 ]],\n",
       "      dtype=float32)"
      ]
     },
     "execution_count": 89,
     "metadata": {},
     "output_type": "execute_result"
    }
   ],
   "source": [
    "np.round(y_std[0:1], 2)"
   ]
  },
  {
   "cell_type": "markdown",
   "metadata": {},
   "source": [
    "### Instance - Coat"
   ]
  },
  {
   "cell_type": "markdown",
   "metadata": {},
   "source": [
    "Predict the same instance again as previously with `softmax` and the `dropout` **off**. It is the same as the section above and it is presented to see the difference in the predictions."
   ]
  },
  {
   "cell_type": "code",
   "execution_count": 90,
   "metadata": {
    "ExecuteTime": {
     "end_time": "2021-06-26T09:34:54.855286Z",
     "start_time": "2021-06-26T09:34:54.812162Z"
    }
   },
   "outputs": [
    {
     "data": {
      "text/plain": [
       "array([[0.  , 0.  , 0.07, 0.  , 0.89, 0.  , 0.04, 0.  , 0.  , 0.  ]],\n",
       "      dtype=float32)"
      ]
     },
     "execution_count": 90,
     "metadata": {},
     "output_type": "execute_result"
    }
   ],
   "source": [
    "y_proba_softmax = model_simple_drp.predict(X_test_normalized[10:11])\n",
    "y_proba_softmax.round(2)"
   ]
  },
  {
   "cell_type": "markdown",
   "metadata": {},
   "source": [
    "Print the first 3 probabilities' distribution from the 100 predicted outputs of that instance"
   ]
  },
  {
   "cell_type": "code",
   "execution_count": 91,
   "metadata": {
    "ExecuteTime": {
     "end_time": "2021-06-26T09:34:54.862781Z",
     "start_time": "2021-06-26T09:34:54.857408Z"
    }
   },
   "outputs": [
    {
     "data": {
      "text/plain": [
       "array([[[0.  , 0.  , 0.06, 0.  , 0.92, 0.  , 0.03, 0.  , 0.  , 0.  ]],\n",
       "\n",
       "       [[0.  , 0.  , 0.14, 0.  , 0.83, 0.  , 0.03, 0.  , 0.  , 0.  ]],\n",
       "\n",
       "       [[0.  , 0.  , 0.01, 0.  , 0.97, 0.  , 0.01, 0.  , 0.  , 0.  ]]],\n",
       "      dtype=float32)"
      ]
     },
     "execution_count": 91,
     "metadata": {},
     "output_type": "execute_result"
    }
   ],
   "source": [
    "np.round(y_probas[:, 10:11], 2)[:3]"
   ]
  },
  {
   "cell_type": "code",
   "execution_count": 92,
   "metadata": {
    "ExecuteTime": {
     "end_time": "2021-06-26T09:34:54.869964Z",
     "start_time": "2021-06-26T09:34:54.865560Z"
    }
   },
   "outputs": [
    {
     "name": "stdout",
     "output_type": "stream",
     "text": [
      "Shape of the 100 probability predictions for this instance: (100, 1, 10)\n"
     ]
    }
   ],
   "source": [
    "print(\"Shape of the 100 probability predictions for this instance:\", np.round(y_probas[:, 10:11], 2).shape)"
   ]
  },
  {
   "cell_type": "markdown",
   "metadata": {},
   "source": [
    "**Predict the class for this instance**\n",
    "\n",
    "This step is critical as it is also useful to know exactly which other classes it thinks are likely."
   ]
  },
  {
   "cell_type": "code",
   "execution_count": 93,
   "metadata": {
    "ExecuteTime": {
     "end_time": "2021-06-26T09:34:54.876957Z",
     "start_time": "2021-06-26T09:34:54.872299Z"
    }
   },
   "outputs": [
    {
     "data": {
      "text/plain": [
       "array([[0.  , 0.  , 0.11, 0.  , 0.85, 0.  , 0.05, 0.  , 0.  , 0.  ]],\n",
       "      dtype=float32)"
      ]
     },
     "execution_count": 93,
     "metadata": {},
     "output_type": "execute_result"
    }
   ],
   "source": [
    "np.round(y_proba[10:11], 2)"
   ]
  },
  {
   "cell_type": "markdown",
   "metadata": {},
   "source": [
    "Take a look at the standard deviation of the probability estimates for this istance"
   ]
  },
  {
   "cell_type": "code",
   "execution_count": 94,
   "metadata": {
    "ExecuteTime": {
     "end_time": "2021-06-26T09:34:54.884878Z",
     "start_time": "2021-06-26T09:34:54.879437Z"
    }
   },
   "outputs": [
    {
     "data": {
      "text/plain": [
       "array([[0.  , 0.  , 0.09, 0.  , 0.12, 0.  , 0.05, 0.  , 0.  , 0.  ]],\n",
       "      dtype=float32)"
      ]
     },
     "execution_count": 94,
     "metadata": {},
     "output_type": "execute_result"
    }
   ],
   "source": [
    "np.round(y_std[10:11], 2)"
   ]
  },
  {
   "cell_type": "markdown",
   "metadata": {},
   "source": [
    "## Evaluate the model on the Test data (with the probabilities this time)"
   ]
  },
  {
   "cell_type": "markdown",
   "metadata": {},
   "source": [
    "Hold the predicted classes by return the maximum value from each probability estimate"
   ]
  },
  {
   "cell_type": "code",
   "execution_count": 95,
   "metadata": {
    "ExecuteTime": {
     "end_time": "2021-06-26T09:34:54.890806Z",
     "start_time": "2021-06-26T09:34:54.887146Z"
    }
   },
   "outputs": [],
   "source": [
    "y_pred = np.argmax(y_proba, axis=1)"
   ]
  },
  {
   "cell_type": "code",
   "execution_count": 96,
   "metadata": {
    "ExecuteTime": {
     "end_time": "2021-06-26T09:34:54.896085Z",
     "start_time": "2021-06-26T09:34:54.892940Z"
    }
   },
   "outputs": [],
   "source": [
    "accuracy = np.sum(y_pred == y_test) / len(y_test)"
   ]
  },
  {
   "cell_type": "code",
   "execution_count": 97,
   "metadata": {
    "ExecuteTime": {
     "end_time": "2021-06-26T09:34:54.902545Z",
     "start_time": "2021-06-26T09:34:54.898744Z"
    }
   },
   "outputs": [
    {
     "name": "stdout",
     "output_type": "stream",
     "text": [
      "Accuracy: 88.070\n"
     ]
    }
   ],
   "source": [
    "print(\"Accuracy: %.3f\" % (accuracy * 100))"
   ]
  },
  {
   "cell_type": "markdown",
   "metadata": {},
   "source": [
    "**The model's accuracy got a little boost with this method**"
   ]
  },
  {
   "cell_type": "markdown",
   "metadata": {},
   "source": [
    "# MC Simple Model Dropout - Transfer the weights\n",
    "\n",
    "**a) Force the Dropout's `training` argument to `True` by overriding the `call()` method**\n",
    "\n",
    "**b) Replace the Dropout with the `MCDropout` method**\n",
    "\n",
    "**c) Get the weights from the previous model and set them to a new one**"
   ]
  },
  {
   "cell_type": "markdown",
   "metadata": {},
   "source": [
    "## Override the Dropout class to MCDropout"
   ]
  },
  {
   "cell_type": "code",
   "execution_count": 98,
   "metadata": {
    "ExecuteTime": {
     "end_time": "2021-06-26T09:34:54.908632Z",
     "start_time": "2021-06-26T09:34:54.904966Z"
    }
   },
   "outputs": [],
   "source": [
    "class MCDropout(keras.layers.Dropout):\n",
    "    def call(self, inputs):\n",
    "        return super().call(inputs, training=True)"
   ]
  },
  {
   "cell_type": "markdown",
   "metadata": {},
   "source": [
    "## Build the model"
   ]
  },
  {
   "cell_type": "markdown",
   "metadata": {},
   "source": [
    "**Because the model is already trained, the Dropout layers are replaced with the MCDropout, and the trained model's weights are set to the new model in order to run again the predictions**"
   ]
  },
  {
   "cell_type": "code",
   "execution_count": 99,
   "metadata": {
    "ExecuteTime": {
     "end_time": "2021-06-26T09:35:43.805052Z",
     "start_time": "2021-06-26T09:35:43.730482Z"
    }
   },
   "outputs": [],
   "source": [
    "mc_model_simple_drp = keras.models.Sequential([\n",
    "    MCDropout(layer.rate) if isinstance(layer, keras.layers.Dropout) else layer\n",
    "    for layer in model_simple_drp.layers\n",
    "])"
   ]
  },
  {
   "cell_type": "code",
   "execution_count": 100,
   "metadata": {
    "ExecuteTime": {
     "end_time": "2021-06-26T09:35:45.422369Z",
     "start_time": "2021-06-26T09:35:45.417755Z"
    }
   },
   "outputs": [
    {
     "name": "stdout",
     "output_type": "stream",
     "text": [
      "Model: \"sequential_1\"\n",
      "_________________________________________________________________\n",
      "Layer (type)                 Output Shape              Param #   \n",
      "=================================================================\n",
      "flatten (Flatten)            (None, 784)               0         \n",
      "_________________________________________________________________\n",
      "mc_dropout (MCDropout)       (None, 784)               0         \n",
      "_________________________________________________________________\n",
      "dense (Dense)                (None, 300)               235500    \n",
      "_________________________________________________________________\n",
      "mc_dropout_1 (MCDropout)     (None, 300)               0         \n",
      "_________________________________________________________________\n",
      "dense_1 (Dense)              (None, 100)               30100     \n",
      "_________________________________________________________________\n",
      "mc_dropout_2 (MCDropout)     (None, 100)               0         \n",
      "_________________________________________________________________\n",
      "dense_2 (Dense)              (None, 10)                1010      \n",
      "=================================================================\n",
      "Total params: 266,610\n",
      "Trainable params: 266,610\n",
      "Non-trainable params: 0\n",
      "_________________________________________________________________\n"
     ]
    }
   ],
   "source": [
    "mc_model_simple_drp.summary()"
   ]
  },
  {
   "cell_type": "code",
   "execution_count": 101,
   "metadata": {
    "ExecuteTime": {
     "end_time": "2021-06-26T09:35:49.870116Z",
     "start_time": "2021-06-26T09:35:49.862651Z"
    }
   },
   "outputs": [],
   "source": [
    "mc_model_simple_drp.compile(loss=model_params[\"loss\"], \n",
    "                            optimizer=model_params[\"optimizer\"], \n",
    "                            metrics=model_params[\"metrics\"])"
   ]
  },
  {
   "cell_type": "markdown",
   "metadata": {},
   "source": [
    "## Transfer the weights from the previous model"
   ]
  },
  {
   "cell_type": "markdown",
   "metadata": {},
   "source": [
    "Set the Monte Carlo updated model's weights with these from pre-trained one"
   ]
  },
  {
   "cell_type": "code",
   "execution_count": 102,
   "metadata": {
    "ExecuteTime": {
     "end_time": "2021-06-26T09:35:58.225276Z",
     "start_time": "2021-06-26T09:35:58.219557Z"
    }
   },
   "outputs": [],
   "source": [
    "mc_model_simple_drp.set_weights(model_simple_drp.get_weights())"
   ]
  },
  {
   "cell_type": "markdown",
   "metadata": {},
   "source": [
    "## Predictions"
   ]
  },
  {
   "cell_type": "code",
   "execution_count": 103,
   "metadata": {
    "ExecuteTime": {
     "end_time": "2021-06-26T09:36:03.252235Z",
     "start_time": "2021-06-26T09:36:03.248500Z"
    }
   },
   "outputs": [
    {
     "data": {
      "text/plain": [
       "['T-shirt/top',\n",
       " 'Trouser',\n",
       " 'Pullover',\n",
       " 'Dress',\n",
       " 'Coat',\n",
       " 'Sandal',\n",
       " 'Shirt',\n",
       " 'Sneaker',\n",
       " 'Bag',\n",
       " 'Ankle boot']"
      ]
     },
     "execution_count": 103,
     "metadata": {},
     "output_type": "execute_result"
    }
   ],
   "source": [
    "class_names"
   ]
  },
  {
   "cell_type": "markdown",
   "metadata": {},
   "source": [
    "Use the model straightforward with MC Dropout layer to predict the unique instance's class"
   ]
  },
  {
   "cell_type": "markdown",
   "metadata": {},
   "source": [
    "### Instance - Ankle Boot"
   ]
  },
  {
   "cell_type": "code",
   "execution_count": 104,
   "metadata": {
    "ExecuteTime": {
     "end_time": "2021-06-26T09:36:11.236221Z",
     "start_time": "2021-06-26T09:36:07.389060Z"
    }
   },
   "outputs": [
    {
     "data": {
      "application/vnd.jupyter.widget-view+json": {
       "model_id": "405f923c1382485897869b41e9fed1ec",
       "version_major": 2,
       "version_minor": 0
      },
      "text/plain": [
       "HBox(children=(HTML(value=''), FloatProgress(value=0.0), HTML(value='')))"
      ]
     },
     "metadata": {},
     "output_type": "display_data"
    },
    {
     "name": "stdout",
     "output_type": "stream",
     "text": [
      "\n"
     ]
    },
    {
     "data": {
      "text/plain": [
       "array([[0.  , 0.  , 0.  , 0.  , 0.  , 0.01, 0.  , 0.1 , 0.  , 0.89]],\n",
       "      dtype=float32)"
      ]
     },
     "execution_count": 104,
     "metadata": {},
     "output_type": "execute_result"
    }
   ],
   "source": [
    "np.round(np.mean([mc_model_simple_drp.predict(X_test_normalized[0:1]) \n",
    "                  for sample in tqdm(range(100))], axis=0), 2)"
   ]
  },
  {
   "cell_type": "markdown",
   "metadata": {},
   "source": [
    "### Instance - Coat"
   ]
  },
  {
   "cell_type": "code",
   "execution_count": 105,
   "metadata": {
    "ExecuteTime": {
     "end_time": "2021-06-26T09:36:17.894985Z",
     "start_time": "2021-06-26T09:36:13.813306Z"
    }
   },
   "outputs": [
    {
     "data": {
      "application/vnd.jupyter.widget-view+json": {
       "model_id": "a6d3922b7763481dac6fd3991b778cda",
       "version_major": 2,
       "version_minor": 0
      },
      "text/plain": [
       "HBox(children=(HTML(value=''), FloatProgress(value=0.0), HTML(value='')))"
      ]
     },
     "metadata": {},
     "output_type": "display_data"
    },
    {
     "name": "stdout",
     "output_type": "stream",
     "text": [
      "\n"
     ]
    },
    {
     "data": {
      "text/plain": [
       "array([[0.  , 0.  , 0.09, 0.  , 0.85, 0.  , 0.05, 0.  , 0.  , 0.  ]],\n",
       "      dtype=float32)"
      ]
     },
     "execution_count": 105,
     "metadata": {},
     "output_type": "execute_result"
    }
   ],
   "source": [
    "np.round(np.mean([mc_model_simple_drp.predict(X_test_normalized[10:11]) \n",
    "                  for sample in tqdm(range(100))], axis=0), 2)"
   ]
  },
  {
   "cell_type": "markdown",
   "metadata": {},
   "source": [
    "## Evaluate the model on the Test data (with the probabilities this time)"
   ]
  },
  {
   "cell_type": "code",
   "execution_count": 106,
   "metadata": {
    "ExecuteTime": {
     "end_time": "2021-06-26T09:54:49.311454Z",
     "start_time": "2021-06-26T09:54:36.688122Z"
    }
   },
   "outputs": [
    {
     "data": {
      "application/vnd.jupyter.widget-view+json": {
       "model_id": "2792c18cef0840769e0ab39d5bed761b",
       "version_major": 2,
       "version_minor": 0
      },
      "text/plain": [
       "HBox(children=(HTML(value=''), FloatProgress(value=0.0), HTML(value='')))"
      ]
     },
     "metadata": {},
     "output_type": "display_data"
    },
    {
     "name": "stdout",
     "output_type": "stream",
     "text": [
      "\n"
     ]
    }
   ],
   "source": [
    "y_probas = np.stack([mc_model_simple_drp(X_test_normalized, training=True) for sample in tqdm(range(100))])"
   ]
  },
  {
   "cell_type": "code",
   "execution_count": 107,
   "metadata": {
    "ExecuteTime": {
     "end_time": "2021-06-26T09:54:49.322732Z",
     "start_time": "2021-06-26T09:54:49.314404Z"
    }
   },
   "outputs": [],
   "source": [
    "y_proba = y_probas.mean(axis=0)"
   ]
  },
  {
   "cell_type": "code",
   "execution_count": 108,
   "metadata": {
    "ExecuteTime": {
     "end_time": "2021-06-26T09:54:49.352741Z",
     "start_time": "2021-06-26T09:54:49.325329Z"
    }
   },
   "outputs": [],
   "source": [
    "y_std = y_probas.std(axis=0)"
   ]
  },
  {
   "cell_type": "markdown",
   "metadata": {},
   "source": [
    "Hold the predicted classes by return the maximum value from each probability estimate"
   ]
  },
  {
   "cell_type": "code",
   "execution_count": 109,
   "metadata": {
    "ExecuteTime": {
     "end_time": "2021-06-26T09:54:49.358698Z",
     "start_time": "2021-06-26T09:54:49.354839Z"
    }
   },
   "outputs": [],
   "source": [
    "y_pred = np.argmax(y_proba, axis=1)"
   ]
  },
  {
   "cell_type": "code",
   "execution_count": 110,
   "metadata": {
    "ExecuteTime": {
     "end_time": "2021-06-26T09:54:49.364502Z",
     "start_time": "2021-06-26T09:54:49.360383Z"
    }
   },
   "outputs": [],
   "source": [
    "accuracy = np.sum(y_pred == y_test) / len(y_test)"
   ]
  },
  {
   "cell_type": "code",
   "execution_count": 111,
   "metadata": {
    "ExecuteTime": {
     "end_time": "2021-06-26T09:54:49.371003Z",
     "start_time": "2021-06-26T09:54:49.367150Z"
    }
   },
   "outputs": [
    {
     "name": "stdout",
     "output_type": "stream",
     "text": [
      "Accuracy: 87.940\n"
     ]
    }
   ],
   "source": [
    "print(\"Accuracy: %.3f\" % (accuracy * 100))"
   ]
  },
  {
   "cell_type": "markdown",
   "metadata": {},
   "source": [
    "**The model's accuracy got a little boost with this method**"
   ]
  },
  {
   "cell_type": "markdown",
   "metadata": {},
   "source": [
    "# CNN Simple with Dropout"
   ]
  },
  {
   "cell_type": "markdown",
   "metadata": {},
   "source": [
    "Reset all state generated by Keras"
   ]
  },
  {
   "cell_type": "code",
   "execution_count": 112,
   "metadata": {
    "ExecuteTime": {
     "end_time": "2021-06-26T09:55:16.095608Z",
     "start_time": "2021-06-26T09:55:16.093285Z"
    }
   },
   "outputs": [],
   "source": [
    "keras.backend.clear_session()"
   ]
  },
  {
   "cell_type": "markdown",
   "metadata": {
    "ExecuteTime": {
     "end_time": "2021-06-23T19:47:03.034859Z",
     "start_time": "2021-06-23T19:47:02.938662Z"
    }
   },
   "source": [
    "## Build and train a CNN model"
   ]
  },
  {
   "cell_type": "code",
   "execution_count": 113,
   "metadata": {
    "ExecuteTime": {
     "end_time": "2021-06-26T09:55:19.188816Z",
     "start_time": "2021-06-26T09:55:19.065960Z"
    }
   },
   "outputs": [],
   "source": [
    "model_cnn = Sequential()\n",
    "model_cnn.add(Conv2D(32, (3, 3), kernel_initializer='he_uniform', input_shape=(28, 28, 1)))\n",
    "model_cnn.add(BatchNormalization())\n",
    "model_cnn.add(Activation(\"relu\"))\n",
    "model_cnn.add(Dropout(0.5))\n",
    "model_cnn.add(MaxPooling2D((2, 2)))\n",
    "model_cnn.add(Conv2D(64, (3, 3), activation='relu', kernel_initializer='he_uniform'))\n",
    "model_cnn.add(BatchNormalization())\n",
    "model_cnn.add(Activation(\"relu\"))\n",
    "model_cnn.add(Conv2D(64, (3, 3), kernel_initializer='he_uniform'))\n",
    "model_cnn.add(BatchNormalization())\n",
    "model_cnn.add(Activation(\"relu\"))\n",
    "model_cnn.add(MaxPooling2D((2, 2)))\n",
    "model_cnn.add(Flatten())\n",
    "model_cnn.add(Dense(100, kernel_initializer='he_uniform'))\n",
    "model_cnn.add(BatchNormalization())\n",
    "model_cnn.add(Activation(\"relu\"))\n",
    "model_cnn.add(Dropout(0.5))\n",
    "model_cnn.add(Dense(10, activation='softmax'))"
   ]
  },
  {
   "cell_type": "code",
   "execution_count": 114,
   "metadata": {
    "ExecuteTime": {
     "end_time": "2021-06-26T09:55:21.163276Z",
     "start_time": "2021-06-26T09:55:21.156365Z"
    }
   },
   "outputs": [
    {
     "name": "stdout",
     "output_type": "stream",
     "text": [
      "Model: \"sequential\"\n",
      "_________________________________________________________________\n",
      "Layer (type)                 Output Shape              Param #   \n",
      "=================================================================\n",
      "conv2d (Conv2D)              (None, 26, 26, 32)        320       \n",
      "_________________________________________________________________\n",
      "batch_normalization (BatchNo (None, 26, 26, 32)        128       \n",
      "_________________________________________________________________\n",
      "activation (Activation)      (None, 26, 26, 32)        0         \n",
      "_________________________________________________________________\n",
      "dropout (Dropout)            (None, 26, 26, 32)        0         \n",
      "_________________________________________________________________\n",
      "max_pooling2d (MaxPooling2D) (None, 13, 13, 32)        0         \n",
      "_________________________________________________________________\n",
      "conv2d_1 (Conv2D)            (None, 11, 11, 64)        18496     \n",
      "_________________________________________________________________\n",
      "batch_normalization_1 (Batch (None, 11, 11, 64)        256       \n",
      "_________________________________________________________________\n",
      "activation_1 (Activation)    (None, 11, 11, 64)        0         \n",
      "_________________________________________________________________\n",
      "conv2d_2 (Conv2D)            (None, 9, 9, 64)          36928     \n",
      "_________________________________________________________________\n",
      "batch_normalization_2 (Batch (None, 9, 9, 64)          256       \n",
      "_________________________________________________________________\n",
      "activation_2 (Activation)    (None, 9, 9, 64)          0         \n",
      "_________________________________________________________________\n",
      "max_pooling2d_1 (MaxPooling2 (None, 4, 4, 64)          0         \n",
      "_________________________________________________________________\n",
      "flatten (Flatten)            (None, 1024)              0         \n",
      "_________________________________________________________________\n",
      "dense (Dense)                (None, 100)               102500    \n",
      "_________________________________________________________________\n",
      "batch_normalization_3 (Batch (None, 100)               400       \n",
      "_________________________________________________________________\n",
      "activation_3 (Activation)    (None, 100)               0         \n",
      "_________________________________________________________________\n",
      "dropout_1 (Dropout)          (None, 100)               0         \n",
      "_________________________________________________________________\n",
      "dense_1 (Dense)              (None, 10)                1010      \n",
      "=================================================================\n",
      "Total params: 160,294\n",
      "Trainable params: 159,774\n",
      "Non-trainable params: 520\n",
      "_________________________________________________________________\n"
     ]
    }
   ],
   "source": [
    "model_cnn.summary()"
   ]
  },
  {
   "cell_type": "code",
   "execution_count": 115,
   "metadata": {
    "ExecuteTime": {
     "end_time": "2021-06-26T09:55:26.666171Z",
     "start_time": "2021-06-26T09:55:26.658783Z"
    }
   },
   "outputs": [],
   "source": [
    "model_cnn.compile(loss=model_params[\"loss\"], \n",
    "                  optimizer=model_params[\"optimizer\"], \n",
    "                  metrics=model_params[\"metrics\"])"
   ]
  },
  {
   "cell_type": "code",
   "execution_count": 116,
   "metadata": {
    "ExecuteTime": {
     "end_time": "2021-06-26T10:18:36.017380Z",
     "start_time": "2021-06-26T10:00:20.012102Z"
    }
   },
   "outputs": [
    {
     "name": "stdout",
     "output_type": "stream",
     "text": [
      "Epoch 1/20\n",
      "1719/1719 [==============================] - 18s 10ms/step - loss: 0.7460 - accuracy: 0.7345 - val_loss: 0.6464 - val_accuracy: 0.7888\n",
      "Epoch 2/20\n",
      "1719/1719 [==============================] - 18s 10ms/step - loss: 0.4249 - accuracy: 0.8470 - val_loss: 0.4823 - val_accuracy: 0.8490\n",
      "Epoch 3/20\n",
      "1719/1719 [==============================] - 18s 10ms/step - loss: 0.3728 - accuracy: 0.8646 - val_loss: 0.4332 - val_accuracy: 0.8524\n",
      "Epoch 4/20\n",
      "1719/1719 [==============================] - 18s 10ms/step - loss: 0.3394 - accuracy: 0.8780 - val_loss: 0.4032 - val_accuracy: 0.8642\n",
      "Epoch 5/20\n",
      "1719/1719 [==============================] - 18s 10ms/step - loss: 0.3169 - accuracy: 0.8852 - val_loss: 0.3869 - val_accuracy: 0.8664\n",
      "Epoch 6/20\n",
      "1719/1719 [==============================] - 18s 10ms/step - loss: 0.2968 - accuracy: 0.8925 - val_loss: 0.4195 - val_accuracy: 0.8528\n",
      "Epoch 7/20\n",
      "1719/1719 [==============================] - 18s 10ms/step - loss: 0.2843 - accuracy: 0.8975 - val_loss: 0.4739 - val_accuracy: 0.8334\n",
      "Epoch 8/20\n",
      "1719/1719 [==============================] - 18s 10ms/step - loss: 0.2751 - accuracy: 0.8999 - val_loss: 0.3578 - val_accuracy: 0.8714\n",
      "Epoch 9/20\n",
      "1719/1719 [==============================] - 18s 10ms/step - loss: 0.2690 - accuracy: 0.9009 - val_loss: 0.3176 - val_accuracy: 0.8850\n",
      "Epoch 10/20\n",
      "1719/1719 [==============================] - 18s 10ms/step - loss: 0.2552 - accuracy: 0.9066 - val_loss: 0.3245 - val_accuracy: 0.8880\n",
      "Epoch 11/20\n",
      "1719/1719 [==============================] - 18s 10ms/step - loss: 0.2456 - accuracy: 0.9101 - val_loss: 0.3103 - val_accuracy: 0.8852\n",
      "Epoch 12/20\n",
      "1719/1719 [==============================] - 18s 10ms/step - loss: 0.2408 - accuracy: 0.9133 - val_loss: 0.3235 - val_accuracy: 0.8854\n",
      "Epoch 13/20\n",
      "1719/1719 [==============================] - 18s 10ms/step - loss: 0.2364 - accuracy: 0.9145 - val_loss: 0.3694 - val_accuracy: 0.8634\n",
      "Epoch 14/20\n",
      "1719/1719 [==============================] - 18s 10ms/step - loss: 0.2328 - accuracy: 0.9156 - val_loss: 0.4461 - val_accuracy: 0.8356\n",
      "Epoch 15/20\n",
      "1719/1719 [==============================] - 18s 11ms/step - loss: 0.2307 - accuracy: 0.9138 - val_loss: 0.3465 - val_accuracy: 0.8716\n",
      "Epoch 16/20\n",
      "1719/1719 [==============================] - 18s 10ms/step - loss: 0.2238 - accuracy: 0.9180 - val_loss: 0.3823 - val_accuracy: 0.8560\n",
      "Epoch 17/20\n",
      "1719/1719 [==============================] - 18s 10ms/step - loss: 0.2147 - accuracy: 0.9197 - val_loss: 0.2886 - val_accuracy: 0.8994\n",
      "Epoch 18/20\n",
      "1719/1719 [==============================] - 18s 10ms/step - loss: 0.2127 - accuracy: 0.9190 - val_loss: 0.3337 - val_accuracy: 0.8838\n",
      "Epoch 19/20\n",
      "1719/1719 [==============================] - 18s 10ms/step - loss: 0.2123 - accuracy: 0.9217 - val_loss: 0.2655 - val_accuracy: 0.9020\n",
      "Epoch 20/20\n",
      "1719/1719 [==============================] - 18s 11ms/step - loss: 0.2041 - accuracy: 0.9236 - val_loss: 0.2639 - val_accuracy: 0.9002\n"
     ]
    }
   ],
   "source": [
    "history_cnn = model_cnn.fit(X_train_normalized_cnn, y_train, epochs=model_params[\"n_epochs\"], \n",
    "                        validation_data=(X_valid_normalized_cnn, y_valid))"
   ]
  },
  {
   "cell_type": "code",
   "execution_count": 117,
   "metadata": {
    "ExecuteTime": {
     "end_time": "2021-06-26T10:18:36.276278Z",
     "start_time": "2021-06-26T10:18:36.020096Z"
    }
   },
   "outputs": [
    {
     "data": {
      "image/png": "[encoded data removed]",
      "text/plain": [
       "<Figure size 576x360 with 1 Axes>"
      ]
     },
     "metadata": {
      "needs_background": "light"
     },
     "output_type": "display_data"
    }
   ],
   "source": [
    "pd.DataFrame(history_cnn.history).plot(figsize=(8, 5))\n",
    "plt.grid(True)\n",
    "plt.gca().set_ylim(0, 1)\n",
    "plt.show()"
   ]
  },
  {
   "cell_type": "markdown",
   "metadata": {},
   "source": [
    "## Evaluate the model on the Test data"
   ]
  },
  {
   "cell_type": "code",
   "execution_count": 118,
   "metadata": {
    "ExecuteTime": {
     "end_time": "2021-06-26T10:30:10.421890Z",
     "start_time": "2021-06-26T10:30:08.089099Z"
    }
   },
   "outputs": [
    {
     "name": "stdout",
     "output_type": "stream",
     "text": [
      "313/313 [==============================] - 1s 2ms/step - loss: 0.2864 - accuracy: 0.8938\n"
     ]
    }
   ],
   "source": [
    "# evaluate the model on test dataset\n",
    "loss, accuracy = model_cnn.evaluate(X_test_normalized_cnn, y_test, verbose=1)"
   ]
  },
  {
   "cell_type": "code",
   "execution_count": 119,
   "metadata": {
    "ExecuteTime": {
     "end_time": "2021-06-26T10:30:10.428036Z",
     "start_time": "2021-06-26T10:30:10.424027Z"
    }
   },
   "outputs": [
    {
     "name": "stdout",
     "output_type": "stream",
     "text": [
      "Accuracy: 89.380\n"
     ]
    }
   ],
   "source": [
    "print(\"Accuracy: %.3f\" % (accuracy * 100))"
   ]
  },
  {
   "cell_type": "markdown",
   "metadata": {},
   "source": [
    "## Predictions"
   ]
  },
  {
   "cell_type": "code",
   "execution_count": 120,
   "metadata": {
    "ExecuteTime": {
     "end_time": "2021-06-26T10:30:18.800593Z",
     "start_time": "2021-06-26T10:30:18.797059Z"
    }
   },
   "outputs": [
    {
     "data": {
      "text/plain": [
       "['T-shirt/top',\n",
       " 'Trouser',\n",
       " 'Pullover',\n",
       " 'Dress',\n",
       " 'Coat',\n",
       " 'Sandal',\n",
       " 'Shirt',\n",
       " 'Sneaker',\n",
       " 'Bag',\n",
       " 'Ankle boot']"
      ]
     },
     "execution_count": 120,
     "metadata": {},
     "output_type": "execute_result"
    }
   ],
   "source": [
    "class_names"
   ]
  },
  {
   "cell_type": "markdown",
   "metadata": {},
   "source": [
    "**Model instance prediction with `softmax`**"
   ]
  },
  {
   "cell_type": "markdown",
   "metadata": {},
   "source": [
    "### Instance - Ankle boot"
   ]
  },
  {
   "cell_type": "code",
   "execution_count": 121,
   "metadata": {
    "ExecuteTime": {
     "end_time": "2021-06-26T10:30:21.518389Z",
     "start_time": "2021-06-26T10:30:21.374554Z"
    }
   },
   "outputs": [
    {
     "data": {
      "text/plain": [
       "array([[0., 0., 0., 0., 0., 0., 0., 0., 0., 1.]], dtype=float32)"
      ]
     },
     "execution_count": 121,
     "metadata": {},
     "output_type": "execute_result"
    }
   ],
   "source": [
    "y_proba_softmax = model_cnn.predict(X_test_normalized_cnn[0:1])\n",
    "y_proba_softmax.round(2)"
   ]
  },
  {
   "cell_type": "markdown",
   "metadata": {},
   "source": [
    "### Instance - Coat"
   ]
  },
  {
   "cell_type": "code",
   "execution_count": 122,
   "metadata": {
    "ExecuteTime": {
     "end_time": "2021-06-26T10:30:25.503878Z",
     "start_time": "2021-06-26T10:30:25.459228Z"
    }
   },
   "outputs": [
    {
     "data": {
      "text/plain": [
       "array([[0.  , 0.  , 0.01, 0.  , 0.69, 0.  , 0.3 , 0.  , 0.  , 0.  ]],\n",
       "      dtype=float32)"
      ]
     },
     "execution_count": 122,
     "metadata": {},
     "output_type": "execute_result"
    }
   ],
   "source": [
    "y_proba_softmax = model_cnn.predict(X_test_normalized_cnn[10:11])\n",
    "y_proba_softmax.round(2)"
   ]
  },
  {
   "cell_type": "markdown",
   "metadata": {},
   "source": [
    "# MC CNN Dropout model - transfer the weights from the previous CNN"
   ]
  },
  {
   "cell_type": "code",
   "execution_count": 123,
   "metadata": {
    "ExecuteTime": {
     "end_time": "2021-06-26T10:30:36.826013Z",
     "start_time": "2021-06-26T10:30:36.746302Z"
    }
   },
   "outputs": [],
   "source": [
    "mc_model_cnn_trf = keras.models.Sequential([\n",
    "    MCDropout(layer.rate) if isinstance(layer, keras.layers.Dropout) else layer\n",
    "    for layer in model_cnn.layers\n",
    "])"
   ]
  },
  {
   "cell_type": "code",
   "execution_count": 124,
   "metadata": {
    "ExecuteTime": {
     "end_time": "2021-06-26T10:30:45.456075Z",
     "start_time": "2021-06-26T10:30:45.448302Z"
    }
   },
   "outputs": [
    {
     "name": "stdout",
     "output_type": "stream",
     "text": [
      "Model: \"sequential_1\"\n",
      "_________________________________________________________________\n",
      "Layer (type)                 Output Shape              Param #   \n",
      "=================================================================\n",
      "conv2d (Conv2D)              (None, 26, 26, 32)        320       \n",
      "_________________________________________________________________\n",
      "batch_normalization (BatchNo (None, 26, 26, 32)        128       \n",
      "_________________________________________________________________\n",
      "activation (Activation)      (None, 26, 26, 32)        0         \n",
      "_________________________________________________________________\n",
      "mc_dropout (MCDropout)       (None, 26, 26, 32)        0         \n",
      "_________________________________________________________________\n",
      "max_pooling2d (MaxPooling2D) (None, 13, 13, 32)        0         \n",
      "_________________________________________________________________\n",
      "conv2d_1 (Conv2D)            (None, 11, 11, 64)        18496     \n",
      "_________________________________________________________________\n",
      "batch_normalization_1 (Batch (None, 11, 11, 64)        256       \n",
      "_________________________________________________________________\n",
      "activation_1 (Activation)    (None, 11, 11, 64)        0         \n",
      "_________________________________________________________________\n",
      "conv2d_2 (Conv2D)            (None, 9, 9, 64)          36928     \n",
      "_________________________________________________________________\n",
      "batch_normalization_2 (Batch (None, 9, 9, 64)          256       \n",
      "_________________________________________________________________\n",
      "activation_2 (Activation)    (None, 9, 9, 64)          0         \n",
      "_________________________________________________________________\n",
      "max_pooling2d_1 (MaxPooling2 (None, 4, 4, 64)          0         \n",
      "_________________________________________________________________\n",
      "flatten (Flatten)            (None, 1024)              0         \n",
      "_________________________________________________________________\n",
      "dense (Dense)                (None, 100)               102500    \n",
      "_________________________________________________________________\n",
      "batch_normalization_3 (Batch (None, 100)               400       \n",
      "_________________________________________________________________\n",
      "activation_3 (Activation)    (None, 100)               0         \n",
      "_________________________________________________________________\n",
      "mc_dropout_1 (MCDropout)     (None, 100)               0         \n",
      "_________________________________________________________________\n",
      "dense_1 (Dense)              (None, 10)                1010      \n",
      "=================================================================\n",
      "Total params: 160,294\n",
      "Trainable params: 159,774\n",
      "Non-trainable params: 520\n",
      "_________________________________________________________________\n"
     ]
    }
   ],
   "source": [
    "mc_model_cnn_trf.summary()"
   ]
  },
  {
   "cell_type": "code",
   "execution_count": 125,
   "metadata": {
    "ExecuteTime": {
     "end_time": "2021-06-26T10:30:53.469672Z",
     "start_time": "2021-06-26T10:30:53.461415Z"
    }
   },
   "outputs": [],
   "source": [
    "mc_model_cnn_trf.compile(loss=model_params[\"loss\"], \n",
    "                         optimizer=model_params[\"optimizer\"], \n",
    "                         metrics=model_params[\"metrics\"])"
   ]
  },
  {
   "cell_type": "markdown",
   "metadata": {},
   "source": [
    "## Transfer the weights from the previous CNN"
   ]
  },
  {
   "cell_type": "code",
   "execution_count": 126,
   "metadata": {
    "ExecuteTime": {
     "end_time": "2021-06-26T10:30:54.855919Z",
     "start_time": "2021-06-26T10:30:54.845423Z"
    }
   },
   "outputs": [],
   "source": [
    "mc_model_cnn_trf.set_weights(model_cnn.get_weights())"
   ]
  },
  {
   "cell_type": "markdown",
   "metadata": {},
   "source": [
    "## Predictions"
   ]
  },
  {
   "cell_type": "code",
   "execution_count": 127,
   "metadata": {
    "ExecuteTime": {
     "end_time": "2021-06-26T10:30:57.965405Z",
     "start_time": "2021-06-26T10:30:57.961254Z"
    }
   },
   "outputs": [
    {
     "data": {
      "text/plain": [
       "['T-shirt/top',\n",
       " 'Trouser',\n",
       " 'Pullover',\n",
       " 'Dress',\n",
       " 'Coat',\n",
       " 'Sandal',\n",
       " 'Shirt',\n",
       " 'Sneaker',\n",
       " 'Bag',\n",
       " 'Ankle boot']"
      ]
     },
     "execution_count": 127,
     "metadata": {},
     "output_type": "execute_result"
    }
   ],
   "source": [
    "class_names"
   ]
  },
  {
   "cell_type": "markdown",
   "metadata": {},
   "source": [
    "Use the model straightforward with MC Dropout layer to predict the unique instance's class"
   ]
  },
  {
   "cell_type": "markdown",
   "metadata": {},
   "source": [
    "### Instance - Ankle boot"
   ]
  },
  {
   "cell_type": "code",
   "execution_count": 128,
   "metadata": {
    "ExecuteTime": {
     "end_time": "2021-06-26T10:31:05.605399Z",
     "start_time": "2021-06-26T10:31:01.529131Z"
    }
   },
   "outputs": [
    {
     "data": {
      "application/vnd.jupyter.widget-view+json": {
       "model_id": "b3ae6cafc7da447c950a98c34ccac749",
       "version_major": 2,
       "version_minor": 0
      },
      "text/plain": [
       "HBox(children=(HTML(value=''), FloatProgress(value=0.0), HTML(value='')))"
      ]
     },
     "metadata": {},
     "output_type": "display_data"
    },
    {
     "name": "stdout",
     "output_type": "stream",
     "text": [
      "\n"
     ]
    },
    {
     "data": {
      "text/plain": [
       "array([[0., 0., 0., 0., 0., 0., 0., 0., 0., 1.]], dtype=float32)"
      ]
     },
     "execution_count": 128,
     "metadata": {},
     "output_type": "execute_result"
    }
   ],
   "source": [
    "np.round(np.mean([mc_model_cnn_trf.predict(X_test_normalized_cnn[0:1]) \n",
    "                  for sample in tqdm(range(100))], axis=0), 2)"
   ]
  },
  {
   "cell_type": "markdown",
   "metadata": {},
   "source": [
    "### Instance - Coat"
   ]
  },
  {
   "cell_type": "code",
   "execution_count": 129,
   "metadata": {
    "ExecuteTime": {
     "end_time": "2021-06-26T10:31:11.711093Z",
     "start_time": "2021-06-26T10:31:07.828820Z"
    }
   },
   "outputs": [
    {
     "data": {
      "application/vnd.jupyter.widget-view+json": {
       "model_id": "27cbe4d664d648d5b22cd076bb08d442",
       "version_major": 2,
       "version_minor": 0
      },
      "text/plain": [
       "HBox(children=(HTML(value=''), FloatProgress(value=0.0), HTML(value='')))"
      ]
     },
     "metadata": {},
     "output_type": "display_data"
    },
    {
     "name": "stdout",
     "output_type": "stream",
     "text": [
      "\n"
     ]
    },
    {
     "data": {
      "text/plain": [
       "array([[0.  , 0.  , 0.01, 0.  , 0.95, 0.  , 0.05, 0.  , 0.  , 0.  ]],\n",
       "      dtype=float32)"
      ]
     },
     "execution_count": 129,
     "metadata": {},
     "output_type": "execute_result"
    }
   ],
   "source": [
    "np.round(np.mean([mc_model_cnn_trf.predict(X_test_normalized_cnn[10:11]) \n",
    "                  for sample in tqdm(range(100))], axis=0), 2)"
   ]
  },
  {
   "cell_type": "markdown",
   "metadata": {},
   "source": [
    "## Evaluate the model on the Test data (with the probabilities this time)"
   ]
  },
  {
   "cell_type": "markdown",
   "metadata": {},
   "source": [
    "Stack the probabilities for all the instances"
   ]
  },
  {
   "cell_type": "code",
   "execution_count": 130,
   "metadata": {
    "ExecuteTime": {
     "end_time": "2021-06-26T10:37:33.234108Z",
     "start_time": "2021-06-26T10:31:28.266048Z"
    }
   },
   "outputs": [
    {
     "data": {
      "application/vnd.jupyter.widget-view+json": {
       "model_id": "efa6b428be7741f8a66861d01dcd5770",
       "version_major": 2,
       "version_minor": 0
      },
      "text/plain": [
       "HBox(children=(HTML(value=''), FloatProgress(value=0.0), HTML(value='')))"
      ]
     },
     "metadata": {},
     "output_type": "display_data"
    },
    {
     "name": "stdout",
     "output_type": "stream",
     "text": [
      "\n"
     ]
    }
   ],
   "source": [
    "y_probas = np.stack([mc_model_cnn_trf(X_test_normalized_cnn) for sample in tqdm(range(100))])"
   ]
  },
  {
   "cell_type": "markdown",
   "metadata": {},
   "source": [
    "Compute the mean and std for the instances' probability estimates"
   ]
  },
  {
   "cell_type": "code",
   "execution_count": 131,
   "metadata": {
    "ExecuteTime": {
     "end_time": "2021-06-26T10:37:33.258174Z",
     "start_time": "2021-06-26T10:37:33.241003Z"
    }
   },
   "outputs": [],
   "source": [
    "y_proba = y_probas.mean(axis=0)"
   ]
  },
  {
   "cell_type": "code",
   "execution_count": 132,
   "metadata": {
    "ExecuteTime": {
     "end_time": "2021-06-26T10:37:33.312159Z",
     "start_time": "2021-06-26T10:37:33.263097Z"
    }
   },
   "outputs": [],
   "source": [
    "y_std = y_probas.std(axis=0)"
   ]
  },
  {
   "cell_type": "markdown",
   "metadata": {},
   "source": [
    "Hold the predicted classes by return the maximum value from each probability estimate"
   ]
  },
  {
   "cell_type": "code",
   "execution_count": 133,
   "metadata": {
    "ExecuteTime": {
     "end_time": "2021-06-26T10:37:33.319667Z",
     "start_time": "2021-06-26T10:37:33.315698Z"
    }
   },
   "outputs": [],
   "source": [
    "y_pred = np.argmax(y_proba, axis=1)"
   ]
  },
  {
   "cell_type": "code",
   "execution_count": 134,
   "metadata": {
    "ExecuteTime": {
     "end_time": "2021-06-26T10:37:33.328895Z",
     "start_time": "2021-06-26T10:37:33.323116Z"
    }
   },
   "outputs": [],
   "source": [
    "accuracy = np.sum(y_pred == y_test) / len(y_test)"
   ]
  },
  {
   "cell_type": "code",
   "execution_count": 135,
   "metadata": {
    "ExecuteTime": {
     "end_time": "2021-06-26T10:57:02.423492Z",
     "start_time": "2021-06-26T10:57:02.420366Z"
    }
   },
   "outputs": [
    {
     "name": "stdout",
     "output_type": "stream",
     "text": [
      "Accuracy: 91.600\n"
     ]
    }
   ],
   "source": [
    "print(\"Accuracy: %.3f\" % (accuracy * 100))"
   ]
  },
  {
   "cell_type": "markdown",
   "metadata": {},
   "source": [
    "**Model's accuracy is improved**"
   ]
  },
  {
   "cell_type": "markdown",
   "metadata": {},
   "source": []
  },
  {
   "cell_type": "markdown",
   "metadata": {},
   "source": [
    "# MC CNN Dropout model from scratch"
   ]
  },
  {
   "cell_type": "markdown",
   "metadata": {},
   "source": [
    "Reset all state generated by Keras"
   ]
  },
  {
   "cell_type": "code",
   "execution_count": 136,
   "metadata": {
    "ExecuteTime": {
     "end_time": "2021-06-26T10:57:45.513839Z",
     "start_time": "2021-06-26T10:57:45.511368Z"
    }
   },
   "outputs": [],
   "source": [
    "keras.backend.clear_session()"
   ]
  },
  {
   "cell_type": "markdown",
   "metadata": {},
   "source": [
    "## Build and train the model"
   ]
  },
  {
   "cell_type": "code",
   "execution_count": 137,
   "metadata": {
    "ExecuteTime": {
     "end_time": "2021-06-26T10:58:00.967700Z",
     "start_time": "2021-06-26T10:58:00.845054Z"
    }
   },
   "outputs": [],
   "source": [
    "mc_model_cnn_drp = Sequential()\n",
    "mc_model_cnn_drp.add(Conv2D(32, (3, 3), kernel_initializer='he_uniform', input_shape=(28, 28, 1)))\n",
    "mc_model_cnn_drp.add(BatchNormalization())\n",
    "mc_model_cnn_drp.add(Activation(\"relu\"))\n",
    "mc_model_cnn_drp.add(MCDropout(0.5))\n",
    "mc_model_cnn_drp.add(MaxPooling2D((2, 2)))\n",
    "mc_model_cnn_drp.add(Conv2D(64, (3, 3), activation='relu', kernel_initializer='he_uniform'))\n",
    "mc_model_cnn_drp.add(BatchNormalization())\n",
    "mc_model_cnn_drp.add(Activation(\"relu\"))\n",
    "mc_model_cnn_drp.add(Conv2D(64, (3, 3), kernel_initializer='he_uniform'))\n",
    "mc_model_cnn_drp.add(BatchNormalization())\n",
    "mc_model_cnn_drp.add(Activation(\"relu\"))\n",
    "mc_model_cnn_drp.add(MaxPooling2D((2, 2)))\n",
    "mc_model_cnn_drp.add(Flatten())\n",
    "mc_model_cnn_drp.add(Dense(100, kernel_initializer='he_uniform'))\n",
    "mc_model_cnn_drp.add(BatchNormalization())\n",
    "mc_model_cnn_drp.add(Activation(\"relu\"))\n",
    "mc_model_cnn_drp.add(MCDropout(0.5))\n",
    "mc_model_cnn_drp.add(Dense(10, activation='softmax'))"
   ]
  },
  {
   "cell_type": "code",
   "execution_count": 138,
   "metadata": {
    "ExecuteTime": {
     "end_time": "2021-06-26T10:58:02.921699Z",
     "start_time": "2021-06-26T10:58:02.913542Z"
    }
   },
   "outputs": [
    {
     "name": "stdout",
     "output_type": "stream",
     "text": [
      "Model: \"sequential\"\n",
      "_________________________________________________________________\n",
      "Layer (type)                 Output Shape              Param #   \n",
      "=================================================================\n",
      "conv2d (Conv2D)              (None, 26, 26, 32)        320       \n",
      "_________________________________________________________________\n",
      "batch_normalization (BatchNo (None, 26, 26, 32)        128       \n",
      "_________________________________________________________________\n",
      "activation (Activation)      (None, 26, 26, 32)        0         \n",
      "_________________________________________________________________\n",
      "mc_dropout (MCDropout)       (None, 26, 26, 32)        0         \n",
      "_________________________________________________________________\n",
      "max_pooling2d (MaxPooling2D) (None, 13, 13, 32)        0         \n",
      "_________________________________________________________________\n",
      "conv2d_1 (Conv2D)            (None, 11, 11, 64)        18496     \n",
      "_________________________________________________________________\n",
      "batch_normalization_1 (Batch (None, 11, 11, 64)        256       \n",
      "_________________________________________________________________\n",
      "activation_1 (Activation)    (None, 11, 11, 64)        0         \n",
      "_________________________________________________________________\n",
      "conv2d_2 (Conv2D)            (None, 9, 9, 64)          36928     \n",
      "_________________________________________________________________\n",
      "batch_normalization_2 (Batch (None, 9, 9, 64)          256       \n",
      "_________________________________________________________________\n",
      "activation_2 (Activation)    (None, 9, 9, 64)          0         \n",
      "_________________________________________________________________\n",
      "max_pooling2d_1 (MaxPooling2 (None, 4, 4, 64)          0         \n",
      "_________________________________________________________________\n",
      "flatten (Flatten)            (None, 1024)              0         \n",
      "_________________________________________________________________\n",
      "dense (Dense)                (None, 100)               102500    \n",
      "_________________________________________________________________\n",
      "batch_normalization_3 (Batch (None, 100)               400       \n",
      "_________________________________________________________________\n",
      "activation_3 (Activation)    (None, 100)               0         \n",
      "_________________________________________________________________\n",
      "mc_dropout_1 (MCDropout)     (None, 100)               0         \n",
      "_________________________________________________________________\n",
      "dense_1 (Dense)              (None, 10)                1010      \n",
      "=================================================================\n",
      "Total params: 160,294\n",
      "Trainable params: 159,774\n",
      "Non-trainable params: 520\n",
      "_________________________________________________________________\n"
     ]
    }
   ],
   "source": [
    "mc_model_cnn_drp.summary()"
   ]
  },
  {
   "cell_type": "code",
   "execution_count": 139,
   "metadata": {
    "ExecuteTime": {
     "end_time": "2021-06-26T10:58:05.968849Z",
     "start_time": "2021-06-26T10:58:05.961036Z"
    }
   },
   "outputs": [],
   "source": [
    "mc_model_cnn_drp.compile(loss=model_params[\"loss\"], \n",
    "                         optimizer=model_params[\"optimizer\"], \n",
    "                         metrics=model_params[\"metrics\"])"
   ]
  },
  {
   "cell_type": "code",
   "execution_count": 140,
   "metadata": {
    "ExecuteTime": {
     "end_time": "2021-06-26T11:16:44.606082Z",
     "start_time": "2021-06-26T10:58:07.687607Z"
    }
   },
   "outputs": [
    {
     "name": "stdout",
     "output_type": "stream",
     "text": [
      "Epoch 1/20\n",
      "1719/1719 [==============================] - 18s 11ms/step - loss: 0.7260 - accuracy: 0.7428 - val_loss: 0.4122 - val_accuracy: 0.8558\n",
      "Epoch 2/20\n",
      "1719/1719 [==============================] - 18s 10ms/step - loss: 0.4143 - accuracy: 0.8509 - val_loss: 0.3538 - val_accuracy: 0.8736\n",
      "Epoch 3/20\n",
      "1719/1719 [==============================] - 18s 10ms/step - loss: 0.3653 - accuracy: 0.8662 - val_loss: 0.3336 - val_accuracy: 0.8818\n",
      "Epoch 4/20\n",
      "1719/1719 [==============================] - 18s 10ms/step - loss: 0.3356 - accuracy: 0.8781 - val_loss: 0.3794 - val_accuracy: 0.8650\n",
      "Epoch 5/20\n",
      "1719/1719 [==============================] - 18s 10ms/step - loss: 0.3137 - accuracy: 0.8879 - val_loss: 0.2994 - val_accuracy: 0.8924\n",
      "Epoch 6/20\n",
      "1719/1719 [==============================] - 18s 10ms/step - loss: 0.2945 - accuracy: 0.8940 - val_loss: 0.2939 - val_accuracy: 0.8906\n",
      "Epoch 7/20\n",
      "1719/1719 [==============================] - 18s 10ms/step - loss: 0.2816 - accuracy: 0.8985 - val_loss: 0.3171 - val_accuracy: 0.8838\n",
      "Epoch 8/20\n",
      "1719/1719 [==============================] - 18s 10ms/step - loss: 0.2723 - accuracy: 0.9001 - val_loss: 0.2951 - val_accuracy: 0.8916\n",
      "Epoch 9/20\n",
      "1719/1719 [==============================] - 18s 10ms/step - loss: 0.2680 - accuracy: 0.9013 - val_loss: 0.2800 - val_accuracy: 0.9008\n",
      "Epoch 10/20\n",
      "1719/1719 [==============================] - 18s 10ms/step - loss: 0.2603 - accuracy: 0.9039 - val_loss: 0.2659 - val_accuracy: 0.9036\n",
      "Epoch 11/20\n",
      "1719/1719 [==============================] - 18s 10ms/step - loss: 0.2492 - accuracy: 0.9082 - val_loss: 0.2800 - val_accuracy: 0.8966\n",
      "Epoch 12/20\n",
      "1719/1719 [==============================] - 18s 10ms/step - loss: 0.2420 - accuracy: 0.9101 - val_loss: 0.2708 - val_accuracy: 0.9002\n",
      "Epoch 13/20\n",
      "1719/1719 [==============================] - 18s 10ms/step - loss: 0.2386 - accuracy: 0.9122 - val_loss: 0.2791 - val_accuracy: 0.8988\n",
      "Epoch 14/20\n",
      "1719/1719 [==============================] - 18s 10ms/step - loss: 0.2277 - accuracy: 0.9165 - val_loss: 0.2898 - val_accuracy: 0.8954\n",
      "Epoch 15/20\n",
      "1719/1719 [==============================] - 18s 10ms/step - loss: 0.2268 - accuracy: 0.9174 - val_loss: 0.2638 - val_accuracy: 0.9020\n",
      "Epoch 16/20\n",
      "1719/1719 [==============================] - 18s 11ms/step - loss: 0.2262 - accuracy: 0.9167 - val_loss: 0.2649 - val_accuracy: 0.9036\n",
      "Epoch 17/20\n",
      "1719/1719 [==============================] - 18s 10ms/step - loss: 0.2188 - accuracy: 0.9194 - val_loss: 0.2609 - val_accuracy: 0.9064\n",
      "Epoch 18/20\n",
      "1719/1719 [==============================] - 18s 11ms/step - loss: 0.2166 - accuracy: 0.9198 - val_loss: 0.2637 - val_accuracy: 0.9064\n",
      "Epoch 19/20\n",
      "1719/1719 [==============================] - 18s 10ms/step - loss: 0.2120 - accuracy: 0.9205 - val_loss: 0.2797 - val_accuracy: 0.8996\n",
      "Epoch 20/20\n",
      "1719/1719 [==============================] - 18s 10ms/step - loss: 0.2124 - accuracy: 0.9205 - val_loss: 0.2769 - val_accuracy: 0.9032\n"
     ]
    }
   ],
   "source": [
    "mc_history_cnn_drp = mc_model_cnn_drp.fit(X_train_normalized_cnn, y_train, epochs=model_params[\"n_epochs\"], \n",
    "                                          validation_data=(X_valid_normalized_cnn, y_valid))"
   ]
  },
  {
   "cell_type": "code",
   "execution_count": 141,
   "metadata": {
    "ExecuteTime": {
     "end_time": "2021-06-26T11:16:44.855947Z",
     "start_time": "2021-06-26T11:16:44.608769Z"
    }
   },
   "outputs": [
    {
     "data": {
      "image/png": "[encoded data removed]",
      "text/plain": [
       "<Figure size 576x360 with 1 Axes>"
      ]
     },
     "metadata": {
      "needs_background": "light"
     },
     "output_type": "display_data"
    }
   ],
   "source": [
    "pd.DataFrame(mc_history_cnn_drp.history).plot(figsize=(8, 5))\n",
    "plt.grid(True)\n",
    "plt.gca().set_ylim(0, 1)\n",
    "plt.show()"
   ]
  },
  {
   "cell_type": "markdown",
   "metadata": {},
   "source": [
    "**Model accuracy**"
   ]
  },
  {
   "cell_type": "code",
   "execution_count": 142,
   "metadata": {
    "ExecuteTime": {
     "end_time": "2021-06-26T11:16:48.069489Z",
     "start_time": "2021-06-26T11:16:44.859407Z"
    }
   },
   "outputs": [
    {
     "name": "stdout",
     "output_type": "stream",
     "text": [
      "313/313 [==============================] - 1s 3ms/step - loss: 0.3012 - accuracy: 0.8904\n"
     ]
    }
   ],
   "source": [
    "# evaluate the model on test dataset\n",
    "loss, accuracy = mc_model_cnn_drp.evaluate(X_test_normalized_cnn, y_test, verbose=1)"
   ]
  },
  {
   "cell_type": "code",
   "execution_count": 143,
   "metadata": {
    "ExecuteTime": {
     "end_time": "2021-06-26T11:16:48.075800Z",
     "start_time": "2021-06-26T11:16:48.072037Z"
    }
   },
   "outputs": [
    {
     "name": "stdout",
     "output_type": "stream",
     "text": [
      "Accuracy: 89.040\n"
     ]
    }
   ],
   "source": [
    "print(\"Accuracy: %.3f\" % (accuracy * 100))"
   ]
  },
  {
   "cell_type": "markdown",
   "metadata": {},
   "source": []
  },
  {
   "cell_type": "markdown",
   "metadata": {},
   "source": [
    "## Predictions"
   ]
  },
  {
   "cell_type": "code",
   "execution_count": 144,
   "metadata": {
    "ExecuteTime": {
     "end_time": "2021-06-26T12:51:23.872615Z",
     "start_time": "2021-06-26T12:51:23.868502Z"
    }
   },
   "outputs": [
    {
     "data": {
      "text/plain": [
       "['T-shirt/top',\n",
       " 'Trouser',\n",
       " 'Pullover',\n",
       " 'Dress',\n",
       " 'Coat',\n",
       " 'Sandal',\n",
       " 'Shirt',\n",
       " 'Sneaker',\n",
       " 'Bag',\n",
       " 'Ankle boot']"
      ]
     },
     "execution_count": 144,
     "metadata": {},
     "output_type": "execute_result"
    }
   ],
   "source": [
    "class_names"
   ]
  },
  {
   "cell_type": "markdown",
   "metadata": {},
   "source": [
    "### Instance - Ankle boot"
   ]
  },
  {
   "cell_type": "markdown",
   "metadata": {},
   "source": [
    "Use `numpy.squeeze()` to remove all dimensions of size 1 from the NumPy array `ndarray`. `squeeze()` is also provided as a method of `ndarray`."
   ]
  },
  {
   "cell_type": "code",
   "execution_count": 145,
   "metadata": {
    "ExecuteTime": {
     "end_time": "2021-06-26T11:16:48.083451Z",
     "start_time": "2021-06-26T11:16:48.078909Z"
    }
   },
   "outputs": [
    {
     "name": "stdout",
     "output_type": "stream",
     "text": [
      "(28, 28)\n"
     ]
    }
   ],
   "source": [
    "X_test_normalized_instance = np.squeeze(X_test_normalized_cnn[0])\n",
    "print(X_test_normalized_instance.shape)"
   ]
  },
  {
   "cell_type": "code",
   "execution_count": 146,
   "metadata": {
    "ExecuteTime": {
     "end_time": "2021-06-26T11:16:48.165371Z",
     "start_time": "2021-06-26T11:16:48.086526Z"
    }
   },
   "outputs": [
    {
     "data": {
      "image/png": "[encoded data removed]",
      "text/plain": [
       "<Figure size 432x288 with 1 Axes>"
      ]
     },
     "metadata": {
      "needs_background": "light"
     },
     "output_type": "display_data"
    }
   ],
   "source": [
    "plt.imshow(X_test_normalized_instance, cmap=\"binary\")\n",
    "plt.axis('off')\n",
    "plt.show()"
   ]
  },
  {
   "cell_type": "code",
   "execution_count": 147,
   "metadata": {
    "ExecuteTime": {
     "end_time": "2021-06-26T11:17:08.284472Z",
     "start_time": "2021-06-26T11:17:08.280269Z"
    }
   },
   "outputs": [
    {
     "data": {
      "text/plain": [
       "'Ankle boot'"
      ]
     },
     "execution_count": 147,
     "metadata": {},
     "output_type": "execute_result"
    }
   ],
   "source": [
    "class_names[y_test[0]]"
   ]
  },
  {
   "cell_type": "markdown",
   "metadata": {},
   "source": [
    "Use the model straightforward with MC Dropout layer to predict a unique instance's class"
   ]
  },
  {
   "cell_type": "code",
   "execution_count": 148,
   "metadata": {
    "ExecuteTime": {
     "end_time": "2021-06-26T11:17:22.291493Z",
     "start_time": "2021-06-26T11:17:18.325718Z"
    }
   },
   "outputs": [
    {
     "data": {
      "application/vnd.jupyter.widget-view+json": {
       "model_id": "f30bcc73a68d4572a66168ac4c3068cc",
       "version_major": 2,
       "version_minor": 0
      },
      "text/plain": [
       "HBox(children=(HTML(value=''), FloatProgress(value=0.0), HTML(value='')))"
      ]
     },
     "metadata": {},
     "output_type": "display_data"
    },
    {
     "name": "stdout",
     "output_type": "stream",
     "text": [
      "\n",
      "[[0.   0.   0.   0.   0.   0.   0.   0.   0.   0.99]]\n"
     ]
    }
   ],
   "source": [
    "y_pred = np.round(np.mean([mc_model_cnn_drp.predict(X_test_normalized_cnn[0:1]) \n",
    "                                  for sample in tqdm(range(100))], axis=0), 2)\n",
    "print(y_pred)"
   ]
  },
  {
   "cell_type": "code",
   "execution_count": 149,
   "metadata": {
    "ExecuteTime": {
     "end_time": "2021-06-26T11:17:22.297847Z",
     "start_time": "2021-06-26T11:17:22.294847Z"
    }
   },
   "outputs": [],
   "source": [
    "y_pred = np.argmax(y_pred, axis=-1)"
   ]
  },
  {
   "cell_type": "code",
   "execution_count": 150,
   "metadata": {
    "ExecuteTime": {
     "end_time": "2021-06-26T11:17:22.306802Z",
     "start_time": "2021-06-26T11:17:22.301683Z"
    }
   },
   "outputs": [
    {
     "data": {
      "text/plain": [
       "array(['Ankle boot'], dtype='<U11')"
      ]
     },
     "execution_count": 150,
     "metadata": {},
     "output_type": "execute_result"
    }
   ],
   "source": [
    "np.array(class_names)[y_pred]"
   ]
  },
  {
   "cell_type": "markdown",
   "metadata": {},
   "source": [
    "Stack the probabilities for the instance"
   ]
  },
  {
   "cell_type": "code",
   "execution_count": 151,
   "metadata": {},
   "outputs": [
    {
     "data": {
      "application/vnd.jupyter.widget-view+json": {
       "model_id": "d64215ab2f294e378fe03b96b3fce1bb",
       "version_major": 2,
       "version_minor": 0
      },
      "text/plain": [
       "HBox(children=(HTML(value=''), FloatProgress(value=0.0), HTML(value='')))"
      ]
     },
     "metadata": {},
     "output_type": "display_data"
    },
    {
     "name": "stdout",
     "output_type": "stream",
     "text": [
      "\n"
     ]
    }
   ],
   "source": [
    "y_pred_instance = np.stack([mc_model_cnn_drp(X_test_normalized_cnn[0:1]) for sample in tqdm(range(100))], axis=0)"
   ]
  },
  {
   "cell_type": "code",
   "execution_count": 152,
   "metadata": {},
   "outputs": [
    {
     "data": {
      "image/png": "[encoded data removed]",
      "text/plain": [
       "<Figure size 576x432 with 1 Axes>"
      ]
     },
     "metadata": {
      "needs_background": "light"
     },
     "output_type": "display_data"
    }
   ],
   "source": [
    "plot_predictions_distribution_for_single_instance(y_pred_instance, class_names)"
   ]
  },
  {
   "cell_type": "code",
   "execution_count": 153,
   "metadata": {},
   "outputs": [],
   "source": [
    "y_pred_instance = np.squeeze(y_pred_instance)"
   ]
  },
  {
   "cell_type": "code",
   "execution_count": 154,
   "metadata": {},
   "outputs": [
    {
     "data": {
      "text/plain": [
       "(100, 10)"
      ]
     },
     "execution_count": 154,
     "metadata": {},
     "output_type": "execute_result"
    }
   ],
   "source": [
    "y_pred_instance.shape"
   ]
  },
  {
   "cell_type": "code",
   "execution_count": 155,
   "metadata": {},
   "outputs": [],
   "source": [
    "probas_df = pd.DataFrame(data=y_pred_instance, columns=class_names)"
   ]
  },
  {
   "cell_type": "code",
   "execution_count": 156,
   "metadata": {},
   "outputs": [
    {
     "data": {
      "text/html": [
       "<div>\n",
       "<style scoped>\n",
       "    .dataframe tbody tr th:only-of-type {\n",
       "        vertical-align: middle;\n",
       "    }\n",
       "\n",
       "    .dataframe tbody tr th {\n",
       "        vertical-align: top;\n",
       "    }\n",
       "\n",
       "    .dataframe thead th {\n",
       "        text-align: right;\n",
       "    }\n",
       "</style>\n",
       "<table border=\"1\" class=\"dataframe\">\n",
       "  <thead>\n",
       "    <tr style=\"text-align: right;\">\n",
       "      <th></th>\n",
       "      <th>T-shirt/top</th>\n",
       "      <th>Trouser</th>\n",
       "      <th>Pullover</th>\n",
       "      <th>Dress</th>\n",
       "      <th>Coat</th>\n",
       "      <th>Sandal</th>\n",
       "      <th>Shirt</th>\n",
       "      <th>Sneaker</th>\n",
       "      <th>Bag</th>\n",
       "      <th>Ankle boot</th>\n",
       "    </tr>\n",
       "  </thead>\n",
       "  <tbody>\n",
       "    <tr>\n",
       "      <th>0</th>\n",
       "      <td>1.089055e-07</td>\n",
       "      <td>1.476250e-06</td>\n",
       "      <td>1.096157e-06</td>\n",
       "      <td>8.147809e-09</td>\n",
       "      <td>7.585831e-06</td>\n",
       "      <td>2.633669e-04</td>\n",
       "      <td>4.131600e-08</td>\n",
       "      <td>0.001737</td>\n",
       "      <td>1.452764e-09</td>\n",
       "      <td>0.997990</td>\n",
       "    </tr>\n",
       "    <tr>\n",
       "      <th>1</th>\n",
       "      <td>3.563274e-10</td>\n",
       "      <td>4.146563e-10</td>\n",
       "      <td>1.304689e-10</td>\n",
       "      <td>2.643534e-14</td>\n",
       "      <td>4.303547e-12</td>\n",
       "      <td>5.385515e-07</td>\n",
       "      <td>4.187359e-10</td>\n",
       "      <td>0.000009</td>\n",
       "      <td>3.245421e-09</td>\n",
       "      <td>0.999990</td>\n",
       "    </tr>\n",
       "    <tr>\n",
       "      <th>2</th>\n",
       "      <td>2.229473e-08</td>\n",
       "      <td>8.056539e-13</td>\n",
       "      <td>2.232098e-12</td>\n",
       "      <td>2.951565e-13</td>\n",
       "      <td>5.238829e-14</td>\n",
       "      <td>9.098523e-09</td>\n",
       "      <td>4.126006e-13</td>\n",
       "      <td>0.000629</td>\n",
       "      <td>8.504445e-11</td>\n",
       "      <td>0.999371</td>\n",
       "    </tr>\n",
       "    <tr>\n",
       "      <th>3</th>\n",
       "      <td>4.512123e-07</td>\n",
       "      <td>3.834104e-08</td>\n",
       "      <td>9.965327e-07</td>\n",
       "      <td>7.314380e-08</td>\n",
       "      <td>6.510824e-07</td>\n",
       "      <td>1.608714e-02</td>\n",
       "      <td>1.038278e-06</td>\n",
       "      <td>0.056261</td>\n",
       "      <td>3.050139e-09</td>\n",
       "      <td>0.927648</td>\n",
       "    </tr>\n",
       "    <tr>\n",
       "      <th>4</th>\n",
       "      <td>2.468499e-08</td>\n",
       "      <td>3.257075e-07</td>\n",
       "      <td>2.852375e-10</td>\n",
       "      <td>6.876403e-10</td>\n",
       "      <td>1.901094e-08</td>\n",
       "      <td>1.472925e-05</td>\n",
       "      <td>7.508413e-07</td>\n",
       "      <td>0.000051</td>\n",
       "      <td>9.630654e-09</td>\n",
       "      <td>0.999933</td>\n",
       "    </tr>\n",
       "  </tbody>\n",
       "</table>\n",
       "</div>"
      ],
      "text/plain": [
       "    T-shirt/top       Trouser      Pullover         Dress          Coat  \\\n",
       "0  1.089055e-07  1.476250e-06  1.096157e-06  8.147809e-09  7.585831e-06   \n",
       "1  3.563274e-10  4.146563e-10  1.304689e-10  2.643534e-14  4.303547e-12   \n",
       "2  2.229473e-08  8.056539e-13  2.232098e-12  2.951565e-13  5.238829e-14   \n",
       "3  4.512123e-07  3.834104e-08  9.965327e-07  7.314380e-08  6.510824e-07   \n",
       "4  2.468499e-08  3.257075e-07  2.852375e-10  6.876403e-10  1.901094e-08   \n",
       "\n",
       "         Sandal         Shirt   Sneaker           Bag  Ankle boot  \n",
       "0  2.633669e-04  4.131600e-08  0.001737  1.452764e-09    0.997990  \n",
       "1  5.385515e-07  4.187359e-10  0.000009  3.245421e-09    0.999990  \n",
       "2  9.098523e-09  4.126006e-13  0.000629  8.504445e-11    0.999371  \n",
       "3  1.608714e-02  1.038278e-06  0.056261  3.050139e-09    0.927648  \n",
       "4  1.472925e-05  7.508413e-07  0.000051  9.630654e-09    0.999933  "
      ]
     },
     "execution_count": 156,
     "metadata": {},
     "output_type": "execute_result"
    }
   ],
   "source": [
    "probas_df.head()"
   ]
  },
  {
   "cell_type": "code",
   "execution_count": 220,
   "metadata": {},
   "outputs": [
    {
     "data": {
      "text/plain": [
       "(array([51.,  8.,  8.,  5.,  5.,  3.,  6.,  5.,  5.,  4.]),\n",
       " array([1.9780821e-04, 9.2006192e-02, 1.8381457e-01, 2.7562296e-01,\n",
       "        3.6743134e-01, 4.5923972e-01, 5.5104810e-01, 6.4285648e-01,\n",
       "        7.3466486e-01, 8.2647324e-01, 9.1828161e-01], dtype=float32),\n",
       " <BarContainer object of 10 artists>)"
      ]
     },
     "execution_count": 220,
     "metadata": {},
     "output_type": "execute_result"
    },
    {
     "data": {
      "image/png": "[encoded data removed]",
      "text/plain": [
       "<Figure size 432x288 with 1 Axes>"
      ]
     },
     "metadata": {
      "needs_background": "light"
     },
     "output_type": "display_data"
    }
   ],
   "source": [
    "plt.hist(probas_df[class_names[0]])"
   ]
  },
  {
   "cell_type": "code",
   "execution_count": null,
   "metadata": {},
   "outputs": [],
   "source": []
  },
  {
   "cell_type": "code",
   "execution_count": 158,
   "metadata": {},
   "outputs": [],
   "source": [
    "probas_df_log = probas_df.apply(log_softmax)"
   ]
  },
  {
   "cell_type": "code",
   "execution_count": 159,
   "metadata": {},
   "outputs": [
    {
     "data": {
      "text/html": [
       "<div>\n",
       "<style scoped>\n",
       "    .dataframe tbody tr th:only-of-type {\n",
       "        vertical-align: middle;\n",
       "    }\n",
       "\n",
       "    .dataframe tbody tr th {\n",
       "        vertical-align: top;\n",
       "    }\n",
       "\n",
       "    .dataframe thead th {\n",
       "        text-align: right;\n",
       "    }\n",
       "</style>\n",
       "<table border=\"1\" class=\"dataframe\">\n",
       "  <thead>\n",
       "    <tr style=\"text-align: right;\">\n",
       "      <th></th>\n",
       "      <th>T-shirt/top</th>\n",
       "      <th>Trouser</th>\n",
       "      <th>Pullover</th>\n",
       "      <th>Dress</th>\n",
       "      <th>Coat</th>\n",
       "      <th>Sandal</th>\n",
       "      <th>Shirt</th>\n",
       "      <th>Sneaker</th>\n",
       "      <th>Bag</th>\n",
       "      <th>Ankle boot</th>\n",
       "    </tr>\n",
       "  </thead>\n",
       "  <tbody>\n",
       "    <tr>\n",
       "      <th>0</th>\n",
       "      <td>-4.605174</td>\n",
       "      <td>-4.605186</td>\n",
       "      <td>-4.605170</td>\n",
       "      <td>-4.605171</td>\n",
       "      <td>-4.605164</td>\n",
       "      <td>-4.605407</td>\n",
       "      <td>-4.605175</td>\n",
       "      <td>-4.608130</td>\n",
       "      <td>-4.60517</td>\n",
       "      <td>-4.602746</td>\n",
       "    </tr>\n",
       "    <tr>\n",
       "      <th>1</th>\n",
       "      <td>-4.605174</td>\n",
       "      <td>-4.605187</td>\n",
       "      <td>-4.605171</td>\n",
       "      <td>-4.605171</td>\n",
       "      <td>-4.605172</td>\n",
       "      <td>-4.605670</td>\n",
       "      <td>-4.605175</td>\n",
       "      <td>-4.609858</td>\n",
       "      <td>-4.60517</td>\n",
       "      <td>-4.600745</td>\n",
       "    </tr>\n",
       "    <tr>\n",
       "      <th>2</th>\n",
       "      <td>-4.605174</td>\n",
       "      <td>-4.605187</td>\n",
       "      <td>-4.605171</td>\n",
       "      <td>-4.605171</td>\n",
       "      <td>-4.605172</td>\n",
       "      <td>-4.605670</td>\n",
       "      <td>-4.605175</td>\n",
       "      <td>-4.609238</td>\n",
       "      <td>-4.60517</td>\n",
       "      <td>-4.601365</td>\n",
       "    </tr>\n",
       "    <tr>\n",
       "      <th>3</th>\n",
       "      <td>-4.605173</td>\n",
       "      <td>-4.605187</td>\n",
       "      <td>-4.605170</td>\n",
       "      <td>-4.605170</td>\n",
       "      <td>-4.605171</td>\n",
       "      <td>-4.589583</td>\n",
       "      <td>-4.605174</td>\n",
       "      <td>-4.553606</td>\n",
       "      <td>-4.60517</td>\n",
       "      <td>-4.673087</td>\n",
       "    </tr>\n",
       "    <tr>\n",
       "      <th>4</th>\n",
       "      <td>-4.605174</td>\n",
       "      <td>-4.605186</td>\n",
       "      <td>-4.605171</td>\n",
       "      <td>-4.605171</td>\n",
       "      <td>-4.605172</td>\n",
       "      <td>-4.605656</td>\n",
       "      <td>-4.605175</td>\n",
       "      <td>-4.609817</td>\n",
       "      <td>-4.60517</td>\n",
       "      <td>-4.600802</td>\n",
       "    </tr>\n",
       "  </tbody>\n",
       "</table>\n",
       "</div>"
      ],
      "text/plain": [
       "   T-shirt/top   Trouser  Pullover     Dress      Coat    Sandal     Shirt  \\\n",
       "0    -4.605174 -4.605186 -4.605170 -4.605171 -4.605164 -4.605407 -4.605175   \n",
       "1    -4.605174 -4.605187 -4.605171 -4.605171 -4.605172 -4.605670 -4.605175   \n",
       "2    -4.605174 -4.605187 -4.605171 -4.605171 -4.605172 -4.605670 -4.605175   \n",
       "3    -4.605173 -4.605187 -4.605170 -4.605170 -4.605171 -4.589583 -4.605174   \n",
       "4    -4.605174 -4.605186 -4.605171 -4.605171 -4.605172 -4.605656 -4.605175   \n",
       "\n",
       "    Sneaker      Bag  Ankle boot  \n",
       "0 -4.608130 -4.60517   -4.602746  \n",
       "1 -4.609858 -4.60517   -4.600745  \n",
       "2 -4.609238 -4.60517   -4.601365  \n",
       "3 -4.553606 -4.60517   -4.673087  \n",
       "4 -4.609817 -4.60517   -4.600802  "
      ]
     },
     "execution_count": 159,
     "metadata": {},
     "output_type": "execute_result"
    }
   ],
   "source": [
    "probas_df_log.head()"
   ]
  },
  {
   "cell_type": "code",
   "execution_count": 160,
   "metadata": {},
   "outputs": [
    {
     "data": {
      "text/plain": [
       "(array([96.,  2.,  0.,  0.,  0.,  0.,  1.,  0.,  0.,  1.]),\n",
       " array([-4.6051736, -4.6051555, -4.605138 , -4.6051197, -4.6051016,\n",
       "        -4.6050835, -4.605066 , -4.6050477, -4.6050296, -4.605012 ,\n",
       "        -4.604994 ], dtype=float32),\n",
       " <BarContainer object of 10 artists>)"
      ]
     },
     "execution_count": 160,
     "metadata": {},
     "output_type": "execute_result"
    },
    {
     "data": {
      "image/png": "[encoded data removed]",
      "text/plain": [
       "<Figure size 432x288 with 1 Axes>"
      ]
     },
     "metadata": {
      "needs_background": "light"
     },
     "output_type": "display_data"
    }
   ],
   "source": [
    "plt.hist(probas_df_log[class_names[0]])"
   ]
  },
  {
   "cell_type": "code",
   "execution_count": 161,
   "metadata": {},
   "outputs": [],
   "source": [
    "probas_df_exp = probas_df_log.apply(np.exp)"
   ]
  },
  {
   "cell_type": "code",
   "execution_count": 162,
   "metadata": {},
   "outputs": [
    {
     "data": {
      "text/html": [
       "<div>\n",
       "<style scoped>\n",
       "    .dataframe tbody tr th:only-of-type {\n",
       "        vertical-align: middle;\n",
       "    }\n",
       "\n",
       "    .dataframe tbody tr th {\n",
       "        vertical-align: top;\n",
       "    }\n",
       "\n",
       "    .dataframe thead th {\n",
       "        text-align: right;\n",
       "    }\n",
       "</style>\n",
       "<table border=\"1\" class=\"dataframe\">\n",
       "  <thead>\n",
       "    <tr style=\"text-align: right;\">\n",
       "      <th></th>\n",
       "      <th>T-shirt/top</th>\n",
       "      <th>Trouser</th>\n",
       "      <th>Pullover</th>\n",
       "      <th>Dress</th>\n",
       "      <th>Coat</th>\n",
       "      <th>Sandal</th>\n",
       "      <th>Shirt</th>\n",
       "      <th>Sneaker</th>\n",
       "      <th>Bag</th>\n",
       "      <th>Ankle boot</th>\n",
       "    </tr>\n",
       "  </thead>\n",
       "  <tbody>\n",
       "    <tr>\n",
       "      <th>0</th>\n",
       "      <td>0.01</td>\n",
       "      <td>0.01</td>\n",
       "      <td>0.01</td>\n",
       "      <td>0.01</td>\n",
       "      <td>0.01</td>\n",
       "      <td>0.009998</td>\n",
       "      <td>0.01</td>\n",
       "      <td>0.009970</td>\n",
       "      <td>0.01</td>\n",
       "      <td>0.010024</td>\n",
       "    </tr>\n",
       "    <tr>\n",
       "      <th>1</th>\n",
       "      <td>0.01</td>\n",
       "      <td>0.01</td>\n",
       "      <td>0.01</td>\n",
       "      <td>0.01</td>\n",
       "      <td>0.01</td>\n",
       "      <td>0.009995</td>\n",
       "      <td>0.01</td>\n",
       "      <td>0.009953</td>\n",
       "      <td>0.01</td>\n",
       "      <td>0.010044</td>\n",
       "    </tr>\n",
       "    <tr>\n",
       "      <th>2</th>\n",
       "      <td>0.01</td>\n",
       "      <td>0.01</td>\n",
       "      <td>0.01</td>\n",
       "      <td>0.01</td>\n",
       "      <td>0.01</td>\n",
       "      <td>0.009995</td>\n",
       "      <td>0.01</td>\n",
       "      <td>0.009959</td>\n",
       "      <td>0.01</td>\n",
       "      <td>0.010038</td>\n",
       "    </tr>\n",
       "    <tr>\n",
       "      <th>3</th>\n",
       "      <td>0.01</td>\n",
       "      <td>0.01</td>\n",
       "      <td>0.01</td>\n",
       "      <td>0.01</td>\n",
       "      <td>0.01</td>\n",
       "      <td>0.010157</td>\n",
       "      <td>0.01</td>\n",
       "      <td>0.010529</td>\n",
       "      <td>0.01</td>\n",
       "      <td>0.009343</td>\n",
       "    </tr>\n",
       "    <tr>\n",
       "      <th>4</th>\n",
       "      <td>0.01</td>\n",
       "      <td>0.01</td>\n",
       "      <td>0.01</td>\n",
       "      <td>0.01</td>\n",
       "      <td>0.01</td>\n",
       "      <td>0.009995</td>\n",
       "      <td>0.01</td>\n",
       "      <td>0.009954</td>\n",
       "      <td>0.01</td>\n",
       "      <td>0.010044</td>\n",
       "    </tr>\n",
       "  </tbody>\n",
       "</table>\n",
       "</div>"
      ],
      "text/plain": [
       "   T-shirt/top  Trouser  Pullover  Dress  Coat    Sandal  Shirt   Sneaker  \\\n",
       "0         0.01     0.01      0.01   0.01  0.01  0.009998   0.01  0.009970   \n",
       "1         0.01     0.01      0.01   0.01  0.01  0.009995   0.01  0.009953   \n",
       "2         0.01     0.01      0.01   0.01  0.01  0.009995   0.01  0.009959   \n",
       "3         0.01     0.01      0.01   0.01  0.01  0.010157   0.01  0.010529   \n",
       "4         0.01     0.01      0.01   0.01  0.01  0.009995   0.01  0.009954   \n",
       "\n",
       "    Bag  Ankle boot  \n",
       "0  0.01    0.010024  \n",
       "1  0.01    0.010044  \n",
       "2  0.01    0.010038  \n",
       "3  0.01    0.009343  \n",
       "4  0.01    0.010044  "
      ]
     },
     "execution_count": 162,
     "metadata": {},
     "output_type": "execute_result"
    }
   ],
   "source": [
    "probas_df_exp.head()"
   ]
  },
  {
   "cell_type": "code",
   "execution_count": 163,
   "metadata": {},
   "outputs": [
    {
     "data": {
      "text/plain": [
       "(array([96.,  2.,  0.,  0.,  0.,  0.,  1.,  0.,  0.,  1.]),\n",
       " array([0.00999997, 0.01000015, 0.01000033, 0.01000051, 0.01000069,\n",
       "        0.01000086, 0.01000104, 0.01000122, 0.0100014 , 0.01000158,\n",
       "        0.01000176], dtype=float32),\n",
       " <BarContainer object of 10 artists>)"
      ]
     },
     "execution_count": 163,
     "metadata": {},
     "output_type": "execute_result"
    },
    {
     "data": {
      "image/png": "[encoded data removed]",
      "text/plain": [
       "<Figure size 432x288 with 1 Axes>"
      ]
     },
     "metadata": {
      "needs_background": "light"
     },
     "output_type": "display_data"
    }
   ],
   "source": [
    "plt.hist(probas_df_exp[class_names[0]])"
   ]
  },
  {
   "cell_type": "code",
   "execution_count": 164,
   "metadata": {},
   "outputs": [
    {
     "data": {
      "text/plain": [
       "0.009999966248869896"
      ]
     },
     "execution_count": 164,
     "metadata": {},
     "output_type": "execute_result"
    }
   ],
   "source": [
    "np.percentile(probas_df_exp[\"T-shirt/top\"], 50)"
   ]
  },
  {
   "cell_type": "code",
   "execution_count": 165,
   "metadata": {},
   "outputs": [
    {
     "data": {
      "text/plain": [
       "1.0703637e-09"
      ]
     },
     "execution_count": 165,
     "metadata": {},
     "output_type": "execute_result"
    }
   ],
   "source": [
    "probas_df[\"T-shirt/top\"].iloc[50]"
   ]
  },
  {
   "cell_type": "code",
   "execution_count": 166,
   "metadata": {},
   "outputs": [
    {
     "data": {
      "image/png": "[encoded data removed]",
      "text/plain": [
       "<Figure size 1440x144 with 10 Axes>"
      ]
     },
     "metadata": {
      "needs_background": "light"
     },
     "output_type": "display_data"
    }
   ],
   "source": [
    "fig, axs = plt.subplots(1, len(class_names), sharey=True, figsize=(20,2))\n",
    "for i in class_names:\n",
    "    plt.subplot(1, len(class_names), class_names.index(i) + 1)  # 1 row, 2 cols, subplot X\n",
    "    axs[class_names.index(i)].set_xlim([0, 1])\n",
    "    plt.hist(probas_df[class_names[class_names.index(i)]])"
   ]
  },
  {
   "cell_type": "code",
   "execution_count": null,
   "metadata": {},
   "outputs": [],
   "source": []
  },
  {
   "cell_type": "markdown",
   "metadata": {},
   "source": [
    "### Instance - Coat"
   ]
  },
  {
   "cell_type": "markdown",
   "metadata": {},
   "source": [
    "Use `numpy.squeeze()` to remove all dimensions of size 1 from the NumPy array `ndarray`. `squeeze()` is also provided as a method of `ndarray`."
   ]
  },
  {
   "cell_type": "code",
   "execution_count": 167,
   "metadata": {
    "ExecuteTime": {
     "end_time": "2021-06-26T11:17:27.756420Z",
     "start_time": "2021-06-26T11:17:27.752448Z"
    }
   },
   "outputs": [
    {
     "name": "stdout",
     "output_type": "stream",
     "text": [
      "(28, 28)\n"
     ]
    }
   ],
   "source": [
    "X_test_normalized_instance = np.squeeze(X_test_normalized_cnn[10])\n",
    "print(X_test_normalized_instance.shape)"
   ]
  },
  {
   "cell_type": "code",
   "execution_count": 168,
   "metadata": {
    "ExecuteTime": {
     "end_time": "2021-06-26T11:17:28.084490Z",
     "start_time": "2021-06-26T11:17:28.016495Z"
    }
   },
   "outputs": [
    {
     "data": {
      "image/png": "[encoded data removed]",
      "text/plain": [
       "<Figure size 432x288 with 1 Axes>"
      ]
     },
     "metadata": {
      "needs_background": "light"
     },
     "output_type": "display_data"
    }
   ],
   "source": [
    "plt.imshow(X_test_normalized_instance, cmap=\"binary\")\n",
    "plt.axis('off')\n",
    "plt.show()"
   ]
  },
  {
   "cell_type": "code",
   "execution_count": 169,
   "metadata": {
    "ExecuteTime": {
     "end_time": "2021-06-26T11:17:33.573608Z",
     "start_time": "2021-06-26T11:17:33.569318Z"
    }
   },
   "outputs": [
    {
     "data": {
      "text/plain": [
       "'Coat'"
      ]
     },
     "execution_count": 169,
     "metadata": {},
     "output_type": "execute_result"
    }
   ],
   "source": [
    "class_names[y_test[10]]"
   ]
  },
  {
   "cell_type": "markdown",
   "metadata": {},
   "source": [
    "Use the model straightforward with MC Dropout layer to predict a unique instance's class"
   ]
  },
  {
   "cell_type": "code",
   "execution_count": 170,
   "metadata": {
    "ExecuteTime": {
     "end_time": "2021-06-26T11:17:38.799437Z",
     "start_time": "2021-06-26T11:17:34.876324Z"
    }
   },
   "outputs": [
    {
     "data": {
      "application/vnd.jupyter.widget-view+json": {
       "model_id": "db4fdaacc90e41e0b3884ec120918f3c",
       "version_major": 2,
       "version_minor": 0
      },
      "text/plain": [
       "HBox(children=(HTML(value=''), FloatProgress(value=0.0), HTML(value='')))"
      ]
     },
     "metadata": {},
     "output_type": "display_data"
    },
    {
     "name": "stdout",
     "output_type": "stream",
     "text": [
      "\n",
      "[[0.   0.   0.03 0.   0.92 0.   0.05 0.   0.   0.  ]]\n"
     ]
    }
   ],
   "source": [
    "y_pred = np.round(np.mean([mc_model_cnn_drp.predict(X_test_normalized_cnn[10:11]) \n",
    "                                  for sample in tqdm(range(100))], axis=0), 2)\n",
    "print(y_pred)"
   ]
  },
  {
   "cell_type": "code",
   "execution_count": 171,
   "metadata": {
    "ExecuteTime": {
     "end_time": "2021-06-26T11:17:38.806153Z",
     "start_time": "2021-06-26T11:17:38.802536Z"
    }
   },
   "outputs": [],
   "source": [
    "y_pred = np.argmax(y_pred, axis=-1)"
   ]
  },
  {
   "cell_type": "code",
   "execution_count": 172,
   "metadata": {
    "ExecuteTime": {
     "end_time": "2021-06-26T11:17:38.813892Z",
     "start_time": "2021-06-26T11:17:38.809697Z"
    }
   },
   "outputs": [
    {
     "data": {
      "text/plain": [
       "array(['Coat'], dtype='<U11')"
      ]
     },
     "execution_count": 172,
     "metadata": {},
     "output_type": "execute_result"
    }
   ],
   "source": [
    "np.array(class_names)[y_pred]"
   ]
  },
  {
   "cell_type": "code",
   "execution_count": 173,
   "metadata": {},
   "outputs": [
    {
     "data": {
      "application/vnd.jupyter.widget-view+json": {
       "model_id": "74eeb726c21c415d887c38fe91e0abf6",
       "version_major": 2,
       "version_minor": 0
      },
      "text/plain": [
       "HBox(children=(HTML(value=''), FloatProgress(value=0.0), HTML(value='')))"
      ]
     },
     "metadata": {},
     "output_type": "display_data"
    },
    {
     "name": "stdout",
     "output_type": "stream",
     "text": [
      "\n"
     ]
    }
   ],
   "source": [
    "y_pred_instance = np.stack([mc_model_cnn_drp(X_test_normalized_cnn[10:11]) for sample in tqdm(range(100))], axis=0)"
   ]
  },
  {
   "cell_type": "code",
   "execution_count": 174,
   "metadata": {},
   "outputs": [
    {
     "data": {
      "image/png": "[encoded data removed]",
      "text/plain": [
       "<Figure size 576x432 with 1 Axes>"
      ]
     },
     "metadata": {
      "needs_background": "light"
     },
     "output_type": "display_data"
    }
   ],
   "source": [
    "plot_predictions_distribution_for_single_instance(y_pred_instance, class_names)"
   ]
  },
  {
   "cell_type": "markdown",
   "metadata": {},
   "source": [
    "## Evaluate the model on the Test data (with the probabilities this time)"
   ]
  },
  {
   "cell_type": "markdown",
   "metadata": {},
   "source": [
    "Stack the probabilities for all the instances"
   ]
  },
  {
   "cell_type": "code",
   "execution_count": 175,
   "metadata": {
    "ExecuteTime": {
     "end_time": "2021-06-26T11:23:06.311752Z",
     "start_time": "2021-06-26T11:17:38.816737Z"
    },
    "scrolled": true
   },
   "outputs": [
    {
     "data": {
      "application/vnd.jupyter.widget-view+json": {
       "model_id": "d6b45176407a4495995ecfe023a0699a",
       "version_major": 2,
       "version_minor": 0
      },
      "text/plain": [
       "HBox(children=(HTML(value=''), FloatProgress(value=0.0), HTML(value='')))"
      ]
     },
     "metadata": {},
     "output_type": "display_data"
    },
    {
     "name": "stdout",
     "output_type": "stream",
     "text": [
      "\n"
     ]
    }
   ],
   "source": [
    "y_probas = np.stack([mc_model_cnn_drp(X_test_normalized_cnn) for sample in tqdm(range(100))])"
   ]
  },
  {
   "cell_type": "markdown",
   "metadata": {},
   "source": [
    "Compute the mean and std for the instances' probability estimates"
   ]
  },
  {
   "cell_type": "code",
   "execution_count": 176,
   "metadata": {
    "ExecuteTime": {
     "end_time": "2021-06-26T11:23:06.327382Z",
     "start_time": "2021-06-26T11:23:06.315104Z"
    }
   },
   "outputs": [],
   "source": [
    "y_proba = y_probas.mean(axis=0)"
   ]
  },
  {
   "cell_type": "code",
   "execution_count": 177,
   "metadata": {
    "ExecuteTime": {
     "end_time": "2021-06-26T11:23:06.364071Z",
     "start_time": "2021-06-26T11:23:06.329655Z"
    }
   },
   "outputs": [],
   "source": [
    "y_std = y_probas.std(axis=0)"
   ]
  },
  {
   "cell_type": "markdown",
   "metadata": {},
   "source": [
    "Hold the predicted classes by return the maximum value from each probability estimate"
   ]
  },
  {
   "cell_type": "code",
   "execution_count": 178,
   "metadata": {
    "ExecuteTime": {
     "end_time": "2021-06-26T11:26:44.596170Z",
     "start_time": "2021-06-26T11:26:44.592925Z"
    }
   },
   "outputs": [],
   "source": [
    "y_pred = np.argmax(y_proba, axis=1)"
   ]
  },
  {
   "cell_type": "markdown",
   "metadata": {},
   "source": [
    "**Model's accuracy is now improved**"
   ]
  },
  {
   "cell_type": "code",
   "execution_count": 179,
   "metadata": {
    "ExecuteTime": {
     "end_time": "2021-06-26T11:26:46.093029Z",
     "start_time": "2021-06-26T11:26:46.089762Z"
    },
    "scrolled": true
   },
   "outputs": [],
   "source": [
    "accuracy = np.sum(y_pred == y_test) / len(y_test)"
   ]
  },
  {
   "cell_type": "markdown",
   "metadata": {},
   "source": []
  },
  {
   "cell_type": "code",
   "execution_count": 180,
   "metadata": {
    "ExecuteTime": {
     "end_time": "2021-06-26T11:26:48.284959Z",
     "start_time": "2021-06-26T11:26:48.281552Z"
    }
   },
   "outputs": [
    {
     "name": "stdout",
     "output_type": "stream",
     "text": [
      "Accuracy: 90.280\n"
     ]
    }
   ],
   "source": [
    "print(\"Accuracy: %.3f\" % (accuracy * 100))"
   ]
  },
  {
   "cell_type": "markdown",
   "metadata": {},
   "source": []
  },
  {
   "cell_type": "markdown",
   "metadata": {},
   "source": [
    "# Predictions on MNIST with digits"
   ]
  },
  {
   "cell_type": "markdown",
   "metadata": {},
   "source": [
    "## Load the data"
   ]
  },
  {
   "cell_type": "code",
   "execution_count": 181,
   "metadata": {
    "ExecuteTime": {
     "end_time": "2021-06-26T11:26:51.864553Z",
     "start_time": "2021-06-26T11:26:51.858460Z"
    }
   },
   "outputs": [],
   "source": [
    "digits_mnist = keras.datasets.mnist"
   ]
  },
  {
   "cell_type": "code",
   "execution_count": 182,
   "metadata": {
    "ExecuteTime": {
     "end_time": "2021-06-26T11:26:52.370739Z",
     "start_time": "2021-06-26T11:26:52.015173Z"
    }
   },
   "outputs": [],
   "source": [
    "(X_train_digits, y_train_digits), (X_test_digits, y_test_digits) = digits_mnist.load_data()"
   ]
  },
  {
   "cell_type": "code",
   "execution_count": 183,
   "metadata": {
    "ExecuteTime": {
     "end_time": "2021-06-26T11:26:52.377833Z",
     "start_time": "2021-06-26T11:26:52.372977Z"
    }
   },
   "outputs": [
    {
     "name": "stdout",
     "output_type": "stream",
     "text": [
      "Digits - X train shape: (60000, 28, 28)\n",
      "Digits - X test shape: (10000, 28, 28)\n",
      "Digits - y train shape: (10000, 28, 28)\n",
      "Digits - y test shape: (10000,)\n"
     ]
    }
   ],
   "source": [
    "print(\"Digits - X train shape:\", X_train_digits.shape)\n",
    "print(\"Digits - X test shape:\", X_test_digits.shape)\n",
    "print(\"Digits - y train shape:\", X_test_digits.shape)\n",
    "print(\"Digits - y test shape:\", y_test_digits.shape)"
   ]
  },
  {
   "cell_type": "markdown",
   "metadata": {},
   "source": [
    "## Transform the data (Scale + 4 dimensions)"
   ]
  },
  {
   "cell_type": "code",
   "execution_count": 184,
   "metadata": {
    "ExecuteTime": {
     "end_time": "2021-06-26T11:26:53.854616Z",
     "start_time": "2021-06-26T11:26:53.545362Z"
    }
   },
   "outputs": [],
   "source": [
    "X_train_digits_nrm = normalize_pics(X_train_digits)\n",
    "X_test_digits_nrm = normalize_pics(X_test_digits)"
   ]
  },
  {
   "cell_type": "code",
   "execution_count": 185,
   "metadata": {
    "ExecuteTime": {
     "end_time": "2021-06-26T11:26:53.874300Z",
     "start_time": "2021-06-26T11:26:53.857593Z"
    }
   },
   "outputs": [
    {
     "name": "stdout",
     "output_type": "stream",
     "text": [
      "Digits - X train normalized shape: (60000, 28, 28)\n",
      "Digits - X test normalized shape: (10000, 28, 28)\n",
      "Digits - X test max normalized value: 1.0\n",
      "Digits - X test min normalized value: 0.0\n"
     ]
    }
   ],
   "source": [
    "print(\"Digits - X train normalized shape:\", X_train_digits_nrm.shape)\n",
    "print(\"Digits - X test normalized shape:\", X_test_digits_nrm.shape)\n",
    "print(\"Digits - X test max normalized value:\", X_test_digits_nrm.max())\n",
    "print(\"Digits - X test min normalized value:\", X_test_digits_nrm.min())"
   ]
  },
  {
   "cell_type": "code",
   "execution_count": 186,
   "metadata": {
    "ExecuteTime": {
     "end_time": "2021-06-26T11:26:53.930722Z",
     "start_time": "2021-06-26T11:26:53.927715Z"
    }
   },
   "outputs": [],
   "source": [
    "X_train_digits_nrm_cnn = X_train_digits_nrm[..., np.newaxis]\n",
    "X_test_digits_nrm_cnn = X_test_digits_nrm[..., np.newaxis]"
   ]
  },
  {
   "cell_type": "markdown",
   "metadata": {},
   "source": [
    "## Predictions"
   ]
  },
  {
   "cell_type": "markdown",
   "metadata": {},
   "source": [
    "### Instance - 7"
   ]
  },
  {
   "cell_type": "code",
   "execution_count": 187,
   "metadata": {
    "ExecuteTime": {
     "end_time": "2021-06-26T11:26:55.453367Z",
     "start_time": "2021-06-26T11:26:55.449697Z"
    }
   },
   "outputs": [
    {
     "name": "stdout",
     "output_type": "stream",
     "text": [
      "Shape of digit instance (28, 28)\n",
      "label: 7\n"
     ]
    }
   ],
   "source": [
    "X_test_digits_nrm_instance = np.squeeze(X_test_digits_nrm_cnn[0])\n",
    "print(\"Shape of digit instance\", X_test_normalized_instance.shape)\n",
    "print(\"label:\", y_test_digits[0])"
   ]
  },
  {
   "cell_type": "code",
   "execution_count": 188,
   "metadata": {
    "ExecuteTime": {
     "end_time": "2021-06-26T11:26:55.746142Z",
     "start_time": "2021-06-26T11:26:55.672293Z"
    }
   },
   "outputs": [
    {
     "data": {
      "image/png": "[encoded data removed]",
      "text/plain": [
       "<Figure size 432x288 with 1 Axes>"
      ]
     },
     "metadata": {
      "needs_background": "light"
     },
     "output_type": "display_data"
    }
   ],
   "source": [
    "plt.imshow(X_test_digits_nrm_instance, cmap=\"binary\")\n",
    "plt.axis('off')\n",
    "plt.show()"
   ]
  },
  {
   "cell_type": "markdown",
   "metadata": {},
   "source": [
    "#### Simple Model Dropout -  `mc_model_simple_drp`"
   ]
  },
  {
   "cell_type": "code",
   "execution_count": 189,
   "metadata": {
    "ExecuteTime": {
     "end_time": "2021-06-26T12:52:58.580518Z",
     "start_time": "2021-06-26T12:52:54.672928Z"
    }
   },
   "outputs": [
    {
     "data": {
      "application/vnd.jupyter.widget-view+json": {
       "model_id": "7048b4db0a5649dcb11a29b30e57fdc7",
       "version_major": 2,
       "version_minor": 0
      },
      "text/plain": [
       "HBox(children=(HTML(value=''), FloatProgress(value=0.0), HTML(value='')))"
      ]
     },
     "metadata": {},
     "output_type": "display_data"
    },
    {
     "name": "stdout",
     "output_type": "stream",
     "text": [
      "\n",
      "[[0.16 0.   0.02 0.   0.   0.71 0.03 0.   0.05 0.01]]\n"
     ]
    }
   ],
   "source": [
    "y_pred_mc_cnn_digit = np.round(np.mean([mc_model_simple_drp.predict(X_test_digits_nrm_cnn[0:1]) \n",
    "                                        for sample in tqdm(range(100))], axis=0), 2)\n",
    "print(y_pred_mc_cnn_digit)"
   ]
  },
  {
   "cell_type": "markdown",
   "metadata": {},
   "source": [
    "#### MC Dropout CNN"
   ]
  },
  {
   "cell_type": "code",
   "execution_count": 190,
   "metadata": {
    "ExecuteTime": {
     "end_time": "2021-06-26T11:27:02.567544Z",
     "start_time": "2021-06-26T11:26:58.462863Z"
    }
   },
   "outputs": [
    {
     "data": {
      "application/vnd.jupyter.widget-view+json": {
       "model_id": "63eccf56eb9d4fd598701c089693744b",
       "version_major": 2,
       "version_minor": 0
      },
      "text/plain": [
       "HBox(children=(HTML(value=''), FloatProgress(value=0.0), HTML(value='')))"
      ]
     },
     "metadata": {},
     "output_type": "display_data"
    },
    {
     "name": "stdout",
     "output_type": "stream",
     "text": [
      "\n",
      "[[0.59 0.   0.01 0.03 0.01 0.35 0.   0.   0.01 0.  ]]\n"
     ]
    }
   ],
   "source": [
    "y_pred_mc_cnn_digit = np.round(np.mean([mc_model_cnn_drp.predict(X_test_digits_nrm_cnn[0:1]) \n",
    "                                        for sample in tqdm(range(100))], axis=0), 2)\n",
    "print(y_pred_mc_cnn_digit)"
   ]
  },
  {
   "cell_type": "markdown",
   "metadata": {},
   "source": [
    "#### Simple CNN"
   ]
  },
  {
   "cell_type": "code",
   "execution_count": 191,
   "metadata": {
    "ExecuteTime": {
     "end_time": "2021-06-26T11:27:06.317588Z",
     "start_time": "2021-06-26T11:27:06.270517Z"
    }
   },
   "outputs": [
    {
     "data": {
      "text/plain": [
       "array([[0.81, 0.  , 0.  , 0.04, 0.  , 0.  , 0.11, 0.  , 0.04, 0.  ]],\n",
       "      dtype=float32)"
      ]
     },
     "execution_count": 191,
     "metadata": {},
     "output_type": "execute_result"
    }
   ],
   "source": [
    "y_proba_softmax = model_cnn.predict(X_test_digits_nrm_cnn[0:1])\n",
    "y_proba_softmax.round(2)"
   ]
  },
  {
   "cell_type": "markdown",
   "metadata": {},
   "source": [
    "### Instance - 2"
   ]
  },
  {
   "cell_type": "code",
   "execution_count": 192,
   "metadata": {
    "ExecuteTime": {
     "end_time": "2021-06-26T11:27:20.662801Z",
     "start_time": "2021-06-26T11:27:20.658958Z"
    }
   },
   "outputs": [
    {
     "name": "stdout",
     "output_type": "stream",
     "text": [
      "Shape of digit instance (28, 28)\n",
      "label: 2\n"
     ]
    }
   ],
   "source": [
    "X_test_digits_nrm_instance = np.squeeze(X_test_digits_nrm_cnn[1])\n",
    "print(\"Shape of digit instance\", X_test_normalized_instance.shape)\n",
    "print(\"label:\", y_test_digits[1])"
   ]
  },
  {
   "cell_type": "code",
   "execution_count": 193,
   "metadata": {
    "ExecuteTime": {
     "end_time": "2021-06-26T11:27:21.964298Z",
     "start_time": "2021-06-26T11:27:21.899352Z"
    }
   },
   "outputs": [
    {
     "data": {
      "image/png": "[encoded data removed]",
      "text/plain": [
       "<Figure size 432x288 with 1 Axes>"
      ]
     },
     "metadata": {
      "needs_background": "light"
     },
     "output_type": "display_data"
    }
   ],
   "source": [
    "plt.imshow(X_test_digits_nrm_instance, cmap=\"binary\")\n",
    "plt.axis('off')\n",
    "plt.show()"
   ]
  },
  {
   "cell_type": "markdown",
   "metadata": {},
   "source": [
    "#### Simple Model Dropout -  `mc_model_simple_drp`"
   ]
  },
  {
   "cell_type": "code",
   "execution_count": 194,
   "metadata": {
    "ExecuteTime": {
     "end_time": "2021-06-26T12:54:55.863585Z",
     "start_time": "2021-06-26T12:54:51.959240Z"
    }
   },
   "outputs": [
    {
     "data": {
      "application/vnd.jupyter.widget-view+json": {
       "model_id": "1ac2a65814014d99ba88acfdf5a12570",
       "version_major": 2,
       "version_minor": 0
      },
      "text/plain": [
       "HBox(children=(HTML(value=''), FloatProgress(value=0.0), HTML(value='')))"
      ]
     },
     "metadata": {},
     "output_type": "display_data"
    },
    {
     "name": "stdout",
     "output_type": "stream",
     "text": [
      "\n",
      "[[0.05 0.04 0.1  0.39 0.24 0.01 0.12 0.01 0.04 0.01]]\n"
     ]
    }
   ],
   "source": [
    "y_pred_mc_cnn_digit = np.round(np.mean([mc_model_simple_drp.predict(X_test_digits_nrm_cnn[1:2]) \n",
    "                                        for sample in tqdm(range(100))], axis=0), 2)\n",
    "print(y_pred_mc_cnn_digit)"
   ]
  },
  {
   "cell_type": "markdown",
   "metadata": {},
   "source": [
    "#### MC Dropout CNN"
   ]
  },
  {
   "cell_type": "code",
   "execution_count": 195,
   "metadata": {
    "ExecuteTime": {
     "end_time": "2021-06-26T11:27:28.464184Z",
     "start_time": "2021-06-26T11:27:24.510232Z"
    }
   },
   "outputs": [
    {
     "data": {
      "application/vnd.jupyter.widget-view+json": {
       "model_id": "952cda2dff134fcc8c4849fe6d74ec39",
       "version_major": 2,
       "version_minor": 0
      },
      "text/plain": [
       "HBox(children=(HTML(value=''), FloatProgress(value=0.0), HTML(value='')))"
      ]
     },
     "metadata": {},
     "output_type": "display_data"
    },
    {
     "name": "stdout",
     "output_type": "stream",
     "text": [
      "\n",
      "[[0.29 0.   0.02 0.03 0.   0.03 0.02 0.   0.6  0.  ]]\n"
     ]
    }
   ],
   "source": [
    "y_pred_mc_cnn_digit = np.round(np.mean([mc_model_cnn_drp.predict(X_test_digits_nrm_cnn[1:2]) \n",
    "                                        for sample in tqdm(range(100))], axis=0), 2)\n",
    "print(y_pred_mc_cnn_digit)"
   ]
  },
  {
   "cell_type": "markdown",
   "metadata": {},
   "source": [
    "#### Simple CNN"
   ]
  },
  {
   "cell_type": "code",
   "execution_count": 196,
   "metadata": {
    "ExecuteTime": {
     "end_time": "2021-06-26T11:27:38.053981Z",
     "start_time": "2021-06-26T11:27:38.006584Z"
    }
   },
   "outputs": [
    {
     "data": {
      "text/plain": [
       "array([[0.48, 0.01, 0.17, 0.02, 0.  , 0.01, 0.19, 0.  , 0.11, 0.  ]],\n",
       "      dtype=float32)"
      ]
     },
     "execution_count": 196,
     "metadata": {},
     "output_type": "execute_result"
    }
   ],
   "source": [
    "y_proba_softmax = model_cnn.predict(X_test_digits_nrm_cnn[1:2])\n",
    "y_proba_softmax.round(2)"
   ]
  },
  {
   "cell_type": "markdown",
   "metadata": {},
   "source": [
    "### Instance - 1"
   ]
  },
  {
   "cell_type": "code",
   "execution_count": 197,
   "metadata": {
    "ExecuteTime": {
     "end_time": "2021-06-26T11:27:28.520250Z",
     "start_time": "2021-06-26T11:27:28.516342Z"
    }
   },
   "outputs": [
    {
     "name": "stdout",
     "output_type": "stream",
     "text": [
      "Shape of digit instance (28, 28)\n",
      "label: 1\n"
     ]
    }
   ],
   "source": [
    "X_test_digits_nrm_instance = np.squeeze(X_test_digits_nrm_cnn[2])\n",
    "print(\"Shape of digit instance\", X_test_normalized_instance.shape)\n",
    "print(\"label:\", y_test_digits[2])"
   ]
  },
  {
   "cell_type": "code",
   "execution_count": 198,
   "metadata": {
    "ExecuteTime": {
     "end_time": "2021-06-26T11:27:28.591910Z",
     "start_time": "2021-06-26T11:27:28.523124Z"
    },
    "scrolled": true
   },
   "outputs": [
    {
     "data": {
      "image/png": "[encoded data removed]",
      "text/plain": [
       "<Figure size 432x288 with 1 Axes>"
      ]
     },
     "metadata": {
      "needs_background": "light"
     },
     "output_type": "display_data"
    }
   ],
   "source": [
    "plt.imshow(X_test_digits_nrm_instance, cmap=\"binary\")\n",
    "plt.axis('off')\n",
    "plt.show()"
   ]
  },
  {
   "cell_type": "markdown",
   "metadata": {},
   "source": [
    "#### Simple Model Dropout -  `mc_model_simple_drp`"
   ]
  },
  {
   "cell_type": "code",
   "execution_count": 199,
   "metadata": {
    "ExecuteTime": {
     "end_time": "2021-06-26T12:54:55.863585Z",
     "start_time": "2021-06-26T12:54:51.959240Z"
    }
   },
   "outputs": [
    {
     "data": {
      "application/vnd.jupyter.widget-view+json": {
       "model_id": "f6b73d18acd54c879312c7e8e8439fa3",
       "version_major": 2,
       "version_minor": 0
      },
      "text/plain": [
       "HBox(children=(HTML(value=''), FloatProgress(value=0.0), HTML(value='')))"
      ]
     },
     "metadata": {},
     "output_type": "display_data"
    },
    {
     "name": "stdout",
     "output_type": "stream",
     "text": [
      "\n",
      "[[0.02 0.13 0.01 0.28 0.   0.48 0.01 0.05 0.   0.03]]\n"
     ]
    }
   ],
   "source": [
    "y_pred_mc_cnn_digit = np.round(np.mean([mc_model_simple_drp.predict(X_test_digits_nrm_cnn[2:3]) \n",
    "                                        for sample in tqdm(range(100))], axis=0), 2)\n",
    "print(y_pred_mc_cnn_digit)"
   ]
  },
  {
   "cell_type": "markdown",
   "metadata": {},
   "source": [
    "#### MC Dropout CNN"
   ]
  },
  {
   "cell_type": "code",
   "execution_count": 200,
   "metadata": {},
   "outputs": [
    {
     "data": {
      "application/vnd.jupyter.widget-view+json": {
       "model_id": "e4d85148d6c248569b6bed2d3887e0f8",
       "version_major": 2,
       "version_minor": 0
      },
      "text/plain": [
       "HBox(children=(HTML(value=''), FloatProgress(value=0.0), HTML(value='')))"
      ]
     },
     "metadata": {},
     "output_type": "display_data"
    },
    {
     "name": "stdout",
     "output_type": "stream",
     "text": [
      "\n"
     ]
    }
   ],
   "source": [
    "y_probas_mc_model_cnn_drp = np.stack([mc_model_cnn_drp(X_test_digits_nrm_cnn[2:3]) for sample in tqdm(range(100))])"
   ]
  },
  {
   "cell_type": "code",
   "execution_count": 201,
   "metadata": {},
   "outputs": [
    {
     "data": {
      "image/png": "[encoded data removed]",
      "text/plain": [
       "<Figure size 576x432 with 1 Axes>"
      ]
     },
     "metadata": {
      "needs_background": "light"
     },
     "output_type": "display_data"
    }
   ],
   "source": [
    "plot_predictions_distribution_for_single_instance(y_probas_mc_model_cnn_drp, class_names)"
   ]
  },
  {
   "cell_type": "code",
   "execution_count": 202,
   "metadata": {
    "ExecuteTime": {
     "end_time": "2021-06-26T11:27:38.003672Z",
     "start_time": "2021-06-26T11:27:34.094660Z"
    }
   },
   "outputs": [
    {
     "data": {
      "application/vnd.jupyter.widget-view+json": {
       "model_id": "3d96b0a0df994367b84d9a43e6612029",
       "version_major": 2,
       "version_minor": 0
      },
      "text/plain": [
       "HBox(children=(HTML(value=''), FloatProgress(value=0.0), HTML(value='')))"
      ]
     },
     "metadata": {},
     "output_type": "display_data"
    },
    {
     "name": "stdout",
     "output_type": "stream",
     "text": [
      "\n",
      "[[0.15 0.02 0.   0.04 0.   0.45 0.   0.26 0.01 0.07]]\n"
     ]
    }
   ],
   "source": [
    "y_pred_mc_cnn_digit = np.round(np.mean([mc_model_cnn_drp.predict(X_test_digits_nrm_cnn[2:3]) \n",
    "                                        for sample in tqdm(range(100))], axis=0), 2)\n",
    "print(y_pred_mc_cnn_digit)"
   ]
  },
  {
   "cell_type": "code",
   "execution_count": 203,
   "metadata": {},
   "outputs": [],
   "source": [
    "y_probas_mc_model_cnn_drp_2d = np.squeeze(y_probas_mc_model_cnn_drp)"
   ]
  },
  {
   "cell_type": "code",
   "execution_count": 204,
   "metadata": {},
   "outputs": [
    {
     "data": {
      "text/plain": [
       "(100, 10)"
      ]
     },
     "execution_count": 204,
     "metadata": {},
     "output_type": "execute_result"
    }
   ],
   "source": [
    "y_probas_mc_model_cnn_drp_2d.shape"
   ]
  },
  {
   "cell_type": "code",
   "execution_count": 205,
   "metadata": {},
   "outputs": [],
   "source": [
    "probas_df = pd.DataFrame(data=y_probas_mc_model_cnn_drp_2d, columns=class_names)"
   ]
  },
  {
   "cell_type": "code",
   "execution_count": 206,
   "metadata": {},
   "outputs": [
    {
     "data": {
      "text/html": [
       "<div>\n",
       "<style scoped>\n",
       "    .dataframe tbody tr th:only-of-type {\n",
       "        vertical-align: middle;\n",
       "    }\n",
       "\n",
       "    .dataframe tbody tr th {\n",
       "        vertical-align: top;\n",
       "    }\n",
       "\n",
       "    .dataframe thead th {\n",
       "        text-align: right;\n",
       "    }\n",
       "</style>\n",
       "<table border=\"1\" class=\"dataframe\">\n",
       "  <thead>\n",
       "    <tr style=\"text-align: right;\">\n",
       "      <th></th>\n",
       "      <th>T-shirt/top</th>\n",
       "      <th>Trouser</th>\n",
       "      <th>Pullover</th>\n",
       "      <th>Dress</th>\n",
       "      <th>Coat</th>\n",
       "      <th>Sandal</th>\n",
       "      <th>Shirt</th>\n",
       "      <th>Sneaker</th>\n",
       "      <th>Bag</th>\n",
       "      <th>Ankle boot</th>\n",
       "    </tr>\n",
       "  </thead>\n",
       "  <tbody>\n",
       "    <tr>\n",
       "      <th>0</th>\n",
       "      <td>0.000624</td>\n",
       "      <td>4.192163e-07</td>\n",
       "      <td>9.867059e-08</td>\n",
       "      <td>0.000006</td>\n",
       "      <td>1.074771e-07</td>\n",
       "      <td>0.020498</td>\n",
       "      <td>0.000002</td>\n",
       "      <td>0.971864</td>\n",
       "      <td>0.000006</td>\n",
       "      <td>0.006998</td>\n",
       "    </tr>\n",
       "    <tr>\n",
       "      <th>1</th>\n",
       "      <td>0.021861</td>\n",
       "      <td>4.669887e-04</td>\n",
       "      <td>6.592034e-07</td>\n",
       "      <td>0.004392</td>\n",
       "      <td>1.384356e-05</td>\n",
       "      <td>0.779247</td>\n",
       "      <td>0.000040</td>\n",
       "      <td>0.144798</td>\n",
       "      <td>0.000164</td>\n",
       "      <td>0.049015</td>\n",
       "    </tr>\n",
       "    <tr>\n",
       "      <th>2</th>\n",
       "      <td>0.008811</td>\n",
       "      <td>2.016510e-03</td>\n",
       "      <td>1.263339e-03</td>\n",
       "      <td>0.030118</td>\n",
       "      <td>5.704592e-04</td>\n",
       "      <td>0.849337</td>\n",
       "      <td>0.000511</td>\n",
       "      <td>0.090026</td>\n",
       "      <td>0.002172</td>\n",
       "      <td>0.015175</td>\n",
       "    </tr>\n",
       "    <tr>\n",
       "      <th>3</th>\n",
       "      <td>0.004307</td>\n",
       "      <td>2.956978e-04</td>\n",
       "      <td>7.339326e-04</td>\n",
       "      <td>0.114917</td>\n",
       "      <td>1.265688e-05</td>\n",
       "      <td>0.858150</td>\n",
       "      <td>0.001446</td>\n",
       "      <td>0.016340</td>\n",
       "      <td>0.000112</td>\n",
       "      <td>0.003686</td>\n",
       "    </tr>\n",
       "    <tr>\n",
       "      <th>4</th>\n",
       "      <td>0.159014</td>\n",
       "      <td>9.060095e-02</td>\n",
       "      <td>5.397949e-04</td>\n",
       "      <td>0.001300</td>\n",
       "      <td>2.327761e-04</td>\n",
       "      <td>0.084650</td>\n",
       "      <td>0.002763</td>\n",
       "      <td>0.191546</td>\n",
       "      <td>0.415246</td>\n",
       "      <td>0.054107</td>\n",
       "    </tr>\n",
       "  </tbody>\n",
       "</table>\n",
       "</div>"
      ],
      "text/plain": [
       "   T-shirt/top       Trouser      Pullover     Dress          Coat    Sandal  \\\n",
       "0     0.000624  4.192163e-07  9.867059e-08  0.000006  1.074771e-07  0.020498   \n",
       "1     0.021861  4.669887e-04  6.592034e-07  0.004392  1.384356e-05  0.779247   \n",
       "2     0.008811  2.016510e-03  1.263339e-03  0.030118  5.704592e-04  0.849337   \n",
       "3     0.004307  2.956978e-04  7.339326e-04  0.114917  1.265688e-05  0.858150   \n",
       "4     0.159014  9.060095e-02  5.397949e-04  0.001300  2.327761e-04  0.084650   \n",
       "\n",
       "      Shirt   Sneaker       Bag  Ankle boot  \n",
       "0  0.000002  0.971864  0.000006    0.006998  \n",
       "1  0.000040  0.144798  0.000164    0.049015  \n",
       "2  0.000511  0.090026  0.002172    0.015175  \n",
       "3  0.001446  0.016340  0.000112    0.003686  \n",
       "4  0.002763  0.191546  0.415246    0.054107  "
      ]
     },
     "execution_count": 206,
     "metadata": {},
     "output_type": "execute_result"
    }
   ],
   "source": [
    "probas_df.head()"
   ]
  },
  {
   "cell_type": "code",
   "execution_count": 207,
   "metadata": {},
   "outputs": [
    {
     "data": {
      "text/plain": [
       "(array([51.,  8.,  8.,  5.,  5.,  3.,  6.,  5.,  5.,  4.]),\n",
       " array([1.9780821e-04, 9.2006192e-02, 1.8381457e-01, 2.7562296e-01,\n",
       "        3.6743134e-01, 4.5923972e-01, 5.5104810e-01, 6.4285648e-01,\n",
       "        7.3466486e-01, 8.2647324e-01, 9.1828161e-01], dtype=float32),\n",
       " <BarContainer object of 10 artists>)"
      ]
     },
     "execution_count": 207,
     "metadata": {},
     "output_type": "execute_result"
    },
    {
     "data": {
      "image/png": "[encoded data removed]",
      "text/plain": [
       "<Figure size 432x288 with 1 Axes>"
      ]
     },
     "metadata": {
      "needs_background": "light"
     },
     "output_type": "display_data"
    }
   ],
   "source": [
    "plt.hist(probas_df[class_names[0]])"
   ]
  },
  {
   "cell_type": "code",
   "execution_count": 208,
   "metadata": {},
   "outputs": [],
   "source": [
    "from scipy.special import log_softmax"
   ]
  },
  {
   "cell_type": "code",
   "execution_count": 209,
   "metadata": {},
   "outputs": [],
   "source": [
    "probas_df_log = probas_df.apply(log_softmax)"
   ]
  },
  {
   "cell_type": "code",
   "execution_count": 210,
   "metadata": {},
   "outputs": [
    {
     "data": {
      "text/html": [
       "<div>\n",
       "<style scoped>\n",
       "    .dataframe tbody tr th:only-of-type {\n",
       "        vertical-align: middle;\n",
       "    }\n",
       "\n",
       "    .dataframe tbody tr th {\n",
       "        vertical-align: top;\n",
       "    }\n",
       "\n",
       "    .dataframe thead th {\n",
       "        text-align: right;\n",
       "    }\n",
       "</style>\n",
       "<table border=\"1\" class=\"dataframe\">\n",
       "  <thead>\n",
       "    <tr style=\"text-align: right;\">\n",
       "      <th></th>\n",
       "      <th>T-shirt/top</th>\n",
       "      <th>Trouser</th>\n",
       "      <th>Pullover</th>\n",
       "      <th>Dress</th>\n",
       "      <th>Coat</th>\n",
       "      <th>Sandal</th>\n",
       "      <th>Shirt</th>\n",
       "      <th>Sneaker</th>\n",
       "      <th>Bag</th>\n",
       "      <th>Ankle boot</th>\n",
       "    </tr>\n",
       "  </thead>\n",
       "  <tbody>\n",
       "    <tr>\n",
       "      <th>0</th>\n",
       "      <td>-4.882173</td>\n",
       "      <td>-4.635456</td>\n",
       "      <td>-4.608389</td>\n",
       "      <td>-4.642521</td>\n",
       "      <td>-4.607310</td>\n",
       "      <td>-5.013688</td>\n",
       "      <td>-4.609344</td>\n",
       "      <td>-3.901728</td>\n",
       "      <td>-4.620537</td>\n",
       "      <td>-4.677735</td>\n",
       "    </tr>\n",
       "    <tr>\n",
       "      <th>1</th>\n",
       "      <td>-4.860936</td>\n",
       "      <td>-4.634989</td>\n",
       "      <td>-4.608389</td>\n",
       "      <td>-4.638135</td>\n",
       "      <td>-4.607296</td>\n",
       "      <td>-4.254939</td>\n",
       "      <td>-4.609306</td>\n",
       "      <td>-4.728794</td>\n",
       "      <td>-4.620378</td>\n",
       "      <td>-4.635718</td>\n",
       "    </tr>\n",
       "    <tr>\n",
       "      <th>2</th>\n",
       "      <td>-4.873986</td>\n",
       "      <td>-4.633440</td>\n",
       "      <td>-4.607126</td>\n",
       "      <td>-4.612410</td>\n",
       "      <td>-4.606740</td>\n",
       "      <td>-4.184849</td>\n",
       "      <td>-4.608835</td>\n",
       "      <td>-4.783566</td>\n",
       "      <td>-4.618371</td>\n",
       "      <td>-4.669558</td>\n",
       "    </tr>\n",
       "    <tr>\n",
       "      <th>3</th>\n",
       "      <td>-4.878490</td>\n",
       "      <td>-4.635160</td>\n",
       "      <td>-4.607656</td>\n",
       "      <td>-4.527611</td>\n",
       "      <td>-4.607297</td>\n",
       "      <td>-4.176036</td>\n",
       "      <td>-4.607900</td>\n",
       "      <td>-4.857252</td>\n",
       "      <td>-4.620431</td>\n",
       "      <td>-4.681046</td>\n",
       "    </tr>\n",
       "    <tr>\n",
       "      <th>4</th>\n",
       "      <td>-4.723783</td>\n",
       "      <td>-4.544856</td>\n",
       "      <td>-4.607850</td>\n",
       "      <td>-4.641228</td>\n",
       "      <td>-4.607077</td>\n",
       "      <td>-4.949536</td>\n",
       "      <td>-4.606583</td>\n",
       "      <td>-4.682046</td>\n",
       "      <td>-4.205297</td>\n",
       "      <td>-4.630626</td>\n",
       "    </tr>\n",
       "  </tbody>\n",
       "</table>\n",
       "</div>"
      ],
      "text/plain": [
       "   T-shirt/top   Trouser  Pullover     Dress      Coat    Sandal     Shirt  \\\n",
       "0    -4.882173 -4.635456 -4.608389 -4.642521 -4.607310 -5.013688 -4.609344   \n",
       "1    -4.860936 -4.634989 -4.608389 -4.638135 -4.607296 -4.254939 -4.609306   \n",
       "2    -4.873986 -4.633440 -4.607126 -4.612410 -4.606740 -4.184849 -4.608835   \n",
       "3    -4.878490 -4.635160 -4.607656 -4.527611 -4.607297 -4.176036 -4.607900   \n",
       "4    -4.723783 -4.544856 -4.607850 -4.641228 -4.607077 -4.949536 -4.606583   \n",
       "\n",
       "    Sneaker       Bag  Ankle boot  \n",
       "0 -3.901728 -4.620537   -4.677735  \n",
       "1 -4.728794 -4.620378   -4.635718  \n",
       "2 -4.783566 -4.618371   -4.669558  \n",
       "3 -4.857252 -4.620431   -4.681046  \n",
       "4 -4.682046 -4.205297   -4.630626  "
      ]
     },
     "execution_count": 210,
     "metadata": {},
     "output_type": "execute_result"
    }
   ],
   "source": [
    "probas_df_log.head()"
   ]
  },
  {
   "cell_type": "code",
   "execution_count": 211,
   "metadata": {},
   "outputs": [
    {
     "data": {
      "text/plain": [
       "(array([51.,  8.,  8.,  5.,  5.,  3.,  6.,  5.,  5.,  4.]),\n",
       " array([-4.8825994, -4.790791 , -4.6989827, -4.6071744, -4.5153656,\n",
       "        -4.4235573, -4.331749 , -4.2399406, -4.1481323, -4.056324 ,\n",
       "        -3.9645154], dtype=float32),\n",
       " <BarContainer object of 10 artists>)"
      ]
     },
     "execution_count": 211,
     "metadata": {},
     "output_type": "execute_result"
    },
    {
     "data": {
      "image/png": "[encoded data removed]",
      "text/plain": [
       "<Figure size 432x288 with 1 Axes>"
      ]
     },
     "metadata": {
      "needs_background": "light"
     },
     "output_type": "display_data"
    }
   ],
   "source": [
    "plt.hist(probas_df_log[class_names[0]])"
   ]
  },
  {
   "cell_type": "code",
   "execution_count": 212,
   "metadata": {},
   "outputs": [],
   "source": [
    "probas_df_exp = probas_df_log.apply(np.exp)"
   ]
  },
  {
   "cell_type": "code",
   "execution_count": 213,
   "metadata": {},
   "outputs": [
    {
     "data": {
      "text/html": [
       "<div>\n",
       "<style scoped>\n",
       "    .dataframe tbody tr th:only-of-type {\n",
       "        vertical-align: middle;\n",
       "    }\n",
       "\n",
       "    .dataframe tbody tr th {\n",
       "        vertical-align: top;\n",
       "    }\n",
       "\n",
       "    .dataframe thead th {\n",
       "        text-align: right;\n",
       "    }\n",
       "</style>\n",
       "<table border=\"1\" class=\"dataframe\">\n",
       "  <thead>\n",
       "    <tr style=\"text-align: right;\">\n",
       "      <th></th>\n",
       "      <th>T-shirt/top</th>\n",
       "      <th>Trouser</th>\n",
       "      <th>Pullover</th>\n",
       "      <th>Dress</th>\n",
       "      <th>Coat</th>\n",
       "      <th>Sandal</th>\n",
       "      <th>Shirt</th>\n",
       "      <th>Sneaker</th>\n",
       "      <th>Bag</th>\n",
       "      <th>Ankle boot</th>\n",
       "    </tr>\n",
       "  </thead>\n",
       "  <tbody>\n",
       "    <tr>\n",
       "      <th>0</th>\n",
       "      <td>0.007581</td>\n",
       "      <td>0.009702</td>\n",
       "      <td>0.009968</td>\n",
       "      <td>0.009633</td>\n",
       "      <td>0.009979</td>\n",
       "      <td>0.006646</td>\n",
       "      <td>0.009958</td>\n",
       "      <td>0.020207</td>\n",
       "      <td>0.009848</td>\n",
       "      <td>0.009300</td>\n",
       "    </tr>\n",
       "    <tr>\n",
       "      <th>1</th>\n",
       "      <td>0.007743</td>\n",
       "      <td>0.009706</td>\n",
       "      <td>0.009968</td>\n",
       "      <td>0.009676</td>\n",
       "      <td>0.009979</td>\n",
       "      <td>0.014194</td>\n",
       "      <td>0.009959</td>\n",
       "      <td>0.008837</td>\n",
       "      <td>0.009849</td>\n",
       "      <td>0.009699</td>\n",
       "    </tr>\n",
       "    <tr>\n",
       "      <th>2</th>\n",
       "      <td>0.007643</td>\n",
       "      <td>0.009721</td>\n",
       "      <td>0.009980</td>\n",
       "      <td>0.009928</td>\n",
       "      <td>0.009984</td>\n",
       "      <td>0.015225</td>\n",
       "      <td>0.009963</td>\n",
       "      <td>0.008366</td>\n",
       "      <td>0.009869</td>\n",
       "      <td>0.009376</td>\n",
       "    </tr>\n",
       "    <tr>\n",
       "      <th>3</th>\n",
       "      <td>0.007608</td>\n",
       "      <td>0.009705</td>\n",
       "      <td>0.009975</td>\n",
       "      <td>0.010806</td>\n",
       "      <td>0.009979</td>\n",
       "      <td>0.015359</td>\n",
       "      <td>0.009973</td>\n",
       "      <td>0.007772</td>\n",
       "      <td>0.009849</td>\n",
       "      <td>0.009269</td>\n",
       "    </tr>\n",
       "    <tr>\n",
       "      <th>4</th>\n",
       "      <td>0.008882</td>\n",
       "      <td>0.010622</td>\n",
       "      <td>0.009973</td>\n",
       "      <td>0.009646</td>\n",
       "      <td>0.009981</td>\n",
       "      <td>0.007087</td>\n",
       "      <td>0.009986</td>\n",
       "      <td>0.009260</td>\n",
       "      <td>0.014916</td>\n",
       "      <td>0.009749</td>\n",
       "    </tr>\n",
       "  </tbody>\n",
       "</table>\n",
       "</div>"
      ],
      "text/plain": [
       "   T-shirt/top   Trouser  Pullover     Dress      Coat    Sandal     Shirt  \\\n",
       "0     0.007581  0.009702  0.009968  0.009633  0.009979  0.006646  0.009958   \n",
       "1     0.007743  0.009706  0.009968  0.009676  0.009979  0.014194  0.009959   \n",
       "2     0.007643  0.009721  0.009980  0.009928  0.009984  0.015225  0.009963   \n",
       "3     0.007608  0.009705  0.009975  0.010806  0.009979  0.015359  0.009973   \n",
       "4     0.008882  0.010622  0.009973  0.009646  0.009981  0.007087  0.009986   \n",
       "\n",
       "    Sneaker       Bag  Ankle boot  \n",
       "0  0.020207  0.009848    0.009300  \n",
       "1  0.008837  0.009849    0.009699  \n",
       "2  0.008366  0.009869    0.009376  \n",
       "3  0.007772  0.009849    0.009269  \n",
       "4  0.009260  0.014916    0.009749  "
      ]
     },
     "execution_count": 213,
     "metadata": {},
     "output_type": "execute_result"
    }
   ],
   "source": [
    "probas_df_exp.head()"
   ]
  },
  {
   "cell_type": "code",
   "execution_count": 214,
   "metadata": {},
   "outputs": [
    {
     "data": {
      "text/plain": [
       "(array([58.,  7.,  7.,  5.,  4.,  5.,  4.,  5.,  3.,  2.]),\n",
       " array([0.00757729, 0.00871729, 0.00985728, 0.01099727, 0.01213727,\n",
       "        0.01327726, 0.01441725, 0.01555725, 0.01669724, 0.01783724,\n",
       "        0.01897723], dtype=float32),\n",
       " <BarContainer object of 10 artists>)"
      ]
     },
     "execution_count": 214,
     "metadata": {},
     "output_type": "execute_result"
    },
    {
     "data": {
      "image/png": "[encoded data removed]",
      "text/plain": [
       "<Figure size 432x288 with 1 Axes>"
      ]
     },
     "metadata": {
      "needs_background": "light"
     },
     "output_type": "display_data"
    }
   ],
   "source": [
    "plt.hist(probas_df_exp[class_names[0]])"
   ]
  },
  {
   "cell_type": "code",
   "execution_count": 215,
   "metadata": {},
   "outputs": [
    {
     "data": {
      "text/plain": [
       "0.008263609372079372"
      ]
     },
     "execution_count": 215,
     "metadata": {},
     "output_type": "execute_result"
    }
   ],
   "source": [
    "np.percentile(probas_df_exp[\"T-shirt/top\"], 50)"
   ]
  },
  {
   "cell_type": "code",
   "execution_count": 216,
   "metadata": {},
   "outputs": [
    {
     "data": {
      "text/plain": [
       "0.017192863"
      ]
     },
     "execution_count": 216,
     "metadata": {},
     "output_type": "execute_result"
    }
   ],
   "source": [
    "probas_df[\"T-shirt/top\"].iloc[50]"
   ]
  },
  {
   "cell_type": "code",
   "execution_count": 217,
   "metadata": {},
   "outputs": [
    {
     "data": {
      "image/png": "[encoded data removed]",
      "text/plain": [
       "<Figure size 1440x144 with 10 Axes>"
      ]
     },
     "metadata": {
      "needs_background": "light"
     },
     "output_type": "display_data"
    }
   ],
   "source": [
    "fig, axs = plt.subplots(1, len(class_names), sharey=True, figsize=(20,2))\n",
    "for i in class_names:\n",
    "    plt.subplot(1, len(class_names), class_names.index(i) + 1)  # 1 row, 2 cols, subplot X\n",
    "    axs[class_names.index(i)].set_xlim([0, 1])\n",
    "    plt.hist(probas_df[class_names[class_names.index(i)]])"
   ]
  },
  {
   "cell_type": "markdown",
   "metadata": {},
   "source": [
    "#### Simple CNN"
   ]
  },
  {
   "cell_type": "code",
   "execution_count": 218,
   "metadata": {
    "ExecuteTime": {
     "end_time": "2021-06-26T11:27:38.053981Z",
     "start_time": "2021-06-26T11:27:38.006584Z"
    }
   },
   "outputs": [
    {
     "data": {
      "text/plain": [
       "array([[0.05, 0.39, 0.02, 0.21, 0.09, 0.01, 0.13, 0.02, 0.04, 0.04]],\n",
       "      dtype=float32)"
      ]
     },
     "execution_count": 218,
     "metadata": {},
     "output_type": "execute_result"
    }
   ],
   "source": [
    "y_proba_softmax = model_cnn.predict(X_test_digits_nrm_cnn[2:3])\n",
    "y_proba_softmax.round(2)"
   ]
  },
  {
   "cell_type": "code",
   "execution_count": null,
   "metadata": {},
   "outputs": [],
   "source": []
  }
 ],
 "metadata": {
  "kernelspec": {
   "display_name": "ml",
   "language": "python",
   "name": "ml"
  },
  "language_info": {
   "codemirror_mode": {
    "name": "ipython",
    "version": 3
   },
   "file_extension": ".py",
   "mimetype": "text/x-python",
   "name": "python",
   "nbconvert_exporter": "python",
   "pygments_lexer": "ipython3",
   "version": "3.7.10"
  },
  "toc": {
   "base_numbering": 1,
   "nav_menu": {},
   "number_sections": true,
   "sideBar": true,
   "skip_h1_title": false,
   "title_cell": "Table of Contents",
   "title_sidebar": "Contents",
   "toc_cell": false,
   "toc_position": {
    "height": "calc(100% - 180px)",
    "left": "10px",
    "top": "150px",
    "width": "543px"
   },
   "toc_section_display": true,
   "toc_window_display": true
  }
 },
 "nbformat": 4,
 "nbformat_minor": 4
}
