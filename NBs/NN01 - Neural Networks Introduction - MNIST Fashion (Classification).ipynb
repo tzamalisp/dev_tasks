{
 "cells": [
  {
   "cell_type": "code",
   "execution_count": 1,
   "metadata": {
    "ExecuteTime": {
     "end_time": "2021-06-25T11:48:45.007512Z",
     "start_time": "2021-06-25T11:48:38.084601Z"
    }
   },
   "outputs": [],
   "source": [
    "import numpy as np\n",
    "import os\n",
    "import pandas as pd\n",
    "\n",
    "# To plot pretty figures\n",
    "%matplotlib inline\n",
    "import matplotlib as mpl\n",
    "import matplotlib.pyplot as plt\n",
    "mpl.rc('axes', labelsize=14)\n",
    "mpl.rc('xtick', labelsize=12)\n",
    "mpl.rc('ytick', labelsize=12)\n",
    "\n",
    "# tensorflow and related layers\n",
    "import tensorflow as tf\n",
    "from tensorflow import keras\n",
    "from tensorflow.keras import Sequential\n",
    "from tensorflow.keras.layers import Conv2D\n",
    "from tensorflow.keras.layers import MaxPooling2D\n",
    "from tensorflow.keras.layers import Dense\n",
    "from tensorflow.keras.layers import Flatten\n",
    "from tensorflow.keras.layers import BatchNormalization\n",
    "from tensorflow.keras.layers import Dropout\n",
    "from tensorflow.keras.layers import Activation\n",
    "\n",
    "# reports\n",
    "from sklearn.metrics import confusion_matrix, classification_report\n",
    "\n",
    "# progress status\n",
    "from tqdm.notebook import tqdm\n",
    "\n",
    "# to make this notebook's output stable across runs\n",
    "np.random.seed(42)\n",
    "tf.random.set_seed(42)"
   ]
  },
  {
   "cell_type": "code",
   "execution_count": 2,
   "metadata": {
    "ExecuteTime": {
     "end_time": "2021-06-25T11:48:45.012642Z",
     "start_time": "2021-06-25T11:48:45.009313Z"
    }
   },
   "outputs": [
    {
     "name": "stdout",
     "output_type": "stream",
     "text": [
      "Tensorflow version: 2.5.0\n",
      "Keras version: 2.5.0\n"
     ]
    }
   ],
   "source": [
    "print(\"Tensorflow version:\", tf.__version__)\n",
    "print(\"Keras version:\", keras.__version__)"
   ]
  },
  {
   "cell_type": "markdown",
   "metadata": {},
   "source": [
    "Define Model parameters"
   ]
  },
  {
   "cell_type": "code",
   "execution_count": 3,
   "metadata": {
    "ExecuteTime": {
     "end_time": "2021-06-25T11:48:45.018390Z",
     "start_time": "2021-06-25T11:48:45.014235Z"
    }
   },
   "outputs": [],
   "source": [
    "model_params = {\n",
    "    \"n_epochs\": 20,\n",
    "    \"batch_size\": 32,\n",
    "    \"activation_output\": \"softmax\",\n",
    "    \"loss\": \"sparse_categorical_crossentropy\",\n",
    "    \"optimizer\": keras.optimizers.SGD(learning_rate=0.01, momentum=0.9, nesterov=True),\n",
    "    \"metrics\": [\"accuracy\"]\n",
    "}"
   ]
  },
  {
   "cell_type": "markdown",
   "metadata": {},
   "source": [
    "# Load the Dataset"
   ]
  },
  {
   "cell_type": "markdown",
   "metadata": {},
   "source": [
    "Load the data from Keras"
   ]
  },
  {
   "cell_type": "code",
   "execution_count": 4,
   "metadata": {
    "ExecuteTime": {
     "end_time": "2021-06-25T11:48:45.348481Z",
     "start_time": "2021-06-25T11:48:45.019515Z"
    }
   },
   "outputs": [],
   "source": [
    "fashion_mnist = keras.datasets.fashion_mnist\n",
    "(X_train_full, y_train_full), (X_test, y_test) = fashion_mnist.load_data()"
   ]
  },
  {
   "cell_type": "markdown",
   "metadata": {},
   "source": [
    "Explore the data related to its shape, data type, and min/max value in the matrix"
   ]
  },
  {
   "cell_type": "code",
   "execution_count": 5,
   "metadata": {
    "ExecuteTime": {
     "end_time": "2021-06-25T11:48:45.353061Z",
     "start_time": "2021-06-25T11:48:45.349785Z"
    }
   },
   "outputs": [
    {
     "name": "stdout",
     "output_type": "stream",
     "text": [
      "X train data shape: (60000, 28, 28)\n",
      "y train data shape: (60000,)\n",
      "X test data shape: (10000, 28, 28)\n",
      "y test data shape: (10000,)\n"
     ]
    }
   ],
   "source": [
    "print(\"X train data shape:\", X_train_full.shape)\n",
    "print(\"y train data shape:\", y_train_full.shape)\n",
    "print(\"X test data shape:\", X_test.shape)\n",
    "print(\"y test data shape:\", y_test.shape)"
   ]
  },
  {
   "cell_type": "code",
   "execution_count": 6,
   "metadata": {
    "ExecuteTime": {
     "end_time": "2021-06-25T11:48:45.358870Z",
     "start_time": "2021-06-25T11:48:45.354238Z"
    }
   },
   "outputs": [
    {
     "name": "stdout",
     "output_type": "stream",
     "text": [
      "X train data type: uint8\n",
      "y train data type: uint8\n",
      "X test data type: uint8\n",
      "y test data type: uint8\n"
     ]
    }
   ],
   "source": [
    "print(\"X train data type:\", X_train_full.dtype)\n",
    "print(\"y train data type:\", y_train_full.dtype)\n",
    "print(\"X test data type:\", X_test.dtype)\n",
    "print(\"y test data type:\", y_test.dtype)"
   ]
  },
  {
   "cell_type": "code",
   "execution_count": 7,
   "metadata": {
    "ExecuteTime": {
     "end_time": "2021-06-25T11:48:45.365217Z",
     "start_time": "2021-06-25T11:48:45.360647Z"
    }
   },
   "outputs": [
    {
     "name": "stdout",
     "output_type": "stream",
     "text": [
      "X train type: <class 'numpy.ndarray'>\n",
      "y train type: <class 'numpy.ndarray'>\n",
      "X test type: <class 'numpy.ndarray'>\n",
      "y test type: <class 'numpy.ndarray'>\n"
     ]
    }
   ],
   "source": [
    "print(\"X train type:\", type(X_train_full))\n",
    "print(\"y train type:\", type(y_train_full))\n",
    "print(\"X test type:\", type(X_test))\n",
    "print(\"y test type:\", type(y_test))"
   ]
  },
  {
   "cell_type": "code",
   "execution_count": 8,
   "metadata": {
    "ExecuteTime": {
     "end_time": "2021-06-25T11:48:45.459666Z",
     "start_time": "2021-06-25T11:48:45.366759Z"
    }
   },
   "outputs": [
    {
     "name": "stdout",
     "output_type": "stream",
     "text": [
      "Maximum matrix value: 255\n",
      "Minimum matrix value: 0\n"
     ]
    }
   ],
   "source": [
    "print(\"Maximum matrix value:\", X_train_full.max())\n",
    "print(\"Minimum matrix value:\", X_train_full.min())"
   ]
  },
  {
   "cell_type": "markdown",
   "metadata": {},
   "source": [
    "# Split the train data into *train* and *validation* sets"
   ]
  },
  {
   "cell_type": "code",
   "execution_count": 9,
   "metadata": {
    "ExecuteTime": {
     "end_time": "2021-06-25T11:48:45.463867Z",
     "start_time": "2021-06-25T11:48:45.461249Z"
    }
   },
   "outputs": [],
   "source": [
    "X_valid, X_train = X_train_full[:5000], X_train_full[5000:]\n",
    "y_valid, y_train = y_train_full[:5000], y_train_full[5000:]"
   ]
  },
  {
   "cell_type": "code",
   "execution_count": 10,
   "metadata": {
    "ExecuteTime": {
     "end_time": "2021-06-25T11:48:45.471657Z",
     "start_time": "2021-06-25T11:48:45.465423Z"
    }
   },
   "outputs": [
    {
     "name": "stdout",
     "output_type": "stream",
     "text": [
      "X validation data shape: (5000, 28, 28)\n",
      "y validation data shape: (5000,)\n"
     ]
    }
   ],
   "source": [
    "print(\"X validation data shape:\", X_valid.shape)\n",
    "print(\"y validation data shape:\", y_valid.shape)"
   ]
  },
  {
   "cell_type": "markdown",
   "metadata": {},
   "source": [
    "# Normalize the data"
   ]
  },
  {
   "cell_type": "code",
   "execution_count": 11,
   "metadata": {
    "ExecuteTime": {
     "end_time": "2021-06-25T11:48:45.476864Z",
     "start_time": "2021-06-25T11:48:45.472947Z"
    }
   },
   "outputs": [],
   "source": [
    "# normalization\n",
    "def normalize_pics(data):\n",
    "    return data / 255."
   ]
  },
  {
   "cell_type": "code",
   "execution_count": 12,
   "metadata": {
    "ExecuteTime": {
     "end_time": "2021-06-25T11:48:45.619001Z",
     "start_time": "2021-06-25T11:48:45.479022Z"
    }
   },
   "outputs": [],
   "source": [
    "X_train_normalized = normalize_pics(X_train)\n",
    "X_valid_normalized = normalize_pics(X_valid)\n",
    "X_test_normalized = normalize_pics(X_test)"
   ]
  },
  {
   "cell_type": "code",
   "execution_count": 13,
   "metadata": {
    "ExecuteTime": {
     "end_time": "2021-06-25T11:48:45.670196Z",
     "start_time": "2021-06-25T11:48:45.620369Z"
    }
   },
   "outputs": [
    {
     "name": "stdout",
     "output_type": "stream",
     "text": [
      "Maximum matrix value: 1.0\n",
      "Minimum matrix value: 0.0\n"
     ]
    }
   ],
   "source": [
    "print(\"Maximum matrix value:\", X_train_normalized.max())\n",
    "print(\"Minimum matrix value:\", X_train_normalized.min())"
   ]
  },
  {
   "cell_type": "code",
   "execution_count": 14,
   "metadata": {
    "ExecuteTime": {
     "end_time": "2021-06-25T11:48:45.674599Z",
     "start_time": "2021-06-25T11:48:45.671394Z"
    }
   },
   "outputs": [
    {
     "name": "stdout",
     "output_type": "stream",
     "text": [
      "X train normalized data shape: (55000, 28, 28)\n",
      "X validation normalized data shape: (5000, 28, 28)\n",
      "X test normalized data shape: (10000, 28, 28)\n"
     ]
    }
   ],
   "source": [
    "print(\"X train normalized data shape:\", X_train_normalized.shape)\n",
    "print(\"X validation normalized data shape:\", X_valid_normalized.shape)\n",
    "print(\"X test normalized data shape:\", X_test_normalized.shape)"
   ]
  },
  {
   "cell_type": "markdown",
   "metadata": {},
   "source": [
    "# Scale the inputs to mean 0 and standard deviation 1"
   ]
  },
  {
   "cell_type": "markdown",
   "metadata": {},
   "source": [
    "Compute the mean and std from the X_train full set pixels"
   ]
  },
  {
   "cell_type": "code",
   "execution_count": 15,
   "metadata": {
    "ExecuteTime": {
     "end_time": "2021-06-25T11:48:45.888781Z",
     "start_time": "2021-06-25T11:48:45.675705Z"
    }
   },
   "outputs": [],
   "source": [
    "pixel_means = X_train_full.mean(axis=0, keepdims=True)\n",
    "pixel_stds = X_train_full.std(axis=0, keepdims=True)"
   ]
  },
  {
   "cell_type": "code",
   "execution_count": 16,
   "metadata": {
    "ExecuteTime": {
     "end_time": "2021-06-25T11:48:45.892482Z",
     "start_time": "2021-06-25T11:48:45.890142Z"
    }
   },
   "outputs": [],
   "source": [
    "# standardization\n",
    "def scale_pics(data, pixel_means, pixel_stds):\n",
    "    return (data - pixel_means) / pixel_stds"
   ]
  },
  {
   "cell_type": "code",
   "execution_count": 17,
   "metadata": {
    "ExecuteTime": {
     "end_time": "2021-06-25T11:48:46.142714Z",
     "start_time": "2021-06-25T11:48:45.894025Z"
    }
   },
   "outputs": [],
   "source": [
    "X_train_scaled = scale_pics(X_train, pixel_means, pixel_stds)\n",
    "X_valid_scaled = scale_pics(X_valid, pixel_means, pixel_stds)\n",
    "X_test_scaled = scale_pics(X_test, pixel_means, pixel_stds)"
   ]
  },
  {
   "cell_type": "markdown",
   "metadata": {},
   "source": [
    "# Plot the data and define the classes"
   ]
  },
  {
   "cell_type": "markdown",
   "metadata": {},
   "source": [
    "Plot an instance"
   ]
  },
  {
   "cell_type": "code",
   "execution_count": 145,
   "metadata": {
    "ExecuteTime": {
     "end_time": "2021-06-25T14:09:09.264433Z",
     "start_time": "2021-06-25T14:09:09.200196Z"
    },
    "scrolled": true
   },
   "outputs": [
    {
     "data": {
      "image/png": "[encoded data removed]",
      "text/plain": [
       "<Figure size 432x288 with 1 Axes>"
      ]
     },
     "metadata": {
      "needs_background": "light"
     },
     "output_type": "display_data"
    }
   ],
   "source": [
    "plt.imshow(X_train_normalized[0], cmap=\"binary\")\n",
    "plt.axis('off')\n",
    "plt.show()"
   ]
  },
  {
   "cell_type": "markdown",
   "metadata": {},
   "source": [
    "Unique values of y_train data:"
   ]
  },
  {
   "cell_type": "code",
   "execution_count": 19,
   "metadata": {
    "ExecuteTime": {
     "end_time": "2021-06-25T11:48:46.212925Z",
     "start_time": "2021-06-25T11:48:46.208066Z"
    }
   },
   "outputs": [
    {
     "data": {
      "text/plain": [
       "array([0, 1, 2, 3, 4, 5, 6, 7, 8, 9], dtype=uint8)"
      ]
     },
     "execution_count": 19,
     "metadata": {},
     "output_type": "execute_result"
    }
   ],
   "source": [
    "np.unique(y_train)"
   ]
  },
  {
   "cell_type": "markdown",
   "metadata": {},
   "source": [
    "List of class names to know what exactly each number depicts"
   ]
  },
  {
   "cell_type": "code",
   "execution_count": 20,
   "metadata": {
    "ExecuteTime": {
     "end_time": "2021-06-25T11:48:46.216704Z",
     "start_time": "2021-06-25T11:48:46.214577Z"
    }
   },
   "outputs": [],
   "source": [
    "class_names = [\"T-shirt/top\", \"Trouser\", \"Pullover\", \"Dress\", \"Coat\",\n",
    "               \"Sandal\", \"Shirt\", \"Sneaker\", \"Bag\", \"Ankle boot\"]"
   ]
  },
  {
   "cell_type": "code",
   "execution_count": 21,
   "metadata": {
    "ExecuteTime": {
     "end_time": "2021-06-25T11:48:46.225551Z",
     "start_time": "2021-06-25T11:48:46.217845Z"
    }
   },
   "outputs": [
    {
     "data": {
      "text/plain": [
       "'Coat'"
      ]
     },
     "execution_count": 21,
     "metadata": {},
     "output_type": "execute_result"
    }
   ],
   "source": [
    "class_names[y_train[0]]"
   ]
  },
  {
   "cell_type": "markdown",
   "metadata": {},
   "source": [
    "Some samples from the MNIST Fashion dataset"
   ]
  },
  {
   "cell_type": "code",
   "execution_count": 22,
   "metadata": {
    "ExecuteTime": {
     "end_time": "2021-06-25T11:48:47.522067Z",
     "start_time": "2021-06-25T11:48:46.231229Z"
    }
   },
   "outputs": [
    {
     "data": {
      "image/png": "[encoded data removed]",
      "text/plain": [
       "<Figure size 864x345.6 with 40 Axes>"
      ]
     },
     "metadata": {
      "needs_background": "light"
     },
     "output_type": "display_data"
    }
   ],
   "source": [
    "n_rows = 4\n",
    "n_cols = 10\n",
    "plt.figure(figsize=(n_cols * 1.2, n_rows * 1.2))\n",
    "for row in range(n_rows):\n",
    "    for col in range(n_cols):\n",
    "        index = n_cols * row + col\n",
    "        plt.subplot(n_rows, n_cols, index + 1)\n",
    "        plt.imshow(X_train_normalized[index], cmap=\"binary\", interpolation=\"nearest\")\n",
    "        plt.axis('off')\n",
    "        plt.title(class_names[y_train[index]], fontsize=12)\n",
    "plt.subplots_adjust(wspace=0.2, hspace=0.5)\n",
    "plt.show()"
   ]
  },
  {
   "cell_type": "markdown",
   "metadata": {},
   "source": [
    "# Train a simple model"
   ]
  },
  {
   "cell_type": "markdown",
   "metadata": {},
   "source": [
    "## Initialize the model and its architecture"
   ]
  },
  {
   "cell_type": "code",
   "execution_count": 23,
   "metadata": {
    "ExecuteTime": {
     "end_time": "2021-06-25T11:48:47.598467Z",
     "start_time": "2021-06-25T11:48:47.524126Z"
    }
   },
   "outputs": [],
   "source": [
    "model_simple = keras.models.Sequential()\n",
    "model_simple.add(keras.layers.Flatten(input_shape=[28, 28]))\n",
    "model_simple.add(keras.layers.Dense(300, activation=\"relu\"))\n",
    "model_simple.add(keras.layers.Dense(100, activation=\"relu\"))\n",
    "model_simple.add(keras.layers.Dense(10, activation=\"softmax\"))"
   ]
  },
  {
   "cell_type": "markdown",
   "metadata": {},
   "source": [
    "Reset all state generated by Keras (if a model was initiated previously)"
   ]
  },
  {
   "cell_type": "code",
   "execution_count": 24,
   "metadata": {
    "ExecuteTime": {
     "end_time": "2021-06-25T11:48:47.603858Z",
     "start_time": "2021-06-25T11:48:47.599944Z"
    }
   },
   "outputs": [],
   "source": [
    "keras.backend.clear_session()"
   ]
  },
  {
   "cell_type": "code",
   "execution_count": 25,
   "metadata": {
    "ExecuteTime": {
     "end_time": "2021-06-25T11:48:47.638703Z",
     "start_time": "2021-06-25T11:48:47.604899Z"
    }
   },
   "outputs": [],
   "source": [
    "model_simple = keras.models.Sequential([\n",
    "    keras.layers.Flatten(input_shape=[28, 28]),\n",
    "    keras.layers.Dense(300, activation=\"relu\", kernel_initializer='he_uniform'),\n",
    "    keras.layers.Dense(100, activation=\"relu\", kernel_initializer='he_uniform'),\n",
    "    keras.layers.Dense(10, activation=\"softmax\")\n",
    "])"
   ]
  },
  {
   "cell_type": "markdown",
   "metadata": {},
   "source": [
    "Get model's list of layers"
   ]
  },
  {
   "cell_type": "code",
   "execution_count": 26,
   "metadata": {
    "ExecuteTime": {
     "end_time": "2021-06-25T11:48:47.644077Z",
     "start_time": "2021-06-25T11:48:47.640501Z"
    }
   },
   "outputs": [
    {
     "data": {
      "text/plain": [
       "[<tensorflow.python.keras.layers.core.Flatten at 0x7fbef819e390>,\n",
       " <tensorflow.python.keras.layers.core.Dense at 0x7fbef9cab6d0>,\n",
       " <tensorflow.python.keras.layers.core.Dense at 0x7fbef9c95f10>,\n",
       " <tensorflow.python.keras.layers.core.Dense at 0x7fbef819d890>]"
      ]
     },
     "execution_count": 26,
     "metadata": {},
     "output_type": "execute_result"
    }
   ],
   "source": [
    "model_simple.layers"
   ]
  },
  {
   "cell_type": "markdown",
   "metadata": {},
   "source": [
    "Display model's summary: layers with their names, their output shape, and the number of parameters"
   ]
  },
  {
   "cell_type": "code",
   "execution_count": 27,
   "metadata": {
    "ExecuteTime": {
     "end_time": "2021-06-25T11:48:47.650975Z",
     "start_time": "2021-06-25T11:48:47.645524Z"
    }
   },
   "outputs": [
    {
     "name": "stdout",
     "output_type": "stream",
     "text": [
      "Model: \"sequential\"\n",
      "_________________________________________________________________\n",
      "Layer (type)                 Output Shape              Param #   \n",
      "=================================================================\n",
      "flatten (Flatten)            (None, 784)               0         \n",
      "_________________________________________________________________\n",
      "dense (Dense)                (None, 300)               235500    \n",
      "_________________________________________________________________\n",
      "dense_1 (Dense)              (None, 100)               30100     \n",
      "_________________________________________________________________\n",
      "dense_2 (Dense)              (None, 10)                1010      \n",
      "=================================================================\n",
      "Total params: 266,610\n",
      "Trainable params: 266,610\n",
      "Non-trainable params: 0\n",
      "_________________________________________________________________\n"
     ]
    }
   ],
   "source": [
    "model_simple.summary()"
   ]
  },
  {
   "cell_type": "markdown",
   "metadata": {},
   "source": [
    "Plot model's summary"
   ]
  },
  {
   "cell_type": "code",
   "execution_count": 28,
   "metadata": {
    "ExecuteTime": {
     "end_time": "2021-06-25T11:48:47.832669Z",
     "start_time": "2021-06-25T11:48:47.652515Z"
    }
   },
   "outputs": [
    {
     "data": {
      "image/png": "[encoded data removed]",
      "text/plain": [
       "<IPython.core.display.Image object>"
      ]
     },
     "execution_count": 28,
     "metadata": {},
     "output_type": "execute_result"
    }
   ],
   "source": [
    "keras.utils.plot_model(model_simple, \"fashion_mnist_model.png\", show_shapes=True)"
   ]
  },
  {
   "cell_type": "markdown",
   "metadata": {},
   "source": [
    "## Description of a layer (in this case, Dense) "
   ]
  },
  {
   "cell_type": "code",
   "execution_count": 29,
   "metadata": {
    "ExecuteTime": {
     "end_time": "2021-06-25T11:48:47.838608Z",
     "start_time": "2021-06-25T11:48:47.834744Z"
    }
   },
   "outputs": [
    {
     "data": {
      "text/plain": [
       "'dense'"
      ]
     },
     "execution_count": 29,
     "metadata": {},
     "output_type": "execute_result"
    }
   ],
   "source": [
    "# name\n",
    "hidden1 = model_simple.layers[1]\n",
    "hidden1.name"
   ]
  },
  {
   "cell_type": "code",
   "execution_count": 30,
   "metadata": {
    "ExecuteTime": {
     "end_time": "2021-06-25T11:48:47.844175Z",
     "start_time": "2021-06-25T11:48:47.839808Z"
    }
   },
   "outputs": [
    {
     "data": {
      "text/plain": [
       "True"
      ]
     },
     "execution_count": 30,
     "metadata": {},
     "output_type": "execute_result"
    }
   ],
   "source": [
    "# check if it is hidden or not\n",
    "model_simple.get_layer(hidden1.name) is hidden1"
   ]
  },
  {
   "cell_type": "code",
   "execution_count": 31,
   "metadata": {
    "ExecuteTime": {
     "end_time": "2021-06-25T11:48:47.849798Z",
     "start_time": "2021-06-25T11:48:47.845320Z"
    }
   },
   "outputs": [],
   "source": [
    "# get layer's weights and biases\n",
    "weights, biases = hidden1.get_weights()"
   ]
  },
  {
   "cell_type": "code",
   "execution_count": 32,
   "metadata": {
    "ExecuteTime": {
     "end_time": "2021-06-25T11:48:47.857743Z",
     "start_time": "2021-06-25T11:48:47.850942Z"
    }
   },
   "outputs": [
    {
     "data": {
      "text/plain": [
       "array([ 0.08638643,  0.01047292, -0.03106006,  0.03670789, -0.04781865,\n",
       "        0.01388142,  0.02372251, -0.0502158 ,  0.02104162,  0.04844961,\n",
       "        0.02953007, -0.05797079,  0.02882975,  0.08435396,  0.06137309,\n",
       "       -0.0365416 ,  0.02144235,  0.03960829,  0.00081158, -0.08108427,\n",
       "       -0.0193755 , -0.00564279,  0.06111278,  0.0663498 , -0.07500501,\n",
       "       -0.07678579,  0.02225731,  0.0064536 ,  0.04960679, -0.05605847,\n",
       "       -0.07255901, -0.00733271, -0.05567595, -0.02564432,  0.0840748 ,\n",
       "        0.05180534,  0.0775819 , -0.03256639,  0.08727967, -0.04939087,\n",
       "       -0.02300654, -0.06733806, -0.04634434, -0.04670567, -0.04453361,\n",
       "        0.07660349,  0.05580015, -0.06644477,  0.05343934,  0.02162214,\n",
       "        0.02110711,  0.05253082, -0.01028174,  0.02007417,  0.02403441,\n",
       "        0.00990935, -0.07899092,  0.01655593, -0.0666851 , -0.06202734,\n",
       "        0.05867659,  0.0347885 ,  0.01871238,  0.03217603, -0.03072682,\n",
       "        0.00838172, -0.03927466,  0.0050872 , -0.06909116, -0.03754926,\n",
       "        0.02274314,  0.02005344,  0.02471364,  0.04563027,  0.08124269,\n",
       "       -0.08570263,  0.07105208,  0.04126406, -0.05771756, -0.02261438,\n",
       "       -0.00215293, -0.0017765 ,  0.01657401,  0.06082796, -0.04616909,\n",
       "        0.06945043,  0.03892951, -0.06313784, -0.03405474, -0.0162362 ,\n",
       "       -0.04205981, -0.07500524, -0.02240566, -0.02469521, -0.05852853,\n",
       "        0.00046165, -0.02292209, -0.07191198,  0.07633852, -0.01494952,\n",
       "        0.06142386,  0.01814352,  0.04946402,  0.02759493,  0.01367415,\n",
       "        0.02260964,  0.03406321, -0.00659697,  0.02416433,  0.05883979,\n",
       "       -0.06739834,  0.06177115, -0.08262528,  0.08568657,  0.04004928,\n",
       "        0.05341431, -0.04888878,  0.0174142 , -0.05911208,  0.02607612,\n",
       "        0.05379874, -0.0291065 ,  0.01025601,  0.00352528,  0.00999343,\n",
       "        0.02711882,  0.04706358,  0.0332334 ,  0.02905107, -0.02270513,\n",
       "        0.02730335,  0.04453845,  0.08743482,  0.0802794 ,  0.035145  ,\n",
       "        0.0681574 ,  0.06964206, -0.00090118, -0.03583794, -0.05696832,\n",
       "       -0.02182039,  0.06221154,  0.01543954, -0.02184287,  0.043883  ,\n",
       "        0.03607523,  0.02761395, -0.01735716,  0.0353621 , -0.04102827,\n",
       "       -0.02323218,  0.06398951, -0.01004931,  0.07117864, -0.0324099 ,\n",
       "       -0.07779647,  0.06422736,  0.08158184, -0.05656221, -0.01387172,\n",
       "       -0.00388763,  0.06566828,  0.07015639, -0.03807044,  0.05676744,\n",
       "        0.03721366, -0.03377296, -0.04568312, -0.04535226,  0.0789225 ,\n",
       "        0.06037561, -0.01839621,  0.04837992, -0.01797808, -0.08220766,\n",
       "        0.03620909, -0.00571496, -0.06202083, -0.02388988,  0.0141161 ,\n",
       "        0.01523153, -0.03299426, -0.03026629,  0.02756098, -0.02091236,\n",
       "        0.08501429, -0.0349768 ,  0.01130003,  0.00684517, -0.08435683,\n",
       "        0.04662085,  0.07320622,  0.01964422,  0.04813065,  0.00786436,\n",
       "       -0.07934977,  0.0127249 ,  0.01205222,  0.07094225, -0.04962981,\n",
       "       -0.05467565, -0.05773917, -0.04058516,  0.02734876, -0.06371194,\n",
       "       -0.019489  ,  0.02275736, -0.01304249, -0.01580154,  0.05616938,\n",
       "        0.06769683, -0.02685535,  0.03329907,  0.06853024,  0.02327126,\n",
       "       -0.01933562, -0.0645816 , -0.00447699, -0.05082279,  0.0507571 ,\n",
       "       -0.06695172, -0.02702182,  0.06601947,  0.02273446, -0.04365921,\n",
       "       -0.00608386, -0.01919535,  0.01624037,  0.04594233,  0.06349006,\n",
       "       -0.03839362,  0.01686668,  0.0413597 ,  0.06056712,  0.05030134,\n",
       "       -0.05163218, -0.06297539, -0.07056723, -0.04212785, -0.04009078,\n",
       "        0.0666968 ,  0.0003181 ,  0.05294221,  0.04290802, -0.02013098,\n",
       "       -0.03885728,  0.07809731,  0.02609888,  0.04273672,  0.0334079 ,\n",
       "       -0.02594491, -0.06180307, -0.04601304, -0.07831445,  0.03198019,\n",
       "        0.0554407 , -0.08173148, -0.01799981,  0.0321963 ,  0.01784807,\n",
       "        0.04124867, -0.04092918,  0.01527475, -0.00479482, -0.07531194,\n",
       "        0.01915057, -0.0565089 , -0.05676015, -0.0850585 ,  0.00675841,\n",
       "       -0.0243837 , -0.07243231,  0.01419617, -0.05533993,  0.05096962,\n",
       "       -0.02378445, -0.06297734,  0.04540155, -0.02997844,  0.03140134,\n",
       "        0.07112128, -0.07317931, -0.07345321, -0.00756579,  0.05134153,\n",
       "       -0.07584208,  0.07695249,  0.01397993, -0.08690111,  0.02798399,\n",
       "        0.03933781,  0.07772361, -0.08572979, -0.08562652, -0.01823268,\n",
       "        0.00460257,  0.00605068, -0.0442915 , -0.06822342, -0.01293834],\n",
       "      dtype=float32)"
      ]
     },
     "execution_count": 32,
     "metadata": {},
     "output_type": "execute_result"
    }
   ],
   "source": [
    "# weights' values\n",
    "weights[5]"
   ]
  },
  {
   "cell_type": "code",
   "execution_count": 33,
   "metadata": {
    "ExecuteTime": {
     "end_time": "2021-06-25T11:48:47.862626Z",
     "start_time": "2021-06-25T11:48:47.858947Z"
    }
   },
   "outputs": [
    {
     "data": {
      "text/plain": [
       "(784, 300)"
      ]
     },
     "execution_count": 33,
     "metadata": {},
     "output_type": "execute_result"
    }
   ],
   "source": [
    "# weights' shape\n",
    "weights.shape"
   ]
  },
  {
   "cell_type": "code",
   "execution_count": 34,
   "metadata": {
    "ExecuteTime": {
     "end_time": "2021-06-25T11:48:47.869457Z",
     "start_time": "2021-06-25T11:48:47.863653Z"
    }
   },
   "outputs": [
    {
     "data": {
      "text/plain": [
       "array([0., 0., 0., 0., 0., 0., 0., 0., 0., 0., 0., 0., 0., 0., 0., 0., 0.,\n",
       "       0., 0., 0., 0., 0., 0., 0., 0., 0., 0., 0., 0., 0., 0., 0., 0., 0.,\n",
       "       0., 0., 0., 0., 0., 0., 0., 0., 0., 0., 0., 0., 0., 0., 0., 0., 0.,\n",
       "       0., 0., 0., 0., 0., 0., 0., 0., 0., 0., 0., 0., 0., 0., 0., 0., 0.,\n",
       "       0., 0., 0., 0., 0., 0., 0., 0., 0., 0., 0., 0., 0., 0., 0., 0., 0.,\n",
       "       0., 0., 0., 0., 0., 0., 0., 0., 0., 0., 0., 0., 0., 0., 0., 0., 0.,\n",
       "       0., 0., 0., 0., 0., 0., 0., 0., 0., 0., 0., 0., 0., 0., 0., 0., 0.,\n",
       "       0., 0., 0., 0., 0., 0., 0., 0., 0., 0., 0., 0., 0., 0., 0., 0., 0.,\n",
       "       0., 0., 0., 0., 0., 0., 0., 0., 0., 0., 0., 0., 0., 0., 0., 0., 0.,\n",
       "       0., 0., 0., 0., 0., 0., 0., 0., 0., 0., 0., 0., 0., 0., 0., 0., 0.,\n",
       "       0., 0., 0., 0., 0., 0., 0., 0., 0., 0., 0., 0., 0., 0., 0., 0., 0.,\n",
       "       0., 0., 0., 0., 0., 0., 0., 0., 0., 0., 0., 0., 0., 0., 0., 0., 0.,\n",
       "       0., 0., 0., 0., 0., 0., 0., 0., 0., 0., 0., 0., 0., 0., 0., 0., 0.,\n",
       "       0., 0., 0., 0., 0., 0., 0., 0., 0., 0., 0., 0., 0., 0., 0., 0., 0.,\n",
       "       0., 0., 0., 0., 0., 0., 0., 0., 0., 0., 0., 0., 0., 0., 0., 0., 0.,\n",
       "       0., 0., 0., 0., 0., 0., 0., 0., 0., 0., 0., 0., 0., 0., 0., 0., 0.,\n",
       "       0., 0., 0., 0., 0., 0., 0., 0., 0., 0., 0., 0., 0., 0., 0., 0., 0.,\n",
       "       0., 0., 0., 0., 0., 0., 0., 0., 0., 0., 0.], dtype=float32)"
      ]
     },
     "execution_count": 34,
     "metadata": {},
     "output_type": "execute_result"
    }
   ],
   "source": [
    "# biases values\n",
    "biases"
   ]
  },
  {
   "cell_type": "code",
   "execution_count": 35,
   "metadata": {
    "ExecuteTime": {
     "end_time": "2021-06-25T11:48:47.874023Z",
     "start_time": "2021-06-25T11:48:47.870652Z"
    }
   },
   "outputs": [
    {
     "data": {
      "text/plain": [
       "(300,)"
      ]
     },
     "execution_count": 35,
     "metadata": {},
     "output_type": "execute_result"
    }
   ],
   "source": [
    "# biases' values\n",
    "biases.shape"
   ]
  },
  {
   "cell_type": "markdown",
   "metadata": {},
   "source": [
    "## Compile the model"
   ]
  },
  {
   "cell_type": "code",
   "execution_count": 36,
   "metadata": {
    "ExecuteTime": {
     "end_time": "2021-06-25T11:48:47.884503Z",
     "start_time": "2021-06-25T11:48:47.875059Z"
    }
   },
   "outputs": [],
   "source": [
    "model_simple.compile(loss=model_params[\"loss\"], \n",
    "                     optimizer=model_params[\"optimizer\"], \n",
    "                     metrics=model_params[\"metrics\"])"
   ]
  },
  {
   "cell_type": "markdown",
   "metadata": {},
   "source": [
    "## Train the model"
   ]
  },
  {
   "cell_type": "code",
   "execution_count": 37,
   "metadata": {
    "ExecuteTime": {
     "end_time": "2021-06-25T11:49:45.178231Z",
     "start_time": "2021-06-25T11:48:47.885973Z"
    },
    "scrolled": true
   },
   "outputs": [
    {
     "name": "stdout",
     "output_type": "stream",
     "text": [
      "Epoch 1/20\n",
      "1719/1719 [==============================] - 3s 2ms/step - loss: 0.4992 - accuracy: 0.8229 - val_loss: 0.3757 - val_accuracy: 0.8650\n",
      "Epoch 2/20\n",
      "1719/1719 [==============================] - 3s 2ms/step - loss: 0.3727 - accuracy: 0.8628 - val_loss: 0.3617 - val_accuracy: 0.8702\n",
      "Epoch 3/20\n",
      "1719/1719 [==============================] - 4s 2ms/step - loss: 0.3372 - accuracy: 0.8758 - val_loss: 0.3409 - val_accuracy: 0.8754\n",
      "Epoch 4/20\n",
      "1719/1719 [==============================] - 4s 2ms/step - loss: 0.3143 - accuracy: 0.8837 - val_loss: 0.3167 - val_accuracy: 0.8854\n",
      "Epoch 5/20\n",
      "1719/1719 [==============================] - 3s 2ms/step - loss: 0.2976 - accuracy: 0.8892 - val_loss: 0.3160 - val_accuracy: 0.8818\n",
      "Epoch 6/20\n",
      "1719/1719 [==============================] - 3s 2ms/step - loss: 0.2808 - accuracy: 0.8964 - val_loss: 0.3110 - val_accuracy: 0.8898\n",
      "Epoch 7/20\n",
      "1719/1719 [==============================] - 3s 2ms/step - loss: 0.2697 - accuracy: 0.8993 - val_loss: 0.3068 - val_accuracy: 0.8942\n",
      "Epoch 8/20\n",
      "1719/1719 [==============================] - 3s 2ms/step - loss: 0.2554 - accuracy: 0.9041 - val_loss: 0.3086 - val_accuracy: 0.8876\n",
      "Epoch 9/20\n",
      "1719/1719 [==============================] - 3s 2ms/step - loss: 0.2476 - accuracy: 0.9063 - val_loss: 0.3051 - val_accuracy: 0.8882\n",
      "Epoch 10/20\n",
      "1719/1719 [==============================] - 3s 2ms/step - loss: 0.2384 - accuracy: 0.9101 - val_loss: 0.2887 - val_accuracy: 0.8976\n",
      "Epoch 11/20\n",
      "1719/1719 [==============================] - 3s 2ms/step - loss: 0.2295 - accuracy: 0.9138 - val_loss: 0.3123 - val_accuracy: 0.8878\n",
      "Epoch 12/20\n",
      "1719/1719 [==============================] - 3s 1ms/step - loss: 0.2200 - accuracy: 0.9171 - val_loss: 0.3024 - val_accuracy: 0.8914\n",
      "Epoch 13/20\n",
      "1719/1719 [==============================] - 3s 1ms/step - loss: 0.2142 - accuracy: 0.9187 - val_loss: 0.3180 - val_accuracy: 0.8926\n",
      "Epoch 14/20\n",
      "1719/1719 [==============================] - 3s 1ms/step - loss: 0.2064 - accuracy: 0.9224 - val_loss: 0.3180 - val_accuracy: 0.8868\n",
      "Epoch 15/20\n",
      "1719/1719 [==============================] - 3s 1ms/step - loss: 0.2006 - accuracy: 0.9235 - val_loss: 0.3308 - val_accuracy: 0.8868\n",
      "Epoch 16/20\n",
      "1719/1719 [==============================] - 3s 2ms/step - loss: 0.1965 - accuracy: 0.9266 - val_loss: 0.3161 - val_accuracy: 0.8904\n",
      "Epoch 17/20\n",
      "1719/1719 [==============================] - 3s 2ms/step - loss: 0.1886 - accuracy: 0.9287 - val_loss: 0.3481 - val_accuracy: 0.8832\n",
      "Epoch 18/20\n",
      "1719/1719 [==============================] - 3s 1ms/step - loss: 0.1848 - accuracy: 0.9290 - val_loss: 0.3306 - val_accuracy: 0.8888\n",
      "Epoch 19/20\n",
      "1719/1719 [==============================] - 3s 1ms/step - loss: 0.1795 - accuracy: 0.9331 - val_loss: 0.3053 - val_accuracy: 0.8966\n",
      "Epoch 20/20\n",
      "1719/1719 [==============================] - 3s 1ms/step - loss: 0.1729 - accuracy: 0.9349 - val_loss: 0.3061 - val_accuracy: 0.8948\n"
     ]
    }
   ],
   "source": [
    "history_simple = model_simple.fit(X_train_normalized, y_train, epochs=model_params[\"n_epochs\"], \n",
    "                                  validation_data=(X_valid_normalized, y_valid))"
   ]
  },
  {
   "cell_type": "markdown",
   "metadata": {},
   "source": [
    "Training parameters"
   ]
  },
  {
   "cell_type": "code",
   "execution_count": 38,
   "metadata": {
    "ExecuteTime": {
     "end_time": "2021-06-25T11:49:45.183191Z",
     "start_time": "2021-06-25T11:49:45.179696Z"
    }
   },
   "outputs": [
    {
     "data": {
      "text/plain": [
       "{'verbose': 1, 'epochs': 20, 'steps': 1719}"
      ]
     },
     "execution_count": 38,
     "metadata": {},
     "output_type": "execute_result"
    }
   ],
   "source": [
    "history_simple.params"
   ]
  },
  {
   "cell_type": "markdown",
   "metadata": {},
   "source": [
    "Training epochs"
   ]
  },
  {
   "cell_type": "code",
   "execution_count": 39,
   "metadata": {
    "ExecuteTime": {
     "end_time": "2021-06-25T11:49:45.189002Z",
     "start_time": "2021-06-25T11:49:45.184498Z"
    }
   },
   "outputs": [
    {
     "name": "stdout",
     "output_type": "stream",
     "text": [
      "[0, 1, 2, 3, 4, 5, 6, 7, 8, 9, 10, 11, 12, 13, 14, 15, 16, 17, 18, 19]\n"
     ]
    }
   ],
   "source": [
    "print(history_simple.epoch)"
   ]
  },
  {
   "cell_type": "markdown",
   "metadata": {},
   "source": [
    "Training keys of the metrics"
   ]
  },
  {
   "cell_type": "code",
   "execution_count": 40,
   "metadata": {
    "ExecuteTime": {
     "end_time": "2021-06-25T11:49:45.193906Z",
     "start_time": "2021-06-25T11:49:45.190046Z"
    }
   },
   "outputs": [
    {
     "data": {
      "text/plain": [
       "dict_keys(['loss', 'accuracy', 'val_loss', 'val_accuracy'])"
      ]
     },
     "execution_count": 40,
     "metadata": {},
     "output_type": "execute_result"
    }
   ],
   "source": [
    "history_simple.history.keys()"
   ]
  },
  {
   "cell_type": "markdown",
   "metadata": {},
   "source": [
    "Train evaluation though the epochs"
   ]
  },
  {
   "cell_type": "code",
   "execution_count": 41,
   "metadata": {
    "ExecuteTime": {
     "end_time": "2021-06-25T11:49:45.394127Z",
     "start_time": "2021-06-25T11:49:45.194932Z"
    }
   },
   "outputs": [
    {
     "data": {
      "image/png": "[encoded data removed]",
      "text/plain": [
       "<Figure size 576x360 with 1 Axes>"
      ]
     },
     "metadata": {
      "needs_background": "light"
     },
     "output_type": "display_data"
    }
   ],
   "source": [
    "pd.DataFrame(history_simple.history).plot(figsize=(8, 5))\n",
    "plt.grid(True)\n",
    "plt.gca().set_ylim(0, 1)\n",
    "plt.show()"
   ]
  },
  {
   "cell_type": "markdown",
   "metadata": {},
   "source": [
    "## Evaluate the model on the Test data"
   ]
  },
  {
   "cell_type": "markdown",
   "metadata": {},
   "source": [
    "**Model accuracy**\n",
    "\n",
    "Evaluate on test data"
   ]
  },
  {
   "cell_type": "code",
   "execution_count": 42,
   "metadata": {
    "ExecuteTime": {
     "end_time": "2021-06-25T11:49:45.855253Z",
     "start_time": "2021-06-25T11:49:45.396147Z"
    }
   },
   "outputs": [
    {
     "name": "stdout",
     "output_type": "stream",
     "text": [
      "313/313 [==============================] - 0s 1ms/step - loss: 63.0085 - accuracy: 0.8516\n"
     ]
    },
    {
     "data": {
      "text/plain": [
       "[63.00847625732422, 0.8515999913215637]"
      ]
     },
     "execution_count": 42,
     "metadata": {},
     "output_type": "execute_result"
    }
   ],
   "source": [
    "model_simple.evaluate(X_test, y_test)"
   ]
  },
  {
   "cell_type": "markdown",
   "metadata": {},
   "source": [
    "The prediction of the model is at: **83.93%**"
   ]
  },
  {
   "cell_type": "markdown",
   "metadata": {},
   "source": [
    "Make the predictions based on the unseen test data"
   ]
  },
  {
   "cell_type": "code",
   "execution_count": 43,
   "metadata": {
    "ExecuteTime": {
     "end_time": "2021-06-25T11:49:46.158497Z",
     "start_time": "2021-06-25T11:49:45.856225Z"
    }
   },
   "outputs": [
    {
     "name": "stdout",
     "output_type": "stream",
     "text": [
      "313/313 [==============================] - 0s 620us/step\n"
     ]
    }
   ],
   "source": [
    "predictions = np.argmax(model_simple.predict(X_test_normalized, verbose=1), axis=-1)"
   ]
  },
  {
   "cell_type": "markdown",
   "metadata": {},
   "source": [
    "Shape of predictions"
   ]
  },
  {
   "cell_type": "code",
   "execution_count": 44,
   "metadata": {
    "ExecuteTime": {
     "end_time": "2021-06-25T11:49:46.162681Z",
     "start_time": "2021-06-25T11:49:46.160075Z"
    }
   },
   "outputs": [
    {
     "data": {
      "text/plain": [
       "(10000,)"
      ]
     },
     "execution_count": 44,
     "metadata": {},
     "output_type": "execute_result"
    }
   ],
   "source": [
    "predictions.shape"
   ]
  },
  {
   "cell_type": "markdown",
   "metadata": {},
   "source": [
    "Confusion matrix"
   ]
  },
  {
   "cell_type": "code",
   "execution_count": 45,
   "metadata": {
    "ExecuteTime": {
     "end_time": "2021-06-25T11:49:46.193649Z",
     "start_time": "2021-06-25T11:49:46.163625Z"
    }
   },
   "outputs": [
    {
     "name": "stdout",
     "output_type": "stream",
     "text": [
      "[[807   2  17  37   5   1 126   0   5   0]\n",
      " [  1 978   2  13   3   0   2   0   1   0]\n",
      " [ 11   1 781  21 111   1  74   0   0   0]\n",
      " [ 14   6   6 934  21   0  16   0   3   0]\n",
      " [  0   1  52  31 854   0  61   0   1   0]\n",
      " [  0   0   0   1   0 966   0  22   1  10]\n",
      " [ 82   0  58  44  75   0 734   0   7   0]\n",
      " [  0   0   0   0   0   8   0 974   0  18]\n",
      " [  7   1   1   8   2   3   5   4 969   0]\n",
      " [  1   0   0   0   0   6   0  44   0 949]]\n"
     ]
    }
   ],
   "source": [
    "print(confusion_matrix(y_test, predictions))"
   ]
  },
  {
   "cell_type": "markdown",
   "metadata": {},
   "source": [
    "Classification report"
   ]
  },
  {
   "cell_type": "code",
   "execution_count": 46,
   "metadata": {
    "ExecuteTime": {
     "end_time": "2021-06-25T11:49:46.214151Z",
     "start_time": "2021-06-25T11:49:46.195081Z"
    }
   },
   "outputs": [
    {
     "name": "stdout",
     "output_type": "stream",
     "text": [
      "              precision    recall  f1-score   support\n",
      "\n",
      "           0       0.87      0.81      0.84      1000\n",
      "           1       0.99      0.98      0.98      1000\n",
      "           2       0.85      0.78      0.81      1000\n",
      "           3       0.86      0.93      0.89      1000\n",
      "           4       0.80      0.85      0.82      1000\n",
      "           5       0.98      0.97      0.97      1000\n",
      "           6       0.72      0.73      0.73      1000\n",
      "           7       0.93      0.97      0.95      1000\n",
      "           8       0.98      0.97      0.98      1000\n",
      "           9       0.97      0.95      0.96      1000\n",
      "\n",
      "    accuracy                           0.89     10000\n",
      "   macro avg       0.90      0.89      0.89     10000\n",
      "weighted avg       0.90      0.89      0.89     10000\n",
      "\n"
     ]
    }
   ],
   "source": [
    "print(classification_report(y_test, predictions))"
   ]
  },
  {
   "cell_type": "code",
   "execution_count": null,
   "metadata": {},
   "outputs": [],
   "source": []
  },
  {
   "cell_type": "markdown",
   "metadata": {},
   "source": []
  },
  {
   "cell_type": "markdown",
   "metadata": {},
   "source": [
    "# Monte Carlo (MC) Dropout"
   ]
  },
  {
   "cell_type": "markdown",
   "metadata": {},
   "source": [
    "Reset all state generated by Keras"
   ]
  },
  {
   "cell_type": "code",
   "execution_count": 61,
   "metadata": {
    "ExecuteTime": {
     "end_time": "2021-06-25T11:49:46.799726Z",
     "start_time": "2021-06-25T11:49:46.795423Z"
    }
   },
   "outputs": [],
   "source": [
    "# keras.backend.clear_session()"
   ]
  },
  {
   "cell_type": "markdown",
   "metadata": {},
   "source": [
    "Add Dropout layers"
   ]
  },
  {
   "cell_type": "code",
   "execution_count": 62,
   "metadata": {
    "ExecuteTime": {
     "end_time": "2021-06-25T11:49:46.835197Z",
     "start_time": "2021-06-25T11:49:46.801157Z"
    }
   },
   "outputs": [],
   "source": [
    "model = keras.models.Sequential([\n",
    "    keras.layers.Flatten(input_shape=[28, 28]),\n",
    "    keras.layers.Dropout(rate=0.2),\n",
    "    keras.layers.Dense(300, activation=\"relu\", kernel_initializer=\"he_normal\"),\n",
    "    keras.layers.Dropout(rate=0.2),\n",
    "    keras.layers.Dense(100, activation=\"relu\", kernel_initializer=\"he_normal\"),\n",
    "    keras.layers.Dropout(rate=0.2),\n",
    "    keras.layers.Dense(10, activation=\"softmax\")\n",
    "])"
   ]
  },
  {
   "cell_type": "markdown",
   "metadata": {},
   "source": [
    "Compile the model"
   ]
  },
  {
   "cell_type": "code",
   "execution_count": 63,
   "metadata": {
    "ExecuteTime": {
     "end_time": "2021-06-25T11:49:46.841769Z",
     "start_time": "2021-06-25T11:49:46.836395Z"
    }
   },
   "outputs": [],
   "source": [
    "model.compile(loss=model_params[\"loss\"], \n",
    "              optimizer=model_params[\"optimizer\"], \n",
    "              metrics=model_params[\"metrics\"])"
   ]
  },
  {
   "cell_type": "markdown",
   "metadata": {},
   "source": [
    "Train the model"
   ]
  },
  {
   "cell_type": "code",
   "execution_count": 64,
   "metadata": {
    "ExecuteTime": {
     "end_time": "2021-06-25T11:50:50.603992Z",
     "start_time": "2021-06-25T11:49:46.842945Z"
    },
    "scrolled": true
   },
   "outputs": [
    {
     "name": "stdout",
     "output_type": "stream",
     "text": [
      "Epoch 1/20\n",
      "1719/1719 [==============================] - 3s 2ms/step - loss: 0.6237 - accuracy: 0.7726 - val_loss: 0.4187 - val_accuracy: 0.8484\n",
      "Epoch 2/20\n",
      "1719/1719 [==============================] - 3s 2ms/step - loss: 0.4803 - accuracy: 0.8219 - val_loss: 0.3864 - val_accuracy: 0.8572\n",
      "Epoch 3/20\n",
      "1719/1719 [==============================] - 3s 2ms/step - loss: 0.4449 - accuracy: 0.8363 - val_loss: 0.3703 - val_accuracy: 0.8640\n",
      "Epoch 4/20\n",
      "1719/1719 [==============================] - 3s 2ms/step - loss: 0.4214 - accuracy: 0.8441 - val_loss: 0.3376 - val_accuracy: 0.8764\n",
      "Epoch 5/20\n",
      "1719/1719 [==============================] - 3s 2ms/step - loss: 0.4048 - accuracy: 0.8510 - val_loss: 0.3305 - val_accuracy: 0.8756\n",
      "Epoch 6/20\n",
      "1719/1719 [==============================] - 3s 2ms/step - loss: 0.3933 - accuracy: 0.8559 - val_loss: 0.3282 - val_accuracy: 0.8816\n",
      "Epoch 7/20\n",
      "1719/1719 [==============================] - 3s 2ms/step - loss: 0.3810 - accuracy: 0.8577 - val_loss: 0.3276 - val_accuracy: 0.8788\n",
      "Epoch 8/20\n",
      "1719/1719 [==============================] - 3s 2ms/step - loss: 0.3731 - accuracy: 0.8617 - val_loss: 0.3183 - val_accuracy: 0.8854\n",
      "Epoch 9/20\n",
      "1719/1719 [==============================] - 3s 2ms/step - loss: 0.3655 - accuracy: 0.8648 - val_loss: 0.3156 - val_accuracy: 0.8852\n",
      "Epoch 10/20\n",
      "1719/1719 [==============================] - 3s 2ms/step - loss: 0.3567 - accuracy: 0.8661 - val_loss: 0.2981 - val_accuracy: 0.8884\n",
      "Epoch 11/20\n",
      "1719/1719 [==============================] - 3s 2ms/step - loss: 0.3516 - accuracy: 0.8670 - val_loss: 0.2994 - val_accuracy: 0.8860\n",
      "Epoch 12/20\n",
      "1719/1719 [==============================] - 3s 2ms/step - loss: 0.3448 - accuracy: 0.8690 - val_loss: 0.3012 - val_accuracy: 0.8830\n",
      "Epoch 13/20\n",
      "1719/1719 [==============================] - 3s 2ms/step - loss: 0.3437 - accuracy: 0.8724 - val_loss: 0.2973 - val_accuracy: 0.8920\n",
      "Epoch 14/20\n",
      "1719/1719 [==============================] - 3s 2ms/step - loss: 0.3384 - accuracy: 0.8717 - val_loss: 0.3173 - val_accuracy: 0.8782\n",
      "Epoch 15/20\n",
      "1719/1719 [==============================] - 3s 2ms/step - loss: 0.3329 - accuracy: 0.8753 - val_loss: 0.3022 - val_accuracy: 0.8882\n",
      "Epoch 16/20\n",
      "1719/1719 [==============================] - 3s 2ms/step - loss: 0.3316 - accuracy: 0.8761 - val_loss: 0.2939 - val_accuracy: 0.8910\n",
      "Epoch 17/20\n",
      "1719/1719 [==============================] - 3s 2ms/step - loss: 0.3240 - accuracy: 0.8781 - val_loss: 0.2944 - val_accuracy: 0.8862\n",
      "Epoch 18/20\n",
      "1719/1719 [==============================] - 3s 2ms/step - loss: 0.3192 - accuracy: 0.8798 - val_loss: 0.2981 - val_accuracy: 0.8906\n",
      "Epoch 19/20\n",
      "1719/1719 [==============================] - 3s 2ms/step - loss: 0.3188 - accuracy: 0.8797 - val_loss: 0.2925 - val_accuracy: 0.8894\n",
      "Epoch 20/20\n",
      "1719/1719 [==============================] - 3s 2ms/step - loss: 0.3167 - accuracy: 0.8814 - val_loss: 0.2906 - val_accuracy: 0.8912\n"
     ]
    }
   ],
   "source": [
    "history = model.fit(X_train_normalized, y_train, epochs=model_params[\"n_epochs\"],\n",
    "                    validation_data=(X_valid_normalized, y_valid))"
   ]
  },
  {
   "cell_type": "code",
   "execution_count": 65,
   "metadata": {
    "ExecuteTime": {
     "end_time": "2021-06-25T11:50:50.759760Z",
     "start_time": "2021-06-25T11:50:50.605288Z"
    }
   },
   "outputs": [
    {
     "data": {
      "image/png": "[encoded data removed]",
      "text/plain": [
       "<Figure size 576x360 with 1 Axes>"
      ]
     },
     "metadata": {
      "needs_background": "light"
     },
     "output_type": "display_data"
    }
   ],
   "source": [
    "pd.DataFrame(history.history).plot(figsize=(8, 5))\n",
    "plt.grid(True)\n",
    "plt.gca().set_ylim(0, 1)\n",
    "plt.show()"
   ]
  },
  {
   "cell_type": "markdown",
   "metadata": {},
   "source": [
    "**Do the MC Dropout \"trick\" by setting the `training` to `True` and**:\n",
    "\n",
    "- a) make 100 predictions over the test set\n",
    "- b) stack the predictions\n"
   ]
  },
  {
   "cell_type": "code",
   "execution_count": 66,
   "metadata": {
    "ExecuteTime": {
     "end_time": "2021-06-25T11:51:00.924378Z",
     "start_time": "2021-06-25T11:50:50.761057Z"
    }
   },
   "outputs": [
    {
     "data": {
      "application/vnd.jupyter.widget-view+json": {
       "model_id": "c19c7a4d7bae4b3d9efa3ee7e67a0b8c",
       "version_major": 2,
       "version_minor": 0
      },
      "text/plain": [
       "HBox(children=(FloatProgress(value=0.0), HTML(value='')))"
      ]
     },
     "metadata": {},
     "output_type": "display_data"
    },
    {
     "name": "stdout",
     "output_type": "stream",
     "text": [
      "\n"
     ]
    }
   ],
   "source": [
    "y_probas = np.stack([model(X_test_normalized, training=True) for sample in tqdm(range(100))])"
   ]
  },
  {
   "cell_type": "markdown",
   "metadata": {},
   "source": [
    "**For each instance of the test set, compute the mean of the 100 exported probabilities, as well as the standard deviation**"
   ]
  },
  {
   "cell_type": "code",
   "execution_count": 67,
   "metadata": {
    "ExecuteTime": {
     "end_time": "2021-06-25T11:51:00.934910Z",
     "start_time": "2021-06-25T11:51:00.928867Z"
    }
   },
   "outputs": [],
   "source": [
    "y_proba = y_probas.mean(axis=0)"
   ]
  },
  {
   "cell_type": "code",
   "execution_count": 68,
   "metadata": {
    "ExecuteTime": {
     "end_time": "2021-06-25T11:51:00.961967Z",
     "start_time": "2021-06-25T11:51:00.938141Z"
    }
   },
   "outputs": [],
   "source": [
    "y_std = y_probas.std(axis=0)"
   ]
  },
  {
   "cell_type": "markdown",
   "metadata": {},
   "source": [
    "### Predict the same signle instance as before"
   ]
  },
  {
   "cell_type": "markdown",
   "metadata": {},
   "source": [
    "Predict in the same was as previously with `softmax`"
   ]
  },
  {
   "cell_type": "code",
   "execution_count": 69,
   "metadata": {
    "ExecuteTime": {
     "end_time": "2021-06-25T11:51:01.045783Z",
     "start_time": "2021-06-25T11:51:00.963518Z"
    }
   },
   "outputs": [
    {
     "data": {
      "text/plain": [
       "array([[0.  , 0.  , 0.  , 0.  , 0.  , 0.  , 0.  , 0.06, 0.  , 0.94]],\n",
       "      dtype=float32)"
      ]
     },
     "execution_count": 69,
     "metadata": {},
     "output_type": "execute_result"
    }
   ],
   "source": [
    "y_proba_softmax = model.predict(X_test_normalized[0:1])\n",
    "y_proba_softmax.round(2)"
   ]
  },
  {
   "cell_type": "markdown",
   "metadata": {},
   "source": [
    "Print the first 3 probabilities' distribution from the 100 predicted outputs of that instance"
   ]
  },
  {
   "cell_type": "code",
   "execution_count": 70,
   "metadata": {
    "ExecuteTime": {
     "end_time": "2021-06-25T11:51:01.050725Z",
     "start_time": "2021-06-25T11:51:01.046992Z"
    }
   },
   "outputs": [
    {
     "data": {
      "text/plain": [
       "array([[[0.  , 0.  , 0.  , 0.  , 0.  , 0.  , 0.  , 0.02, 0.  , 0.98]],\n",
       "\n",
       "       [[0.  , 0.  , 0.  , 0.  , 0.  , 0.  , 0.  , 0.05, 0.  , 0.94]],\n",
       "\n",
       "       [[0.  , 0.  , 0.  , 0.  , 0.  , 0.02, 0.  , 0.44, 0.  , 0.54]]],\n",
       "      dtype=float32)"
      ]
     },
     "execution_count": 70,
     "metadata": {},
     "output_type": "execute_result"
    }
   ],
   "source": [
    "np.round(y_probas[:, 0:1], 2)[:3]"
   ]
  },
  {
   "cell_type": "code",
   "execution_count": 71,
   "metadata": {
    "ExecuteTime": {
     "end_time": "2021-06-25T11:51:01.057057Z",
     "start_time": "2021-06-25T11:51:01.052277Z"
    }
   },
   "outputs": [
    {
     "name": "stdout",
     "output_type": "stream",
     "text": [
      "Shape of the 100 probability predictions for this instance: (100, 1, 10)\n"
     ]
    }
   ],
   "source": [
    "print(\"Shape of the 100 probability predictions for this instance:\", np.round(y_probas[:, 0:1], 2).shape)"
   ]
  },
  {
   "cell_type": "markdown",
   "metadata": {},
   "source": [
    "**Predict the class for this instance**\n",
    "\n",
    "This step is critical as it is also useful to know exactly which other classes it thinks are likely."
   ]
  },
  {
   "cell_type": "code",
   "execution_count": 72,
   "metadata": {
    "ExecuteTime": {
     "end_time": "2021-06-25T11:51:01.063951Z",
     "start_time": "2021-06-25T11:51:01.058382Z"
    }
   },
   "outputs": [
    {
     "data": {
      "text/plain": [
       "array([[0.  , 0.  , 0.  , 0.  , 0.  , 0.01, 0.  , 0.14, 0.  , 0.85]],\n",
       "      dtype=float32)"
      ]
     },
     "execution_count": 72,
     "metadata": {},
     "output_type": "execute_result"
    }
   ],
   "source": [
    "np.round(y_proba[0:1], 2)"
   ]
  },
  {
   "cell_type": "markdown",
   "metadata": {},
   "source": [
    "Take a look at the standard deviation of the probability estimates for this istance"
   ]
  },
  {
   "cell_type": "code",
   "execution_count": 73,
   "metadata": {
    "ExecuteTime": {
     "end_time": "2021-06-25T11:51:01.069664Z",
     "start_time": "2021-06-25T11:51:01.065307Z"
    }
   },
   "outputs": [
    {
     "data": {
      "text/plain": [
       "array([[0.  , 0.  , 0.  , 0.  , 0.  , 0.05, 0.  , 0.14, 0.  , 0.15]],\n",
       "      dtype=float32)"
      ]
     },
     "execution_count": 73,
     "metadata": {},
     "output_type": "execute_result"
    }
   ],
   "source": [
    "np.round(y_std[:1], 2)"
   ]
  },
  {
   "cell_type": "markdown",
   "metadata": {},
   "source": [
    "Hold the predicted classes by return the maximum value from each probability estimate"
   ]
  },
  {
   "cell_type": "code",
   "execution_count": 74,
   "metadata": {
    "ExecuteTime": {
     "end_time": "2021-06-25T11:51:01.074793Z",
     "start_time": "2021-06-25T11:51:01.071933Z"
    }
   },
   "outputs": [],
   "source": [
    "y_pred = np.argmax(y_proba, axis=1)"
   ]
  },
  {
   "cell_type": "markdown",
   "metadata": {},
   "source": [
    "**Model's accuracy is now improved**"
   ]
  },
  {
   "cell_type": "code",
   "execution_count": 75,
   "metadata": {
    "ExecuteTime": {
     "end_time": "2021-06-25T11:51:01.083761Z",
     "start_time": "2021-06-25T11:51:01.076364Z"
    }
   },
   "outputs": [
    {
     "data": {
      "text/plain": [
       "0.8809"
      ]
     },
     "execution_count": 75,
     "metadata": {},
     "output_type": "execute_result"
    }
   ],
   "source": [
    "accuracy = np.sum(y_pred == y_test) / len(y_test)\n",
    "accuracy"
   ]
  },
  {
   "cell_type": "markdown",
   "metadata": {},
   "source": [
    "**The model's accuracy got a little boost with this method: 88.09%**"
   ]
  },
  {
   "cell_type": "markdown",
   "metadata": {},
   "source": [
    "### Force the Dropout's `training` argument to `True`  by overriding the `call()` method "
   ]
  },
  {
   "cell_type": "code",
   "execution_count": 76,
   "metadata": {
    "ExecuteTime": {
     "end_time": "2021-06-25T11:51:01.090697Z",
     "start_time": "2021-06-25T11:51:01.085602Z"
    }
   },
   "outputs": [],
   "source": [
    "class MCDropout(keras.layers.Dropout):\n",
    "    def call(self, inputs):\n",
    "        return super().call(inputs, training=True)"
   ]
  },
  {
   "cell_type": "markdown",
   "metadata": {},
   "source": [
    "**Because the model is already trained, the Dropout layers are replaced with the MCDropout, and the trained model's weights are set to the new model in order to run again the predictions**"
   ]
  },
  {
   "cell_type": "code",
   "execution_count": 77,
   "metadata": {
    "ExecuteTime": {
     "end_time": "2021-06-25T11:51:01.188511Z",
     "start_time": "2021-06-25T11:51:01.092599Z"
    }
   },
   "outputs": [],
   "source": [
    "mc_model = keras.models.Sequential([\n",
    "    MCDropout(layer.rate) if isinstance(layer, keras.layers.Dropout) else layer\n",
    "    for layer in model.layers\n",
    "])"
   ]
  },
  {
   "cell_type": "code",
   "execution_count": 78,
   "metadata": {
    "ExecuteTime": {
     "end_time": "2021-06-25T11:51:01.195862Z",
     "start_time": "2021-06-25T11:51:01.190199Z"
    }
   },
   "outputs": [
    {
     "name": "stdout",
     "output_type": "stream",
     "text": [
      "Model: \"sequential_1\"\n",
      "_________________________________________________________________\n",
      "Layer (type)                 Output Shape              Param #   \n",
      "=================================================================\n",
      "flatten (Flatten)            (None, 784)               0         \n",
      "_________________________________________________________________\n",
      "mc_dropout (MCDropout)       (None, 784)               0         \n",
      "_________________________________________________________________\n",
      "dense (Dense)                (None, 300)               235500    \n",
      "_________________________________________________________________\n",
      "mc_dropout_1 (MCDropout)     (None, 300)               0         \n",
      "_________________________________________________________________\n",
      "dense_1 (Dense)              (None, 100)               30100     \n",
      "_________________________________________________________________\n",
      "mc_dropout_2 (MCDropout)     (None, 100)               0         \n",
      "_________________________________________________________________\n",
      "dense_2 (Dense)              (None, 10)                1010      \n",
      "=================================================================\n",
      "Total params: 266,610\n",
      "Trainable params: 266,610\n",
      "Non-trainable params: 0\n",
      "_________________________________________________________________\n"
     ]
    }
   ],
   "source": [
    "mc_model.summary()"
   ]
  },
  {
   "cell_type": "code",
   "execution_count": 79,
   "metadata": {
    "ExecuteTime": {
     "end_time": "2021-06-25T11:51:01.204890Z",
     "start_time": "2021-06-25T11:51:01.197670Z"
    }
   },
   "outputs": [],
   "source": [
    "mc_model.compile(loss=model_params[\"loss\"], \n",
    "                 optimizer=model_params[\"optimizer\"], \n",
    "                 metrics=model_params[\"metrics\"])"
   ]
  },
  {
   "cell_type": "markdown",
   "metadata": {},
   "source": [
    "Set the Monte Carlo updated model's weights with these from pre-trained one"
   ]
  },
  {
   "cell_type": "code",
   "execution_count": 80,
   "metadata": {
    "ExecuteTime": {
     "end_time": "2021-06-25T11:51:01.212076Z",
     "start_time": "2021-06-25T11:51:01.206804Z"
    }
   },
   "outputs": [],
   "source": [
    "mc_model.set_weights(model.get_weights())"
   ]
  },
  {
   "cell_type": "markdown",
   "metadata": {},
   "source": [
    "Use the model straightforward with MC Dropout layer to predict the unique instance's class"
   ]
  },
  {
   "cell_type": "code",
   "execution_count": 81,
   "metadata": {
    "ExecuteTime": {
     "end_time": "2021-06-25T11:51:04.355095Z",
     "start_time": "2021-06-25T11:51:01.213223Z"
    }
   },
   "outputs": [
    {
     "data": {
      "application/vnd.jupyter.widget-view+json": {
       "model_id": "ba1dcce776a341379ed03d08994729cc",
       "version_major": 2,
       "version_minor": 0
      },
      "text/plain": [
       "HBox(children=(FloatProgress(value=0.0), HTML(value='')))"
      ]
     },
     "metadata": {},
     "output_type": "display_data"
    },
    {
     "name": "stdout",
     "output_type": "stream",
     "text": [
      "\n"
     ]
    },
    {
     "data": {
      "text/plain": [
       "array([[0.  , 0.  , 0.  , 0.  , 0.  , 0.01, 0.  , 0.12, 0.  , 0.87]],\n",
       "      dtype=float32)"
      ]
     },
     "execution_count": 81,
     "metadata": {},
     "output_type": "execute_result"
    }
   ],
   "source": [
    "np.round(np.mean([mc_model.predict(X_test_normalized[0:1]) for sample in tqdm(range(100))], axis=0), 2)"
   ]
  },
  {
   "cell_type": "markdown",
   "metadata": {},
   "source": [
    "## CNNs using the MCDropout"
   ]
  },
  {
   "cell_type": "markdown",
   "metadata": {},
   "source": [
    "Transform the data to fit the CNN's dimension expectations"
   ]
  },
  {
   "cell_type": "code",
   "execution_count": 82,
   "metadata": {
    "ExecuteTime": {
     "end_time": "2021-06-25T11:51:04.359585Z",
     "start_time": "2021-06-25T11:51:04.356922Z"
    }
   },
   "outputs": [],
   "source": [
    "X_train_normalized_cnn = X_train_normalized[..., np.newaxis]\n",
    "X_valid_normalized_cnn = X_valid_normalized[..., np.newaxis]\n",
    "X_test_normalized_cnn = X_test_normalized[..., np.newaxis]"
   ]
  },
  {
   "cell_type": "code",
   "execution_count": 83,
   "metadata": {
    "ExecuteTime": {
     "end_time": "2021-06-25T11:51:04.411303Z",
     "start_time": "2021-06-25T11:51:04.360619Z"
    }
   },
   "outputs": [
    {
     "name": "stdout",
     "output_type": "stream",
     "text": [
      "X train normalized data shape: (55000, 28, 28, 1)\n",
      "X validation normalized data shape: (5000, 28, 28, 1)\n",
      "X test normalized data shape: (10000, 28, 28, 1)\n",
      "X train normalized max value: 1.0\n",
      "X train normalized min value: 0.0\n"
     ]
    }
   ],
   "source": [
    "print(\"X train normalized data shape:\", X_train_normalized_cnn.shape)\n",
    "print(\"X validation normalized data shape:\", X_valid_normalized_cnn.shape)\n",
    "print(\"X test normalized data shape:\", X_test_normalized_cnn.shape)\n",
    "print(\"X train normalized max value:\", X_train_normalized_cnn.max())\n",
    "print(\"X train normalized min value:\", X_train_normalized_cnn.min())"
   ]
  },
  {
   "cell_type": "markdown",
   "metadata": {},
   "source": [
    "Reset all state generated by Keras"
   ]
  },
  {
   "cell_type": "code",
   "execution_count": 84,
   "metadata": {
    "ExecuteTime": {
     "end_time": "2021-06-25T11:51:04.416026Z",
     "start_time": "2021-06-25T11:51:04.412423Z"
    }
   },
   "outputs": [],
   "source": [
    "keras.backend.clear_session()"
   ]
  },
  {
   "cell_type": "markdown",
   "metadata": {
    "ExecuteTime": {
     "end_time": "2021-06-23T19:47:03.034859Z",
     "start_time": "2021-06-23T19:47:02.938662Z"
    }
   },
   "source": [
    "### Build and train a CNN model"
   ]
  },
  {
   "cell_type": "code",
   "execution_count": 85,
   "metadata": {
    "ExecuteTime": {
     "end_time": "2021-06-25T11:51:04.538531Z",
     "start_time": "2021-06-25T11:51:04.417210Z"
    }
   },
   "outputs": [],
   "source": [
    "model_cnn = Sequential()\n",
    "model_cnn.add(Conv2D(32, (3, 3), kernel_initializer='he_uniform', input_shape=(28, 28, 1)))\n",
    "model_cnn.add(BatchNormalization())\n",
    "model_cnn.add(Activation(\"relu\"))\n",
    "model_cnn.add(Dropout(0.5))\n",
    "model_cnn.add(MaxPooling2D((2, 2)))\n",
    "model_cnn.add(Conv2D(64, (3, 3), activation='relu', kernel_initializer='he_uniform'))\n",
    "model_cnn.add(BatchNormalization())\n",
    "model_cnn.add(Activation(\"relu\"))\n",
    "model_cnn.add(Conv2D(64, (3, 3), kernel_initializer='he_uniform'))\n",
    "model_cnn.add(BatchNormalization())\n",
    "model_cnn.add(Activation(\"relu\"))\n",
    "model_cnn.add(MaxPooling2D((2, 2)))\n",
    "model_cnn.add(Flatten())\n",
    "model_cnn.add(Dense(100, kernel_initializer='he_uniform'))\n",
    "model_cnn.add(BatchNormalization())\n",
    "model_cnn.add(Activation(\"relu\"))\n",
    "model_cnn.add(Dropout(0.5))\n",
    "model_cnn.add(Dense(10, activation='softmax'))"
   ]
  },
  {
   "cell_type": "code",
   "execution_count": 86,
   "metadata": {
    "ExecuteTime": {
     "end_time": "2021-06-25T11:51:04.550203Z",
     "start_time": "2021-06-25T11:51:04.540768Z"
    }
   },
   "outputs": [
    {
     "name": "stdout",
     "output_type": "stream",
     "text": [
      "Model: \"sequential\"\n",
      "_________________________________________________________________\n",
      "Layer (type)                 Output Shape              Param #   \n",
      "=================================================================\n",
      "conv2d (Conv2D)              (None, 26, 26, 32)        320       \n",
      "_________________________________________________________________\n",
      "batch_normalization (BatchNo (None, 26, 26, 32)        128       \n",
      "_________________________________________________________________\n",
      "activation (Activation)      (None, 26, 26, 32)        0         \n",
      "_________________________________________________________________\n",
      "dropout (Dropout)            (None, 26, 26, 32)        0         \n",
      "_________________________________________________________________\n",
      "max_pooling2d (MaxPooling2D) (None, 13, 13, 32)        0         \n",
      "_________________________________________________________________\n",
      "conv2d_1 (Conv2D)            (None, 11, 11, 64)        18496     \n",
      "_________________________________________________________________\n",
      "batch_normalization_1 (Batch (None, 11, 11, 64)        256       \n",
      "_________________________________________________________________\n",
      "activation_1 (Activation)    (None, 11, 11, 64)        0         \n",
      "_________________________________________________________________\n",
      "conv2d_2 (Conv2D)            (None, 9, 9, 64)          36928     \n",
      "_________________________________________________________________\n",
      "batch_normalization_2 (Batch (None, 9, 9, 64)          256       \n",
      "_________________________________________________________________\n",
      "activation_2 (Activation)    (None, 9, 9, 64)          0         \n",
      "_________________________________________________________________\n",
      "max_pooling2d_1 (MaxPooling2 (None, 4, 4, 64)          0         \n",
      "_________________________________________________________________\n",
      "flatten (Flatten)            (None, 1024)              0         \n",
      "_________________________________________________________________\n",
      "dense (Dense)                (None, 100)               102500    \n",
      "_________________________________________________________________\n",
      "batch_normalization_3 (Batch (None, 100)               400       \n",
      "_________________________________________________________________\n",
      "activation_3 (Activation)    (None, 100)               0         \n",
      "_________________________________________________________________\n",
      "dropout_1 (Dropout)          (None, 100)               0         \n",
      "_________________________________________________________________\n",
      "dense_1 (Dense)              (None, 10)                1010      \n",
      "=================================================================\n",
      "Total params: 160,294\n",
      "Trainable params: 159,774\n",
      "Non-trainable params: 520\n",
      "_________________________________________________________________\n"
     ]
    }
   ],
   "source": [
    "model_cnn.summary()"
   ]
  },
  {
   "cell_type": "code",
   "execution_count": 87,
   "metadata": {
    "ExecuteTime": {
     "end_time": "2021-06-25T11:51:04.558818Z",
     "start_time": "2021-06-25T11:51:04.551685Z"
    }
   },
   "outputs": [],
   "source": [
    "model_cnn.compile(loss=model_params[\"loss\"], \n",
    "                  optimizer=model_params[\"optimizer\"], \n",
    "                  metrics=model_params[\"metrics\"])"
   ]
  },
  {
   "cell_type": "code",
   "execution_count": 88,
   "metadata": {
    "ExecuteTime": {
     "end_time": "2021-06-25T12:01:53.365368Z",
     "start_time": "2021-06-25T11:51:04.560024Z"
    }
   },
   "outputs": [
    {
     "name": "stdout",
     "output_type": "stream",
     "text": [
      "Epoch 1/20\n",
      "1719/1719 [==============================] - 33s 19ms/step - loss: 0.5594 - accuracy: 0.7985 - val_loss: 0.5894 - val_accuracy: 0.7926\n",
      "Epoch 2/20\n",
      "1719/1719 [==============================] - 32s 19ms/step - loss: 0.3947 - accuracy: 0.8587 - val_loss: 0.3999 - val_accuracy: 0.8580\n",
      "Epoch 3/20\n",
      "1719/1719 [==============================] - 32s 19ms/step - loss: 0.3566 - accuracy: 0.8715 - val_loss: 0.4392 - val_accuracy: 0.8472\n",
      "Epoch 4/20\n",
      "1719/1719 [==============================] - 32s 19ms/step - loss: 0.3275 - accuracy: 0.8822 - val_loss: 0.4119 - val_accuracy: 0.8532\n",
      "Epoch 5/20\n",
      "1719/1719 [==============================] - 33s 19ms/step - loss: 0.3056 - accuracy: 0.8901 - val_loss: 0.3663 - val_accuracy: 0.8772\n",
      "Epoch 6/20\n",
      "1719/1719 [==============================] - 33s 19ms/step - loss: 0.2942 - accuracy: 0.8931 - val_loss: 0.4056 - val_accuracy: 0.8536\n",
      "Epoch 7/20\n",
      "1719/1719 [==============================] - 32s 19ms/step - loss: 0.2828 - accuracy: 0.8976 - val_loss: 0.3855 - val_accuracy: 0.8654\n",
      "Epoch 8/20\n",
      "1719/1719 [==============================] - 32s 19ms/step - loss: 0.2748 - accuracy: 0.9003 - val_loss: 0.3361 - val_accuracy: 0.8732\n",
      "Epoch 9/20\n",
      "1719/1719 [==============================] - 32s 19ms/step - loss: 0.2651 - accuracy: 0.9029 - val_loss: 0.2986 - val_accuracy: 0.8888\n",
      "Epoch 10/20\n",
      "1719/1719 [==============================] - 32s 19ms/step - loss: 0.2569 - accuracy: 0.9070 - val_loss: 0.3212 - val_accuracy: 0.8798\n",
      "Epoch 11/20\n",
      "1719/1719 [==============================] - 32s 19ms/step - loss: 0.2528 - accuracy: 0.9065 - val_loss: 0.2828 - val_accuracy: 0.8994\n",
      "Epoch 12/20\n",
      "1719/1719 [==============================] - 32s 19ms/step - loss: 0.2452 - accuracy: 0.9109 - val_loss: 0.2733 - val_accuracy: 0.9028\n",
      "Epoch 13/20\n",
      "1719/1719 [==============================] - 32s 19ms/step - loss: 0.2380 - accuracy: 0.9115 - val_loss: 0.2630 - val_accuracy: 0.9066\n",
      "Epoch 14/20\n",
      "1719/1719 [==============================] - 32s 19ms/step - loss: 0.2356 - accuracy: 0.9129 - val_loss: 0.2887 - val_accuracy: 0.8930\n",
      "Epoch 15/20\n",
      "1719/1719 [==============================] - 32s 19ms/step - loss: 0.2274 - accuracy: 0.9163 - val_loss: 0.3023 - val_accuracy: 0.8910\n",
      "Epoch 16/20\n",
      "1719/1719 [==============================] - 33s 19ms/step - loss: 0.2257 - accuracy: 0.9158 - val_loss: 0.2857 - val_accuracy: 0.8934\n",
      "Epoch 17/20\n",
      "1719/1719 [==============================] - 33s 19ms/step - loss: 0.2213 - accuracy: 0.9192 - val_loss: 0.3149 - val_accuracy: 0.8814\n",
      "Epoch 18/20\n",
      "1719/1719 [==============================] - 33s 19ms/step - loss: 0.2188 - accuracy: 0.9195 - val_loss: 0.3098 - val_accuracy: 0.8890\n",
      "Epoch 19/20\n",
      "1719/1719 [==============================] - 33s 19ms/step - loss: 0.2104 - accuracy: 0.9217 - val_loss: 0.2830 - val_accuracy: 0.8970\n",
      "Epoch 20/20\n",
      "1719/1719 [==============================] - 32s 19ms/step - loss: 0.2071 - accuracy: 0.9230 - val_loss: 0.2868 - val_accuracy: 0.8972\n"
     ]
    }
   ],
   "source": [
    "history = model_cnn.fit(X_train_normalized_cnn, y_train, epochs=model_params[\"n_epochs\"], \n",
    "                        validation_data=(X_valid_normalized_cnn, y_valid))"
   ]
  },
  {
   "cell_type": "code",
   "execution_count": 89,
   "metadata": {
    "ExecuteTime": {
     "end_time": "2021-06-25T12:01:53.556279Z",
     "start_time": "2021-06-25T12:01:53.366579Z"
    }
   },
   "outputs": [
    {
     "data": {
      "image/png": "[encoded data removed]",
      "text/plain": [
       "<Figure size 576x360 with 1 Axes>"
      ]
     },
     "metadata": {
      "needs_background": "light"
     },
     "output_type": "display_data"
    }
   ],
   "source": [
    "pd.DataFrame(history.history).plot(figsize=(8, 5))\n",
    "plt.grid(True)\n",
    "plt.gca().set_ylim(0, 1)\n",
    "plt.show()"
   ]
  },
  {
   "cell_type": "markdown",
   "metadata": {},
   "source": [
    "**Model accuracy**"
   ]
  },
  {
   "cell_type": "code",
   "execution_count": 90,
   "metadata": {
    "ExecuteTime": {
     "end_time": "2021-06-25T12:01:54.956165Z",
     "start_time": "2021-06-25T12:01:53.557649Z"
    }
   },
   "outputs": [
    {
     "name": "stdout",
     "output_type": "stream",
     "text": [
      "313/313 [==============================] - 1s 4ms/step - loss: 0.3260 - accuracy: 0.8797\n",
      "> 87.970\n"
     ]
    }
   ],
   "source": [
    "# evaluate the model on test dataset\n",
    "loss, acc = model_cnn.evaluate(X_test_normalized_cnn, y_test, verbose=1)\n",
    "print('> %.3f' % (acc * 100.0))"
   ]
  },
  {
   "cell_type": "markdown",
   "metadata": {},
   "source": [
    "**Model instance prediction with `softmax`**"
   ]
  },
  {
   "cell_type": "code",
   "execution_count": 91,
   "metadata": {
    "ExecuteTime": {
     "end_time": "2021-06-25T12:01:55.055099Z",
     "start_time": "2021-06-25T12:01:54.957143Z"
    }
   },
   "outputs": [
    {
     "data": {
      "text/plain": [
       "array([[0., 0., 0., 0., 0., 0., 0., 0., 0., 1.]], dtype=float32)"
      ]
     },
     "execution_count": 91,
     "metadata": {},
     "output_type": "execute_result"
    }
   ],
   "source": [
    "y_proba_softmax = model_cnn.predict(X_test_normalized_cnn[0:1])\n",
    "y_proba_softmax.round(2)"
   ]
  },
  {
   "cell_type": "markdown",
   "metadata": {},
   "source": [
    "### Create the MC CNN model and transfer the weights from the previous CNN model"
   ]
  },
  {
   "cell_type": "code",
   "execution_count": 92,
   "metadata": {
    "ExecuteTime": {
     "end_time": "2021-06-25T12:01:55.137431Z",
     "start_time": "2021-06-25T12:01:55.056682Z"
    }
   },
   "outputs": [],
   "source": [
    "mc_model_cnn = keras.models.Sequential([\n",
    "    MCDropout(layer.rate) if isinstance(layer, keras.layers.Dropout) else layer\n",
    "    for layer in model_cnn.layers\n",
    "])"
   ]
  },
  {
   "cell_type": "code",
   "execution_count": 93,
   "metadata": {
    "ExecuteTime": {
     "end_time": "2021-06-25T12:01:55.146721Z",
     "start_time": "2021-06-25T12:01:55.138846Z"
    }
   },
   "outputs": [
    {
     "name": "stdout",
     "output_type": "stream",
     "text": [
      "Model: \"sequential_1\"\n",
      "_________________________________________________________________\n",
      "Layer (type)                 Output Shape              Param #   \n",
      "=================================================================\n",
      "conv2d (Conv2D)              (None, 26, 26, 32)        320       \n",
      "_________________________________________________________________\n",
      "batch_normalization (BatchNo (None, 26, 26, 32)        128       \n",
      "_________________________________________________________________\n",
      "activation (Activation)      (None, 26, 26, 32)        0         \n",
      "_________________________________________________________________\n",
      "mc_dropout (MCDropout)       (None, 26, 26, 32)        0         \n",
      "_________________________________________________________________\n",
      "max_pooling2d (MaxPooling2D) (None, 13, 13, 32)        0         \n",
      "_________________________________________________________________\n",
      "conv2d_1 (Conv2D)            (None, 11, 11, 64)        18496     \n",
      "_________________________________________________________________\n",
      "batch_normalization_1 (Batch (None, 11, 11, 64)        256       \n",
      "_________________________________________________________________\n",
      "activation_1 (Activation)    (None, 11, 11, 64)        0         \n",
      "_________________________________________________________________\n",
      "conv2d_2 (Conv2D)            (None, 9, 9, 64)          36928     \n",
      "_________________________________________________________________\n",
      "batch_normalization_2 (Batch (None, 9, 9, 64)          256       \n",
      "_________________________________________________________________\n",
      "activation_2 (Activation)    (None, 9, 9, 64)          0         \n",
      "_________________________________________________________________\n",
      "max_pooling2d_1 (MaxPooling2 (None, 4, 4, 64)          0         \n",
      "_________________________________________________________________\n",
      "flatten (Flatten)            (None, 1024)              0         \n",
      "_________________________________________________________________\n",
      "dense (Dense)                (None, 100)               102500    \n",
      "_________________________________________________________________\n",
      "batch_normalization_3 (Batch (None, 100)               400       \n",
      "_________________________________________________________________\n",
      "activation_3 (Activation)    (None, 100)               0         \n",
      "_________________________________________________________________\n",
      "mc_dropout_1 (MCDropout)     (None, 100)               0         \n",
      "_________________________________________________________________\n",
      "dense_1 (Dense)              (None, 10)                1010      \n",
      "=================================================================\n",
      "Total params: 160,294\n",
      "Trainable params: 159,774\n",
      "Non-trainable params: 520\n",
      "_________________________________________________________________\n"
     ]
    }
   ],
   "source": [
    "mc_model_cnn.summary()"
   ]
  },
  {
   "cell_type": "code",
   "execution_count": 94,
   "metadata": {
    "ExecuteTime": {
     "end_time": "2021-06-25T12:01:55.155858Z",
     "start_time": "2021-06-25T12:01:55.148349Z"
    }
   },
   "outputs": [],
   "source": [
    "mc_model_cnn.compile(loss=model_params[\"loss\"], \n",
    "                     optimizer=model_params[\"optimizer\"], \n",
    "                     metrics=model_params[\"metrics\"])"
   ]
  },
  {
   "cell_type": "code",
   "execution_count": 95,
   "metadata": {
    "ExecuteTime": {
     "end_time": "2021-06-25T12:01:55.165860Z",
     "start_time": "2021-06-25T12:01:55.157583Z"
    }
   },
   "outputs": [],
   "source": [
    "mc_model_cnn.set_weights(model_cnn.get_weights())"
   ]
  },
  {
   "cell_type": "markdown",
   "metadata": {},
   "source": [
    "### Predictions"
   ]
  },
  {
   "cell_type": "markdown",
   "metadata": {},
   "source": [
    "Use the model straightforward with MC Dropout layer to predict the unique instance's class"
   ]
  },
  {
   "cell_type": "code",
   "execution_count": 96,
   "metadata": {
    "ExecuteTime": {
     "end_time": "2021-06-25T12:01:57.943068Z",
     "start_time": "2021-06-25T12:01:55.167262Z"
    }
   },
   "outputs": [
    {
     "data": {
      "application/vnd.jupyter.widget-view+json": {
       "model_id": "b390f0c368cf472492194d2db36b731a",
       "version_major": 2,
       "version_minor": 0
      },
      "text/plain": [
       "HBox(children=(FloatProgress(value=0.0), HTML(value='')))"
      ]
     },
     "metadata": {},
     "output_type": "display_data"
    },
    {
     "name": "stdout",
     "output_type": "stream",
     "text": [
      "\n"
     ]
    },
    {
     "data": {
      "text/plain": [
       "array([[0., 0., 0., 0., 0., 0., 0., 0., 0., 1.]], dtype=float32)"
      ]
     },
     "execution_count": 96,
     "metadata": {},
     "output_type": "execute_result"
    }
   ],
   "source": [
    "np.round(np.mean([mc_model_cnn.predict(X_test_normalized_cnn[0:1]) for sample in tqdm(range(100))], axis=0), 2)"
   ]
  },
  {
   "cell_type": "markdown",
   "metadata": {},
   "source": [
    "Stack the probabilities for all the instances"
   ]
  },
  {
   "cell_type": "code",
   "execution_count": 97,
   "metadata": {
    "ExecuteTime": {
     "end_time": "2021-06-25T12:05:32.050961Z",
     "start_time": "2021-06-25T12:01:57.944321Z"
    }
   },
   "outputs": [
    {
     "data": {
      "application/vnd.jupyter.widget-view+json": {
       "model_id": "e3c5f1dad94149da9824973a322b3d64",
       "version_major": 2,
       "version_minor": 0
      },
      "text/plain": [
       "HBox(children=(FloatProgress(value=0.0), HTML(value='')))"
      ]
     },
     "metadata": {},
     "output_type": "display_data"
    },
    {
     "name": "stdout",
     "output_type": "stream",
     "text": [
      "\n"
     ]
    }
   ],
   "source": [
    "y_probas = np.stack([mc_model_cnn(X_test_normalized_cnn) for sample in tqdm(range(100))])"
   ]
  },
  {
   "cell_type": "markdown",
   "metadata": {},
   "source": [
    "Compute the mean and std for the instances' probability estimates"
   ]
  },
  {
   "cell_type": "code",
   "execution_count": 98,
   "metadata": {
    "ExecuteTime": {
     "end_time": "2021-06-25T12:05:32.058698Z",
     "start_time": "2021-06-25T12:05:32.052269Z"
    }
   },
   "outputs": [],
   "source": [
    "y_proba = y_probas.mean(axis=0)"
   ]
  },
  {
   "cell_type": "code",
   "execution_count": 99,
   "metadata": {
    "ExecuteTime": {
     "end_time": "2021-06-25T12:05:32.081673Z",
     "start_time": "2021-06-25T12:05:32.060251Z"
    }
   },
   "outputs": [],
   "source": [
    "y_std = y_probas.std(axis=0)"
   ]
  },
  {
   "cell_type": "markdown",
   "metadata": {},
   "source": [
    "Show the probabilities for an instance (the same as above)"
   ]
  },
  {
   "cell_type": "code",
   "execution_count": 100,
   "metadata": {
    "ExecuteTime": {
     "end_time": "2021-06-25T12:05:32.086709Z",
     "start_time": "2021-06-25T12:05:32.082865Z"
    }
   },
   "outputs": [
    {
     "data": {
      "text/plain": [
       "array([[[0., 0., 0., 0., 0., 0., 0., 0., 0., 1.]],\n",
       "\n",
       "       [[0., 0., 0., 0., 0., 0., 0., 0., 0., 1.]],\n",
       "\n",
       "       [[0., 0., 0., 0., 0., 0., 0., 0., 0., 1.]]], dtype=float32)"
      ]
     },
     "execution_count": 100,
     "metadata": {},
     "output_type": "execute_result"
    }
   ],
   "source": [
    "np.round(y_probas[:, 0:1], 2)[:3]"
   ]
  },
  {
   "cell_type": "code",
   "execution_count": 101,
   "metadata": {
    "ExecuteTime": {
     "end_time": "2021-06-25T12:05:32.091775Z",
     "start_time": "2021-06-25T12:05:32.087917Z"
    }
   },
   "outputs": [
    {
     "name": "stdout",
     "output_type": "stream",
     "text": [
      "Shape of the 100 probability predictions for this instance: (100, 1, 10)\n"
     ]
    }
   ],
   "source": [
    "print(\"Shape of the 100 probability predictions for this instance:\", np.round(y_probas[:, 0:1], 2).shape)"
   ]
  },
  {
   "cell_type": "markdown",
   "metadata": {},
   "source": [
    "**Predict the class for this instance**\n",
    "\n",
    "This step is critical as it is also useful to know exactly which other classes it thinks are likely."
   ]
  },
  {
   "cell_type": "code",
   "execution_count": 102,
   "metadata": {
    "ExecuteTime": {
     "end_time": "2021-06-25T12:05:32.099582Z",
     "start_time": "2021-06-25T12:05:32.093132Z"
    }
   },
   "outputs": [
    {
     "data": {
      "text/plain": [
       "array([[0., 0., 0., 0., 0., 0., 0., 0., 0., 1.]], dtype=float32)"
      ]
     },
     "execution_count": 102,
     "metadata": {},
     "output_type": "execute_result"
    }
   ],
   "source": [
    "np.round(y_proba[0:1], 2)"
   ]
  },
  {
   "cell_type": "markdown",
   "metadata": {},
   "source": [
    "Take a look at the standard deviation of the probability estimates for this istance"
   ]
  },
  {
   "cell_type": "code",
   "execution_count": 103,
   "metadata": {
    "ExecuteTime": {
     "end_time": "2021-06-25T12:05:32.104699Z",
     "start_time": "2021-06-25T12:05:32.100635Z"
    }
   },
   "outputs": [
    {
     "data": {
      "text/plain": [
       "array([[0., 0., 0., 0., 0., 0., 0., 0., 0., 0.]], dtype=float32)"
      ]
     },
     "execution_count": 103,
     "metadata": {},
     "output_type": "execute_result"
    }
   ],
   "source": [
    "np.round(y_std[0:1], 2)"
   ]
  },
  {
   "cell_type": "markdown",
   "metadata": {},
   "source": [
    "Hold the predicted classes by return the maximum value from each probability estimate"
   ]
  },
  {
   "cell_type": "code",
   "execution_count": 104,
   "metadata": {
    "ExecuteTime": {
     "end_time": "2021-06-25T12:05:32.108921Z",
     "start_time": "2021-06-25T12:05:32.105795Z"
    }
   },
   "outputs": [],
   "source": [
    "y_pred = np.argmax(y_proba, axis=1)"
   ]
  },
  {
   "cell_type": "markdown",
   "metadata": {},
   "source": [
    "**Model's accuracy is now improved**"
   ]
  },
  {
   "cell_type": "code",
   "execution_count": 105,
   "metadata": {
    "ExecuteTime": {
     "end_time": "2021-06-25T12:05:32.116719Z",
     "start_time": "2021-06-25T12:05:32.109946Z"
    }
   },
   "outputs": [
    {
     "data": {
      "text/plain": [
       "0.9164"
      ]
     },
     "execution_count": 105,
     "metadata": {},
     "output_type": "execute_result"
    }
   ],
   "source": [
    "accuracy = np.sum(y_pred == y_test) / len(y_test)\n",
    "accuracy"
   ]
  },
  {
   "cell_type": "markdown",
   "metadata": {},
   "source": [
    "**Model's accuracy is improved: 91.49%**"
   ]
  },
  {
   "cell_type": "markdown",
   "metadata": {},
   "source": []
  },
  {
   "cell_type": "markdown",
   "metadata": {},
   "source": []
  },
  {
   "cell_type": "markdown",
   "metadata": {},
   "source": [
    "## Build and train an MC CNN model"
   ]
  },
  {
   "cell_type": "markdown",
   "metadata": {},
   "source": [
    "Reset all state generated by Keras"
   ]
  },
  {
   "cell_type": "code",
   "execution_count": 106,
   "metadata": {
    "ExecuteTime": {
     "end_time": "2021-06-25T12:05:32.124410Z",
     "start_time": "2021-06-25T12:05:32.117791Z"
    }
   },
   "outputs": [],
   "source": [
    "keras.backend.clear_session()"
   ]
  },
  {
   "cell_type": "code",
   "execution_count": 107,
   "metadata": {
    "ExecuteTime": {
     "end_time": "2021-06-25T12:05:32.228757Z",
     "start_time": "2021-06-25T12:05:32.125511Z"
    }
   },
   "outputs": [],
   "source": [
    "model_mc_cnn = Sequential()\n",
    "model_mc_cnn.add(Conv2D(32, (3, 3), kernel_initializer='he_uniform', input_shape=(28, 28, 1)))\n",
    "model_mc_cnn.add(BatchNormalization())\n",
    "model_mc_cnn.add(Activation(\"relu\"))\n",
    "model_mc_cnn.add(MCDropout(0.5))\n",
    "model_mc_cnn.add(MaxPooling2D((2, 2)))\n",
    "model_mc_cnn.add(Conv2D(64, (3, 3), activation='relu', kernel_initializer='he_uniform'))\n",
    "model_mc_cnn.add(BatchNormalization())\n",
    "model_mc_cnn.add(Activation(\"relu\"))\n",
    "model_mc_cnn.add(Conv2D(64, (3, 3), kernel_initializer='he_uniform'))\n",
    "model_mc_cnn.add(BatchNormalization())\n",
    "model_mc_cnn.add(Activation(\"relu\"))\n",
    "model_mc_cnn.add(MaxPooling2D((2, 2)))\n",
    "model_mc_cnn.add(Flatten())\n",
    "model_mc_cnn.add(Dense(100, kernel_initializer='he_uniform'))\n",
    "model_mc_cnn.add(BatchNormalization())\n",
    "model_mc_cnn.add(Activation(\"relu\"))\n",
    "model_mc_cnn.add(MCDropout(0.5))\n",
    "model_mc_cnn.add(Dense(10, activation='softmax'))"
   ]
  },
  {
   "cell_type": "code",
   "execution_count": 108,
   "metadata": {
    "ExecuteTime": {
     "end_time": "2021-06-25T12:05:32.236736Z",
     "start_time": "2021-06-25T12:05:32.230076Z"
    }
   },
   "outputs": [
    {
     "name": "stdout",
     "output_type": "stream",
     "text": [
      "Model: \"sequential\"\n",
      "_________________________________________________________________\n",
      "Layer (type)                 Output Shape              Param #   \n",
      "=================================================================\n",
      "conv2d (Conv2D)              (None, 26, 26, 32)        320       \n",
      "_________________________________________________________________\n",
      "batch_normalization (BatchNo (None, 26, 26, 32)        128       \n",
      "_________________________________________________________________\n",
      "activation (Activation)      (None, 26, 26, 32)        0         \n",
      "_________________________________________________________________\n",
      "mc_dropout (MCDropout)       (None, 26, 26, 32)        0         \n",
      "_________________________________________________________________\n",
      "max_pooling2d (MaxPooling2D) (None, 13, 13, 32)        0         \n",
      "_________________________________________________________________\n",
      "conv2d_1 (Conv2D)            (None, 11, 11, 64)        18496     \n",
      "_________________________________________________________________\n",
      "batch_normalization_1 (Batch (None, 11, 11, 64)        256       \n",
      "_________________________________________________________________\n",
      "activation_1 (Activation)    (None, 11, 11, 64)        0         \n",
      "_________________________________________________________________\n",
      "conv2d_2 (Conv2D)            (None, 9, 9, 64)          36928     \n",
      "_________________________________________________________________\n",
      "batch_normalization_2 (Batch (None, 9, 9, 64)          256       \n",
      "_________________________________________________________________\n",
      "activation_2 (Activation)    (None, 9, 9, 64)          0         \n",
      "_________________________________________________________________\n",
      "max_pooling2d_1 (MaxPooling2 (None, 4, 4, 64)          0         \n",
      "_________________________________________________________________\n",
      "flatten (Flatten)            (None, 1024)              0         \n",
      "_________________________________________________________________\n",
      "dense (Dense)                (None, 100)               102500    \n",
      "_________________________________________________________________\n",
      "batch_normalization_3 (Batch (None, 100)               400       \n",
      "_________________________________________________________________\n",
      "activation_3 (Activation)    (None, 100)               0         \n",
      "_________________________________________________________________\n",
      "mc_dropout_1 (MCDropout)     (None, 100)               0         \n",
      "_________________________________________________________________\n",
      "dense_1 (Dense)              (None, 10)                1010      \n",
      "=================================================================\n",
      "Total params: 160,294\n",
      "Trainable params: 159,774\n",
      "Non-trainable params: 520\n",
      "_________________________________________________________________\n"
     ]
    }
   ],
   "source": [
    "model_mc_cnn.summary()"
   ]
  },
  {
   "cell_type": "code",
   "execution_count": 109,
   "metadata": {
    "ExecuteTime": {
     "end_time": "2021-06-25T12:05:32.244746Z",
     "start_time": "2021-06-25T12:05:32.238784Z"
    }
   },
   "outputs": [],
   "source": [
    "model_mc_cnn.compile(loss=model_params[\"loss\"], \n",
    "                     optimizer=model_params[\"optimizer\"], \n",
    "                     metrics=model_params[\"metrics\"])"
   ]
  },
  {
   "cell_type": "code",
   "execution_count": 110,
   "metadata": {
    "ExecuteTime": {
     "end_time": "2021-06-25T12:16:33.055621Z",
     "start_time": "2021-06-25T12:05:32.246166Z"
    }
   },
   "outputs": [
    {
     "name": "stdout",
     "output_type": "stream",
     "text": [
      "Epoch 1/20\n",
      "1719/1719 [==============================] - 34s 20ms/step - loss: 0.5694 - accuracy: 0.7929 - val_loss: 0.4031 - val_accuracy: 0.8514\n",
      "Epoch 2/20\n",
      "1719/1719 [==============================] - 34s 20ms/step - loss: 0.4095 - accuracy: 0.8531 - val_loss: 0.3517 - val_accuracy: 0.8700\n",
      "Epoch 3/20\n",
      "1719/1719 [==============================] - 31s 18ms/step - loss: 0.3649 - accuracy: 0.8680 - val_loss: 0.3395 - val_accuracy: 0.8776\n",
      "Epoch 4/20\n",
      "1719/1719 [==============================] - 32s 18ms/step - loss: 0.3365 - accuracy: 0.8778 - val_loss: 0.3630 - val_accuracy: 0.8648\n",
      "Epoch 5/20\n",
      "1719/1719 [==============================] - 30s 18ms/step - loss: 0.3141 - accuracy: 0.8864 - val_loss: 0.3077 - val_accuracy: 0.8874\n",
      "Epoch 6/20\n",
      "1719/1719 [==============================] - 31s 18ms/step - loss: 0.2996 - accuracy: 0.8929 - val_loss: 0.3093 - val_accuracy: 0.8922\n",
      "Epoch 7/20\n",
      "1719/1719 [==============================] - 30s 18ms/step - loss: 0.2912 - accuracy: 0.8942 - val_loss: 0.3191 - val_accuracy: 0.8834\n",
      "Epoch 8/20\n",
      "1719/1719 [==============================] - 34s 20ms/step - loss: 0.2806 - accuracy: 0.8966 - val_loss: 0.2902 - val_accuracy: 0.8988\n",
      "Epoch 9/20\n",
      "1719/1719 [==============================] - 31s 18ms/step - loss: 0.2692 - accuracy: 0.9019 - val_loss: 0.2899 - val_accuracy: 0.8970\n",
      "Epoch 10/20\n",
      "1719/1719 [==============================] - 33s 19ms/step - loss: 0.2579 - accuracy: 0.9062 - val_loss: 0.2748 - val_accuracy: 0.8996\n",
      "Epoch 11/20\n",
      "1719/1719 [==============================] - 33s 19ms/step - loss: 0.2517 - accuracy: 0.9087 - val_loss: 0.2864 - val_accuracy: 0.8994\n",
      "Epoch 12/20\n",
      "1719/1719 [==============================] - 34s 20ms/step - loss: 0.2461 - accuracy: 0.9094 - val_loss: 0.2828 - val_accuracy: 0.8960\n",
      "Epoch 13/20\n",
      "1719/1719 [==============================] - 34s 20ms/step - loss: 0.2402 - accuracy: 0.9117 - val_loss: 0.2657 - val_accuracy: 0.9088\n",
      "Epoch 14/20\n",
      "1719/1719 [==============================] - 33s 19ms/step - loss: 0.2361 - accuracy: 0.9135 - val_loss: 0.2615 - val_accuracy: 0.9100\n",
      "Epoch 15/20\n",
      "1719/1719 [==============================] - 34s 20ms/step - loss: 0.2304 - accuracy: 0.9153 - val_loss: 0.2658 - val_accuracy: 0.9050\n",
      "Epoch 16/20\n",
      "1719/1719 [==============================] - 35s 20ms/step - loss: 0.2284 - accuracy: 0.9166 - val_loss: 0.3188 - val_accuracy: 0.8876\n",
      "Epoch 17/20\n",
      "1719/1719 [==============================] - 35s 20ms/step - loss: 0.2229 - accuracy: 0.9188 - val_loss: 0.2548 - val_accuracy: 0.9110\n",
      "Epoch 18/20\n",
      "1719/1719 [==============================] - 35s 20ms/step - loss: 0.2148 - accuracy: 0.9203 - val_loss: 0.2776 - val_accuracy: 0.9052\n",
      "Epoch 19/20\n",
      "1719/1719 [==============================] - 35s 20ms/step - loss: 0.2128 - accuracy: 0.9206 - val_loss: 0.2644 - val_accuracy: 0.9042\n",
      "Epoch 20/20\n",
      "1719/1719 [==============================] - 33s 19ms/step - loss: 0.2083 - accuracy: 0.9235 - val_loss: 0.2716 - val_accuracy: 0.9036\n"
     ]
    }
   ],
   "source": [
    "history = model_mc_cnn.fit(X_train_normalized_cnn, y_train, epochs=model_params[\"n_epochs\"], \n",
    "                           validation_data=(X_valid_normalized_cnn, y_valid))"
   ]
  },
  {
   "cell_type": "code",
   "execution_count": 111,
   "metadata": {
    "ExecuteTime": {
     "end_time": "2021-06-25T12:16:33.213801Z",
     "start_time": "2021-06-25T12:16:33.056800Z"
    }
   },
   "outputs": [
    {
     "data": {
      "image/png": "[encoded data removed]",
      "text/plain": [
       "<Figure size 576x360 with 1 Axes>"
      ]
     },
     "metadata": {
      "needs_background": "light"
     },
     "output_type": "display_data"
    }
   ],
   "source": [
    "pd.DataFrame(history.history).plot(figsize=(8, 5))\n",
    "plt.grid(True)\n",
    "plt.gca().set_ylim(0, 1)\n",
    "plt.show()"
   ]
  },
  {
   "cell_type": "markdown",
   "metadata": {},
   "source": [
    "**Model accuracy**"
   ]
  },
  {
   "cell_type": "code",
   "execution_count": 112,
   "metadata": {
    "ExecuteTime": {
     "end_time": "2021-06-25T12:16:35.163437Z",
     "start_time": "2021-06-25T12:16:33.217620Z"
    }
   },
   "outputs": [
    {
     "name": "stdout",
     "output_type": "stream",
     "text": [
      "313/313 [==============================] - 2s 6ms/step - loss: 0.2987 - accuracy: 0.8923\n",
      "> 89.230\n"
     ]
    }
   ],
   "source": [
    "# evaluate the model on test dataset\n",
    "loss, acc = model_mc_cnn.evaluate(X_test_normalized_cnn, y_test, verbose=1)\n",
    "print('> %.3f' % (acc * 100.0))"
   ]
  },
  {
   "cell_type": "markdown",
   "metadata": {},
   "source": []
  },
  {
   "cell_type": "markdown",
   "metadata": {},
   "source": [
    "### Predictions"
   ]
  },
  {
   "cell_type": "markdown",
   "metadata": {},
   "source": [
    "Use `numpy.squeeze()` to remove all dimensions of size 1 from the NumPy array `ndarray`. `squeeze()` is also provided as a method of `ndarray`."
   ]
  },
  {
   "cell_type": "code",
   "execution_count": 113,
   "metadata": {
    "ExecuteTime": {
     "end_time": "2021-06-25T12:16:35.167985Z",
     "start_time": "2021-06-25T12:16:35.164665Z"
    }
   },
   "outputs": [
    {
     "name": "stdout",
     "output_type": "stream",
     "text": [
      "(28, 28)\n"
     ]
    }
   ],
   "source": [
    "X_test_normalized_instance = np.squeeze(X_test_normalized_cnn[10])\n",
    "print(X_test_normalized_instance.shape)"
   ]
  },
  {
   "cell_type": "code",
   "execution_count": 114,
   "metadata": {
    "ExecuteTime": {
     "end_time": "2021-06-25T12:16:35.253201Z",
     "start_time": "2021-06-25T12:16:35.169484Z"
    }
   },
   "outputs": [
    {
     "data": {
      "image/png": "[encoded data removed]",
      "text/plain": [
       "<Figure size 432x288 with 1 Axes>"
      ]
     },
     "metadata": {
      "needs_background": "light"
     },
     "output_type": "display_data"
    }
   ],
   "source": [
    "plt.imshow(X_test_normalized_instance, cmap=\"binary\")\n",
    "plt.axis('off')\n",
    "plt.show()"
   ]
  },
  {
   "cell_type": "code",
   "execution_count": 115,
   "metadata": {
    "ExecuteTime": {
     "end_time": "2021-06-25T12:16:35.258544Z",
     "start_time": "2021-06-25T12:16:35.254454Z"
    }
   },
   "outputs": [
    {
     "data": {
      "text/plain": [
       "'Coat'"
      ]
     },
     "execution_count": 115,
     "metadata": {},
     "output_type": "execute_result"
    }
   ],
   "source": [
    "class_names[y_test[10]"
   ]
  },
  {
   "cell_type": "markdown",
   "metadata": {},
   "source": [
    "Use the model straightforward with MC Dropout layer to predict a unique instance's class"
   ]
  },
  {
   "cell_type": "code",
   "execution_count": 116,
   "metadata": {
    "ExecuteTime": {
     "end_time": "2021-06-25T12:16:38.232911Z",
     "start_time": "2021-06-25T12:16:35.259858Z"
    }
   },
   "outputs": [
    {
     "data": {
      "application/vnd.jupyter.widget-view+json": {
       "model_id": "e640cb61f02b4fcc842e498c43570cd0",
       "version_major": 2,
       "version_minor": 0
      },
      "text/plain": [
       "HBox(children=(FloatProgress(value=0.0), HTML(value='')))"
      ]
     },
     "metadata": {},
     "output_type": "display_data"
    },
    {
     "name": "stdout",
     "output_type": "stream",
     "text": [
      "\n",
      "[[0.   0.   0.02 0.   0.89 0.   0.08 0.   0.   0.  ]]\n"
     ]
    }
   ],
   "source": [
    "y_pred_mc_cnn = np.round(np.mean([model_mc_cnn.predict(X_test_normalized_cnn[10:11]) \n",
    "                                  for sample in tqdm(range(100))], axis=0), 2)\n",
    "print(y_pred_mc_cnn)"
   ]
  },
  {
   "cell_type": "code",
   "execution_count": 117,
   "metadata": {
    "ExecuteTime": {
     "end_time": "2021-06-25T12:16:38.237046Z",
     "start_time": "2021-06-25T12:16:38.234520Z"
    }
   },
   "outputs": [],
   "source": [
    "y_pred_mc_cnn_instance = np.argmax(y_pred_mc_cnn, axis=-1)"
   ]
  },
  {
   "cell_type": "code",
   "execution_count": 118,
   "metadata": {
    "ExecuteTime": {
     "end_time": "2021-06-25T12:16:38.244238Z",
     "start_time": "2021-06-25T12:16:38.238090Z"
    }
   },
   "outputs": [
    {
     "data": {
      "text/plain": [
       "array(['Coat'], dtype='<U11')"
      ]
     },
     "execution_count": 118,
     "metadata": {},
     "output_type": "execute_result"
    }
   ],
   "source": [
    "np.array(class_names)[y_pred_mc_cnn_instance]"
   ]
  },
  {
   "cell_type": "markdown",
   "metadata": {},
   "source": [
    "Stack the probabilities for all the instances"
   ]
  },
  {
   "cell_type": "code",
   "execution_count": 119,
   "metadata": {
    "ExecuteTime": {
     "end_time": "2021-06-25T12:20:16.891474Z",
     "start_time": "2021-06-25T12:16:38.245276Z"
    }
   },
   "outputs": [
    {
     "data": {
      "application/vnd.jupyter.widget-view+json": {
       "model_id": "7fda0b9b92ea49a7927e8ca46caf8cef",
       "version_major": 2,
       "version_minor": 0
      },
      "text/plain": [
       "HBox(children=(FloatProgress(value=0.0), HTML(value='')))"
      ]
     },
     "metadata": {},
     "output_type": "display_data"
    },
    {
     "name": "stdout",
     "output_type": "stream",
     "text": [
      "\n"
     ]
    }
   ],
   "source": [
    "y_probas = np.stack([model_mc_cnn(X_test_normalized_cnn) for sample in tqdm(range(100))])"
   ]
  },
  {
   "cell_type": "markdown",
   "metadata": {},
   "source": [
    "Compute the mean and std for the instances' probability estimates"
   ]
  },
  {
   "cell_type": "code",
   "execution_count": 120,
   "metadata": {
    "ExecuteTime": {
     "end_time": "2021-06-25T12:20:16.901130Z",
     "start_time": "2021-06-25T12:20:16.893480Z"
    }
   },
   "outputs": [],
   "source": [
    "y_proba = y_probas.mean(axis=0)"
   ]
  },
  {
   "cell_type": "code",
   "execution_count": 121,
   "metadata": {
    "ExecuteTime": {
     "end_time": "2021-06-25T12:20:16.925439Z",
     "start_time": "2021-06-25T12:20:16.902387Z"
    }
   },
   "outputs": [],
   "source": [
    "y_std = y_probas.std(axis=0)"
   ]
  },
  {
   "cell_type": "markdown",
   "metadata": {},
   "source": [
    "Show the probabilities for an instance (the same as above)"
   ]
  },
  {
   "cell_type": "code",
   "execution_count": 122,
   "metadata": {
    "ExecuteTime": {
     "end_time": "2021-06-25T12:20:16.930458Z",
     "start_time": "2021-06-25T12:20:16.926634Z"
    }
   },
   "outputs": [
    {
     "data": {
      "text/plain": [
       "array([[[0.  , 0.  , 0.03, 0.  , 0.91, 0.  , 0.06, 0.  , 0.  , 0.  ]],\n",
       "\n",
       "       [[0.  , 0.  , 0.02, 0.  , 0.9 , 0.  , 0.08, 0.  , 0.  , 0.  ]],\n",
       "\n",
       "       [[0.  , 0.  , 0.  , 0.  , 0.97, 0.  , 0.02, 0.  , 0.  , 0.  ]]],\n",
       "      dtype=float32)"
      ]
     },
     "execution_count": 122,
     "metadata": {},
     "output_type": "execute_result"
    }
   ],
   "source": [
    "np.round(y_probas[:, 10:11], 2)[:3]"
   ]
  },
  {
   "cell_type": "code",
   "execution_count": 123,
   "metadata": {
    "ExecuteTime": {
     "end_time": "2021-06-25T12:20:16.935550Z",
     "start_time": "2021-06-25T12:20:16.931467Z"
    }
   },
   "outputs": [
    {
     "name": "stdout",
     "output_type": "stream",
     "text": [
      "Shape of the 100 probability predictions for this instance: (100, 1, 10)\n"
     ]
    }
   ],
   "source": [
    "print(\"Shape of the 100 probability predictions for this instance:\", np.round(y_probas[:, 10:11], 2).shape)"
   ]
  },
  {
   "cell_type": "markdown",
   "metadata": {},
   "source": [
    "**Predict the class for this instance**\n",
    "\n",
    "This step is critical as it is also useful to know exactly which other classes it thinks are likely."
   ]
  },
  {
   "cell_type": "code",
   "execution_count": 124,
   "metadata": {
    "ExecuteTime": {
     "end_time": "2021-06-25T12:20:16.942298Z",
     "start_time": "2021-06-25T12:20:16.936597Z"
    }
   },
   "outputs": [
    {
     "data": {
      "text/plain": [
       "array([[0.  , 0.  , 0.02, 0.  , 0.9 , 0.  , 0.08, 0.  , 0.  , 0.  ]],\n",
       "      dtype=float32)"
      ]
     },
     "execution_count": 124,
     "metadata": {},
     "output_type": "execute_result"
    }
   ],
   "source": [
    "np.round(y_proba[10:11], 2)"
   ]
  },
  {
   "cell_type": "markdown",
   "metadata": {},
   "source": [
    "Take a look at the standard deviation of the probability estimates for this istance"
   ]
  },
  {
   "cell_type": "code",
   "execution_count": 125,
   "metadata": {
    "ExecuteTime": {
     "end_time": "2021-06-25T12:20:16.952321Z",
     "start_time": "2021-06-25T12:20:16.943974Z"
    }
   },
   "outputs": [
    {
     "data": {
      "text/plain": [
       "array([[0.  , 0.  , 0.03, 0.  , 0.09, 0.  , 0.08, 0.  , 0.  , 0.  ]],\n",
       "      dtype=float32)"
      ]
     },
     "execution_count": 125,
     "metadata": {},
     "output_type": "execute_result"
    }
   ],
   "source": [
    "np.round(y_std[10:11], 2)"
   ]
  },
  {
   "cell_type": "markdown",
   "metadata": {},
   "source": [
    "Hold the predicted classes by return the maximum value from each probability estimate"
   ]
  },
  {
   "cell_type": "code",
   "execution_count": 126,
   "metadata": {
    "ExecuteTime": {
     "end_time": "2021-06-25T12:20:16.957831Z",
     "start_time": "2021-06-25T12:20:16.953582Z"
    }
   },
   "outputs": [],
   "source": [
    "y_pred = np.argmax(y_proba, axis=1)"
   ]
  },
  {
   "cell_type": "markdown",
   "metadata": {},
   "source": [
    "**Model's accuracy is now improved**"
   ]
  },
  {
   "cell_type": "code",
   "execution_count": 127,
   "metadata": {
    "ExecuteTime": {
     "end_time": "2021-06-25T12:20:16.962665Z",
     "start_time": "2021-06-25T12:20:16.959097Z"
    },
    "scrolled": true
   },
   "outputs": [
    {
     "data": {
      "text/plain": [
       "0.9091"
      ]
     },
     "execution_count": 127,
     "metadata": {},
     "output_type": "execute_result"
    }
   ],
   "source": [
    "accuracy = np.sum(y_pred == y_test) / len(y_test)\n",
    "accuracy"
   ]
  },
  {
   "cell_type": "markdown",
   "metadata": {},
   "source": []
  },
  {
   "cell_type": "code",
   "execution_count": null,
   "metadata": {},
   "outputs": [],
   "source": []
  },
  {
   "cell_type": "markdown",
   "metadata": {},
   "source": [
    "## Make prediction for  single instances"
   ]
  },
  {
   "cell_type": "markdown",
   "metadata": {},
   "source": [
    "### Instance 01"
   ]
  },
  {
   "cell_type": "code",
   "execution_count": 47,
   "metadata": {
    "ExecuteTime": {
     "end_time": "2021-06-25T11:49:46.284800Z",
     "start_time": "2021-06-25T11:49:46.215295Z"
    }
   },
   "outputs": [
    {
     "data": {
      "image/png": "[encoded data removed]",
      "text/plain": [
       "<Figure size 432x288 with 1 Axes>"
      ]
     },
     "metadata": {
      "needs_background": "light"
     },
     "output_type": "display_data"
    }
   ],
   "source": [
    "plt.imshow(X_test_normalized[0], cmap=\"binary\")\n",
    "plt.axis('off')\n",
    "plt.show()"
   ]
  },
  {
   "cell_type": "code",
   "execution_count": 147,
   "metadata": {
    "ExecuteTime": {
     "end_time": "2021-06-25T14:22:48.802171Z",
     "start_time": "2021-06-25T14:22:48.798914Z"
    }
   },
   "outputs": [
    {
     "data": {
      "text/plain": [
       "'Ankle boot'"
      ]
     },
     "execution_count": 147,
     "metadata": {},
     "output_type": "execute_result"
    }
   ],
   "source": [
    "class_names[y_test[00]]"
   ]
  },
  {
   "cell_type": "markdown",
   "metadata": {},
   "source": [
    "#### Simple Model"
   ]
  },
  {
   "cell_type": "code",
   "execution_count": 48,
   "metadata": {
    "ExecuteTime": {
     "end_time": "2021-06-25T11:49:46.329922Z",
     "start_time": "2021-06-25T11:49:46.286172Z"
    }
   },
   "outputs": [
    {
     "data": {
      "text/plain": [
       "array([[0., 0., 0., 0., 0., 0., 0., 0., 0., 1.]], dtype=float32)"
      ]
     },
     "execution_count": 48,
     "metadata": {},
     "output_type": "execute_result"
    }
   ],
   "source": [
    "y_proba_softmax = model.predict(X_test_normalized[0:1])\n",
    "y_proba_softmax.round(2)"
   ]
  },
  {
   "cell_type": "code",
   "execution_count": 49,
   "metadata": {
    "ExecuteTime": {
     "end_time": "2021-06-25T11:49:46.365721Z",
     "start_time": "2021-06-25T11:49:46.331206Z"
    },
    "scrolled": true
   },
   "outputs": [
    {
     "data": {
      "text/plain": [
       "array([9])"
      ]
     },
     "execution_count": 49,
     "metadata": {},
     "output_type": "execute_result"
    }
   ],
   "source": [
    "y_pred = np.argmax(model.predict(X_test_normalized[0:1]), axis=-1)\n",
    "y_pred"
   ]
  },
  {
   "cell_type": "code",
   "execution_count": 50,
   "metadata": {
    "ExecuteTime": {
     "end_time": "2021-06-25T11:49:46.371392Z",
     "start_time": "2021-06-25T11:49:46.367254Z"
    }
   },
   "outputs": [
    {
     "data": {
      "text/plain": [
       "array(['Ankle boot'], dtype='<U11')"
      ]
     },
     "execution_count": 50,
     "metadata": {},
     "output_type": "execute_result"
    }
   ],
   "source": [
    "np.array(class_names)[y_pred]"
   ]
  },
  {
   "cell_type": "markdown",
   "metadata": {},
   "source": [
    "### Instance 02"
   ]
  },
  {
   "cell_type": "code",
   "execution_count": 51,
   "metadata": {
    "ExecuteTime": {
     "end_time": "2021-06-25T11:49:46.452598Z",
     "start_time": "2021-06-25T11:49:46.372988Z"
    }
   },
   "outputs": [
    {
     "data": {
      "image/png": "[encoded data removed]",
      "text/plain": [
       "<Figure size 432x288 with 1 Axes>"
      ]
     },
     "metadata": {
      "needs_background": "light"
     },
     "output_type": "display_data"
    }
   ],
   "source": [
    "plt.imshow(X_test_normalized[10], cmap=\"binary\")\n",
    "plt.axis('off')\n",
    "plt.show()"
   ]
  },
  {
   "cell_type": "code",
   "execution_count": 146,
   "metadata": {
    "ExecuteTime": {
     "end_time": "2021-06-25T14:22:13.984375Z",
     "start_time": "2021-06-25T14:22:13.980661Z"
    }
   },
   "outputs": [
    {
     "data": {
      "text/plain": [
       "'Coat'"
      ]
     },
     "execution_count": 146,
     "metadata": {},
     "output_type": "execute_result"
    }
   ],
   "source": [
    "class_names[y_test[10]]"
   ]
  },
  {
   "cell_type": "markdown",
   "metadata": {},
   "source": [
    "#### Simple Model"
   ]
  },
  {
   "cell_type": "code",
   "execution_count": 52,
   "metadata": {
    "ExecuteTime": {
     "end_time": "2021-06-25T11:49:46.487945Z",
     "start_time": "2021-06-25T11:49:46.454298Z"
    }
   },
   "outputs": [
    {
     "data": {
      "text/plain": [
       "array([[0.  , 0.  , 0.07, 0.  , 0.93, 0.  , 0.  , 0.  , 0.  , 0.  ]],\n",
       "      dtype=float32)"
      ]
     },
     "execution_count": 52,
     "metadata": {},
     "output_type": "execute_result"
    }
   ],
   "source": [
    "y_proba_softmax = model.predict(X_test_normalized[10:11])\n",
    "y_proba_softmax.round(2)"
   ]
  },
  {
   "cell_type": "code",
   "execution_count": 53,
   "metadata": {
    "ExecuteTime": {
     "end_time": "2021-06-25T11:49:46.525384Z",
     "start_time": "2021-06-25T11:49:46.489512Z"
    }
   },
   "outputs": [
    {
     "data": {
      "text/plain": [
       "array([4])"
      ]
     },
     "execution_count": 53,
     "metadata": {},
     "output_type": "execute_result"
    }
   ],
   "source": [
    "y_pred = np.argmax(model.predict(X_test_normalized[10:11]), axis=-1)\n",
    "y_pred"
   ]
  },
  {
   "cell_type": "code",
   "execution_count": 54,
   "metadata": {
    "ExecuteTime": {
     "end_time": "2021-06-25T11:49:46.529772Z",
     "start_time": "2021-06-25T11:49:46.526625Z"
    }
   },
   "outputs": [
    {
     "data": {
      "text/plain": [
       "array(['Coat'], dtype='<U11')"
      ]
     },
     "execution_count": 54,
     "metadata": {},
     "output_type": "execute_result"
    }
   ],
   "source": [
    "np.array(class_names)[y_pred]"
   ]
  },
  {
   "cell_type": "code",
   "execution_count": null,
   "metadata": {},
   "outputs": [],
   "source": []
  },
  {
   "cell_type": "markdown",
   "metadata": {},
   "source": [
    "## Make a prediction for a batch of instances"
   ]
  },
  {
   "cell_type": "code",
   "execution_count": 148,
   "metadata": {
    "ExecuteTime": {
     "end_time": "2021-06-25T14:26:25.526157Z",
     "start_time": "2021-06-25T14:26:25.523167Z"
    }
   },
   "outputs": [
    {
     "data": {
      "text/plain": [
       "['T-shirt/top',\n",
       " 'Trouser',\n",
       " 'Pullover',\n",
       " 'Dress',\n",
       " 'Coat',\n",
       " 'Sandal',\n",
       " 'Shirt',\n",
       " 'Sneaker',\n",
       " 'Bag',\n",
       " 'Ankle boot']"
      ]
     },
     "execution_count": 148,
     "metadata": {},
     "output_type": "execute_result"
    }
   ],
   "source": [
    "class_names"
   ]
  },
  {
   "cell_type": "code",
   "execution_count": 149,
   "metadata": {
    "ExecuteTime": {
     "end_time": "2021-06-25T14:27:04.498298Z",
     "start_time": "2021-06-25T14:27:04.493768Z"
    }
   },
   "outputs": [
    {
     "data": {
      "text/plain": [
       "array([0, 1, 2, 3, 4, 5, 6, 7, 8, 9], dtype=uint8)"
      ]
     },
     "execution_count": 149,
     "metadata": {},
     "output_type": "execute_result"
    }
   ],
   "source": [
    "np.unique(y_train)"
   ]
  },
  {
   "cell_type": "code",
   "execution_count": 55,
   "metadata": {
    "ExecuteTime": {
     "end_time": "2021-06-25T11:49:46.534928Z",
     "start_time": "2021-06-25T11:49:46.531494Z"
    }
   },
   "outputs": [
    {
     "data": {
      "text/plain": [
       "[3, 4, 5, 6]"
      ]
     },
     "execution_count": 55,
     "metadata": {},
     "output_type": "execute_result"
    }
   ],
   "source": [
    "test_indices = range(3,7)\n",
    "list(test_indices)"
   ]
  },
  {
   "cell_type": "code",
   "execution_count": 56,
   "metadata": {
    "ExecuteTime": {
     "end_time": "2021-06-25T11:49:46.713315Z",
     "start_time": "2021-06-25T11:49:46.536648Z"
    }
   },
   "outputs": [
    {
     "data": {
      "image/png": "[encoded data removed]",
      "text/plain": [
       "<Figure size 518.4x172.8 with 4 Axes>"
      ]
     },
     "metadata": {
      "needs_background": "light"
     },
     "output_type": "display_data"
    }
   ],
   "source": [
    "plt.figure(figsize=(7.2, 2.4))\n",
    "for index, image_number in enumerate(list(test_indices)):\n",
    "    plt.subplot(1, 4, index + 1)\n",
    "    plt.imshow(X_test_normalized[image_number], cmap=\"binary\", interpolation=\"nearest\")\n",
    "    plt.axis('off')\n",
    "    plt.title(class_names[y_test[image_number]], fontsize=12)\n",
    "plt.subplots_adjust(wspace=0.2, hspace=0.5)\n",
    "plt.show()"
   ]
  },
  {
   "cell_type": "code",
   "execution_count": 57,
   "metadata": {
    "ExecuteTime": {
     "end_time": "2021-06-25T11:49:46.718701Z",
     "start_time": "2021-06-25T11:49:46.714848Z"
    }
   },
   "outputs": [
    {
     "data": {
      "text/plain": [
       "array([1, 6, 1, 4], dtype=uint8)"
      ]
     },
     "execution_count": 57,
     "metadata": {},
     "output_type": "execute_result"
    }
   ],
   "source": [
    "y_test[3:7]"
   ]
  },
  {
   "cell_type": "markdown",
   "metadata": {},
   "source": [
    "### Simple model"
   ]
  },
  {
   "cell_type": "code",
   "execution_count": 58,
   "metadata": {
    "ExecuteTime": {
     "end_time": "2021-06-25T11:49:46.755001Z",
     "start_time": "2021-06-25T11:49:46.720232Z"
    }
   },
   "outputs": [
    {
     "data": {
      "text/plain": [
       "array([[0.  , 1.  , 0.  , 0.  , 0.  , 0.  , 0.  , 0.  , 0.  , 0.  ],\n",
       "       [0.06, 0.  , 0.  , 0.  , 0.  , 0.  , 0.94, 0.  , 0.  , 0.  ],\n",
       "       [0.  , 1.  , 0.  , 0.  , 0.  , 0.  , 0.  , 0.  , 0.  , 0.  ],\n",
       "       [0.  , 0.  , 0.  , 0.  , 1.  , 0.  , 0.  , 0.  , 0.  , 0.  ]],\n",
       "      dtype=float32)"
      ]
     },
     "execution_count": 58,
     "metadata": {},
     "output_type": "execute_result"
    }
   ],
   "source": [
    "y_proba_softmax = model.predict(X_test_normalized[3:7])\n",
    "y_proba_softmax.round(2)"
   ]
  },
  {
   "cell_type": "code",
   "execution_count": 59,
   "metadata": {
    "ExecuteTime": {
     "end_time": "2021-06-25T11:49:46.789122Z",
     "start_time": "2021-06-25T11:49:46.756380Z"
    }
   },
   "outputs": [
    {
     "data": {
      "text/plain": [
       "array([1, 6, 1, 4])"
      ]
     },
     "execution_count": 59,
     "metadata": {},
     "output_type": "execute_result"
    }
   ],
   "source": [
    "y_pred = np.argmax(model.predict(X_test_normalized[3:7]), axis=-1)\n",
    "y_pred"
   ]
  },
  {
   "cell_type": "code",
   "execution_count": 60,
   "metadata": {
    "ExecuteTime": {
     "end_time": "2021-06-25T11:49:46.794076Z",
     "start_time": "2021-06-25T11:49:46.790598Z"
    }
   },
   "outputs": [
    {
     "data": {
      "text/plain": [
       "array(['Trouser', 'Shirt', 'Trouser', 'Coat'], dtype='<U11')"
      ]
     },
     "execution_count": 60,
     "metadata": {},
     "output_type": "execute_result"
    }
   ],
   "source": [
    "np.array(class_names)[y_pred]"
   ]
  },
  {
   "cell_type": "code",
   "execution_count": null,
   "metadata": {},
   "outputs": [],
   "source": []
  },
  {
   "cell_type": "markdown",
   "metadata": {},
   "source": [
    "## Load MNIST with digits"
   ]
  },
  {
   "cell_type": "code",
   "execution_count": 128,
   "metadata": {
    "ExecuteTime": {
     "end_time": "2021-06-25T12:20:16.967370Z",
     "start_time": "2021-06-25T12:20:16.963782Z"
    }
   },
   "outputs": [],
   "source": [
    "digits_mnist = keras.datasets.mnist"
   ]
  },
  {
   "cell_type": "code",
   "execution_count": 129,
   "metadata": {
    "ExecuteTime": {
     "end_time": "2021-06-25T12:20:17.196708Z",
     "start_time": "2021-06-25T12:20:16.968667Z"
    }
   },
   "outputs": [],
   "source": [
    "(X_train_digits, y_train_digits), (X_test_digits, y_test_digits) = digits_mnist.load_data()"
   ]
  },
  {
   "cell_type": "code",
   "execution_count": 130,
   "metadata": {
    "ExecuteTime": {
     "end_time": "2021-06-25T12:20:17.202253Z",
     "start_time": "2021-06-25T12:20:17.198121Z"
    }
   },
   "outputs": [
    {
     "name": "stdout",
     "output_type": "stream",
     "text": [
      "Digits - X train shape: (60000, 28, 28)\n",
      "Digits - X test shape: (10000, 28, 28)\n",
      "Digits - y train shape: (10000, 28, 28)\n",
      "Digits - y test shape: (10000,)\n"
     ]
    }
   ],
   "source": [
    "print(\"Digits - X train shape:\", X_train_digits.shape)\n",
    "print(\"Digits - X test shape:\", X_test_digits.shape)\n",
    "print(\"Digits - y train shape:\", X_test_digits.shape)\n",
    "print(\"Digits - y test shape:\", y_test_digits.shape)"
   ]
  },
  {
   "cell_type": "code",
   "execution_count": 131,
   "metadata": {
    "ExecuteTime": {
     "end_time": "2021-06-25T12:20:17.334182Z",
     "start_time": "2021-06-25T12:20:17.203547Z"
    }
   },
   "outputs": [],
   "source": [
    "X_train_digits_nrm = normalize_pics(X_train_digits)\n",
    "X_test_digits_nrm = normalize_pics(X_test_digits)"
   ]
  },
  {
   "cell_type": "code",
   "execution_count": 132,
   "metadata": {
    "ExecuteTime": {
     "end_time": "2021-06-25T12:20:17.348669Z",
     "start_time": "2021-06-25T12:20:17.336611Z"
    }
   },
   "outputs": [
    {
     "name": "stdout",
     "output_type": "stream",
     "text": [
      "Digits - X train normalized shape: (60000, 28, 28)\n",
      "Digits - X test normalized shape: (10000, 28, 28)\n",
      "Digits - X test max normalized value: 1.0\n",
      "Digits - X test min normalized value: 0.0\n"
     ]
    }
   ],
   "source": [
    "print(\"Digits - X train normalized shape:\", X_train_digits_nrm.shape)\n",
    "print(\"Digits - X test normalized shape:\", X_test_digits_nrm.shape)\n",
    "print(\"Digits - X test max normalized value:\", X_test_digits_nrm.max())\n",
    "print(\"Digits - X test min normalized value:\", X_test_digits_nrm.min())"
   ]
  },
  {
   "cell_type": "code",
   "execution_count": 133,
   "metadata": {
    "ExecuteTime": {
     "end_time": "2021-06-25T12:20:17.352258Z",
     "start_time": "2021-06-25T12:20:17.349810Z"
    }
   },
   "outputs": [],
   "source": [
    "X_train_digits_nrm_cnn = X_train_digits_nrm[..., np.newaxis]\n",
    "X_test_digits_nrm_cnn = X_test_digits_nrm[..., np.newaxis]"
   ]
  },
  {
   "cell_type": "code",
   "execution_count": 135,
   "metadata": {
    "ExecuteTime": {
     "end_time": "2021-06-25T12:20:32.726666Z",
     "start_time": "2021-06-25T12:20:32.722936Z"
    }
   },
   "outputs": [
    {
     "name": "stdout",
     "output_type": "stream",
     "text": [
      "Shape of digit instance (28, 28)\n",
      "label: 7\n"
     ]
    }
   ],
   "source": [
    "X_test_digits_nrm_instance = np.squeeze(X_test_digits_nrm_cnn[0])\n",
    "print(\"Shape of digit instance\", X_test_normalized_instance.shape)\n",
    "print(\"label:\", y_test_digits[0])"
   ]
  },
  {
   "cell_type": "code",
   "execution_count": 136,
   "metadata": {
    "ExecuteTime": {
     "end_time": "2021-06-25T12:20:38.392510Z",
     "start_time": "2021-06-25T12:20:38.338494Z"
    }
   },
   "outputs": [
    {
     "data": {
      "image/png": "[encoded data removed]",
      "text/plain": [
       "<Figure size 432x288 with 1 Axes>"
      ]
     },
     "metadata": {
      "needs_background": "light"
     },
     "output_type": "display_data"
    }
   ],
   "source": [
    "plt.imshow(X_test_digits_nrm_instance, cmap=\"binary\")\n",
    "plt.axis('off')\n",
    "plt.show()"
   ]
  },
  {
   "cell_type": "code",
   "execution_count": 138,
   "metadata": {
    "ExecuteTime": {
     "end_time": "2021-06-25T12:20:51.947583Z",
     "start_time": "2021-06-25T12:20:49.191269Z"
    }
   },
   "outputs": [
    {
     "data": {
      "application/vnd.jupyter.widget-view+json": {
       "model_id": "",
       "version_major": 2,
       "version_minor": 0
      },
      "text/plain": [
       "HBox(children=(FloatProgress(value=0.0), HTML(value='')))"
      ]
     },
     "metadata": {},
     "output_type": "display_data"
    },
    {
     "name": "stdout",
     "output_type": "stream",
     "text": [
      "\n",
      "[[0.21 0.   0.   0.01 0.   0.47 0.02 0.   0.24 0.03]]\n"
     ]
    }
   ],
   "source": [
    "y_pred_mc_cnn_digit = np.round(np.mean([model_mc_cnn.predict(X_test_digits_nrm_cnn[0:1]) \n",
    "                                  for sample in tqdm(range(100))], axis=0), 2)\n",
    "print(y_pred_mc_cnn_digit)"
   ]
  },
  {
   "cell_type": "code",
   "execution_count": null,
   "metadata": {},
   "outputs": [],
   "source": []
  },
  {
   "cell_type": "code",
   "execution_count": 139,
   "metadata": {
    "ExecuteTime": {
     "end_time": "2021-06-25T12:23:48.680890Z",
     "start_time": "2021-06-25T12:23:48.677480Z"
    }
   },
   "outputs": [
    {
     "name": "stdout",
     "output_type": "stream",
     "text": [
      "Shape of digit instance (28, 28)\n",
      "label: 2\n"
     ]
    }
   ],
   "source": [
    "X_test_digits_nrm_instance = np.squeeze(X_test_digits_nrm_cnn[1])\n",
    "print(\"Shape of digit instance\", X_test_normalized_instance.shape)\n",
    "print(\"label:\", y_test_digits[1])"
   ]
  },
  {
   "cell_type": "code",
   "execution_count": 140,
   "metadata": {
    "ExecuteTime": {
     "end_time": "2021-06-25T12:23:53.203393Z",
     "start_time": "2021-06-25T12:23:53.121355Z"
    }
   },
   "outputs": [
    {
     "data": {
      "image/png": "[encoded data removed]",
      "text/plain": [
       "<Figure size 432x288 with 1 Axes>"
      ]
     },
     "metadata": {
      "needs_background": "light"
     },
     "output_type": "display_data"
    }
   ],
   "source": [
    "plt.imshow(X_test_digits_nrm_instance, cmap=\"binary\")\n",
    "plt.axis('off')\n",
    "plt.show()"
   ]
  },
  {
   "cell_type": "code",
   "execution_count": 141,
   "metadata": {
    "ExecuteTime": {
     "end_time": "2021-06-25T12:23:58.548536Z",
     "start_time": "2021-06-25T12:23:55.748378Z"
    }
   },
   "outputs": [
    {
     "data": {
      "application/vnd.jupyter.widget-view+json": {
       "model_id": "3c115a51c1654aa6b512e29a88037c21",
       "version_major": 2,
       "version_minor": 0
      },
      "text/plain": [
       "HBox(children=(FloatProgress(value=0.0), HTML(value='')))"
      ]
     },
     "metadata": {},
     "output_type": "display_data"
    },
    {
     "name": "stdout",
     "output_type": "stream",
     "text": [
      "\n",
      "[[0.15 0.02 0.2  0.02 0.1  0.07 0.01 0.1  0.31 0.03]]\n"
     ]
    }
   ],
   "source": [
    "y_pred_mc_cnn_digit = np.round(np.mean([model_mc_cnn.predict(X_test_digits_nrm_cnn[1:2]) \n",
    "                                  for sample in tqdm(range(100))], axis=0), 2)\n",
    "print(y_pred_mc_cnn_digit)"
   ]
  },
  {
   "cell_type": "code",
   "execution_count": null,
   "metadata": {},
   "outputs": [],
   "source": []
  },
  {
   "cell_type": "code",
   "execution_count": 142,
   "metadata": {
    "ExecuteTime": {
     "end_time": "2021-06-25T12:23:48.680890Z",
     "start_time": "2021-06-25T12:23:48.677480Z"
    }
   },
   "outputs": [
    {
     "name": "stdout",
     "output_type": "stream",
     "text": [
      "Shape of digit instance (28, 28)\n",
      "label: 1\n"
     ]
    }
   ],
   "source": [
    "X_test_digits_nrm_instance = np.squeeze(X_test_digits_nrm_cnn[2])\n",
    "print(\"Shape of digit instance\", X_test_normalized_instance.shape)\n",
    "print(\"label:\", y_test_digits[2])"
   ]
  },
  {
   "cell_type": "code",
   "execution_count": 143,
   "metadata": {
    "ExecuteTime": {
     "end_time": "2021-06-25T12:23:53.203393Z",
     "start_time": "2021-06-25T12:23:53.121355Z"
    }
   },
   "outputs": [
    {
     "data": {
      "image/png": "[encoded data removed]",
      "text/plain": [
       "<Figure size 432x288 with 1 Axes>"
      ]
     },
     "metadata": {
      "needs_background": "light"
     },
     "output_type": "display_data"
    }
   ],
   "source": [
    "plt.imshow(X_test_digits_nrm_instance, cmap=\"binary\")\n",
    "plt.axis('off')\n",
    "plt.show()"
   ]
  },
  {
   "cell_type": "code",
   "execution_count": 144,
   "metadata": {
    "ExecuteTime": {
     "end_time": "2021-06-25T12:23:58.548536Z",
     "start_time": "2021-06-25T12:23:55.748378Z"
    }
   },
   "outputs": [
    {
     "data": {
      "application/vnd.jupyter.widget-view+json": {
       "model_id": "66044c8647ec47bc8c1560e2edc98089",
       "version_major": 2,
       "version_minor": 0
      },
      "text/plain": [
       "HBox(children=(FloatProgress(value=0.0), HTML(value='')))"
      ]
     },
     "metadata": {},
     "output_type": "display_data"
    },
    {
     "name": "stdout",
     "output_type": "stream",
     "text": [
      "\n",
      "[[0.05 0.26 0.   0.06 0.01 0.11 0.11 0.31 0.05 0.04]]\n"
     ]
    }
   ],
   "source": [
    "y_pred_mc_cnn_digit = np.round(np.mean([model_mc_cnn.predict(X_test_digits_nrm_cnn[2:3]) \n",
    "                                  for sample in tqdm(range(100))], axis=0), 2)\n",
    "print(y_pred_mc_cnn_digit)"
   ]
  },
  {
   "cell_type": "code",
   "execution_count": null,
   "metadata": {},
   "outputs": [],
   "source": []
  }
 ],
 "metadata": {
  "kernelspec": {
   "display_name": "Python 3",
   "language": "python",
   "name": "python3"
  },
  "language_info": {
   "codemirror_mode": {
    "name": "ipython",
    "version": 3
   },
   "file_extension": ".py",
   "mimetype": "text/x-python",
   "name": "python",
   "nbconvert_exporter": "python",
   "pygments_lexer": "ipython3",
   "version": "3.7.6"
  },
  "toc": {
   "base_numbering": 1,
   "nav_menu": {},
   "number_sections": true,
   "sideBar": true,
   "skip_h1_title": false,
   "title_cell": "Table of Contents",
   "title_sidebar": "Contents",
   "toc_cell": false,
   "toc_position": {},
   "toc_section_display": true,
   "toc_window_display": false
  }
 },
 "nbformat": 4,
 "nbformat_minor": 4
}
