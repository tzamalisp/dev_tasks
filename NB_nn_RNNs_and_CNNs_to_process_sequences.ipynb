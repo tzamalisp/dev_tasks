{
 "cells": [
  {
   "cell_type": "markdown",
   "metadata": {},
   "source": [
    "### Load necessary functions"
   ]
  },
  {
   "cell_type": "code",
   "execution_count": 1,
   "metadata": {
    "ExecuteTime": {
     "end_time": "2021-04-22T14:59:11.258345Z",
     "start_time": "2021-04-22T14:59:11.253766Z"
    }
   },
   "outputs": [],
   "source": [
    "from utils.system_checkers import check_system_compatibility"
   ]
  },
  {
   "cell_type": "code",
   "execution_count": 2,
   "metadata": {
    "ExecuteTime": {
     "end_time": "2021-04-22T14:59:15.099799Z",
     "start_time": "2021-04-22T14:59:11.261465Z"
    }
   },
   "outputs": [
    {
     "name": "stdout",
     "output_type": "stream",
     "text": [
      ">> Python is compatible.\n",
      ">> scikit-learn is compatible.\n",
      ">> No GPU is detected. LSTMs and CNNs can be very slow without a GPU. A GPU usage is recommended.\n",
      ">> TensorFlow is compatible.\n"
     ]
    }
   ],
   "source": [
    "check_system_compatibility()"
   ]
  },
  {
   "cell_type": "markdown",
   "metadata": {},
   "source": [
    "### Load configuration"
   ]
  },
  {
   "cell_type": "code",
   "execution_count": 3,
   "metadata": {
    "ExecuteTime": {
     "end_time": "2021-04-22T14:59:15.110133Z",
     "start_time": "2021-04-22T14:59:15.103022Z"
    }
   },
   "outputs": [],
   "source": [
    "from project_configuration.configuration import load_yaml, save_paths"
   ]
  },
  {
   "cell_type": "code",
   "execution_count": 4,
   "metadata": {
    "ExecuteTime": {
     "end_time": "2021-04-22T14:59:15.116594Z",
     "start_time": "2021-04-22T14:59:15.112224Z"
    }
   },
   "outputs": [],
   "source": [
    "# config data (dictionary)\n",
    "config = load_yaml()"
   ]
  },
  {
   "cell_type": "code",
   "execution_count": 5,
   "metadata": {
    "ExecuteTime": {
     "end_time": "2021-04-22T14:59:15.122373Z",
     "start_time": "2021-04-22T14:59:15.118575Z"
    }
   },
   "outputs": [],
   "source": [
    "# saving paths\n",
    "saving_paths  = save_paths(config, \"Notebooks/nn_rnns_cnns_to_process_sequences\")"
   ]
  }
 ],
 "metadata": {
  "kernelspec": {
   "display_name": "Python 3",
   "language": "python",
   "name": "python3"
  },
  "language_info": {
   "codemirror_mode": {
    "name": "ipython",
    "version": 3
   },
   "file_extension": ".py",
   "mimetype": "text/x-python",
   "name": "python",
   "nbconvert_exporter": "python",
   "pygments_lexer": "ipython3",
   "version": "3.7.6"
  },
  "toc": {
   "base_numbering": 1,
   "nav_menu": {},
   "number_sections": true,
   "sideBar": true,
   "skip_h1_title": false,
   "title_cell": "Table of Contents",
   "title_sidebar": "Contents",
   "toc_cell": false,
   "toc_position": {},
   "toc_section_display": true,
   "toc_window_display": false
  }
 },
 "nbformat": 4,
 "nbformat_minor": 4
}
